{
 "cells": [
  {
   "cell_type": "code",
   "execution_count": 2,
   "id": "09085b03",
   "metadata": {},
   "outputs": [],
   "source": [
    "import json\n",
    "from datetime import datetime\n",
    "import sys\n",
    "import os\n",
    "import mlflow\n",
    "import numpy as np\n",
    "import pandas as pd\n",
    "from dotenv import load_dotenv\n",
    "from etl import EDAdataset\n",
    "sys.path.append(os.path.abspath('..'))  # Ajusta la ruta según la ubicación de 'src'\n",
    "from utils.conexion import SQLConnection\n",
    "from feature_engineer import PreprocesadorTexto\n",
    "from prefect import flow, get_run_logger, task\n",
    "from prefect.artifacts import create_markdown_artifact, create_table_artifact\n",
    "from sklearn.ensemble import RandomForestClassifier\n",
    "from sklearn.linear_model import LogisticRegression\n",
    "from sklearn.metrics import (accuracy_score, f1_score, precision_score,\n",
    "                             recall_score)\n",
    "from train_with_mlflow_optuna import TrainMlflowOptuna"
   ]
  },
  {
   "cell_type": "code",
   "execution_count": 3,
   "id": "00dfcc68",
   "metadata": {},
   "outputs": [],
   "source": [
    "@task(name=\"etl_dataset\", retries=2, retry_delay_seconds=10)\n",
    "def task_generate_data(nregistros: int = 10000, db_server=os.getenv(\"DB_SERVER\"), \n",
    "                       db_name=os.getenv(\"DB_NAME\"),\n",
    "                       db_driver=os.getenv(\"DB_DRIVER\"),\n",
    "                       params = {\"medico\": \"PSICOLOGÍA\",\"fechaini\": \"20230101\",\"fechafin\": \"20250504\"}, \n",
    "                       sql_path = os.path.join(\"..\", \"..\", \"sql_queries\", \"queries.sql\")) -> pd.DataFrame:\n",
    "    \"\"\"\n",
    "    Generate synthetic user data for training.\n",
    "    \n",
    "    Args:\n",
    "        nregistros: Number of registros to generate\n",
    "        \n",
    "    Returns:\n",
    "        Generated dataframe\n",
    "    \"\"\"\n",
    "    logger = get_run_logger()\n",
    "    logger.info(f\"Generating {nregistros} registros...\")\n",
    "    \n",
    "    # Generate data\n",
    "    load_dotenv()\n",
    "    db_server=os.getenv(\"DB_SERVER\")\n",
    "    db_name=os.getenv(\"DB_NAME\")\n",
    "    db_driver=os.getenv(\"DB_DRIVER\")\n",
    "    sqlconection = SQLConnection(sql_path=sql_path, db_server=db_server, db_name=db_name, db_driver=db_driver, params=params)\n",
    "    df_conexion = sqlconection.generate_dataframe(nregistros)\n",
    "    df_eda = EDAdataset(df_conexion)\n",
    "    df = df_eda.dataset_eda(df_conexion)\n",
    "    \n",
    "    # Create summary artifact\n",
    "    summary_df = pd.DataFrame({\n",
    "        'Metric': ['Total Samples', 'Total Features', 'Missing Values'],\n",
    "        'Value': [\n",
    "            len(df),\n",
    "            len(df.columns),\n",
    "            df.isnull().sum().sum()\n",
    "        ]\n",
    "    })\n",
    "    \n",
    "    create_table_artifact(\n",
    "        key=\"etl-dataframe-summary\",\n",
    "        table=summary_df.to_dict(orient='records'),\n",
    "        description=f\"ETL Data Generation Summary - {datetime.now().strftime('%Y-%m-%d %H:%M:%S')}\"\n",
    "    )\n",
    "    \n",
    "    logger.info(f\"Generated {len(df)} samples with {len(df.columns)} columns\")\n",
    "    return df\n",
    "\n",
    "\n",
    "@task(name=\"Feature_Engineering\", retries=2, retry_delay_seconds=10)\n",
    "def task_feature_engineering(df, stopwords={\n",
    "            \"medico\", \"paciente\", \"psicologo\", \"psicologa\",\n",
    "            \"psicologia\", \"psicoterapeuta\", \"psicoterapia\", \"refiere\"\n",
    "        }, columna_texto=\"concatenada\", columna_sexo=\"sexo\", columna_grupo=\"grupo\") -> pd.DataFrame:\n",
    "    \"\"\"\n",
    "    Apply feature engineering to the dataset.\n",
    "    \n",
    "    Args:\n",
    "        df: Input dataframe\n",
    "        \n",
    "    Returns:\n",
    "        Feature-engineered dataframe\n",
    "    \"\"\"\n",
    "    logger = get_run_logger()\n",
    "    logger.info(\"Starting feature engineering...\")\n",
    "    \n",
    "    initial_columns = len(df.columns)\n",
    "    preprocesador = PreprocesadorTexto(df, stopwords=stopwords)\n",
    "    df_engineered, _ = preprocesador.procesar(columna_texto=columna_texto, columna_sexo=columna_sexo, columna_grupo=columna_grupo)\n",
    "    \n",
    "    # Convert concatenada column to string format (join tokens if it's a list)\n",
    "    if 'concatenada' in df_engineered.columns:\n",
    "        df_engineered['concatenada'] = df_engineered['concatenada'].apply(\n",
    "            lambda x: ' '.join(x) if isinstance(x, list) else str(x)\n",
    "        )\n",
    "    \n",
    "    # Create feature engineering summary\n",
    "    feature_summary = pd.DataFrame({\n",
    "        'Metric': ['Initial Features', 'Final Features', 'Features Added', 'Dataset Size'],\n",
    "        'Value': [\n",
    "            initial_columns,\n",
    "            len(df_engineered.columns),\n",
    "            len(df_engineered.columns) - initial_columns,\n",
    "            f\"{len(df_engineered)} rows\",\n",
    "        ]\n",
    "    })\n",
    "    \n",
    "    create_table_artifact(\n",
    "        key=\"feature-engineering-summary\",\n",
    "        table=feature_summary.to_dict(orient='records'),\n",
    "        description=\"Feature Engineering Summary\"\n",
    "    )\n",
    "    \n",
    "    logger.info(f\"Feature engineering complete: {initial_columns} -> {len(df_engineered.columns)} features\")\n",
    "    return df_engineered\n",
    "\n",
    "\n",
    "@task(name=\"Train_Model_Optuna\", retries=1, retry_delay_seconds=30)\n",
    "def task_train_with_optuna(\n",
    "    df: pd.DataFrame,\n",
    "    model_type: str = \"LogisticRegression\",\n",
    "    n_trials: int = 20,\n",
    "    optimization_metric: str = \"accuracy\"\n",
    ") -> tuple:\n",
    "    \"\"\"\n",
    "    Train model with Optuna hyperparameter optimization and MLflow tracking.\n",
    "    \n",
    "    Args:\n",
    "        df: Feature-engineered dataframe\n",
    "        model_type: Type of model to train ('LogisticRegression' or 'RandomForest')\n",
    "        n_trials: Number of Optuna trials\n",
    "        optimization_metric: Metric to optimize\n",
    "        \n",
    "    Returns:\n",
    "        Tuple of (best_pipeline, best_run_id, study, metrics_dict)\n",
    "    \"\"\"\n",
    "    logger = get_run_logger()\n",
    "    logger.info(f\"Starting Optuna optimization for {model_type} with {n_trials} trials...\")\n",
    "    \n",
    "    # Define Training Columns - For now, let's use only the text column to avoid the mixed feature issue\n",
    "    training_columns = [\"concatenada\"]\n",
    "    \n",
    "    # Define target column\n",
    "    target_column = 'grupo_codificado'\n",
    "    \n",
    "    # Define parameter distributions based on model type\n",
    "    if model_type == \"LogisticRegression\":\n",
    "        model_class = LogisticRegression\n",
    "        param_distributions = {\n",
    "            'C': ('float', 0.001, 100, True),\n",
    "            'penalty': ('categorical', ['l1', 'l2']),\n",
    "            'max_iter': ('int', 200, 2000),\n",
    "            'solver': ('categorical', ['liblinear', 'saga'])\n",
    "        }\n",
    "        fixed_params = {'random_state': 42}\n",
    "    elif model_type == \"RandomForest\":\n",
    "        model_class = RandomForestClassifier\n",
    "        param_distributions = {\n",
    "            'n_estimators': ('int', 50, 200),\n",
    "            'max_depth': ('int', 5, 30),\n",
    "            'min_samples_split': ('int', 2, 15),\n",
    "            'min_samples_leaf': ('int', 1, 10),\n",
    "            'max_features': ('categorical', ['sqrt', 'log2'])\n",
    "        }\n",
    "        fixed_params = {'random_state': 42, 'n_jobs': -1}\n",
    "    else:\n",
    "        raise ValueError(f\"Unknown model type: {model_type}\")\n",
    "    \n",
    "    # Set up MLflow\n",
    "    mlflow.set_experiment(f\"prefect_{model_type.lower()}_training\")\n",
    "    mlflow.sklearn.autolog()\n",
    "    \n",
    "    # Create trainer with only text columns\n",
    "    trainer = TrainMlflowOptuna(\n",
    "        df=df,\n",
    "        target_column=target_column,\n",
    "        model_class=model_class,\n",
    "        test_size=0.3,\n",
    "        n_trials=n_trials,\n",
    "        optimization_metric=optimization_metric,\n",
    "        param_distributions=param_distributions,\n",
    "        model_params=fixed_params,\n",
    "        training_columns=training_columns\n",
    "    )\n",
    "    \n",
    "    # Run optimization\n",
    "    best_pipeline, best_run_id, study = trainer.train()\n",
    "    \n",
    "    # Create Optuna trials table artifact\n",
    "    trials_data = []\n",
    "    for trial in study.trials:\n",
    "        trials_data.append({\n",
    "            'Trial': trial.number,\n",
    "            'Value': f\"{trial.value:.4f}\" if trial.value else \"Failed\",\n",
    "            'State': trial.state.name,\n",
    "            'Duration (s)': f\"{(trial.datetime_complete - trial.datetime_start).total_seconds():.2f}\" \n",
    "                           if trial.datetime_complete else \"N/A\",\n",
    "            'Parameters': json.dumps(trial.params, indent=2)[:100] + \"...\"  # Truncate for display\n",
    "        })\n",
    "    \n",
    "    trials_df = pd.DataFrame(trials_data)\n",
    "    \n",
    "    create_table_artifact(\n",
    "        key=\"optuna-trials-summary\",\n",
    "        table=trials_df.head(10).to_dict(orient='records'),  # Show top 10 trials\n",
    "        description=f\"Optuna Optimization Results - {model_type} - Best {optimization_metric}: {study.best_value:.4f}\"\n",
    "    )\n",
    "    \n",
    "    # Create best parameters artifact\n",
    "    best_params_df = pd.DataFrame([\n",
    "        {'Parameter': k, 'Value': v} for k, v in study.best_params.items()\n",
    "    ])\n",
    "    \n",
    "    create_table_artifact(\n",
    "        key=\"best-hyperparameters\",\n",
    "        table=best_params_df.to_dict(orient='records'),\n",
    "        description=f\"Best Hyperparameters for {model_type}\"\n",
    "    )\n",
    "    \n",
    "    # For simple validation metrics, let's use the test split that was already done by the trainer\n",
    "    # We'll calculate basic metrics using the training data split\n",
    "    X_train, X_test, y_train, y_test = trainer.train_test_split()\n",
    "    \n",
    "    # Get the vectorized data\n",
    "    X_train_vect, X_test_vect = trainer.vectorizer(X_train, X_test)\n",
    "    \n",
    "    # Use a small sample for validation - fix the sparse matrix length issue\n",
    "    sample_size = min(100, X_test_vect.shape[0])  # Use .shape[0] instead of len()\n",
    "    \n",
    "    # Get predictions on the vectorized test data (sample)\n",
    "    y_pred = best_pipeline.predict(X_test_vect[:sample_size])\n",
    "    y_true = y_test.iloc[:sample_size]\n",
    "    \n",
    "    metrics_dict = {\n",
    "        'accuracy': accuracy_score(y_true, y_pred),\n",
    "        'precision': precision_score(y_true, y_pred, average='weighted', zero_division=0),\n",
    "        'recall': recall_score(y_true, y_pred, average='weighted', zero_division=0),\n",
    "        'f1': f1_score(y_true, y_pred, average='weighted', zero_division=0)\n",
    "    }\n",
    "    \n",
    "    logger.info(f\"Optimization complete! Best {optimization_metric}: {study.best_value:.4f}\")\n",
    "    logger.info(f\"Best parameters: {study.best_params}\")\n",
    "    logger.info(f\"MLflow Run ID: {best_run_id}\")\n",
    "    \n",
    "    return best_pipeline, best_run_id, study, metrics_dict\n",
    "\n",
    "\n",
    "@task(name=\"Create_Model_Report\", retries=1)\n",
    "def task_create_model_report(\n",
    "    model_type: str,\n",
    "    best_run_id: str,\n",
    "    study,\n",
    "    metrics_dict: dict,\n",
    "    n_trials: int\n",
    ") -> None:\n",
    "    \"\"\"\n",
    "    Create comprehensive model training report as markdown artifact.\n",
    "    \n",
    "    Args:\n",
    "        model_type: Type of model trained\n",
    "        best_run_id: MLflow run ID\n",
    "        study: Optuna study object\n",
    "        metrics_dict: Dictionary of validation metrics\n",
    "        n_trials: Number of trials performed\n",
    "    \"\"\"\n",
    "    logger = get_run_logger()\n",
    "    logger.info(\"Creating model training report...\")\n",
    "    \n",
    "    # Create markdown report\n",
    "    markdown_content = f\"\"\"\n",
    "# Model Training Report - {model_type}\n",
    "\n",
    "## Training Summary\n",
    "- **Date**: {datetime.now().strftime('%Y-%m-%d %H:%M:%S')}\n",
    "- **Model Type**: {model_type}\n",
    "- **Number of Trials**: {n_trials}\n",
    "- **MLflow Run ID**: `{best_run_id}`\n",
    "\n",
    "## Optimization Results\n",
    "- **Best Score**: {study.best_value:.4f}\n",
    "- **Optimization Metric**: {study.trials[0].user_attrs.get('metric_name', 'accuracy') if study.trials else 'N/A'}\n",
    "- **Total Trials Completed**: {len([t for t in study.trials if t.state.name == 'COMPLETE'])}\n",
    "\n",
    "## Best Hyperparameters\n",
    "```python\n",
    "{json.dumps(study.best_params, indent=2)}\n",
    "```\n",
    "\n",
    "## Validation Metrics\n",
    "| Metric | Score |\n",
    "|--------|-------|\n",
    "| Accuracy | {metrics_dict['accuracy']:.4f} |\n",
    "| Precision | {metrics_dict['precision']:.4f} |\n",
    "| Recall | {metrics_dict['recall']:.4f} |\n",
    "| F1 Score | {metrics_dict['f1']:.4f} |\n",
    "\n",
    "## Top 5 Trials\n",
    "| Trial | Score | Parameters |\n",
    "|-------|-------|------------|\n",
    "\"\"\"\n",
    "    \n",
    "    # Add top 5 trials\n",
    "    sorted_trials = sorted(study.trials, key=lambda t: t.value if t.value else 0, reverse=True)[:5]\n",
    "    for trial in sorted_trials:\n",
    "        if trial.value:\n",
    "            params_str = ', '.join([f\"{k}={v}\" for k, v in list(trial.params.items())[:3]])\n",
    "            markdown_content += f\"| {trial.number} | {trial.value:.4f} | {params_str}... |\\n\"\n",
    "    \n",
    "    markdown_content += f\"\"\"\n",
    "\n",
    "## How to Use the Model\n",
    "```python\n",
    "import mlflow\n",
    "\n",
    "# Load the best model\n",
    "model = mlflow.sklearn.load_model(f\"runs:/{best_run_id}/model\")\n",
    "\n",
    "# Make predictions\n",
    "predictions = model.predict(X_new)\n",
    "```\n",
    "\n",
    "## Next Steps\n",
    "1. Review the model performance in MLflow UI\n",
    "2. Deploy the model if metrics meet requirements\n",
    "3. Monitor model performance in production\n",
    "\"\"\"\n",
    "    \n",
    "    create_markdown_artifact(\n",
    "        key=\"model-training-report\",\n",
    "        markdown=markdown_content,\n",
    "        description=f\"Complete Training Report for {model_type}\"\n",
    "    )\n",
    "    \n",
    "    logger.info(\"Model training report created successfully\")\n",
    "\n",
    "\n",
    "@flow(name=\"Train_Model_With_Optuna\", log_prints=True)\n",
    "def train_model_flow(\n",
    "    nregistros: int = 10000,\n",
    "    model_type: str = \"LogisticRegression\",\n",
    "    n_trials: int = 20,\n",
    "    optimization_metric: str = \"accuracy\"\n",
    "):\n",
    "    \"\"\"\n",
    "    Main Prefect flow for training models with Optuna optimization.\n",
    "    \n",
    "    Args:\n",
    "        nregistros: Number of samples to generate\n",
    "        model_type: Type of model to train\n",
    "        n_trials: Number of Optuna trials\n",
    "        optimization_metric: Metric to optimize\n",
    "        \n",
    "    Returns:\n",
    "        Trained pipeline and MLflow run ID\n",
    "    \"\"\"\n",
    "    logger = get_run_logger()\n",
    "    logger.info(f\"Starting training flow for {model_type}\")\n",
    "    \n",
    "    # Task 1: Generate data\n",
    "    df = task_generate_data(nregistros=nregistros)\n",
    "    \n",
    "    # Task 2: Feature engineering (this now handles the string conversion internally)\n",
    "    df_engineered = task_feature_engineering(df)\n",
    "    \n",
    "    # Task 3: Train with Optuna\n",
    "    best_pipeline, best_run_id, study, metrics_dict = task_train_with_optuna(\n",
    "        df_engineered,\n",
    "        model_type,\n",
    "        n_trials,\n",
    "        optimization_metric\n",
    "    )\n",
    "    \n",
    "    # Task 4: Create report\n",
    "    task_create_model_report(\n",
    "        model_type,\n",
    "        best_run_id,\n",
    "        study,\n",
    "        metrics_dict,\n",
    "        n_trials\n",
    "    )\n",
    "    \n",
    "    logger.info(f\"Training flow complete! Best model saved with run ID: {best_run_id}\")\n",
    "    \n",
    "    # Create final summary artifact\n",
    "    final_summary = pd.DataFrame({\n",
    "        'Metric': ['Model Type', 'Best Score', 'MLflow Run ID', 'Total Time'],\n",
    "        'Value': [\n",
    "            model_type,\n",
    "            f\"{study.best_value:.4f}\",\n",
    "            best_run_id,\n",
    "            f\"{sum((t.datetime_complete - t.datetime_start).total_seconds() for t in study.trials if t.datetime_complete):.2f}s\"\n",
    "        ]\n",
    "    })\n",
    "    \n",
    "    create_table_artifact(\n",
    "        key=\"training-flow-summary\",\n",
    "        table=final_summary.to_dict(orient='records'),\n",
    "        description=\"Final Training Flow Summary\"\n",
    "    )\n",
    "    \n",
    "    return best_pipeline, best_run_id\n",
    "\n",
    "\n",
    "@flow(name=\"Compare_Models\", log_prints=True)\n",
    "def compare_models_flow(\n",
    "    nregistros: int = 10000,\n",
    "    n_trials: int = 15\n",
    "):\n",
    "    \"\"\"\n",
    "    Flow to compare multiple models with Optuna optimization.\n",
    "    \n",
    "    Args:\n",
    "        nregistros: Number of samples to generate\n",
    "        n_trials: Number of Optuna trials per model\n",
    "        \n",
    "    Returns:\n",
    "        Dictionary with results for each model\n",
    "    \"\"\"\n",
    "    logger = get_run_logger()\n",
    "    logger.info(\"Starting model comparison flow...\")\n",
    "    \n",
    "    # Generate data once\n",
    "    df = task_generate_data(nregistros=nregistros)\n",
    "    df_engineered = task_feature_engineering(df)\n",
    "    \n",
    "    results = {}\n",
    "    models_to_compare = [\"LogisticRegression\", \"RandomForest\"]\n",
    "    metrics_to_try = [\"accuracy\", \"f1\"]\n",
    "    \n",
    "    comparison_data = []\n",
    "    \n",
    "    for model_type in models_to_compare:\n",
    "        for metric in metrics_to_try:\n",
    "            logger.info(f\"Training {model_type} optimizing for {metric}...\")\n",
    "            \n",
    "            best_pipeline, best_run_id, study, metrics_dict = task_train_with_optuna(\n",
    "                df_engineered,\n",
    "                model_type,\n",
    "                n_trials,\n",
    "                metric\n",
    "            )\n",
    "            \n",
    "            comparison_data.append({\n",
    "                'Model': model_type,\n",
    "                'Optimization Metric': metric,\n",
    "                'Best Score': f\"{study.best_value:.4f}\",\n",
    "                'Accuracy': f\"{metrics_dict['accuracy']:.4f}\",\n",
    "                'F1 Score': f\"{metrics_dict['f1']:.4f}\",\n",
    "                'MLflow Run ID': best_run_id[:8] + \"...\"\n",
    "            })\n",
    "            \n",
    "            results[f\"{model_type}_{metric}\"] = {\n",
    "                'pipeline': best_pipeline,\n",
    "                'run_id': best_run_id,\n",
    "                'best_score': study.best_value\n",
    "            }\n",
    "    \n",
    "    # Create comparison table\n",
    "    comparison_df = pd.DataFrame(comparison_data)\n",
    "    \n",
    "    create_table_artifact(\n",
    "        key=\"model-comparison-results\",\n",
    "        table=comparison_df.to_dict(orient='records'),\n",
    "        description=\"Model Comparison Results - Multiple Models and Metrics\"\n",
    "    )\n",
    "    \n",
    "    # Find best overall model\n",
    "    best_model_key = max(results.keys(), key=lambda k: results[k]['best_score'])\n",
    "    \n",
    "    logger.info(f\"Model comparison complete! Best model: {best_model_key}\")\n",
    "    \n",
    "    return results"
   ]
  },
  {
   "cell_type": "code",
   "execution_count": 5,
   "id": "544be10a",
   "metadata": {},
   "outputs": [
    {
     "data": {
      "text/html": [
       "<pre style=\"white-space:pre;overflow-x:auto;line-height:normal;font-family:Menlo,'DejaVu Sans Mono',consolas,'Courier New',monospace\">18:56:11.645 | <span style=\"color: #008080; text-decoration-color: #008080\">INFO</span>    | Flow run<span style=\"color: #800080; text-decoration-color: #800080\"> 'optimal-pegasus'</span> - Beginning flow run<span style=\"color: #800080; text-decoration-color: #800080\"> 'optimal-pegasus'</span> for flow<span style=\"color: #800080; text-decoration-color: #800080; font-weight: bold\"> 'Train_Model_With_Optuna'</span>\n",
       "</pre>\n"
      ],
      "text/plain": [
       "18:56:11.645 | \u001b[36mINFO\u001b[0m    | Flow run\u001b[35m 'optimal-pegasus'\u001b[0m - Beginning flow run\u001b[35m 'optimal-pegasus'\u001b[0m for flow\u001b[1;35m 'Train_Model_With_Optuna'\u001b[0m\n"
      ]
     },
     "metadata": {},
     "output_type": "display_data"
    },
    {
     "data": {
      "text/html": [
       "<pre style=\"white-space:pre;overflow-x:auto;line-height:normal;font-family:Menlo,'DejaVu Sans Mono',consolas,'Courier New',monospace\">18:56:11.648 | <span style=\"color: #008080; text-decoration-color: #008080\">INFO</span>    | Flow run<span style=\"color: #800080; text-decoration-color: #800080\"> 'optimal-pegasus'</span> - View at <span style=\"color: #0000ff; text-decoration-color: #0000ff\">http://127.0.0.1:4200/runs/flow-run/f5be6ab9-1bf4-4fac-9d39-70a71b88dfe3</span>\n",
       "</pre>\n"
      ],
      "text/plain": [
       "18:56:11.648 | \u001b[36mINFO\u001b[0m    | Flow run\u001b[35m 'optimal-pegasus'\u001b[0m - View at \u001b[94mhttp://127.0.0.1:4200/runs/flow-run/f5be6ab9-1bf4-4fac-9d39-70a71b88dfe3\u001b[0m\n"
      ]
     },
     "metadata": {},
     "output_type": "display_data"
    },
    {
     "data": {
      "text/html": [
       "<pre style=\"white-space:pre;overflow-x:auto;line-height:normal;font-family:Menlo,'DejaVu Sans Mono',consolas,'Courier New',monospace\">18:56:11.654 | <span style=\"color: #008080; text-decoration-color: #008080\">INFO</span>    | Flow run<span style=\"color: #800080; text-decoration-color: #800080\"> 'optimal-pegasus'</span> - Starting training flow for LogisticRegression\n",
       "</pre>\n"
      ],
      "text/plain": [
       "18:56:11.654 | \u001b[36mINFO\u001b[0m    | Flow run\u001b[35m 'optimal-pegasus'\u001b[0m - Starting training flow for LogisticRegression\n"
      ]
     },
     "metadata": {},
     "output_type": "display_data"
    },
    {
     "data": {
      "text/html": [
       "<pre style=\"white-space:pre;overflow-x:auto;line-height:normal;font-family:Menlo,'DejaVu Sans Mono',consolas,'Courier New',monospace\">18:56:11.997 | <span style=\"color: #008080; text-decoration-color: #008080\">INFO</span>    | Task run 'etl_dataset-e3c' - Generating 5000 registros...\n",
       "</pre>\n"
      ],
      "text/plain": [
       "18:56:11.997 | \u001b[36mINFO\u001b[0m    | Task run 'etl_dataset-e3c' - Generating 5000 registros...\n"
      ]
     },
     "metadata": {},
     "output_type": "display_data"
    },
    {
     "data": {
      "text/html": [
       "<pre style=\"white-space:pre;overflow-x:auto;line-height:normal;font-family:Menlo,'DejaVu Sans Mono',consolas,'Courier New',monospace\">18:56:41.226 | <span style=\"color: #008080; text-decoration-color: #008080\">INFO</span>    | Task run 'etl_dataset-e3c' - Generated 4931 samples with 7 columns\n",
       "</pre>\n"
      ],
      "text/plain": [
       "18:56:41.226 | \u001b[36mINFO\u001b[0m    | Task run 'etl_dataset-e3c' - Generated 4931 samples with 7 columns\n"
      ]
     },
     "metadata": {},
     "output_type": "display_data"
    },
    {
     "data": {
      "text/html": [
       "<pre style=\"white-space:pre;overflow-x:auto;line-height:normal;font-family:Menlo,'DejaVu Sans Mono',consolas,'Courier New',monospace\">18:56:41.370 | <span style=\"color: #008080; text-decoration-color: #008080\">INFO</span>    | Task run 'etl_dataset-e3c' - Finished in state <span style=\"color: #008000; text-decoration-color: #008000\">Completed</span>()\n",
       "</pre>\n"
      ],
      "text/plain": [
       "18:56:41.370 | \u001b[36mINFO\u001b[0m    | Task run 'etl_dataset-e3c' - Finished in state \u001b[32mCompleted\u001b[0m()\n"
      ]
     },
     "metadata": {},
     "output_type": "display_data"
    },
    {
     "data": {
      "text/html": [
       "<pre style=\"white-space:pre;overflow-x:auto;line-height:normal;font-family:Menlo,'DejaVu Sans Mono',consolas,'Courier New',monospace\">18:56:41.822 | <span style=\"color: #008080; text-decoration-color: #008080\">INFO</span>    | Task run 'Feature_Engineering-f8e' - Starting feature engineering...\n",
       "</pre>\n"
      ],
      "text/plain": [
       "18:56:41.822 | \u001b[36mINFO\u001b[0m    | Task run 'Feature_Engineering-f8e' - Starting feature engineering...\n"
      ]
     },
     "metadata": {},
     "output_type": "display_data"
    },
    {
     "data": {
      "text/html": [
       "<pre style=\"white-space:pre;overflow-x:auto;line-height:normal;font-family:Menlo,'DejaVu Sans Mono',consolas,'Courier New',monospace\">19:02:34.159 | <span style=\"color: #008080; text-decoration-color: #008080\">INFO</span>    | Task run 'Feature_Engineering-f8e' - Feature engineering complete: 7 -&gt; 9 features\n",
       "</pre>\n"
      ],
      "text/plain": [
       "19:02:34.159 | \u001b[36mINFO\u001b[0m    | Task run 'Feature_Engineering-f8e' - Feature engineering complete: 7 -> 9 features\n"
      ]
     },
     "metadata": {},
     "output_type": "display_data"
    },
    {
     "data": {
      "text/html": [
       "<pre style=\"white-space:pre;overflow-x:auto;line-height:normal;font-family:Menlo,'DejaVu Sans Mono',consolas,'Courier New',monospace\">19:02:34.183 | <span style=\"color: #008080; text-decoration-color: #008080\">INFO</span>    | Task run 'Feature_Engineering-f8e' - Finished in state <span style=\"color: #008000; text-decoration-color: #008000\">Completed</span>()\n",
       "</pre>\n"
      ],
      "text/plain": [
       "19:02:34.183 | \u001b[36mINFO\u001b[0m    | Task run 'Feature_Engineering-f8e' - Finished in state \u001b[32mCompleted\u001b[0m()\n"
      ]
     },
     "metadata": {},
     "output_type": "display_data"
    },
    {
     "data": {
      "text/html": [
       "<pre style=\"white-space:pre;overflow-x:auto;line-height:normal;font-family:Menlo,'DejaVu Sans Mono',consolas,'Courier New',monospace\">19:02:34.621 | <span style=\"color: #008080; text-decoration-color: #008080\">INFO</span>    | Task run 'Train_Model_Optuna-1c7' - Starting Optuna optimization for LogisticRegression with 10 trials...\n",
       "</pre>\n"
      ],
      "text/plain": [
       "19:02:34.621 | \u001b[36mINFO\u001b[0m    | Task run 'Train_Model_Optuna-1c7' - Starting Optuna optimization for LogisticRegression with 10 trials...\n"
      ]
     },
     "metadata": {},
     "output_type": "display_data"
    },
    {
     "name": "stderr",
     "output_type": "stream",
     "text": [
      "2025/10/07 19:02:34 INFO mlflow.tracking.fluent: Experiment with name 'prefect_logisticregression_training' does not exist. Creating a new experiment.\n",
      "[I 2025-10-07 19:02:36,682] A new study created in memory with name: optuna_LogisticRegression\n"
     ]
    },
    {
     "data": {
      "text/html": [
       "<pre style=\"white-space:pre;overflow-x:auto;line-height:normal;font-family:Menlo,'DejaVu Sans Mono',consolas,'Courier New',monospace\">19:02:36.682 | <span style=\"color: #008080; text-decoration-color: #008080\">INFO</span>    | Task run 'Train_Model_Optuna-1c7' - Starting Optuna optimization with 10 trials...\n",
       "</pre>\n"
      ],
      "text/plain": [
       "19:02:36.682 | \u001b[36mINFO\u001b[0m    | Task run 'Train_Model_Optuna-1c7' - Starting Optuna optimization with 10 trials...\n"
      ]
     },
     "metadata": {},
     "output_type": "display_data"
    },
    {
     "data": {
      "text/html": [
       "<pre style=\"white-space:pre;overflow-x:auto;line-height:normal;font-family:Menlo,'DejaVu Sans Mono',consolas,'Courier New',monospace\">19:02:36.687 | <span style=\"color: #008080; text-decoration-color: #008080\">INFO</span>    | Task run 'Train_Model_Optuna-1c7' - Optimizing for: accuracy\n",
       "</pre>\n"
      ],
      "text/plain": [
       "19:02:36.687 | \u001b[36mINFO\u001b[0m    | Task run 'Train_Model_Optuna-1c7' - Optimizing for: accuracy\n"
      ]
     },
     "metadata": {},
     "output_type": "display_data"
    },
    {
     "data": {
      "text/html": [
       "<pre style=\"white-space:pre;overflow-x:auto;line-height:normal;font-family:Menlo,'DejaVu Sans Mono',consolas,'Courier New',monospace\">19:02:36.690 | <span style=\"color: #008080; text-decoration-color: #008080\">INFO</span>    | Task run 'Train_Model_Optuna-1c7' - Model type: LogisticRegression\n",
       "</pre>\n"
      ],
      "text/plain": [
       "19:02:36.690 | \u001b[36mINFO\u001b[0m    | Task run 'Train_Model_Optuna-1c7' - Model type: LogisticRegression\n"
      ]
     },
     "metadata": {},
     "output_type": "display_data"
    },
    {
     "name": "stderr",
     "output_type": "stream",
     "text": [
      "2025/10/07 19:02:37 INFO mlflow.utils.autologging_utils: Created MLflow autologging run with ID 'fdc02fadfbd7446786fcf505c168579d', which will track hyperparameters, performance metrics, model artifacts, and lineage information for the current sklearn workflow\n",
      "2025/10/07 19:02:39 WARNING mlflow.sklearn: Failed to log training dataset information to MLflow Tracking. Reason: 'Series' object has no attribute 'flatten'\n",
      "2025/10/07 19:03:02 WARNING mlflow.utils.environment: Failed to resolve installed pip version. ``pip`` will be added to conda.yaml environment spec without a version specifier.\n",
      "[I 2025-10-07 19:03:07,306] Trial 0 finished with value: 0.7189189189189189 and parameters: {'C': 11.205792778805883, 'penalty': 'l1', 'max_iter': 543, 'solver': 'liblinear'}. Best is trial 0 with value: 0.7189189189189189.\n",
      "2025/10/07 19:03:07 INFO mlflow.tracking.fluent: Experiment with name 'optuna_LogisticRegression' does not exist. Creating a new experiment.\n",
      "2025/10/07 19:03:08 INFO mlflow.utils.autologging_utils: Created MLflow autologging run with ID '71f2169125674f68a13331c4dc3599af', which will track hyperparameters, performance metrics, model artifacts, and lineage information for the current sklearn workflow\n",
      "2025/10/07 19:03:09 WARNING mlflow.sklearn: Failed to log training dataset information to MLflow Tracking. Reason: 'Series' object has no attribute 'flatten'\n",
      "2025/10/07 19:03:26 WARNING mlflow.utils.environment: Failed to resolve installed pip version. ``pip`` will be added to conda.yaml environment spec without a version specifier.\n",
      "[I 2025-10-07 19:03:28,100] Trial 1 finished with value: 0.7182432432432433 and parameters: {'C': 47.72065649767178, 'penalty': 'l2', 'max_iter': 1224, 'solver': 'saga'}. Best is trial 0 with value: 0.7189189189189189.\n",
      "2025/10/07 19:03:29 INFO mlflow.utils.autologging_utils: Created MLflow autologging run with ID '9a84003115d741d99fa105cad9513e13', which will track hyperparameters, performance metrics, model artifacts, and lineage information for the current sklearn workflow\n",
      "2025/10/07 19:03:30 WARNING mlflow.sklearn: Failed to log training dataset information to MLflow Tracking. Reason: 'Series' object has no attribute 'flatten'\n",
      "2025/10/07 19:03:39 WARNING mlflow.utils.environment: Failed to resolve installed pip version. ``pip`` will be added to conda.yaml environment spec without a version specifier.\n",
      "[I 2025-10-07 19:03:41,355] Trial 2 finished with value: 0.6405405405405405 and parameters: {'C': 0.5108593400926693, 'penalty': 'l2', 'max_iter': 692, 'solver': 'saga'}. Best is trial 0 with value: 0.7189189189189189.\n",
      "2025/10/07 19:03:43 INFO mlflow.utils.autologging_utils: Created MLflow autologging run with ID '772cbf5f92934a9f897a1543e9fbff6d', which will track hyperparameters, performance metrics, model artifacts, and lineage information for the current sklearn workflow\n",
      "2025/10/07 19:03:44 WARNING mlflow.sklearn: Failed to log training dataset information to MLflow Tracking. Reason: 'Series' object has no attribute 'flatten'\n",
      "2025/10/07 19:03:54 WARNING mlflow.utils.environment: Failed to resolve installed pip version. ``pip`` will be added to conda.yaml environment spec without a version specifier.\n",
      "[I 2025-10-07 19:03:57,427] Trial 3 finished with value: 0.6452702702702703 and parameters: {'C': 0.5525605568505604, 'penalty': 'l2', 'max_iter': 736, 'solver': 'saga'}. Best is trial 0 with value: 0.7189189189189189.\n",
      "2025/10/07 19:03:59 INFO mlflow.utils.autologging_utils: Created MLflow autologging run with ID 'e384d3ec4f694a51a55bde8df1b3ce1d', which will track hyperparameters, performance metrics, model artifacts, and lineage information for the current sklearn workflow\n",
      "2025/10/07 19:04:00 WARNING mlflow.sklearn: Failed to log training dataset information to MLflow Tracking. Reason: 'Series' object has no attribute 'flatten'\n",
      "2025/10/07 19:04:10 WARNING mlflow.utils.environment: Failed to resolve installed pip version. ``pip`` will be added to conda.yaml environment spec without a version specifier.\n",
      "[I 2025-10-07 19:04:12,676] Trial 4 finished with value: 0.43175675675675673 and parameters: {'C': 0.2683404075655707, 'penalty': 'l1', 'max_iter': 375, 'solver': 'saga'}. Best is trial 0 with value: 0.7189189189189189.\n",
      "2025/10/07 19:04:13 INFO mlflow.utils.autologging_utils: Created MLflow autologging run with ID '4334699f431d4c339d3847ef10403bcf', which will track hyperparameters, performance metrics, model artifacts, and lineage information for the current sklearn workflow\n",
      "2025/10/07 19:04:14 WARNING mlflow.sklearn: Failed to log training dataset information to MLflow Tracking. Reason: 'Series' object has no attribute 'flatten'\n",
      "2025/10/07 19:04:23 WARNING mlflow.utils.environment: Failed to resolve installed pip version. ``pip`` will be added to conda.yaml environment spec without a version specifier.\n",
      "[I 2025-10-07 19:04:25,020] Trial 5 finished with value: 0.6533783783783784 and parameters: {'C': 0.9220415228344904, 'penalty': 'l2', 'max_iter': 911, 'solver': 'liblinear'}. Best is trial 0 with value: 0.7189189189189189.\n",
      "2025/10/07 19:04:27 INFO mlflow.utils.autologging_utils: Created MLflow autologging run with ID '0f500ff401824912b95a27ae9787f3f5', which will track hyperparameters, performance metrics, model artifacts, and lineage information for the current sklearn workflow\n",
      "2025/10/07 19:04:27 WARNING mlflow.sklearn: Failed to log training dataset information to MLflow Tracking. Reason: 'Series' object has no attribute 'flatten'\n",
      "2025/10/07 19:04:38 WARNING mlflow.utils.environment: Failed to resolve installed pip version. ``pip`` will be added to conda.yaml environment spec without a version specifier.\n",
      "[I 2025-10-07 19:04:39,778] Trial 6 finished with value: 0.7175675675675676 and parameters: {'C': 24.665573515033287, 'penalty': 'l2', 'max_iter': 647, 'solver': 'saga'}. Best is trial 0 with value: 0.7189189189189189.\n",
      "2025/10/07 19:04:40 INFO mlflow.utils.autologging_utils: Created MLflow autologging run with ID '31ba70905c3d4ab5a29b3b413640b8c4', which will track hyperparameters, performance metrics, model artifacts, and lineage information for the current sklearn workflow\n",
      "2025/10/07 19:04:41 WARNING mlflow.sklearn: Failed to log training dataset information to MLflow Tracking. Reason: 'Series' object has no attribute 'flatten'\n",
      "2025/10/07 19:04:48 WARNING mlflow.utils.environment: Failed to resolve installed pip version. ``pip`` will be added to conda.yaml environment spec without a version specifier.\n",
      "[I 2025-10-07 19:04:49,410] Trial 7 finished with value: 0.34324324324324323 and parameters: {'C': 0.023520706633076604, 'penalty': 'l2', 'max_iter': 503, 'solver': 'liblinear'}. Best is trial 0 with value: 0.7189189189189189.\n",
      "2025/10/07 19:04:50 INFO mlflow.utils.autologging_utils: Created MLflow autologging run with ID '34f7b66ee8cb4a99b9c93348124f01b3', which will track hyperparameters, performance metrics, model artifacts, and lineage information for the current sklearn workflow\n",
      "2025/10/07 19:04:50 WARNING mlflow.sklearn: Failed to log training dataset information to MLflow Tracking. Reason: 'Series' object has no attribute 'flatten'\n",
      "2025/10/07 19:04:56 WARNING mlflow.utils.environment: Failed to resolve installed pip version. ``pip`` will be added to conda.yaml environment spec without a version specifier.\n",
      "[I 2025-10-07 19:04:58,133] Trial 8 finished with value: 0.31351351351351353 and parameters: {'C': 0.008523512094194566, 'penalty': 'l1', 'max_iter': 1356, 'solver': 'saga'}. Best is trial 0 with value: 0.7189189189189189.\n",
      "2025/10/07 19:04:59 INFO mlflow.utils.autologging_utils: Created MLflow autologging run with ID 'e4d9b67185984fd8b4ce7f0d275ffb2f', which will track hyperparameters, performance metrics, model artifacts, and lineage information for the current sklearn workflow\n",
      "2025/10/07 19:04:59 WARNING mlflow.sklearn: Failed to log training dataset information to MLflow Tracking. Reason: 'Series' object has no attribute 'flatten'\n",
      "2025/10/07 19:05:06 WARNING mlflow.utils.environment: Failed to resolve installed pip version. ``pip`` will be added to conda.yaml environment spec without a version specifier.\n",
      "[I 2025-10-07 19:05:07,323] Trial 9 finished with value: 0.6675675675675675 and parameters: {'C': 2.5614952482196514, 'penalty': 'l1', 'max_iter': 460, 'solver': 'liblinear'}. Best is trial 0 with value: 0.7189189189189189.\n"
     ]
    },
    {
     "data": {
      "text/html": [
       "<pre style=\"white-space:pre;overflow-x:auto;line-height:normal;font-family:Menlo,'DejaVu Sans Mono',consolas,'Courier New',monospace\">19:05:07.431 | <span style=\"color: #008080; text-decoration-color: #008080\">INFO</span>    | Task run 'Train_Model_Optuna-1c7' - \n",
       "Optimization complete!\n",
       "</pre>\n"
      ],
      "text/plain": [
       "19:05:07.431 | \u001b[36mINFO\u001b[0m    | Task run 'Train_Model_Optuna-1c7' - \n",
       "Optimization complete!\n"
      ]
     },
     "metadata": {},
     "output_type": "display_data"
    },
    {
     "data": {
      "text/html": [
       "<pre style=\"white-space:pre;overflow-x:auto;line-height:normal;font-family:Menlo,'DejaVu Sans Mono',consolas,'Courier New',monospace\">19:05:07.439 | <span style=\"color: #008080; text-decoration-color: #008080\">INFO</span>    | Task run 'Train_Model_Optuna-1c7' - Best accuracy: 0.7189\n",
       "</pre>\n"
      ],
      "text/plain": [
       "19:05:07.439 | \u001b[36mINFO\u001b[0m    | Task run 'Train_Model_Optuna-1c7' - Best accuracy: 0.7189\n"
      ]
     },
     "metadata": {},
     "output_type": "display_data"
    },
    {
     "data": {
      "text/html": [
       "<pre style=\"white-space:pre;overflow-x:auto;line-height:normal;font-family:Menlo,'DejaVu Sans Mono',consolas,'Courier New',monospace\">19:05:07.442 | <span style=\"color: #008080; text-decoration-color: #008080\">INFO</span>    | Task run 'Train_Model_Optuna-1c7' - Best parameters: {'C': 11.205792778805883, 'penalty': 'l1', 'max_iter': 543, 'solver': 'liblinear'}\n",
       "</pre>\n"
      ],
      "text/plain": [
       "19:05:07.442 | \u001b[36mINFO\u001b[0m    | Task run 'Train_Model_Optuna-1c7' - Best parameters: {'C': 11.205792778805883, 'penalty': 'l1', 'max_iter': 543, 'solver': 'liblinear'}\n"
      ]
     },
     "metadata": {},
     "output_type": "display_data"
    },
    {
     "name": "stderr",
     "output_type": "stream",
     "text": [
      "2025/10/07 19:05:08 WARNING mlflow.sklearn: Failed to log training dataset information to MLflow Tracking. Reason: 'Series' object has no attribute 'flatten'\n",
      "2025/10/07 19:05:16 WARNING mlflow.utils.environment: Failed to resolve installed pip version. ``pip`` will be added to conda.yaml environment spec without a version specifier.\n",
      "2025/10/07 19:05:18 WARNING mlflow.models.model: `artifact_path` is deprecated. Please use `name` instead.\n",
      "2025/10/07 19:05:27 WARNING mlflow.utils.environment: Failed to resolve installed pip version. ``pip`` will be added to conda.yaml environment spec without a version specifier.\n",
      "Downloading artifacts: 100%|██████████| 7/7 [00:00<00:00, 341.48it/s] \n",
      "2025/10/07 19:05:27 WARNING mlflow.models.model: Failed to validate serving input example {\n",
      "  \"dataframe_split\": {\n",
      "    \"columns\": [\n",
      "      \"c.... Alternatively, you can avoid passing input example and pass model signature instead when logging the model. To ensure the input example is valid prior to serving, please try calling `mlflow.models.validate_serving_input` on the model uri and serving input example. A serving input example can be generated from model input example using `mlflow.models.convert_input_example_to_serving_input` function.\n",
      "Got error: Invalid input. Data is not compatible with model signature. Failed to convert column concatenada to type 'float64'. Error: 'ValueError(\"could not convert string to float: 'consulta presencial mencionar antecedente trastorno dficit atencin hiperactividad tdah comentar soler toser sentir nervioso episodio to ocurri jugar ftbol adolescencia año explicar sentar presin jugar cometa error pasar errado haca sentir insuficiente disminuir confianza s recordar entrenador comentario despectivo hacar sentir servir banca experiencia señalar sentir entorno acadmico relación romntica admitir invitar mujer salir finalmente mencionar contar red apoyo slido conducta suicida consulta presencial estabilidad anmico acadmico social familiar presentado sintomatologa ansiós realizar cierre proceso psicoteraputico conducta suicida teleconsulto volver consulta informar finalizado semestre acadmico expresar satisfaccin desempeño ftbol ruptura relacin amoroso indicar conocer persona avanzar proceso duelo fase aceptacin prdida adems mencionar discusión madre especialmente solicitar favor alto hora noche señalar dificultad establecer lmit comentar mam sacar cara pedir ayuda adems observar madre podrar presentar sntoma ansiedad particularmente contexto actual prximo mudanza conducta suicida teleconsulto informar experimentar estrs ansiedad relacionado exmén acadmico estabilidad patrones sueño apetito adems señalar mantenido contacto red apoyo reportar conflicto interpersonal hermán conducto suicida presentar apariencia general apropiado limpio acorde edad nutricional adecuado adems percibir alerta normocintico euprosxico eumnsico normollico actitud cooperativo honesto contacto ocular sostenido nimo ansioso afecto regulado pensamiento contenido preocupación orientacin alopsquico autopsquico adecuado inteligencia abstraccin adecuado introspeccin prospeccin construccin'\")'\n"
     ]
    },
    {
     "data": {
      "text/html": [
       "<pre style=\"white-space:pre;overflow-x:auto;line-height:normal;font-family:Menlo,'DejaVu Sans Mono',consolas,'Courier New',monospace\">19:05:28.197 | <span style=\"color: #008080; text-decoration-color: #008080\">INFO</span>    | Task run 'Train_Model_Optuna-1c7' - \n",
       "Best Model MLflow Run ID: d603cb1614ff4f0d8ed0a05fbf7d0460\n",
       "</pre>\n"
      ],
      "text/plain": [
       "19:05:28.197 | \u001b[36mINFO\u001b[0m    | Task run 'Train_Model_Optuna-1c7' - \n",
       "Best Model MLflow Run ID: d603cb1614ff4f0d8ed0a05fbf7d0460\n"
      ]
     },
     "metadata": {},
     "output_type": "display_data"
    },
    {
     "data": {
      "text/html": [
       "<pre style=\"white-space:pre;overflow-x:auto;line-height:normal;font-family:Menlo,'DejaVu Sans Mono',consolas,'Courier New',monospace\">19:05:28.208 | <span style=\"color: #008080; text-decoration-color: #008080\">INFO</span>    | Task run 'Train_Model_Optuna-1c7' - Tracking URI: <span style=\"color: #0000ff; text-decoration-color: #0000ff\">file:///c:/Users/ISAIAS_QUINTERO/Desktop/Universiad/MLOps/Proyecto_Final/src/training/mlruns</span>\n",
       "</pre>\n"
      ],
      "text/plain": [
       "19:05:28.208 | \u001b[36mINFO\u001b[0m    | Task run 'Train_Model_Optuna-1c7' - Tracking URI: \u001b[94mfile:///c:/Users/ISAIAS_QUINTERO/Desktop/Universiad/MLOps/Proyecto_Final/src/training/mlruns\u001b[0m\n"
      ]
     },
     "metadata": {},
     "output_type": "display_data"
    },
    {
     "data": {
      "text/html": [
       "<pre style=\"white-space:pre;overflow-x:auto;line-height:normal;font-family:Menlo,'DejaVu Sans Mono',consolas,'Courier New',monospace\">19:05:28.216 | <span style=\"color: #008080; text-decoration-color: #008080\">INFO</span>    | Task run 'Train_Model_Optuna-1c7' - Train Accuracy: 0.9933\n",
       "</pre>\n"
      ],
      "text/plain": [
       "19:05:28.216 | \u001b[36mINFO\u001b[0m    | Task run 'Train_Model_Optuna-1c7' - Train Accuracy: 0.9933\n"
      ]
     },
     "metadata": {},
     "output_type": "display_data"
    },
    {
     "data": {
      "text/html": [
       "<pre style=\"white-space:pre;overflow-x:auto;line-height:normal;font-family:Menlo,'DejaVu Sans Mono',consolas,'Courier New',monospace\">19:05:28.224 | <span style=\"color: #008080; text-decoration-color: #008080\">INFO</span>    | Task run 'Train_Model_Optuna-1c7' - Test Accuracy: 0.7189\n",
       "</pre>\n"
      ],
      "text/plain": [
       "19:05:28.224 | \u001b[36mINFO\u001b[0m    | Task run 'Train_Model_Optuna-1c7' - Test Accuracy: 0.7189\n"
      ]
     },
     "metadata": {},
     "output_type": "display_data"
    },
    {
     "data": {
      "text/html": [
       "<pre style=\"white-space:pre;overflow-x:auto;line-height:normal;font-family:Menlo,'DejaVu Sans Mono',consolas,'Courier New',monospace\">19:05:29.095 | <span style=\"color: #008080; text-decoration-color: #008080\">INFO</span>    | Task run 'Train_Model_Optuna-1c7' - Optimization complete! Best accuracy: 0.7189\n",
       "</pre>\n"
      ],
      "text/plain": [
       "19:05:29.095 | \u001b[36mINFO\u001b[0m    | Task run 'Train_Model_Optuna-1c7' - Optimization complete! Best accuracy: 0.7189\n"
      ]
     },
     "metadata": {},
     "output_type": "display_data"
    },
    {
     "data": {
      "text/html": [
       "<pre style=\"white-space:pre;overflow-x:auto;line-height:normal;font-family:Menlo,'DejaVu Sans Mono',consolas,'Courier New',monospace\">19:05:29.100 | <span style=\"color: #008080; text-decoration-color: #008080\">INFO</span>    | Task run 'Train_Model_Optuna-1c7' - Best parameters: {'C': 11.205792778805883, 'penalty': 'l1', 'max_iter': 543, 'solver': 'liblinear'}\n",
       "</pre>\n"
      ],
      "text/plain": [
       "19:05:29.100 | \u001b[36mINFO\u001b[0m    | Task run 'Train_Model_Optuna-1c7' - Best parameters: {'C': 11.205792778805883, 'penalty': 'l1', 'max_iter': 543, 'solver': 'liblinear'}\n"
      ]
     },
     "metadata": {},
     "output_type": "display_data"
    },
    {
     "data": {
      "text/html": [
       "<pre style=\"white-space:pre;overflow-x:auto;line-height:normal;font-family:Menlo,'DejaVu Sans Mono',consolas,'Courier New',monospace\">19:05:29.105 | <span style=\"color: #008080; text-decoration-color: #008080\">INFO</span>    | Task run 'Train_Model_Optuna-1c7' - MLflow Run ID: d603cb1614ff4f0d8ed0a05fbf7d0460\n",
       "</pre>\n"
      ],
      "text/plain": [
       "19:05:29.105 | \u001b[36mINFO\u001b[0m    | Task run 'Train_Model_Optuna-1c7' - MLflow Run ID: d603cb1614ff4f0d8ed0a05fbf7d0460\n"
      ]
     },
     "metadata": {},
     "output_type": "display_data"
    },
    {
     "data": {
      "text/html": [
       "<pre style=\"white-space:pre;overflow-x:auto;line-height:normal;font-family:Menlo,'DejaVu Sans Mono',consolas,'Courier New',monospace\">19:05:29.116 | <span style=\"color: #008080; text-decoration-color: #008080\">INFO</span>    | Task run 'Train_Model_Optuna-1c7' - Finished in state <span style=\"color: #008000; text-decoration-color: #008000\">Completed</span>()\n",
       "</pre>\n"
      ],
      "text/plain": [
       "19:05:29.116 | \u001b[36mINFO\u001b[0m    | Task run 'Train_Model_Optuna-1c7' - Finished in state \u001b[32mCompleted\u001b[0m()\n"
      ]
     },
     "metadata": {},
     "output_type": "display_data"
    },
    {
     "data": {
      "text/html": [
       "<pre style=\"white-space:pre;overflow-x:auto;line-height:normal;font-family:Menlo,'DejaVu Sans Mono',consolas,'Courier New',monospace\">19:05:29.733 | <span style=\"color: #008080; text-decoration-color: #008080\">INFO</span>    | Task run 'Create_Model_Report-39a' - Creating model training report...\n",
       "</pre>\n"
      ],
      "text/plain": [
       "19:05:29.733 | \u001b[36mINFO\u001b[0m    | Task run 'Create_Model_Report-39a' - Creating model training report...\n"
      ]
     },
     "metadata": {},
     "output_type": "display_data"
    },
    {
     "data": {
      "text/html": [
       "<pre style=\"white-space:pre;overflow-x:auto;line-height:normal;font-family:Menlo,'DejaVu Sans Mono',consolas,'Courier New',monospace\">19:05:29.774 | <span style=\"color: #008080; text-decoration-color: #008080\">INFO</span>    | Task run 'Create_Model_Report-39a' - Model training report created successfully\n",
       "</pre>\n"
      ],
      "text/plain": [
       "19:05:29.774 | \u001b[36mINFO\u001b[0m    | Task run 'Create_Model_Report-39a' - Model training report created successfully\n"
      ]
     },
     "metadata": {},
     "output_type": "display_data"
    },
    {
     "data": {
      "text/html": [
       "<pre style=\"white-space:pre;overflow-x:auto;line-height:normal;font-family:Menlo,'DejaVu Sans Mono',consolas,'Courier New',monospace\">19:05:29.789 | <span style=\"color: #008080; text-decoration-color: #008080\">INFO</span>    | Task run 'Create_Model_Report-39a' - Finished in state <span style=\"color: #008000; text-decoration-color: #008000\">Completed</span>()\n",
       "</pre>\n"
      ],
      "text/plain": [
       "19:05:29.789 | \u001b[36mINFO\u001b[0m    | Task run 'Create_Model_Report-39a' - Finished in state \u001b[32mCompleted\u001b[0m()\n"
      ]
     },
     "metadata": {},
     "output_type": "display_data"
    },
    {
     "data": {
      "text/html": [
       "<pre style=\"white-space:pre;overflow-x:auto;line-height:normal;font-family:Menlo,'DejaVu Sans Mono',consolas,'Courier New',monospace\">19:05:29.801 | <span style=\"color: #008080; text-decoration-color: #008080\">INFO</span>    | Flow run<span style=\"color: #800080; text-decoration-color: #800080\"> 'optimal-pegasus'</span> - Training flow complete! Best model saved with run ID: d603cb1614ff4f0d8ed0a05fbf7d0460\n",
       "</pre>\n"
      ],
      "text/plain": [
       "19:05:29.801 | \u001b[36mINFO\u001b[0m    | Flow run\u001b[35m 'optimal-pegasus'\u001b[0m - Training flow complete! Best model saved with run ID: d603cb1614ff4f0d8ed0a05fbf7d0460\n"
      ]
     },
     "metadata": {},
     "output_type": "display_data"
    },
    {
     "data": {
      "text/html": [
       "<pre style=\"white-space:pre;overflow-x:auto;line-height:normal;font-family:Menlo,'DejaVu Sans Mono',consolas,'Courier New',monospace\">19:05:29.939 | <span style=\"color: #008080; text-decoration-color: #008080\">INFO</span>    | Flow run<span style=\"color: #800080; text-decoration-color: #800080\"> 'optimal-pegasus'</span> - Finished in state <span style=\"color: #008000; text-decoration-color: #008000\">Completed</span>()\n",
       "</pre>\n"
      ],
      "text/plain": [
       "19:05:29.939 | \u001b[36mINFO\u001b[0m    | Flow run\u001b[35m 'optimal-pegasus'\u001b[0m - Finished in state \u001b[32mCompleted\u001b[0m()\n"
      ]
     },
     "metadata": {},
     "output_type": "display_data"
    },
    {
     "name": "stdout",
     "output_type": "stream",
     "text": [
      "Training completed successfully!\n",
      "Best pipeline: Pipeline(steps=[('classifier',\n",
      "                 LogisticRegression(C=11.205792778805883, max_iter=543,\n",
      "                                    penalty='l1', random_state=42,\n",
      "                                    solver='liblinear'))])\n",
      "MLflow Run ID: d603cb1614ff4f0d8ed0a05fbf7d0460\n"
     ]
    }
   ],
   "source": [
    "# Example 1: Train a single model (using simplified validation)\n",
    "pipeline, run_id = train_model_flow(\n",
    "    nregistros=5000,\n",
    "    model_type=\"LogisticRegression\",  # Let's try LogisticRegression which is simpler\n",
    "    n_trials=10,  # Reduce trials for testing\n",
    "    optimization_metric=\"accuracy\"\n",
    ")\n",
    "\n",
    "print(f\"Training completed successfully!\")\n",
    "print(f\"Best pipeline: {pipeline}\")\n",
    "print(f\"MLflow Run ID: {run_id}\")\n",
    "\n",
    "# Example 2: Compare multiple models\n",
    "# results = compare_models_flow(nregistros=5000, n_trials=10)"
   ]
  },
  {
   "cell_type": "code",
   "execution_count": 6,
   "id": "708ed5e3",
   "metadata": {},
   "outputs": [
    {
     "name": "stdout",
     "output_type": "stream",
     "text": [
      "\n",
      "==================================================\n",
      "Testing with RandomForest...\n",
      "==================================================\n"
     ]
    },
    {
     "data": {
      "text/html": [
       "<pre style=\"white-space:pre;overflow-x:auto;line-height:normal;font-family:Menlo,'DejaVu Sans Mono',consolas,'Courier New',monospace\">19:06:46.279 | <span style=\"color: #008080; text-decoration-color: #008080\">INFO</span>    | Flow run<span style=\"color: #800080; text-decoration-color: #800080\"> 'monumental-hornet'</span> - Beginning flow run<span style=\"color: #800080; text-decoration-color: #800080\"> 'monumental-hornet'</span> for flow<span style=\"color: #800080; text-decoration-color: #800080; font-weight: bold\"> 'Train_Model_With_Optuna'</span>\n",
       "</pre>\n"
      ],
      "text/plain": [
       "19:06:46.279 | \u001b[36mINFO\u001b[0m    | Flow run\u001b[35m 'monumental-hornet'\u001b[0m - Beginning flow run\u001b[35m 'monumental-hornet'\u001b[0m for flow\u001b[1;35m 'Train_Model_With_Optuna'\u001b[0m\n"
      ]
     },
     "metadata": {},
     "output_type": "display_data"
    },
    {
     "data": {
      "text/html": [
       "<pre style=\"white-space:pre;overflow-x:auto;line-height:normal;font-family:Menlo,'DejaVu Sans Mono',consolas,'Courier New',monospace\">19:06:46.281 | <span style=\"color: #008080; text-decoration-color: #008080\">INFO</span>    | Flow run<span style=\"color: #800080; text-decoration-color: #800080\"> 'monumental-hornet'</span> - View at <span style=\"color: #0000ff; text-decoration-color: #0000ff\">http://127.0.0.1:4200/runs/flow-run/99e30c1e-5eee-4ddc-9ace-6ed68e897459</span>\n",
       "</pre>\n"
      ],
      "text/plain": [
       "19:06:46.281 | \u001b[36mINFO\u001b[0m    | Flow run\u001b[35m 'monumental-hornet'\u001b[0m - View at \u001b[94mhttp://127.0.0.1:4200/runs/flow-run/99e30c1e-5eee-4ddc-9ace-6ed68e897459\u001b[0m\n"
      ]
     },
     "metadata": {},
     "output_type": "display_data"
    },
    {
     "data": {
      "text/html": [
       "<pre style=\"white-space:pre;overflow-x:auto;line-height:normal;font-family:Menlo,'DejaVu Sans Mono',consolas,'Courier New',monospace\">19:06:46.282 | <span style=\"color: #008080; text-decoration-color: #008080\">INFO</span>    | Flow run<span style=\"color: #800080; text-decoration-color: #800080\"> 'monumental-hornet'</span> - Starting training flow for RandomForest\n",
       "</pre>\n"
      ],
      "text/plain": [
       "19:06:46.282 | \u001b[36mINFO\u001b[0m    | Flow run\u001b[35m 'monumental-hornet'\u001b[0m - Starting training flow for RandomForest\n"
      ]
     },
     "metadata": {},
     "output_type": "display_data"
    },
    {
     "data": {
      "text/html": [
       "<pre style=\"white-space:pre;overflow-x:auto;line-height:normal;font-family:Menlo,'DejaVu Sans Mono',consolas,'Courier New',monospace\">19:06:46.522 | <span style=\"color: #008080; text-decoration-color: #008080\">INFO</span>    | Task run 'etl_dataset-001' - Generating 5000 registros...\n",
       "</pre>\n"
      ],
      "text/plain": [
       "19:06:46.522 | \u001b[36mINFO\u001b[0m    | Task run 'etl_dataset-001' - Generating 5000 registros...\n"
      ]
     },
     "metadata": {},
     "output_type": "display_data"
    },
    {
     "data": {
      "text/html": [
       "<pre style=\"white-space:pre;overflow-x:auto;line-height:normal;font-family:Menlo,'DejaVu Sans Mono',consolas,'Courier New',monospace\">19:07:01.228 | <span style=\"color: #008080; text-decoration-color: #008080\">INFO</span>    | Task run 'etl_dataset-001' - Generated 4931 samples with 7 columns\n",
       "</pre>\n"
      ],
      "text/plain": [
       "19:07:01.228 | \u001b[36mINFO\u001b[0m    | Task run 'etl_dataset-001' - Generated 4931 samples with 7 columns\n"
      ]
     },
     "metadata": {},
     "output_type": "display_data"
    },
    {
     "data": {
      "text/html": [
       "<pre style=\"white-space:pre;overflow-x:auto;line-height:normal;font-family:Menlo,'DejaVu Sans Mono',consolas,'Courier New',monospace\">19:07:01.346 | <span style=\"color: #008080; text-decoration-color: #008080\">INFO</span>    | Task run 'etl_dataset-001' - Finished in state <span style=\"color: #008000; text-decoration-color: #008000\">Completed</span>()\n",
       "</pre>\n"
      ],
      "text/plain": [
       "19:07:01.346 | \u001b[36mINFO\u001b[0m    | Task run 'etl_dataset-001' - Finished in state \u001b[32mCompleted\u001b[0m()\n"
      ]
     },
     "metadata": {},
     "output_type": "display_data"
    },
    {
     "data": {
      "text/html": [
       "<pre style=\"white-space:pre;overflow-x:auto;line-height:normal;font-family:Menlo,'DejaVu Sans Mono',consolas,'Courier New',monospace\">19:07:01.714 | <span style=\"color: #008080; text-decoration-color: #008080\">INFO</span>    | Task run 'Feature_Engineering-9e6' - Starting feature engineering...\n",
       "</pre>\n"
      ],
      "text/plain": [
       "19:07:01.714 | \u001b[36mINFO\u001b[0m    | Task run 'Feature_Engineering-9e6' - Starting feature engineering...\n"
      ]
     },
     "metadata": {},
     "output_type": "display_data"
    },
    {
     "data": {
      "text/html": [
       "<pre style=\"white-space:pre;overflow-x:auto;line-height:normal;font-family:Menlo,'DejaVu Sans Mono',consolas,'Courier New',monospace\">19:10:52.914 | <span style=\"color: #008080; text-decoration-color: #008080\">INFO</span>    | Task run 'Feature_Engineering-9e6' - Feature engineering complete: 7 -&gt; 9 features\n",
       "</pre>\n"
      ],
      "text/plain": [
       "19:10:52.914 | \u001b[36mINFO\u001b[0m    | Task run 'Feature_Engineering-9e6' - Feature engineering complete: 7 -> 9 features\n"
      ]
     },
     "metadata": {},
     "output_type": "display_data"
    },
    {
     "data": {
      "text/html": [
       "<pre style=\"white-space:pre;overflow-x:auto;line-height:normal;font-family:Menlo,'DejaVu Sans Mono',consolas,'Courier New',monospace\">19:10:52.938 | <span style=\"color: #008080; text-decoration-color: #008080\">INFO</span>    | Task run 'Feature_Engineering-9e6' - Finished in state <span style=\"color: #008000; text-decoration-color: #008000\">Completed</span>()\n",
       "</pre>\n"
      ],
      "text/plain": [
       "19:10:52.938 | \u001b[36mINFO\u001b[0m    | Task run 'Feature_Engineering-9e6' - Finished in state \u001b[32mCompleted\u001b[0m()\n"
      ]
     },
     "metadata": {},
     "output_type": "display_data"
    },
    {
     "data": {
      "text/html": [
       "<pre style=\"white-space:pre;overflow-x:auto;line-height:normal;font-family:Menlo,'DejaVu Sans Mono',consolas,'Courier New',monospace\">19:10:53.388 | <span style=\"color: #008080; text-decoration-color: #008080\">INFO</span>    | Task run 'Train_Model_Optuna-f3a' - Starting Optuna optimization for RandomForest with 10 trials...\n",
       "</pre>\n"
      ],
      "text/plain": [
       "19:10:53.388 | \u001b[36mINFO\u001b[0m    | Task run 'Train_Model_Optuna-f3a' - Starting Optuna optimization for RandomForest with 10 trials...\n"
      ]
     },
     "metadata": {},
     "output_type": "display_data"
    },
    {
     "name": "stderr",
     "output_type": "stream",
     "text": [
      "[I 2025-10-07 19:10:53,540] A new study created in memory with name: optuna_RandomForestClassifier\n"
     ]
    },
    {
     "data": {
      "text/html": [
       "<pre style=\"white-space:pre;overflow-x:auto;line-height:normal;font-family:Menlo,'DejaVu Sans Mono',consolas,'Courier New',monospace\">19:10:53.540 | <span style=\"color: #008080; text-decoration-color: #008080\">INFO</span>    | Task run 'Train_Model_Optuna-f3a' - Starting Optuna optimization with 10 trials...\n",
       "</pre>\n"
      ],
      "text/plain": [
       "19:10:53.540 | \u001b[36mINFO\u001b[0m    | Task run 'Train_Model_Optuna-f3a' - Starting Optuna optimization with 10 trials...\n"
      ]
     },
     "metadata": {},
     "output_type": "display_data"
    },
    {
     "data": {
      "text/html": [
       "<pre style=\"white-space:pre;overflow-x:auto;line-height:normal;font-family:Menlo,'DejaVu Sans Mono',consolas,'Courier New',monospace\">19:10:53.540 | <span style=\"color: #008080; text-decoration-color: #008080\">INFO</span>    | Task run 'Train_Model_Optuna-f3a' - Optimizing for: accuracy\n",
       "</pre>\n"
      ],
      "text/plain": [
       "19:10:53.540 | \u001b[36mINFO\u001b[0m    | Task run 'Train_Model_Optuna-f3a' - Optimizing for: accuracy\n"
      ]
     },
     "metadata": {},
     "output_type": "display_data"
    },
    {
     "data": {
      "text/html": [
       "<pre style=\"white-space:pre;overflow-x:auto;line-height:normal;font-family:Menlo,'DejaVu Sans Mono',consolas,'Courier New',monospace\">19:10:53.549 | <span style=\"color: #008080; text-decoration-color: #008080\">INFO</span>    | Task run 'Train_Model_Optuna-f3a' - Model type: RandomForestClassifier\n",
       "</pre>\n"
      ],
      "text/plain": [
       "19:10:53.549 | \u001b[36mINFO\u001b[0m    | Task run 'Train_Model_Optuna-f3a' - Model type: RandomForestClassifier\n"
      ]
     },
     "metadata": {},
     "output_type": "display_data"
    },
    {
     "name": "stderr",
     "output_type": "stream",
     "text": [
      "2025/10/07 19:10:54 INFO mlflow.utils.autologging_utils: Created MLflow autologging run with ID 'c2bc051cbb4743579402eeb5f362a4ff', which will track hyperparameters, performance metrics, model artifacts, and lineage information for the current sklearn workflow\n",
      "2025/10/07 19:10:54 WARNING mlflow.sklearn: Failed to log training dataset information to MLflow Tracking. Reason: 'Series' object has no attribute 'flatten'\n",
      "2025/10/07 19:11:01 WARNING mlflow.utils.environment: Failed to resolve installed pip version. ``pip`` will be added to conda.yaml environment spec without a version specifier.\n",
      "[I 2025-10-07 19:11:03,560] Trial 0 finished with value: 0.6574324324324324 and parameters: {'n_estimators': 78, 'max_depth': 27, 'min_samples_split': 5, 'min_samples_leaf': 1, 'max_features': 'sqrt'}. Best is trial 0 with value: 0.6574324324324324.\n",
      "2025/10/07 19:11:04 INFO mlflow.utils.autologging_utils: Created MLflow autologging run with ID '9e6b5e39f5e0470886cdd0319fe1894b', which will track hyperparameters, performance metrics, model artifacts, and lineage information for the current sklearn workflow\n",
      "2025/10/07 19:11:04 WARNING mlflow.sklearn: Failed to log training dataset information to MLflow Tracking. Reason: 'Series' object has no attribute 'flatten'\n",
      "2025/10/07 19:11:11 WARNING mlflow.utils.environment: Failed to resolve installed pip version. ``pip`` will be added to conda.yaml environment spec without a version specifier.\n",
      "[I 2025-10-07 19:11:14,266] Trial 1 finished with value: 0.33175675675675675 and parameters: {'n_estimators': 141, 'max_depth': 22, 'min_samples_split': 15, 'min_samples_leaf': 7, 'max_features': 'log2'}. Best is trial 0 with value: 0.6574324324324324.\n",
      "2025/10/07 19:11:15 INFO mlflow.utils.autologging_utils: Created MLflow autologging run with ID '12e929232a924353871e2a32f965c2be', which will track hyperparameters, performance metrics, model artifacts, and lineage information for the current sklearn workflow\n",
      "2025/10/07 19:11:15 WARNING mlflow.sklearn: Failed to log training dataset information to MLflow Tracking. Reason: 'Series' object has no attribute 'flatten'\n",
      "2025/10/07 19:11:23 WARNING mlflow.utils.environment: Failed to resolve installed pip version. ``pip`` will be added to conda.yaml environment spec without a version specifier.\n",
      "[I 2025-10-07 19:11:25,351] Trial 2 finished with value: 0.5641891891891891 and parameters: {'n_estimators': 155, 'max_depth': 22, 'min_samples_split': 8, 'min_samples_leaf': 8, 'max_features': 'sqrt'}. Best is trial 0 with value: 0.6574324324324324.\n",
      "2025/10/07 19:11:26 INFO mlflow.utils.autologging_utils: Created MLflow autologging run with ID 'b930a67cecd74d4fa5d89edeadf25d64', which will track hyperparameters, performance metrics, model artifacts, and lineage information for the current sklearn workflow\n",
      "2025/10/07 19:11:26 WARNING mlflow.sklearn: Failed to log training dataset information to MLflow Tracking. Reason: 'Series' object has no attribute 'flatten'\n",
      "2025/10/07 19:11:34 WARNING mlflow.utils.environment: Failed to resolve installed pip version. ``pip`` will be added to conda.yaml environment spec without a version specifier.\n",
      "[I 2025-10-07 19:11:37,424] Trial 3 finished with value: 0.5709459459459459 and parameters: {'n_estimators': 167, 'max_depth': 30, 'min_samples_split': 10, 'min_samples_leaf': 8, 'max_features': 'sqrt'}. Best is trial 0 with value: 0.6574324324324324.\n",
      "2025/10/07 19:11:38 INFO mlflow.utils.autologging_utils: Created MLflow autologging run with ID '52e9251bb49147a7a7b3be32293bcfc4', which will track hyperparameters, performance metrics, model artifacts, and lineage information for the current sklearn workflow\n",
      "2025/10/07 19:11:39 WARNING mlflow.sklearn: Failed to log training dataset information to MLflow Tracking. Reason: 'Series' object has no attribute 'flatten'\n",
      "2025/10/07 19:11:45 WARNING mlflow.utils.environment: Failed to resolve installed pip version. ``pip`` will be added to conda.yaml environment spec without a version specifier.\n",
      "[I 2025-10-07 19:11:47,834] Trial 4 finished with value: 0.327027027027027 and parameters: {'n_estimators': 80, 'max_depth': 23, 'min_samples_split': 14, 'min_samples_leaf': 8, 'max_features': 'log2'}. Best is trial 0 with value: 0.6574324324324324.\n",
      "2025/10/07 19:11:48 INFO mlflow.utils.autologging_utils: Created MLflow autologging run with ID '04e29cf7253a4f86af099bb669bd81ae', which will track hyperparameters, performance metrics, model artifacts, and lineage information for the current sklearn workflow\n",
      "2025/10/07 19:11:49 WARNING mlflow.sklearn: Failed to log training dataset information to MLflow Tracking. Reason: 'Series' object has no attribute 'flatten'\n",
      "2025/10/07 19:11:56 WARNING mlflow.utils.environment: Failed to resolve installed pip version. ``pip`` will be added to conda.yaml environment spec without a version specifier.\n",
      "[I 2025-10-07 19:11:58,580] Trial 5 finished with value: 0.4081081081081081 and parameters: {'n_estimators': 174, 'max_depth': 6, 'min_samples_split': 12, 'min_samples_leaf': 2, 'max_features': 'sqrt'}. Best is trial 0 with value: 0.6574324324324324.\n",
      "2025/10/07 19:11:59 INFO mlflow.utils.autologging_utils: Created MLflow autologging run with ID '0247c30dec54487fae84d851b73b1b99', which will track hyperparameters, performance metrics, model artifacts, and lineage information for the current sklearn workflow\n",
      "2025/10/07 19:12:00 WARNING mlflow.sklearn: Failed to log training dataset information to MLflow Tracking. Reason: 'Series' object has no attribute 'flatten'\n",
      "2025/10/07 19:12:11 WARNING mlflow.utils.environment: Failed to resolve installed pip version. ``pip`` will be added to conda.yaml environment spec without a version specifier.\n",
      "[I 2025-10-07 19:12:15,966] Trial 6 finished with value: 0.6567567567567567 and parameters: {'n_estimators': 142, 'max_depth': 26, 'min_samples_split': 5, 'min_samples_leaf': 1, 'max_features': 'sqrt'}. Best is trial 0 with value: 0.6574324324324324.\n",
      "2025/10/07 19:12:17 INFO mlflow.utils.autologging_utils: Created MLflow autologging run with ID '4042e53293954af78cce296efd2a70aa', which will track hyperparameters, performance metrics, model artifacts, and lineage information for the current sklearn workflow\n",
      "2025/10/07 19:12:17 WARNING mlflow.sklearn: Failed to log training dataset information to MLflow Tracking. Reason: 'Series' object has no attribute 'flatten'\n",
      "2025/10/07 19:12:28 WARNING mlflow.utils.environment: Failed to resolve installed pip version. ``pip`` will be added to conda.yaml environment spec without a version specifier.\n",
      "[I 2025-10-07 19:12:30,594] Trial 7 finished with value: 0.3324324324324324 and parameters: {'n_estimators': 79, 'max_depth': 29, 'min_samples_split': 15, 'min_samples_leaf': 7, 'max_features': 'log2'}. Best is trial 0 with value: 0.6574324324324324.\n",
      "2025/10/07 19:12:33 INFO mlflow.utils.autologging_utils: Created MLflow autologging run with ID 'aa149cfab2b44dbd8cd884233c368126', which will track hyperparameters, performance metrics, model artifacts, and lineage information for the current sklearn workflow\n",
      "2025/10/07 19:12:34 WARNING mlflow.sklearn: Failed to log training dataset information to MLflow Tracking. Reason: 'Series' object has no attribute 'flatten'\n",
      "2025/10/07 19:12:48 WARNING mlflow.utils.environment: Failed to resolve installed pip version. ``pip`` will be added to conda.yaml environment spec without a version specifier.\n",
      "[I 2025-10-07 19:12:52,184] Trial 8 finished with value: 0.5135135135135135 and parameters: {'n_estimators': 66, 'max_depth': 10, 'min_samples_split': 2, 'min_samples_leaf': 2, 'max_features': 'sqrt'}. Best is trial 0 with value: 0.6574324324324324.\n",
      "2025/10/07 19:12:55 INFO mlflow.utils.autologging_utils: Created MLflow autologging run with ID 'f58a9d0b31504e5ab2e5e61f6233a59a', which will track hyperparameters, performance metrics, model artifacts, and lineage information for the current sklearn workflow\n",
      "2025/10/07 19:12:57 WARNING mlflow.sklearn: Failed to log training dataset information to MLflow Tracking. Reason: 'Series' object has no attribute 'flatten'\n",
      "2025/10/07 19:13:08 WARNING mlflow.utils.environment: Failed to resolve installed pip version. ``pip`` will be added to conda.yaml environment spec without a version specifier.\n",
      "[I 2025-10-07 19:13:12,733] Trial 9 finished with value: 0.4114864864864865 and parameters: {'n_estimators': 193, 'max_depth': 6, 'min_samples_split': 4, 'min_samples_leaf': 2, 'max_features': 'sqrt'}. Best is trial 0 with value: 0.6574324324324324.\n"
     ]
    },
    {
     "data": {
      "text/html": [
       "<pre style=\"white-space:pre;overflow-x:auto;line-height:normal;font-family:Menlo,'DejaVu Sans Mono',consolas,'Courier New',monospace\">19:13:13.051 | <span style=\"color: #008080; text-decoration-color: #008080\">INFO</span>    | Task run 'Train_Model_Optuna-f3a' - \n",
       "Optimization complete!\n",
       "</pre>\n"
      ],
      "text/plain": [
       "19:13:13.051 | \u001b[36mINFO\u001b[0m    | Task run 'Train_Model_Optuna-f3a' - \n",
       "Optimization complete!\n"
      ]
     },
     "metadata": {},
     "output_type": "display_data"
    },
    {
     "data": {
      "text/html": [
       "<pre style=\"white-space:pre;overflow-x:auto;line-height:normal;font-family:Menlo,'DejaVu Sans Mono',consolas,'Courier New',monospace\">19:13:13.058 | <span style=\"color: #008080; text-decoration-color: #008080\">INFO</span>    | Task run 'Train_Model_Optuna-f3a' - Best accuracy: 0.6574\n",
       "</pre>\n"
      ],
      "text/plain": [
       "19:13:13.058 | \u001b[36mINFO\u001b[0m    | Task run 'Train_Model_Optuna-f3a' - Best accuracy: 0.6574\n"
      ]
     },
     "metadata": {},
     "output_type": "display_data"
    },
    {
     "data": {
      "text/html": [
       "<pre style=\"white-space:pre;overflow-x:auto;line-height:normal;font-family:Menlo,'DejaVu Sans Mono',consolas,'Courier New',monospace\">19:13:13.064 | <span style=\"color: #008080; text-decoration-color: #008080\">INFO</span>    | Task run 'Train_Model_Optuna-f3a' - Best parameters: {'n_estimators': 78, 'max_depth': 27, 'min_samples_split': 5, 'min_samples_leaf': 1, 'max_features': 'sqrt'}\n",
       "</pre>\n"
      ],
      "text/plain": [
       "19:13:13.064 | \u001b[36mINFO\u001b[0m    | Task run 'Train_Model_Optuna-f3a' - Best parameters: {'n_estimators': 78, 'max_depth': 27, 'min_samples_split': 5, 'min_samples_leaf': 1, 'max_features': 'sqrt'}\n"
      ]
     },
     "metadata": {},
     "output_type": "display_data"
    },
    {
     "name": "stderr",
     "output_type": "stream",
     "text": [
      "2025/10/07 19:13:15 WARNING mlflow.sklearn: Failed to log training dataset information to MLflow Tracking. Reason: 'Series' object has no attribute 'flatten'\n",
      "2025/10/07 19:13:29 WARNING mlflow.utils.environment: Failed to resolve installed pip version. ``pip`` will be added to conda.yaml environment spec without a version specifier.\n",
      "2025/10/07 19:13:38 WARNING mlflow.models.model: `artifact_path` is deprecated. Please use `name` instead.\n",
      "2025/10/07 19:13:52 WARNING mlflow.utils.environment: Failed to resolve installed pip version. ``pip`` will be added to conda.yaml environment spec without a version specifier.\n",
      "Downloading artifacts: 100%|██████████| 7/7 [00:00<00:00, 273.67it/s]\n",
      "2025/10/07 19:13:52 WARNING mlflow.models.model: Failed to validate serving input example {\n",
      "  \"dataframe_split\": {\n",
      "    \"columns\": [\n",
      "      \"c.... Alternatively, you can avoid passing input example and pass model signature instead when logging the model. To ensure the input example is valid prior to serving, please try calling `mlflow.models.validate_serving_input` on the model uri and serving input example. A serving input example can be generated from model input example using `mlflow.models.convert_input_example_to_serving_input` function.\n",
      "Got error: Invalid input. Data is not compatible with model signature. Failed to convert column concatenada to type 'float64'. Error: 'ValueError(\"could not convert string to float: 'consulta presencial mencionar antecedente trastorno dficit atencin hiperactividad tdah comentar soler toser sentir nervioso episodio to ocurri jugar ftbol adolescencia año explicar sentar presin jugar cometa error pasar errado haca sentir insuficiente disminuir confianza s recordar entrenador comentario despectivo hacar sentir servir banca experiencia señalar sentir entorno acadmico relación romntica admitir invitar mujer salir finalmente mencionar contar red apoyo slido conducta suicida consulta presencial estabilidad anmico acadmico social familiar presentado sintomatologa ansiós realizar cierre proceso psicoteraputico conducta suicida teleconsulto volver consulta informar finalizado semestre acadmico expresar satisfaccin desempeño ftbol ruptura relacin amoroso indicar conocer persona avanzar proceso duelo fase aceptacin prdida adems mencionar discusión madre especialmente solicitar favor alto hora noche señalar dificultad establecer lmit comentar mam sacar cara pedir ayuda adems observar madre podrar presentar sntoma ansiedad particularmente contexto actual prximo mudanza conducta suicida teleconsulto informar experimentar estrs ansiedad relacionado exmén acadmico estabilidad patrones sueño apetito adems señalar mantenido contacto red apoyo reportar conflicto interpersonal hermán conducto suicida presentar apariencia general apropiado limpio acorde edad nutricional adecuado adems percibir alerta normocintico euprosxico eumnsico normollico actitud cooperativo honesto contacto ocular sostenido nimo ansioso afecto regulado pensamiento contenido preocupación orientacin alopsquico autopsquico adecuado inteligencia abstraccin adecuado introspeccin prospeccin construccin'\")'\n"
     ]
    },
    {
     "data": {
      "text/html": [
       "<pre style=\"white-space:pre;overflow-x:auto;line-height:normal;font-family:Menlo,'DejaVu Sans Mono',consolas,'Courier New',monospace\">19:13:52.930 | <span style=\"color: #008080; text-decoration-color: #008080\">INFO</span>    | Task run 'Train_Model_Optuna-f3a' - \n",
       "Best Model MLflow Run ID: 78d34e9f332745ba9a1a43c68a73c35a\n",
       "</pre>\n"
      ],
      "text/plain": [
       "19:13:52.930 | \u001b[36mINFO\u001b[0m    | Task run 'Train_Model_Optuna-f3a' - \n",
       "Best Model MLflow Run ID: 78d34e9f332745ba9a1a43c68a73c35a\n"
      ]
     },
     "metadata": {},
     "output_type": "display_data"
    },
    {
     "data": {
      "text/html": [
       "<pre style=\"white-space:pre;overflow-x:auto;line-height:normal;font-family:Menlo,'DejaVu Sans Mono',consolas,'Courier New',monospace\">19:13:52.937 | <span style=\"color: #008080; text-decoration-color: #008080\">INFO</span>    | Task run 'Train_Model_Optuna-f3a' - Tracking URI: <span style=\"color: #0000ff; text-decoration-color: #0000ff\">file:///c:/Users/ISAIAS_QUINTERO/Desktop/Universiad/MLOps/Proyecto_Final/src/training/mlruns</span>\n",
       "</pre>\n"
      ],
      "text/plain": [
       "19:13:52.937 | \u001b[36mINFO\u001b[0m    | Task run 'Train_Model_Optuna-f3a' - Tracking URI: \u001b[94mfile:///c:/Users/ISAIAS_QUINTERO/Desktop/Universiad/MLOps/Proyecto_Final/src/training/mlruns\u001b[0m\n"
      ]
     },
     "metadata": {},
     "output_type": "display_data"
    },
    {
     "data": {
      "text/html": [
       "<pre style=\"white-space:pre;overflow-x:auto;line-height:normal;font-family:Menlo,'DejaVu Sans Mono',consolas,'Courier New',monospace\">19:13:52.944 | <span style=\"color: #008080; text-decoration-color: #008080\">INFO</span>    | Task run 'Train_Model_Optuna-f3a' - Train Accuracy: 0.9623\n",
       "</pre>\n"
      ],
      "text/plain": [
       "19:13:52.944 | \u001b[36mINFO\u001b[0m    | Task run 'Train_Model_Optuna-f3a' - Train Accuracy: 0.9623\n"
      ]
     },
     "metadata": {},
     "output_type": "display_data"
    },
    {
     "data": {
      "text/html": [
       "<pre style=\"white-space:pre;overflow-x:auto;line-height:normal;font-family:Menlo,'DejaVu Sans Mono',consolas,'Courier New',monospace\">19:13:52.950 | <span style=\"color: #008080; text-decoration-color: #008080\">INFO</span>    | Task run 'Train_Model_Optuna-f3a' - Test Accuracy: 0.6574\n",
       "</pre>\n"
      ],
      "text/plain": [
       "19:13:52.950 | \u001b[36mINFO\u001b[0m    | Task run 'Train_Model_Optuna-f3a' - Test Accuracy: 0.6574\n"
      ]
     },
     "metadata": {},
     "output_type": "display_data"
    },
    {
     "data": {
      "text/html": [
       "<pre style=\"white-space:pre;overflow-x:auto;line-height:normal;font-family:Menlo,'DejaVu Sans Mono',consolas,'Courier New',monospace\">19:13:54.183 | <span style=\"color: #008080; text-decoration-color: #008080\">INFO</span>    | Task run 'Train_Model_Optuna-f3a' - Optimization complete! Best accuracy: 0.6574\n",
       "</pre>\n"
      ],
      "text/plain": [
       "19:13:54.183 | \u001b[36mINFO\u001b[0m    | Task run 'Train_Model_Optuna-f3a' - Optimization complete! Best accuracy: 0.6574\n"
      ]
     },
     "metadata": {},
     "output_type": "display_data"
    },
    {
     "data": {
      "text/html": [
       "<pre style=\"white-space:pre;overflow-x:auto;line-height:normal;font-family:Menlo,'DejaVu Sans Mono',consolas,'Courier New',monospace\">19:13:54.192 | <span style=\"color: #008080; text-decoration-color: #008080\">INFO</span>    | Task run 'Train_Model_Optuna-f3a' - Best parameters: {'n_estimators': 78, 'max_depth': 27, 'min_samples_split': 5, 'min_samples_leaf': 1, 'max_features': 'sqrt'}\n",
       "</pre>\n"
      ],
      "text/plain": [
       "19:13:54.192 | \u001b[36mINFO\u001b[0m    | Task run 'Train_Model_Optuna-f3a' - Best parameters: {'n_estimators': 78, 'max_depth': 27, 'min_samples_split': 5, 'min_samples_leaf': 1, 'max_features': 'sqrt'}\n"
      ]
     },
     "metadata": {},
     "output_type": "display_data"
    },
    {
     "data": {
      "text/html": [
       "<pre style=\"white-space:pre;overflow-x:auto;line-height:normal;font-family:Menlo,'DejaVu Sans Mono',consolas,'Courier New',monospace\">19:13:54.197 | <span style=\"color: #008080; text-decoration-color: #008080\">INFO</span>    | Task run 'Train_Model_Optuna-f3a' - MLflow Run ID: 78d34e9f332745ba9a1a43c68a73c35a\n",
       "</pre>\n"
      ],
      "text/plain": [
       "19:13:54.197 | \u001b[36mINFO\u001b[0m    | Task run 'Train_Model_Optuna-f3a' - MLflow Run ID: 78d34e9f332745ba9a1a43c68a73c35a\n"
      ]
     },
     "metadata": {},
     "output_type": "display_data"
    },
    {
     "data": {
      "text/html": [
       "<pre style=\"white-space:pre;overflow-x:auto;line-height:normal;font-family:Menlo,'DejaVu Sans Mono',consolas,'Courier New',monospace\">19:13:54.208 | <span style=\"color: #008080; text-decoration-color: #008080\">INFO</span>    | Task run 'Train_Model_Optuna-f3a' - Finished in state <span style=\"color: #008000; text-decoration-color: #008000\">Completed</span>()\n",
       "</pre>\n"
      ],
      "text/plain": [
       "19:13:54.208 | \u001b[36mINFO\u001b[0m    | Task run 'Train_Model_Optuna-f3a' - Finished in state \u001b[32mCompleted\u001b[0m()\n"
      ]
     },
     "metadata": {},
     "output_type": "display_data"
    },
    {
     "data": {
      "text/html": [
       "<pre style=\"white-space:pre;overflow-x:auto;line-height:normal;font-family:Menlo,'DejaVu Sans Mono',consolas,'Courier New',monospace\">19:13:55.155 | <span style=\"color: #008080; text-decoration-color: #008080\">INFO</span>    | Task run 'Create_Model_Report-c8a' - Creating model training report...\n",
       "</pre>\n"
      ],
      "text/plain": [
       "19:13:55.155 | \u001b[36mINFO\u001b[0m    | Task run 'Create_Model_Report-c8a' - Creating model training report...\n"
      ]
     },
     "metadata": {},
     "output_type": "display_data"
    },
    {
     "data": {
      "text/html": [
       "<pre style=\"white-space:pre;overflow-x:auto;line-height:normal;font-family:Menlo,'DejaVu Sans Mono',consolas,'Courier New',monospace\">19:13:55.194 | <span style=\"color: #008080; text-decoration-color: #008080\">INFO</span>    | Task run 'Create_Model_Report-c8a' - Model training report created successfully\n",
       "</pre>\n"
      ],
      "text/plain": [
       "19:13:55.194 | \u001b[36mINFO\u001b[0m    | Task run 'Create_Model_Report-c8a' - Model training report created successfully\n"
      ]
     },
     "metadata": {},
     "output_type": "display_data"
    },
    {
     "data": {
      "text/html": [
       "<pre style=\"white-space:pre;overflow-x:auto;line-height:normal;font-family:Menlo,'DejaVu Sans Mono',consolas,'Courier New',monospace\">19:13:55.213 | <span style=\"color: #008080; text-decoration-color: #008080\">INFO</span>    | Task run 'Create_Model_Report-c8a' - Finished in state <span style=\"color: #008000; text-decoration-color: #008000\">Completed</span>()\n",
       "</pre>\n"
      ],
      "text/plain": [
       "19:13:55.213 | \u001b[36mINFO\u001b[0m    | Task run 'Create_Model_Report-c8a' - Finished in state \u001b[32mCompleted\u001b[0m()\n"
      ]
     },
     "metadata": {},
     "output_type": "display_data"
    },
    {
     "data": {
      "text/html": [
       "<pre style=\"white-space:pre;overflow-x:auto;line-height:normal;font-family:Menlo,'DejaVu Sans Mono',consolas,'Courier New',monospace\">19:13:55.218 | <span style=\"color: #008080; text-decoration-color: #008080\">INFO</span>    | Flow run<span style=\"color: #800080; text-decoration-color: #800080\"> 'monumental-hornet'</span> - Training flow complete! Best model saved with run ID: 78d34e9f332745ba9a1a43c68a73c35a\n",
       "</pre>\n"
      ],
      "text/plain": [
       "19:13:55.218 | \u001b[36mINFO\u001b[0m    | Flow run\u001b[35m 'monumental-hornet'\u001b[0m - Training flow complete! Best model saved with run ID: 78d34e9f332745ba9a1a43c68a73c35a\n"
      ]
     },
     "metadata": {},
     "output_type": "display_data"
    },
    {
     "data": {
      "text/html": [
       "<pre style=\"white-space:pre;overflow-x:auto;line-height:normal;font-family:Menlo,'DejaVu Sans Mono',consolas,'Courier New',monospace\">19:13:55.363 | <span style=\"color: #008080; text-decoration-color: #008080\">INFO</span>    | Flow run<span style=\"color: #800080; text-decoration-color: #800080\"> 'monumental-hornet'</span> - Finished in state <span style=\"color: #008000; text-decoration-color: #008000\">Completed</span>()\n",
       "</pre>\n"
      ],
      "text/plain": [
       "19:13:55.363 | \u001b[36mINFO\u001b[0m    | Flow run\u001b[35m 'monumental-hornet'\u001b[0m - Finished in state \u001b[32mCompleted\u001b[0m()\n"
      ]
     },
     "metadata": {},
     "output_type": "display_data"
    },
    {
     "name": "stdout",
     "output_type": "stream",
     "text": [
      "\n",
      "RandomForest training completed successfully!\n",
      "Best RandomForest pipeline: Pipeline(steps=[('classifier',\n",
      "                 RandomForestClassifier(max_depth=27, min_samples_split=5,\n",
      "                                        n_estimators=78, n_jobs=-1,\n",
      "                                        random_state=42))])\n",
      "RandomForest MLflow Run ID: 78d34e9f332745ba9a1a43c68a73c35a\n"
     ]
    }
   ],
   "source": [
    "# Test with RandomForest\n",
    "print(\"\\n\" + \"=\"*50)\n",
    "print(\"Testing with RandomForest...\")\n",
    "print(\"=\"*50)\n",
    "\n",
    "pipeline_rf, run_id_rf = train_model_flow(\n",
    "    nregistros=5000, \n",
    "    model_type=\"RandomForest\",\n",
    "    n_trials=10,\n",
    "    optimization_metric=\"accuracy\"\n",
    ")\n",
    "\n",
    "print(f\"\\nRandomForest training completed successfully!\")\n",
    "print(f\"Best RandomForest pipeline: {pipeline_rf}\")\n",
    "print(f\"RandomForest MLflow Run ID: {run_id_rf}\")"
   ]
  },
  {
   "cell_type": "code",
   "execution_count": 7,
   "id": "ff2c3106",
   "metadata": {},
   "outputs": [
    {
     "name": "stdout",
     "output_type": "stream",
     "text": [
      "\n",
      "============================================================\n",
      "Testing Model Comparison Flow...\n",
      "============================================================\n"
     ]
    },
    {
     "data": {
      "text/html": [
       "<pre style=\"white-space:pre;overflow-x:auto;line-height:normal;font-family:Menlo,'DejaVu Sans Mono',consolas,'Courier New',monospace\">19:16:57.104 | <span style=\"color: #008080; text-decoration-color: #008080\">INFO</span>    | Flow run<span style=\"color: #800080; text-decoration-color: #800080\"> 'loud-dragon'</span> - Beginning flow run<span style=\"color: #800080; text-decoration-color: #800080\"> 'loud-dragon'</span> for flow<span style=\"color: #800080; text-decoration-color: #800080; font-weight: bold\"> 'Compare_Models'</span>\n",
       "</pre>\n"
      ],
      "text/plain": [
       "19:16:57.104 | \u001b[36mINFO\u001b[0m    | Flow run\u001b[35m 'loud-dragon'\u001b[0m - Beginning flow run\u001b[35m 'loud-dragon'\u001b[0m for flow\u001b[1;35m 'Compare_Models'\u001b[0m\n"
      ]
     },
     "metadata": {},
     "output_type": "display_data"
    },
    {
     "data": {
      "text/html": [
       "<pre style=\"white-space:pre;overflow-x:auto;line-height:normal;font-family:Menlo,'DejaVu Sans Mono',consolas,'Courier New',monospace\">19:16:57.109 | <span style=\"color: #008080; text-decoration-color: #008080\">INFO</span>    | Flow run<span style=\"color: #800080; text-decoration-color: #800080\"> 'loud-dragon'</span> - View at <span style=\"color: #0000ff; text-decoration-color: #0000ff\">http://127.0.0.1:4200/runs/flow-run/d49d4b82-aa23-4581-9c72-260e020bf70a</span>\n",
       "</pre>\n"
      ],
      "text/plain": [
       "19:16:57.109 | \u001b[36mINFO\u001b[0m    | Flow run\u001b[35m 'loud-dragon'\u001b[0m - View at \u001b[94mhttp://127.0.0.1:4200/runs/flow-run/d49d4b82-aa23-4581-9c72-260e020bf70a\u001b[0m\n"
      ]
     },
     "metadata": {},
     "output_type": "display_data"
    },
    {
     "data": {
      "text/html": [
       "<pre style=\"white-space:pre;overflow-x:auto;line-height:normal;font-family:Menlo,'DejaVu Sans Mono',consolas,'Courier New',monospace\">19:16:57.111 | <span style=\"color: #008080; text-decoration-color: #008080\">INFO</span>    | Flow run<span style=\"color: #800080; text-decoration-color: #800080\"> 'loud-dragon'</span> - Starting model comparison flow...\n",
       "</pre>\n"
      ],
      "text/plain": [
       "19:16:57.111 | \u001b[36mINFO\u001b[0m    | Flow run\u001b[35m 'loud-dragon'\u001b[0m - Starting model comparison flow...\n"
      ]
     },
     "metadata": {},
     "output_type": "display_data"
    },
    {
     "data": {
      "text/html": [
       "<pre style=\"white-space:pre;overflow-x:auto;line-height:normal;font-family:Menlo,'DejaVu Sans Mono',consolas,'Courier New',monospace\">19:16:57.352 | <span style=\"color: #008080; text-decoration-color: #008080\">INFO</span>    | Task run 'etl_dataset-73d' - Generating 5000 registros...\n",
       "</pre>\n"
      ],
      "text/plain": [
       "19:16:57.352 | \u001b[36mINFO\u001b[0m    | Task run 'etl_dataset-73d' - Generating 5000 registros...\n"
      ]
     },
     "metadata": {},
     "output_type": "display_data"
    },
    {
     "data": {
      "text/html": [
       "<pre style=\"white-space:pre;overflow-x:auto;line-height:normal;font-family:Menlo,'DejaVu Sans Mono',consolas,'Courier New',monospace\">19:17:11.154 | <span style=\"color: #008080; text-decoration-color: #008080\">INFO</span>    | Task run 'etl_dataset-73d' - Generated 4931 samples with 7 columns\n",
       "</pre>\n"
      ],
      "text/plain": [
       "19:17:11.154 | \u001b[36mINFO\u001b[0m    | Task run 'etl_dataset-73d' - Generated 4931 samples with 7 columns\n"
      ]
     },
     "metadata": {},
     "output_type": "display_data"
    },
    {
     "data": {
      "text/html": [
       "<pre style=\"white-space:pre;overflow-x:auto;line-height:normal;font-family:Menlo,'DejaVu Sans Mono',consolas,'Courier New',monospace\">19:17:11.278 | <span style=\"color: #008080; text-decoration-color: #008080\">INFO</span>    | Task run 'etl_dataset-73d' - Finished in state <span style=\"color: #008000; text-decoration-color: #008000\">Completed</span>()\n",
       "</pre>\n"
      ],
      "text/plain": [
       "19:17:11.278 | \u001b[36mINFO\u001b[0m    | Task run 'etl_dataset-73d' - Finished in state \u001b[32mCompleted\u001b[0m()\n"
      ]
     },
     "metadata": {},
     "output_type": "display_data"
    },
    {
     "data": {
      "text/html": [
       "<pre style=\"white-space:pre;overflow-x:auto;line-height:normal;font-family:Menlo,'DejaVu Sans Mono',consolas,'Courier New',monospace\">19:17:11.650 | <span style=\"color: #008080; text-decoration-color: #008080\">INFO</span>    | Task run 'Feature_Engineering-bec' - Starting feature engineering...\n",
       "</pre>\n"
      ],
      "text/plain": [
       "19:17:11.650 | \u001b[36mINFO\u001b[0m    | Task run 'Feature_Engineering-bec' - Starting feature engineering...\n"
      ]
     },
     "metadata": {},
     "output_type": "display_data"
    },
    {
     "data": {
      "text/html": [
       "<pre style=\"white-space:pre;overflow-x:auto;line-height:normal;font-family:Menlo,'DejaVu Sans Mono',consolas,'Courier New',monospace\">19:21:19.264 | <span style=\"color: #008080; text-decoration-color: #008080\">INFO</span>    | Task run 'Feature_Engineering-bec' - Feature engineering complete: 7 -&gt; 9 features\n",
       "</pre>\n"
      ],
      "text/plain": [
       "19:21:19.264 | \u001b[36mINFO\u001b[0m    | Task run 'Feature_Engineering-bec' - Feature engineering complete: 7 -> 9 features\n"
      ]
     },
     "metadata": {},
     "output_type": "display_data"
    },
    {
     "data": {
      "text/html": [
       "<pre style=\"white-space:pre;overflow-x:auto;line-height:normal;font-family:Menlo,'DejaVu Sans Mono',consolas,'Courier New',monospace\">19:21:19.284 | <span style=\"color: #008080; text-decoration-color: #008080\">INFO</span>    | Task run 'Feature_Engineering-bec' - Finished in state <span style=\"color: #008000; text-decoration-color: #008000\">Completed</span>()\n",
       "</pre>\n"
      ],
      "text/plain": [
       "19:21:19.284 | \u001b[36mINFO\u001b[0m    | Task run 'Feature_Engineering-bec' - Finished in state \u001b[32mCompleted\u001b[0m()\n"
      ]
     },
     "metadata": {},
     "output_type": "display_data"
    },
    {
     "data": {
      "text/html": [
       "<pre style=\"white-space:pre;overflow-x:auto;line-height:normal;font-family:Menlo,'DejaVu Sans Mono',consolas,'Courier New',monospace\">19:21:19.289 | <span style=\"color: #008080; text-decoration-color: #008080\">INFO</span>    | Flow run<span style=\"color: #800080; text-decoration-color: #800080\"> 'loud-dragon'</span> - Training LogisticRegression optimizing for accuracy...\n",
       "</pre>\n"
      ],
      "text/plain": [
       "19:21:19.289 | \u001b[36mINFO\u001b[0m    | Flow run\u001b[35m 'loud-dragon'\u001b[0m - Training LogisticRegression optimizing for accuracy...\n"
      ]
     },
     "metadata": {},
     "output_type": "display_data"
    },
    {
     "data": {
      "text/html": [
       "<pre style=\"white-space:pre;overflow-x:auto;line-height:normal;font-family:Menlo,'DejaVu Sans Mono',consolas,'Courier New',monospace\">19:21:19.655 | <span style=\"color: #008080; text-decoration-color: #008080\">INFO</span>    | Task run 'Train_Model_Optuna-bfa' - Starting Optuna optimization for LogisticRegression with 10 trials...\n",
       "</pre>\n"
      ],
      "text/plain": [
       "19:21:19.655 | \u001b[36mINFO\u001b[0m    | Task run 'Train_Model_Optuna-bfa' - Starting Optuna optimization for LogisticRegression with 10 trials...\n"
      ]
     },
     "metadata": {},
     "output_type": "display_data"
    },
    {
     "name": "stderr",
     "output_type": "stream",
     "text": [
      "[I 2025-10-07 19:21:19,805] A new study created in memory with name: optuna_LogisticRegression\n"
     ]
    },
    {
     "data": {
      "text/html": [
       "<pre style=\"white-space:pre;overflow-x:auto;line-height:normal;font-family:Menlo,'DejaVu Sans Mono',consolas,'Courier New',monospace\">19:21:19.806 | <span style=\"color: #008080; text-decoration-color: #008080\">INFO</span>    | Task run 'Train_Model_Optuna-bfa' - Starting Optuna optimization with 10 trials...\n",
       "</pre>\n"
      ],
      "text/plain": [
       "19:21:19.806 | \u001b[36mINFO\u001b[0m    | Task run 'Train_Model_Optuna-bfa' - Starting Optuna optimization with 10 trials...\n"
      ]
     },
     "metadata": {},
     "output_type": "display_data"
    },
    {
     "data": {
      "text/html": [
       "<pre style=\"white-space:pre;overflow-x:auto;line-height:normal;font-family:Menlo,'DejaVu Sans Mono',consolas,'Courier New',monospace\">19:21:19.809 | <span style=\"color: #008080; text-decoration-color: #008080\">INFO</span>    | Task run 'Train_Model_Optuna-bfa' - Optimizing for: accuracy\n",
       "</pre>\n"
      ],
      "text/plain": [
       "19:21:19.809 | \u001b[36mINFO\u001b[0m    | Task run 'Train_Model_Optuna-bfa' - Optimizing for: accuracy\n"
      ]
     },
     "metadata": {},
     "output_type": "display_data"
    },
    {
     "data": {
      "text/html": [
       "<pre style=\"white-space:pre;overflow-x:auto;line-height:normal;font-family:Menlo,'DejaVu Sans Mono',consolas,'Courier New',monospace\">19:21:19.811 | <span style=\"color: #008080; text-decoration-color: #008080\">INFO</span>    | Task run 'Train_Model_Optuna-bfa' - Model type: LogisticRegression\n",
       "</pre>\n"
      ],
      "text/plain": [
       "19:21:19.811 | \u001b[36mINFO\u001b[0m    | Task run 'Train_Model_Optuna-bfa' - Model type: LogisticRegression\n"
      ]
     },
     "metadata": {},
     "output_type": "display_data"
    },
    {
     "name": "stderr",
     "output_type": "stream",
     "text": [
      "2025/10/07 19:21:20 INFO mlflow.utils.autologging_utils: Created MLflow autologging run with ID '08b6571c2c404f14a4ed81c1d459ebed', which will track hyperparameters, performance metrics, model artifacts, and lineage information for the current sklearn workflow\n",
      "2025/10/07 19:21:20 WARNING mlflow.sklearn: Failed to log training dataset information to MLflow Tracking. Reason: 'Series' object has no attribute 'flatten'\n",
      "2025/10/07 19:21:28 WARNING mlflow.utils.environment: Failed to resolve installed pip version. ``pip`` will be added to conda.yaml environment spec without a version specifier.\n",
      "[I 2025-10-07 19:21:29,817] Trial 0 finished with value: 0.7121621621621622 and parameters: {'C': 84.8166024804912, 'penalty': 'l1', 'max_iter': 1533, 'solver': 'liblinear'}. Best is trial 0 with value: 0.7121621621621622.\n",
      "2025/10/07 19:21:30 INFO mlflow.utils.autologging_utils: Created MLflow autologging run with ID '2c6d1ccdc4354315b6a5e38a898b1ea8', which will track hyperparameters, performance metrics, model artifacts, and lineage information for the current sklearn workflow\n",
      "2025/10/07 19:21:31 WARNING mlflow.sklearn: Failed to log training dataset information to MLflow Tracking. Reason: 'Series' object has no attribute 'flatten'\n",
      "2025/10/07 19:21:37 WARNING mlflow.utils.environment: Failed to resolve installed pip version. ``pip`` will be added to conda.yaml environment spec without a version specifier.\n",
      "[I 2025-10-07 19:21:39,608] Trial 1 finished with value: 0.3202702702702703 and parameters: {'C': 0.01314451607236751, 'penalty': 'l2', 'max_iter': 466, 'solver': 'liblinear'}. Best is trial 0 with value: 0.7121621621621622.\n",
      "2025/10/07 19:21:40 INFO mlflow.utils.autologging_utils: Created MLflow autologging run with ID 'dbbcb3670c1040f2a50b3676efb435b5', which will track hyperparameters, performance metrics, model artifacts, and lineage information for the current sklearn workflow\n",
      "2025/10/07 19:21:40 WARNING mlflow.sklearn: Failed to log training dataset information to MLflow Tracking. Reason: 'Series' object has no attribute 'flatten'\n",
      "2025/10/07 19:21:47 WARNING mlflow.utils.environment: Failed to resolve installed pip version. ``pip`` will be added to conda.yaml environment spec without a version specifier.\n",
      "[I 2025-10-07 19:21:48,495] Trial 2 finished with value: 0.3162162162162162 and parameters: {'C': 0.001195063436315146, 'penalty': 'l1', 'max_iter': 1110, 'solver': 'saga'}. Best is trial 0 with value: 0.7121621621621622.\n",
      "2025/10/07 19:21:49 INFO mlflow.utils.autologging_utils: Created MLflow autologging run with ID '4511767ebe3347f8be55a8105a7a7483', which will track hyperparameters, performance metrics, model artifacts, and lineage information for the current sklearn workflow\n",
      "2025/10/07 19:21:49 WARNING mlflow.sklearn: Failed to log training dataset information to MLflow Tracking. Reason: 'Series' object has no attribute 'flatten'\n",
      "2025/10/07 19:22:05 WARNING mlflow.utils.environment: Failed to resolve installed pip version. ``pip`` will be added to conda.yaml environment spec without a version specifier.\n",
      "[I 2025-10-07 19:22:06,695] Trial 3 finished with value: 0.6229729729729729 and parameters: {'C': 1.4157472491310694, 'penalty': 'l1', 'max_iter': 844, 'solver': 'saga'}. Best is trial 0 with value: 0.7121621621621622.\n",
      "2025/10/07 19:22:07 INFO mlflow.utils.autologging_utils: Created MLflow autologging run with ID '40cffd63a1784888bef13a99845bbf7e', which will track hyperparameters, performance metrics, model artifacts, and lineage information for the current sklearn workflow\n",
      "2025/10/07 19:22:08 WARNING mlflow.sklearn: Failed to log training dataset information to MLflow Tracking. Reason: 'Series' object has no attribute 'flatten'\n",
      "2025/10/07 19:22:18 WARNING mlflow.utils.environment: Failed to resolve installed pip version. ``pip`` will be added to conda.yaml environment spec without a version specifier.\n",
      "[I 2025-10-07 19:22:20,041] Trial 4 finished with value: 0.5432432432432432 and parameters: {'C': 0.6836143150209385, 'penalty': 'l1', 'max_iter': 569, 'solver': 'saga'}. Best is trial 0 with value: 0.7121621621621622.\n",
      "2025/10/07 19:22:21 INFO mlflow.utils.autologging_utils: Created MLflow autologging run with ID 'bbcec6264b504b369d75a147da2f6c11', which will track hyperparameters, performance metrics, model artifacts, and lineage information for the current sklearn workflow\n",
      "2025/10/07 19:22:21 WARNING mlflow.sklearn: Failed to log training dataset information to MLflow Tracking. Reason: 'Series' object has no attribute 'flatten'\n",
      "2025/10/07 19:22:27 WARNING mlflow.utils.environment: Failed to resolve installed pip version. ``pip`` will be added to conda.yaml environment spec without a version specifier.\n",
      "[I 2025-10-07 19:22:29,289] Trial 5 finished with value: 0.3168918918918919 and parameters: {'C': 0.009828336964479819, 'penalty': 'l2', 'max_iter': 641, 'solver': 'saga'}. Best is trial 0 with value: 0.7121621621621622.\n",
      "2025/10/07 19:22:30 INFO mlflow.utils.autologging_utils: Created MLflow autologging run with ID '06c1404b5061449a8436dc2cd6a6c4ab', which will track hyperparameters, performance metrics, model artifacts, and lineage information for the current sklearn workflow\n",
      "2025/10/07 19:22:30 WARNING mlflow.sklearn: Failed to log training dataset information to MLflow Tracking. Reason: 'Series' object has no attribute 'flatten'\n",
      "2025/10/07 19:22:42 WARNING mlflow.utils.environment: Failed to resolve installed pip version. ``pip`` will be added to conda.yaml environment spec without a version specifier.\n",
      "[I 2025-10-07 19:22:46,061] Trial 6 finished with value: 0.31756756756756754 and parameters: {'C': 0.01024491494936691, 'penalty': 'l2', 'max_iter': 1559, 'solver': 'saga'}. Best is trial 0 with value: 0.7121621621621622.\n",
      "2025/10/07 19:22:48 INFO mlflow.utils.autologging_utils: Created MLflow autologging run with ID 'c2fc0c65b1244904997375872dd46d7b', which will track hyperparameters, performance metrics, model artifacts, and lineage information for the current sklearn workflow\n",
      "2025/10/07 19:22:49 WARNING mlflow.sklearn: Failed to log training dataset information to MLflow Tracking. Reason: 'Series' object has no attribute 'flatten'\n",
      "2025/10/07 19:23:18 WARNING mlflow.utils.environment: Failed to resolve installed pip version. ``pip`` will be added to conda.yaml environment spec without a version specifier.\n",
      "[I 2025-10-07 19:23:21,843] Trial 7 finished with value: 0.6121621621621621 and parameters: {'C': 1.2151319375348224, 'penalty': 'l1', 'max_iter': 1032, 'solver': 'saga'}. Best is trial 0 with value: 0.7121621621621622.\n",
      "2025/10/07 19:23:23 INFO mlflow.utils.autologging_utils: Created MLflow autologging run with ID '1b840418a0a14e4c9a5d18ff93522518', which will track hyperparameters, performance metrics, model artifacts, and lineage information for the current sklearn workflow\n",
      "2025/10/07 19:23:24 WARNING mlflow.sklearn: Failed to log training dataset information to MLflow Tracking. Reason: 'Series' object has no attribute 'flatten'\n",
      "2025/10/07 19:23:33 WARNING mlflow.utils.environment: Failed to resolve installed pip version. ``pip`` will be added to conda.yaml environment spec without a version specifier.\n",
      "[I 2025-10-07 19:23:35,524] Trial 8 finished with value: 0.7141891891891892 and parameters: {'C': 30.956150256753233, 'penalty': 'l1', 'max_iter': 578, 'solver': 'liblinear'}. Best is trial 8 with value: 0.7141891891891892.\n",
      "2025/10/07 19:23:36 INFO mlflow.utils.autologging_utils: Created MLflow autologging run with ID '1386cc3ea4394711b4c9f127c98f4953', which will track hyperparameters, performance metrics, model artifacts, and lineage information for the current sklearn workflow\n",
      "2025/10/07 19:23:37 WARNING mlflow.sklearn: Failed to log training dataset information to MLflow Tracking. Reason: 'Series' object has no attribute 'flatten'\n",
      "2025/10/07 19:23:48 WARNING mlflow.utils.environment: Failed to resolve installed pip version. ``pip`` will be added to conda.yaml environment spec without a version specifier.\n",
      "[I 2025-10-07 19:23:51,222] Trial 9 finished with value: 0.7141891891891892 and parameters: {'C': 30.9748668644877, 'penalty': 'l1', 'max_iter': 1394, 'solver': 'liblinear'}. Best is trial 8 with value: 0.7141891891891892.\n"
     ]
    },
    {
     "data": {
      "text/html": [
       "<pre style=\"white-space:pre;overflow-x:auto;line-height:normal;font-family:Menlo,'DejaVu Sans Mono',consolas,'Courier New',monospace\">19:23:51.508 | <span style=\"color: #008080; text-decoration-color: #008080\">INFO</span>    | Task run 'Train_Model_Optuna-bfa' - \n",
       "Optimization complete!\n",
       "</pre>\n"
      ],
      "text/plain": [
       "19:23:51.508 | \u001b[36mINFO\u001b[0m    | Task run 'Train_Model_Optuna-bfa' - \n",
       "Optimization complete!\n"
      ]
     },
     "metadata": {},
     "output_type": "display_data"
    },
    {
     "data": {
      "text/html": [
       "<pre style=\"white-space:pre;overflow-x:auto;line-height:normal;font-family:Menlo,'DejaVu Sans Mono',consolas,'Courier New',monospace\">19:23:51.517 | <span style=\"color: #008080; text-decoration-color: #008080\">INFO</span>    | Task run 'Train_Model_Optuna-bfa' - Best accuracy: 0.7142\n",
       "</pre>\n"
      ],
      "text/plain": [
       "19:23:51.517 | \u001b[36mINFO\u001b[0m    | Task run 'Train_Model_Optuna-bfa' - Best accuracy: 0.7142\n"
      ]
     },
     "metadata": {},
     "output_type": "display_data"
    },
    {
     "data": {
      "text/html": [
       "<pre style=\"white-space:pre;overflow-x:auto;line-height:normal;font-family:Menlo,'DejaVu Sans Mono',consolas,'Courier New',monospace\">19:23:51.522 | <span style=\"color: #008080; text-decoration-color: #008080\">INFO</span>    | Task run 'Train_Model_Optuna-bfa' - Best parameters: {'C': 30.956150256753233, 'penalty': 'l1', 'max_iter': 578, 'solver': 'liblinear'}\n",
       "</pre>\n"
      ],
      "text/plain": [
       "19:23:51.522 | \u001b[36mINFO\u001b[0m    | Task run 'Train_Model_Optuna-bfa' - Best parameters: {'C': 30.956150256753233, 'penalty': 'l1', 'max_iter': 578, 'solver': 'liblinear'}\n"
      ]
     },
     "metadata": {},
     "output_type": "display_data"
    },
    {
     "name": "stderr",
     "output_type": "stream",
     "text": [
      "2025/10/07 19:23:54 WARNING mlflow.sklearn: Failed to log training dataset information to MLflow Tracking. Reason: 'Series' object has no attribute 'flatten'\n",
      "2025/10/07 19:24:07 WARNING mlflow.utils.environment: Failed to resolve installed pip version. ``pip`` will be added to conda.yaml environment spec without a version specifier.\n",
      "2025/10/07 19:24:11 WARNING mlflow.models.model: `artifact_path` is deprecated. Please use `name` instead.\n",
      "2025/10/07 19:24:21 WARNING mlflow.utils.environment: Failed to resolve installed pip version. ``pip`` will be added to conda.yaml environment spec without a version specifier.\n",
      "Downloading artifacts: 100%|██████████| 7/7 [00:00<00:00, 236.69it/s] \n",
      "2025/10/07 19:24:21 WARNING mlflow.models.model: Failed to validate serving input example {\n",
      "  \"dataframe_split\": {\n",
      "    \"columns\": [\n",
      "      \"c.... Alternatively, you can avoid passing input example and pass model signature instead when logging the model. To ensure the input example is valid prior to serving, please try calling `mlflow.models.validate_serving_input` on the model uri and serving input example. A serving input example can be generated from model input example using `mlflow.models.convert_input_example_to_serving_input` function.\n",
      "Got error: Invalid input. Data is not compatible with model signature. Failed to convert column concatenada to type 'float64'. Error: 'ValueError(\"could not convert string to float: 'consulta presencial mencionar antecedente trastorno dficit atencin hiperactividad tdah comentar soler toser sentir nervioso episodio to ocurri jugar ftbol adolescencia año explicar sentar presin jugar cometa error pasar errado haca sentir insuficiente disminuir confianza s recordar entrenador comentario despectivo hacar sentir servir banca experiencia señalar sentir entorno acadmico relación romntica admitir invitar mujer salir finalmente mencionar contar red apoyo slido conducta suicida consulta presencial estabilidad anmico acadmico social familiar presentado sintomatologa ansiós realizar cierre proceso psicoteraputico conducta suicida teleconsulto volver consulta informar finalizado semestre acadmico expresar satisfaccin desempeño ftbol ruptura relacin amoroso indicar conocer persona avanzar proceso duelo fase aceptacin prdida adems mencionar discusión madre especialmente solicitar favor alto hora noche señalar dificultad establecer lmit comentar mam sacar cara pedir ayuda adems observar madre podrar presentar sntoma ansiedad particularmente contexto actual prximo mudanza conducta suicida teleconsulto informar experimentar estrs ansiedad relacionado exmén acadmico estabilidad patrones sueño apetito adems señalar mantenido contacto red apoyo reportar conflicto interpersonal hermán conducto suicida presentar apariencia general apropiado limpio acorde edad nutricional adecuado adems percibir alerta normocintico euprosxico eumnsico normollico actitud cooperativo honesto contacto ocular sostenido nimo ansioso afecto regulado pensamiento contenido preocupación orientacin alopsquico autopsquico adecuado inteligencia abstraccin adecuado introspeccin prospeccin construccin'\")'\n"
     ]
    },
    {
     "data": {
      "text/html": [
       "<pre style=\"white-space:pre;overflow-x:auto;line-height:normal;font-family:Menlo,'DejaVu Sans Mono',consolas,'Courier New',monospace\">19:24:21.538 | <span style=\"color: #008080; text-decoration-color: #008080\">INFO</span>    | Task run 'Train_Model_Optuna-bfa' - \n",
       "Best Model MLflow Run ID: 18b1ab750d3d45e2819c9976af23c3da\n",
       "</pre>\n"
      ],
      "text/plain": [
       "19:24:21.538 | \u001b[36mINFO\u001b[0m    | Task run 'Train_Model_Optuna-bfa' - \n",
       "Best Model MLflow Run ID: 18b1ab750d3d45e2819c9976af23c3da\n"
      ]
     },
     "metadata": {},
     "output_type": "display_data"
    },
    {
     "data": {
      "text/html": [
       "<pre style=\"white-space:pre;overflow-x:auto;line-height:normal;font-family:Menlo,'DejaVu Sans Mono',consolas,'Courier New',monospace\">19:24:21.544 | <span style=\"color: #008080; text-decoration-color: #008080\">INFO</span>    | Task run 'Train_Model_Optuna-bfa' - Tracking URI: <span style=\"color: #0000ff; text-decoration-color: #0000ff\">file:///c:/Users/ISAIAS_QUINTERO/Desktop/Universiad/MLOps/Proyecto_Final/src/training/mlruns</span>\n",
       "</pre>\n"
      ],
      "text/plain": [
       "19:24:21.544 | \u001b[36mINFO\u001b[0m    | Task run 'Train_Model_Optuna-bfa' - Tracking URI: \u001b[94mfile:///c:/Users/ISAIAS_QUINTERO/Desktop/Universiad/MLOps/Proyecto_Final/src/training/mlruns\u001b[0m\n"
      ]
     },
     "metadata": {},
     "output_type": "display_data"
    },
    {
     "data": {
      "text/html": [
       "<pre style=\"white-space:pre;overflow-x:auto;line-height:normal;font-family:Menlo,'DejaVu Sans Mono',consolas,'Courier New',monospace\">19:24:21.552 | <span style=\"color: #008080; text-decoration-color: #008080\">INFO</span>    | Task run 'Train_Model_Optuna-bfa' - Train Accuracy: 0.9942\n",
       "</pre>\n"
      ],
      "text/plain": [
       "19:24:21.552 | \u001b[36mINFO\u001b[0m    | Task run 'Train_Model_Optuna-bfa' - Train Accuracy: 0.9942\n"
      ]
     },
     "metadata": {},
     "output_type": "display_data"
    },
    {
     "data": {
      "text/html": [
       "<pre style=\"white-space:pre;overflow-x:auto;line-height:normal;font-family:Menlo,'DejaVu Sans Mono',consolas,'Courier New',monospace\">19:24:21.557 | <span style=\"color: #008080; text-decoration-color: #008080\">INFO</span>    | Task run 'Train_Model_Optuna-bfa' - Test Accuracy: 0.7142\n",
       "</pre>\n"
      ],
      "text/plain": [
       "19:24:21.557 | \u001b[36mINFO\u001b[0m    | Task run 'Train_Model_Optuna-bfa' - Test Accuracy: 0.7142\n"
      ]
     },
     "metadata": {},
     "output_type": "display_data"
    },
    {
     "data": {
      "text/html": [
       "<pre style=\"white-space:pre;overflow-x:auto;line-height:normal;font-family:Menlo,'DejaVu Sans Mono',consolas,'Courier New',monospace\">19:24:22.660 | <span style=\"color: #008080; text-decoration-color: #008080\">INFO</span>    | Task run 'Train_Model_Optuna-bfa' - Optimization complete! Best accuracy: 0.7142\n",
       "</pre>\n"
      ],
      "text/plain": [
       "19:24:22.660 | \u001b[36mINFO\u001b[0m    | Task run 'Train_Model_Optuna-bfa' - Optimization complete! Best accuracy: 0.7142\n"
      ]
     },
     "metadata": {},
     "output_type": "display_data"
    },
    {
     "data": {
      "text/html": [
       "<pre style=\"white-space:pre;overflow-x:auto;line-height:normal;font-family:Menlo,'DejaVu Sans Mono',consolas,'Courier New',monospace\">19:24:22.667 | <span style=\"color: #008080; text-decoration-color: #008080\">INFO</span>    | Task run 'Train_Model_Optuna-bfa' - Best parameters: {'C': 30.956150256753233, 'penalty': 'l1', 'max_iter': 578, 'solver': 'liblinear'}\n",
       "</pre>\n"
      ],
      "text/plain": [
       "19:24:22.667 | \u001b[36mINFO\u001b[0m    | Task run 'Train_Model_Optuna-bfa' - Best parameters: {'C': 30.956150256753233, 'penalty': 'l1', 'max_iter': 578, 'solver': 'liblinear'}\n"
      ]
     },
     "metadata": {},
     "output_type": "display_data"
    },
    {
     "data": {
      "text/html": [
       "<pre style=\"white-space:pre;overflow-x:auto;line-height:normal;font-family:Menlo,'DejaVu Sans Mono',consolas,'Courier New',monospace\">19:24:22.671 | <span style=\"color: #008080; text-decoration-color: #008080\">INFO</span>    | Task run 'Train_Model_Optuna-bfa' - MLflow Run ID: 18b1ab750d3d45e2819c9976af23c3da\n",
       "</pre>\n"
      ],
      "text/plain": [
       "19:24:22.671 | \u001b[36mINFO\u001b[0m    | Task run 'Train_Model_Optuna-bfa' - MLflow Run ID: 18b1ab750d3d45e2819c9976af23c3da\n"
      ]
     },
     "metadata": {},
     "output_type": "display_data"
    },
    {
     "data": {
      "text/html": [
       "<pre style=\"white-space:pre;overflow-x:auto;line-height:normal;font-family:Menlo,'DejaVu Sans Mono',consolas,'Courier New',monospace\">19:24:22.683 | <span style=\"color: #008080; text-decoration-color: #008080\">INFO</span>    | Task run 'Train_Model_Optuna-bfa' - Finished in state <span style=\"color: #008000; text-decoration-color: #008000\">Completed</span>()\n",
       "</pre>\n"
      ],
      "text/plain": [
       "19:24:22.683 | \u001b[36mINFO\u001b[0m    | Task run 'Train_Model_Optuna-bfa' - Finished in state \u001b[32mCompleted\u001b[0m()\n"
      ]
     },
     "metadata": {},
     "output_type": "display_data"
    },
    {
     "data": {
      "text/html": [
       "<pre style=\"white-space:pre;overflow-x:auto;line-height:normal;font-family:Menlo,'DejaVu Sans Mono',consolas,'Courier New',monospace\">19:24:22.691 | <span style=\"color: #008080; text-decoration-color: #008080\">INFO</span>    | Flow run<span style=\"color: #800080; text-decoration-color: #800080\"> 'loud-dragon'</span> - Training LogisticRegression optimizing for f1...\n",
       "</pre>\n"
      ],
      "text/plain": [
       "19:24:22.691 | \u001b[36mINFO\u001b[0m    | Flow run\u001b[35m 'loud-dragon'\u001b[0m - Training LogisticRegression optimizing for f1...\n"
      ]
     },
     "metadata": {},
     "output_type": "display_data"
    },
    {
     "data": {
      "text/html": [
       "<pre style=\"white-space:pre;overflow-x:auto;line-height:normal;font-family:Menlo,'DejaVu Sans Mono',consolas,'Courier New',monospace\">19:24:23.564 | <span style=\"color: #008080; text-decoration-color: #008080\">INFO</span>    | Task run 'Train_Model_Optuna-fd3' - Starting Optuna optimization for LogisticRegression with 10 trials...\n",
       "</pre>\n"
      ],
      "text/plain": [
       "19:24:23.564 | \u001b[36mINFO\u001b[0m    | Task run 'Train_Model_Optuna-fd3' - Starting Optuna optimization for LogisticRegression with 10 trials...\n"
      ]
     },
     "metadata": {},
     "output_type": "display_data"
    },
    {
     "name": "stderr",
     "output_type": "stream",
     "text": [
      "[I 2025-10-07 19:24:24,025] A new study created in memory with name: optuna_LogisticRegression\n"
     ]
    },
    {
     "data": {
      "text/html": [
       "<pre style=\"white-space:pre;overflow-x:auto;line-height:normal;font-family:Menlo,'DejaVu Sans Mono',consolas,'Courier New',monospace\">19:24:24.027 | <span style=\"color: #008080; text-decoration-color: #008080\">INFO</span>    | Task run 'Train_Model_Optuna-fd3' - Starting Optuna optimization with 10 trials...\n",
       "</pre>\n"
      ],
      "text/plain": [
       "19:24:24.027 | \u001b[36mINFO\u001b[0m    | Task run 'Train_Model_Optuna-fd3' - Starting Optuna optimization with 10 trials...\n"
      ]
     },
     "metadata": {},
     "output_type": "display_data"
    },
    {
     "data": {
      "text/html": [
       "<pre style=\"white-space:pre;overflow-x:auto;line-height:normal;font-family:Menlo,'DejaVu Sans Mono',consolas,'Courier New',monospace\">19:24:24.037 | <span style=\"color: #008080; text-decoration-color: #008080\">INFO</span>    | Task run 'Train_Model_Optuna-fd3' - Optimizing for: f1\n",
       "</pre>\n"
      ],
      "text/plain": [
       "19:24:24.037 | \u001b[36mINFO\u001b[0m    | Task run 'Train_Model_Optuna-fd3' - Optimizing for: f1\n"
      ]
     },
     "metadata": {},
     "output_type": "display_data"
    },
    {
     "data": {
      "text/html": [
       "<pre style=\"white-space:pre;overflow-x:auto;line-height:normal;font-family:Menlo,'DejaVu Sans Mono',consolas,'Courier New',monospace\">19:24:24.042 | <span style=\"color: #008080; text-decoration-color: #008080\">INFO</span>    | Task run 'Train_Model_Optuna-fd3' - Model type: LogisticRegression\n",
       "</pre>\n"
      ],
      "text/plain": [
       "19:24:24.042 | \u001b[36mINFO\u001b[0m    | Task run 'Train_Model_Optuna-fd3' - Model type: LogisticRegression\n"
      ]
     },
     "metadata": {},
     "output_type": "display_data"
    },
    {
     "name": "stderr",
     "output_type": "stream",
     "text": [
      "2025/10/07 19:24:25 INFO mlflow.utils.autologging_utils: Created MLflow autologging run with ID '8152bac66e8c4941b71993f46602582c', which will track hyperparameters, performance metrics, model artifacts, and lineage information for the current sklearn workflow\n",
      "2025/10/07 19:24:26 WARNING mlflow.sklearn: Failed to log training dataset information to MLflow Tracking. Reason: 'Series' object has no attribute 'flatten'\n",
      "2025/10/07 19:24:35 WARNING mlflow.utils.environment: Failed to resolve installed pip version. ``pip`` will be added to conda.yaml environment spec without a version specifier.\n",
      "[I 2025-10-07 19:24:39,195] Trial 0 finished with value: 0.2602487365137925 and parameters: {'C': 0.15298936754176687, 'penalty': 'l1', 'max_iter': 431, 'solver': 'liblinear'}. Best is trial 0 with value: 0.2602487365137925.\n",
      "2025/10/07 19:24:41 INFO mlflow.utils.autologging_utils: Created MLflow autologging run with ID '94366fad8a214b75b46b85ea53e73130', which will track hyperparameters, performance metrics, model artifacts, and lineage information for the current sklearn workflow\n",
      "2025/10/07 19:24:41 WARNING mlflow.sklearn: Failed to log training dataset information to MLflow Tracking. Reason: 'Series' object has no attribute 'flatten'\n",
      "2025/10/07 19:24:52 WARNING mlflow.utils.environment: Failed to resolve installed pip version. ``pip`` will be added to conda.yaml environment spec without a version specifier.\n",
      "[I 2025-10-07 19:24:53,889] Trial 1 finished with value: 0.7332172395299954 and parameters: {'C': 38.99241799510936, 'penalty': 'l2', 'max_iter': 1489, 'solver': 'liblinear'}. Best is trial 1 with value: 0.7332172395299954.\n",
      "2025/10/07 19:24:54 INFO mlflow.utils.autologging_utils: Created MLflow autologging run with ID '5aae61a360eb4fb996801f9ab1822153', which will track hyperparameters, performance metrics, model artifacts, and lineage information for the current sklearn workflow\n",
      "2025/10/07 19:24:55 WARNING mlflow.sklearn: Failed to log training dataset information to MLflow Tracking. Reason: 'Series' object has no attribute 'flatten'\n",
      "2025/10/07 19:25:04 WARNING mlflow.utils.environment: Failed to resolve installed pip version. ``pip`` will be added to conda.yaml environment spec without a version specifier.\n",
      "[I 2025-10-07 19:25:05,953] Trial 2 finished with value: 0.7256538949046987 and parameters: {'C': 7.818650252652922, 'penalty': 'l2', 'max_iter': 1026, 'solver': 'liblinear'}. Best is trial 1 with value: 0.7332172395299954.\n",
      "2025/10/07 19:25:07 INFO mlflow.utils.autologging_utils: Created MLflow autologging run with ID '6edf03d8da954126829499f41c0d2b37', which will track hyperparameters, performance metrics, model artifacts, and lineage information for the current sklearn workflow\n",
      "2025/10/07 19:25:07 WARNING mlflow.sklearn: Failed to log training dataset information to MLflow Tracking. Reason: 'Series' object has no attribute 'flatten'\n",
      "2025/10/07 19:25:16 WARNING mlflow.utils.environment: Failed to resolve installed pip version. ``pip`` will be added to conda.yaml environment spec without a version specifier.\n",
      "[I 2025-10-07 19:25:18,276] Trial 3 finished with value: 0.6291016850028152 and parameters: {'C': 0.5496761624413754, 'penalty': 'l2', 'max_iter': 1339, 'solver': 'saga'}. Best is trial 1 with value: 0.7332172395299954.\n",
      "2025/10/07 19:25:19 INFO mlflow.utils.autologging_utils: Created MLflow autologging run with ID 'a956ef61d2e84457bc58316d22e9a31e', which will track hyperparameters, performance metrics, model artifacts, and lineage information for the current sklearn workflow\n",
      "2025/10/07 19:25:20 WARNING mlflow.sklearn: Failed to log training dataset information to MLflow Tracking. Reason: 'Series' object has no attribute 'flatten'\n",
      "2025/10/07 19:25:27 WARNING mlflow.utils.environment: Failed to resolve installed pip version. ``pip`` will be added to conda.yaml environment spec without a version specifier.\n",
      "[I 2025-10-07 19:25:29,251] Trial 4 finished with value: 0.5847725405228279 and parameters: {'C': 1.1363619947436185, 'penalty': 'l1', 'max_iter': 1474, 'solver': 'liblinear'}. Best is trial 1 with value: 0.7332172395299954.\n",
      "2025/10/07 19:25:30 INFO mlflow.utils.autologging_utils: Created MLflow autologging run with ID '882264fdc0034b8c8434d200047667a8', which will track hyperparameters, performance metrics, model artifacts, and lineage information for the current sklearn workflow\n",
      "2025/10/07 19:25:31 WARNING mlflow.sklearn: Failed to log training dataset information to MLflow Tracking. Reason: 'Series' object has no attribute 'flatten'\n",
      "2025/10/07 19:25:38 WARNING mlflow.utils.environment: Failed to resolve installed pip version. ``pip`` will be added to conda.yaml environment spec without a version specifier.\n",
      "[I 2025-10-07 19:25:39,508] Trial 5 finished with value: 0.15193961929074865 and parameters: {'C': 0.05800233284312903, 'penalty': 'l1', 'max_iter': 757, 'solver': 'liblinear'}. Best is trial 1 with value: 0.7332172395299954.\n",
      "2025/10/07 19:25:41 INFO mlflow.utils.autologging_utils: Created MLflow autologging run with ID '0b8505e079e6427c8c82f46f5f218000', which will track hyperparameters, performance metrics, model artifacts, and lineage information for the current sklearn workflow\n",
      "2025/10/07 19:25:41 WARNING mlflow.sklearn: Failed to log training dataset information to MLflow Tracking. Reason: 'Series' object has no attribute 'flatten'\n",
      "2025/10/07 19:25:49 WARNING mlflow.utils.environment: Failed to resolve installed pip version. ``pip`` will be added to conda.yaml environment spec without a version specifier.\n",
      "[I 2025-10-07 19:25:51,437] Trial 6 finished with value: 0.24536733497781243 and parameters: {'C': 0.11783567439299703, 'penalty': 'l1', 'max_iter': 1796, 'solver': 'saga'}. Best is trial 1 with value: 0.7332172395299954.\n",
      "2025/10/07 19:25:52 INFO mlflow.utils.autologging_utils: Created MLflow autologging run with ID '60c85fc551d24108846db5bf888f0dc5', which will track hyperparameters, performance metrics, model artifacts, and lineage information for the current sklearn workflow\n",
      "2025/10/07 19:25:53 WARNING mlflow.sklearn: Failed to log training dataset information to MLflow Tracking. Reason: 'Series' object has no attribute 'flatten'\n",
      "2025/10/07 19:26:00 WARNING mlflow.utils.environment: Failed to resolve installed pip version. ``pip`` will be added to conda.yaml environment spec without a version specifier.\n",
      "[I 2025-10-07 19:26:01,335] Trial 7 finished with value: 0.15193961929074865 and parameters: {'C': 0.014854377184649653, 'penalty': 'l1', 'max_iter': 304, 'solver': 'liblinear'}. Best is trial 1 with value: 0.7332172395299954.\n",
      "2025/10/07 19:26:02 INFO mlflow.utils.autologging_utils: Created MLflow autologging run with ID '5fc6ae1787f045c19257bdd7eacf956e', which will track hyperparameters, performance metrics, model artifacts, and lineage information for the current sklearn workflow\n",
      "2025/10/07 19:26:03 WARNING mlflow.sklearn: Failed to log training dataset information to MLflow Tracking. Reason: 'Series' object has no attribute 'flatten'\n",
      "2025/10/07 19:26:15 WARNING mlflow.utils.environment: Failed to resolve installed pip version. ``pip`` will be added to conda.yaml environment spec without a version specifier.\n",
      "[I 2025-10-07 19:26:16,867] Trial 8 finished with value: 0.7297435533632214 and parameters: {'C': 26.375019223758816, 'penalty': 'l2', 'max_iter': 413, 'solver': 'saga'}. Best is trial 1 with value: 0.7332172395299954.\n",
      "2025/10/07 19:26:17 INFO mlflow.utils.autologging_utils: Created MLflow autologging run with ID '3a849775dae94e94b6639d1f7c168946', which will track hyperparameters, performance metrics, model artifacts, and lineage information for the current sklearn workflow\n",
      "2025/10/07 19:26:18 WARNING mlflow.sklearn: Failed to log training dataset information to MLflow Tracking. Reason: 'Series' object has no attribute 'flatten'\n",
      "2025/10/07 19:26:29 WARNING mlflow.utils.environment: Failed to resolve installed pip version. ``pip`` will be added to conda.yaml environment spec without a version specifier.\n",
      "[I 2025-10-07 19:26:30,602] Trial 9 finished with value: 0.38374144535758464 and parameters: {'C': 0.27684625609254276, 'penalty': 'l1', 'max_iter': 1786, 'solver': 'saga'}. Best is trial 1 with value: 0.7332172395299954.\n"
     ]
    },
    {
     "data": {
      "text/html": [
       "<pre style=\"white-space:pre;overflow-x:auto;line-height:normal;font-family:Menlo,'DejaVu Sans Mono',consolas,'Courier New',monospace\">19:26:30.766 | <span style=\"color: #008080; text-decoration-color: #008080\">INFO</span>    | Task run 'Train_Model_Optuna-fd3' - \n",
       "Optimization complete!\n",
       "</pre>\n"
      ],
      "text/plain": [
       "19:26:30.766 | \u001b[36mINFO\u001b[0m    | Task run 'Train_Model_Optuna-fd3' - \n",
       "Optimization complete!\n"
      ]
     },
     "metadata": {},
     "output_type": "display_data"
    },
    {
     "data": {
      "text/html": [
       "<pre style=\"white-space:pre;overflow-x:auto;line-height:normal;font-family:Menlo,'DejaVu Sans Mono',consolas,'Courier New',monospace\">19:26:30.769 | <span style=\"color: #008080; text-decoration-color: #008080\">INFO</span>    | Task run 'Train_Model_Optuna-fd3' - Best f1: 0.7332\n",
       "</pre>\n"
      ],
      "text/plain": [
       "19:26:30.769 | \u001b[36mINFO\u001b[0m    | Task run 'Train_Model_Optuna-fd3' - Best f1: 0.7332\n"
      ]
     },
     "metadata": {},
     "output_type": "display_data"
    },
    {
     "data": {
      "text/html": [
       "<pre style=\"white-space:pre;overflow-x:auto;line-height:normal;font-family:Menlo,'DejaVu Sans Mono',consolas,'Courier New',monospace\">19:26:30.771 | <span style=\"color: #008080; text-decoration-color: #008080\">INFO</span>    | Task run 'Train_Model_Optuna-fd3' - Best parameters: {'C': 38.99241799510936, 'penalty': 'l2', 'max_iter': 1489, 'solver': 'liblinear'}\n",
       "</pre>\n"
      ],
      "text/plain": [
       "19:26:30.771 | \u001b[36mINFO\u001b[0m    | Task run 'Train_Model_Optuna-fd3' - Best parameters: {'C': 38.99241799510936, 'penalty': 'l2', 'max_iter': 1489, 'solver': 'liblinear'}\n"
      ]
     },
     "metadata": {},
     "output_type": "display_data"
    },
    {
     "name": "stderr",
     "output_type": "stream",
     "text": [
      "2025/10/07 19:26:32 WARNING mlflow.sklearn: Failed to log training dataset information to MLflow Tracking. Reason: 'Series' object has no attribute 'flatten'\n",
      "2025/10/07 19:26:42 WARNING mlflow.utils.environment: Failed to resolve installed pip version. ``pip`` will be added to conda.yaml environment spec without a version specifier.\n",
      "2025/10/07 19:26:46 WARNING mlflow.models.model: `artifact_path` is deprecated. Please use `name` instead.\n",
      "2025/10/07 19:26:54 WARNING mlflow.utils.environment: Failed to resolve installed pip version. ``pip`` will be added to conda.yaml environment spec without a version specifier.\n",
      "Downloading artifacts: 100%|██████████| 7/7 [00:00<00:00, 481.04it/s] \n",
      "2025/10/07 19:26:54 WARNING mlflow.models.model: Failed to validate serving input example {\n",
      "  \"dataframe_split\": {\n",
      "    \"columns\": [\n",
      "      \"c.... Alternatively, you can avoid passing input example and pass model signature instead when logging the model. To ensure the input example is valid prior to serving, please try calling `mlflow.models.validate_serving_input` on the model uri and serving input example. A serving input example can be generated from model input example using `mlflow.models.convert_input_example_to_serving_input` function.\n",
      "Got error: Invalid input. Data is not compatible with model signature. Failed to convert column concatenada to type 'float64'. Error: 'ValueError(\"could not convert string to float: 'consulta presencial mencionar antecedente trastorno dficit atencin hiperactividad tdah comentar soler toser sentir nervioso episodio to ocurri jugar ftbol adolescencia año explicar sentar presin jugar cometa error pasar errado haca sentir insuficiente disminuir confianza s recordar entrenador comentario despectivo hacar sentir servir banca experiencia señalar sentir entorno acadmico relación romntica admitir invitar mujer salir finalmente mencionar contar red apoyo slido conducta suicida consulta presencial estabilidad anmico acadmico social familiar presentado sintomatologa ansiós realizar cierre proceso psicoteraputico conducta suicida teleconsulto volver consulta informar finalizado semestre acadmico expresar satisfaccin desempeño ftbol ruptura relacin amoroso indicar conocer persona avanzar proceso duelo fase aceptacin prdida adems mencionar discusión madre especialmente solicitar favor alto hora noche señalar dificultad establecer lmit comentar mam sacar cara pedir ayuda adems observar madre podrar presentar sntoma ansiedad particularmente contexto actual prximo mudanza conducta suicida teleconsulto informar experimentar estrs ansiedad relacionado exmén acadmico estabilidad patrones sueño apetito adems señalar mantenido contacto red apoyo reportar conflicto interpersonal hermán conducto suicida presentar apariencia general apropiado limpio acorde edad nutricional adecuado adems percibir alerta normocintico euprosxico eumnsico normollico actitud cooperativo honesto contacto ocular sostenido nimo ansioso afecto regulado pensamiento contenido preocupación orientacin alopsquico autopsquico adecuado inteligencia abstraccin adecuado introspeccin prospeccin construccin'\")'\n"
     ]
    },
    {
     "data": {
      "text/html": [
       "<pre style=\"white-space:pre;overflow-x:auto;line-height:normal;font-family:Menlo,'DejaVu Sans Mono',consolas,'Courier New',monospace\">19:26:54.588 | <span style=\"color: #008080; text-decoration-color: #008080\">INFO</span>    | Task run 'Train_Model_Optuna-fd3' - \n",
       "Best Model MLflow Run ID: 0f7c62da6f394e8aa93a643da600a0f1\n",
       "</pre>\n"
      ],
      "text/plain": [
       "19:26:54.588 | \u001b[36mINFO\u001b[0m    | Task run 'Train_Model_Optuna-fd3' - \n",
       "Best Model MLflow Run ID: 0f7c62da6f394e8aa93a643da600a0f1\n"
      ]
     },
     "metadata": {},
     "output_type": "display_data"
    },
    {
     "data": {
      "text/html": [
       "<pre style=\"white-space:pre;overflow-x:auto;line-height:normal;font-family:Menlo,'DejaVu Sans Mono',consolas,'Courier New',monospace\">19:26:54.595 | <span style=\"color: #008080; text-decoration-color: #008080\">INFO</span>    | Task run 'Train_Model_Optuna-fd3' - Tracking URI: <span style=\"color: #0000ff; text-decoration-color: #0000ff\">file:///c:/Users/ISAIAS_QUINTERO/Desktop/Universiad/MLOps/Proyecto_Final/src/training/mlruns</span>\n",
       "</pre>\n"
      ],
      "text/plain": [
       "19:26:54.595 | \u001b[36mINFO\u001b[0m    | Task run 'Train_Model_Optuna-fd3' - Tracking URI: \u001b[94mfile:///c:/Users/ISAIAS_QUINTERO/Desktop/Universiad/MLOps/Proyecto_Final/src/training/mlruns\u001b[0m\n"
      ]
     },
     "metadata": {},
     "output_type": "display_data"
    },
    {
     "data": {
      "text/html": [
       "<pre style=\"white-space:pre;overflow-x:auto;line-height:normal;font-family:Menlo,'DejaVu Sans Mono',consolas,'Courier New',monospace\">19:26:54.599 | <span style=\"color: #008080; text-decoration-color: #008080\">INFO</span>    | Task run 'Train_Model_Optuna-fd3' - Train Accuracy: 0.9919\n",
       "</pre>\n"
      ],
      "text/plain": [
       "19:26:54.599 | \u001b[36mINFO\u001b[0m    | Task run 'Train_Model_Optuna-fd3' - Train Accuracy: 0.9919\n"
      ]
     },
     "metadata": {},
     "output_type": "display_data"
    },
    {
     "data": {
      "text/html": [
       "<pre style=\"white-space:pre;overflow-x:auto;line-height:normal;font-family:Menlo,'DejaVu Sans Mono',consolas,'Courier New',monospace\">19:26:54.604 | <span style=\"color: #008080; text-decoration-color: #008080\">INFO</span>    | Task run 'Train_Model_Optuna-fd3' - Test Accuracy: 0.7358\n",
       "</pre>\n"
      ],
      "text/plain": [
       "19:26:54.604 | \u001b[36mINFO\u001b[0m    | Task run 'Train_Model_Optuna-fd3' - Test Accuracy: 0.7358\n"
      ]
     },
     "metadata": {},
     "output_type": "display_data"
    },
    {
     "data": {
      "text/html": [
       "<pre style=\"white-space:pre;overflow-x:auto;line-height:normal;font-family:Menlo,'DejaVu Sans Mono',consolas,'Courier New',monospace\">19:26:55.291 | <span style=\"color: #008080; text-decoration-color: #008080\">INFO</span>    | Task run 'Train_Model_Optuna-fd3' - Optimization complete! Best f1: 0.7332\n",
       "</pre>\n"
      ],
      "text/plain": [
       "19:26:55.291 | \u001b[36mINFO\u001b[0m    | Task run 'Train_Model_Optuna-fd3' - Optimization complete! Best f1: 0.7332\n"
      ]
     },
     "metadata": {},
     "output_type": "display_data"
    },
    {
     "data": {
      "text/html": [
       "<pre style=\"white-space:pre;overflow-x:auto;line-height:normal;font-family:Menlo,'DejaVu Sans Mono',consolas,'Courier New',monospace\">19:26:55.295 | <span style=\"color: #008080; text-decoration-color: #008080\">INFO</span>    | Task run 'Train_Model_Optuna-fd3' - Best parameters: {'C': 38.99241799510936, 'penalty': 'l2', 'max_iter': 1489, 'solver': 'liblinear'}\n",
       "</pre>\n"
      ],
      "text/plain": [
       "19:26:55.295 | \u001b[36mINFO\u001b[0m    | Task run 'Train_Model_Optuna-fd3' - Best parameters: {'C': 38.99241799510936, 'penalty': 'l2', 'max_iter': 1489, 'solver': 'liblinear'}\n"
      ]
     },
     "metadata": {},
     "output_type": "display_data"
    },
    {
     "data": {
      "text/html": [
       "<pre style=\"white-space:pre;overflow-x:auto;line-height:normal;font-family:Menlo,'DejaVu Sans Mono',consolas,'Courier New',monospace\">19:26:55.297 | <span style=\"color: #008080; text-decoration-color: #008080\">INFO</span>    | Task run 'Train_Model_Optuna-fd3' - MLflow Run ID: 0f7c62da6f394e8aa93a643da600a0f1\n",
       "</pre>\n"
      ],
      "text/plain": [
       "19:26:55.297 | \u001b[36mINFO\u001b[0m    | Task run 'Train_Model_Optuna-fd3' - MLflow Run ID: 0f7c62da6f394e8aa93a643da600a0f1\n"
      ]
     },
     "metadata": {},
     "output_type": "display_data"
    },
    {
     "data": {
      "text/html": [
       "<pre style=\"white-space:pre;overflow-x:auto;line-height:normal;font-family:Menlo,'DejaVu Sans Mono',consolas,'Courier New',monospace\">19:26:55.301 | <span style=\"color: #008080; text-decoration-color: #008080\">INFO</span>    | Task run 'Train_Model_Optuna-fd3' - Finished in state <span style=\"color: #008000; text-decoration-color: #008000\">Completed</span>()\n",
       "</pre>\n"
      ],
      "text/plain": [
       "19:26:55.301 | \u001b[36mINFO\u001b[0m    | Task run 'Train_Model_Optuna-fd3' - Finished in state \u001b[32mCompleted\u001b[0m()\n"
      ]
     },
     "metadata": {},
     "output_type": "display_data"
    },
    {
     "data": {
      "text/html": [
       "<pre style=\"white-space:pre;overflow-x:auto;line-height:normal;font-family:Menlo,'DejaVu Sans Mono',consolas,'Courier New',monospace\">19:26:55.305 | <span style=\"color: #008080; text-decoration-color: #008080\">INFO</span>    | Flow run<span style=\"color: #800080; text-decoration-color: #800080\"> 'loud-dragon'</span> - Training RandomForest optimizing for accuracy...\n",
       "</pre>\n"
      ],
      "text/plain": [
       "19:26:55.305 | \u001b[36mINFO\u001b[0m    | Flow run\u001b[35m 'loud-dragon'\u001b[0m - Training RandomForest optimizing for accuracy...\n"
      ]
     },
     "metadata": {},
     "output_type": "display_data"
    },
    {
     "data": {
      "text/html": [
       "<pre style=\"white-space:pre;overflow-x:auto;line-height:normal;font-family:Menlo,'DejaVu Sans Mono',consolas,'Courier New',monospace\">19:26:55.915 | <span style=\"color: #008080; text-decoration-color: #008080\">INFO</span>    | Task run 'Train_Model_Optuna-a99' - Starting Optuna optimization for RandomForest with 10 trials...\n",
       "</pre>\n"
      ],
      "text/plain": [
       "19:26:55.915 | \u001b[36mINFO\u001b[0m    | Task run 'Train_Model_Optuna-a99' - Starting Optuna optimization for RandomForest with 10 trials...\n"
      ]
     },
     "metadata": {},
     "output_type": "display_data"
    },
    {
     "name": "stderr",
     "output_type": "stream",
     "text": [
      "[I 2025-10-07 19:26:56,070] A new study created in memory with name: optuna_RandomForestClassifier\n"
     ]
    },
    {
     "data": {
      "text/html": [
       "<pre style=\"white-space:pre;overflow-x:auto;line-height:normal;font-family:Menlo,'DejaVu Sans Mono',consolas,'Courier New',monospace\">19:26:56.071 | <span style=\"color: #008080; text-decoration-color: #008080\">INFO</span>    | Task run 'Train_Model_Optuna-a99' - Starting Optuna optimization with 10 trials...\n",
       "</pre>\n"
      ],
      "text/plain": [
       "19:26:56.071 | \u001b[36mINFO\u001b[0m    | Task run 'Train_Model_Optuna-a99' - Starting Optuna optimization with 10 trials...\n"
      ]
     },
     "metadata": {},
     "output_type": "display_data"
    },
    {
     "data": {
      "text/html": [
       "<pre style=\"white-space:pre;overflow-x:auto;line-height:normal;font-family:Menlo,'DejaVu Sans Mono',consolas,'Courier New',monospace\">19:26:56.074 | <span style=\"color: #008080; text-decoration-color: #008080\">INFO</span>    | Task run 'Train_Model_Optuna-a99' - Optimizing for: accuracy\n",
       "</pre>\n"
      ],
      "text/plain": [
       "19:26:56.074 | \u001b[36mINFO\u001b[0m    | Task run 'Train_Model_Optuna-a99' - Optimizing for: accuracy\n"
      ]
     },
     "metadata": {},
     "output_type": "display_data"
    },
    {
     "data": {
      "text/html": [
       "<pre style=\"white-space:pre;overflow-x:auto;line-height:normal;font-family:Menlo,'DejaVu Sans Mono',consolas,'Courier New',monospace\">19:26:56.080 | <span style=\"color: #008080; text-decoration-color: #008080\">INFO</span>    | Task run 'Train_Model_Optuna-a99' - Model type: RandomForestClassifier\n",
       "</pre>\n"
      ],
      "text/plain": [
       "19:26:56.080 | \u001b[36mINFO\u001b[0m    | Task run 'Train_Model_Optuna-a99' - Model type: RandomForestClassifier\n"
      ]
     },
     "metadata": {},
     "output_type": "display_data"
    },
    {
     "name": "stderr",
     "output_type": "stream",
     "text": [
      "2025/10/07 19:26:57 INFO mlflow.utils.autologging_utils: Created MLflow autologging run with ID '743c9d1381854ca88b07061f93ef137f', which will track hyperparameters, performance metrics, model artifacts, and lineage information for the current sklearn workflow\n",
      "2025/10/07 19:26:58 WARNING mlflow.sklearn: Failed to log training dataset information to MLflow Tracking. Reason: 'Series' object has no attribute 'flatten'\n",
      "2025/10/07 19:27:08 WARNING mlflow.utils.environment: Failed to resolve installed pip version. ``pip`` will be added to conda.yaml environment spec without a version specifier.\n",
      "[I 2025-10-07 19:27:11,370] Trial 0 finished with value: 0.6162162162162163 and parameters: {'n_estimators': 189, 'max_depth': 23, 'min_samples_split': 4, 'min_samples_leaf': 3, 'max_features': 'sqrt'}. Best is trial 0 with value: 0.6162162162162163.\n",
      "2025/10/07 19:27:13 INFO mlflow.utils.autologging_utils: Created MLflow autologging run with ID '35e6a7743c0a4f969c4a83dad880e307', which will track hyperparameters, performance metrics, model artifacts, and lineage information for the current sklearn workflow\n",
      "2025/10/07 19:27:13 WARNING mlflow.sklearn: Failed to log training dataset information to MLflow Tracking. Reason: 'Series' object has no attribute 'flatten'\n",
      "2025/10/07 19:27:20 WARNING mlflow.utils.environment: Failed to resolve installed pip version. ``pip`` will be added to conda.yaml environment spec without a version specifier.\n",
      "[I 2025-10-07 19:27:24,644] Trial 1 finished with value: 0.31756756756756754 and parameters: {'n_estimators': 166, 'max_depth': 8, 'min_samples_split': 10, 'min_samples_leaf': 10, 'max_features': 'log2'}. Best is trial 0 with value: 0.6162162162162163.\n",
      "2025/10/07 19:27:26 INFO mlflow.utils.autologging_utils: Created MLflow autologging run with ID 'e06fc447e5e4476d835251974349c0a4', which will track hyperparameters, performance metrics, model artifacts, and lineage information for the current sklearn workflow\n",
      "2025/10/07 19:27:27 WARNING mlflow.sklearn: Failed to log training dataset information to MLflow Tracking. Reason: 'Series' object has no attribute 'flatten'\n",
      "2025/10/07 19:27:34 WARNING mlflow.utils.environment: Failed to resolve installed pip version. ``pip`` will be added to conda.yaml environment spec without a version specifier.\n",
      "[I 2025-10-07 19:27:36,900] Trial 2 finished with value: 0.5209459459459459 and parameters: {'n_estimators': 71, 'max_depth': 16, 'min_samples_split': 14, 'min_samples_leaf': 10, 'max_features': 'sqrt'}. Best is trial 0 with value: 0.6162162162162163.\n",
      "2025/10/07 19:27:38 INFO mlflow.utils.autologging_utils: Created MLflow autologging run with ID 'beb727fb07ba4380aebd98af67ccb4d3', which will track hyperparameters, performance metrics, model artifacts, and lineage information for the current sklearn workflow\n",
      "2025/10/07 19:27:38 WARNING mlflow.sklearn: Failed to log training dataset information to MLflow Tracking. Reason: 'Series' object has no attribute 'flatten'\n",
      "2025/10/07 19:27:45 WARNING mlflow.utils.environment: Failed to resolve installed pip version. ``pip`` will be added to conda.yaml environment spec without a version specifier.\n",
      "[I 2025-10-07 19:27:47,353] Trial 3 finished with value: 0.5864864864864865 and parameters: {'n_estimators': 99, 'max_depth': 25, 'min_samples_split': 3, 'min_samples_leaf': 6, 'max_features': 'sqrt'}. Best is trial 0 with value: 0.6162162162162163.\n",
      "2025/10/07 19:27:48 INFO mlflow.utils.autologging_utils: Created MLflow autologging run with ID '2a63e7a77cca4606b023fc725459fc41', which will track hyperparameters, performance metrics, model artifacts, and lineage information for the current sklearn workflow\n",
      "2025/10/07 19:27:48 WARNING mlflow.sklearn: Failed to log training dataset information to MLflow Tracking. Reason: 'Series' object has no attribute 'flatten'\n",
      "2025/10/07 19:27:57 WARNING mlflow.utils.environment: Failed to resolve installed pip version. ``pip`` will be added to conda.yaml environment spec without a version specifier.\n",
      "[I 2025-10-07 19:27:59,929] Trial 4 finished with value: 0.5743243243243243 and parameters: {'n_estimators': 159, 'max_depth': 30, 'min_samples_split': 8, 'min_samples_leaf': 8, 'max_features': 'sqrt'}. Best is trial 0 with value: 0.6162162162162163.\n",
      "2025/10/07 19:28:00 INFO mlflow.utils.autologging_utils: Created MLflow autologging run with ID '94072185230948a5962065b5a00246af', which will track hyperparameters, performance metrics, model artifacts, and lineage information for the current sklearn workflow\n",
      "2025/10/07 19:28:01 WARNING mlflow.sklearn: Failed to log training dataset information to MLflow Tracking. Reason: 'Series' object has no attribute 'flatten'\n",
      "2025/10/07 19:28:08 WARNING mlflow.utils.environment: Failed to resolve installed pip version. ``pip`` will be added to conda.yaml environment spec without a version specifier.\n",
      "[I 2025-10-07 19:28:10,860] Trial 5 finished with value: 0.4743243243243243 and parameters: {'n_estimators': 146, 'max_depth': 9, 'min_samples_split': 10, 'min_samples_leaf': 6, 'max_features': 'sqrt'}. Best is trial 0 with value: 0.6162162162162163.\n",
      "2025/10/07 19:28:11 INFO mlflow.utils.autologging_utils: Created MLflow autologging run with ID 'e226b88af8c44098b631aab90cbef3c0', which will track hyperparameters, performance metrics, model artifacts, and lineage information for the current sklearn workflow\n",
      "2025/10/07 19:28:12 WARNING mlflow.sklearn: Failed to log training dataset information to MLflow Tracking. Reason: 'Series' object has no attribute 'flatten'\n",
      "2025/10/07 19:28:18 WARNING mlflow.utils.environment: Failed to resolve installed pip version. ``pip`` will be added to conda.yaml environment spec without a version specifier.\n",
      "[I 2025-10-07 19:28:20,640] Trial 6 finished with value: 0.3162162162162162 and parameters: {'n_estimators': 98, 'max_depth': 6, 'min_samples_split': 13, 'min_samples_leaf': 10, 'max_features': 'log2'}. Best is trial 0 with value: 0.6162162162162163.\n",
      "2025/10/07 19:28:21 INFO mlflow.utils.autologging_utils: Created MLflow autologging run with ID '037bd601873145a4a1fe71dcbaa9b423', which will track hyperparameters, performance metrics, model artifacts, and lineage information for the current sklearn workflow\n",
      "2025/10/07 19:28:22 WARNING mlflow.sklearn: Failed to log training dataset information to MLflow Tracking. Reason: 'Series' object has no attribute 'flatten'\n",
      "2025/10/07 19:28:29 WARNING mlflow.utils.environment: Failed to resolve installed pip version. ``pip`` will be added to conda.yaml environment spec without a version specifier.\n",
      "[I 2025-10-07 19:28:31,962] Trial 7 finished with value: 0.6074324324324324 and parameters: {'n_estimators': 125, 'max_depth': 18, 'min_samples_split': 14, 'min_samples_leaf': 1, 'max_features': 'sqrt'}. Best is trial 0 with value: 0.6162162162162163.\n",
      "2025/10/07 19:28:33 INFO mlflow.utils.autologging_utils: Created MLflow autologging run with ID '9d83a79b140b474996d8b8ee4cbb6ec8', which will track hyperparameters, performance metrics, model artifacts, and lineage information for the current sklearn workflow\n",
      "2025/10/07 19:28:33 WARNING mlflow.sklearn: Failed to log training dataset information to MLflow Tracking. Reason: 'Series' object has no attribute 'flatten'\n",
      "2025/10/07 19:28:41 WARNING mlflow.utils.environment: Failed to resolve installed pip version. ``pip`` will be added to conda.yaml environment spec without a version specifier.\n",
      "[I 2025-10-07 19:28:43,054] Trial 8 finished with value: 0.34324324324324323 and parameters: {'n_estimators': 86, 'max_depth': 11, 'min_samples_split': 8, 'min_samples_leaf': 4, 'max_features': 'log2'}. Best is trial 0 with value: 0.6162162162162163.\n",
      "2025/10/07 19:28:44 INFO mlflow.utils.autologging_utils: Created MLflow autologging run with ID '06bec0be27184961a541bd47e788e4bb', which will track hyperparameters, performance metrics, model artifacts, and lineage information for the current sklearn workflow\n",
      "2025/10/07 19:28:45 WARNING mlflow.sklearn: Failed to log training dataset information to MLflow Tracking. Reason: 'Series' object has no attribute 'flatten'\n",
      "2025/10/07 19:28:53 WARNING mlflow.utils.environment: Failed to resolve installed pip version. ``pip`` will be added to conda.yaml environment spec without a version specifier.\n",
      "[I 2025-10-07 19:28:56,022] Trial 9 finished with value: 0.5851351351351352 and parameters: {'n_estimators': 193, 'max_depth': 26, 'min_samples_split': 12, 'min_samples_leaf': 6, 'max_features': 'sqrt'}. Best is trial 0 with value: 0.6162162162162163.\n"
     ]
    },
    {
     "data": {
      "text/html": [
       "<pre style=\"white-space:pre;overflow-x:auto;line-height:normal;font-family:Menlo,'DejaVu Sans Mono',consolas,'Courier New',monospace\">19:28:56.219 | <span style=\"color: #008080; text-decoration-color: #008080\">INFO</span>    | Task run 'Train_Model_Optuna-a99' - \n",
       "Optimization complete!\n",
       "</pre>\n"
      ],
      "text/plain": [
       "19:28:56.219 | \u001b[36mINFO\u001b[0m    | Task run 'Train_Model_Optuna-a99' - \n",
       "Optimization complete!\n"
      ]
     },
     "metadata": {},
     "output_type": "display_data"
    },
    {
     "data": {
      "text/html": [
       "<pre style=\"white-space:pre;overflow-x:auto;line-height:normal;font-family:Menlo,'DejaVu Sans Mono',consolas,'Courier New',monospace\">19:28:56.224 | <span style=\"color: #008080; text-decoration-color: #008080\">INFO</span>    | Task run 'Train_Model_Optuna-a99' - Best accuracy: 0.6162\n",
       "</pre>\n"
      ],
      "text/plain": [
       "19:28:56.224 | \u001b[36mINFO\u001b[0m    | Task run 'Train_Model_Optuna-a99' - Best accuracy: 0.6162\n"
      ]
     },
     "metadata": {},
     "output_type": "display_data"
    },
    {
     "data": {
      "text/html": [
       "<pre style=\"white-space:pre;overflow-x:auto;line-height:normal;font-family:Menlo,'DejaVu Sans Mono',consolas,'Courier New',monospace\">19:28:56.229 | <span style=\"color: #008080; text-decoration-color: #008080\">INFO</span>    | Task run 'Train_Model_Optuna-a99' - Best parameters: {'n_estimators': 189, 'max_depth': 23, 'min_samples_split': 4, 'min_samples_leaf': 3, 'max_features': 'sqrt'}\n",
       "</pre>\n"
      ],
      "text/plain": [
       "19:28:56.229 | \u001b[36mINFO\u001b[0m    | Task run 'Train_Model_Optuna-a99' - Best parameters: {'n_estimators': 189, 'max_depth': 23, 'min_samples_split': 4, 'min_samples_leaf': 3, 'max_features': 'sqrt'}\n"
      ]
     },
     "metadata": {},
     "output_type": "display_data"
    },
    {
     "name": "stderr",
     "output_type": "stream",
     "text": [
      "2025/10/07 19:28:57 WARNING mlflow.sklearn: Failed to log training dataset information to MLflow Tracking. Reason: 'Series' object has no attribute 'flatten'\n",
      "2025/10/07 19:29:07 WARNING mlflow.utils.environment: Failed to resolve installed pip version. ``pip`` will be added to conda.yaml environment spec without a version specifier.\n",
      "2025/10/07 19:29:11 WARNING mlflow.models.model: `artifact_path` is deprecated. Please use `name` instead.\n",
      "2025/10/07 19:29:18 WARNING mlflow.utils.environment: Failed to resolve installed pip version. ``pip`` will be added to conda.yaml environment spec without a version specifier.\n",
      "Downloading artifacts: 100%|██████████| 7/7 [00:00<00:00, 456.73it/s]\n",
      "2025/10/07 19:29:19 WARNING mlflow.models.model: Failed to validate serving input example {\n",
      "  \"dataframe_split\": {\n",
      "    \"columns\": [\n",
      "      \"c.... Alternatively, you can avoid passing input example and pass model signature instead when logging the model. To ensure the input example is valid prior to serving, please try calling `mlflow.models.validate_serving_input` on the model uri and serving input example. A serving input example can be generated from model input example using `mlflow.models.convert_input_example_to_serving_input` function.\n",
      "Got error: Invalid input. Data is not compatible with model signature. Failed to convert column concatenada to type 'float64'. Error: 'ValueError(\"could not convert string to float: 'consulta presencial mencionar antecedente trastorno dficit atencin hiperactividad tdah comentar soler toser sentir nervioso episodio to ocurri jugar ftbol adolescencia año explicar sentar presin jugar cometa error pasar errado haca sentir insuficiente disminuir confianza s recordar entrenador comentario despectivo hacar sentir servir banca experiencia señalar sentir entorno acadmico relación romntica admitir invitar mujer salir finalmente mencionar contar red apoyo slido conducta suicida consulta presencial estabilidad anmico acadmico social familiar presentado sintomatologa ansiós realizar cierre proceso psicoteraputico conducta suicida teleconsulto volver consulta informar finalizado semestre acadmico expresar satisfaccin desempeño ftbol ruptura relacin amoroso indicar conocer persona avanzar proceso duelo fase aceptacin prdida adems mencionar discusión madre especialmente solicitar favor alto hora noche señalar dificultad establecer lmit comentar mam sacar cara pedir ayuda adems observar madre podrar presentar sntoma ansiedad particularmente contexto actual prximo mudanza conducta suicida teleconsulto informar experimentar estrs ansiedad relacionado exmén acadmico estabilidad patrones sueño apetito adems señalar mantenido contacto red apoyo reportar conflicto interpersonal hermán conducto suicida presentar apariencia general apropiado limpio acorde edad nutricional adecuado adems percibir alerta normocintico euprosxico eumnsico normollico actitud cooperativo honesto contacto ocular sostenido nimo ansioso afecto regulado pensamiento contenido preocupación orientacin alopsquico autopsquico adecuado inteligencia abstraccin adecuado introspeccin prospeccin construccin'\")'\n"
     ]
    },
    {
     "data": {
      "text/html": [
       "<pre style=\"white-space:pre;overflow-x:auto;line-height:normal;font-family:Menlo,'DejaVu Sans Mono',consolas,'Courier New',monospace\">19:29:19.251 | <span style=\"color: #008080; text-decoration-color: #008080\">INFO</span>    | Task run 'Train_Model_Optuna-a99' - \n",
       "Best Model MLflow Run ID: ca368c6fcd64492cad2b5222f9a3f754\n",
       "</pre>\n"
      ],
      "text/plain": [
       "19:29:19.251 | \u001b[36mINFO\u001b[0m    | Task run 'Train_Model_Optuna-a99' - \n",
       "Best Model MLflow Run ID: ca368c6fcd64492cad2b5222f9a3f754\n"
      ]
     },
     "metadata": {},
     "output_type": "display_data"
    },
    {
     "data": {
      "text/html": [
       "<pre style=\"white-space:pre;overflow-x:auto;line-height:normal;font-family:Menlo,'DejaVu Sans Mono',consolas,'Courier New',monospace\">19:29:19.254 | <span style=\"color: #008080; text-decoration-color: #008080\">INFO</span>    | Task run 'Train_Model_Optuna-a99' - Tracking URI: <span style=\"color: #0000ff; text-decoration-color: #0000ff\">file:///c:/Users/ISAIAS_QUINTERO/Desktop/Universiad/MLOps/Proyecto_Final/src/training/mlruns</span>\n",
       "</pre>\n"
      ],
      "text/plain": [
       "19:29:19.254 | \u001b[36mINFO\u001b[0m    | Task run 'Train_Model_Optuna-a99' - Tracking URI: \u001b[94mfile:///c:/Users/ISAIAS_QUINTERO/Desktop/Universiad/MLOps/Proyecto_Final/src/training/mlruns\u001b[0m\n"
      ]
     },
     "metadata": {},
     "output_type": "display_data"
    },
    {
     "data": {
      "text/html": [
       "<pre style=\"white-space:pre;overflow-x:auto;line-height:normal;font-family:Menlo,'DejaVu Sans Mono',consolas,'Courier New',monospace\">19:29:19.259 | <span style=\"color: #008080; text-decoration-color: #008080\">INFO</span>    | Task run 'Train_Model_Optuna-a99' - Train Accuracy: 0.7824\n",
       "</pre>\n"
      ],
      "text/plain": [
       "19:29:19.259 | \u001b[36mINFO\u001b[0m    | Task run 'Train_Model_Optuna-a99' - Train Accuracy: 0.7824\n"
      ]
     },
     "metadata": {},
     "output_type": "display_data"
    },
    {
     "data": {
      "text/html": [
       "<pre style=\"white-space:pre;overflow-x:auto;line-height:normal;font-family:Menlo,'DejaVu Sans Mono',consolas,'Courier New',monospace\">19:29:19.262 | <span style=\"color: #008080; text-decoration-color: #008080\">INFO</span>    | Task run 'Train_Model_Optuna-a99' - Test Accuracy: 0.6162\n",
       "</pre>\n"
      ],
      "text/plain": [
       "19:29:19.262 | \u001b[36mINFO\u001b[0m    | Task run 'Train_Model_Optuna-a99' - Test Accuracy: 0.6162\n"
      ]
     },
     "metadata": {},
     "output_type": "display_data"
    },
    {
     "data": {
      "text/html": [
       "<pre style=\"white-space:pre;overflow-x:auto;line-height:normal;font-family:Menlo,'DejaVu Sans Mono',consolas,'Courier New',monospace\">19:29:20.017 | <span style=\"color: #008080; text-decoration-color: #008080\">INFO</span>    | Task run 'Train_Model_Optuna-a99' - Optimization complete! Best accuracy: 0.6162\n",
       "</pre>\n"
      ],
      "text/plain": [
       "19:29:20.017 | \u001b[36mINFO\u001b[0m    | Task run 'Train_Model_Optuna-a99' - Optimization complete! Best accuracy: 0.6162\n"
      ]
     },
     "metadata": {},
     "output_type": "display_data"
    },
    {
     "data": {
      "text/html": [
       "<pre style=\"white-space:pre;overflow-x:auto;line-height:normal;font-family:Menlo,'DejaVu Sans Mono',consolas,'Courier New',monospace\">19:29:20.020 | <span style=\"color: #008080; text-decoration-color: #008080\">INFO</span>    | Task run 'Train_Model_Optuna-a99' - Best parameters: {'n_estimators': 189, 'max_depth': 23, 'min_samples_split': 4, 'min_samples_leaf': 3, 'max_features': 'sqrt'}\n",
       "</pre>\n"
      ],
      "text/plain": [
       "19:29:20.020 | \u001b[36mINFO\u001b[0m    | Task run 'Train_Model_Optuna-a99' - Best parameters: {'n_estimators': 189, 'max_depth': 23, 'min_samples_split': 4, 'min_samples_leaf': 3, 'max_features': 'sqrt'}\n"
      ]
     },
     "metadata": {},
     "output_type": "display_data"
    },
    {
     "data": {
      "text/html": [
       "<pre style=\"white-space:pre;overflow-x:auto;line-height:normal;font-family:Menlo,'DejaVu Sans Mono',consolas,'Courier New',monospace\">19:29:20.024 | <span style=\"color: #008080; text-decoration-color: #008080\">INFO</span>    | Task run 'Train_Model_Optuna-a99' - MLflow Run ID: ca368c6fcd64492cad2b5222f9a3f754\n",
       "</pre>\n"
      ],
      "text/plain": [
       "19:29:20.024 | \u001b[36mINFO\u001b[0m    | Task run 'Train_Model_Optuna-a99' - MLflow Run ID: ca368c6fcd64492cad2b5222f9a3f754\n"
      ]
     },
     "metadata": {},
     "output_type": "display_data"
    },
    {
     "data": {
      "text/html": [
       "<pre style=\"white-space:pre;overflow-x:auto;line-height:normal;font-family:Menlo,'DejaVu Sans Mono',consolas,'Courier New',monospace\">19:29:20.032 | <span style=\"color: #008080; text-decoration-color: #008080\">INFO</span>    | Task run 'Train_Model_Optuna-a99' - Finished in state <span style=\"color: #008000; text-decoration-color: #008000\">Completed</span>()\n",
       "</pre>\n"
      ],
      "text/plain": [
       "19:29:20.032 | \u001b[36mINFO\u001b[0m    | Task run 'Train_Model_Optuna-a99' - Finished in state \u001b[32mCompleted\u001b[0m()\n"
      ]
     },
     "metadata": {},
     "output_type": "display_data"
    },
    {
     "data": {
      "text/html": [
       "<pre style=\"white-space:pre;overflow-x:auto;line-height:normal;font-family:Menlo,'DejaVu Sans Mono',consolas,'Courier New',monospace\">19:29:20.036 | <span style=\"color: #008080; text-decoration-color: #008080\">INFO</span>    | Flow run<span style=\"color: #800080; text-decoration-color: #800080\"> 'loud-dragon'</span> - Training RandomForest optimizing for f1...\n",
       "</pre>\n"
      ],
      "text/plain": [
       "19:29:20.036 | \u001b[36mINFO\u001b[0m    | Flow run\u001b[35m 'loud-dragon'\u001b[0m - Training RandomForest optimizing for f1...\n"
      ]
     },
     "metadata": {},
     "output_type": "display_data"
    },
    {
     "data": {
      "text/html": [
       "<pre style=\"white-space:pre;overflow-x:auto;line-height:normal;font-family:Menlo,'DejaVu Sans Mono',consolas,'Courier New',monospace\">19:29:20.562 | <span style=\"color: #008080; text-decoration-color: #008080\">INFO</span>    | Task run 'Train_Model_Optuna-62f' - Starting Optuna optimization for RandomForest with 10 trials...\n",
       "</pre>\n"
      ],
      "text/plain": [
       "19:29:20.562 | \u001b[36mINFO\u001b[0m    | Task run 'Train_Model_Optuna-62f' - Starting Optuna optimization for RandomForest with 10 trials...\n"
      ]
     },
     "metadata": {},
     "output_type": "display_data"
    },
    {
     "name": "stderr",
     "output_type": "stream",
     "text": [
      "[I 2025-10-07 19:29:20,746] A new study created in memory with name: optuna_RandomForestClassifier\n"
     ]
    },
    {
     "data": {
      "text/html": [
       "<pre style=\"white-space:pre;overflow-x:auto;line-height:normal;font-family:Menlo,'DejaVu Sans Mono',consolas,'Courier New',monospace\">19:29:20.746 | <span style=\"color: #008080; text-decoration-color: #008080\">INFO</span>    | Task run 'Train_Model_Optuna-62f' - Starting Optuna optimization with 10 trials...\n",
       "</pre>\n"
      ],
      "text/plain": [
       "19:29:20.746 | \u001b[36mINFO\u001b[0m    | Task run 'Train_Model_Optuna-62f' - Starting Optuna optimization with 10 trials...\n"
      ]
     },
     "metadata": {},
     "output_type": "display_data"
    },
    {
     "data": {
      "text/html": [
       "<pre style=\"white-space:pre;overflow-x:auto;line-height:normal;font-family:Menlo,'DejaVu Sans Mono',consolas,'Courier New',monospace\">19:29:20.750 | <span style=\"color: #008080; text-decoration-color: #008080\">INFO</span>    | Task run 'Train_Model_Optuna-62f' - Optimizing for: f1\n",
       "</pre>\n"
      ],
      "text/plain": [
       "19:29:20.750 | \u001b[36mINFO\u001b[0m    | Task run 'Train_Model_Optuna-62f' - Optimizing for: f1\n"
      ]
     },
     "metadata": {},
     "output_type": "display_data"
    },
    {
     "data": {
      "text/html": [
       "<pre style=\"white-space:pre;overflow-x:auto;line-height:normal;font-family:Menlo,'DejaVu Sans Mono',consolas,'Courier New',monospace\">19:29:20.754 | <span style=\"color: #008080; text-decoration-color: #008080\">INFO</span>    | Task run 'Train_Model_Optuna-62f' - Model type: RandomForestClassifier\n",
       "</pre>\n"
      ],
      "text/plain": [
       "19:29:20.754 | \u001b[36mINFO\u001b[0m    | Task run 'Train_Model_Optuna-62f' - Model type: RandomForestClassifier\n"
      ]
     },
     "metadata": {},
     "output_type": "display_data"
    },
    {
     "name": "stderr",
     "output_type": "stream",
     "text": [
      "2025/10/07 19:29:22 INFO mlflow.utils.autologging_utils: Created MLflow autologging run with ID '3bbe0564a27245e68ac6436a6e5e7147', which will track hyperparameters, performance metrics, model artifacts, and lineage information for the current sklearn workflow\n",
      "2025/10/07 19:29:22 WARNING mlflow.sklearn: Failed to log training dataset information to MLflow Tracking. Reason: 'Series' object has no attribute 'flatten'\n",
      "2025/10/07 19:29:30 WARNING mlflow.utils.environment: Failed to resolve installed pip version. ``pip`` will be added to conda.yaml environment spec without a version specifier.\n",
      "[I 2025-10-07 19:29:32,450] Trial 0 finished with value: 0.45691658601394636 and parameters: {'n_estimators': 106, 'max_depth': 10, 'min_samples_split': 2, 'min_samples_leaf': 3, 'max_features': 'sqrt'}. Best is trial 0 with value: 0.45691658601394636.\n",
      "2025/10/07 19:29:33 INFO mlflow.utils.autologging_utils: Created MLflow autologging run with ID 'd15de95d7e8f447a9bcbd2c22a460f68', which will track hyperparameters, performance metrics, model artifacts, and lineage information for the current sklearn workflow\n",
      "2025/10/07 19:29:33 WARNING mlflow.sklearn: Failed to log training dataset information to MLflow Tracking. Reason: 'Series' object has no attribute 'flatten'\n",
      "2025/10/07 19:29:40 WARNING mlflow.utils.environment: Failed to resolve installed pip version. ``pip`` will be added to conda.yaml environment spec without a version specifier.\n",
      "[I 2025-10-07 19:29:42,590] Trial 1 finished with value: 0.18213867822426383 and parameters: {'n_estimators': 122, 'max_depth': 6, 'min_samples_split': 8, 'min_samples_leaf': 4, 'max_features': 'log2'}. Best is trial 0 with value: 0.45691658601394636.\n",
      "2025/10/07 19:29:43 INFO mlflow.utils.autologging_utils: Created MLflow autologging run with ID '5f6fb610c21d4156860e9773eda262da', which will track hyperparameters, performance metrics, model artifacts, and lineage information for the current sklearn workflow\n",
      "2025/10/07 19:29:44 WARNING mlflow.sklearn: Failed to log training dataset information to MLflow Tracking. Reason: 'Series' object has no attribute 'flatten'\n",
      "2025/10/07 19:29:51 WARNING mlflow.utils.environment: Failed to resolve installed pip version. ``pip`` will be added to conda.yaml environment spec without a version specifier.\n",
      "[I 2025-10-07 19:29:54,003] Trial 2 finished with value: 0.4379671837909169 and parameters: {'n_estimators': 157, 'max_depth': 10, 'min_samples_split': 5, 'min_samples_leaf': 8, 'max_features': 'sqrt'}. Best is trial 0 with value: 0.45691658601394636.\n",
      "2025/10/07 19:29:55 INFO mlflow.utils.autologging_utils: Created MLflow autologging run with ID '6bd87e4a81fc454cb706354bafe8fcd7', which will track hyperparameters, performance metrics, model artifacts, and lineage information for the current sklearn workflow\n",
      "2025/10/07 19:29:56 WARNING mlflow.sklearn: Failed to log training dataset information to MLflow Tracking. Reason: 'Series' object has no attribute 'flatten'\n",
      "2025/10/07 19:30:03 WARNING mlflow.utils.environment: Failed to resolve installed pip version. ``pip`` will be added to conda.yaml environment spec without a version specifier.\n",
      "[I 2025-10-07 19:30:04,653] Trial 3 finished with value: 0.17674289518169872 and parameters: {'n_estimators': 92, 'max_depth': 11, 'min_samples_split': 12, 'min_samples_leaf': 10, 'max_features': 'log2'}. Best is trial 0 with value: 0.45691658601394636.\n",
      "2025/10/07 19:30:05 INFO mlflow.utils.autologging_utils: Created MLflow autologging run with ID '5b308f61f6ec47d48e8188bb66d1d15e', which will track hyperparameters, performance metrics, model artifacts, and lineage information for the current sklearn workflow\n",
      "2025/10/07 19:30:05 WARNING mlflow.sklearn: Failed to log training dataset information to MLflow Tracking. Reason: 'Series' object has no attribute 'flatten'\n",
      "2025/10/07 19:30:13 WARNING mlflow.utils.environment: Failed to resolve installed pip version. ``pip`` will be added to conda.yaml environment spec without a version specifier.\n",
      "[I 2025-10-07 19:30:15,293] Trial 4 finished with value: 0.418722168231056 and parameters: {'n_estimators': 54, 'max_depth': 10, 'min_samples_split': 2, 'min_samples_leaf': 10, 'max_features': 'sqrt'}. Best is trial 0 with value: 0.45691658601394636.\n",
      "2025/10/07 19:30:16 INFO mlflow.utils.autologging_utils: Created MLflow autologging run with ID 'a80438842ce742778b22d5f10fa8a7f4', which will track hyperparameters, performance metrics, model artifacts, and lineage information for the current sklearn workflow\n",
      "2025/10/07 19:30:16 WARNING mlflow.sklearn: Failed to log training dataset information to MLflow Tracking. Reason: 'Series' object has no attribute 'flatten'\n",
      "2025/10/07 19:30:24 WARNING mlflow.utils.environment: Failed to resolve installed pip version. ``pip`` will be added to conda.yaml environment spec without a version specifier.\n",
      "[I 2025-10-07 19:30:27,073] Trial 5 finished with value: 0.16036747164656537 and parameters: {'n_estimators': 157, 'max_depth': 10, 'min_samples_split': 2, 'min_samples_leaf': 8, 'max_features': 'log2'}. Best is trial 0 with value: 0.45691658601394636.\n",
      "2025/10/07 19:30:28 INFO mlflow.utils.autologging_utils: Created MLflow autologging run with ID '6b5a980a83614945a4cd950c00da4085', which will track hyperparameters, performance metrics, model artifacts, and lineage information for the current sklearn workflow\n",
      "2025/10/07 19:30:29 WARNING mlflow.sklearn: Failed to log training dataset information to MLflow Tracking. Reason: 'Series' object has no attribute 'flatten'\n",
      "2025/10/07 19:30:36 WARNING mlflow.utils.environment: Failed to resolve installed pip version. ``pip`` will be added to conda.yaml environment spec without a version specifier.\n",
      "[I 2025-10-07 19:30:38,788] Trial 6 finished with value: 0.16746572449800382 and parameters: {'n_estimators': 151, 'max_depth': 28, 'min_samples_split': 13, 'min_samples_leaf': 10, 'max_features': 'log2'}. Best is trial 0 with value: 0.45691658601394636.\n",
      "2025/10/07 19:30:41 INFO mlflow.utils.autologging_utils: Created MLflow autologging run with ID 'b8fa1629251f4e7ab890409abba209b6', which will track hyperparameters, performance metrics, model artifacts, and lineage information for the current sklearn workflow\n",
      "2025/10/07 19:30:41 WARNING mlflow.sklearn: Failed to log training dataset information to MLflow Tracking. Reason: 'Series' object has no attribute 'flatten'\n",
      "2025/10/07 19:30:48 WARNING mlflow.utils.environment: Failed to resolve installed pip version. ``pip`` will be added to conda.yaml environment spec without a version specifier.\n",
      "[I 2025-10-07 19:30:51,128] Trial 7 finished with value: 0.31499860802722324 and parameters: {'n_estimators': 128, 'max_depth': 18, 'min_samples_split': 15, 'min_samples_leaf': 2, 'max_features': 'log2'}. Best is trial 0 with value: 0.45691658601394636.\n",
      "2025/10/07 19:30:52 INFO mlflow.utils.autologging_utils: Created MLflow autologging run with ID '9e21e003e6914eed9698d5c5f6498f0a', which will track hyperparameters, performance metrics, model artifacts, and lineage information for the current sklearn workflow\n",
      "2025/10/07 19:30:52 WARNING mlflow.sklearn: Failed to log training dataset information to MLflow Tracking. Reason: 'Series' object has no attribute 'flatten'\n",
      "2025/10/07 19:31:01 WARNING mlflow.utils.environment: Failed to resolve installed pip version. ``pip`` will be added to conda.yaml environment spec without a version specifier.\n",
      "[I 2025-10-07 19:31:04,132] Trial 8 finished with value: 0.5715079902290342 and parameters: {'n_estimators': 199, 'max_depth': 25, 'min_samples_split': 5, 'min_samples_leaf': 6, 'max_features': 'sqrt'}. Best is trial 8 with value: 0.5715079902290342.\n",
      "2025/10/07 19:31:05 INFO mlflow.utils.autologging_utils: Created MLflow autologging run with ID 'b67eb9a1e46e4684a59bc7a8c6f9606b', which will track hyperparameters, performance metrics, model artifacts, and lineage information for the current sklearn workflow\n",
      "2025/10/07 19:31:06 WARNING mlflow.sklearn: Failed to log training dataset information to MLflow Tracking. Reason: 'Series' object has no attribute 'flatten'\n",
      "2025/10/07 19:31:13 WARNING mlflow.utils.environment: Failed to resolve installed pip version. ``pip`` will be added to conda.yaml environment spec without a version specifier.\n",
      "[I 2025-10-07 19:31:16,050] Trial 9 finished with value: 0.1889893644774323 and parameters: {'n_estimators': 149, 'max_depth': 19, 'min_samples_split': 11, 'min_samples_leaf': 7, 'max_features': 'log2'}. Best is trial 8 with value: 0.5715079902290342.\n"
     ]
    },
    {
     "data": {
      "text/html": [
       "<pre style=\"white-space:pre;overflow-x:auto;line-height:normal;font-family:Menlo,'DejaVu Sans Mono',consolas,'Courier New',monospace\">19:31:16.281 | <span style=\"color: #008080; text-decoration-color: #008080\">INFO</span>    | Task run 'Train_Model_Optuna-62f' - \n",
       "Optimization complete!\n",
       "</pre>\n"
      ],
      "text/plain": [
       "19:31:16.281 | \u001b[36mINFO\u001b[0m    | Task run 'Train_Model_Optuna-62f' - \n",
       "Optimization complete!\n"
      ]
     },
     "metadata": {},
     "output_type": "display_data"
    },
    {
     "data": {
      "text/html": [
       "<pre style=\"white-space:pre;overflow-x:auto;line-height:normal;font-family:Menlo,'DejaVu Sans Mono',consolas,'Courier New',monospace\">19:31:16.285 | <span style=\"color: #008080; text-decoration-color: #008080\">INFO</span>    | Task run 'Train_Model_Optuna-62f' - Best f1: 0.5715\n",
       "</pre>\n"
      ],
      "text/plain": [
       "19:31:16.285 | \u001b[36mINFO\u001b[0m    | Task run 'Train_Model_Optuna-62f' - Best f1: 0.5715\n"
      ]
     },
     "metadata": {},
     "output_type": "display_data"
    },
    {
     "data": {
      "text/html": [
       "<pre style=\"white-space:pre;overflow-x:auto;line-height:normal;font-family:Menlo,'DejaVu Sans Mono',consolas,'Courier New',monospace\">19:31:16.290 | <span style=\"color: #008080; text-decoration-color: #008080\">INFO</span>    | Task run 'Train_Model_Optuna-62f' - Best parameters: {'n_estimators': 199, 'max_depth': 25, 'min_samples_split': 5, 'min_samples_leaf': 6, 'max_features': 'sqrt'}\n",
       "</pre>\n"
      ],
      "text/plain": [
       "19:31:16.290 | \u001b[36mINFO\u001b[0m    | Task run 'Train_Model_Optuna-62f' - Best parameters: {'n_estimators': 199, 'max_depth': 25, 'min_samples_split': 5, 'min_samples_leaf': 6, 'max_features': 'sqrt'}\n"
      ]
     },
     "metadata": {},
     "output_type": "display_data"
    },
    {
     "name": "stderr",
     "output_type": "stream",
     "text": [
      "2025/10/07 19:31:18 WARNING mlflow.sklearn: Failed to log training dataset information to MLflow Tracking. Reason: 'Series' object has no attribute 'flatten'\n",
      "2025/10/07 19:31:28 WARNING mlflow.utils.environment: Failed to resolve installed pip version. ``pip`` will be added to conda.yaml environment spec without a version specifier.\n",
      "2025/10/07 19:31:33 WARNING mlflow.models.model: `artifact_path` is deprecated. Please use `name` instead.\n",
      "2025/10/07 19:31:40 WARNING mlflow.utils.environment: Failed to resolve installed pip version. ``pip`` will be added to conda.yaml environment spec without a version specifier.\n",
      "Downloading artifacts: 100%|██████████| 7/7 [00:00<00:00, 401.53it/s] \n",
      "2025/10/07 19:31:41 WARNING mlflow.models.model: Failed to validate serving input example {\n",
      "  \"dataframe_split\": {\n",
      "    \"columns\": [\n",
      "      \"c.... Alternatively, you can avoid passing input example and pass model signature instead when logging the model. To ensure the input example is valid prior to serving, please try calling `mlflow.models.validate_serving_input` on the model uri and serving input example. A serving input example can be generated from model input example using `mlflow.models.convert_input_example_to_serving_input` function.\n",
      "Got error: Invalid input. Data is not compatible with model signature. Failed to convert column concatenada to type 'float64'. Error: 'ValueError(\"could not convert string to float: 'consulta presencial mencionar antecedente trastorno dficit atencin hiperactividad tdah comentar soler toser sentir nervioso episodio to ocurri jugar ftbol adolescencia año explicar sentar presin jugar cometa error pasar errado haca sentir insuficiente disminuir confianza s recordar entrenador comentario despectivo hacar sentir servir banca experiencia señalar sentir entorno acadmico relación romntica admitir invitar mujer salir finalmente mencionar contar red apoyo slido conducta suicida consulta presencial estabilidad anmico acadmico social familiar presentado sintomatologa ansiós realizar cierre proceso psicoteraputico conducta suicida teleconsulto volver consulta informar finalizado semestre acadmico expresar satisfaccin desempeño ftbol ruptura relacin amoroso indicar conocer persona avanzar proceso duelo fase aceptacin prdida adems mencionar discusión madre especialmente solicitar favor alto hora noche señalar dificultad establecer lmit comentar mam sacar cara pedir ayuda adems observar madre podrar presentar sntoma ansiedad particularmente contexto actual prximo mudanza conducta suicida teleconsulto informar experimentar estrs ansiedad relacionado exmén acadmico estabilidad patrones sueño apetito adems señalar mantenido contacto red apoyo reportar conflicto interpersonal hermán conducto suicida presentar apariencia general apropiado limpio acorde edad nutricional adecuado adems percibir alerta normocintico euprosxico eumnsico normollico actitud cooperativo honesto contacto ocular sostenido nimo ansioso afecto regulado pensamiento contenido preocupación orientacin alopsquico autopsquico adecuado inteligencia abstraccin adecuado introspeccin prospeccin construccin'\")'\n"
     ]
    },
    {
     "data": {
      "text/html": [
       "<pre style=\"white-space:pre;overflow-x:auto;line-height:normal;font-family:Menlo,'DejaVu Sans Mono',consolas,'Courier New',monospace\">19:31:41.360 | <span style=\"color: #008080; text-decoration-color: #008080\">INFO</span>    | Task run 'Train_Model_Optuna-62f' - \n",
       "Best Model MLflow Run ID: f0861cbe0e5f4d9c9cd4c42a6c8a3be6\n",
       "</pre>\n"
      ],
      "text/plain": [
       "19:31:41.360 | \u001b[36mINFO\u001b[0m    | Task run 'Train_Model_Optuna-62f' - \n",
       "Best Model MLflow Run ID: f0861cbe0e5f4d9c9cd4c42a6c8a3be6\n"
      ]
     },
     "metadata": {},
     "output_type": "display_data"
    },
    {
     "data": {
      "text/html": [
       "<pre style=\"white-space:pre;overflow-x:auto;line-height:normal;font-family:Menlo,'DejaVu Sans Mono',consolas,'Courier New',monospace\">19:31:41.363 | <span style=\"color: #008080; text-decoration-color: #008080\">INFO</span>    | Task run 'Train_Model_Optuna-62f' - Tracking URI: <span style=\"color: #0000ff; text-decoration-color: #0000ff\">file:///c:/Users/ISAIAS_QUINTERO/Desktop/Universiad/MLOps/Proyecto_Final/src/training/mlruns</span>\n",
       "</pre>\n"
      ],
      "text/plain": [
       "19:31:41.363 | \u001b[36mINFO\u001b[0m    | Task run 'Train_Model_Optuna-62f' - Tracking URI: \u001b[94mfile:///c:/Users/ISAIAS_QUINTERO/Desktop/Universiad/MLOps/Proyecto_Final/src/training/mlruns\u001b[0m\n"
      ]
     },
     "metadata": {},
     "output_type": "display_data"
    },
    {
     "data": {
      "text/html": [
       "<pre style=\"white-space:pre;overflow-x:auto;line-height:normal;font-family:Menlo,'DejaVu Sans Mono',consolas,'Courier New',monospace\">19:31:41.365 | <span style=\"color: #008080; text-decoration-color: #008080\">INFO</span>    | Task run 'Train_Model_Optuna-62f' - Train Accuracy: 0.7137\n",
       "</pre>\n"
      ],
      "text/plain": [
       "19:31:41.365 | \u001b[36mINFO\u001b[0m    | Task run 'Train_Model_Optuna-62f' - Train Accuracy: 0.7137\n"
      ]
     },
     "metadata": {},
     "output_type": "display_data"
    },
    {
     "data": {
      "text/html": [
       "<pre style=\"white-space:pre;overflow-x:auto;line-height:normal;font-family:Menlo,'DejaVu Sans Mono',consolas,'Courier New',monospace\">19:31:41.368 | <span style=\"color: #008080; text-decoration-color: #008080\">INFO</span>    | Task run 'Train_Model_Optuna-62f' - Test Accuracy: 0.5885\n",
       "</pre>\n"
      ],
      "text/plain": [
       "19:31:41.368 | \u001b[36mINFO\u001b[0m    | Task run 'Train_Model_Optuna-62f' - Test Accuracy: 0.5885\n"
      ]
     },
     "metadata": {},
     "output_type": "display_data"
    },
    {
     "data": {
      "text/html": [
       "<pre style=\"white-space:pre;overflow-x:auto;line-height:normal;font-family:Menlo,'DejaVu Sans Mono',consolas,'Courier New',monospace\">19:31:42.296 | <span style=\"color: #008080; text-decoration-color: #008080\">INFO</span>    | Task run 'Train_Model_Optuna-62f' - Optimization complete! Best f1: 0.5715\n",
       "</pre>\n"
      ],
      "text/plain": [
       "19:31:42.296 | \u001b[36mINFO\u001b[0m    | Task run 'Train_Model_Optuna-62f' - Optimization complete! Best f1: 0.5715\n"
      ]
     },
     "metadata": {},
     "output_type": "display_data"
    },
    {
     "data": {
      "text/html": [
       "<pre style=\"white-space:pre;overflow-x:auto;line-height:normal;font-family:Menlo,'DejaVu Sans Mono',consolas,'Courier New',monospace\">19:31:42.299 | <span style=\"color: #008080; text-decoration-color: #008080\">INFO</span>    | Task run 'Train_Model_Optuna-62f' - Best parameters: {'n_estimators': 199, 'max_depth': 25, 'min_samples_split': 5, 'min_samples_leaf': 6, 'max_features': 'sqrt'}\n",
       "</pre>\n"
      ],
      "text/plain": [
       "19:31:42.299 | \u001b[36mINFO\u001b[0m    | Task run 'Train_Model_Optuna-62f' - Best parameters: {'n_estimators': 199, 'max_depth': 25, 'min_samples_split': 5, 'min_samples_leaf': 6, 'max_features': 'sqrt'}\n"
      ]
     },
     "metadata": {},
     "output_type": "display_data"
    },
    {
     "data": {
      "text/html": [
       "<pre style=\"white-space:pre;overflow-x:auto;line-height:normal;font-family:Menlo,'DejaVu Sans Mono',consolas,'Courier New',monospace\">19:31:42.303 | <span style=\"color: #008080; text-decoration-color: #008080\">INFO</span>    | Task run 'Train_Model_Optuna-62f' - MLflow Run ID: f0861cbe0e5f4d9c9cd4c42a6c8a3be6\n",
       "</pre>\n"
      ],
      "text/plain": [
       "19:31:42.303 | \u001b[36mINFO\u001b[0m    | Task run 'Train_Model_Optuna-62f' - MLflow Run ID: f0861cbe0e5f4d9c9cd4c42a6c8a3be6\n"
      ]
     },
     "metadata": {},
     "output_type": "display_data"
    },
    {
     "data": {
      "text/html": [
       "<pre style=\"white-space:pre;overflow-x:auto;line-height:normal;font-family:Menlo,'DejaVu Sans Mono',consolas,'Courier New',monospace\">19:31:42.314 | <span style=\"color: #008080; text-decoration-color: #008080\">INFO</span>    | Task run 'Train_Model_Optuna-62f' - Finished in state <span style=\"color: #008000; text-decoration-color: #008000\">Completed</span>()\n",
       "</pre>\n"
      ],
      "text/plain": [
       "19:31:42.314 | \u001b[36mINFO\u001b[0m    | Task run 'Train_Model_Optuna-62f' - Finished in state \u001b[32mCompleted\u001b[0m()\n"
      ]
     },
     "metadata": {},
     "output_type": "display_data"
    },
    {
     "data": {
      "text/html": [
       "<pre style=\"white-space:pre;overflow-x:auto;line-height:normal;font-family:Menlo,'DejaVu Sans Mono',consolas,'Courier New',monospace\">19:31:42.365 | <span style=\"color: #008080; text-decoration-color: #008080\">INFO</span>    | Flow run<span style=\"color: #800080; text-decoration-color: #800080\"> 'loud-dragon'</span> - Model comparison complete! Best model: LogisticRegression_f1\n",
       "</pre>\n"
      ],
      "text/plain": [
       "19:31:42.365 | \u001b[36mINFO\u001b[0m    | Flow run\u001b[35m 'loud-dragon'\u001b[0m - Model comparison complete! Best model: LogisticRegression_f1\n"
      ]
     },
     "metadata": {},
     "output_type": "display_data"
    },
    {
     "data": {
      "text/html": [
       "<pre style=\"white-space:pre;overflow-x:auto;line-height:normal;font-family:Menlo,'DejaVu Sans Mono',consolas,'Courier New',monospace\">19:31:42.455 | <span style=\"color: #008080; text-decoration-color: #008080\">INFO</span>    | Flow run<span style=\"color: #800080; text-decoration-color: #800080\"> 'loud-dragon'</span> - Finished in state <span style=\"color: #008000; text-decoration-color: #008000\">Completed</span>()\n",
       "</pre>\n"
      ],
      "text/plain": [
       "19:31:42.455 | \u001b[36mINFO\u001b[0m    | Flow run\u001b[35m 'loud-dragon'\u001b[0m - Finished in state \u001b[32mCompleted\u001b[0m()\n"
      ]
     },
     "metadata": {},
     "output_type": "display_data"
    },
    {
     "name": "stdout",
     "output_type": "stream",
     "text": [
      "Comparison results: {'LogisticRegression_accuracy': {'pipeline': Pipeline(steps=[('classifier',\n",
      "                 LogisticRegression(C=30.956150256753233, max_iter=578,\n",
      "                                    penalty='l1', random_state=42,\n",
      "                                    solver='liblinear'))]), 'run_id': '18b1ab750d3d45e2819c9976af23c3da', 'best_score': 0.7141891891891892}, 'LogisticRegression_f1': {'pipeline': Pipeline(steps=[('classifier',\n",
      "                 LogisticRegression(C=38.99241799510936, max_iter=1489,\n",
      "                                    random_state=42, solver='liblinear'))]), 'run_id': '0f7c62da6f394e8aa93a643da600a0f1', 'best_score': 0.7332172395299954}, 'RandomForest_accuracy': {'pipeline': Pipeline(steps=[('classifier',\n",
      "                 RandomForestClassifier(max_depth=23, min_samples_leaf=3,\n",
      "                                        min_samples_split=4, n_estimators=189,\n",
      "                                        n_jobs=-1, random_state=42))]), 'run_id': 'ca368c6fcd64492cad2b5222f9a3f754', 'best_score': 0.6162162162162163}, 'RandomForest_f1': {'pipeline': Pipeline(steps=[('classifier',\n",
      "                 RandomForestClassifier(max_depth=25, min_samples_leaf=6,\n",
      "                                        min_samples_split=5, n_estimators=199,\n",
      "                                        n_jobs=-1, random_state=42))]), 'run_id': 'f0861cbe0e5f4d9c9cd4c42a6c8a3be6', 'best_score': 0.5715079902290342}}\n",
      "✅ Both LogisticRegression and RandomForest work perfectly!\n"
     ]
    }
   ],
   "source": [
    "# Model comparison flow\n",
    "print(\"\\n\" + \"=\"*60)\n",
    "print(\"Testing Model Comparison Flow...\")\n",
    "print(\"=\"*60)\n",
    "\n",
    "# Uncomment to run a comprehensive model comparison\n",
    "results = compare_models_flow(nregistros=5000, n_trials=10)\n",
    "print(f\"Comparison results: {results}\")\n",
    "\n",
    "print(\"✅ Both LogisticRegression and RandomForest work perfectly!\")"
   ]
  }
 ],
 "metadata": {
  "kernelspec": {
   "display_name": "Proyecto_Final",
   "language": "python",
   "name": "python3"
  },
  "language_info": {
   "codemirror_mode": {
    "name": "ipython",
    "version": 3
   },
   "file_extension": ".py",
   "mimetype": "text/x-python",
   "name": "python",
   "nbconvert_exporter": "python",
   "pygments_lexer": "ipython3",
   "version": "3.11.9"
  }
 },
 "nbformat": 4,
 "nbformat_minor": 5
}
