{
 "cells": [
  {
   "cell_type": "markdown",
   "id": "ca4f51ea",
   "metadata": {},
   "source": [
    "# Guardardemos el mejor modelo y el Vectorizer"
   ]
  },
  {
   "cell_type": "code",
   "execution_count": 2,
   "id": "78368fc0",
   "metadata": {},
   "outputs": [],
   "source": [
    "import sys\n",
    "import os\n",
    "import pandas as pd\n",
    "import re\n",
    "import spacy\n",
    "from sklearn.preprocessing import LabelEncoder\n",
    "from sklearn.model_selection import train_test_split\n",
    "from sklearn.ensemble import RandomForestClassifier\n",
    "from sklearn.metrics import accuracy_score\n",
    "from sklearn.metrics import precision_score\n",
    "from sklearn.metrics import recall_score\n",
    "from sklearn.metrics import f1_score\n",
    "from sklearn.metrics import confusion_matrix\n",
    "from sklearn.feature_extraction.text import TfidfVectorizer\n",
    "sys.path.append(os.path.abspath('..'))  # Ajusta la ruta según la ubicación de 'training'\n",
    "from training.etl import EDAdataset\n",
    "from training.feature_engineer import PreprocesadorTexto\n",
    "from utils.conexion import SQLConnection"
   ]
  },
  {
   "cell_type": "code",
   "execution_count": 3,
   "id": "3d65b62b",
   "metadata": {},
   "outputs": [
    {
     "name": "stderr",
     "output_type": "stream",
     "text": [
      "c:\\Users\\ISAIAS_QUINTERO\\Desktop\\Universiad\\MLOps\\Proyecto_Final\\src\\training\\etl.py:20: SettingWithCopyWarning: \n",
      "A value is trying to be set on a copy of a slice from a DataFrame.\n",
      "Try using .loc[row_indexer,col_indexer] = value instead\n",
      "\n",
      "See the caveats in the documentation: https://pandas.pydata.org/pandas-docs/stable/user_guide/indexing.html#returning-a-view-versus-a-copy\n",
      "  self.df[column_name] = self.df[column_name].str.capitalize()\n"
     ]
    }
   ],
   "source": [
    "params = {\"medico\": \"PSICOLOGÍA\",\"fechaini\": \"20230101\",\"fechafin\": \"20250504\"}\n",
    "# sql_path = os.path.join(\"..\", \"sql_queries\", \"queries.sql\")\n",
    "sql_path = os.path.join(\"..\",  \"..\", \"sql_queries\", \"queries.sql\")\n",
    "sqlconection = SQLConnection(sql_path=sql_path, params=params)\n",
    "df_conexion = sqlconection.generate_dataframe(nregistros=10000)\n",
    "df_eda = EDAdataset(df_conexion)\n",
    "df = df_eda.dataset_eda(df_conexion)"
   ]
  },
  {
   "cell_type": "code",
   "execution_count": 4,
   "id": "6c086837",
   "metadata": {},
   "outputs": [
    {
     "data": {
      "text/html": [
       "<div>\n",
       "<style scoped>\n",
       "    .dataframe tbody tr th:only-of-type {\n",
       "        vertical-align: middle;\n",
       "    }\n",
       "\n",
       "    .dataframe tbody tr th {\n",
       "        vertical-align: top;\n",
       "    }\n",
       "\n",
       "    .dataframe thead th {\n",
       "        text-align: right;\n",
       "    }\n",
       "</style>\n",
       "<table border=\"1\" class=\"dataframe\">\n",
       "  <thead>\n",
       "    <tr style=\"text-align: right;\">\n",
       "      <th></th>\n",
       "      <th>sexo</th>\n",
       "      <th>edad</th>\n",
       "      <th>grupo</th>\n",
       "      <th>especialidad_medica</th>\n",
       "      <th>subjetivo</th>\n",
       "      <th>objetivo</th>\n",
       "      <th>concatenada</th>\n",
       "    </tr>\n",
       "  </thead>\n",
       "  <tbody>\n",
       "    <tr>\n",
       "      <th>1</th>\n",
       "      <td>Femenino</td>\n",
       "      <td>68</td>\n",
       "      <td>T. de ansiedad</td>\n",
       "      <td>PSICOLOGÍA</td>\n",
       "      <td>Paciente refiere \"de reumatología como que me ...</td>\n",
       "      <td>Atención psicológica en modalidad teleconsulta...</td>\n",
       "      <td>Paciente refiere \"de reumatología como que me ...</td>\n",
       "    </tr>\n",
       "    <tr>\n",
       "      <th>2</th>\n",
       "      <td>Femenino</td>\n",
       "      <td>38</td>\n",
       "      <td>Otros trastornos</td>\n",
       "      <td>PSICOLOGÍA</td>\n",
       "      <td>Paciente refiere: \"Me empezaron a dar como uno...</td>\n",
       "      <td>Paciente alerta, colaboradora con apariencia o...</td>\n",
       "      <td>Paciente refiere: \"Me empezaron a dar como uno...</td>\n",
       "    </tr>\n",
       "    <tr>\n",
       "      <th>3</th>\n",
       "      <td>Masculino</td>\n",
       "      <td>22</td>\n",
       "      <td>T. externalizantes</td>\n",
       "      <td>PSICOLOGÍA</td>\n",
       "      <td>Paciente refiere \"Me he sentido muy mal, en el...</td>\n",
       "      <td>Paciente a quien evaluó por primera vez, alert...</td>\n",
       "      <td>Paciente refiere \"Me he sentido muy mal, en el...</td>\n",
       "    </tr>\n",
       "    <tr>\n",
       "      <th>4</th>\n",
       "      <td>Masculino</td>\n",
       "      <td>9</td>\n",
       "      <td>Otros trastornos</td>\n",
       "      <td>PSICOLOGÍA</td>\n",
       "      <td>La madre refiere \"el viene por un acompañamien...</td>\n",
       "      <td>None</td>\n",
       "      <td>La madre refiere \"el viene por un acompañamien...</td>\n",
       "    </tr>\n",
       "    <tr>\n",
       "      <th>5</th>\n",
       "      <td>Masculino</td>\n",
       "      <td>28</td>\n",
       "      <td>Otros trastornos</td>\n",
       "      <td>PSICOLOGÍA</td>\n",
       "      <td>Paciente refiere \"Estas cosas que han pasado m...</td>\n",
       "      <td>Paciente quien evalúo por primera vez, alerta,...</td>\n",
       "      <td>Paciente refiere \"Estas cosas que han pasado m...</td>\n",
       "    </tr>\n",
       "  </tbody>\n",
       "</table>\n",
       "</div>"
      ],
      "text/plain": [
       "        sexo  edad               grupo especialidad_medica  \\\n",
       "1   Femenino    68      T. de ansiedad          PSICOLOGÍA   \n",
       "2   Femenino    38    Otros trastornos          PSICOLOGÍA   \n",
       "3  Masculino    22  T. externalizantes          PSICOLOGÍA   \n",
       "4  Masculino     9    Otros trastornos          PSICOLOGÍA   \n",
       "5  Masculino    28    Otros trastornos          PSICOLOGÍA   \n",
       "\n",
       "                                           subjetivo  \\\n",
       "1  Paciente refiere \"de reumatología como que me ...   \n",
       "2  Paciente refiere: \"Me empezaron a dar como uno...   \n",
       "3  Paciente refiere \"Me he sentido muy mal, en el...   \n",
       "4  La madre refiere \"el viene por un acompañamien...   \n",
       "5  Paciente refiere \"Estas cosas que han pasado m...   \n",
       "\n",
       "                                            objetivo  \\\n",
       "1  Atención psicológica en modalidad teleconsulta...   \n",
       "2  Paciente alerta, colaboradora con apariencia o...   \n",
       "3  Paciente a quien evaluó por primera vez, alert...   \n",
       "4                                               None   \n",
       "5  Paciente quien evalúo por primera vez, alerta,...   \n",
       "\n",
       "                                         concatenada  \n",
       "1  Paciente refiere \"de reumatología como que me ...  \n",
       "2  Paciente refiere: \"Me empezaron a dar como uno...  \n",
       "3  Paciente refiere \"Me he sentido muy mal, en el...  \n",
       "4  La madre refiere \"el viene por un acompañamien...  \n",
       "5  Paciente refiere \"Estas cosas que han pasado m...  "
      ]
     },
     "execution_count": 4,
     "metadata": {},
     "output_type": "execute_result"
    }
   ],
   "source": [
    "df.head()"
   ]
  },
  {
   "cell_type": "code",
   "execution_count": 5,
   "id": "a470d4eb",
   "metadata": {},
   "outputs": [
    {
     "data": {
      "text/plain": [
       "(9808, 7)"
      ]
     },
     "execution_count": 5,
     "metadata": {},
     "output_type": "execute_result"
    }
   ],
   "source": [
    "df.shape"
   ]
  },
  {
   "cell_type": "code",
   "execution_count": 6,
   "id": "69d7adeb",
   "metadata": {},
   "outputs": [],
   "source": [
    "stopwords={\n",
    "            \"medico\", \"paciente\", \"psicologo\", \"psicologa\",\n",
    "            \"psicologia\", \"psicoterapeuta\", \"psicoterapia\", \"refiere\"\n",
    "        }\n",
    "\n",
    "preprocesador = PreprocesadorTexto(df, stopwords=stopwords)\n",
    "df_procesado, mapeos = preprocesador.procesar(\n",
    "    columna_texto=\"concatenada\", # Columna que contiene el texto a procesar\n",
    "    columna_sexo=\"sexo\", # Columna que contiene la variable sexo\n",
    "    columna_grupo=\"grupo\" # Columna que contiene la variable grupo\n",
    ")"
   ]
  },
  {
   "cell_type": "code",
   "execution_count": 7,
   "id": "b5e773a8",
   "metadata": {},
   "outputs": [
    {
     "data": {
      "text/html": [
       "<div>\n",
       "<style scoped>\n",
       "    .dataframe tbody tr th:only-of-type {\n",
       "        vertical-align: middle;\n",
       "    }\n",
       "\n",
       "    .dataframe tbody tr th {\n",
       "        vertical-align: top;\n",
       "    }\n",
       "\n",
       "    .dataframe thead th {\n",
       "        text-align: right;\n",
       "    }\n",
       "</style>\n",
       "<table border=\"1\" class=\"dataframe\">\n",
       "  <thead>\n",
       "    <tr style=\"text-align: right;\">\n",
       "      <th></th>\n",
       "      <th>sexo</th>\n",
       "      <th>edad</th>\n",
       "      <th>grupo</th>\n",
       "      <th>especialidad_medica</th>\n",
       "      <th>subjetivo</th>\n",
       "      <th>objetivo</th>\n",
       "      <th>concatenada</th>\n",
       "      <th>sexo_codificado</th>\n",
       "      <th>grupo_codificado</th>\n",
       "    </tr>\n",
       "  </thead>\n",
       "  <tbody>\n",
       "    <tr>\n",
       "      <th>1</th>\n",
       "      <td>Femenino</td>\n",
       "      <td>68</td>\n",
       "      <td>T. de ansiedad</td>\n",
       "      <td>PSICOLOGÍA</td>\n",
       "      <td>Paciente refiere \"de reumatología como que me ...</td>\n",
       "      <td>Atención psicológica en modalidad teleconsulta...</td>\n",
       "      <td>[reumatologa, autorizar, cita, mover, levantar...</td>\n",
       "      <td>0</td>\n",
       "      <td>2</td>\n",
       "    </tr>\n",
       "    <tr>\n",
       "      <th>2</th>\n",
       "      <td>Femenino</td>\n",
       "      <td>38</td>\n",
       "      <td>Otros trastornos</td>\n",
       "      <td>PSICOLOGÍA</td>\n",
       "      <td>Paciente refiere: \"Me empezaron a dar como uno...</td>\n",
       "      <td>Paciente alerta, colaboradora con apariencia o...</td>\n",
       "      <td>[empezar, episodio, tom, pastilla, dormir, ten...</td>\n",
       "      <td>0</td>\n",
       "      <td>0</td>\n",
       "    </tr>\n",
       "    <tr>\n",
       "      <th>3</th>\n",
       "      <td>Masculino</td>\n",
       "      <td>22</td>\n",
       "      <td>T. externalizantes</td>\n",
       "      <td>PSICOLOGÍA</td>\n",
       "      <td>Paciente refiere \"Me he sentido muy mal, en el...</td>\n",
       "      <td>Paciente a quien evaluó por primera vez, alert...</td>\n",
       "      <td>[sentido, trabajar, concentrar yo, cosa, vidat...</td>\n",
       "      <td>1</td>\n",
       "      <td>4</td>\n",
       "    </tr>\n",
       "    <tr>\n",
       "      <th>4</th>\n",
       "      <td>Masculino</td>\n",
       "      <td>9</td>\n",
       "      <td>Otros trastornos</td>\n",
       "      <td>PSICOLOGÍA</td>\n",
       "      <td>La madre refiere \"el viene por un acompañamien...</td>\n",
       "      <td>None</td>\n",
       "      <td>[madre, venir, acompañamiento, emocional, sepr...</td>\n",
       "      <td>1</td>\n",
       "      <td>0</td>\n",
       "    </tr>\n",
       "    <tr>\n",
       "      <th>5</th>\n",
       "      <td>Masculino</td>\n",
       "      <td>28</td>\n",
       "      <td>Otros trastornos</td>\n",
       "      <td>PSICOLOGÍA</td>\n",
       "      <td>Paciente refiere \"Estas cosas que han pasado m...</td>\n",
       "      <td>Paciente quien evalúo por primera vez, alerta,...</td>\n",
       "      <td>[cosa, problema, empresa, ocasión, saludar, sa...</td>\n",
       "      <td>1</td>\n",
       "      <td>0</td>\n",
       "    </tr>\n",
       "  </tbody>\n",
       "</table>\n",
       "</div>"
      ],
      "text/plain": [
       "        sexo  edad               grupo especialidad_medica  \\\n",
       "1   Femenino    68      T. de ansiedad          PSICOLOGÍA   \n",
       "2   Femenino    38    Otros trastornos          PSICOLOGÍA   \n",
       "3  Masculino    22  T. externalizantes          PSICOLOGÍA   \n",
       "4  Masculino     9    Otros trastornos          PSICOLOGÍA   \n",
       "5  Masculino    28    Otros trastornos          PSICOLOGÍA   \n",
       "\n",
       "                                           subjetivo  \\\n",
       "1  Paciente refiere \"de reumatología como que me ...   \n",
       "2  Paciente refiere: \"Me empezaron a dar como uno...   \n",
       "3  Paciente refiere \"Me he sentido muy mal, en el...   \n",
       "4  La madre refiere \"el viene por un acompañamien...   \n",
       "5  Paciente refiere \"Estas cosas que han pasado m...   \n",
       "\n",
       "                                            objetivo  \\\n",
       "1  Atención psicológica en modalidad teleconsulta...   \n",
       "2  Paciente alerta, colaboradora con apariencia o...   \n",
       "3  Paciente a quien evaluó por primera vez, alert...   \n",
       "4                                               None   \n",
       "5  Paciente quien evalúo por primera vez, alerta,...   \n",
       "\n",
       "                                         concatenada  sexo_codificado  \\\n",
       "1  [reumatologa, autorizar, cita, mover, levantar...                0   \n",
       "2  [empezar, episodio, tom, pastilla, dormir, ten...                0   \n",
       "3  [sentido, trabajar, concentrar yo, cosa, vidat...                1   \n",
       "4  [madre, venir, acompañamiento, emocional, sepr...                1   \n",
       "5  [cosa, problema, empresa, ocasión, saludar, sa...                1   \n",
       "\n",
       "   grupo_codificado  \n",
       "1                 2  \n",
       "2                 0  \n",
       "3                 4  \n",
       "4                 0  \n",
       "5                 0  "
      ]
     },
     "execution_count": 7,
     "metadata": {},
     "output_type": "execute_result"
    }
   ],
   "source": [
    "df_procesado.head()"
   ]
  },
  {
   "cell_type": "code",
   "execution_count": 8,
   "id": "81a9bb3b",
   "metadata": {},
   "outputs": [
    {
     "data": {
      "text/plain": [
       "{'sexo':         Sexo  Codigo\n",
       " 0   Femenino       0\n",
       " 1  Masculino       1,\n",
       " 'grupo':                 Grupo  Codigo\n",
       " 0    Otros trastornos       0\n",
       " 1    T. de adaptación       1\n",
       " 2      T. de ansiedad       2\n",
       " 3       T. depresivos       3\n",
       " 4  T. externalizantes       4\n",
       " 5     T. personalidad       5}"
      ]
     },
     "execution_count": 8,
     "metadata": {},
     "output_type": "execute_result"
    }
   ],
   "source": [
    "mapeos"
   ]
  },
  {
   "cell_type": "code",
   "execution_count": 9,
   "id": "f4060288",
   "metadata": {},
   "outputs": [
    {
     "data": {
      "text/plain": [
       "((6865,), (2943,), (6865,), (2943,))"
      ]
     },
     "execution_count": 9,
     "metadata": {},
     "output_type": "execute_result"
    }
   ],
   "source": [
    "# Dividir datos antes del vectorizador\n",
    "X = df_procesado[\"concatenada\"]\n",
    "y = df_procesado[\"grupo_codificado\"]\n",
    "\n",
    "# Vectorización segura\n",
    "X_train, X_test, y_train, y_test = train_test_split(X, y, test_size=0.3, random_state=42)\n",
    "vectorizer_RN = TfidfVectorizer()\n",
    "# Convierte las listas de tokens a texto antes de vectorizar\n",
    "X_train_text = X_train.apply(lambda tokens: \" \".join(tokens))\n",
    "X_test_text = X_test.apply(lambda tokens: \" \".join(tokens))\n",
    "\n",
    "X_train_vect = vectorizer_RN.fit_transform(X_train_text)\n",
    "X_test_vect = vectorizer_RN.transform(X_test_text)\n",
    "\n",
    "\n",
    "\n",
    "X_train.shape, X_test.shape, y_train.shape, y_test.shape"
   ]
  },
  {
   "cell_type": "code",
   "execution_count": 10,
   "id": "fa71e355",
   "metadata": {},
   "outputs": [
    {
     "data": {
      "text/plain": [
       "<Compressed Sparse Row sparse matrix of dtype 'float64'\n",
       "\twith 656701 stored elements and shape (6865, 25470)>"
      ]
     },
     "execution_count": 10,
     "metadata": {},
     "output_type": "execute_result"
    }
   ],
   "source": [
    "X_train_vect"
   ]
  },
  {
   "cell_type": "code",
   "execution_count": 11,
   "id": "bf965ce8",
   "metadata": {},
   "outputs": [
    {
     "data": {
      "text/plain": [
       "<Compressed Sparse Row sparse matrix of dtype 'float64'\n",
       "\twith 273044 stored elements and shape (2943, 25470)>"
      ]
     },
     "execution_count": 11,
     "metadata": {},
     "output_type": "execute_result"
    }
   ],
   "source": [
    "X_test_vect"
   ]
  },
  {
   "cell_type": "code",
   "execution_count": 12,
   "id": "030465a7",
   "metadata": {},
   "outputs": [
    {
     "name": "stdout",
     "output_type": "stream",
     "text": [
      "Accuracy: 0.6106014271151886\n",
      "Precision: 0.6352552380825582\n",
      "Recall: 0.6106014271151886\n",
      "F1 Score: 0.5945099310685649\n",
      "Confusion Matrix:\n",
      " [[283   3 161  30  17  19]\n",
      " [ 23  27  70  18   2   5]\n",
      " [ 58   2 850  46  11  14]\n",
      " [ 39   7 231 328   4   5]\n",
      " [ 76   2  84  15 110  33]\n",
      " [ 62   0  82  20   7 199]]\n"
     ]
    }
   ],
   "source": [
    "RN = RandomForestClassifier()\n",
    "RN.fit(X_train_vect, y_train)\n",
    "y_pred = RN.predict(X_test_vect)\n",
    "\n",
    "print(\"Accuracy:\", accuracy_score(y_test, y_pred))\n",
    "print(\"Precision:\", precision_score(y_test, y_pred, average='weighted'))\n",
    "print(\"Recall:\", recall_score(y_test, y_pred, average='weighted'))\n",
    "print(\"F1 Score:\", f1_score(y_test, y_pred, average='weighted'))\n",
    "print(\"Confusion Matrix:\\n\", confusion_matrix(y_test, y_pred))"
   ]
  },
  {
   "cell_type": "code",
   "execution_count": 13,
   "id": "f76e0d5c",
   "metadata": {},
   "outputs": [
    {
     "data": {
      "image/png": "[encoded data removed]",
      "text/plain": [
       "<Figure size 1000x700 with 2 Axes>"
      ]
     },
     "metadata": {},
     "output_type": "display_data"
    }
   ],
   "source": [
    "import numpy as np\n",
    "import seaborn as sns\n",
    "import matplotlib.pyplot as plt\n",
    "\n",
    "# Diccionario de mapeo\n",
    "label_map = {0: \"Otros Trastornos\", \n",
    "             1: \"T. de adaptación\", \n",
    "             2: \"T. de ansiedad\", \n",
    "             3: \"T. depresivos\", \n",
    "             4: \"T. externalizantes\", \n",
    "             5: \"T. personalidad\"}\n",
    "\n",
    "labels = list(label_map.keys())\n",
    "\n",
    "cm = confusion_matrix(y_test, y_pred, labels=labels)\n",
    "\n",
    "# Obtener los nombres para mostrar\n",
    "nombres_labels = [label_map[i] for i in labels]\n",
    "\n",
    "plt.figure(figsize=(10, 7))\n",
    "\n",
    "ax = sns.heatmap(cm/np.sum(cm), annot=True, fmt=\".2%\", cmap=\"Blues\", xticklabels=nombres_labels, yticklabels=nombres_labels)\n",
    "plt.xlabel(\"Predicted\") \n",
    "plt.ylabel(\"True\")\n",
    "plt.title(\"Confusion Matrix\")\n",
    "plt.show()"
   ]
  },
  {
   "cell_type": "code",
   "execution_count": 14,
   "id": "d8ce7f3e",
   "metadata": {},
   "outputs": [
    {
     "data": {
      "text/plain": [
       "['best_model_vectorizer/vectorizer_RN.pkl']"
      ]
     },
     "execution_count": 14,
     "metadata": {},
     "output_type": "execute_result"
    }
   ],
   "source": [
    "import joblib\n",
    "import os\n",
    "\n",
    "# Guardar el modelo y el vectorizador \n",
    "save_path = \"best_model_vectorizer/\"\n",
    "os.makedirs(save_path, exist_ok=True)\n",
    "\n",
    "joblib.dump(RN, os.path.join(save_path, \"modelo_RN.pkl\"))\n",
    "joblib.dump(vectorizer_RN, os.path.join(save_path, \"vectorizer_RN.pkl\"))"
   ]
  }
 ],
 "metadata": {
  "kernelspec": {
   "display_name": "Proyecto_Final",
   "language": "python",
   "name": "python3"
  },
  "language_info": {
   "codemirror_mode": {
    "name": "ipython",
    "version": 3
   },
   "file_extension": ".py",
   "mimetype": "text/x-python",
   "name": "python",
   "nbconvert_exporter": "python",
   "pygments_lexer": "ipython3",
   "version": "3.11.9"
  }
 },
 "nbformat": 4,
 "nbformat_minor": 5
}
