{
 "cells": [
  {
   "cell_type": "code",
   "execution_count": 1,
   "id": "2bd2eefa",
   "metadata": {},
   "outputs": [],
   "source": [
    "import sys\n",
    "import os\n",
    "import pandas as pd\n",
    "from sklearn.feature_extraction.text import TfidfVectorizer\n",
    "from sklearn.model_selection import train_test_split\n",
    "from sklearn.linear_model import LogisticRegression\n",
    "from sklearn.metrics import accuracy_score\n",
    "from sklearn.metrics import precision_score\n",
    "from sklearn.metrics import recall_score\n",
    "from sklearn.metrics import f1_score  \n",
    "from sklearn.metrics import confusion_matrix\n",
    "sys.path.append(os.path.abspath('..'))  # Ajusta la ruta según la ubicación de 'src'\n",
    "from src.training.etl import EDAdataset\n",
    "from src.utils.conexion import SQLConnection\n",
    "from src.training.feature_engineer import PreprocesadorTexto"
   ]
  },
  {
   "cell_type": "code",
   "execution_count": 2,
   "id": "fbf87236",
   "metadata": {},
   "outputs": [],
   "source": [
    "params = {\"medico\": \"PSICOLOGÍA\",\"fechaini\": \"20230101\",\"fechafin\": \"20250504\"}\n",
    "sql_path = os.path.join(\"..\", \"sql_queries\", \"queries.sql\")\n",
    "sqlconection = SQLConnection(sql_path=sql_path, params=params)\n",
    "historias_clinicas_df = sqlconection.generate_dataframe()"
   ]
  },
  {
   "cell_type": "code",
   "execution_count": 3,
   "id": "e0cfc893",
   "metadata": {},
   "outputs": [
    {
     "name": "stderr",
     "output_type": "stream",
     "text": [
      "c:\\Users\\ISAIAS_QUINTERO\\Desktop\\Universiad\\MLOps\\Proyecto_Final\\src\\training\\etl.py:20: SettingWithCopyWarning: \n",
      "A value is trying to be set on a copy of a slice from a DataFrame.\n",
      "Try using .loc[row_indexer,col_indexer] = value instead\n",
      "\n",
      "See the caveats in the documentation: https://pandas.pydata.org/pandas-docs/stable/user_guide/indexing.html#returning-a-view-versus-a-copy\n",
      "  self.df[column_name] = self.df[column_name].str.capitalize()\n"
     ]
    }
   ],
   "source": [
    "df_copy = EDAdataset(historias_clinicas_df)\n",
    "df_final = df_copy.dataset_eda(historias_clinicas_df)"
   ]
  },
  {
   "cell_type": "code",
   "execution_count": null,
   "id": "6e614510",
   "metadata": {},
   "outputs": [
    {
     "ename": "ImportError",
     "evalue": "cannot import name 'registry' from 'thinc' (unknown location)",
     "output_type": "error",
     "traceback": [
      "\u001b[31m---------------------------------------------------------------------------\u001b[39m",
      "\u001b[31mImportError\u001b[39m                               Traceback (most recent call last)",
      "\u001b[36mCell\u001b[39m\u001b[36m \u001b[39m\u001b[32mIn[12]\u001b[39m\u001b[32m, line 5\u001b[39m\n\u001b[32m      3\u001b[39m \u001b[38;5;28;01mimport\u001b[39;00m\u001b[38;5;250m \u001b[39m\u001b[34;01mpandas\u001b[39;00m\u001b[38;5;250m \u001b[39m\u001b[38;5;28;01mas\u001b[39;00m\u001b[38;5;250m \u001b[39m\u001b[34;01mpd\u001b[39;00m\n\u001b[32m      4\u001b[39m \u001b[38;5;28;01mimport\u001b[39;00m\u001b[38;5;250m \u001b[39m\u001b[34;01mre\u001b[39;00m\n\u001b[32m----> \u001b[39m\u001b[32m5\u001b[39m \u001b[38;5;28;01mimport\u001b[39;00m\u001b[38;5;250m \u001b[39m\u001b[34;01mspacy\u001b[39;00m\n\u001b[32m      6\u001b[39m \u001b[38;5;28;01mfrom\u001b[39;00m\u001b[38;5;250m \u001b[39m\u001b[34;01msklearn\u001b[39;00m\u001b[38;5;250m \u001b[39m\u001b[38;5;28;01mimport\u001b[39;00m preprocessing\n\u001b[32m      8\u001b[39m \u001b[38;5;28;01mclass\u001b[39;00m\u001b[38;5;250m \u001b[39m\u001b[34;01mPreprocesadorTexto\u001b[39;00m:\n",
      "\u001b[36mFile \u001b[39m\u001b[32mc:\\Users\\ISAIAS_QUINTERO\\Desktop\\Universiad\\MLOps\\Proyecto_Final\\.venv\\Lib\\site-packages\\spacy\\__init__.py:6\u001b[39m\n\u001b[32m      3\u001b[39m \u001b[38;5;28;01mfrom\u001b[39;00m\u001b[38;5;250m \u001b[39m\u001b[34;01mtyping\u001b[39;00m\u001b[38;5;250m \u001b[39m\u001b[38;5;28;01mimport\u001b[39;00m Any, Dict, Iterable, Union\n\u001b[32m      5\u001b[39m \u001b[38;5;66;03m# set library-specific custom warning handling before doing anything else\u001b[39;00m\n\u001b[32m----> \u001b[39m\u001b[32m6\u001b[39m \u001b[38;5;28;01mfrom\u001b[39;00m\u001b[38;5;250m \u001b[39m\u001b[34;01m.\u001b[39;00m\u001b[34;01merrors\u001b[39;00m\u001b[38;5;250m \u001b[39m\u001b[38;5;28;01mimport\u001b[39;00m setup_default_warnings\n\u001b[32m      8\u001b[39m setup_default_warnings()  \u001b[38;5;66;03m# noqa: E402\u001b[39;00m\n\u001b[32m     10\u001b[39m \u001b[38;5;66;03m# These are imported as part of the API\u001b[39;00m\n",
      "\u001b[36mFile \u001b[39m\u001b[32mc:\\Users\\ISAIAS_QUINTERO\\Desktop\\Universiad\\MLOps\\Proyecto_Final\\.venv\\Lib\\site-packages\\spacy\\errors.py:3\u001b[39m\n\u001b[32m      1\u001b[39m \u001b[38;5;28;01mimport\u001b[39;00m\u001b[38;5;250m \u001b[39m\u001b[34;01mwarnings\u001b[39;00m\n\u001b[32m----> \u001b[39m\u001b[32m3\u001b[39m \u001b[38;5;28;01mfrom\u001b[39;00m\u001b[38;5;250m \u001b[39m\u001b[34;01m.\u001b[39;00m\u001b[34;01mcompat\u001b[39;00m\u001b[38;5;250m \u001b[39m\u001b[38;5;28;01mimport\u001b[39;00m Literal\n\u001b[32m      6\u001b[39m \u001b[38;5;28;01mclass\u001b[39;00m\u001b[38;5;250m \u001b[39m\u001b[34;01mErrorsWithCodes\u001b[39;00m(\u001b[38;5;28mtype\u001b[39m):\n\u001b[32m      7\u001b[39m     \u001b[38;5;28;01mdef\u001b[39;00m\u001b[38;5;250m \u001b[39m\u001b[34m__getattribute__\u001b[39m(\u001b[38;5;28mself\u001b[39m, code):\n",
      "\u001b[36mFile \u001b[39m\u001b[32mc:\\Users\\ISAIAS_QUINTERO\\Desktop\\Universiad\\MLOps\\Proyecto_Final\\.venv\\Lib\\site-packages\\spacy\\compat.py:39\u001b[39m\n\u001b[32m     36\u001b[39m \u001b[38;5;28;01mexcept\u001b[39;00m \u001b[38;5;167;01mImportError\u001b[39;00m:\n\u001b[32m     37\u001b[39m     \u001b[38;5;28;01mfrom\u001b[39;00m\u001b[38;5;250m \u001b[39m\u001b[34;01mcatalogue\u001b[39;00m\u001b[38;5;250m \u001b[39m\u001b[38;5;28;01mimport\u001b[39;00m _importlib_metadata \u001b[38;5;28;01mas\u001b[39;00m importlib_metadata  \u001b[38;5;66;03m# type: ignore[no-redef]    # noqa: F401\u001b[39;00m\n\u001b[32m---> \u001b[39m\u001b[32m39\u001b[39m \u001b[38;5;28;01mfrom\u001b[39;00m\u001b[38;5;250m \u001b[39m\u001b[34;01mthinc\u001b[39;00m\u001b[34;01m.\u001b[39;00m\u001b[34;01mapi\u001b[39;00m\u001b[38;5;250m \u001b[39m\u001b[38;5;28;01mimport\u001b[39;00m Optimizer  \u001b[38;5;66;03m# noqa: F401\u001b[39;00m\n\u001b[32m     41\u001b[39m pickle = pickle\n\u001b[32m     42\u001b[39m copy_reg = copy_reg\n",
      "\u001b[36mFile \u001b[39m\u001b[32mc:\\Users\\ISAIAS_QUINTERO\\Desktop\\Universiad\\MLOps\\Proyecto_Final\\.venv\\Lib\\site-packages\\thinc\\api.py:1\u001b[39m\n\u001b[32m----> \u001b[39m\u001b[32m1\u001b[39m \u001b[38;5;28;01mfrom\u001b[39;00m\u001b[38;5;250m \u001b[39m\u001b[34;01m.\u001b[39;00m\u001b[34;01mbackends\u001b[39;00m\u001b[38;5;250m \u001b[39m\u001b[38;5;28;01mimport\u001b[39;00m (\n\u001b[32m      2\u001b[39m     CupyOps,\n\u001b[32m      3\u001b[39m     MPSOps,\n\u001b[32m      4\u001b[39m     NumpyOps,\n\u001b[32m      5\u001b[39m     Ops,\n\u001b[32m      6\u001b[39m     get_current_ops,\n\u001b[32m      7\u001b[39m     get_ops,\n\u001b[32m      8\u001b[39m     set_current_ops,\n\u001b[32m      9\u001b[39m     set_gpu_allocator,\n\u001b[32m     10\u001b[39m     use_ops,\n\u001b[32m     11\u001b[39m     use_pytorch_for_gpu_memory,\n\u001b[32m     12\u001b[39m     use_tensorflow_for_gpu_memory,\n\u001b[32m     13\u001b[39m )\n\u001b[32m     14\u001b[39m \u001b[38;5;28;01mfrom\u001b[39;00m\u001b[38;5;250m \u001b[39m\u001b[34;01m.\u001b[39;00m\u001b[34;01mcompat\u001b[39;00m\u001b[38;5;250m \u001b[39m\u001b[38;5;28;01mimport\u001b[39;00m enable_mxnet, enable_tensorflow, has_cupy\n\u001b[32m     15\u001b[39m \u001b[38;5;28;01mfrom\u001b[39;00m\u001b[38;5;250m \u001b[39m\u001b[34;01m.\u001b[39;00m\u001b[34;01mconfig\u001b[39;00m\u001b[38;5;250m \u001b[39m\u001b[38;5;28;01mimport\u001b[39;00m Config, ConfigValidationError, registry\n",
      "\u001b[36mFile \u001b[39m\u001b[32mc:\\Users\\ISAIAS_QUINTERO\\Desktop\\Universiad\\MLOps\\Proyecto_Final\\.venv\\Lib\\site-packages\\thinc\\backends\\__init__.py:6\u001b[39m\n\u001b[32m      3\u001b[39m \u001b[38;5;28;01mfrom\u001b[39;00m\u001b[38;5;250m \u001b[39m\u001b[34;01mcontextvars\u001b[39;00m\u001b[38;5;250m \u001b[39m\u001b[38;5;28;01mimport\u001b[39;00m ContextVar\n\u001b[32m      4\u001b[39m \u001b[38;5;28;01mfrom\u001b[39;00m\u001b[38;5;250m \u001b[39m\u001b[34;01mtyping\u001b[39;00m\u001b[38;5;250m \u001b[39m\u001b[38;5;28;01mimport\u001b[39;00m Any, Callable, Dict, Optional, Type, cast\n\u001b[32m----> \u001b[39m\u001b[32m6\u001b[39m \u001b[38;5;28;01mfrom\u001b[39;00m\u001b[38;5;250m \u001b[39m\u001b[34;01m.\u001b[39;00m\u001b[34;01m.\u001b[39;00m\u001b[38;5;250m \u001b[39m\u001b[38;5;28;01mimport\u001b[39;00m registry\n\u001b[32m      7\u001b[39m \u001b[38;5;28;01mfrom\u001b[39;00m\u001b[38;5;250m \u001b[39m\u001b[34;01m.\u001b[39;00m\u001b[34;01m.\u001b[39;00m\u001b[34;01mcompat\u001b[39;00m\u001b[38;5;250m \u001b[39m\u001b[38;5;28;01mimport\u001b[39;00m cupy, has_cupy\n\u001b[32m      8\u001b[39m \u001b[38;5;28;01mfrom\u001b[39;00m\u001b[38;5;250m \u001b[39m\u001b[34;01m.\u001b[39;00m\u001b[34;01m.\u001b[39;00m\u001b[34;01mutil\u001b[39;00m\u001b[38;5;250m \u001b[39m\u001b[38;5;28;01mimport\u001b[39;00m (\n\u001b[32m      9\u001b[39m     assert_pytorch_installed,\n\u001b[32m     10\u001b[39m     assert_tensorflow_installed,\n\u001b[32m   (...)\u001b[39m\u001b[32m     13\u001b[39m     require_cpu,\n\u001b[32m     14\u001b[39m )\n",
      "\u001b[31mImportError\u001b[39m: cannot import name 'registry' from 'thinc' (unknown location)"
     ]
    }
   ],
   "source": [
    "# feature_engineer.py\n",
    "\n",
    "# import pandas as pd\n",
    "# import re\n",
    "# import spacy\n",
    "# from sklearn import preprocessing\n",
    "\n",
    "# class PreprocesadorTexto:\n",
    "#     def __init__(self, df, stopwords={\n",
    "#             \"medico\", \"paciente\", \"psicologo\", \"psicologa\",\n",
    "#             \"psicologia\", \"psicoterapeuta\", \"psicoterapia\", \"refiere\"}):\n",
    "#         self.df = df.copy()\n",
    "#         self.stopwords = stopwords\n",
    "#         self.nlp = spacy.load(\"es_core_news_lg\")\n",
    "#         self.stopwords = self.nlp.Defaults.stop_words.union(self.stopwords)\n",
    "\n",
    "#     def concatenar_columnas(self, df, columna1=\"subjetivo\", columna2=\"objetivo\", nueva_columna=\"concatenada\"):\n",
    "#         self.df = df\n",
    "#         self.df[nueva_columna] = self.df[columna1].astype(str) + \" \" + self.df[columna2].astype(str)\n",
    "#         return self.df\n",
    "\n",
    "#     def expresiones_regulares(self, columna):\n",
    "#         self.df[columna] = (\n",
    "#             self.df[columna]\n",
    "#             .astype(str)\n",
    "#             .str.lower()\n",
    "#             .apply(lambda x: re.sub(r'\\s+', ' ', re.sub(r'[^a-zñü ]', '', x)).strip())\n",
    "#         )\n",
    "\n",
    "#     def tokenizar(self, columna):\n",
    "#         self.df[columna] = (\n",
    "#             self.df[columna]\n",
    "#             .astype(str)\n",
    "#             .fillna(\"\")\n",
    "#             .apply(lambda x: [\n",
    "#                 token.text for token in self.nlp(x)\n",
    "#                 if token.text.lower() not in self.stopwords and not token.is_punct and not token.is_space\n",
    "#             ])\n",
    "#         )\n",
    "\n",
    "#     def lematizar(self, columna):\n",
    "#         self.df[columna] = self.df[columna].apply(\n",
    "#             lambda x: [token.lemma_ for token in self.nlp(\" \".join(x))] if isinstance(x, list) else []\n",
    "#         )\n",
    "\n",
    "#     def label_encodering(self, columna, nueva_columna, tipo=\"sexo\"):\n",
    "#         label_encoder = preprocessing.LabelEncoder()\n",
    "#         self.df[nueva_columna] = label_encoder.fit_transform(self.df[columna])\n",
    "#         mapping_df = pd.DataFrame({\n",
    "#             tipo.capitalize(): label_encoder.classes_,\n",
    "#             'Codigo': label_encoder.transform(label_encoder.classes_)\n",
    "#         })\n",
    "#         return mapping_df\n",
    "\n",
    "#     def procesar(self, columna_texto, columna_sexo=None, columna_grupo=None):\n",
    "#         self.expresiones_regulares(columna_texto)\n",
    "#         self.tokenizar(columna_texto)\n",
    "#         self.lematizar(columna_texto)\n",
    "\n",
    "#         mappings = {}\n",
    "#         if columna_sexo:\n",
    "#             mappings[\"sexo\"] = self.label_encodering(columna_sexo, \"sexo_codificado\", tipo=\"sexo\")\n",
    "#         if columna_grupo:\n",
    "#             mappings[\"grupo\"] = self.label_encodering(columna_grupo, \"grupo_codificado\", tipo=\"grupo\")\n",
    "#         return self.df, mappings"
   ]
  },
  {
   "cell_type": "code",
   "execution_count": 4,
   "id": "bd2deded",
   "metadata": {},
   "outputs": [],
   "source": [
    "stopwords={\n",
    "            \"medico\", \"paciente\", \"psicologo\", \"psicologa\",\n",
    "            \"psicologia\", \"psicoterapeuta\", \"psicoterapia\", \"refiere\"\n",
    "        }\n",
    "\n",
    "preprocesador = PreprocesadorTexto(df_final, stopwords=stopwords)\n",
    "df_procesado, mapeos = preprocesador.procesar(\n",
    "    columna_texto=\"concatenada\", # Columna que contiene el texto a procesar\n",
    "    columna_sexo=\"sexo\", # Columna que contiene la variable sexo\n",
    "    columna_grupo=\"grupo\" # Columna que contiene la variable grupo\n",
    ")"
   ]
  },
  {
   "cell_type": "code",
   "execution_count": 13,
   "id": "4dbe9422",
   "metadata": {},
   "outputs": [],
   "source": [
    "# Leer dataset historia_clinicas_procesadas.xlsx\n",
    "df_final = pd.read_excel(\"historias_clinicas_procesadas.xlsx\")"
   ]
  },
  {
   "cell_type": "markdown",
   "id": "2f44b0e2",
   "metadata": {},
   "source": [
    "# Split de datos"
   ]
  },
  {
   "cell_type": "code",
   "execution_count": 14,
   "id": "15e88947",
   "metadata": {},
   "outputs": [],
   "source": [
    "# Dividir datos antes del vectorizador\n",
    "X = df_final[[\"concatenada\", \"sexo_codificado\"]]    \n",
    "y = df_final[\"grupo_codificado\"]\n",
    "\n",
    "X_train, X_test, y_train, y_test = train_test_split(X, y, test_size=0.3, random_state=42)"
   ]
  },
  {
   "cell_type": "code",
   "execution_count": 15,
   "id": "6070eac2",
   "metadata": {},
   "outputs": [
    {
     "data": {
      "text/plain": [
       "(6866, 2)"
      ]
     },
     "execution_count": 15,
     "metadata": {},
     "output_type": "execute_result"
    }
   ],
   "source": [
    "X_train.shape"
   ]
  },
  {
   "cell_type": "code",
   "execution_count": 16,
   "id": "08c70729",
   "metadata": {},
   "outputs": [
    {
     "data": {
      "text/html": [
       "<div>\n",
       "<style scoped>\n",
       "    .dataframe tbody tr th:only-of-type {\n",
       "        vertical-align: middle;\n",
       "    }\n",
       "\n",
       "    .dataframe tbody tr th {\n",
       "        vertical-align: top;\n",
       "    }\n",
       "\n",
       "    .dataframe thead th {\n",
       "        text-align: right;\n",
       "    }\n",
       "</style>\n",
       "<table border=\"1\" class=\"dataframe\">\n",
       "  <thead>\n",
       "    <tr style=\"text-align: right;\">\n",
       "      <th></th>\n",
       "      <th>concatenada</th>\n",
       "      <th>sexo_codificado</th>\n",
       "    </tr>\n",
       "  </thead>\n",
       "  <tbody>\n",
       "    <tr>\n",
       "      <th>5023</th>\n",
       "      <td>['psiquiatra', 'ver', 'necesitar', 'medicament...</td>\n",
       "      <td>0</td>\n",
       "    </tr>\n",
       "    <tr>\n",
       "      <th>7585</th>\n",
       "      <td>['refierevengo', 'tratamiento', 'año', 'enviar...</td>\n",
       "      <td>0</td>\n",
       "    </tr>\n",
       "    <tr>\n",
       "      <th>1598</th>\n",
       "      <td>['dinmico', 'familiar', 'continuo', 'explicar'...</td>\n",
       "      <td>1</td>\n",
       "    </tr>\n",
       "    <tr>\n",
       "      <th>9162</th>\n",
       "      <td>['expresar', 'momento', 'sentir', 'ocasión', '...</td>\n",
       "      <td>0</td>\n",
       "    </tr>\n",
       "    <tr>\n",
       "      <th>300</th>\n",
       "      <td>['tener', 'problema', 'mamo', 'viernes', 'habl...</td>\n",
       "      <td>0</td>\n",
       "    </tr>\n",
       "    <tr>\n",
       "      <th>...</th>\n",
       "      <td>...</td>\n",
       "      <td>...</td>\n",
       "    </tr>\n",
       "    <tr>\n",
       "      <th>5734</th>\n",
       "      <td>['estrado', 'depresin', 'ansiedad', 'tranquili...</td>\n",
       "      <td>0</td>\n",
       "    </tr>\n",
       "    <tr>\n",
       "      <th>5191</th>\n",
       "      <td>['decir', 'cosa', 'padr', 'preocupado', 'separ...</td>\n",
       "      <td>1</td>\n",
       "    </tr>\n",
       "    <tr>\n",
       "      <th>5390</th>\n",
       "      <td>['cosa', 'afectar', 'sentir', 'desbordado', 'a...</td>\n",
       "      <td>1</td>\n",
       "    </tr>\n",
       "    <tr>\n",
       "      <th>860</th>\n",
       "      <td>['venir', 'situacin', 'familiar', 'venir', 'pr...</td>\n",
       "      <td>0</td>\n",
       "    </tr>\n",
       "    <tr>\n",
       "      <th>7270</th>\n",
       "      <td>['antecedente', 'ansiedad', 'depresin', 'insom...</td>\n",
       "      <td>0</td>\n",
       "    </tr>\n",
       "  </tbody>\n",
       "</table>\n",
       "<p>6866 rows × 2 columns</p>\n",
       "</div>"
      ],
      "text/plain": [
       "                                            concatenada  sexo_codificado\n",
       "5023  ['psiquiatra', 'ver', 'necesitar', 'medicament...                0\n",
       "7585  ['refierevengo', 'tratamiento', 'año', 'enviar...                0\n",
       "1598  ['dinmico', 'familiar', 'continuo', 'explicar'...                1\n",
       "9162  ['expresar', 'momento', 'sentir', 'ocasión', '...                0\n",
       "300   ['tener', 'problema', 'mamo', 'viernes', 'habl...                0\n",
       "...                                                 ...              ...\n",
       "5734  ['estrado', 'depresin', 'ansiedad', 'tranquili...                0\n",
       "5191  ['decir', 'cosa', 'padr', 'preocupado', 'separ...                1\n",
       "5390  ['cosa', 'afectar', 'sentir', 'desbordado', 'a...                1\n",
       "860   ['venir', 'situacin', 'familiar', 'venir', 'pr...                0\n",
       "7270  ['antecedente', 'ansiedad', 'depresin', 'insom...                0\n",
       "\n",
       "[6866 rows x 2 columns]"
      ]
     },
     "execution_count": 16,
     "metadata": {},
     "output_type": "execute_result"
    }
   ],
   "source": [
    "X_train\n"
   ]
  },
  {
   "cell_type": "code",
   "execution_count": 17,
   "id": "ef617c06",
   "metadata": {},
   "outputs": [],
   "source": [
    "# Vectorizacion\n",
    "vectorizer_LR = TfidfVectorizer()\n",
    "X_train_vect = vectorizer_LR.fit_transform(X_train[\"concatenada\"])\n",
    "X_test_vect = vectorizer_LR.transform(X_test[\"concatenada\"])"
   ]
  },
  {
   "cell_type": "code",
   "execution_count": 29,
   "id": "49543aee",
   "metadata": {},
   "outputs": [],
   "source": [
    "from sklearn.pipeline import Pipeline\n",
    "\n",
    "# Creamos el Pipeline completo\n",
    "\n",
    "model_pipeline = Pipeline(steps=[\n",
    "    (\"classifier\", LogisticRegression(random_state=42, max_iter=1000))\n",
    "])"
   ]
  },
  {
   "cell_type": "code",
   "execution_count": 30,
   "id": "d8dd01bd",
   "metadata": {},
   "outputs": [
    {
     "data": {
      "text/html": [
       "<style>#sk-container-id-1 {\n",
       "  /* Definition of color scheme common for light and dark mode */\n",
       "  --sklearn-color-text: #000;\n",
       "  --sklearn-color-text-muted: #666;\n",
       "  --sklearn-color-line: gray;\n",
       "  /* Definition of color scheme for unfitted estimators */\n",
       "  --sklearn-color-unfitted-level-0: #fff5e6;\n",
       "  --sklearn-color-unfitted-level-1: #f6e4d2;\n",
       "  --sklearn-color-unfitted-level-2: #ffe0b3;\n",
       "  --sklearn-color-unfitted-level-3: chocolate;\n",
       "  /* Definition of color scheme for fitted estimators */\n",
       "  --sklearn-color-fitted-level-0: #f0f8ff;\n",
       "  --sklearn-color-fitted-level-1: #d4ebff;\n",
       "  --sklearn-color-fitted-level-2: #b3dbfd;\n",
       "  --sklearn-color-fitted-level-3: cornflowerblue;\n",
       "\n",
       "  /* Specific color for light theme */\n",
       "  --sklearn-color-text-on-default-background: var(--sg-text-color, var(--theme-code-foreground, var(--jp-content-font-color1, black)));\n",
       "  --sklearn-color-background: var(--sg-background-color, var(--theme-background, var(--jp-layout-color0, white)));\n",
       "  --sklearn-color-border-box: var(--sg-text-color, var(--theme-code-foreground, var(--jp-content-font-color1, black)));\n",
       "  --sklearn-color-icon: #696969;\n",
       "\n",
       "  @media (prefers-color-scheme: dark) {\n",
       "    /* Redefinition of color scheme for dark theme */\n",
       "    --sklearn-color-text-on-default-background: var(--sg-text-color, var(--theme-code-foreground, var(--jp-content-font-color1, white)));\n",
       "    --sklearn-color-background: var(--sg-background-color, var(--theme-background, var(--jp-layout-color0, #111)));\n",
       "    --sklearn-color-border-box: var(--sg-text-color, var(--theme-code-foreground, var(--jp-content-font-color1, white)));\n",
       "    --sklearn-color-icon: #878787;\n",
       "  }\n",
       "}\n",
       "\n",
       "#sk-container-id-1 {\n",
       "  color: var(--sklearn-color-text);\n",
       "}\n",
       "\n",
       "#sk-container-id-1 pre {\n",
       "  padding: 0;\n",
       "}\n",
       "\n",
       "#sk-container-id-1 input.sk-hidden--visually {\n",
       "  border: 0;\n",
       "  clip: rect(1px 1px 1px 1px);\n",
       "  clip: rect(1px, 1px, 1px, 1px);\n",
       "  height: 1px;\n",
       "  margin: -1px;\n",
       "  overflow: hidden;\n",
       "  padding: 0;\n",
       "  position: absolute;\n",
       "  width: 1px;\n",
       "}\n",
       "\n",
       "#sk-container-id-1 div.sk-dashed-wrapped {\n",
       "  border: 1px dashed var(--sklearn-color-line);\n",
       "  margin: 0 0.4em 0.5em 0.4em;\n",
       "  box-sizing: border-box;\n",
       "  padding-bottom: 0.4em;\n",
       "  background-color: var(--sklearn-color-background);\n",
       "}\n",
       "\n",
       "#sk-container-id-1 div.sk-container {\n",
       "  /* jupyter's `normalize.less` sets `[hidden] { display: none; }`\n",
       "     but bootstrap.min.css set `[hidden] { display: none !important; }`\n",
       "     so we also need the `!important` here to be able to override the\n",
       "     default hidden behavior on the sphinx rendered scikit-learn.org.\n",
       "     See: https://github.com/scikit-learn/scikit-learn/issues/21755 */\n",
       "  display: inline-block !important;\n",
       "  position: relative;\n",
       "}\n",
       "\n",
       "#sk-container-id-1 div.sk-text-repr-fallback {\n",
       "  display: none;\n",
       "}\n",
       "\n",
       "div.sk-parallel-item,\n",
       "div.sk-serial,\n",
       "div.sk-item {\n",
       "  /* draw centered vertical line to link estimators */\n",
       "  background-image: linear-gradient(var(--sklearn-color-text-on-default-background), var(--sklearn-color-text-on-default-background));\n",
       "  background-size: 2px 100%;\n",
       "  background-repeat: no-repeat;\n",
       "  background-position: center center;\n",
       "}\n",
       "\n",
       "/* Parallel-specific style estimator block */\n",
       "\n",
       "#sk-container-id-1 div.sk-parallel-item::after {\n",
       "  content: \"\";\n",
       "  width: 100%;\n",
       "  border-bottom: 2px solid var(--sklearn-color-text-on-default-background);\n",
       "  flex-grow: 1;\n",
       "}\n",
       "\n",
       "#sk-container-id-1 div.sk-parallel {\n",
       "  display: flex;\n",
       "  align-items: stretch;\n",
       "  justify-content: center;\n",
       "  background-color: var(--sklearn-color-background);\n",
       "  position: relative;\n",
       "}\n",
       "\n",
       "#sk-container-id-1 div.sk-parallel-item {\n",
       "  display: flex;\n",
       "  flex-direction: column;\n",
       "}\n",
       "\n",
       "#sk-container-id-1 div.sk-parallel-item:first-child::after {\n",
       "  align-self: flex-end;\n",
       "  width: 50%;\n",
       "}\n",
       "\n",
       "#sk-container-id-1 div.sk-parallel-item:last-child::after {\n",
       "  align-self: flex-start;\n",
       "  width: 50%;\n",
       "}\n",
       "\n",
       "#sk-container-id-1 div.sk-parallel-item:only-child::after {\n",
       "  width: 0;\n",
       "}\n",
       "\n",
       "/* Serial-specific style estimator block */\n",
       "\n",
       "#sk-container-id-1 div.sk-serial {\n",
       "  display: flex;\n",
       "  flex-direction: column;\n",
       "  align-items: center;\n",
       "  background-color: var(--sklearn-color-background);\n",
       "  padding-right: 1em;\n",
       "  padding-left: 1em;\n",
       "}\n",
       "\n",
       "\n",
       "/* Toggleable style: style used for estimator/Pipeline/ColumnTransformer box that is\n",
       "clickable and can be expanded/collapsed.\n",
       "- Pipeline and ColumnTransformer use this feature and define the default style\n",
       "- Estimators will overwrite some part of the style using the `sk-estimator` class\n",
       "*/\n",
       "\n",
       "/* Pipeline and ColumnTransformer style (default) */\n",
       "\n",
       "#sk-container-id-1 div.sk-toggleable {\n",
       "  /* Default theme specific background. It is overwritten whether we have a\n",
       "  specific estimator or a Pipeline/ColumnTransformer */\n",
       "  background-color: var(--sklearn-color-background);\n",
       "}\n",
       "\n",
       "/* Toggleable label */\n",
       "#sk-container-id-1 label.sk-toggleable__label {\n",
       "  cursor: pointer;\n",
       "  display: flex;\n",
       "  width: 100%;\n",
       "  margin-bottom: 0;\n",
       "  padding: 0.5em;\n",
       "  box-sizing: border-box;\n",
       "  text-align: center;\n",
       "  align-items: start;\n",
       "  justify-content: space-between;\n",
       "  gap: 0.5em;\n",
       "}\n",
       "\n",
       "#sk-container-id-1 label.sk-toggleable__label .caption {\n",
       "  font-size: 0.6rem;\n",
       "  font-weight: lighter;\n",
       "  color: var(--sklearn-color-text-muted);\n",
       "}\n",
       "\n",
       "#sk-container-id-1 label.sk-toggleable__label-arrow:before {\n",
       "  /* Arrow on the left of the label */\n",
       "  content: \"▸\";\n",
       "  float: left;\n",
       "  margin-right: 0.25em;\n",
       "  color: var(--sklearn-color-icon);\n",
       "}\n",
       "\n",
       "#sk-container-id-1 label.sk-toggleable__label-arrow:hover:before {\n",
       "  color: var(--sklearn-color-text);\n",
       "}\n",
       "\n",
       "/* Toggleable content - dropdown */\n",
       "\n",
       "#sk-container-id-1 div.sk-toggleable__content {\n",
       "  display: none;\n",
       "  text-align: left;\n",
       "  /* unfitted */\n",
       "  background-color: var(--sklearn-color-unfitted-level-0);\n",
       "}\n",
       "\n",
       "#sk-container-id-1 div.sk-toggleable__content.fitted {\n",
       "  /* fitted */\n",
       "  background-color: var(--sklearn-color-fitted-level-0);\n",
       "}\n",
       "\n",
       "#sk-container-id-1 div.sk-toggleable__content pre {\n",
       "  margin: 0.2em;\n",
       "  border-radius: 0.25em;\n",
       "  color: var(--sklearn-color-text);\n",
       "  /* unfitted */\n",
       "  background-color: var(--sklearn-color-unfitted-level-0);\n",
       "}\n",
       "\n",
       "#sk-container-id-1 div.sk-toggleable__content.fitted pre {\n",
       "  /* unfitted */\n",
       "  background-color: var(--sklearn-color-fitted-level-0);\n",
       "}\n",
       "\n",
       "#sk-container-id-1 input.sk-toggleable__control:checked~div.sk-toggleable__content {\n",
       "  /* Expand drop-down */\n",
       "  display: block;\n",
       "  width: 100%;\n",
       "  overflow: visible;\n",
       "}\n",
       "\n",
       "#sk-container-id-1 input.sk-toggleable__control:checked~label.sk-toggleable__label-arrow:before {\n",
       "  content: \"▾\";\n",
       "}\n",
       "\n",
       "/* Pipeline/ColumnTransformer-specific style */\n",
       "\n",
       "#sk-container-id-1 div.sk-label input.sk-toggleable__control:checked~label.sk-toggleable__label {\n",
       "  color: var(--sklearn-color-text);\n",
       "  background-color: var(--sklearn-color-unfitted-level-2);\n",
       "}\n",
       "\n",
       "#sk-container-id-1 div.sk-label.fitted input.sk-toggleable__control:checked~label.sk-toggleable__label {\n",
       "  background-color: var(--sklearn-color-fitted-level-2);\n",
       "}\n",
       "\n",
       "/* Estimator-specific style */\n",
       "\n",
       "/* Colorize estimator box */\n",
       "#sk-container-id-1 div.sk-estimator input.sk-toggleable__control:checked~label.sk-toggleable__label {\n",
       "  /* unfitted */\n",
       "  background-color: var(--sklearn-color-unfitted-level-2);\n",
       "}\n",
       "\n",
       "#sk-container-id-1 div.sk-estimator.fitted input.sk-toggleable__control:checked~label.sk-toggleable__label {\n",
       "  /* fitted */\n",
       "  background-color: var(--sklearn-color-fitted-level-2);\n",
       "}\n",
       "\n",
       "#sk-container-id-1 div.sk-label label.sk-toggleable__label,\n",
       "#sk-container-id-1 div.sk-label label {\n",
       "  /* The background is the default theme color */\n",
       "  color: var(--sklearn-color-text-on-default-background);\n",
       "}\n",
       "\n",
       "/* On hover, darken the color of the background */\n",
       "#sk-container-id-1 div.sk-label:hover label.sk-toggleable__label {\n",
       "  color: var(--sklearn-color-text);\n",
       "  background-color: var(--sklearn-color-unfitted-level-2);\n",
       "}\n",
       "\n",
       "/* Label box, darken color on hover, fitted */\n",
       "#sk-container-id-1 div.sk-label.fitted:hover label.sk-toggleable__label.fitted {\n",
       "  color: var(--sklearn-color-text);\n",
       "  background-color: var(--sklearn-color-fitted-level-2);\n",
       "}\n",
       "\n",
       "/* Estimator label */\n",
       "\n",
       "#sk-container-id-1 div.sk-label label {\n",
       "  font-family: monospace;\n",
       "  font-weight: bold;\n",
       "  display: inline-block;\n",
       "  line-height: 1.2em;\n",
       "}\n",
       "\n",
       "#sk-container-id-1 div.sk-label-container {\n",
       "  text-align: center;\n",
       "}\n",
       "\n",
       "/* Estimator-specific */\n",
       "#sk-container-id-1 div.sk-estimator {\n",
       "  font-family: monospace;\n",
       "  border: 1px dotted var(--sklearn-color-border-box);\n",
       "  border-radius: 0.25em;\n",
       "  box-sizing: border-box;\n",
       "  margin-bottom: 0.5em;\n",
       "  /* unfitted */\n",
       "  background-color: var(--sklearn-color-unfitted-level-0);\n",
       "}\n",
       "\n",
       "#sk-container-id-1 div.sk-estimator.fitted {\n",
       "  /* fitted */\n",
       "  background-color: var(--sklearn-color-fitted-level-0);\n",
       "}\n",
       "\n",
       "/* on hover */\n",
       "#sk-container-id-1 div.sk-estimator:hover {\n",
       "  /* unfitted */\n",
       "  background-color: var(--sklearn-color-unfitted-level-2);\n",
       "}\n",
       "\n",
       "#sk-container-id-1 div.sk-estimator.fitted:hover {\n",
       "  /* fitted */\n",
       "  background-color: var(--sklearn-color-fitted-level-2);\n",
       "}\n",
       "\n",
       "/* Specification for estimator info (e.g. \"i\" and \"?\") */\n",
       "\n",
       "/* Common style for \"i\" and \"?\" */\n",
       "\n",
       ".sk-estimator-doc-link,\n",
       "a:link.sk-estimator-doc-link,\n",
       "a:visited.sk-estimator-doc-link {\n",
       "  float: right;\n",
       "  font-size: smaller;\n",
       "  line-height: 1em;\n",
       "  font-family: monospace;\n",
       "  background-color: var(--sklearn-color-background);\n",
       "  border-radius: 1em;\n",
       "  height: 1em;\n",
       "  width: 1em;\n",
       "  text-decoration: none !important;\n",
       "  margin-left: 0.5em;\n",
       "  text-align: center;\n",
       "  /* unfitted */\n",
       "  border: var(--sklearn-color-unfitted-level-1) 1pt solid;\n",
       "  color: var(--sklearn-color-unfitted-level-1);\n",
       "}\n",
       "\n",
       ".sk-estimator-doc-link.fitted,\n",
       "a:link.sk-estimator-doc-link.fitted,\n",
       "a:visited.sk-estimator-doc-link.fitted {\n",
       "  /* fitted */\n",
       "  border: var(--sklearn-color-fitted-level-1) 1pt solid;\n",
       "  color: var(--sklearn-color-fitted-level-1);\n",
       "}\n",
       "\n",
       "/* On hover */\n",
       "div.sk-estimator:hover .sk-estimator-doc-link:hover,\n",
       ".sk-estimator-doc-link:hover,\n",
       "div.sk-label-container:hover .sk-estimator-doc-link:hover,\n",
       ".sk-estimator-doc-link:hover {\n",
       "  /* unfitted */\n",
       "  background-color: var(--sklearn-color-unfitted-level-3);\n",
       "  color: var(--sklearn-color-background);\n",
       "  text-decoration: none;\n",
       "}\n",
       "\n",
       "div.sk-estimator.fitted:hover .sk-estimator-doc-link.fitted:hover,\n",
       ".sk-estimator-doc-link.fitted:hover,\n",
       "div.sk-label-container:hover .sk-estimator-doc-link.fitted:hover,\n",
       ".sk-estimator-doc-link.fitted:hover {\n",
       "  /* fitted */\n",
       "  background-color: var(--sklearn-color-fitted-level-3);\n",
       "  color: var(--sklearn-color-background);\n",
       "  text-decoration: none;\n",
       "}\n",
       "\n",
       "/* Span, style for the box shown on hovering the info icon */\n",
       ".sk-estimator-doc-link span {\n",
       "  display: none;\n",
       "  z-index: 9999;\n",
       "  position: relative;\n",
       "  font-weight: normal;\n",
       "  right: .2ex;\n",
       "  padding: .5ex;\n",
       "  margin: .5ex;\n",
       "  width: min-content;\n",
       "  min-width: 20ex;\n",
       "  max-width: 50ex;\n",
       "  color: var(--sklearn-color-text);\n",
       "  box-shadow: 2pt 2pt 4pt #999;\n",
       "  /* unfitted */\n",
       "  background: var(--sklearn-color-unfitted-level-0);\n",
       "  border: .5pt solid var(--sklearn-color-unfitted-level-3);\n",
       "}\n",
       "\n",
       ".sk-estimator-doc-link.fitted span {\n",
       "  /* fitted */\n",
       "  background: var(--sklearn-color-fitted-level-0);\n",
       "  border: var(--sklearn-color-fitted-level-3);\n",
       "}\n",
       "\n",
       ".sk-estimator-doc-link:hover span {\n",
       "  display: block;\n",
       "}\n",
       "\n",
       "/* \"?\"-specific style due to the `<a>` HTML tag */\n",
       "\n",
       "#sk-container-id-1 a.estimator_doc_link {\n",
       "  float: right;\n",
       "  font-size: 1rem;\n",
       "  line-height: 1em;\n",
       "  font-family: monospace;\n",
       "  background-color: var(--sklearn-color-background);\n",
       "  border-radius: 1rem;\n",
       "  height: 1rem;\n",
       "  width: 1rem;\n",
       "  text-decoration: none;\n",
       "  /* unfitted */\n",
       "  color: var(--sklearn-color-unfitted-level-1);\n",
       "  border: var(--sklearn-color-unfitted-level-1) 1pt solid;\n",
       "}\n",
       "\n",
       "#sk-container-id-1 a.estimator_doc_link.fitted {\n",
       "  /* fitted */\n",
       "  border: var(--sklearn-color-fitted-level-1) 1pt solid;\n",
       "  color: var(--sklearn-color-fitted-level-1);\n",
       "}\n",
       "\n",
       "/* On hover */\n",
       "#sk-container-id-1 a.estimator_doc_link:hover {\n",
       "  /* unfitted */\n",
       "  background-color: var(--sklearn-color-unfitted-level-3);\n",
       "  color: var(--sklearn-color-background);\n",
       "  text-decoration: none;\n",
       "}\n",
       "\n",
       "#sk-container-id-1 a.estimator_doc_link.fitted:hover {\n",
       "  /* fitted */\n",
       "  background-color: var(--sklearn-color-fitted-level-3);\n",
       "}\n",
       "\n",
       ".estimator-table summary {\n",
       "    padding: .5rem;\n",
       "    font-family: monospace;\n",
       "    cursor: pointer;\n",
       "}\n",
       "\n",
       ".estimator-table details[open] {\n",
       "    padding-left: 0.1rem;\n",
       "    padding-right: 0.1rem;\n",
       "    padding-bottom: 0.3rem;\n",
       "}\n",
       "\n",
       ".estimator-table .parameters-table {\n",
       "    margin-left: auto !important;\n",
       "    margin-right: auto !important;\n",
       "}\n",
       "\n",
       ".estimator-table .parameters-table tr:nth-child(odd) {\n",
       "    background-color: #fff;\n",
       "}\n",
       "\n",
       ".estimator-table .parameters-table tr:nth-child(even) {\n",
       "    background-color: #f6f6f6;\n",
       "}\n",
       "\n",
       ".estimator-table .parameters-table tr:hover {\n",
       "    background-color: #e0e0e0;\n",
       "}\n",
       "\n",
       ".estimator-table table td {\n",
       "    border: 1px solid rgba(106, 105, 104, 0.232);\n",
       "}\n",
       "\n",
       ".user-set td {\n",
       "    color:rgb(255, 94, 0);\n",
       "    text-align: left;\n",
       "}\n",
       "\n",
       ".user-set td.value pre {\n",
       "    color:rgb(255, 94, 0) !important;\n",
       "    background-color: transparent !important;\n",
       "}\n",
       "\n",
       ".default td {\n",
       "    color: black;\n",
       "    text-align: left;\n",
       "}\n",
       "\n",
       ".user-set td i,\n",
       ".default td i {\n",
       "    color: black;\n",
       "}\n",
       "\n",
       ".copy-paste-icon {\n",
       "    background-image: url(data:image/svg+xml;base64,PHN2ZyB4bWxucz0iaHR0cDovL3d3dy53My5vcmcvMjAwMC9zdmciIHZpZXdCb3g9IjAgMCA0NDggNTEyIj48IS0tIUZvbnQgQXdlc29tZSBGcmVlIDYuNy4yIGJ5IEBmb250YXdlc29tZSAtIGh0dHBzOi8vZm9udGF3ZXNvbWUuY29tIExpY2Vuc2UgLSBodHRwczovL2ZvbnRhd2Vzb21lLmNvbS9saWNlbnNlL2ZyZWUgQ29weXJpZ2h0IDIwMjUgRm9udGljb25zLCBJbmMuLS0+PHBhdGggZD0iTTIwOCAwTDMzMi4xIDBjMTIuNyAwIDI0LjkgNS4xIDMzLjkgMTQuMWw2Ny45IDY3LjljOSA5IDE0LjEgMjEuMiAxNC4xIDMzLjlMNDQ4IDMzNmMwIDI2LjUtMjEuNSA0OC00OCA0OGwtMTkyIDBjLTI2LjUgMC00OC0yMS41LTQ4LTQ4bDAtMjg4YzAtMjYuNSAyMS41LTQ4IDQ4LTQ4ek00OCAxMjhsODAgMCAwIDY0LTY0IDAgMCAyNTYgMTkyIDAgMC0zMiA2NCAwIDAgNDhjMCAyNi41LTIxLjUgNDgtNDggNDhMNDggNTEyYy0yNi41IDAtNDgtMjEuNS00OC00OEwwIDE3NmMwLTI2LjUgMjEuNS00OCA0OC00OHoiLz48L3N2Zz4=);\n",
       "    background-repeat: no-repeat;\n",
       "    background-size: 14px 14px;\n",
       "    background-position: 0;\n",
       "    display: inline-block;\n",
       "    width: 14px;\n",
       "    height: 14px;\n",
       "    cursor: pointer;\n",
       "}\n",
       "</style><body><div id=\"sk-container-id-1\" class=\"sk-top-container\"><div class=\"sk-text-repr-fallback\"><pre>Pipeline(steps=[(&#x27;classifier&#x27;,\n",
       "                 LogisticRegression(max_iter=1000, random_state=42))])</pre><b>In a Jupyter environment, please rerun this cell to show the HTML representation or trust the notebook. <br />On GitHub, the HTML representation is unable to render, please try loading this page with nbviewer.org.</b></div><div class=\"sk-container\" hidden><div class=\"sk-item sk-dashed-wrapped\"><div class=\"sk-label-container\"><div class=\"sk-label fitted sk-toggleable\"><input class=\"sk-toggleable__control sk-hidden--visually\" id=\"sk-estimator-id-1\" type=\"checkbox\" ><label for=\"sk-estimator-id-1\" class=\"sk-toggleable__label fitted sk-toggleable__label-arrow\"><div><div>Pipeline</div></div><div><a class=\"sk-estimator-doc-link fitted\" rel=\"noreferrer\" target=\"_blank\" href=\"https://scikit-learn.org/1.7/modules/generated/sklearn.pipeline.Pipeline.html\">?<span>Documentation for Pipeline</span></a><span class=\"sk-estimator-doc-link fitted\">i<span>Fitted</span></span></div></label><div class=\"sk-toggleable__content fitted\" data-param-prefix=\"\">\n",
       "        <div class=\"estimator-table\">\n",
       "            <details>\n",
       "                <summary>Parameters</summary>\n",
       "                <table class=\"parameters-table\">\n",
       "                  <tbody>\n",
       "                    \n",
       "        <tr class=\"user-set\">\n",
       "            <td><i class=\"copy-paste-icon\"\n",
       "                 onclick=\"copyToClipboard('steps',\n",
       "                          this.parentElement.nextElementSibling)\"\n",
       "            ></i></td>\n",
       "            <td class=\"param\">steps&nbsp;</td>\n",
       "            <td class=\"value\">[(&#x27;classifier&#x27;, ...)]</td>\n",
       "        </tr>\n",
       "    \n",
       "\n",
       "        <tr class=\"default\">\n",
       "            <td><i class=\"copy-paste-icon\"\n",
       "                 onclick=\"copyToClipboard('transform_input',\n",
       "                          this.parentElement.nextElementSibling)\"\n",
       "            ></i></td>\n",
       "            <td class=\"param\">transform_input&nbsp;</td>\n",
       "            <td class=\"value\">None</td>\n",
       "        </tr>\n",
       "    \n",
       "\n",
       "        <tr class=\"default\">\n",
       "            <td><i class=\"copy-paste-icon\"\n",
       "                 onclick=\"copyToClipboard('memory',\n",
       "                          this.parentElement.nextElementSibling)\"\n",
       "            ></i></td>\n",
       "            <td class=\"param\">memory&nbsp;</td>\n",
       "            <td class=\"value\">None</td>\n",
       "        </tr>\n",
       "    \n",
       "\n",
       "        <tr class=\"default\">\n",
       "            <td><i class=\"copy-paste-icon\"\n",
       "                 onclick=\"copyToClipboard('verbose',\n",
       "                          this.parentElement.nextElementSibling)\"\n",
       "            ></i></td>\n",
       "            <td class=\"param\">verbose&nbsp;</td>\n",
       "            <td class=\"value\">False</td>\n",
       "        </tr>\n",
       "    \n",
       "                  </tbody>\n",
       "                </table>\n",
       "            </details>\n",
       "        </div>\n",
       "    </div></div></div><div class=\"sk-serial\"><div class=\"sk-item\"><div class=\"sk-estimator fitted sk-toggleable\"><input class=\"sk-toggleable__control sk-hidden--visually\" id=\"sk-estimator-id-2\" type=\"checkbox\" ><label for=\"sk-estimator-id-2\" class=\"sk-toggleable__label fitted sk-toggleable__label-arrow\"><div><div>LogisticRegression</div></div><div><a class=\"sk-estimator-doc-link fitted\" rel=\"noreferrer\" target=\"_blank\" href=\"https://scikit-learn.org/1.7/modules/generated/sklearn.linear_model.LogisticRegression.html\">?<span>Documentation for LogisticRegression</span></a></div></label><div class=\"sk-toggleable__content fitted\" data-param-prefix=\"classifier__\">\n",
       "        <div class=\"estimator-table\">\n",
       "            <details>\n",
       "                <summary>Parameters</summary>\n",
       "                <table class=\"parameters-table\">\n",
       "                  <tbody>\n",
       "                    \n",
       "        <tr class=\"default\">\n",
       "            <td><i class=\"copy-paste-icon\"\n",
       "                 onclick=\"copyToClipboard('penalty',\n",
       "                          this.parentElement.nextElementSibling)\"\n",
       "            ></i></td>\n",
       "            <td class=\"param\">penalty&nbsp;</td>\n",
       "            <td class=\"value\">&#x27;l2&#x27;</td>\n",
       "        </tr>\n",
       "    \n",
       "\n",
       "        <tr class=\"default\">\n",
       "            <td><i class=\"copy-paste-icon\"\n",
       "                 onclick=\"copyToClipboard('dual',\n",
       "                          this.parentElement.nextElementSibling)\"\n",
       "            ></i></td>\n",
       "            <td class=\"param\">dual&nbsp;</td>\n",
       "            <td class=\"value\">False</td>\n",
       "        </tr>\n",
       "    \n",
       "\n",
       "        <tr class=\"default\">\n",
       "            <td><i class=\"copy-paste-icon\"\n",
       "                 onclick=\"copyToClipboard('tol',\n",
       "                          this.parentElement.nextElementSibling)\"\n",
       "            ></i></td>\n",
       "            <td class=\"param\">tol&nbsp;</td>\n",
       "            <td class=\"value\">0.0001</td>\n",
       "        </tr>\n",
       "    \n",
       "\n",
       "        <tr class=\"default\">\n",
       "            <td><i class=\"copy-paste-icon\"\n",
       "                 onclick=\"copyToClipboard('C',\n",
       "                          this.parentElement.nextElementSibling)\"\n",
       "            ></i></td>\n",
       "            <td class=\"param\">C&nbsp;</td>\n",
       "            <td class=\"value\">1.0</td>\n",
       "        </tr>\n",
       "    \n",
       "\n",
       "        <tr class=\"default\">\n",
       "            <td><i class=\"copy-paste-icon\"\n",
       "                 onclick=\"copyToClipboard('fit_intercept',\n",
       "                          this.parentElement.nextElementSibling)\"\n",
       "            ></i></td>\n",
       "            <td class=\"param\">fit_intercept&nbsp;</td>\n",
       "            <td class=\"value\">True</td>\n",
       "        </tr>\n",
       "    \n",
       "\n",
       "        <tr class=\"default\">\n",
       "            <td><i class=\"copy-paste-icon\"\n",
       "                 onclick=\"copyToClipboard('intercept_scaling',\n",
       "                          this.parentElement.nextElementSibling)\"\n",
       "            ></i></td>\n",
       "            <td class=\"param\">intercept_scaling&nbsp;</td>\n",
       "            <td class=\"value\">1</td>\n",
       "        </tr>\n",
       "    \n",
       "\n",
       "        <tr class=\"default\">\n",
       "            <td><i class=\"copy-paste-icon\"\n",
       "                 onclick=\"copyToClipboard('class_weight',\n",
       "                          this.parentElement.nextElementSibling)\"\n",
       "            ></i></td>\n",
       "            <td class=\"param\">class_weight&nbsp;</td>\n",
       "            <td class=\"value\">None</td>\n",
       "        </tr>\n",
       "    \n",
       "\n",
       "        <tr class=\"user-set\">\n",
       "            <td><i class=\"copy-paste-icon\"\n",
       "                 onclick=\"copyToClipboard('random_state',\n",
       "                          this.parentElement.nextElementSibling)\"\n",
       "            ></i></td>\n",
       "            <td class=\"param\">random_state&nbsp;</td>\n",
       "            <td class=\"value\">42</td>\n",
       "        </tr>\n",
       "    \n",
       "\n",
       "        <tr class=\"default\">\n",
       "            <td><i class=\"copy-paste-icon\"\n",
       "                 onclick=\"copyToClipboard('solver',\n",
       "                          this.parentElement.nextElementSibling)\"\n",
       "            ></i></td>\n",
       "            <td class=\"param\">solver&nbsp;</td>\n",
       "            <td class=\"value\">&#x27;lbfgs&#x27;</td>\n",
       "        </tr>\n",
       "    \n",
       "\n",
       "        <tr class=\"user-set\">\n",
       "            <td><i class=\"copy-paste-icon\"\n",
       "                 onclick=\"copyToClipboard('max_iter',\n",
       "                          this.parentElement.nextElementSibling)\"\n",
       "            ></i></td>\n",
       "            <td class=\"param\">max_iter&nbsp;</td>\n",
       "            <td class=\"value\">1000</td>\n",
       "        </tr>\n",
       "    \n",
       "\n",
       "        <tr class=\"default\">\n",
       "            <td><i class=\"copy-paste-icon\"\n",
       "                 onclick=\"copyToClipboard('multi_class',\n",
       "                          this.parentElement.nextElementSibling)\"\n",
       "            ></i></td>\n",
       "            <td class=\"param\">multi_class&nbsp;</td>\n",
       "            <td class=\"value\">&#x27;deprecated&#x27;</td>\n",
       "        </tr>\n",
       "    \n",
       "\n",
       "        <tr class=\"default\">\n",
       "            <td><i class=\"copy-paste-icon\"\n",
       "                 onclick=\"copyToClipboard('verbose',\n",
       "                          this.parentElement.nextElementSibling)\"\n",
       "            ></i></td>\n",
       "            <td class=\"param\">verbose&nbsp;</td>\n",
       "            <td class=\"value\">0</td>\n",
       "        </tr>\n",
       "    \n",
       "\n",
       "        <tr class=\"default\">\n",
       "            <td><i class=\"copy-paste-icon\"\n",
       "                 onclick=\"copyToClipboard('warm_start',\n",
       "                          this.parentElement.nextElementSibling)\"\n",
       "            ></i></td>\n",
       "            <td class=\"param\">warm_start&nbsp;</td>\n",
       "            <td class=\"value\">False</td>\n",
       "        </tr>\n",
       "    \n",
       "\n",
       "        <tr class=\"default\">\n",
       "            <td><i class=\"copy-paste-icon\"\n",
       "                 onclick=\"copyToClipboard('n_jobs',\n",
       "                          this.parentElement.nextElementSibling)\"\n",
       "            ></i></td>\n",
       "            <td class=\"param\">n_jobs&nbsp;</td>\n",
       "            <td class=\"value\">None</td>\n",
       "        </tr>\n",
       "    \n",
       "\n",
       "        <tr class=\"default\">\n",
       "            <td><i class=\"copy-paste-icon\"\n",
       "                 onclick=\"copyToClipboard('l1_ratio',\n",
       "                          this.parentElement.nextElementSibling)\"\n",
       "            ></i></td>\n",
       "            <td class=\"param\">l1_ratio&nbsp;</td>\n",
       "            <td class=\"value\">None</td>\n",
       "        </tr>\n",
       "    \n",
       "                  </tbody>\n",
       "                </table>\n",
       "            </details>\n",
       "        </div>\n",
       "    </div></div></div></div></div></div></div><script>function copyToClipboard(text, element) {\n",
       "    // Get the parameter prefix from the closest toggleable content\n",
       "    const toggleableContent = element.closest('.sk-toggleable__content');\n",
       "    const paramPrefix = toggleableContent ? toggleableContent.dataset.paramPrefix : '';\n",
       "    const fullParamName = paramPrefix ? `${paramPrefix}${text}` : text;\n",
       "\n",
       "    const originalStyle = element.style;\n",
       "    const computedStyle = window.getComputedStyle(element);\n",
       "    const originalWidth = computedStyle.width;\n",
       "    const originalHTML = element.innerHTML.replace('Copied!', '');\n",
       "\n",
       "    navigator.clipboard.writeText(fullParamName)\n",
       "        .then(() => {\n",
       "            element.style.width = originalWidth;\n",
       "            element.style.color = 'green';\n",
       "            element.innerHTML = \"Copied!\";\n",
       "\n",
       "            setTimeout(() => {\n",
       "                element.innerHTML = originalHTML;\n",
       "                element.style = originalStyle;\n",
       "            }, 2000);\n",
       "        })\n",
       "        .catch(err => {\n",
       "            console.error('Failed to copy:', err);\n",
       "            element.style.color = 'red';\n",
       "            element.innerHTML = \"Failed!\";\n",
       "            setTimeout(() => {\n",
       "                element.innerHTML = originalHTML;\n",
       "                element.style = originalStyle;\n",
       "            }, 2000);\n",
       "        });\n",
       "    return false;\n",
       "}\n",
       "\n",
       "document.querySelectorAll('.fa-regular.fa-copy').forEach(function(element) {\n",
       "    const toggleableContent = element.closest('.sk-toggleable__content');\n",
       "    const paramPrefix = toggleableContent ? toggleableContent.dataset.paramPrefix : '';\n",
       "    const paramName = element.parentElement.nextElementSibling.textContent.trim();\n",
       "    const fullParamName = paramPrefix ? `${paramPrefix}${paramName}` : paramName;\n",
       "\n",
       "    element.setAttribute('title', fullParamName);\n",
       "});\n",
       "</script></body>"
      ],
      "text/plain": [
       "Pipeline(steps=[('classifier',\n",
       "                 LogisticRegression(max_iter=1000, random_state=42))])"
      ]
     },
     "execution_count": 30,
     "metadata": {},
     "output_type": "execute_result"
    }
   ],
   "source": [
    "# Fit the pipeline \n",
    "model_pipeline.fit(X_train_vect, y_train)"
   ]
  },
  {
   "cell_type": "code",
   "execution_count": 40,
   "id": "3dcdc372",
   "metadata": {},
   "outputs": [],
   "source": [
    "# Make predictions\n",
    "y_pred = model_pipeline.predict(X_test_vect)\n",
    "y_pred_proba = model_pipeline.predict_proba(X_test_vect)[:, 1]"
   ]
  },
  {
   "cell_type": "code",
   "execution_count": 42,
   "id": "19fd9997",
   "metadata": {},
   "outputs": [
    {
     "name": "stdout",
     "output_type": "stream",
     "text": [
      "Accuracy: 0.6010873258579681\n",
      "Precision: 0.6199477054971955\n",
      "Recall: 0.6010873258579681\n",
      "F1 Score: 0.583542767746734\n",
      "Confusion Matrix:\n",
      " [[304   1 118  36  20  43]\n",
      " [ 25  16  78  26   1   2]\n",
      " [ 54   0 765 104   7  17]\n",
      " [ 49   2 229 383   3   9]\n",
      " [ 72   1  64  18  98  44]\n",
      " [ 43   0  64  35   9 203]]\n"
     ]
    }
   ],
   "source": [
    "print(\"Accuracy:\", accuracy_score(y_test, y_pred))\n",
    "print(\"Precision:\", precision_score(y_test, y_pred, average='weighted'))\n",
    "print(\"Recall:\", recall_score(y_test, y_pred, average='weighted'))\n",
    "print(\"F1 Score:\", f1_score(y_test, y_pred, average='weighted'))\n",
    "print(\"Confusion Matrix:\\n\", confusion_matrix(y_test, y_pred))"
   ]
  },
  {
   "cell_type": "markdown",
   "id": "7c613aa0",
   "metadata": {},
   "source": [
    "# Training con MLFlow"
   ]
  },
  {
   "cell_type": "code",
   "execution_count": 43,
   "id": "dfef21ca",
   "metadata": {},
   "outputs": [],
   "source": [
    "import mlflow\n",
    "\n",
    "mlflow.set_tracking_uri(\"http://127.0.0.1:5000\")"
   ]
  },
  {
   "cell_type": "code",
   "execution_count": 44,
   "id": "a44b405c",
   "metadata": {},
   "outputs": [
    {
     "name": "stdout",
     "output_type": "stream",
     "text": [
      "tracking URI: 'http://127.0.0.1:5000'\n"
     ]
    }
   ],
   "source": [
    "print(f\"tracking URI: '{mlflow.get_tracking_uri()}'\")"
   ]
  },
  {
   "cell_type": "code",
   "execution_count": 45,
   "id": "bf42cd60",
   "metadata": {},
   "outputs": [
    {
     "data": {
      "text/plain": [
       "[<Experiment: artifact_location='mlflow-artifacts:/0', creation_time=1758418427717, experiment_id='0', last_update_time=1758418427717, lifecycle_stage='active', name='Default', tags={}>]"
      ]
     },
     "execution_count": 45,
     "metadata": {},
     "output_type": "execute_result"
    }
   ],
   "source": [
    "mlflow.search_experiments()"
   ]
  },
  {
   "cell_type": "markdown",
   "id": "32d89a34",
   "metadata": {},
   "source": [
    "## Prueba con autologgin"
   ]
  },
  {
   "cell_type": "code",
   "execution_count": 46,
   "id": "d6cbf327",
   "metadata": {},
   "outputs": [
    {
     "name": "stderr",
     "output_type": "stream",
     "text": [
      "2025/09/20 20:41:05 INFO mlflow.tracking.fluent: Experiment with name 'nlp_logistic_regression_v1' does not exist. Creating a new experiment.\n",
      "2025/09/20 20:41:07 INFO mlflow.tracking.fluent: Autologging successfully enabled for sklearn.\n",
      "2025/09/20 20:41:08 WARNING mlflow.sklearn: Failed to log training dataset information to MLflow Tracking. Reason: 'Series' object has no attribute 'flatten'\n",
      "2025/09/20 20:41:21 WARNING mlflow.utils.environment: Failed to resolve installed pip version. ``pip`` will be added to conda.yaml environment spec without a version specifier.\n"
     ]
    },
    {
     "name": "stdout",
     "output_type": "stream",
     "text": [
      "🏃 View run monumental-doe-781 at: http://127.0.0.1:5000/#/experiments/1/runs/ead316c92ce44272a3edb391e2805540\n",
      "🧪 View experiment at: http://127.0.0.1:5000/#/experiments/1\n"
     ]
    }
   ],
   "source": [
    "experiment_name = \"nlp_logistic_regression_v1\"\n",
    "mlflow.set_experiment(experiment_name)\n",
    "mlflow.autolog()\n",
    "\n",
    "with mlflow.start_run():\n",
    "    model_pipeline.fit(X_train_vect, y_train)\n",
    "    y_pred = model_pipeline.predict(X_test_vect)\n",
    "    mlflow.log_param(\"model_type\", \"Logistic Regression\")\n",
    "    mlflow.log_metric(\"accuracy\", accuracy_score(y_test, y_pred))\n",
    "    mlflow.log_metric(\"precision\", precision_score(y_test, y_pred, average='weighted'))\n",
    "    mlflow.log_metric(\"recall\", recall_score(y_test, y_pred, average='weighted'))\n",
    "    mlflow.log_metric(\"f1_score\", f1_score(y_test, y_pred, average='weighted'))\n"
   ]
  },
  {
   "cell_type": "code",
   "execution_count": 4,
   "id": "bbc8f6ac",
   "metadata": {},
   "outputs": [],
   "source": [
    "# train.py\n",
    "\n",
    "class Train:\n",
    "    def __init__(self, df, target_column, model, test_size=0.3, training_columns=[\"concatenada\", \"sexo_codificado\"]):\n",
    "        self.df = df\n",
    "        self.target_column = target_column\n",
    "        self.test_size = test_size\n",
    "        self.model = model\n",
    "        self.training_columns = training_columns\n",
    "\n",
    "    def train_test_split(self):\n",
    "        X_train, X_test, y_train, y_test = train_test_split(self.df[self.training_columns], self.df[self.target_column], test_size=self.test_size, random_state=42)\n",
    "        return X_train, X_test, y_train, y_test\n",
    "    \n",
    "    def vectorizer(self, X_train, X_test, vectorizer_model=TfidfVectorizer(), columns_to_vectorize=\"concatenada\"):\n",
    "        self.vectorizer_model = vectorizer_model\n",
    "        self.X_train = X_train\n",
    "        self.X_test = X_test\n",
    "        X_train_vect = self.vectorizer_model.fit_transform(X_train[columns_to_vectorize])\n",
    "        X_test_vect = self.vectorizer_model.transform(X_test[columns_to_vectorize])\n",
    "        return X_train_vect, X_test_vect\n",
    "\n",
    "    def create_pipeline_train(self):\n",
    "        pipeline = Pipeline(steps=[(\"classifier\", self.model)])\n",
    "        return pipeline\n",
    "\n",
    "    def train(self):\n",
    "        X_train, X_test, y_train, y_test = self.train_test_split()\n",
    "        X_train_vect, X_test_vect = self.vectorizer(X_train=X_train, X_test=X_test)\n",
    "        pipeline = self.create_pipeline_train()\n",
    "        pipeline.fit(X_train_vect, y_train)\n",
    "        return X_test_vect, pipeline"
   ]
  },
  {
   "cell_type": "markdown",
   "id": "7aa07636",
   "metadata": {},
   "source": [
    "# Modelado sin mlflow"
   ]
  },
  {
   "cell_type": "code",
   "execution_count": 66,
   "id": "844a9310",
   "metadata": {},
   "outputs": [],
   "source": [
    "# Leer dataset historia_clinicas_procesadas.xlsx\n",
    "df_final = pd.read_excel(\"historias_clinicas_procesadas.xlsx\")"
   ]
  },
  {
   "cell_type": "code",
   "execution_count": 67,
   "id": "6081ac3b",
   "metadata": {},
   "outputs": [],
   "source": [
    "# sys.path.append(os.path.abspath('..'))  # Ajusta la ruta según la ubicación de 'src'\n",
    "# from src.training.train import Train\n",
    "from sklearn.ensemble import RandomForestClassifier"
   ]
  },
  {
   "cell_type": "code",
   "execution_count": 73,
   "id": "dea92422",
   "metadata": {},
   "outputs": [],
   "source": [
    "target_column = \"grupo_codificado\"\n",
    "training_columns = [\"concatenada\", \"sexo_codificado\"]\n",
    "test_size = 0.3\n",
    "model = RandomForestClassifier(random_state=42)\n"
   ]
  },
  {
   "cell_type": "code",
   "execution_count": 74,
   "id": "a6b47431",
   "metadata": {},
   "outputs": [],
   "source": [
    "train = Train(df_final, target_column, model, test_size, training_columns=training_columns)\n",
    "X_test_vect, pipeline = train.train()"
   ]
  },
  {
   "cell_type": "code",
   "execution_count": 75,
   "id": "474156db",
   "metadata": {},
   "outputs": [
    {
     "data": {
      "text/html": [
       "<style>#sk-container-id-5 {\n",
       "  /* Definition of color scheme common for light and dark mode */\n",
       "  --sklearn-color-text: #000;\n",
       "  --sklearn-color-text-muted: #666;\n",
       "  --sklearn-color-line: gray;\n",
       "  /* Definition of color scheme for unfitted estimators */\n",
       "  --sklearn-color-unfitted-level-0: #fff5e6;\n",
       "  --sklearn-color-unfitted-level-1: #f6e4d2;\n",
       "  --sklearn-color-unfitted-level-2: #ffe0b3;\n",
       "  --sklearn-color-unfitted-level-3: chocolate;\n",
       "  /* Definition of color scheme for fitted estimators */\n",
       "  --sklearn-color-fitted-level-0: #f0f8ff;\n",
       "  --sklearn-color-fitted-level-1: #d4ebff;\n",
       "  --sklearn-color-fitted-level-2: #b3dbfd;\n",
       "  --sklearn-color-fitted-level-3: cornflowerblue;\n",
       "\n",
       "  /* Specific color for light theme */\n",
       "  --sklearn-color-text-on-default-background: var(--sg-text-color, var(--theme-code-foreground, var(--jp-content-font-color1, black)));\n",
       "  --sklearn-color-background: var(--sg-background-color, var(--theme-background, var(--jp-layout-color0, white)));\n",
       "  --sklearn-color-border-box: var(--sg-text-color, var(--theme-code-foreground, var(--jp-content-font-color1, black)));\n",
       "  --sklearn-color-icon: #696969;\n",
       "\n",
       "  @media (prefers-color-scheme: dark) {\n",
       "    /* Redefinition of color scheme for dark theme */\n",
       "    --sklearn-color-text-on-default-background: var(--sg-text-color, var(--theme-code-foreground, var(--jp-content-font-color1, white)));\n",
       "    --sklearn-color-background: var(--sg-background-color, var(--theme-background, var(--jp-layout-color0, #111)));\n",
       "    --sklearn-color-border-box: var(--sg-text-color, var(--theme-code-foreground, var(--jp-content-font-color1, white)));\n",
       "    --sklearn-color-icon: #878787;\n",
       "  }\n",
       "}\n",
       "\n",
       "#sk-container-id-5 {\n",
       "  color: var(--sklearn-color-text);\n",
       "}\n",
       "\n",
       "#sk-container-id-5 pre {\n",
       "  padding: 0;\n",
       "}\n",
       "\n",
       "#sk-container-id-5 input.sk-hidden--visually {\n",
       "  border: 0;\n",
       "  clip: rect(1px 1px 1px 1px);\n",
       "  clip: rect(1px, 1px, 1px, 1px);\n",
       "  height: 1px;\n",
       "  margin: -1px;\n",
       "  overflow: hidden;\n",
       "  padding: 0;\n",
       "  position: absolute;\n",
       "  width: 1px;\n",
       "}\n",
       "\n",
       "#sk-container-id-5 div.sk-dashed-wrapped {\n",
       "  border: 1px dashed var(--sklearn-color-line);\n",
       "  margin: 0 0.4em 0.5em 0.4em;\n",
       "  box-sizing: border-box;\n",
       "  padding-bottom: 0.4em;\n",
       "  background-color: var(--sklearn-color-background);\n",
       "}\n",
       "\n",
       "#sk-container-id-5 div.sk-container {\n",
       "  /* jupyter's `normalize.less` sets `[hidden] { display: none; }`\n",
       "     but bootstrap.min.css set `[hidden] { display: none !important; }`\n",
       "     so we also need the `!important` here to be able to override the\n",
       "     default hidden behavior on the sphinx rendered scikit-learn.org.\n",
       "     See: https://github.com/scikit-learn/scikit-learn/issues/21755 */\n",
       "  display: inline-block !important;\n",
       "  position: relative;\n",
       "}\n",
       "\n",
       "#sk-container-id-5 div.sk-text-repr-fallback {\n",
       "  display: none;\n",
       "}\n",
       "\n",
       "div.sk-parallel-item,\n",
       "div.sk-serial,\n",
       "div.sk-item {\n",
       "  /* draw centered vertical line to link estimators */\n",
       "  background-image: linear-gradient(var(--sklearn-color-text-on-default-background), var(--sklearn-color-text-on-default-background));\n",
       "  background-size: 2px 100%;\n",
       "  background-repeat: no-repeat;\n",
       "  background-position: center center;\n",
       "}\n",
       "\n",
       "/* Parallel-specific style estimator block */\n",
       "\n",
       "#sk-container-id-5 div.sk-parallel-item::after {\n",
       "  content: \"\";\n",
       "  width: 100%;\n",
       "  border-bottom: 2px solid var(--sklearn-color-text-on-default-background);\n",
       "  flex-grow: 1;\n",
       "}\n",
       "\n",
       "#sk-container-id-5 div.sk-parallel {\n",
       "  display: flex;\n",
       "  align-items: stretch;\n",
       "  justify-content: center;\n",
       "  background-color: var(--sklearn-color-background);\n",
       "  position: relative;\n",
       "}\n",
       "\n",
       "#sk-container-id-5 div.sk-parallel-item {\n",
       "  display: flex;\n",
       "  flex-direction: column;\n",
       "}\n",
       "\n",
       "#sk-container-id-5 div.sk-parallel-item:first-child::after {\n",
       "  align-self: flex-end;\n",
       "  width: 50%;\n",
       "}\n",
       "\n",
       "#sk-container-id-5 div.sk-parallel-item:last-child::after {\n",
       "  align-self: flex-start;\n",
       "  width: 50%;\n",
       "}\n",
       "\n",
       "#sk-container-id-5 div.sk-parallel-item:only-child::after {\n",
       "  width: 0;\n",
       "}\n",
       "\n",
       "/* Serial-specific style estimator block */\n",
       "\n",
       "#sk-container-id-5 div.sk-serial {\n",
       "  display: flex;\n",
       "  flex-direction: column;\n",
       "  align-items: center;\n",
       "  background-color: var(--sklearn-color-background);\n",
       "  padding-right: 1em;\n",
       "  padding-left: 1em;\n",
       "}\n",
       "\n",
       "\n",
       "/* Toggleable style: style used for estimator/Pipeline/ColumnTransformer box that is\n",
       "clickable and can be expanded/collapsed.\n",
       "- Pipeline and ColumnTransformer use this feature and define the default style\n",
       "- Estimators will overwrite some part of the style using the `sk-estimator` class\n",
       "*/\n",
       "\n",
       "/* Pipeline and ColumnTransformer style (default) */\n",
       "\n",
       "#sk-container-id-5 div.sk-toggleable {\n",
       "  /* Default theme specific background. It is overwritten whether we have a\n",
       "  specific estimator or a Pipeline/ColumnTransformer */\n",
       "  background-color: var(--sklearn-color-background);\n",
       "}\n",
       "\n",
       "/* Toggleable label */\n",
       "#sk-container-id-5 label.sk-toggleable__label {\n",
       "  cursor: pointer;\n",
       "  display: flex;\n",
       "  width: 100%;\n",
       "  margin-bottom: 0;\n",
       "  padding: 0.5em;\n",
       "  box-sizing: border-box;\n",
       "  text-align: center;\n",
       "  align-items: start;\n",
       "  justify-content: space-between;\n",
       "  gap: 0.5em;\n",
       "}\n",
       "\n",
       "#sk-container-id-5 label.sk-toggleable__label .caption {\n",
       "  font-size: 0.6rem;\n",
       "  font-weight: lighter;\n",
       "  color: var(--sklearn-color-text-muted);\n",
       "}\n",
       "\n",
       "#sk-container-id-5 label.sk-toggleable__label-arrow:before {\n",
       "  /* Arrow on the left of the label */\n",
       "  content: \"▸\";\n",
       "  float: left;\n",
       "  margin-right: 0.25em;\n",
       "  color: var(--sklearn-color-icon);\n",
       "}\n",
       "\n",
       "#sk-container-id-5 label.sk-toggleable__label-arrow:hover:before {\n",
       "  color: var(--sklearn-color-text);\n",
       "}\n",
       "\n",
       "/* Toggleable content - dropdown */\n",
       "\n",
       "#sk-container-id-5 div.sk-toggleable__content {\n",
       "  display: none;\n",
       "  text-align: left;\n",
       "  /* unfitted */\n",
       "  background-color: var(--sklearn-color-unfitted-level-0);\n",
       "}\n",
       "\n",
       "#sk-container-id-5 div.sk-toggleable__content.fitted {\n",
       "  /* fitted */\n",
       "  background-color: var(--sklearn-color-fitted-level-0);\n",
       "}\n",
       "\n",
       "#sk-container-id-5 div.sk-toggleable__content pre {\n",
       "  margin: 0.2em;\n",
       "  border-radius: 0.25em;\n",
       "  color: var(--sklearn-color-text);\n",
       "  /* unfitted */\n",
       "  background-color: var(--sklearn-color-unfitted-level-0);\n",
       "}\n",
       "\n",
       "#sk-container-id-5 div.sk-toggleable__content.fitted pre {\n",
       "  /* unfitted */\n",
       "  background-color: var(--sklearn-color-fitted-level-0);\n",
       "}\n",
       "\n",
       "#sk-container-id-5 input.sk-toggleable__control:checked~div.sk-toggleable__content {\n",
       "  /* Expand drop-down */\n",
       "  display: block;\n",
       "  width: 100%;\n",
       "  overflow: visible;\n",
       "}\n",
       "\n",
       "#sk-container-id-5 input.sk-toggleable__control:checked~label.sk-toggleable__label-arrow:before {\n",
       "  content: \"▾\";\n",
       "}\n",
       "\n",
       "/* Pipeline/ColumnTransformer-specific style */\n",
       "\n",
       "#sk-container-id-5 div.sk-label input.sk-toggleable__control:checked~label.sk-toggleable__label {\n",
       "  color: var(--sklearn-color-text);\n",
       "  background-color: var(--sklearn-color-unfitted-level-2);\n",
       "}\n",
       "\n",
       "#sk-container-id-5 div.sk-label.fitted input.sk-toggleable__control:checked~label.sk-toggleable__label {\n",
       "  background-color: var(--sklearn-color-fitted-level-2);\n",
       "}\n",
       "\n",
       "/* Estimator-specific style */\n",
       "\n",
       "/* Colorize estimator box */\n",
       "#sk-container-id-5 div.sk-estimator input.sk-toggleable__control:checked~label.sk-toggleable__label {\n",
       "  /* unfitted */\n",
       "  background-color: var(--sklearn-color-unfitted-level-2);\n",
       "}\n",
       "\n",
       "#sk-container-id-5 div.sk-estimator.fitted input.sk-toggleable__control:checked~label.sk-toggleable__label {\n",
       "  /* fitted */\n",
       "  background-color: var(--sklearn-color-fitted-level-2);\n",
       "}\n",
       "\n",
       "#sk-container-id-5 div.sk-label label.sk-toggleable__label,\n",
       "#sk-container-id-5 div.sk-label label {\n",
       "  /* The background is the default theme color */\n",
       "  color: var(--sklearn-color-text-on-default-background);\n",
       "}\n",
       "\n",
       "/* On hover, darken the color of the background */\n",
       "#sk-container-id-5 div.sk-label:hover label.sk-toggleable__label {\n",
       "  color: var(--sklearn-color-text);\n",
       "  background-color: var(--sklearn-color-unfitted-level-2);\n",
       "}\n",
       "\n",
       "/* Label box, darken color on hover, fitted */\n",
       "#sk-container-id-5 div.sk-label.fitted:hover label.sk-toggleable__label.fitted {\n",
       "  color: var(--sklearn-color-text);\n",
       "  background-color: var(--sklearn-color-fitted-level-2);\n",
       "}\n",
       "\n",
       "/* Estimator label */\n",
       "\n",
       "#sk-container-id-5 div.sk-label label {\n",
       "  font-family: monospace;\n",
       "  font-weight: bold;\n",
       "  display: inline-block;\n",
       "  line-height: 1.2em;\n",
       "}\n",
       "\n",
       "#sk-container-id-5 div.sk-label-container {\n",
       "  text-align: center;\n",
       "}\n",
       "\n",
       "/* Estimator-specific */\n",
       "#sk-container-id-5 div.sk-estimator {\n",
       "  font-family: monospace;\n",
       "  border: 1px dotted var(--sklearn-color-border-box);\n",
       "  border-radius: 0.25em;\n",
       "  box-sizing: border-box;\n",
       "  margin-bottom: 0.5em;\n",
       "  /* unfitted */\n",
       "  background-color: var(--sklearn-color-unfitted-level-0);\n",
       "}\n",
       "\n",
       "#sk-container-id-5 div.sk-estimator.fitted {\n",
       "  /* fitted */\n",
       "  background-color: var(--sklearn-color-fitted-level-0);\n",
       "}\n",
       "\n",
       "/* on hover */\n",
       "#sk-container-id-5 div.sk-estimator:hover {\n",
       "  /* unfitted */\n",
       "  background-color: var(--sklearn-color-unfitted-level-2);\n",
       "}\n",
       "\n",
       "#sk-container-id-5 div.sk-estimator.fitted:hover {\n",
       "  /* fitted */\n",
       "  background-color: var(--sklearn-color-fitted-level-2);\n",
       "}\n",
       "\n",
       "/* Specification for estimator info (e.g. \"i\" and \"?\") */\n",
       "\n",
       "/* Common style for \"i\" and \"?\" */\n",
       "\n",
       ".sk-estimator-doc-link,\n",
       "a:link.sk-estimator-doc-link,\n",
       "a:visited.sk-estimator-doc-link {\n",
       "  float: right;\n",
       "  font-size: smaller;\n",
       "  line-height: 1em;\n",
       "  font-family: monospace;\n",
       "  background-color: var(--sklearn-color-background);\n",
       "  border-radius: 1em;\n",
       "  height: 1em;\n",
       "  width: 1em;\n",
       "  text-decoration: none !important;\n",
       "  margin-left: 0.5em;\n",
       "  text-align: center;\n",
       "  /* unfitted */\n",
       "  border: var(--sklearn-color-unfitted-level-1) 1pt solid;\n",
       "  color: var(--sklearn-color-unfitted-level-1);\n",
       "}\n",
       "\n",
       ".sk-estimator-doc-link.fitted,\n",
       "a:link.sk-estimator-doc-link.fitted,\n",
       "a:visited.sk-estimator-doc-link.fitted {\n",
       "  /* fitted */\n",
       "  border: var(--sklearn-color-fitted-level-1) 1pt solid;\n",
       "  color: var(--sklearn-color-fitted-level-1);\n",
       "}\n",
       "\n",
       "/* On hover */\n",
       "div.sk-estimator:hover .sk-estimator-doc-link:hover,\n",
       ".sk-estimator-doc-link:hover,\n",
       "div.sk-label-container:hover .sk-estimator-doc-link:hover,\n",
       ".sk-estimator-doc-link:hover {\n",
       "  /* unfitted */\n",
       "  background-color: var(--sklearn-color-unfitted-level-3);\n",
       "  color: var(--sklearn-color-background);\n",
       "  text-decoration: none;\n",
       "}\n",
       "\n",
       "div.sk-estimator.fitted:hover .sk-estimator-doc-link.fitted:hover,\n",
       ".sk-estimator-doc-link.fitted:hover,\n",
       "div.sk-label-container:hover .sk-estimator-doc-link.fitted:hover,\n",
       ".sk-estimator-doc-link.fitted:hover {\n",
       "  /* fitted */\n",
       "  background-color: var(--sklearn-color-fitted-level-3);\n",
       "  color: var(--sklearn-color-background);\n",
       "  text-decoration: none;\n",
       "}\n",
       "\n",
       "/* Span, style for the box shown on hovering the info icon */\n",
       ".sk-estimator-doc-link span {\n",
       "  display: none;\n",
       "  z-index: 9999;\n",
       "  position: relative;\n",
       "  font-weight: normal;\n",
       "  right: .2ex;\n",
       "  padding: .5ex;\n",
       "  margin: .5ex;\n",
       "  width: min-content;\n",
       "  min-width: 20ex;\n",
       "  max-width: 50ex;\n",
       "  color: var(--sklearn-color-text);\n",
       "  box-shadow: 2pt 2pt 4pt #999;\n",
       "  /* unfitted */\n",
       "  background: var(--sklearn-color-unfitted-level-0);\n",
       "  border: .5pt solid var(--sklearn-color-unfitted-level-3);\n",
       "}\n",
       "\n",
       ".sk-estimator-doc-link.fitted span {\n",
       "  /* fitted */\n",
       "  background: var(--sklearn-color-fitted-level-0);\n",
       "  border: var(--sklearn-color-fitted-level-3);\n",
       "}\n",
       "\n",
       ".sk-estimator-doc-link:hover span {\n",
       "  display: block;\n",
       "}\n",
       "\n",
       "/* \"?\"-specific style due to the `<a>` HTML tag */\n",
       "\n",
       "#sk-container-id-5 a.estimator_doc_link {\n",
       "  float: right;\n",
       "  font-size: 1rem;\n",
       "  line-height: 1em;\n",
       "  font-family: monospace;\n",
       "  background-color: var(--sklearn-color-background);\n",
       "  border-radius: 1rem;\n",
       "  height: 1rem;\n",
       "  width: 1rem;\n",
       "  text-decoration: none;\n",
       "  /* unfitted */\n",
       "  color: var(--sklearn-color-unfitted-level-1);\n",
       "  border: var(--sklearn-color-unfitted-level-1) 1pt solid;\n",
       "}\n",
       "\n",
       "#sk-container-id-5 a.estimator_doc_link.fitted {\n",
       "  /* fitted */\n",
       "  border: var(--sklearn-color-fitted-level-1) 1pt solid;\n",
       "  color: var(--sklearn-color-fitted-level-1);\n",
       "}\n",
       "\n",
       "/* On hover */\n",
       "#sk-container-id-5 a.estimator_doc_link:hover {\n",
       "  /* unfitted */\n",
       "  background-color: var(--sklearn-color-unfitted-level-3);\n",
       "  color: var(--sklearn-color-background);\n",
       "  text-decoration: none;\n",
       "}\n",
       "\n",
       "#sk-container-id-5 a.estimator_doc_link.fitted:hover {\n",
       "  /* fitted */\n",
       "  background-color: var(--sklearn-color-fitted-level-3);\n",
       "}\n",
       "\n",
       ".estimator-table summary {\n",
       "    padding: .5rem;\n",
       "    font-family: monospace;\n",
       "    cursor: pointer;\n",
       "}\n",
       "\n",
       ".estimator-table details[open] {\n",
       "    padding-left: 0.1rem;\n",
       "    padding-right: 0.1rem;\n",
       "    padding-bottom: 0.3rem;\n",
       "}\n",
       "\n",
       ".estimator-table .parameters-table {\n",
       "    margin-left: auto !important;\n",
       "    margin-right: auto !important;\n",
       "}\n",
       "\n",
       ".estimator-table .parameters-table tr:nth-child(odd) {\n",
       "    background-color: #fff;\n",
       "}\n",
       "\n",
       ".estimator-table .parameters-table tr:nth-child(even) {\n",
       "    background-color: #f6f6f6;\n",
       "}\n",
       "\n",
       ".estimator-table .parameters-table tr:hover {\n",
       "    background-color: #e0e0e0;\n",
       "}\n",
       "\n",
       ".estimator-table table td {\n",
       "    border: 1px solid rgba(106, 105, 104, 0.232);\n",
       "}\n",
       "\n",
       ".user-set td {\n",
       "    color:rgb(255, 94, 0);\n",
       "    text-align: left;\n",
       "}\n",
       "\n",
       ".user-set td.value pre {\n",
       "    color:rgb(255, 94, 0) !important;\n",
       "    background-color: transparent !important;\n",
       "}\n",
       "\n",
       ".default td {\n",
       "    color: black;\n",
       "    text-align: left;\n",
       "}\n",
       "\n",
       ".user-set td i,\n",
       ".default td i {\n",
       "    color: black;\n",
       "}\n",
       "\n",
       ".copy-paste-icon {\n",
       "    background-image: url(data:image/svg+xml;base64,PHN2ZyB4bWxucz0iaHR0cDovL3d3dy53My5vcmcvMjAwMC9zdmciIHZpZXdCb3g9IjAgMCA0NDggNTEyIj48IS0tIUZvbnQgQXdlc29tZSBGcmVlIDYuNy4yIGJ5IEBmb250YXdlc29tZSAtIGh0dHBzOi8vZm9udGF3ZXNvbWUuY29tIExpY2Vuc2UgLSBodHRwczovL2ZvbnRhd2Vzb21lLmNvbS9saWNlbnNlL2ZyZWUgQ29weXJpZ2h0IDIwMjUgRm9udGljb25zLCBJbmMuLS0+PHBhdGggZD0iTTIwOCAwTDMzMi4xIDBjMTIuNyAwIDI0LjkgNS4xIDMzLjkgMTQuMWw2Ny45IDY3LjljOSA5IDE0LjEgMjEuMiAxNC4xIDMzLjlMNDQ4IDMzNmMwIDI2LjUtMjEuNSA0OC00OCA0OGwtMTkyIDBjLTI2LjUgMC00OC0yMS41LTQ4LTQ4bDAtMjg4YzAtMjYuNSAyMS41LTQ4IDQ4LTQ4ek00OCAxMjhsODAgMCAwIDY0LTY0IDAgMCAyNTYgMTkyIDAgMC0zMiA2NCAwIDAgNDhjMCAyNi41LTIxLjUgNDgtNDggNDhMNDggNTEyYy0yNi41IDAtNDgtMjEuNS00OC00OEwwIDE3NmMwLTI2LjUgMjEuNS00OCA0OC00OHoiLz48L3N2Zz4=);\n",
       "    background-repeat: no-repeat;\n",
       "    background-size: 14px 14px;\n",
       "    background-position: 0;\n",
       "    display: inline-block;\n",
       "    width: 14px;\n",
       "    height: 14px;\n",
       "    cursor: pointer;\n",
       "}\n",
       "</style><body><div id=\"sk-container-id-5\" class=\"sk-top-container\"><div class=\"sk-text-repr-fallback\"><pre>Pipeline(steps=[(&#x27;classifier&#x27;, RandomForestClassifier(random_state=42))])</pre><b>In a Jupyter environment, please rerun this cell to show the HTML representation or trust the notebook. <br />On GitHub, the HTML representation is unable to render, please try loading this page with nbviewer.org.</b></div><div class=\"sk-container\" hidden><div class=\"sk-item sk-dashed-wrapped\"><div class=\"sk-label-container\"><div class=\"sk-label fitted sk-toggleable\"><input class=\"sk-toggleable__control sk-hidden--visually\" id=\"sk-estimator-id-9\" type=\"checkbox\" ><label for=\"sk-estimator-id-9\" class=\"sk-toggleable__label fitted sk-toggleable__label-arrow\"><div><div>Pipeline</div></div><div><a class=\"sk-estimator-doc-link fitted\" rel=\"noreferrer\" target=\"_blank\" href=\"https://scikit-learn.org/1.7/modules/generated/sklearn.pipeline.Pipeline.html\">?<span>Documentation for Pipeline</span></a><span class=\"sk-estimator-doc-link fitted\">i<span>Fitted</span></span></div></label><div class=\"sk-toggleable__content fitted\" data-param-prefix=\"\">\n",
       "        <div class=\"estimator-table\">\n",
       "            <details>\n",
       "                <summary>Parameters</summary>\n",
       "                <table class=\"parameters-table\">\n",
       "                  <tbody>\n",
       "                    \n",
       "        <tr class=\"user-set\">\n",
       "            <td><i class=\"copy-paste-icon\"\n",
       "                 onclick=\"copyToClipboard('steps',\n",
       "                          this.parentElement.nextElementSibling)\"\n",
       "            ></i></td>\n",
       "            <td class=\"param\">steps&nbsp;</td>\n",
       "            <td class=\"value\">[(&#x27;classifier&#x27;, ...)]</td>\n",
       "        </tr>\n",
       "    \n",
       "\n",
       "        <tr class=\"default\">\n",
       "            <td><i class=\"copy-paste-icon\"\n",
       "                 onclick=\"copyToClipboard('transform_input',\n",
       "                          this.parentElement.nextElementSibling)\"\n",
       "            ></i></td>\n",
       "            <td class=\"param\">transform_input&nbsp;</td>\n",
       "            <td class=\"value\">None</td>\n",
       "        </tr>\n",
       "    \n",
       "\n",
       "        <tr class=\"default\">\n",
       "            <td><i class=\"copy-paste-icon\"\n",
       "                 onclick=\"copyToClipboard('memory',\n",
       "                          this.parentElement.nextElementSibling)\"\n",
       "            ></i></td>\n",
       "            <td class=\"param\">memory&nbsp;</td>\n",
       "            <td class=\"value\">None</td>\n",
       "        </tr>\n",
       "    \n",
       "\n",
       "        <tr class=\"default\">\n",
       "            <td><i class=\"copy-paste-icon\"\n",
       "                 onclick=\"copyToClipboard('verbose',\n",
       "                          this.parentElement.nextElementSibling)\"\n",
       "            ></i></td>\n",
       "            <td class=\"param\">verbose&nbsp;</td>\n",
       "            <td class=\"value\">False</td>\n",
       "        </tr>\n",
       "    \n",
       "                  </tbody>\n",
       "                </table>\n",
       "            </details>\n",
       "        </div>\n",
       "    </div></div></div><div class=\"sk-serial\"><div class=\"sk-item\"><div class=\"sk-estimator fitted sk-toggleable\"><input class=\"sk-toggleable__control sk-hidden--visually\" id=\"sk-estimator-id-10\" type=\"checkbox\" ><label for=\"sk-estimator-id-10\" class=\"sk-toggleable__label fitted sk-toggleable__label-arrow\"><div><div>RandomForestClassifier</div></div><div><a class=\"sk-estimator-doc-link fitted\" rel=\"noreferrer\" target=\"_blank\" href=\"https://scikit-learn.org/1.7/modules/generated/sklearn.ensemble.RandomForestClassifier.html\">?<span>Documentation for RandomForestClassifier</span></a></div></label><div class=\"sk-toggleable__content fitted\" data-param-prefix=\"classifier__\">\n",
       "        <div class=\"estimator-table\">\n",
       "            <details>\n",
       "                <summary>Parameters</summary>\n",
       "                <table class=\"parameters-table\">\n",
       "                  <tbody>\n",
       "                    \n",
       "        <tr class=\"default\">\n",
       "            <td><i class=\"copy-paste-icon\"\n",
       "                 onclick=\"copyToClipboard('n_estimators',\n",
       "                          this.parentElement.nextElementSibling)\"\n",
       "            ></i></td>\n",
       "            <td class=\"param\">n_estimators&nbsp;</td>\n",
       "            <td class=\"value\">100</td>\n",
       "        </tr>\n",
       "    \n",
       "\n",
       "        <tr class=\"default\">\n",
       "            <td><i class=\"copy-paste-icon\"\n",
       "                 onclick=\"copyToClipboard('criterion',\n",
       "                          this.parentElement.nextElementSibling)\"\n",
       "            ></i></td>\n",
       "            <td class=\"param\">criterion&nbsp;</td>\n",
       "            <td class=\"value\">&#x27;gini&#x27;</td>\n",
       "        </tr>\n",
       "    \n",
       "\n",
       "        <tr class=\"default\">\n",
       "            <td><i class=\"copy-paste-icon\"\n",
       "                 onclick=\"copyToClipboard('max_depth',\n",
       "                          this.parentElement.nextElementSibling)\"\n",
       "            ></i></td>\n",
       "            <td class=\"param\">max_depth&nbsp;</td>\n",
       "            <td class=\"value\">None</td>\n",
       "        </tr>\n",
       "    \n",
       "\n",
       "        <tr class=\"default\">\n",
       "            <td><i class=\"copy-paste-icon\"\n",
       "                 onclick=\"copyToClipboard('min_samples_split',\n",
       "                          this.parentElement.nextElementSibling)\"\n",
       "            ></i></td>\n",
       "            <td class=\"param\">min_samples_split&nbsp;</td>\n",
       "            <td class=\"value\">2</td>\n",
       "        </tr>\n",
       "    \n",
       "\n",
       "        <tr class=\"default\">\n",
       "            <td><i class=\"copy-paste-icon\"\n",
       "                 onclick=\"copyToClipboard('min_samples_leaf',\n",
       "                          this.parentElement.nextElementSibling)\"\n",
       "            ></i></td>\n",
       "            <td class=\"param\">min_samples_leaf&nbsp;</td>\n",
       "            <td class=\"value\">1</td>\n",
       "        </tr>\n",
       "    \n",
       "\n",
       "        <tr class=\"default\">\n",
       "            <td><i class=\"copy-paste-icon\"\n",
       "                 onclick=\"copyToClipboard('min_weight_fraction_leaf',\n",
       "                          this.parentElement.nextElementSibling)\"\n",
       "            ></i></td>\n",
       "            <td class=\"param\">min_weight_fraction_leaf&nbsp;</td>\n",
       "            <td class=\"value\">0.0</td>\n",
       "        </tr>\n",
       "    \n",
       "\n",
       "        <tr class=\"default\">\n",
       "            <td><i class=\"copy-paste-icon\"\n",
       "                 onclick=\"copyToClipboard('max_features',\n",
       "                          this.parentElement.nextElementSibling)\"\n",
       "            ></i></td>\n",
       "            <td class=\"param\">max_features&nbsp;</td>\n",
       "            <td class=\"value\">&#x27;sqrt&#x27;</td>\n",
       "        </tr>\n",
       "    \n",
       "\n",
       "        <tr class=\"default\">\n",
       "            <td><i class=\"copy-paste-icon\"\n",
       "                 onclick=\"copyToClipboard('max_leaf_nodes',\n",
       "                          this.parentElement.nextElementSibling)\"\n",
       "            ></i></td>\n",
       "            <td class=\"param\">max_leaf_nodes&nbsp;</td>\n",
       "            <td class=\"value\">None</td>\n",
       "        </tr>\n",
       "    \n",
       "\n",
       "        <tr class=\"default\">\n",
       "            <td><i class=\"copy-paste-icon\"\n",
       "                 onclick=\"copyToClipboard('min_impurity_decrease',\n",
       "                          this.parentElement.nextElementSibling)\"\n",
       "            ></i></td>\n",
       "            <td class=\"param\">min_impurity_decrease&nbsp;</td>\n",
       "            <td class=\"value\">0.0</td>\n",
       "        </tr>\n",
       "    \n",
       "\n",
       "        <tr class=\"default\">\n",
       "            <td><i class=\"copy-paste-icon\"\n",
       "                 onclick=\"copyToClipboard('bootstrap',\n",
       "                          this.parentElement.nextElementSibling)\"\n",
       "            ></i></td>\n",
       "            <td class=\"param\">bootstrap&nbsp;</td>\n",
       "            <td class=\"value\">True</td>\n",
       "        </tr>\n",
       "    \n",
       "\n",
       "        <tr class=\"default\">\n",
       "            <td><i class=\"copy-paste-icon\"\n",
       "                 onclick=\"copyToClipboard('oob_score',\n",
       "                          this.parentElement.nextElementSibling)\"\n",
       "            ></i></td>\n",
       "            <td class=\"param\">oob_score&nbsp;</td>\n",
       "            <td class=\"value\">False</td>\n",
       "        </tr>\n",
       "    \n",
       "\n",
       "        <tr class=\"default\">\n",
       "            <td><i class=\"copy-paste-icon\"\n",
       "                 onclick=\"copyToClipboard('n_jobs',\n",
       "                          this.parentElement.nextElementSibling)\"\n",
       "            ></i></td>\n",
       "            <td class=\"param\">n_jobs&nbsp;</td>\n",
       "            <td class=\"value\">None</td>\n",
       "        </tr>\n",
       "    \n",
       "\n",
       "        <tr class=\"user-set\">\n",
       "            <td><i class=\"copy-paste-icon\"\n",
       "                 onclick=\"copyToClipboard('random_state',\n",
       "                          this.parentElement.nextElementSibling)\"\n",
       "            ></i></td>\n",
       "            <td class=\"param\">random_state&nbsp;</td>\n",
       "            <td class=\"value\">42</td>\n",
       "        </tr>\n",
       "    \n",
       "\n",
       "        <tr class=\"default\">\n",
       "            <td><i class=\"copy-paste-icon\"\n",
       "                 onclick=\"copyToClipboard('verbose',\n",
       "                          this.parentElement.nextElementSibling)\"\n",
       "            ></i></td>\n",
       "            <td class=\"param\">verbose&nbsp;</td>\n",
       "            <td class=\"value\">0</td>\n",
       "        </tr>\n",
       "    \n",
       "\n",
       "        <tr class=\"default\">\n",
       "            <td><i class=\"copy-paste-icon\"\n",
       "                 onclick=\"copyToClipboard('warm_start',\n",
       "                          this.parentElement.nextElementSibling)\"\n",
       "            ></i></td>\n",
       "            <td class=\"param\">warm_start&nbsp;</td>\n",
       "            <td class=\"value\">False</td>\n",
       "        </tr>\n",
       "    \n",
       "\n",
       "        <tr class=\"default\">\n",
       "            <td><i class=\"copy-paste-icon\"\n",
       "                 onclick=\"copyToClipboard('class_weight',\n",
       "                          this.parentElement.nextElementSibling)\"\n",
       "            ></i></td>\n",
       "            <td class=\"param\">class_weight&nbsp;</td>\n",
       "            <td class=\"value\">None</td>\n",
       "        </tr>\n",
       "    \n",
       "\n",
       "        <tr class=\"default\">\n",
       "            <td><i class=\"copy-paste-icon\"\n",
       "                 onclick=\"copyToClipboard('ccp_alpha',\n",
       "                          this.parentElement.nextElementSibling)\"\n",
       "            ></i></td>\n",
       "            <td class=\"param\">ccp_alpha&nbsp;</td>\n",
       "            <td class=\"value\">0.0</td>\n",
       "        </tr>\n",
       "    \n",
       "\n",
       "        <tr class=\"default\">\n",
       "            <td><i class=\"copy-paste-icon\"\n",
       "                 onclick=\"copyToClipboard('max_samples',\n",
       "                          this.parentElement.nextElementSibling)\"\n",
       "            ></i></td>\n",
       "            <td class=\"param\">max_samples&nbsp;</td>\n",
       "            <td class=\"value\">None</td>\n",
       "        </tr>\n",
       "    \n",
       "\n",
       "        <tr class=\"default\">\n",
       "            <td><i class=\"copy-paste-icon\"\n",
       "                 onclick=\"copyToClipboard('monotonic_cst',\n",
       "                          this.parentElement.nextElementSibling)\"\n",
       "            ></i></td>\n",
       "            <td class=\"param\">monotonic_cst&nbsp;</td>\n",
       "            <td class=\"value\">None</td>\n",
       "        </tr>\n",
       "    \n",
       "                  </tbody>\n",
       "                </table>\n",
       "            </details>\n",
       "        </div>\n",
       "    </div></div></div></div></div></div></div><script>function copyToClipboard(text, element) {\n",
       "    // Get the parameter prefix from the closest toggleable content\n",
       "    const toggleableContent = element.closest('.sk-toggleable__content');\n",
       "    const paramPrefix = toggleableContent ? toggleableContent.dataset.paramPrefix : '';\n",
       "    const fullParamName = paramPrefix ? `${paramPrefix}${text}` : text;\n",
       "\n",
       "    const originalStyle = element.style;\n",
       "    const computedStyle = window.getComputedStyle(element);\n",
       "    const originalWidth = computedStyle.width;\n",
       "    const originalHTML = element.innerHTML.replace('Copied!', '');\n",
       "\n",
       "    navigator.clipboard.writeText(fullParamName)\n",
       "        .then(() => {\n",
       "            element.style.width = originalWidth;\n",
       "            element.style.color = 'green';\n",
       "            element.innerHTML = \"Copied!\";\n",
       "\n",
       "            setTimeout(() => {\n",
       "                element.innerHTML = originalHTML;\n",
       "                element.style = originalStyle;\n",
       "            }, 2000);\n",
       "        })\n",
       "        .catch(err => {\n",
       "            console.error('Failed to copy:', err);\n",
       "            element.style.color = 'red';\n",
       "            element.innerHTML = \"Failed!\";\n",
       "            setTimeout(() => {\n",
       "                element.innerHTML = originalHTML;\n",
       "                element.style = originalStyle;\n",
       "            }, 2000);\n",
       "        });\n",
       "    return false;\n",
       "}\n",
       "\n",
       "document.querySelectorAll('.fa-regular.fa-copy').forEach(function(element) {\n",
       "    const toggleableContent = element.closest('.sk-toggleable__content');\n",
       "    const paramPrefix = toggleableContent ? toggleableContent.dataset.paramPrefix : '';\n",
       "    const paramName = element.parentElement.nextElementSibling.textContent.trim();\n",
       "    const fullParamName = paramPrefix ? `${paramPrefix}${paramName}` : paramName;\n",
       "\n",
       "    element.setAttribute('title', fullParamName);\n",
       "});\n",
       "</script></body>"
      ],
      "text/plain": [
       "Pipeline(steps=[('classifier', RandomForestClassifier(random_state=42))])"
      ]
     },
     "execution_count": 75,
     "metadata": {},
     "output_type": "execute_result"
    }
   ],
   "source": [
    "pipeline"
   ]
  },
  {
   "cell_type": "code",
   "execution_count": 76,
   "id": "d3b4c16d",
   "metadata": {},
   "outputs": [
    {
     "data": {
      "text/plain": [
       "<Compressed Sparse Row sparse matrix of dtype 'float64'\n",
       "\twith 270950 stored elements and shape (2943, 25352)>"
      ]
     },
     "execution_count": 76,
     "metadata": {},
     "output_type": "execute_result"
    }
   ],
   "source": [
    "X_test_vect"
   ]
  },
  {
   "cell_type": "code",
   "execution_count": 77,
   "id": "bba321f3",
   "metadata": {},
   "outputs": [
    {
     "name": "stdout",
     "output_type": "stream",
     "text": [
      "Accuracy: 0.5915732246007476\n",
      "Precision: 0.6269865261947672\n",
      "Recall: 0.5915732246007476\n",
      "F1 Score: 0.5756189278950028\n",
      "Confusion Matrix:\n",
      " [[269   2 167  28  12  44]\n",
      " [ 18  28  85  14   2   1]\n",
      " [ 61   1 820  45   7  13]\n",
      " [ 52   3 271 339   6   4]\n",
      " [ 59   2  79  15 106  36]\n",
      " [ 49   0  91  26   9 179]]\n"
     ]
    }
   ],
   "source": [
    "y_pred = pipeline.predict(X_test_vect)\n",
    "\n",
    "print(\"Accuracy:\", accuracy_score(y_test, y_pred))\n",
    "print(\"Precision:\", precision_score(y_test, y_pred, average='weighted'))\n",
    "print(\"Recall:\", recall_score(y_test, y_pred, average='weighted'))\n",
    "print(\"F1 Score:\", f1_score(y_test, y_pred, average='weighted'))\n",
    "print(\"Confusion Matrix:\\n\", confusion_matrix(y_test, y_pred))"
   ]
  },
  {
   "cell_type": "markdown",
   "id": "c59e14d4",
   "metadata": {},
   "source": [
    "# Modelado con MLFlow"
   ]
  },
  {
   "cell_type": "code",
   "execution_count": 5,
   "id": "759470ca",
   "metadata": {},
   "outputs": [],
   "source": [
    "# train_with_mlflow.py\n",
    "\n",
    "from sklearn.model_selection import train_test_split\n",
    "from sklearn.pipeline import Pipeline\n",
    "from sklearn.preprocessing import LabelEncoder\n",
    "from sklearn.ensemble import RandomForestClassifier\n",
    "from sklearn.feature_extraction.text import TfidfVectorizer\n",
    "import mlflow\n",
    "import mlflow.sklearn\n",
    "from sklearn.metrics import (\n",
    "    accuracy_score, precision_score, recall_score, f1_score\n",
    ")\n",
    "import warnings\n",
    "warnings.filterwarnings('ignore')\n",
    "\n",
    "\n",
    "class TrainMlflow:\n",
    "    def __init__(\n",
    "        self, df, target_column, model, \n",
    "        test_size=0.3, training_columns=[\"concatenada\", \"sexo_codificado\"], model_params=None, mlflow_setup=None\n",
    "    ):\n",
    "        \"\"\"\n",
    "        Initialize the Train class with MLflow tracking capabilities.\n",
    "\n",
    "        Args:\n",
    "            df: Input dataframe\n",
    "            target_column: Name of target column\n",
    "            training_columns: List of feature column names to use for training\n",
    "            model: Model instance to train\n",
    "            model_params: Dictionary of model parameters (optional)\n",
    "            experiment_name: Name for MLflow experiment\n",
    "            test_size: Proportion of data to use for testing\n",
    "        \"\"\"\n",
    "        self.df = df\n",
    "        self.target_column = target_column\n",
    "        self.test_size = test_size\n",
    "        self.model = model\n",
    "        self.training_columns = training_columns\n",
    "        self.model_params = model_params if model_params is not None else {}\n",
    "   \n",
    "\n",
    "        # Set up MLflow tracking\n",
    "        self.setup = mlflow_setup\n",
    "        \n",
    "\n",
    "    def train_test_split(self):\n",
    "        X = self.df[self.training_columns]\n",
    "        y = self.df[self.target_column]\n",
    "        X_train, X_test, y_train, y_test = train_test_split(\n",
    "            X, y, test_size=self.test_size, random_state=42\n",
    "        )\n",
    "        return X_train, X_test, y_train, y_test\n",
    "\n",
    "    def vectorizer(self, X_train, X_test, vectorizer_model=TfidfVectorizer(), columns_to_vectorize=\"concatenada\"):\n",
    "        self.vectorizer_model = vectorizer_model\n",
    "        self.X_train = X_train\n",
    "        self.X_test = X_test\n",
    "        X_train_vect = self.vectorizer_model.fit_transform(X_train[columns_to_vectorize])\n",
    "        X_test_vect = self.vectorizer_model.transform(X_test[columns_to_vectorize])\n",
    "        return X_train_vect, X_test_vect\n",
    "\n",
    "\n",
    "    def create_pipeline_train(self):\n",
    "        pipeline = Pipeline(steps=[(\"classifier\", self.model)])\n",
    "        return pipeline\n",
    "\n",
    "    def train(self):\n",
    "        \"\"\"\n",
    "        Train the model with MLflow tracking enabled.\n",
    "\n",
    "        Returns:\n",
    "            pipeline: Trained sklearn pipeline\n",
    "            run_id: MLflow run ID for tracking\n",
    "        \"\"\"\n",
    "        with mlflow.start_run() as run:\n",
    "            # Log parameters\n",
    "            mlflow.log_param(\"test_size\", self.test_size)\n",
    "            mlflow.log_param(\"model_type\", type(self.model).__name__)\n",
    "            mlflow.log_param(\"target_column\", self.target_column)\n",
    "\n",
    "            # Log model parameters if provided\n",
    "            for param_name, param_value in self.model_params.items():\n",
    "                mlflow.log_param(f\"model_{param_name}\", param_value)\n",
    "\n",
    "            # Split data\n",
    "            X_train, X_test, y_train, y_test = self.train_test_split()\n",
    "\n",
    "            # Log dataset information\n",
    "            mlflow.log_param(\"n_train_samples\", len(X_train))\n",
    "            mlflow.log_param(\"n_test_samples\", len(X_test))\n",
    "\n",
    "            # Create and train pipeline\n",
    "            pipeline = self.create_pipeline_train()\n",
    "            X_train_vect, X_test_vect = self.vectorizer(X_train=X_train, X_test=X_test)\n",
    "\n",
    "            # Fit the pipeline (autolog will capture training metrics)\n",
    "            pipeline.fit(X_train_vect, y_train)\n",
    "\n",
    "            # Make predictions and log additional metrics\n",
    "            y_train_pred = pipeline.predict(X_train_vect)\n",
    "            y_test_pred = pipeline.predict(X_test_vect)\n",
    "\n",
    "            # Calculate and log metrics\n",
    "            train_metrics = self._calculate_metrics(\n",
    "                y_train, y_train_pred, prefix=\"train\"\n",
    "            )\n",
    "            test_metrics = self._calculate_metrics(\n",
    "                y_test, y_test_pred, prefix=\"test\"\n",
    "            )\n",
    "\n",
    "            # Log metrics\n",
    "            all_metrics = {**train_metrics, **test_metrics}\n",
    "            for metric_name, metric_value in all_metrics.items():\n",
    "                mlflow.log_metric(metric_name, metric_value)\n",
    "\n",
    "            # Get the run ID for reference\n",
    "            run_id = run.info.run_id\n",
    "\n",
    "            print(f\"MLflow Run ID: {run_id}\")\n",
    "            print(f\"Tracking URI: {mlflow.get_tracking_uri()}\")\n",
    "            print(f\"Train Accuracy: {train_metrics['train_accuracy']:.4f}\")\n",
    "            print(f\"Test Accuracy: {test_metrics['test_accuracy']:.4f}\")\n",
    "\n",
    "            return pipeline, run_id\n",
    "\n",
    "    def _calculate_metrics(self, y_true, y_pred, prefix=\"\"):\n",
    "        \"\"\"\n",
    "        Calculate classification metrics.\n",
    "\n",
    "        Args:\n",
    "            y_true: True labels\n",
    "            y_pred: Predicted labels\n",
    "            prefix: Prefix for metric names (e.g., \"train\" or \"test\")\n",
    "\n",
    "        Returns:\n",
    "            Dictionary of metrics\n",
    "        \"\"\"\n",
    "        metrics = {}\n",
    "\n",
    "        # Calculate metrics\n",
    "        accuracy = accuracy_score(y_true, y_pred)\n",
    "        metrics[f\"{prefix}_accuracy\"] = accuracy\n",
    "\n",
    "        # For binary and multiclass classification\n",
    "        try:\n",
    "            precision = precision_score(\n",
    "                y_true, y_pred, average='weighted', zero_division=0\n",
    "            )\n",
    "            recall = recall_score(\n",
    "                y_true, y_pred, average='weighted', zero_division=0\n",
    "            )\n",
    "            f1 = f1_score(\n",
    "                y_true, y_pred, average='weighted', zero_division=0\n",
    "            )\n",
    "\n",
    "            metrics[f\"{prefix}_precision\"] = precision\n",
    "            metrics[f\"{prefix}_recall\"] = recall\n",
    "            metrics[f\"{prefix}_f1\"] = f1\n",
    "        except Exception:\n",
    "            # In case of any issues with multiclass metrics\n",
    "            pass\n",
    "\n",
    "        return metrics"
   ]
  },
  {
   "cell_type": "markdown",
   "id": "f9c181c0",
   "metadata": {},
   "source": [
    "## Modelo con Random Forest"
   ]
  },
  {
   "cell_type": "code",
   "execution_count": 80,
   "id": "0302ffa7",
   "metadata": {},
   "outputs": [],
   "source": [
    "experiment_name = \"nlp-random-forest\"\n",
    "mlflow.set_tracking_uri(\"http://127.0.0.1:5000\")\n",
    "mlflow.set_experiment(experiment_name)\n",
    "\n",
    "# Enable autologging for sklearn models\n",
    "mlflow.sklearn.autolog(\n",
    "    log_input_examples=True,\n",
    "    log_model_signatures=True,\n",
    "    log_models=True,\n",
    "    disable=False,\n",
    "    exclusive=False,\n",
    "    disable_for_unsupported_versions=False,\n",
    "    silent=False,\n",
    "    max_tuning_runs=5\n",
    ")"
   ]
  },
  {
   "cell_type": "code",
   "execution_count": 81,
   "id": "d4fe1ea1",
   "metadata": {},
   "outputs": [],
   "source": [
    "params_random_forest = {\n",
    "    'n_estimators': 100,\n",
    "    'max_depth': 10,\n",
    "    'min_samples_split': 2,\n",
    "    'min_samples_leaf': 1\n",
    "}\n",
    "model = RandomForestClassifier(random_state=42, **params_random_forest)\n",
    "target_column = \"grupo_codificado\"\n",
    "training_columns = [\"concatenada\", \"sexo_codificado\"]\n",
    "test_size = 0.3"
   ]
  },
  {
   "cell_type": "code",
   "execution_count": 83,
   "id": "bd03bd47",
   "metadata": {},
   "outputs": [
    {
     "name": "stderr",
     "output_type": "stream",
     "text": [
      "2025/09/21 12:25:24 WARNING mlflow.sklearn: Failed to log training dataset information to MLflow Tracking. Reason: 'Series' object has no attribute 'flatten'\n",
      "2025/09/21 12:25:51 WARNING mlflow.utils.environment: Failed to resolve installed pip version. ``pip`` will be added to conda.yaml environment spec without a version specifier.\n",
      "Downloading artifacts: 100%|██████████| 7/7 [00:00<?, ?it/s]\n"
     ]
    },
    {
     "name": "stdout",
     "output_type": "stream",
     "text": [
      "MLflow Run ID: a539033b7572460ea2d09b18ee6e8006\n",
      "Tracking URI: http://127.0.0.1:5000\n",
      "Train Accuracy: 0.4642\n",
      "Test Accuracy: 0.4108\n",
      "🏃 View run honorable-skink-30 at: http://127.0.0.1:5000/#/experiments/2/runs/a539033b7572460ea2d09b18ee6e8006\n",
      "🧪 View experiment at: http://127.0.0.1:5000/#/experiments/2\n"
     ]
    },
    {
     "data": {
      "text/plain": [
       "(Pipeline(steps=[('classifier',\n",
       "                  RandomForestClassifier(max_depth=10, random_state=42))]),\n",
       " 'a539033b7572460ea2d09b18ee6e8006')"
      ]
     },
     "execution_count": 83,
     "metadata": {},
     "output_type": "execute_result"
    }
   ],
   "source": [
    "\n",
    "\n",
    "train_mlflow = TrainMlflow(df_final, target_column, model, test_size, training_columns=training_columns, mlflow_setup=mlflow)\n",
    "train_mlflow.train()"
   ]
  },
  {
   "cell_type": "markdown",
   "id": "a5063961",
   "metadata": {},
   "source": [
    "## Modelo con XGB"
   ]
  },
  {
   "cell_type": "code",
   "execution_count": 85,
   "id": "160f5570",
   "metadata": {},
   "outputs": [],
   "source": [
    "from xgboost import XGBClassifier\n",
    "\n",
    "experiment_name = \"nlp-xgboost\"\n",
    "mlflow.set_tracking_uri(\"http://127.0.0.1:5000\")\n",
    "mlflow.set_experiment(experiment_name)\n",
    "\n",
    "# Enable autologging for sklearn models\n",
    "mlflow.xgboost.autolog()"
   ]
  },
  {
   "cell_type": "code",
   "execution_count": 86,
   "id": "ae4fb602",
   "metadata": {},
   "outputs": [],
   "source": [
    "params_xgb = {\n",
    "    'n_estimators': 100,\n",
    "    'max_depth': 10,\n",
    "    'min_samples_split': 2,\n",
    "    'min_samples_leaf': 1\n",
    "}\n",
    "model_xgb = XGBClassifier(random_state=42, **params_xgb)"
   ]
  },
  {
   "cell_type": "code",
   "execution_count": 87,
   "id": "0d09f776",
   "metadata": {},
   "outputs": [
    {
     "name": "stderr",
     "output_type": "stream",
     "text": [
      "2025/09/21 12:31:01 WARNING mlflow.sklearn: Failed to log training dataset information to MLflow Tracking. Reason: 'Series' object has no attribute 'flatten'\n",
      "2025/09/21 12:32:37 WARNING mlflow.utils.environment: Failed to resolve installed pip version. ``pip`` will be added to conda.yaml environment spec without a version specifier.\n",
      "Downloading artifacts: 100%|██████████| 7/7 [00:00<00:00, 424.99it/s]\n"
     ]
    },
    {
     "name": "stdout",
     "output_type": "stream",
     "text": [
      "MLflow Run ID: 5a14e6d3e90e41b19d46bb6f0b1fb90a\n",
      "Tracking URI: http://127.0.0.1:5000\n",
      "Train Accuracy: 0.9978\n",
      "Test Accuracy: 0.6069\n",
      "🏃 View run victorious-asp-659 at: http://127.0.0.1:5000/#/experiments/3/runs/5a14e6d3e90e41b19d46bb6f0b1fb90a\n",
      "🧪 View experiment at: http://127.0.0.1:5000/#/experiments/3\n"
     ]
    },
    {
     "data": {
      "text/plain": [
       "(Pipeline(steps=[('classifier',\n",
       "                  XGBClassifier(base_score=None, booster=None, callbacks=None,\n",
       "                                colsample_bylevel=None, colsample_bynode=None,\n",
       "                                colsample_bytree=None, device=None,\n",
       "                                early_stopping_rounds=None,\n",
       "                                enable_categorical=False, eval_metric=None,\n",
       "                                feature_types=None, feature_weights=None,\n",
       "                                gamma=None, grow_policy=None,\n",
       "                                importance_type=None,\n",
       "                                interaction_constraints=None, learning_rate=None,\n",
       "                                max_bin=None, max_cat_threshold=None,\n",
       "                                max_cat_to_onehot=None, max_delta_step=None,\n",
       "                                max_depth=10, max_leaves=None,\n",
       "                                min_child_weight=None, min_samples_leaf=1,\n",
       "                                min_samples_split=2, missing=nan,\n",
       "                                monotone_constraints=None, multi_strategy=None,\n",
       "                                n_estimators=100, ...))]),\n",
       " '5a14e6d3e90e41b19d46bb6f0b1fb90a')"
      ]
     },
     "execution_count": 87,
     "metadata": {},
     "output_type": "execute_result"
    }
   ],
   "source": [
    "train_mlflow = TrainMlflow(df_final, target_column, model_xgb, test_size, training_columns=training_columns, mlflow_setup=mlflow)\n",
    "train_mlflow.train()"
   ]
  },
  {
   "cell_type": "markdown",
   "id": "02f19d06",
   "metadata": {},
   "source": [
    "## Modelo con MLFlow + Optuna"
   ]
  },
  {
   "cell_type": "code",
   "execution_count": 6,
   "id": "c2eb5f52",
   "metadata": {},
   "outputs": [],
   "source": [
    "# train_with_mlflow_optuna.py\n",
    "\n",
    "import warnings\n",
    "import mlflow\n",
    "import mlflow.sklearn\n",
    "import optuna\n",
    "from optuna.integration.mlflow import MLflowCallback\n",
    "from sklearn.compose import ColumnTransformer\n",
    "from sklearn.ensemble import RandomForestClassifier  # noqa: F401\n",
    "from sklearn.impute import SimpleImputer\n",
    "from sklearn.linear_model import LogisticRegression\n",
    "from sklearn.metrics import (accuracy_score, f1_score, precision_score,\n",
    "                             recall_score, roc_auc_score)\n",
    "from sklearn.model_selection import train_test_split\n",
    "from sklearn.pipeline import Pipeline\n",
    "from sklearn.preprocessing import OneHotEncoder, StandardScaler\n",
    "\n",
    "warnings.filterwarnings('ignore')\n",
    "\n",
    "\n",
    "class TrainMlflowOptuna:\n",
    "    def __init__(\n",
    "        self, df, target_column, model_class=RandomForestClassifier,\n",
    "        test_size=0.3, training_columns=[\"concatenada\", \"sexo_codificado\"], model_params=None, mlflow_setup=None,\n",
    "        n_trials=10, optimization_metric='accuracy',\n",
    "        param_distributions=None\n",
    "    ):\n",
    "        \"\"\"\n",
    "        Initialize the Train class with MLflow and Optuna capabilities.\n",
    "\n",
    "        Args:\n",
    "            df: Input dataframe\n",
    "            target_column: Name of target column\n",
    "            model_class: Model class to instantiate (not an instance)\n",
    "            training_columns: List of columns to use for training\n",
    "            model_params: Dictionary of fixed model parameters (optional)\n",
    "            mlflow_setup: MLflow configuration\n",
    "            test_size: Proportion of data to use for testing\n",
    "            n_trials: Number of Optuna trials to run\n",
    "            optimization_metric: Metric to optimize ('accuracy', 'f1', 'precision', 'recall', 'roc_auc')\n",
    "            param_distributions: Dictionary defining parameter search space\n",
    "                Example: {\n",
    "                    'C': ('float', 0.001, 100, True),  # (type, min, max, log)\n",
    "                    'penalty': ('categorical', ['l1', 'l2']),\n",
    "                    'max_iter': ('int', 100, 1000)\n",
    "                }\n",
    "        \"\"\"\n",
    "        self.df = df\n",
    "\n",
    "        self.target_column = target_column\n",
    "        self.test_size = test_size\n",
    "        self.training_columns = training_columns\n",
    "        self.model_class = model_class\n",
    "        self.model_params = model_params if model_params is not None else {}\n",
    "        self.n_trials = n_trials\n",
    "        self.optimization_metric = optimization_metric\n",
    "        self.param_distributions = param_distributions or {}\n",
    "\n",
    "        # Set up MLflow tracking\n",
    "        self.setup = mlflow_setup\n",
    "        \n",
    "        # Store best model and parameters\n",
    "        self.best_model = None\n",
    "        self.best_params = None\n",
    "        self.best_pipeline = None\n",
    "        self.best_score = None\n",
    "        \n",
    "\n",
    "    def train_test_split(self):\n",
    "        X = self.df[self.training_columns]\n",
    "        y = self.df[self.target_column]\n",
    "        X_train, X_test, y_train, y_test = train_test_split(\n",
    "            X, y, test_size=self.test_size, random_state=42\n",
    "        )\n",
    "        return X_train, X_test, y_train, y_test\n",
    "\n",
    "    def vectorizer(self, X_train, X_test, vectorizer_model=TfidfVectorizer(), columns_to_vectorize=\"concatenada\"):\n",
    "        self.vectorizer_model = vectorizer_model\n",
    "        self.X_train = X_train\n",
    "        self.X_test = X_test\n",
    "        X_train_vect = self.vectorizer_model.fit_transform(X_train[columns_to_vectorize])\n",
    "        X_test_vect = self.vectorizer_model.transform(X_test[columns_to_vectorize])\n",
    "        return X_train_vect, X_test_vect\n",
    "\n",
    "\n",
    "    def create_pipeline_train(self, model):\n",
    "        \"\"\"Create pipeline with a specific model instance.\"\"\"\n",
    "        pipeline = Pipeline(steps=[(\"classifier\", model)])\n",
    "        return pipeline\n",
    "\n",
    "    def create_objective(self, X_train, X_test, y_train, y_test):\n",
    "        \"\"\"Create an Optuna objective function for hyperparameter optimization.\"\"\"\n",
    "        \n",
    "        def objective(trial):\n",
    "            # Suggest hyperparameters from the provided distributions\n",
    "            params = {}\n",
    "            for param_name, param_config in self.param_distributions.items():\n",
    "                param_type = param_config[0]\n",
    "                \n",
    "                if param_type == 'float':\n",
    "                    min_val, max_val = param_config[1], param_config[2]\n",
    "                    log = param_config[3] if len(param_config) > 3 else False\n",
    "                    params[param_name] = trial.suggest_float(\n",
    "                        param_name, min_val, max_val, log=log\n",
    "                    )\n",
    "                elif param_type == 'int':\n",
    "                    min_val, max_val = param_config[1], param_config[2]\n",
    "                    params[param_name] = trial.suggest_int(\n",
    "                        param_name, min_val, max_val\n",
    "                    )\n",
    "                elif param_type == 'categorical':\n",
    "                    choices = param_config[1]\n",
    "                    params[param_name] = trial.suggest_categorical(\n",
    "                        param_name, choices\n",
    "                    )\n",
    "            \n",
    "            # Merge with fixed params if provided\n",
    "            all_params = {**self.model_params, **params}\n",
    "            \n",
    "            # Create model instance with suggested parameters\n",
    "            model = self.model_class(**all_params)\n",
    "            \n",
    "            # Create and train pipeline\n",
    "            pipeline = self.create_pipeline_train(model)\n",
    "            X_train_vect, X_test_vect = self.vectorizer(X_train=X_train, X_test=X_test)\n",
    "\n",
    "            \n",
    "            # Fit the pipeline\n",
    "            pipeline.fit(X_train_vect, y_train)\n",
    "            \n",
    "            # Calculate the optimization metric\n",
    "            if self.optimization_metric == 'accuracy':\n",
    "                y_pred = pipeline.predict(X_test_vect)\n",
    "                score = accuracy_score(y_test, y_pred)\n",
    "            elif self.optimization_metric == 'f1':\n",
    "                y_pred = pipeline.predict(X_test_vect)\n",
    "                score = f1_score(y_test, y_pred, average='weighted')\n",
    "            elif self.optimization_metric == 'precision':\n",
    "                y_pred = pipeline.predict(X_test_vect)\n",
    "                score = precision_score(y_test, y_pred, average='weighted', zero_division=0)\n",
    "            elif self.optimization_metric == 'recall':\n",
    "                y_pred = pipeline.predict(X_test_vect)\n",
    "                score = recall_score(y_test, y_pred, average='weighted', zero_division=0)\n",
    "            elif self.optimization_metric == 'roc_auc':\n",
    "                # Para clasificación multiclase, usar multi_class='ovr'\n",
    "                if hasattr(pipeline, 'predict_proba'):\n",
    "                    y_pred_proba = pipeline.predict_proba(X_test_vect)\n",
    "                    score = roc_auc_score(y_test, y_pred_proba, multi_class='ovr')\n",
    "                else:\n",
    "                    # Si el modelo no soporta predict_proba, usar accuracy como fallback\n",
    "                    y_pred = pipeline.predict(X_test_vect)\n",
    "                    score = accuracy_score(y_test, y_pred)\n",
    "            else:\n",
    "                raise ValueError(f\"Unknown optimization metric: {self.optimization_metric}\")\n",
    "            \n",
    "            return score\n",
    "        \n",
    "        return objective\n",
    "    \n",
    "    def train_with_optuna(self):\n",
    "        \"\"\"\n",
    "        Train the model with Optuna hyperparameter optimization and MLflow tracking.\n",
    "\n",
    "        Returns:\n",
    "            best_pipeline: Best trained sklearn pipeline\n",
    "            best_run_id: MLflow run ID for the best model\n",
    "            study: Optuna study object with optimization results\n",
    "        \"\"\"\n",
    "        # Split data once for all trials\n",
    "        X_train, X_test, y_train, y_test = self.train_test_split()\n",
    "        \n",
    "        # Create Optuna study\n",
    "        study = optuna.create_study(\n",
    "            direction='maximize',\n",
    "            study_name=f\"optuna_{self.model_class.__name__}\"\n",
    "        )\n",
    "        \n",
    "        # Create objective function\n",
    "        objective = self.create_objective(X_train, X_test, y_train, y_test)\n",
    "        \n",
    "        # Set up MLflow callback for Optuna\n",
    "        mlflow_callback = MLflowCallback(\n",
    "            tracking_uri=mlflow.get_tracking_uri(),\n",
    "            metric_name=self.optimization_metric\n",
    "        )\n",
    "        \n",
    "        # Run optimization\n",
    "        print(f\"Starting Optuna optimization with {self.n_trials} trials...\")\n",
    "        print(f\"Optimizing for: {self.optimization_metric}\")\n",
    "        print(f\"Model type: {self.model_class.__name__}\")\n",
    "        \n",
    "        study.optimize(\n",
    "            objective, \n",
    "            n_trials=self.n_trials,\n",
    "            callbacks=[mlflow_callback]\n",
    "        )\n",
    "        \n",
    "        # Get best parameters\n",
    "        self.best_params = study.best_params\n",
    "        self.best_score = study.best_value\n",
    "        \n",
    "        print(f\"\\nOptimization complete!\")\n",
    "        print(f\"Best {self.optimization_metric}: {self.best_score:.4f}\")\n",
    "        print(f\"Best parameters: {self.best_params}\")\n",
    "        \n",
    "        # Train final model with best parameters and log to MLflow\n",
    "        best_run_id = self._train_best_model(X_train, X_test, y_train, y_test)\n",
    "        \n",
    "        return self.best_pipeline, best_run_id, study\n",
    "    \n",
    "    def _train_best_model(self, X_train, X_test, y_train, y_test):\n",
    "        \"\"\"Train the final model with best parameters and comprehensive MLflow logging.\"\"\"\n",
    "        \n",
    "        with mlflow.start_run(run_name=f\"best_model_{self.model_class.__name__}\") as run:\n",
    "            # Log basic parameters\n",
    "            mlflow.log_param(\"test_size\", self.test_size)\n",
    "            mlflow.log_param(\"model_type\", self.model_class.__name__)\n",
    "            mlflow.log_param(\"target_column\", self.target_column)\n",
    "            mlflow.log_param(\"n_trials\", self.n_trials)\n",
    "            mlflow.log_param(\"optimization_metric\", self.optimization_metric)\n",
    "            \n",
    "            # Log best hyperparameters\n",
    "            for param_name, param_value in self.best_params.items():\n",
    "                mlflow.log_param(f\"best_{param_name}\", param_value)\n",
    "            \n",
    "            # Log fixed parameters if any\n",
    "            for param_name, param_value in self.model_params.items():\n",
    "                mlflow.log_param(f\"fixed_{param_name}\", param_value)\n",
    "            \n",
    "            # Log dataset information\n",
    "            mlflow.log_param(\"n_train_samples\", len(X_train))\n",
    "            mlflow.log_param(\"n_test_samples\", len(X_test))\n",
    "            \n",
    "            # Create model with best parameters\n",
    "            all_params = {**self.model_params, **self.best_params}\n",
    "            self.best_model = self.model_class(**all_params)\n",
    "            \n",
    "            # Create and train pipeline\n",
    "            self.best_pipeline = self.create_pipeline_train(self.best_model)\n",
    "            # Vectorize data\n",
    "            X_train_vect, X_test_vect = self.vectorizer(X_train=X_train, X_test=X_test)\n",
    "            # Fit the best pipeline\n",
    "            self.best_pipeline.fit(X_train_vect, y_train)\n",
    "            \n",
    "            # Make predictions\n",
    "            y_train_pred = self.best_pipeline.predict(X_train_vect)\n",
    "            y_test_pred = self.best_pipeline.predict(X_test_vect)\n",
    "            \n",
    "            # Calculate and log metrics\n",
    "            train_metrics = self._calculate_metrics(y_train, y_train_pred, prefix=\"train\")\n",
    "            test_metrics = self._calculate_metrics(y_test, y_test_pred, prefix=\"test\")\n",
    "            \n",
    "            all_metrics = {**train_metrics, **test_metrics}\n",
    "            for metric_name, metric_value in all_metrics.items():\n",
    "                mlflow.log_metric(metric_name, metric_value)\n",
    "            \n",
    "            # Log the optimization score from Optuna\n",
    "            mlflow.log_metric(f\"optuna_best_{self.optimization_metric}\", self.best_score)\n",
    "            \n",
    "            # Log the model\n",
    "            mlflow.sklearn.log_model(\n",
    "                self.best_pipeline,\n",
    "                \"model\",\n",
    "                input_example=X_train.iloc[:5],\n",
    "                signature=mlflow.models.infer_signature(X_train_vect, y_train_pred)\n",
    "            )\n",
    "            \n",
    "            # Get the run ID for reference\n",
    "            run_id = run.info.run_id\n",
    "            \n",
    "            print(f\"\\nBest Model MLflow Run ID: {run_id}\")\n",
    "            print(f\"Tracking URI: {mlflow.get_tracking_uri()}\")\n",
    "            print(f\"Train Accuracy: {train_metrics['train_accuracy']:.4f}\")\n",
    "            print(f\"Test Accuracy: {test_metrics['test_accuracy']:.4f}\")\n",
    "            \n",
    "            return run_id\n",
    "    \n",
    "    def train(self):\n",
    "        \"\"\"Alias for train_with_optuna to maintain compatibility.\"\"\"\n",
    "        return self.train_with_optuna()\n",
    "\n",
    "    def _calculate_metrics(self, y_true, y_pred, prefix=\"\"):\n",
    "        \"\"\"\n",
    "        Calculate classification metrics.\n",
    "\n",
    "        Args:\n",
    "            y_true: True labels\n",
    "            y_pred: Predicted labels\n",
    "            prefix: Prefix for metric names (e.g., \"train\" or \"test\")\n",
    "\n",
    "        Returns:\n",
    "            Dictionary of metrics\n",
    "        \"\"\"\n",
    "        metrics = {}\n",
    "\n",
    "        # Calculate metrics\n",
    "        accuracy = accuracy_score(y_true, y_pred)\n",
    "        metrics[f\"{prefix}_accuracy\"] = accuracy\n",
    "\n",
    "        # For binary and multiclass classification\n",
    "        try:\n",
    "            precision = precision_score(\n",
    "                y_true, y_pred, average='weighted', zero_division=0\n",
    "            )\n",
    "            recall = recall_score(\n",
    "                y_true, y_pred, average='weighted', zero_division=0\n",
    "            )\n",
    "            f1 = f1_score(\n",
    "                y_true, y_pred, average='weighted', zero_division=0\n",
    "            )\n",
    "\n",
    "            metrics[f\"{prefix}_precision\"] = precision\n",
    "            metrics[f\"{prefix}_recall\"] = recall\n",
    "            metrics[f\"{prefix}_f1\"] = f1\n",
    "        except Exception:\n",
    "            # In case of any issues with multiclass metrics\n",
    "            pass\n",
    "\n",
    "        return metrics"
   ]
  },
  {
   "cell_type": "markdown",
   "id": "2f0dda42",
   "metadata": {},
   "source": [
    "## Random Forest con MLFLow + Optuna"
   ]
  },
  {
   "cell_type": "code",
   "execution_count": 93,
   "id": "fe4beb02",
   "metadata": {},
   "outputs": [
    {
     "name": "stderr",
     "output_type": "stream",
     "text": [
      "[I 2025-09-21 14:44:36,665] A new study created in memory with name: optuna_RandomForestClassifier\n"
     ]
    },
    {
     "name": "stdout",
     "output_type": "stream",
     "text": [
      "Starting Optuna optimization with 30 trials...\n",
      "Optimizing for: f1\n",
      "Model type: RandomForestClassifier\n"
     ]
    },
    {
     "name": "stderr",
     "output_type": "stream",
     "text": [
      "2025/09/21 14:44:37 INFO mlflow.utils.autologging_utils: Created MLflow autologging run with ID '1674963fcd2845f89c9de23c5f98949d', which will track hyperparameters, performance metrics, model artifacts, and lineage information for the current sklearn workflow\n",
      "2025/09/21 14:44:38 WARNING mlflow.sklearn: Failed to log training dataset information to MLflow Tracking. Reason: 'Series' object has no attribute 'flatten'\n",
      "2025/09/21 14:44:42 WARNING mlflow.utils.environment: Failed to resolve installed pip version. ``pip`` will be added to conda.yaml environment spec without a version specifier.\n",
      "Downloading artifacts: 100%|██████████| 7/7 [00:00<00:00, 342.74it/s]\n"
     ]
    },
    {
     "name": "stdout",
     "output_type": "stream",
     "text": [
      "🏃 View run brawny-hog-200 at: http://127.0.0.1:5000/#/experiments/4/runs/1674963fcd2845f89c9de23c5f98949d\n",
      "🧪 View experiment at: http://127.0.0.1:5000/#/experiments/4\n"
     ]
    },
    {
     "name": "stderr",
     "output_type": "stream",
     "text": [
      "[I 2025-09-21 14:44:46,573] Trial 0 finished with value: 0.5100493471199063 and parameters: {'n_estimators': 101, 'max_depth': 28, 'min_samples_split': 4, 'min_samples_leaf': 2, 'max_features': 'sqrt'}. Best is trial 0 with value: 0.5100493471199063.\n"
     ]
    },
    {
     "name": "stdout",
     "output_type": "stream",
     "text": [
      "🏃 View run 0 at: http://127.0.0.1:5000/#/experiments/5/runs/4bd07762a74c44038f3a8ca207904f45\n",
      "🧪 View experiment at: http://127.0.0.1:5000/#/experiments/5\n"
     ]
    },
    {
     "name": "stderr",
     "output_type": "stream",
     "text": [
      "2025/09/21 14:44:47 INFO mlflow.utils.autologging_utils: Created MLflow autologging run with ID '03f3e015d95740028a4be72bfd99883a', which will track hyperparameters, performance metrics, model artifacts, and lineage information for the current sklearn workflow\n",
      "2025/09/21 14:44:48 WARNING mlflow.sklearn: Failed to log training dataset information to MLflow Tracking. Reason: 'Series' object has no attribute 'flatten'\n",
      "2025/09/21 14:44:53 WARNING mlflow.utils.environment: Failed to resolve installed pip version. ``pip`` will be added to conda.yaml environment spec without a version specifier.\n",
      "Downloading artifacts: 100%|██████████| 7/7 [00:00<00:00, 265.66it/s]\n"
     ]
    },
    {
     "name": "stdout",
     "output_type": "stream",
     "text": [
      "🏃 View run polite-squid-605 at: http://127.0.0.1:5000/#/experiments/5/runs/03f3e015d95740028a4be72bfd99883a\n",
      "🧪 View experiment at: http://127.0.0.1:5000/#/experiments/5\n"
     ]
    },
    {
     "name": "stderr",
     "output_type": "stream",
     "text": [
      "[I 2025-09-21 14:44:57,852] Trial 1 finished with value: 0.15810726646911913 and parameters: {'n_estimators': 199, 'max_depth': 18, 'min_samples_split': 3, 'min_samples_leaf': 5, 'max_features': 'log2'}. Best is trial 0 with value: 0.5100493471199063.\n"
     ]
    },
    {
     "name": "stdout",
     "output_type": "stream",
     "text": [
      "🏃 View run 1 at: http://127.0.0.1:5000/#/experiments/5/runs/9044522bd85e4acfa50b7cb3f5a270fe\n",
      "🧪 View experiment at: http://127.0.0.1:5000/#/experiments/5\n"
     ]
    },
    {
     "name": "stderr",
     "output_type": "stream",
     "text": [
      "2025/09/21 14:44:59 INFO mlflow.utils.autologging_utils: Created MLflow autologging run with ID '87bd2da9bc2941aea63c5ac2dee4eb84', which will track hyperparameters, performance metrics, model artifacts, and lineage information for the current sklearn workflow\n",
      "2025/09/21 14:45:00 WARNING mlflow.sklearn: Failed to log training dataset information to MLflow Tracking. Reason: 'Series' object has no attribute 'flatten'\n",
      "2025/09/21 14:45:05 WARNING mlflow.utils.environment: Failed to resolve installed pip version. ``pip`` will be added to conda.yaml environment spec without a version specifier.\n",
      "Downloading artifacts: 100%|██████████| 7/7 [00:00<00:00, 419.38it/s]\n"
     ]
    },
    {
     "name": "stdout",
     "output_type": "stream",
     "text": [
      "🏃 View run dapper-stork-639 at: http://127.0.0.1:5000/#/experiments/5/runs/87bd2da9bc2941aea63c5ac2dee4eb84\n",
      "🧪 View experiment at: http://127.0.0.1:5000/#/experiments/5\n"
     ]
    },
    {
     "name": "stderr",
     "output_type": "stream",
     "text": [
      "[I 2025-09-21 14:45:09,881] Trial 2 finished with value: 0.44772765029373124 and parameters: {'n_estimators': 138, 'max_depth': 24, 'min_samples_split': 6, 'min_samples_leaf': 5, 'max_features': 'sqrt'}. Best is trial 0 with value: 0.5100493471199063.\n"
     ]
    },
    {
     "name": "stdout",
     "output_type": "stream",
     "text": [
      "🏃 View run 2 at: http://127.0.0.1:5000/#/experiments/5/runs/142e6fd11cb44826bd5bac9a27d5b4cf\n",
      "🧪 View experiment at: http://127.0.0.1:5000/#/experiments/5\n"
     ]
    },
    {
     "name": "stderr",
     "output_type": "stream",
     "text": [
      "2025/09/21 14:45:11 INFO mlflow.utils.autologging_utils: Created MLflow autologging run with ID 'a85552aac732418480e854fd86dce073', which will track hyperparameters, performance metrics, model artifacts, and lineage information for the current sklearn workflow\n",
      "2025/09/21 14:45:12 WARNING mlflow.sklearn: Failed to log training dataset information to MLflow Tracking. Reason: 'Series' object has no attribute 'flatten'\n",
      "2025/09/21 14:45:17 WARNING mlflow.utils.environment: Failed to resolve installed pip version. ``pip`` will be added to conda.yaml environment spec without a version specifier.\n",
      "Downloading artifacts: 100%|██████████| 7/7 [00:00<00:00, 420.78it/s]\n"
     ]
    },
    {
     "name": "stdout",
     "output_type": "stream",
     "text": [
      "🏃 View run puzzled-hog-158 at: http://127.0.0.1:5000/#/experiments/5/runs/a85552aac732418480e854fd86dce073\n",
      "🧪 View experiment at: http://127.0.0.1:5000/#/experiments/5\n"
     ]
    },
    {
     "name": "stderr",
     "output_type": "stream",
     "text": [
      "[I 2025-09-21 14:45:21,102] Trial 3 finished with value: 0.15810726646911913 and parameters: {'n_estimators': 95, 'max_depth': 20, 'min_samples_split': 4, 'min_samples_leaf': 5, 'max_features': 'log2'}. Best is trial 0 with value: 0.5100493471199063.\n"
     ]
    },
    {
     "name": "stdout",
     "output_type": "stream",
     "text": [
      "🏃 View run 3 at: http://127.0.0.1:5000/#/experiments/5/runs/d37bbdc1d17049d69dfdcd6140bd106a\n",
      "🧪 View experiment at: http://127.0.0.1:5000/#/experiments/5\n"
     ]
    },
    {
     "name": "stderr",
     "output_type": "stream",
     "text": [
      "2025/09/21 14:45:22 INFO mlflow.utils.autologging_utils: Created MLflow autologging run with ID 'f26e5bec3d1a4319a7444cbc2cb9e51d', which will track hyperparameters, performance metrics, model artifacts, and lineage information for the current sklearn workflow\n",
      "2025/09/21 14:45:23 WARNING mlflow.sklearn: Failed to log training dataset information to MLflow Tracking. Reason: 'Series' object has no attribute 'flatten'\n",
      "2025/09/21 14:46:51 WARNING mlflow.utils.environment: Failed to resolve installed pip version. ``pip`` will be added to conda.yaml environment spec without a version specifier.\n",
      "Downloading artifacts: 100%|██████████| 7/7 [00:00<00:00, 424.70it/s]\n"
     ]
    },
    {
     "name": "stdout",
     "output_type": "stream",
     "text": [
      "🏃 View run monumental-jay-875 at: http://127.0.0.1:5000/#/experiments/5/runs/f26e5bec3d1a4319a7444cbc2cb9e51d\n",
      "🧪 View experiment at: http://127.0.0.1:5000/#/experiments/5\n"
     ]
    },
    {
     "name": "stderr",
     "output_type": "stream",
     "text": [
      "[I 2025-09-21 14:46:55,640] Trial 4 finished with value: 0.5535151462042702 and parameters: {'n_estimators': 150, 'max_depth': 22, 'min_samples_split': 10, 'min_samples_leaf': 4, 'max_features': None}. Best is trial 4 with value: 0.5535151462042702.\n"
     ]
    },
    {
     "name": "stdout",
     "output_type": "stream",
     "text": [
      "🏃 View run 4 at: http://127.0.0.1:5000/#/experiments/5/runs/2a0d0ceb488a4eacb4b94fb35923d3de\n",
      "🧪 View experiment at: http://127.0.0.1:5000/#/experiments/5\n"
     ]
    },
    {
     "name": "stderr",
     "output_type": "stream",
     "text": [
      "2025/09/21 14:46:57 INFO mlflow.utils.autologging_utils: Created MLflow autologging run with ID '4e40c99487d24af880cd7ad385b1be6f', which will track hyperparameters, performance metrics, model artifacts, and lineage information for the current sklearn workflow\n",
      "2025/09/21 14:46:57 WARNING mlflow.sklearn: Failed to log training dataset information to MLflow Tracking. Reason: 'Series' object has no attribute 'flatten'\n",
      "2025/09/21 14:48:35 WARNING mlflow.utils.environment: Failed to resolve installed pip version. ``pip`` will be added to conda.yaml environment spec without a version specifier.\n",
      "Downloading artifacts: 100%|██████████| 7/7 [00:00<00:00, 417.88it/s]\n"
     ]
    },
    {
     "name": "stdout",
     "output_type": "stream",
     "text": [
      "🏃 View run exultant-hare-336 at: http://127.0.0.1:5000/#/experiments/5/runs/4e40c99487d24af880cd7ad385b1be6f\n",
      "🧪 View experiment at: http://127.0.0.1:5000/#/experiments/5\n"
     ]
    },
    {
     "name": "stderr",
     "output_type": "stream",
     "text": [
      "[I 2025-09-21 14:48:40,069] Trial 5 finished with value: 0.5438245068557913 and parameters: {'n_estimators': 181, 'max_depth': 21, 'min_samples_split': 7, 'min_samples_leaf': 5, 'max_features': None}. Best is trial 4 with value: 0.5535151462042702.\n"
     ]
    },
    {
     "name": "stdout",
     "output_type": "stream",
     "text": [
      "🏃 View run 5 at: http://127.0.0.1:5000/#/experiments/5/runs/03a4ae79780743e1a9b1ae3b08ef2333\n",
      "🧪 View experiment at: http://127.0.0.1:5000/#/experiments/5\n"
     ]
    },
    {
     "name": "stderr",
     "output_type": "stream",
     "text": [
      "2025/09/21 14:48:41 INFO mlflow.utils.autologging_utils: Created MLflow autologging run with ID '1f6398675bad46359bbc257570f2beea', which will track hyperparameters, performance metrics, model artifacts, and lineage information for the current sklearn workflow\n",
      "2025/09/21 14:48:42 WARNING mlflow.sklearn: Failed to log training dataset information to MLflow Tracking. Reason: 'Series' object has no attribute 'flatten'\n",
      "2025/09/21 14:48:47 WARNING mlflow.utils.environment: Failed to resolve installed pip version. ``pip`` will be added to conda.yaml environment spec without a version specifier.\n",
      "Downloading artifacts: 100%|██████████| 7/7 [00:00<00:00, 777.61it/s] \n"
     ]
    },
    {
     "name": "stdout",
     "output_type": "stream",
     "text": [
      "🏃 View run dapper-gnat-732 at: http://127.0.0.1:5000/#/experiments/5/runs/1f6398675bad46359bbc257570f2beea\n",
      "🧪 View experiment at: http://127.0.0.1:5000/#/experiments/5\n"
     ]
    },
    {
     "name": "stderr",
     "output_type": "stream",
     "text": [
      "[I 2025-09-21 14:48:51,995] Trial 6 finished with value: 0.15810726646911913 and parameters: {'n_estimators': 147, 'max_depth': 19, 'min_samples_split': 10, 'min_samples_leaf': 5, 'max_features': 'log2'}. Best is trial 4 with value: 0.5535151462042702.\n"
     ]
    },
    {
     "name": "stdout",
     "output_type": "stream",
     "text": [
      "🏃 View run 6 at: http://127.0.0.1:5000/#/experiments/5/runs/a84403d74583450eae27fb5a2a1ce5f2\n",
      "🧪 View experiment at: http://127.0.0.1:5000/#/experiments/5\n"
     ]
    },
    {
     "name": "stderr",
     "output_type": "stream",
     "text": [
      "2025/09/21 14:48:53 INFO mlflow.utils.autologging_utils: Created MLflow autologging run with ID '7e97da112d04477ca97f2a79821d5d4d', which will track hyperparameters, performance metrics, model artifacts, and lineage information for the current sklearn workflow\n",
      "2025/09/21 14:48:54 WARNING mlflow.sklearn: Failed to log training dataset information to MLflow Tracking. Reason: 'Series' object has no attribute 'flatten'\n",
      "2025/09/21 14:50:45 WARNING mlflow.utils.environment: Failed to resolve installed pip version. ``pip`` will be added to conda.yaml environment spec without a version specifier.\n",
      "Downloading artifacts: 100%|██████████| 7/7 [00:00<00:00, 256.49it/s]\n"
     ]
    },
    {
     "name": "stdout",
     "output_type": "stream",
     "text": [
      "🏃 View run painted-hound-495 at: http://127.0.0.1:5000/#/experiments/5/runs/7e97da112d04477ca97f2a79821d5d4d\n",
      "🧪 View experiment at: http://127.0.0.1:5000/#/experiments/5\n"
     ]
    },
    {
     "name": "stderr",
     "output_type": "stream",
     "text": [
      "[I 2025-09-21 14:50:50,326] Trial 7 finished with value: 0.572157849790104 and parameters: {'n_estimators': 133, 'max_depth': 30, 'min_samples_split': 6, 'min_samples_leaf': 1, 'max_features': None}. Best is trial 7 with value: 0.572157849790104.\n"
     ]
    },
    {
     "name": "stdout",
     "output_type": "stream",
     "text": [
      "🏃 View run 7 at: http://127.0.0.1:5000/#/experiments/5/runs/4f1aac797f5b4a9085b63e683e445559\n",
      "🧪 View experiment at: http://127.0.0.1:5000/#/experiments/5\n"
     ]
    },
    {
     "name": "stderr",
     "output_type": "stream",
     "text": [
      "2025/09/21 14:50:51 INFO mlflow.utils.autologging_utils: Created MLflow autologging run with ID 'c85255b44d2243c58d14a8c519fe2d05', which will track hyperparameters, performance metrics, model artifacts, and lineage information for the current sklearn workflow\n",
      "2025/09/21 14:50:52 WARNING mlflow.sklearn: Failed to log training dataset information to MLflow Tracking. Reason: 'Series' object has no attribute 'flatten'\n",
      "2025/09/21 14:52:28 WARNING mlflow.utils.environment: Failed to resolve installed pip version. ``pip`` will be added to conda.yaml environment spec without a version specifier.\n",
      "Downloading artifacts: 100%|██████████| 7/7 [00:00<00:00, 308.80it/s]\n"
     ]
    },
    {
     "name": "stdout",
     "output_type": "stream",
     "text": [
      "🏃 View run delicate-ape-96 at: http://127.0.0.1:5000/#/experiments/5/runs/c85255b44d2243c58d14a8c519fe2d05\n",
      "🧪 View experiment at: http://127.0.0.1:5000/#/experiments/5\n"
     ]
    },
    {
     "name": "stderr",
     "output_type": "stream",
     "text": [
      "[I 2025-09-21 14:52:32,965] Trial 8 finished with value: 0.544309622745644 and parameters: {'n_estimators': 189, 'max_depth': 15, 'min_samples_split': 5, 'min_samples_leaf': 1, 'max_features': None}. Best is trial 7 with value: 0.572157849790104.\n"
     ]
    },
    {
     "name": "stdout",
     "output_type": "stream",
     "text": [
      "🏃 View run 8 at: http://127.0.0.1:5000/#/experiments/5/runs/320e0dfa0a754adca82395a0643967d0\n",
      "🧪 View experiment at: http://127.0.0.1:5000/#/experiments/5\n"
     ]
    },
    {
     "name": "stderr",
     "output_type": "stream",
     "text": [
      "2025/09/21 14:52:34 INFO mlflow.utils.autologging_utils: Created MLflow autologging run with ID 'd16933fd6326429f89fcca8d112fbd06', which will track hyperparameters, performance metrics, model artifacts, and lineage information for the current sklearn workflow\n",
      "2025/09/21 14:52:35 WARNING mlflow.sklearn: Failed to log training dataset information to MLflow Tracking. Reason: 'Series' object has no attribute 'flatten'\n",
      "2025/09/21 14:52:39 WARNING mlflow.utils.environment: Failed to resolve installed pip version. ``pip`` will be added to conda.yaml environment spec without a version specifier.\n",
      "Downloading artifacts: 100%|██████████| 7/7 [00:00<00:00, 272.39it/s]\n"
     ]
    },
    {
     "name": "stdout",
     "output_type": "stream",
     "text": [
      "🏃 View run whimsical-moose-921 at: http://127.0.0.1:5000/#/experiments/5/runs/d16933fd6326429f89fcca8d112fbd06\n",
      "🧪 View experiment at: http://127.0.0.1:5000/#/experiments/5\n"
     ]
    },
    {
     "name": "stderr",
     "output_type": "stream",
     "text": [
      "[I 2025-09-21 14:52:42,969] Trial 9 finished with value: 0.18885251934129066 and parameters: {'n_estimators': 50, 'max_depth': 30, 'min_samples_split': 6, 'min_samples_leaf': 3, 'max_features': 'log2'}. Best is trial 7 with value: 0.572157849790104.\n"
     ]
    },
    {
     "name": "stdout",
     "output_type": "stream",
     "text": [
      "🏃 View run 9 at: http://127.0.0.1:5000/#/experiments/5/runs/7762a7bae12946d8b9aa0b0c0946cbb2\n",
      "🧪 View experiment at: http://127.0.0.1:5000/#/experiments/5\n"
     ]
    },
    {
     "name": "stderr",
     "output_type": "stream",
     "text": [
      "2025/09/21 14:52:44 INFO mlflow.utils.autologging_utils: Created MLflow autologging run with ID '4e9891ffb93d494d8a08dda8a1884bf3', which will track hyperparameters, performance metrics, model artifacts, and lineage information for the current sklearn workflow\n",
      "2025/09/21 14:52:45 WARNING mlflow.sklearn: Failed to log training dataset information to MLflow Tracking. Reason: 'Series' object has no attribute 'flatten'\n",
      "2025/09/21 14:53:10 WARNING mlflow.utils.environment: Failed to resolve installed pip version. ``pip`` will be added to conda.yaml environment spec without a version specifier.\n",
      "Downloading artifacts: 100%|██████████| 7/7 [00:00<00:00, 554.71it/s] \n"
     ]
    },
    {
     "name": "stdout",
     "output_type": "stream",
     "text": [
      "🏃 View run placid-toad-173 at: http://127.0.0.1:5000/#/experiments/5/runs/4e9891ffb93d494d8a08dda8a1884bf3\n",
      "🧪 View experiment at: http://127.0.0.1:5000/#/experiments/5\n"
     ]
    },
    {
     "name": "stderr",
     "output_type": "stream",
     "text": [
      "[I 2025-09-21 14:53:14,407] Trial 10 finished with value: 0.426151577148997 and parameters: {'n_estimators': 107, 'max_depth': 7, 'min_samples_split': 8, 'min_samples_leaf': 1, 'max_features': None}. Best is trial 7 with value: 0.572157849790104.\n"
     ]
    },
    {
     "name": "stdout",
     "output_type": "stream",
     "text": [
      "🏃 View run 10 at: http://127.0.0.1:5000/#/experiments/5/runs/0488d4381ea3451ca17a6677ddc6ca9b\n",
      "🧪 View experiment at: http://127.0.0.1:5000/#/experiments/5\n"
     ]
    },
    {
     "name": "stderr",
     "output_type": "stream",
     "text": [
      "2025/09/21 14:53:15 INFO mlflow.utils.autologging_utils: Created MLflow autologging run with ID 'd1ab6d91db264ec08dc2a97c12bd20d3', which will track hyperparameters, performance metrics, model artifacts, and lineage information for the current sklearn workflow\n",
      "2025/09/21 14:53:16 WARNING mlflow.sklearn: Failed to log training dataset information to MLflow Tracking. Reason: 'Series' object has no attribute 'flatten'\n",
      "2025/09/21 14:54:58 WARNING mlflow.utils.environment: Failed to resolve installed pip version. ``pip`` will be added to conda.yaml environment spec without a version specifier.\n",
      "Downloading artifacts: 100%|██████████| 7/7 [00:00<00:00, 634.33it/s]\n"
     ]
    },
    {
     "name": "stdout",
     "output_type": "stream",
     "text": [
      "🏃 View run salty-cow-402 at: http://127.0.0.1:5000/#/experiments/5/runs/d1ab6d91db264ec08dc2a97c12bd20d3\n",
      "🧪 View experiment at: http://127.0.0.1:5000/#/experiments/5\n"
     ]
    },
    {
     "name": "stderr",
     "output_type": "stream",
     "text": [
      "[I 2025-09-21 14:55:03,138] Trial 11 finished with value: 0.5596367404875155 and parameters: {'n_estimators': 158, 'max_depth': 26, 'min_samples_split': 10, 'min_samples_leaf': 3, 'max_features': None}. Best is trial 7 with value: 0.572157849790104.\n"
     ]
    },
    {
     "name": "stdout",
     "output_type": "stream",
     "text": [
      "🏃 View run 11 at: http://127.0.0.1:5000/#/experiments/5/runs/a05aafadbf4e434281cf177b5a3865b3\n",
      "🧪 View experiment at: http://127.0.0.1:5000/#/experiments/5\n"
     ]
    },
    {
     "name": "stderr",
     "output_type": "stream",
     "text": [
      "2025/09/21 14:55:04 INFO mlflow.utils.autologging_utils: Created MLflow autologging run with ID 'b18c0475fe1e42f3bc7e1f7fac2331e6', which will track hyperparameters, performance metrics, model artifacts, and lineage information for the current sklearn workflow\n",
      "2025/09/21 14:55:05 WARNING mlflow.sklearn: Failed to log training dataset information to MLflow Tracking. Reason: 'Series' object has no attribute 'flatten'\n",
      "2025/09/21 14:57:00 WARNING mlflow.utils.environment: Failed to resolve installed pip version. ``pip`` will be added to conda.yaml environment spec without a version specifier.\n",
      "Downloading artifacts: 100%|██████████| 7/7 [00:00<00:00, 264.16it/s]\n"
     ]
    },
    {
     "name": "stdout",
     "output_type": "stream",
     "text": [
      "🏃 View run chill-dog-286 at: http://127.0.0.1:5000/#/experiments/5/runs/b18c0475fe1e42f3bc7e1f7fac2331e6\n",
      "🧪 View experiment at: http://127.0.0.1:5000/#/experiments/5\n"
     ]
    },
    {
     "name": "stderr",
     "output_type": "stream",
     "text": [
      "[I 2025-09-21 14:57:05,188] Trial 12 finished with value: 0.5633368035816609 and parameters: {'n_estimators': 165, 'max_depth': 26, 'min_samples_split': 8, 'min_samples_leaf': 3, 'max_features': None}. Best is trial 7 with value: 0.572157849790104.\n"
     ]
    },
    {
     "name": "stdout",
     "output_type": "stream",
     "text": [
      "🏃 View run 12 at: http://127.0.0.1:5000/#/experiments/5/runs/422a128d1d594ce09aecd0b24c6c71eb\n",
      "🧪 View experiment at: http://127.0.0.1:5000/#/experiments/5\n"
     ]
    },
    {
     "name": "stderr",
     "output_type": "stream",
     "text": [
      "2025/09/21 14:57:06 INFO mlflow.utils.autologging_utils: Created MLflow autologging run with ID 'b8cbfb3ef542477c85054c283b0d0a86', which will track hyperparameters, performance metrics, model artifacts, and lineage information for the current sklearn workflow\n",
      "2025/09/21 14:57:07 WARNING mlflow.sklearn: Failed to log training dataset information to MLflow Tracking. Reason: 'Series' object has no attribute 'flatten'\n",
      "2025/09/21 14:58:40 WARNING mlflow.utils.environment: Failed to resolve installed pip version. ``pip`` will be added to conda.yaml environment spec without a version specifier.\n",
      "Downloading artifacts: 100%|██████████| 7/7 [00:00<00:00, 373.96it/s]\n"
     ]
    },
    {
     "name": "stdout",
     "output_type": "stream",
     "text": [
      "🏃 View run serious-grub-156 at: http://127.0.0.1:5000/#/experiments/5/runs/b8cbfb3ef542477c85054c283b0d0a86\n",
      "🧪 View experiment at: http://127.0.0.1:5000/#/experiments/5\n"
     ]
    },
    {
     "name": "stderr",
     "output_type": "stream",
     "text": [
      "[I 2025-09-21 14:58:44,743] Trial 13 finished with value: 0.5678669775239231 and parameters: {'n_estimators': 120, 'max_depth': 30, 'min_samples_split': 8, 'min_samples_leaf': 2, 'max_features': None}. Best is trial 7 with value: 0.572157849790104.\n"
     ]
    },
    {
     "name": "stdout",
     "output_type": "stream",
     "text": [
      "🏃 View run 13 at: http://127.0.0.1:5000/#/experiments/5/runs/24894e63a6d14a4cabc0d3468b4304fa\n",
      "🧪 View experiment at: http://127.0.0.1:5000/#/experiments/5\n"
     ]
    },
    {
     "name": "stderr",
     "output_type": "stream",
     "text": [
      "2025/09/21 14:58:46 INFO mlflow.utils.autologging_utils: Created MLflow autologging run with ID '60bfc83300234dee9702650710bbb9c1', which will track hyperparameters, performance metrics, model artifacts, and lineage information for the current sklearn workflow\n",
      "2025/09/21 14:58:47 WARNING mlflow.sklearn: Failed to log training dataset information to MLflow Tracking. Reason: 'Series' object has no attribute 'flatten'\n",
      "2025/09/21 14:59:33 WARNING mlflow.utils.environment: Failed to resolve installed pip version. ``pip`` will be added to conda.yaml environment spec without a version specifier.\n",
      "Downloading artifacts: 100%|██████████| 7/7 [00:00<00:00, 427.75it/s]\n"
     ]
    },
    {
     "name": "stdout",
     "output_type": "stream",
     "text": [
      "🏃 View run respected-donkey-929 at: http://127.0.0.1:5000/#/experiments/5/runs/60bfc83300234dee9702650710bbb9c1\n",
      "🧪 View experiment at: http://127.0.0.1:5000/#/experiments/5\n"
     ]
    },
    {
     "name": "stderr",
     "output_type": "stream",
     "text": [
      "[I 2025-09-21 14:59:37,210] Trial 14 finished with value: 0.5117086637389442 and parameters: {'n_estimators': 125, 'max_depth': 11, 'min_samples_split': 2, 'min_samples_leaf': 2, 'max_features': None}. Best is trial 7 with value: 0.572157849790104.\n"
     ]
    },
    {
     "name": "stdout",
     "output_type": "stream",
     "text": [
      "🏃 View run 14 at: http://127.0.0.1:5000/#/experiments/5/runs/a14b9129bac64daa9319856132acdcd6\n",
      "🧪 View experiment at: http://127.0.0.1:5000/#/experiments/5\n"
     ]
    },
    {
     "name": "stderr",
     "output_type": "stream",
     "text": [
      "2025/09/21 14:59:38 INFO mlflow.utils.autologging_utils: Created MLflow autologging run with ID 'f3436ed7be674fd9b791681ba0bae749', which will track hyperparameters, performance metrics, model artifacts, and lineage information for the current sklearn workflow\n",
      "2025/09/21 14:59:39 WARNING mlflow.sklearn: Failed to log training dataset information to MLflow Tracking. Reason: 'Series' object has no attribute 'flatten'\n",
      "2025/09/21 15:00:38 WARNING mlflow.utils.environment: Failed to resolve installed pip version. ``pip`` will be added to conda.yaml environment spec without a version specifier.\n",
      "Downloading artifacts: 100%|██████████| 7/7 [00:00<00:00, 403.18it/s]\n"
     ]
    },
    {
     "name": "stdout",
     "output_type": "stream",
     "text": [
      "🏃 View run carefree-turtle-269 at: http://127.0.0.1:5000/#/experiments/5/runs/f3436ed7be674fd9b791681ba0bae749\n",
      "🧪 View experiment at: http://127.0.0.1:5000/#/experiments/5\n"
     ]
    },
    {
     "name": "stderr",
     "output_type": "stream",
     "text": [
      "[I 2025-09-21 15:00:42,905] Trial 15 finished with value: 0.5629253453367401 and parameters: {'n_estimators': 73, 'max_depth': 30, 'min_samples_split': 8, 'min_samples_leaf': 2, 'max_features': None}. Best is trial 7 with value: 0.572157849790104.\n"
     ]
    },
    {
     "name": "stdout",
     "output_type": "stream",
     "text": [
      "🏃 View run 15 at: http://127.0.0.1:5000/#/experiments/5/runs/0d07d545c36f4bfaa8c84828e9532e91\n",
      "🧪 View experiment at: http://127.0.0.1:5000/#/experiments/5\n"
     ]
    },
    {
     "name": "stderr",
     "output_type": "stream",
     "text": [
      "2025/09/21 15:00:44 INFO mlflow.utils.autologging_utils: Created MLflow autologging run with ID '9c0a41995ff44d6fbc2164bd7181c6b9', which will track hyperparameters, performance metrics, model artifacts, and lineage information for the current sklearn workflow\n",
      "2025/09/21 15:00:45 WARNING mlflow.sklearn: Failed to log training dataset information to MLflow Tracking. Reason: 'Series' object has no attribute 'flatten'\n",
      "2025/09/21 15:00:52 WARNING mlflow.utils.environment: Failed to resolve installed pip version. ``pip`` will be added to conda.yaml environment spec without a version specifier.\n",
      "Downloading artifacts: 100%|██████████| 7/7 [00:00<00:00, 350.07it/s]\n"
     ]
    },
    {
     "name": "stdout",
     "output_type": "stream",
     "text": [
      "🏃 View run able-lark-745 at: http://127.0.0.1:5000/#/experiments/5/runs/9c0a41995ff44d6fbc2164bd7181c6b9\n",
      "🧪 View experiment at: http://127.0.0.1:5000/#/experiments/5\n"
     ]
    },
    {
     "name": "stderr",
     "output_type": "stream",
     "text": [
      "[I 2025-09-21 15:00:56,728] Trial 16 finished with value: 0.3829340359654741 and parameters: {'n_estimators': 117, 'max_depth': 13, 'min_samples_split': 7, 'min_samples_leaf': 1, 'max_features': 'sqrt'}. Best is trial 7 with value: 0.572157849790104.\n"
     ]
    },
    {
     "name": "stdout",
     "output_type": "stream",
     "text": [
      "🏃 View run 16 at: http://127.0.0.1:5000/#/experiments/5/runs/96e6b9d915dc47c29c96ec900a0e3b15\n",
      "🧪 View experiment at: http://127.0.0.1:5000/#/experiments/5\n"
     ]
    },
    {
     "name": "stderr",
     "output_type": "stream",
     "text": [
      "2025/09/21 15:00:58 INFO mlflow.utils.autologging_utils: Created MLflow autologging run with ID '7a891b1147124b069133fa19d68266ae', which will track hyperparameters, performance metrics, model artifacts, and lineage information for the current sklearn workflow\n",
      "2025/09/21 15:01:00 WARNING mlflow.sklearn: Failed to log training dataset information to MLflow Tracking. Reason: 'Series' object has no attribute 'flatten'\n",
      "2025/09/21 15:02:10 WARNING mlflow.utils.environment: Failed to resolve installed pip version. ``pip`` will be added to conda.yaml environment spec without a version specifier.\n",
      "Downloading artifacts: 100%|██████████| 7/7 [00:00<00:00, 473.69it/s]\n"
     ]
    },
    {
     "name": "stdout",
     "output_type": "stream",
     "text": [
      "🏃 View run upset-mole-585 at: http://127.0.0.1:5000/#/experiments/5/runs/7a891b1147124b069133fa19d68266ae\n",
      "🧪 View experiment at: http://127.0.0.1:5000/#/experiments/5\n"
     ]
    },
    {
     "name": "stderr",
     "output_type": "stream",
     "text": [
      "[I 2025-09-21 15:02:14,311] Trial 17 finished with value: 0.5534248321520057 and parameters: {'n_estimators': 85, 'max_depth': 25, 'min_samples_split': 9, 'min_samples_leaf': 2, 'max_features': None}. Best is trial 7 with value: 0.572157849790104.\n"
     ]
    },
    {
     "name": "stdout",
     "output_type": "stream",
     "text": [
      "🏃 View run 17 at: http://127.0.0.1:5000/#/experiments/5/runs/e31e727842604caa926614c417d2fa90\n",
      "🧪 View experiment at: http://127.0.0.1:5000/#/experiments/5\n"
     ]
    },
    {
     "name": "stderr",
     "output_type": "stream",
     "text": [
      "2025/09/21 15:02:15 INFO mlflow.utils.autologging_utils: Created MLflow autologging run with ID '28affc3b9f5442258271ff684c1fae0e', which will track hyperparameters, performance metrics, model artifacts, and lineage information for the current sklearn workflow\n",
      "2025/09/21 15:02:16 WARNING mlflow.sklearn: Failed to log training dataset information to MLflow Tracking. Reason: 'Series' object has no attribute 'flatten'\n",
      "2025/09/21 15:04:05 WARNING mlflow.utils.environment: Failed to resolve installed pip version. ``pip`` will be added to conda.yaml environment spec without a version specifier.\n",
      "Downloading artifacts: 100%|██████████| 7/7 [00:00<00:00, 326.85it/s] \n"
     ]
    },
    {
     "name": "stdout",
     "output_type": "stream",
     "text": [
      "🏃 View run honorable-cow-148 at: http://127.0.0.1:5000/#/experiments/5/runs/28affc3b9f5442258271ff684c1fae0e\n",
      "🧪 View experiment at: http://127.0.0.1:5000/#/experiments/5\n"
     ]
    },
    {
     "name": "stderr",
     "output_type": "stream",
     "text": [
      "[I 2025-09-21 15:04:09,784] Trial 18 finished with value: 0.5720560341283105 and parameters: {'n_estimators': 133, 'max_depth': 28, 'min_samples_split': 5, 'min_samples_leaf': 1, 'max_features': None}. Best is trial 7 with value: 0.572157849790104.\n"
     ]
    },
    {
     "name": "stdout",
     "output_type": "stream",
     "text": [
      "🏃 View run 18 at: http://127.0.0.1:5000/#/experiments/5/runs/6bcaff6618a14096ba4dff341e7cefda\n",
      "🧪 View experiment at: http://127.0.0.1:5000/#/experiments/5\n"
     ]
    },
    {
     "name": "stderr",
     "output_type": "stream",
     "text": [
      "2025/09/21 15:04:11 INFO mlflow.utils.autologging_utils: Created MLflow autologging run with ID 'f4d4b727ff9e44308ef1255e64ace5e0', which will track hyperparameters, performance metrics, model artifacts, and lineage information for the current sklearn workflow\n",
      "2025/09/21 15:04:12 WARNING mlflow.sklearn: Failed to log training dataset information to MLflow Tracking. Reason: 'Series' object has no attribute 'flatten'\n",
      "2025/09/21 15:04:18 WARNING mlflow.utils.environment: Failed to resolve installed pip version. ``pip`` will be added to conda.yaml environment spec without a version specifier.\n",
      "Downloading artifacts: 100%|██████████| 7/7 [00:00<00:00, 289.14it/s]\n"
     ]
    },
    {
     "name": "stdout",
     "output_type": "stream",
     "text": [
      "🏃 View run amusing-ray-706 at: http://127.0.0.1:5000/#/experiments/5/runs/f4d4b727ff9e44308ef1255e64ace5e0\n",
      "🧪 View experiment at: http://127.0.0.1:5000/#/experiments/5\n"
     ]
    },
    {
     "name": "stderr",
     "output_type": "stream",
     "text": [
      "[I 2025-09-21 15:04:24,252] Trial 19 finished with value: 0.5030024723018873 and parameters: {'n_estimators': 170, 'max_depth': 23, 'min_samples_split': 5, 'min_samples_leaf': 1, 'max_features': 'sqrt'}. Best is trial 7 with value: 0.572157849790104.\n"
     ]
    },
    {
     "name": "stdout",
     "output_type": "stream",
     "text": [
      "🏃 View run 19 at: http://127.0.0.1:5000/#/experiments/5/runs/ca1274b968e0443d800d6e4474527047\n",
      "🧪 View experiment at: http://127.0.0.1:5000/#/experiments/5\n"
     ]
    },
    {
     "name": "stderr",
     "output_type": "stream",
     "text": [
      "2025/09/21 15:04:25 INFO mlflow.utils.autologging_utils: Created MLflow autologging run with ID 'a8d496d766574bf1af4a89a5205d1f86', which will track hyperparameters, performance metrics, model artifacts, and lineage information for the current sklearn workflow\n",
      "2025/09/21 15:04:26 WARNING mlflow.sklearn: Failed to log training dataset information to MLflow Tracking. Reason: 'Series' object has no attribute 'flatten'\n",
      "2025/09/21 15:05:59 WARNING mlflow.utils.environment: Failed to resolve installed pip version. ``pip`` will be added to conda.yaml environment spec without a version specifier.\n",
      "Downloading artifacts: 100%|██████████| 7/7 [00:00<00:00, 335.66it/s] \n"
     ]
    },
    {
     "name": "stdout",
     "output_type": "stream",
     "text": [
      "🏃 View run bald-newt-497 at: http://127.0.0.1:5000/#/experiments/5/runs/a8d496d766574bf1af4a89a5205d1f86\n",
      "🧪 View experiment at: http://127.0.0.1:5000/#/experiments/5\n"
     ]
    },
    {
     "name": "stderr",
     "output_type": "stream",
     "text": [
      "[I 2025-09-21 15:06:05,058] Trial 20 finished with value: 0.5594363816631875 and parameters: {'n_estimators': 130, 'max_depth': 27, 'min_samples_split': 5, 'min_samples_leaf': 4, 'max_features': None}. Best is trial 7 with value: 0.572157849790104.\n"
     ]
    },
    {
     "name": "stdout",
     "output_type": "stream",
     "text": [
      "🏃 View run 20 at: http://127.0.0.1:5000/#/experiments/5/runs/46db94f2eb7240079ca5d1977c642111\n",
      "🧪 View experiment at: http://127.0.0.1:5000/#/experiments/5\n"
     ]
    },
    {
     "name": "stderr",
     "output_type": "stream",
     "text": [
      "2025/09/21 15:06:07 INFO mlflow.utils.autologging_utils: Created MLflow autologging run with ID 'b6354ebbac084a12a17f559232e8688a', which will track hyperparameters, performance metrics, model artifacts, and lineage information for the current sklearn workflow\n",
      "2025/09/21 15:06:09 WARNING mlflow.sklearn: Failed to log training dataset information to MLflow Tracking. Reason: 'Series' object has no attribute 'flatten'\n",
      "2025/09/21 15:07:51 WARNING mlflow.utils.environment: Failed to resolve installed pip version. ``pip`` will be added to conda.yaml environment spec without a version specifier.\n",
      "Downloading artifacts: 100%|██████████| 7/7 [00:00<00:00, 434.60it/s] \n"
     ]
    },
    {
     "name": "stdout",
     "output_type": "stream",
     "text": [
      "🏃 View run enthused-mare-721 at: http://127.0.0.1:5000/#/experiments/5/runs/b6354ebbac084a12a17f559232e8688a\n",
      "🧪 View experiment at: http://127.0.0.1:5000/#/experiments/5\n"
     ]
    },
    {
     "name": "stderr",
     "output_type": "stream",
     "text": [
      "[I 2025-09-21 15:07:57,135] Trial 21 finished with value: 0.5756149387497195 and parameters: {'n_estimators': 118, 'max_depth': 30, 'min_samples_split': 7, 'min_samples_leaf': 1, 'max_features': None}. Best is trial 21 with value: 0.5756149387497195.\n"
     ]
    },
    {
     "name": "stdout",
     "output_type": "stream",
     "text": [
      "🏃 View run 21 at: http://127.0.0.1:5000/#/experiments/5/runs/a642341e4be44b1c940a8ceec2b78f5d\n",
      "🧪 View experiment at: http://127.0.0.1:5000/#/experiments/5\n"
     ]
    },
    {
     "name": "stderr",
     "output_type": "stream",
     "text": [
      "2025/09/21 15:07:58 INFO mlflow.utils.autologging_utils: Created MLflow autologging run with ID 'b0b43ce0c21041d3b63821494920383e', which will track hyperparameters, performance metrics, model artifacts, and lineage information for the current sklearn workflow\n",
      "2025/09/21 15:08:00 WARNING mlflow.sklearn: Failed to log training dataset information to MLflow Tracking. Reason: 'Series' object has no attribute 'flatten'\n",
      "2025/09/21 15:09:52 WARNING mlflow.utils.environment: Failed to resolve installed pip version. ``pip`` will be added to conda.yaml environment spec without a version specifier.\n",
      "Downloading artifacts: 100%|██████████| 7/7 [00:00<00:00, 223.18it/s]\n"
     ]
    },
    {
     "name": "stdout",
     "output_type": "stream",
     "text": [
      "🏃 View run nervous-skink-973 at: http://127.0.0.1:5000/#/experiments/5/runs/b0b43ce0c21041d3b63821494920383e\n",
      "🧪 View experiment at: http://127.0.0.1:5000/#/experiments/5\n"
     ]
    },
    {
     "name": "stderr",
     "output_type": "stream",
     "text": [
      "[I 2025-09-21 15:09:58,113] Trial 22 finished with value: 0.5714638250927345 and parameters: {'n_estimators': 137, 'max_depth': 28, 'min_samples_split': 7, 'min_samples_leaf': 1, 'max_features': None}. Best is trial 21 with value: 0.5756149387497195.\n"
     ]
    },
    {
     "name": "stdout",
     "output_type": "stream",
     "text": [
      "🏃 View run 22 at: http://127.0.0.1:5000/#/experiments/5/runs/05f31333ae9f463db70e45d955b846cc\n",
      "🧪 View experiment at: http://127.0.0.1:5000/#/experiments/5\n"
     ]
    },
    {
     "name": "stderr",
     "output_type": "stream",
     "text": [
      "2025/09/21 15:09:59 INFO mlflow.utils.autologging_utils: Created MLflow autologging run with ID '712c86968aa440879736528b2babb1fd', which will track hyperparameters, performance metrics, model artifacts, and lineage information for the current sklearn workflow\n",
      "2025/09/21 15:10:01 WARNING mlflow.sklearn: Failed to log training dataset information to MLflow Tracking. Reason: 'Series' object has no attribute 'flatten'\n",
      "2025/09/21 15:11:41 WARNING mlflow.utils.environment: Failed to resolve installed pip version. ``pip`` will be added to conda.yaml environment spec without a version specifier.\n",
      "Downloading artifacts: 100%|██████████| 7/7 [00:00<00:00, 294.28it/s]\n"
     ]
    },
    {
     "name": "stdout",
     "output_type": "stream",
     "text": [
      "🏃 View run monumental-shad-778 at: http://127.0.0.1:5000/#/experiments/5/runs/712c86968aa440879736528b2babb1fd\n",
      "🧪 View experiment at: http://127.0.0.1:5000/#/experiments/5\n"
     ]
    },
    {
     "name": "stderr",
     "output_type": "stream",
     "text": [
      "[I 2025-09-21 15:11:46,396] Trial 23 finished with value: 0.5748817191643774 and parameters: {'n_estimators': 119, 'max_depth': 28, 'min_samples_split': 6, 'min_samples_leaf': 1, 'max_features': None}. Best is trial 21 with value: 0.5756149387497195.\n"
     ]
    },
    {
     "name": "stdout",
     "output_type": "stream",
     "text": [
      "🏃 View run 23 at: http://127.0.0.1:5000/#/experiments/5/runs/d3d039a5e8c6414fbe54506461ad732c\n",
      "🧪 View experiment at: http://127.0.0.1:5000/#/experiments/5\n"
     ]
    },
    {
     "name": "stderr",
     "output_type": "stream",
     "text": [
      "2025/09/21 15:11:48 INFO mlflow.utils.autologging_utils: Created MLflow autologging run with ID '5138d3b387a842ea891f331268fe40cf', which will track hyperparameters, performance metrics, model artifacts, and lineage information for the current sklearn workflow\n",
      "2025/09/21 15:11:49 WARNING mlflow.sklearn: Failed to log training dataset information to MLflow Tracking. Reason: 'Series' object has no attribute 'flatten'\n",
      "2025/09/21 15:13:29 WARNING mlflow.utils.environment: Failed to resolve installed pip version. ``pip`` will be added to conda.yaml environment spec without a version specifier.\n",
      "Downloading artifacts: 100%|██████████| 7/7 [00:00<00:00, 279.22it/s]\n"
     ]
    },
    {
     "name": "stdout",
     "output_type": "stream",
     "text": [
      "🏃 View run traveling-snail-688 at: http://127.0.0.1:5000/#/experiments/5/runs/5138d3b387a842ea891f331268fe40cf\n",
      "🧪 View experiment at: http://127.0.0.1:5000/#/experiments/5\n"
     ]
    },
    {
     "name": "stderr",
     "output_type": "stream",
     "text": [
      "[I 2025-09-21 15:13:34,586] Trial 24 finished with value: 0.5761364322204333 and parameters: {'n_estimators': 112, 'max_depth': 30, 'min_samples_split': 6, 'min_samples_leaf': 1, 'max_features': None}. Best is trial 24 with value: 0.5761364322204333.\n"
     ]
    },
    {
     "name": "stdout",
     "output_type": "stream",
     "text": [
      "🏃 View run 24 at: http://127.0.0.1:5000/#/experiments/5/runs/1c59b8abe4514b9eb16ed0e365e8e2c2\n",
      "🧪 View experiment at: http://127.0.0.1:5000/#/experiments/5\n"
     ]
    },
    {
     "name": "stderr",
     "output_type": "stream",
     "text": [
      "2025/09/21 15:13:36 INFO mlflow.utils.autologging_utils: Created MLflow autologging run with ID '04e37b4f1dc24c7ea40d64409a84d431', which will track hyperparameters, performance metrics, model artifacts, and lineage information for the current sklearn workflow\n",
      "2025/09/21 15:13:37 WARNING mlflow.sklearn: Failed to log training dataset information to MLflow Tracking. Reason: 'Series' object has no attribute 'flatten'\n",
      "2025/09/21 15:14:24 WARNING mlflow.utils.environment: Failed to resolve installed pip version. ``pip`` will be added to conda.yaml environment spec without a version specifier.\n",
      "Downloading artifacts: 100%|██████████| 7/7 [00:00<00:00, 445.00it/s]\n"
     ]
    },
    {
     "name": "stdout",
     "output_type": "stream",
     "text": [
      "🏃 View run indecisive-slug-718 at: http://127.0.0.1:5000/#/experiments/5/runs/04e37b4f1dc24c7ea40d64409a84d431\n",
      "🧪 View experiment at: http://127.0.0.1:5000/#/experiments/5\n"
     ]
    },
    {
     "name": "stderr",
     "output_type": "stream",
     "text": [
      "[I 2025-09-21 15:14:28,817] Trial 25 finished with value: 0.5448854388011539 and parameters: {'n_estimators': 84, 'max_depth': 16, 'min_samples_split': 7, 'min_samples_leaf': 2, 'max_features': None}. Best is trial 24 with value: 0.5761364322204333.\n"
     ]
    },
    {
     "name": "stdout",
     "output_type": "stream",
     "text": [
      "🏃 View run 25 at: http://127.0.0.1:5000/#/experiments/5/runs/acdf1c41f46c4ca9b7885c0348416447\n",
      "🧪 View experiment at: http://127.0.0.1:5000/#/experiments/5\n"
     ]
    },
    {
     "name": "stderr",
     "output_type": "stream",
     "text": [
      "2025/09/21 15:14:30 INFO mlflow.utils.autologging_utils: Created MLflow autologging run with ID '85b601cb3ed34191b80a94d975ef186a', which will track hyperparameters, performance metrics, model artifacts, and lineage information for the current sklearn workflow\n",
      "2025/09/21 15:14:31 WARNING mlflow.sklearn: Failed to log training dataset information to MLflow Tracking. Reason: 'Series' object has no attribute 'flatten'\n",
      "2025/09/21 15:15:58 WARNING mlflow.utils.environment: Failed to resolve installed pip version. ``pip`` will be added to conda.yaml environment spec without a version specifier.\n",
      "Downloading artifacts: 100%|██████████| 7/7 [00:00<00:00, 303.03it/s]\n"
     ]
    },
    {
     "name": "stdout",
     "output_type": "stream",
     "text": [
      "🏃 View run blushing-lark-183 at: http://127.0.0.1:5000/#/experiments/5/runs/85b601cb3ed34191b80a94d975ef186a\n",
      "🧪 View experiment at: http://127.0.0.1:5000/#/experiments/5\n"
     ]
    },
    {
     "name": "stderr",
     "output_type": "stream",
     "text": [
      "[I 2025-09-21 15:16:03,216] Trial 26 finished with value: 0.5732368955658083 and parameters: {'n_estimators': 111, 'max_depth': 24, 'min_samples_split': 4, 'min_samples_leaf': 1, 'max_features': None}. Best is trial 24 with value: 0.5761364322204333.\n"
     ]
    },
    {
     "name": "stdout",
     "output_type": "stream",
     "text": [
      "🏃 View run 26 at: http://127.0.0.1:5000/#/experiments/5/runs/88476197b04944d89b18b7b0bd3354ad\n",
      "🧪 View experiment at: http://127.0.0.1:5000/#/experiments/5\n"
     ]
    },
    {
     "name": "stderr",
     "output_type": "stream",
     "text": [
      "2025/09/21 15:16:04 INFO mlflow.utils.autologging_utils: Created MLflow autologging run with ID 'ea3b22907c524b5a91ab43af59029736', which will track hyperparameters, performance metrics, model artifacts, and lineage information for the current sklearn workflow\n",
      "2025/09/21 15:16:05 WARNING mlflow.sklearn: Failed to log training dataset information to MLflow Tracking. Reason: 'Series' object has no attribute 'flatten'\n",
      "2025/09/21 15:16:58 WARNING mlflow.utils.environment: Failed to resolve installed pip version. ``pip`` will be added to conda.yaml environment spec without a version specifier.\n",
      "Downloading artifacts: 100%|██████████| 7/7 [00:00<00:00, 434.50it/s] \n"
     ]
    },
    {
     "name": "stdout",
     "output_type": "stream",
     "text": [
      "🏃 View run dazzling-ape-661 at: http://127.0.0.1:5000/#/experiments/5/runs/ea3b22907c524b5a91ab43af59029736\n",
      "🧪 View experiment at: http://127.0.0.1:5000/#/experiments/5\n"
     ]
    },
    {
     "name": "stderr",
     "output_type": "stream",
     "text": [
      "[I 2025-09-21 15:17:02,682] Trial 27 finished with value: 0.5590818990233555 and parameters: {'n_estimators': 63, 'max_depth': 28, 'min_samples_split': 6, 'min_samples_leaf': 2, 'max_features': None}. Best is trial 24 with value: 0.5761364322204333.\n"
     ]
    },
    {
     "name": "stdout",
     "output_type": "stream",
     "text": [
      "🏃 View run 27 at: http://127.0.0.1:5000/#/experiments/5/runs/5ea0fbf9cb9b48df88df9e3f3870c1e9\n",
      "🧪 View experiment at: http://127.0.0.1:5000/#/experiments/5\n"
     ]
    },
    {
     "name": "stderr",
     "output_type": "stream",
     "text": [
      "2025/09/21 15:17:04 INFO mlflow.utils.autologging_utils: Created MLflow autologging run with ID '1d7b1cce33034be886d34047f029644f', which will track hyperparameters, performance metrics, model artifacts, and lineage information for the current sklearn workflow\n",
      "2025/09/21 15:17:05 WARNING mlflow.sklearn: Failed to log training dataset information to MLflow Tracking. Reason: 'Series' object has no attribute 'flatten'\n",
      "2025/09/21 15:17:12 WARNING mlflow.utils.environment: Failed to resolve installed pip version. ``pip`` will be added to conda.yaml environment spec without a version specifier.\n",
      "Downloading artifacts: 100%|██████████| 7/7 [00:00<00:00, 334.81it/s]\n"
     ]
    },
    {
     "name": "stdout",
     "output_type": "stream",
     "text": [
      "🏃 View run marvelous-bug-938 at: http://127.0.0.1:5000/#/experiments/5/runs/1d7b1cce33034be886d34047f029644f\n",
      "🧪 View experiment at: http://127.0.0.1:5000/#/experiments/5\n"
     ]
    },
    {
     "name": "stderr",
     "output_type": "stream",
     "text": [
      "[I 2025-09-21 15:17:17,213] Trial 28 finished with value: 0.525910592934587 and parameters: {'n_estimators': 96, 'max_depth': 26, 'min_samples_split': 6, 'min_samples_leaf': 1, 'max_features': 'sqrt'}. Best is trial 24 with value: 0.5761364322204333.\n"
     ]
    },
    {
     "name": "stdout",
     "output_type": "stream",
     "text": [
      "🏃 View run 28 at: http://127.0.0.1:5000/#/experiments/5/runs/a34b999bac19478f82047757189bd94b\n",
      "🧪 View experiment at: http://127.0.0.1:5000/#/experiments/5\n"
     ]
    },
    {
     "name": "stderr",
     "output_type": "stream",
     "text": [
      "2025/09/21 15:17:18 INFO mlflow.utils.autologging_utils: Created MLflow autologging run with ID '3dcd45834ade4be8919f8db91cb2b796', which will track hyperparameters, performance metrics, model artifacts, and lineage information for the current sklearn workflow\n",
      "2025/09/21 15:17:19 WARNING mlflow.sklearn: Failed to log training dataset information to MLflow Tracking. Reason: 'Series' object has no attribute 'flatten'\n",
      "2025/09/21 15:17:25 WARNING mlflow.utils.environment: Failed to resolve installed pip version. ``pip`` will be added to conda.yaml environment spec without a version specifier.\n",
      "Downloading artifacts: 100%|██████████| 7/7 [00:00<00:00, 379.88it/s]\n"
     ]
    },
    {
     "name": "stdout",
     "output_type": "stream",
     "text": [
      "🏃 View run secretive-finch-894 at: http://127.0.0.1:5000/#/experiments/5/runs/3dcd45834ade4be8919f8db91cb2b796\n",
      "🧪 View experiment at: http://127.0.0.1:5000/#/experiments/5\n"
     ]
    },
    {
     "name": "stderr",
     "output_type": "stream",
     "text": [
      "[I 2025-09-21 15:17:29,678] Trial 29 finished with value: 0.2036487333799835 and parameters: {'n_estimators': 103, 'max_depth': 28, 'min_samples_split': 4, 'min_samples_leaf': 2, 'max_features': 'log2'}. Best is trial 24 with value: 0.5761364322204333.\n"
     ]
    },
    {
     "name": "stdout",
     "output_type": "stream",
     "text": [
      "🏃 View run 29 at: http://127.0.0.1:5000/#/experiments/5/runs/f98149b926c148949072c4c919171c3f\n",
      "🧪 View experiment at: http://127.0.0.1:5000/#/experiments/5\n",
      "\n",
      "Optimization complete!\n",
      "Best f1: 0.5761\n",
      "Best parameters: {'n_estimators': 112, 'max_depth': 30, 'min_samples_split': 6, 'min_samples_leaf': 1, 'max_features': None}\n"
     ]
    },
    {
     "name": "stderr",
     "output_type": "stream",
     "text": [
      "2025/09/21 15:17:33 WARNING mlflow.sklearn: Failed to log training dataset information to MLflow Tracking. Reason: 'Series' object has no attribute 'flatten'\n",
      "2025/09/21 15:19:07 WARNING mlflow.utils.environment: Failed to resolve installed pip version. ``pip`` will be added to conda.yaml environment spec without a version specifier.\n",
      "Downloading artifacts: 100%|██████████| 7/7 [00:00<00:00, 276.66it/s]\n",
      "2025/09/21 15:19:14 WARNING mlflow.models.model: `artifact_path` is deprecated. Please use `name` instead.\n",
      "2025/09/21 15:19:20 WARNING mlflow.utils.environment: Failed to resolve installed pip version. ``pip`` will be added to conda.yaml environment spec without a version specifier.\n",
      "Downloading artifacts: 100%|██████████| 7/7 [00:00<00:00, 252.54it/s]\n",
      "2025/09/21 15:19:21 WARNING mlflow.models.model: Failed to validate serving input example {\n",
      "  \"dataframe_split\": {\n",
      "    \"columns\": [\n",
      "      \"c.... Alternatively, you can avoid passing input example and pass model signature instead when logging the model. To ensure the input example is valid prior to serving, please try calling `mlflow.models.validate_serving_input` on the model uri and serving input example. A serving input example can be generated from model input example using `mlflow.models.convert_input_example_to_serving_input` function.\n",
      "Got error: Invalid input. Data is not compatible with model signature. Failed to convert column concatenada to type 'float64'. Error: 'ValueError('could not convert string to float: \"[\\'psiquiatra\\', \\'ver\\', \\'necesitar\\', \\'medicamento\\', \\'psiquitrico\\', \\'necesitar\\', \\'seguimiento\\', \\'psiquiatra\\', \\'tomar\\', \\'gabapentín\\', \\'semana\\', \\'duro\\', \\'dolor\\', \\'cabezo\\', \\'alerta\\', \\'colaboradoro\\', \\'apariencia\\', \\'ordenado\\', \\'afecto\\', \\'apropiado\\', \\'orientado\\', \\'temporoespacialmente\\', \\'curso\\', \\'contenido\\', \\'pensamiento\\', \\'adecuado\\', \\'atencin\\', \\'concentracin\\', \\'adecuado\\', \\'tono\\', \\'ritmo\\', \\'voz\\', \\'adecuado\\', \\'evidencia\\', \\'alteracin\\', \\'memoria\\', \\'actividad\\', \\'motoro\\', \\'promedio\\', \\'presentar\\', \\'cognición\\', \\'ansiosa\\', \\'presentar\\', \\'cognición\\', \\'depresivo\\', \\'negar\\', \\'idea\\', \\'delirante\\', \\'negar\\', \\'muerte\\', \\'idea\\', \\'autoltica\\', \\'negar\\', \\'alteración\\', \\'sensoperceptiva\\', \\'haptico\\', \\'visual\\', \\'auditiva\\', \\'presentar\\', \\'alteración\\', \\'patrn\\', \\'sueño\\', \\'inicio\\', \\'mantenimiento\\', \\'finalizacin\\', \\'negar\\', \\'alteración\\', \\'conducto\\', \\'alimentario\\', \\'inteligencio\\', \\'impresionar\\', \\'promedio\\', \\'juicio\\', \\'raciocinio\\', \\'conservado\\', \\'introspeccin\\', \\'prospeccin\\', \\'construccin\\', \\'permear\\', \\'sentimiento\\', \\'desesperanzo\\', \\'minusvalo\\']\"')'\n"
     ]
    },
    {
     "name": "stdout",
     "output_type": "stream",
     "text": [
      "\n",
      "Best Model MLflow Run ID: 0b9142777e2c47f8bec5da5a1bc38664\n",
      "Tracking URI: http://127.0.0.1:5000\n",
      "Train Accuracy: 0.9857\n",
      "Test Accuracy: 0.5923\n",
      "🏃 View run best_model_RandomForestClassifier at: http://127.0.0.1:5000/#/experiments/5/runs/0b9142777e2c47f8bec5da5a1bc38664\n",
      "🧪 View experiment at: http://127.0.0.1:5000/#/experiments/5\n"
     ]
    }
   ],
   "source": [
    "from sklearn.ensemble import RandomForestClassifier\n",
    "\n",
    "experiment_name = \"nlp-RandomForest-optuna\"\n",
    "mlflow.set_tracking_uri(\"http://127.0.0.1:5000\")\n",
    "mlflow.set_experiment(experiment_name)\n",
    "\n",
    "# Define RandomForest parameter distributions\n",
    "param_distributions = {\n",
    "    'n_estimators': ('int', 50, 200),\n",
    "    'max_depth': ('int', 5, 30),\n",
    "    'min_samples_split': ('int', 2, 10),\n",
    "    'min_samples_leaf': ('int', 1, 5),\n",
    "    'max_features': ('categorical', ['sqrt', 'log2', None])\n",
    "}\n",
    "\n",
    "# Create trainer for RandomForest\n",
    "trainer = TrainMlflowOptuna(\n",
    "    df=df_final,\n",
    "    target_column=target_column,\n",
    "    model_class=RandomForestClassifier,\n",
    "    test_size=0.3,\n",
    "    n_trials=30,\n",
    "    optimization_metric='f1',  # Optimize for F1 score\n",
    "    param_distributions=param_distributions,\n",
    "    model_params={'random_state': 42, 'n_jobs': -1},\n",
    "    mlflow_setup = mlflow\n",
    ")\n",
    "\n",
    "# Run optimization\n",
    "best_pipeline, run_id, study = trainer.train()"
   ]
  },
  {
   "cell_type": "markdown",
   "id": "ed636a4e",
   "metadata": {},
   "source": [
    "## SVC con MLFLow + Optuna"
   ]
  },
  {
   "cell_type": "code",
   "execution_count": 8,
   "id": "5a2dddde",
   "metadata": {},
   "outputs": [
    {
     "name": "stderr",
     "output_type": "stream",
     "text": [
      "[I 2025-09-21 16:06:16,494] A new study created in memory with name: optuna_SVC\n"
     ]
    },
    {
     "name": "stdout",
     "output_type": "stream",
     "text": [
      "Starting Optuna optimization with 30 trials...\n",
      "Optimizing for: f1\n",
      "Model type: SVC\n"
     ]
    },
    {
     "name": "stderr",
     "output_type": "stream",
     "text": [
      "[I 2025-09-21 16:10:56,973] Trial 0 finished with value: 0.15667153203060377 and parameters: {'C': 0.0782712035827393, 'gamma': 0.07033640977484107}. Best is trial 0 with value: 0.15667153203060377.\n"
     ]
    },
    {
     "name": "stdout",
     "output_type": "stream",
     "text": [
      "🏃 View run 0 at: http://127.0.0.1:5000/#/experiments/7/runs/63b3bbdfcd2b4e9084454641216bd50d\n",
      "🧪 View experiment at: http://127.0.0.1:5000/#/experiments/7\n"
     ]
    },
    {
     "name": "stderr",
     "output_type": "stream",
     "text": [
      "[I 2025-09-21 16:15:50,331] Trial 1 finished with value: 0.15667153203060377 and parameters: {'C': 0.46116394103450953, 'gamma': 0.0013409119274927913}. Best is trial 0 with value: 0.15667153203060377.\n"
     ]
    },
    {
     "name": "stdout",
     "output_type": "stream",
     "text": [
      "🏃 View run 1 at: http://127.0.0.1:5000/#/experiments/7/runs/e2ae5a61a9ad41d9b248d0190ff1bdfd\n",
      "🧪 View experiment at: http://127.0.0.1:5000/#/experiments/7\n"
     ]
    },
    {
     "name": "stderr",
     "output_type": "stream",
     "text": [
      "[I 2025-09-21 16:20:58,268] Trial 2 finished with value: 0.15667153203060377 and parameters: {'C': 0.6119341706232586, 'gamma': 0.0013002069542150116}. Best is trial 0 with value: 0.15667153203060377.\n"
     ]
    },
    {
     "name": "stdout",
     "output_type": "stream",
     "text": [
      "🏃 View run 2 at: http://127.0.0.1:5000/#/experiments/7/runs/b7ff2051a6444b4194ddfaff77ad2d3f\n",
      "🧪 View experiment at: http://127.0.0.1:5000/#/experiments/7\n"
     ]
    },
    {
     "name": "stderr",
     "output_type": "stream",
     "text": [
      "[I 2025-09-21 16:26:15,464] Trial 3 finished with value: 0.4639281489851011 and parameters: {'C': 3.2909870220726294, 'gamma': 0.03273644457133481}. Best is trial 3 with value: 0.4639281489851011.\n"
     ]
    },
    {
     "name": "stdout",
     "output_type": "stream",
     "text": [
      "🏃 View run 3 at: http://127.0.0.1:5000/#/experiments/7/runs/147e4e5e63e245c3bd15616de57ad5ed\n",
      "🧪 View experiment at: http://127.0.0.1:5000/#/experiments/7\n"
     ]
    },
    {
     "name": "stderr",
     "output_type": "stream",
     "text": [
      "[I 2025-09-21 16:31:06,585] Trial 4 finished with value: 0.46098404323253633 and parameters: {'C': 0.526520464958849, 'gamma': 0.2902175137620512}. Best is trial 3 with value: 0.4639281489851011.\n"
     ]
    },
    {
     "name": "stdout",
     "output_type": "stream",
     "text": [
      "🏃 View run 4 at: http://127.0.0.1:5000/#/experiments/7/runs/7c6c6bfab4cf47cf89d38507eab0f2c2\n",
      "🧪 View experiment at: http://127.0.0.1:5000/#/experiments/7\n"
     ]
    },
    {
     "name": "stderr",
     "output_type": "stream",
     "text": [
      "[I 2025-09-21 16:35:37,492] Trial 5 finished with value: 0.15667153203060377 and parameters: {'C': 0.5824252337450812, 'gamma': 0.0011957195211677381}. Best is trial 3 with value: 0.4639281489851011.\n"
     ]
    },
    {
     "name": "stdout",
     "output_type": "stream",
     "text": [
      "🏃 View run 5 at: http://127.0.0.1:5000/#/experiments/7/runs/0bdb265630f44eaaa5d86541daea52bb\n",
      "🧪 View experiment at: http://127.0.0.1:5000/#/experiments/7\n"
     ]
    },
    {
     "name": "stderr",
     "output_type": "stream",
     "text": [
      "[I 2025-09-21 16:40:22,386] Trial 6 finished with value: 0.15667153203060377 and parameters: {'C': 0.22480293882448746, 'gamma': 0.0011310021749989627}. Best is trial 3 with value: 0.4639281489851011.\n"
     ]
    },
    {
     "name": "stdout",
     "output_type": "stream",
     "text": [
      "🏃 View run 6 at: http://127.0.0.1:5000/#/experiments/7/runs/dc1a8b3d033c4276a0a7f68178105781\n",
      "🧪 View experiment at: http://127.0.0.1:5000/#/experiments/7\n"
     ]
    },
    {
     "name": "stderr",
     "output_type": "stream",
     "text": [
      "[I 2025-09-21 16:45:11,011] Trial 7 finished with value: 0.1792502676348055 and parameters: {'C': 0.09555184056529434, 'gamma': 0.3448798587061795}. Best is trial 3 with value: 0.4639281489851011.\n"
     ]
    },
    {
     "name": "stdout",
     "output_type": "stream",
     "text": [
      "🏃 View run 7 at: http://127.0.0.1:5000/#/experiments/7/runs/a78db0422f8747e496b0bec3d117febf\n",
      "🧪 View experiment at: http://127.0.0.1:5000/#/experiments/7\n"
     ]
    },
    {
     "name": "stderr",
     "output_type": "stream",
     "text": [
      "[I 2025-09-21 16:49:50,237] Trial 8 finished with value: 0.6147732301302695 and parameters: {'C': 1.7502200200588784, 'gamma': 0.27227443399164425}. Best is trial 8 with value: 0.6147732301302695.\n"
     ]
    },
    {
     "name": "stdout",
     "output_type": "stream",
     "text": [
      "🏃 View run 8 at: http://127.0.0.1:5000/#/experiments/7/runs/bf2b5f29c30642a996abab0eadb1050b\n",
      "🧪 View experiment at: http://127.0.0.1:5000/#/experiments/7\n"
     ]
    },
    {
     "name": "stderr",
     "output_type": "stream",
     "text": [
      "[I 2025-09-21 16:54:33,296] Trial 9 finished with value: 0.15667153203060377 and parameters: {'C': 4.144579261113063, 'gamma': 0.00034842162209453405}. Best is trial 8 with value: 0.6147732301302695.\n"
     ]
    },
    {
     "name": "stdout",
     "output_type": "stream",
     "text": [
      "🏃 View run 9 at: http://127.0.0.1:5000/#/experiments/7/runs/acb19761c8d74f56894f0ac39f46cd1b\n",
      "🧪 View experiment at: http://127.0.0.1:5000/#/experiments/7\n"
     ]
    },
    {
     "name": "stderr",
     "output_type": "stream",
     "text": [
      "[I 2025-09-21 16:59:48,570] Trial 10 finished with value: 0.15667153203060377 and parameters: {'C': 0.012193556550254638, 'gamma': 0.7741818540570836}. Best is trial 8 with value: 0.6147732301302695.\n"
     ]
    },
    {
     "name": "stdout",
     "output_type": "stream",
     "text": [
      "🏃 View run 10 at: http://127.0.0.1:5000/#/experiments/7/runs/59ffba940a2248b19fe6a85c16a178cc\n",
      "🧪 View experiment at: http://127.0.0.1:5000/#/experiments/7\n"
     ]
    },
    {
     "name": "stderr",
     "output_type": "stream",
     "text": [
      "[I 2025-09-21 17:04:24,846] Trial 11 finished with value: 0.5335549245959503 and parameters: {'C': 6.206848618893682, 'gamma': 0.027531385601696035}. Best is trial 8 with value: 0.6147732301302695.\n"
     ]
    },
    {
     "name": "stdout",
     "output_type": "stream",
     "text": [
      "🏃 View run 11 at: http://127.0.0.1:5000/#/experiments/7/runs/9b7f3e1be3b94c2f8a815e2c615c595b\n",
      "🧪 View experiment at: http://127.0.0.1:5000/#/experiments/7\n"
     ]
    },
    {
     "name": "stderr",
     "output_type": "stream",
     "text": [
      "[I 2025-09-21 17:08:44,822] Trial 12 finished with value: 0.5042149321641372 and parameters: {'C': 9.647187913565817, 'gamma': 0.014129549627997659}. Best is trial 8 with value: 0.6147732301302695.\n"
     ]
    },
    {
     "name": "stdout",
     "output_type": "stream",
     "text": [
      "🏃 View run 12 at: http://127.0.0.1:5000/#/experiments/7/runs/11df2c67ab24447aaa824d94a6c4fa7c\n",
      "🧪 View experiment at: http://127.0.0.1:5000/#/experiments/7\n"
     ]
    },
    {
     "name": "stderr",
     "output_type": "stream",
     "text": [
      "[I 2025-09-21 17:13:54,198] Trial 13 finished with value: 0.551120172075309 and parameters: {'C': 2.2693697605697167, 'gamma': 0.09523093329725293}. Best is trial 8 with value: 0.6147732301302695.\n"
     ]
    },
    {
     "name": "stdout",
     "output_type": "stream",
     "text": [
      "🏃 View run 13 at: http://127.0.0.1:5000/#/experiments/7/runs/35bd60dd707b4c1797bdfc9cb2b884a8\n",
      "🧪 View experiment at: http://127.0.0.1:5000/#/experiments/7\n"
     ]
    },
    {
     "name": "stderr",
     "output_type": "stream",
     "text": [
      "[I 2025-09-21 17:18:35,792] Trial 14 finished with value: 0.552167841349036 and parameters: {'C': 1.825797833552735, 'gamma': 0.12243671589733417}. Best is trial 8 with value: 0.6147732301302695.\n"
     ]
    },
    {
     "name": "stdout",
     "output_type": "stream",
     "text": [
      "🏃 View run 14 at: http://127.0.0.1:5000/#/experiments/7/runs/35c8271617174eb793f412ffea274b0d\n",
      "🧪 View experiment at: http://127.0.0.1:5000/#/experiments/7\n"
     ]
    },
    {
     "name": "stderr",
     "output_type": "stream",
     "text": [
      "[I 2025-09-21 17:23:14,364] Trial 15 finished with value: 0.5742704551932483 and parameters: {'C': 1.5216236023036906, 'gamma': 0.18325927535509537}. Best is trial 8 with value: 0.6147732301302695.\n"
     ]
    },
    {
     "name": "stdout",
     "output_type": "stream",
     "text": [
      "🏃 View run 15 at: http://127.0.0.1:5000/#/experiments/7/runs/0354da955976402ca8f6ef640851fea0\n",
      "🧪 View experiment at: http://127.0.0.1:5000/#/experiments/7\n"
     ]
    },
    {
     "name": "stderr",
     "output_type": "stream",
     "text": [
      "[I 2025-09-21 17:28:56,855] Trial 16 finished with value: 0.635536509028253 and parameters: {'C': 1.225612707940866, 'gamma': 0.8745760071897692}. Best is trial 16 with value: 0.635536509028253.\n"
     ]
    },
    {
     "name": "stdout",
     "output_type": "stream",
     "text": [
      "🏃 View run 16 at: http://127.0.0.1:5000/#/experiments/7/runs/39700edfdd8d4a6195a7e7b7d124b17d\n",
      "🧪 View experiment at: http://127.0.0.1:5000/#/experiments/7\n"
     ]
    },
    {
     "name": "stderr",
     "output_type": "stream",
     "text": [
      "[I 2025-09-21 17:34:47,377] Trial 17 finished with value: 0.6331019752666869 and parameters: {'C': 1.1640148883995403, 'gamma': 0.9118960292783201}. Best is trial 16 with value: 0.635536509028253.\n"
     ]
    },
    {
     "name": "stdout",
     "output_type": "stream",
     "text": [
      "🏃 View run 17 at: http://127.0.0.1:5000/#/experiments/7/runs/566e5db75bb74e369d9925e2ee3e66de\n",
      "🧪 View experiment at: http://127.0.0.1:5000/#/experiments/7\n"
     ]
    },
    {
     "name": "stderr",
     "output_type": "stream",
     "text": [
      "[I 2025-09-21 17:39:52,103] Trial 18 finished with value: 0.2799347632586661 and parameters: {'C': 0.19833509774764932, 'gamma': 0.5723427316377118}. Best is trial 16 with value: 0.635536509028253.\n"
     ]
    },
    {
     "name": "stdout",
     "output_type": "stream",
     "text": [
      "🏃 View run 18 at: http://127.0.0.1:5000/#/experiments/7/runs/929beabcd2a3401e9710e3a69ed28650\n",
      "🧪 View experiment at: http://127.0.0.1:5000/#/experiments/7\n"
     ]
    },
    {
     "name": "stderr",
     "output_type": "stream",
     "text": [
      "[I 2025-09-21 17:44:43,512] Trial 19 finished with value: 0.15667153203060377 and parameters: {'C': 1.0930039153099802, 'gamma': 0.005799631139875246}. Best is trial 16 with value: 0.635536509028253.\n"
     ]
    },
    {
     "name": "stdout",
     "output_type": "stream",
     "text": [
      "🏃 View run 19 at: http://127.0.0.1:5000/#/experiments/7/runs/3197abffffa0400dace02ba84a136e6b\n",
      "🧪 View experiment at: http://127.0.0.1:5000/#/experiments/7\n"
     ]
    },
    {
     "name": "stderr",
     "output_type": "stream",
     "text": [
      "[I 2025-09-21 17:50:10,519] Trial 20 finished with value: 0.18768496808835755 and parameters: {'C': 0.08896636172596073, 'gamma': 0.7250316992014905}. Best is trial 16 with value: 0.635536509028253.\n"
     ]
    },
    {
     "name": "stdout",
     "output_type": "stream",
     "text": [
      "🏃 View run 20 at: http://127.0.0.1:5000/#/experiments/7/runs/a4799df7685e49b8968740118c41323e\n",
      "🧪 View experiment at: http://127.0.0.1:5000/#/experiments/7\n"
     ]
    },
    {
     "name": "stderr",
     "output_type": "stream",
     "text": [
      "[I 2025-09-21 17:55:41,277] Trial 21 finished with value: 0.6257886356718207 and parameters: {'C': 1.0558183456031411, 'gamma': 0.8541065352295298}. Best is trial 16 with value: 0.635536509028253.\n"
     ]
    },
    {
     "name": "stdout",
     "output_type": "stream",
     "text": [
      "🏃 View run 21 at: http://127.0.0.1:5000/#/experiments/7/runs/0de417f24b6844d7afa55df4a8fba577\n",
      "🧪 View experiment at: http://127.0.0.1:5000/#/experiments/7\n"
     ]
    },
    {
     "name": "stderr",
     "output_type": "stream",
     "text": [
      "[I 2025-09-21 18:01:40,053] Trial 22 finished with value: 0.6334491758362955 and parameters: {'C': 1.1608899465751628, 'gamma': 0.9461626072620085}. Best is trial 16 with value: 0.635536509028253.\n"
     ]
    },
    {
     "name": "stdout",
     "output_type": "stream",
     "text": [
      "🏃 View run 22 at: http://127.0.0.1:5000/#/experiments/7/runs/e2415555544742378d446125a46d52b0\n",
      "🧪 View experiment at: http://127.0.0.1:5000/#/experiments/7\n"
     ]
    },
    {
     "name": "stderr",
     "output_type": "stream",
     "text": [
      "[I 2025-09-21 18:07:21,073] Trial 23 finished with value: 0.6146511514668348 and parameters: {'C': 0.9400119687553614, 'gamma': 0.9610605673946491}. Best is trial 16 with value: 0.635536509028253.\n"
     ]
    },
    {
     "name": "stdout",
     "output_type": "stream",
     "text": [
      "🏃 View run 23 at: http://127.0.0.1:5000/#/experiments/7/runs/f401029506ca4e328270a88fba300817\n",
      "🧪 View experiment at: http://127.0.0.1:5000/#/experiments/7\n"
     ]
    },
    {
     "name": "stderr",
     "output_type": "stream",
     "text": [
      "[I 2025-09-21 18:12:40,417] Trial 24 finished with value: 0.15667153203060377 and parameters: {'C': 0.29896230174426086, 'gamma': 0.05729697841422835}. Best is trial 16 with value: 0.635536509028253.\n"
     ]
    },
    {
     "name": "stdout",
     "output_type": "stream",
     "text": [
      "🏃 View run 24 at: http://127.0.0.1:5000/#/experiments/7/runs/c67baa1f57d2441b899db3e0da6948ce\n",
      "🧪 View experiment at: http://127.0.0.1:5000/#/experiments/7\n"
     ]
    },
    {
     "name": "stderr",
     "output_type": "stream",
     "text": [
      "[I 2025-09-21 18:18:04,004] Trial 25 finished with value: 0.6576308911768486 and parameters: {'C': 4.336116556425875, 'gamma': 0.36639351641552664}. Best is trial 25 with value: 0.6576308911768486.\n"
     ]
    },
    {
     "name": "stdout",
     "output_type": "stream",
     "text": [
      "🏃 View run 25 at: http://127.0.0.1:5000/#/experiments/7/runs/573dbed893d04c3eba2e0812479cc0ae\n",
      "🧪 View experiment at: http://127.0.0.1:5000/#/experiments/7\n"
     ]
    },
    {
     "name": "stderr",
     "output_type": "stream",
     "text": [
      "[I 2025-09-21 18:23:48,196] Trial 26 finished with value: 0.6587562297350188 and parameters: {'C': 3.8026413797244305, 'gamma': 0.35151219284825047}. Best is trial 26 with value: 0.6587562297350188.\n"
     ]
    },
    {
     "name": "stdout",
     "output_type": "stream",
     "text": [
      "🏃 View run 26 at: http://127.0.0.1:5000/#/experiments/7/runs/f29432b383704f2ab1411f66b9668648\n",
      "🧪 View experiment at: http://127.0.0.1:5000/#/experiments/7\n"
     ]
    },
    {
     "name": "stderr",
     "output_type": "stream",
     "text": [
      "[I 2025-09-21 18:28:23,405] Trial 27 finished with value: 0.23400877402296605 and parameters: {'C': 4.59673910619687, 'gamma': 0.00744011305646882}. Best is trial 26 with value: 0.6587562297350188.\n"
     ]
    },
    {
     "name": "stdout",
     "output_type": "stream",
     "text": [
      "🏃 View run 27 at: http://127.0.0.1:5000/#/experiments/7/runs/c91ff68c8dd645baa748d28526b035e8\n",
      "🧪 View experiment at: http://127.0.0.1:5000/#/experiments/7\n"
     ]
    },
    {
     "name": "stderr",
     "output_type": "stream",
     "text": [
      "[I 2025-09-21 18:33:53,428] Trial 28 finished with value: 0.6479466815308927 and parameters: {'C': 9.619511527637144, 'gamma': 0.15230171821822744}. Best is trial 26 with value: 0.6587562297350188.\n"
     ]
    },
    {
     "name": "stdout",
     "output_type": "stream",
     "text": [
      "🏃 View run 28 at: http://127.0.0.1:5000/#/experiments/7/runs/89029437b1ff4ef1b2ba645b4f5e479e\n",
      "🧪 View experiment at: http://127.0.0.1:5000/#/experiments/7\n"
     ]
    },
    {
     "name": "stderr",
     "output_type": "stream",
     "text": [
      "[I 2025-09-21 18:37:54,506] Trial 29 finished with value: 0.6326434457285134 and parameters: {'C': 9.476729363788678, 'gamma': 0.058874845507113034}. Best is trial 26 with value: 0.6587562297350188.\n"
     ]
    },
    {
     "name": "stdout",
     "output_type": "stream",
     "text": [
      "🏃 View run 29 at: http://127.0.0.1:5000/#/experiments/7/runs/21323211f3b543d79da647784de8024f\n",
      "🧪 View experiment at: http://127.0.0.1:5000/#/experiments/7\n",
      "\n",
      "Optimization complete!\n",
      "Best f1: 0.6588\n",
      "Best parameters: {'C': 3.8026413797244305, 'gamma': 0.35151219284825047}\n"
     ]
    },
    {
     "name": "stderr",
     "output_type": "stream",
     "text": [
      "2025/09/21 18:44:47 WARNING mlflow.models.model: `artifact_path` is deprecated. Please use `name` instead.\n",
      "2025/09/21 18:44:53 WARNING mlflow.utils.environment: Failed to resolve installed pip version. ``pip`` will be added to conda.yaml environment spec without a version specifier.\n",
      "Downloading artifacts: 100%|██████████| 7/7 [00:00<00:00, 426.32it/s]\n",
      "2025/09/21 18:44:53 WARNING mlflow.models.model: Failed to validate serving input example {\n",
      "  \"dataframe_split\": {\n",
      "    \"columns\": [\n",
      "      \"c.... Alternatively, you can avoid passing input example and pass model signature instead when logging the model. To ensure the input example is valid prior to serving, please try calling `mlflow.models.validate_serving_input` on the model uri and serving input example. A serving input example can be generated from model input example using `mlflow.models.convert_input_example_to_serving_input` function.\n",
      "Got error: Invalid input. Data is not compatible with model signature. Failed to convert column concatenada to type 'float64'. Error: 'ValueError('could not convert string to float: \"[\\'psiquiatra\\', \\'ver\\', \\'necesitar\\', \\'medicamento\\', \\'psiquitrico\\', \\'necesitar\\', \\'seguimiento\\', \\'psiquiatra\\', \\'tomar\\', \\'gabapentín\\', \\'semana\\', \\'duro\\', \\'dolor\\', \\'cabezo\\', \\'alerta\\', \\'colaboradoro\\', \\'apariencia\\', \\'ordenado\\', \\'afecto\\', \\'apropiado\\', \\'orientado\\', \\'temporoespacialmente\\', \\'curso\\', \\'contenido\\', \\'pensamiento\\', \\'adecuado\\', \\'atencin\\', \\'concentracin\\', \\'adecuado\\', \\'tono\\', \\'ritmo\\', \\'voz\\', \\'adecuado\\', \\'evidencia\\', \\'alteracin\\', \\'memoria\\', \\'actividad\\', \\'motoro\\', \\'promedio\\', \\'presentar\\', \\'cognición\\', \\'ansiosa\\', \\'presentar\\', \\'cognición\\', \\'depresivo\\', \\'negar\\', \\'idea\\', \\'delirante\\', \\'negar\\', \\'muerte\\', \\'idea\\', \\'autoltica\\', \\'negar\\', \\'alteración\\', \\'sensoperceptiva\\', \\'haptico\\', \\'visual\\', \\'auditiva\\', \\'presentar\\', \\'alteración\\', \\'patrn\\', \\'sueño\\', \\'inicio\\', \\'mantenimiento\\', \\'finalizacin\\', \\'negar\\', \\'alteración\\', \\'conducto\\', \\'alimentario\\', \\'inteligencio\\', \\'impresionar\\', \\'promedio\\', \\'juicio\\', \\'raciocinio\\', \\'conservado\\', \\'introspeccin\\', \\'prospeccin\\', \\'construccin\\', \\'permear\\', \\'sentimiento\\', \\'desesperanzo\\', \\'minusvalo\\']\"')'\n"
     ]
    },
    {
     "name": "stdout",
     "output_type": "stream",
     "text": [
      "\n",
      "Best Model MLflow Run ID: 13d40a8983d945a5b99895ae69762cdb\n",
      "Tracking URI: http://127.0.0.1:5000\n",
      "Train Accuracy: 0.9703\n",
      "Test Accuracy: 0.6656\n",
      "🏃 View run best_model_SVC at: http://127.0.0.1:5000/#/experiments/7/runs/13d40a8983d945a5b99895ae69762cdb\n",
      "🧪 View experiment at: http://127.0.0.1:5000/#/experiments/7\n"
     ]
    }
   ],
   "source": [
    "from sklearn.svm import SVC\n",
    "\n",
    "experiment_name = \"nlp-SVC-optuna\"\n",
    "mlflow.set_tracking_uri(\"http://127.0.0.1:5000\")\n",
    "mlflow.set_experiment(experiment_name)\n",
    "\n",
    "# Define SVC parameter distributions for Optuna\n",
    "param_distributions = {\n",
    "    'C': ('float', 0.01, 10, True),  # log scale\n",
    "    'gamma': ('float', 1e-4, 1.0, True),  # log scale\n",
    "\n",
    "}\n",
    "\n",
    "target_column = \"grupo_codificado\"\n",
    "training_columns = [\"concatenada\", \"sexo_codificado\"]\n",
    "test_size = 0.3\n",
    "\n",
    "trainer = TrainMlflowOptuna(\n",
    "    df=df_final,\n",
    "    target_column=target_column,\n",
    "    model_class=SVC,\n",
    "    test_size=0.3,\n",
    "    n_trials=30,\n",
    "    optimization_metric='f1',\n",
    "    param_distributions=param_distributions,\n",
    "    model_params={'random_state': 42, 'probability': True},\n",
    "    mlflow_setup=mlflow\n",
    ")\n",
    "\n",
    "best_pipeline, run_id, study = trainer.train()\n"
   ]
  },
  {
   "cell_type": "code",
   "execution_count": 9,
   "id": "8a56c58b",
   "metadata": {},
   "outputs": [
    {
     "name": "stderr",
     "output_type": "stream",
     "text": [
      "2025/09/21 18:50:40 INFO mlflow.tracking.fluent: Experiment with name 'nlp-XGBC-optuna' does not exist. Creating a new experiment.\n",
      "[I 2025-09-21 18:50:40,539] A new study created in memory with name: optuna_XGBClassifier\n"
     ]
    },
    {
     "name": "stdout",
     "output_type": "stream",
     "text": [
      "Starting Optuna optimization with 20 trials...\n",
      "Optimizing for: f1\n",
      "Model type: XGBClassifier\n"
     ]
    },
    {
     "name": "stderr",
     "output_type": "stream",
     "text": [
      "[I 2025-09-21 18:51:57,174] Trial 0 finished with value: 0.5834686145942526 and parameters: {'n_estimators': 80, 'max_depth': 7}. Best is trial 0 with value: 0.5834686145942526.\n",
      "2025/09/21 18:51:57 INFO mlflow.tracking.fluent: Experiment with name 'optuna_XGBClassifier' does not exist. Creating a new experiment.\n"
     ]
    },
    {
     "name": "stdout",
     "output_type": "stream",
     "text": [
      "🏃 View run 0 at: http://127.0.0.1:5000/#/experiments/9/runs/d1d900cc4da4463eb0f672aa570eb54f\n",
      "🧪 View experiment at: http://127.0.0.1:5000/#/experiments/9\n"
     ]
    },
    {
     "name": "stderr",
     "output_type": "stream",
     "text": [
      "[I 2025-09-21 18:53:36,651] Trial 1 finished with value: 0.6001384070357436 and parameters: {'n_estimators': 136, 'max_depth': 6}. Best is trial 1 with value: 0.6001384070357436.\n"
     ]
    },
    {
     "name": "stdout",
     "output_type": "stream",
     "text": [
      "🏃 View run 1 at: http://127.0.0.1:5000/#/experiments/9/runs/024bc8f2c4d945f698aa4661ddc2d185\n",
      "🧪 View experiment at: http://127.0.0.1:5000/#/experiments/9\n"
     ]
    },
    {
     "name": "stderr",
     "output_type": "stream",
     "text": [
      "[I 2025-09-21 18:57:05,280] Trial 2 finished with value: 0.6006559375463131 and parameters: {'n_estimators': 71, 'max_depth': 15}. Best is trial 2 with value: 0.6006559375463131.\n"
     ]
    },
    {
     "name": "stdout",
     "output_type": "stream",
     "text": [
      "🏃 View run 2 at: http://127.0.0.1:5000/#/experiments/9/runs/52ad3016293d43898f2221f7ae743ba0\n",
      "🧪 View experiment at: http://127.0.0.1:5000/#/experiments/9\n"
     ]
    },
    {
     "name": "stderr",
     "output_type": "stream",
     "text": [
      "[I 2025-09-21 18:59:33,340] Trial 3 finished with value: 0.5940757382546461 and parameters: {'n_estimators': 50, 'max_depth': 13}. Best is trial 2 with value: 0.6006559375463131.\n"
     ]
    },
    {
     "name": "stdout",
     "output_type": "stream",
     "text": [
      "🏃 View run 3 at: http://127.0.0.1:5000/#/experiments/9/runs/19efc027233e40c8af4ac23e94baf0e4\n",
      "🧪 View experiment at: http://127.0.0.1:5000/#/experiments/9\n"
     ]
    },
    {
     "name": "stderr",
     "output_type": "stream",
     "text": [
      "[I 2025-09-21 19:01:40,769] Trial 4 finished with value: 0.6047401005724503 and parameters: {'n_estimators': 196, 'max_depth': 5}. Best is trial 4 with value: 0.6047401005724503.\n"
     ]
    },
    {
     "name": "stdout",
     "output_type": "stream",
     "text": [
      "🏃 View run 4 at: http://127.0.0.1:5000/#/experiments/9/runs/902440b650ac4a9abfae88c95a79d0ff\n",
      "🧪 View experiment at: http://127.0.0.1:5000/#/experiments/9\n"
     ]
    },
    {
     "name": "stderr",
     "output_type": "stream",
     "text": [
      "[I 2025-09-21 19:03:37,897] Trial 5 finished with value: 0.5893428699575489 and parameters: {'n_estimators': 88, 'max_depth': 8}. Best is trial 4 with value: 0.6047401005724503.\n"
     ]
    },
    {
     "name": "stdout",
     "output_type": "stream",
     "text": [
      "🏃 View run 5 at: http://127.0.0.1:5000/#/experiments/9/runs/9ff82dfe629f4fa1ae504bfe45d25058\n",
      "🧪 View experiment at: http://127.0.0.1:5000/#/experiments/9\n"
     ]
    },
    {
     "name": "stderr",
     "output_type": "stream",
     "text": [
      "[I 2025-09-21 19:07:27,235] Trial 6 finished with value: 0.606346084568267 and parameters: {'n_estimators': 106, 'max_depth': 15}. Best is trial 6 with value: 0.606346084568267.\n"
     ]
    },
    {
     "name": "stdout",
     "output_type": "stream",
     "text": [
      "🏃 View run 6 at: http://127.0.0.1:5000/#/experiments/9/runs/fed33d27f1ee4ef691b4793ed897316a\n",
      "🧪 View experiment at: http://127.0.0.1:5000/#/experiments/9\n"
     ]
    },
    {
     "name": "stderr",
     "output_type": "stream",
     "text": [
      "[I 2025-09-21 19:08:52,991] Trial 7 finished with value: 0.5889516731332656 and parameters: {'n_estimators': 91, 'max_depth': 5}. Best is trial 6 with value: 0.606346084568267.\n"
     ]
    },
    {
     "name": "stdout",
     "output_type": "stream",
     "text": [
      "🏃 View run 7 at: http://127.0.0.1:5000/#/experiments/9/runs/9bb2352912424f4abc5fcbd4dc1f8634\n",
      "🧪 View experiment at: http://127.0.0.1:5000/#/experiments/9\n"
     ]
    },
    {
     "name": "stderr",
     "output_type": "stream",
     "text": [
      "[I 2025-09-21 19:13:17,203] Trial 8 finished with value: 0.6119811691484995 and parameters: {'n_estimators': 183, 'max_depth': 12}. Best is trial 8 with value: 0.6119811691484995.\n"
     ]
    },
    {
     "name": "stdout",
     "output_type": "stream",
     "text": [
      "🏃 View run 8 at: http://127.0.0.1:5000/#/experiments/9/runs/6bf10d3c781e47bcb8b9293ad670d363\n",
      "🧪 View experiment at: http://127.0.0.1:5000/#/experiments/9\n"
     ]
    },
    {
     "name": "stderr",
     "output_type": "stream",
     "text": [
      "[I 2025-09-21 19:16:19,896] Trial 9 finished with value: 0.6041391468380927 and parameters: {'n_estimators': 153, 'max_depth': 9}. Best is trial 8 with value: 0.6119811691484995.\n"
     ]
    },
    {
     "name": "stdout",
     "output_type": "stream",
     "text": [
      "🏃 View run 9 at: http://127.0.0.1:5000/#/experiments/9/runs/6a5c04c2620c4fcea803f453bc280251\n",
      "🧪 View experiment at: http://127.0.0.1:5000/#/experiments/9\n"
     ]
    },
    {
     "name": "stderr",
     "output_type": "stream",
     "text": [
      "[I 2025-09-21 19:20:32,516] Trial 10 finished with value: 0.6083898639014419 and parameters: {'n_estimators': 188, 'max_depth': 11}. Best is trial 8 with value: 0.6119811691484995.\n"
     ]
    },
    {
     "name": "stdout",
     "output_type": "stream",
     "text": [
      "🏃 View run 10 at: http://127.0.0.1:5000/#/experiments/9/runs/1db2ab2b911644c982caf37b4f65aa95\n",
      "🧪 View experiment at: http://127.0.0.1:5000/#/experiments/9\n"
     ]
    },
    {
     "name": "stderr",
     "output_type": "stream",
     "text": [
      "[I 2025-09-21 19:24:55,895] Trial 11 finished with value: 0.6070318361634571 and parameters: {'n_estimators': 200, 'max_depth': 11}. Best is trial 8 with value: 0.6119811691484995.\n"
     ]
    },
    {
     "name": "stdout",
     "output_type": "stream",
     "text": [
      "🏃 View run 11 at: http://127.0.0.1:5000/#/experiments/9/runs/dabad5bbaec0413194c8b6899d3c646d\n",
      "🧪 View experiment at: http://127.0.0.1:5000/#/experiments/9\n"
     ]
    },
    {
     "name": "stderr",
     "output_type": "stream",
     "text": [
      "[I 2025-09-21 19:28:58,995] Trial 12 finished with value: 0.6075885948557831 and parameters: {'n_estimators': 170, 'max_depth': 11}. Best is trial 8 with value: 0.6119811691484995.\n"
     ]
    },
    {
     "name": "stdout",
     "output_type": "stream",
     "text": [
      "🏃 View run 12 at: http://127.0.0.1:5000/#/experiments/9/runs/cc3fa694bd4f450fb13d27124c0a66be\n",
      "🧪 View experiment at: http://127.0.0.1:5000/#/experiments/9\n"
     ]
    },
    {
     "name": "stderr",
     "output_type": "stream",
     "text": [
      "[I 2025-09-21 19:33:19,994] Trial 13 finished with value: 0.6063807527631684 and parameters: {'n_estimators': 174, 'max_depth': 11}. Best is trial 8 with value: 0.6119811691484995.\n"
     ]
    },
    {
     "name": "stdout",
     "output_type": "stream",
     "text": [
      "🏃 View run 13 at: http://127.0.0.1:5000/#/experiments/9/runs/26911a0a64ca44f09a23248588a289c6\n",
      "🧪 View experiment at: http://127.0.0.1:5000/#/experiments/9\n"
     ]
    },
    {
     "name": "stderr",
     "output_type": "stream",
     "text": [
      "[I 2025-09-21 19:38:02,572] Trial 14 finished with value: 0.6092144927060246 and parameters: {'n_estimators': 171, 'max_depth': 13}. Best is trial 8 with value: 0.6119811691484995.\n"
     ]
    },
    {
     "name": "stdout",
     "output_type": "stream",
     "text": [
      "🏃 View run 14 at: http://127.0.0.1:5000/#/experiments/9/runs/809f7385b60e421baf3d5fc93e9892ed\n",
      "🧪 View experiment at: http://127.0.0.1:5000/#/experiments/9\n"
     ]
    },
    {
     "name": "stderr",
     "output_type": "stream",
     "text": [
      "[I 2025-09-21 19:42:27,370] Trial 15 finished with value: 0.6025408989180908 and parameters: {'n_estimators': 146, 'max_depth': 13}. Best is trial 8 with value: 0.6119811691484995.\n"
     ]
    },
    {
     "name": "stdout",
     "output_type": "stream",
     "text": [
      "🏃 View run 15 at: http://127.0.0.1:5000/#/experiments/9/runs/894f3bd1a3aa430d91926e64d00e955c\n",
      "🧪 View experiment at: http://127.0.0.1:5000/#/experiments/9\n"
     ]
    },
    {
     "name": "stderr",
     "output_type": "stream",
     "text": [
      "[I 2025-09-21 19:43:18,234] Trial 16 finished with value: 0.5750711763270208 and parameters: {'n_estimators': 169, 'max_depth': 3}. Best is trial 8 with value: 0.6119811691484995.\n"
     ]
    },
    {
     "name": "stdout",
     "output_type": "stream",
     "text": [
      "🏃 View run 16 at: http://127.0.0.1:5000/#/experiments/9/runs/ea10a970fa1744508993c262f2b7b2f7\n",
      "🧪 View experiment at: http://127.0.0.1:5000/#/experiments/9\n"
     ]
    },
    {
     "name": "stderr",
     "output_type": "stream",
     "text": [
      "[I 2025-09-21 19:46:52,983] Trial 17 finished with value: 0.6025917859141116 and parameters: {'n_estimators': 119, 'max_depth': 13}. Best is trial 8 with value: 0.6119811691484995.\n"
     ]
    },
    {
     "name": "stdout",
     "output_type": "stream",
     "text": [
      "🏃 View run 17 at: http://127.0.0.1:5000/#/experiments/9/runs/d4cf0d9dc0d14af1bd67eb6dd227317c\n",
      "🧪 View experiment at: http://127.0.0.1:5000/#/experiments/9\n"
     ]
    },
    {
     "name": "stderr",
     "output_type": "stream",
     "text": [
      "[I 2025-09-21 19:51:29,034] Trial 18 finished with value: 0.6058925880770533 and parameters: {'n_estimators': 157, 'max_depth': 14}. Best is trial 8 with value: 0.6119811691484995.\n"
     ]
    },
    {
     "name": "stdout",
     "output_type": "stream",
     "text": [
      "🏃 View run 18 at: http://127.0.0.1:5000/#/experiments/9/runs/f858394d2306461d82b3e8efc49961d3\n",
      "🧪 View experiment at: http://127.0.0.1:5000/#/experiments/9\n"
     ]
    },
    {
     "name": "stderr",
     "output_type": "stream",
     "text": [
      "[I 2025-09-21 19:55:12,342] Trial 19 finished with value: 0.6055386725840102 and parameters: {'n_estimators': 181, 'max_depth': 10}. Best is trial 8 with value: 0.6119811691484995.\n"
     ]
    },
    {
     "name": "stdout",
     "output_type": "stream",
     "text": [
      "🏃 View run 19 at: http://127.0.0.1:5000/#/experiments/9/runs/23a42d52b9b64b9b9fadfa4560385a57\n",
      "🧪 View experiment at: http://127.0.0.1:5000/#/experiments/9\n",
      "\n",
      "Optimization complete!\n",
      "Best f1: 0.6120\n",
      "Best parameters: {'n_estimators': 183, 'max_depth': 12}\n"
     ]
    },
    {
     "name": "stderr",
     "output_type": "stream",
     "text": [
      "2025/09/21 19:59:33 WARNING mlflow.models.model: `artifact_path` is deprecated. Please use `name` instead.\n",
      "2025/09/21 19:59:39 WARNING mlflow.utils.environment: Failed to resolve installed pip version. ``pip`` will be added to conda.yaml environment spec without a version specifier.\n",
      "Downloading artifacts: 100%|██████████| 7/7 [00:00<00:00, 361.35it/s]\n",
      "2025/09/21 19:59:39 WARNING mlflow.models.model: Failed to validate serving input example {\n",
      "  \"dataframe_split\": {\n",
      "    \"columns\": [\n",
      "      \"c.... Alternatively, you can avoid passing input example and pass model signature instead when logging the model. To ensure the input example is valid prior to serving, please try calling `mlflow.models.validate_serving_input` on the model uri and serving input example. A serving input example can be generated from model input example using `mlflow.models.convert_input_example_to_serving_input` function.\n",
      "Got error: Invalid input. Data is not compatible with model signature. Failed to convert column concatenada to type 'float64'. Error: 'ValueError('could not convert string to float: \"[\\'psiquiatra\\', \\'ver\\', \\'necesitar\\', \\'medicamento\\', \\'psiquitrico\\', \\'necesitar\\', \\'seguimiento\\', \\'psiquiatra\\', \\'tomar\\', \\'gabapentín\\', \\'semana\\', \\'duro\\', \\'dolor\\', \\'cabezo\\', \\'alerta\\', \\'colaboradoro\\', \\'apariencia\\', \\'ordenado\\', \\'afecto\\', \\'apropiado\\', \\'orientado\\', \\'temporoespacialmente\\', \\'curso\\', \\'contenido\\', \\'pensamiento\\', \\'adecuado\\', \\'atencin\\', \\'concentracin\\', \\'adecuado\\', \\'tono\\', \\'ritmo\\', \\'voz\\', \\'adecuado\\', \\'evidencia\\', \\'alteracin\\', \\'memoria\\', \\'actividad\\', \\'motoro\\', \\'promedio\\', \\'presentar\\', \\'cognición\\', \\'ansiosa\\', \\'presentar\\', \\'cognición\\', \\'depresivo\\', \\'negar\\', \\'idea\\', \\'delirante\\', \\'negar\\', \\'muerte\\', \\'idea\\', \\'autoltica\\', \\'negar\\', \\'alteración\\', \\'sensoperceptiva\\', \\'haptico\\', \\'visual\\', \\'auditiva\\', \\'presentar\\', \\'alteración\\', \\'patrn\\', \\'sueño\\', \\'inicio\\', \\'mantenimiento\\', \\'finalizacin\\', \\'negar\\', \\'alteración\\', \\'conducto\\', \\'alimentario\\', \\'inteligencio\\', \\'impresionar\\', \\'promedio\\', \\'juicio\\', \\'raciocinio\\', \\'conservado\\', \\'introspeccin\\', \\'prospeccin\\', \\'construccin\\', \\'permear\\', \\'sentimiento\\', \\'desesperanzo\\', \\'minusvalo\\']\"')'\n"
     ]
    },
    {
     "name": "stdout",
     "output_type": "stream",
     "text": [
      "\n",
      "Best Model MLflow Run ID: 20057cb41afe40329bd1ea9aac701182\n",
      "Tracking URI: http://127.0.0.1:5000\n",
      "Train Accuracy: 0.9978\n",
      "Test Accuracy: 0.6215\n",
      "🏃 View run best_model_XGBClassifier at: http://127.0.0.1:5000/#/experiments/9/runs/20057cb41afe40329bd1ea9aac701182\n",
      "🧪 View experiment at: http://127.0.0.1:5000/#/experiments/9\n"
     ]
    }
   ],
   "source": [
    "from xgboost import XGBClassifier\n",
    "\n",
    "experiment_name = \"nlp-XGBC-optuna\"\n",
    "mlflow.set_tracking_uri(\"http://127.0.0.1:5000\")\n",
    "mlflow.set_experiment(experiment_name)\n",
    "\n",
    "# Define XGBClassifier parameter distributions for Optuna\n",
    "param_distributions = {\n",
    "    'n_estimators': ('int', 50, 200),\n",
    "    'max_depth': ('int', 3, 15)\n",
    "}\n",
    "\n",
    "trainer = TrainMlflowOptuna(\n",
    "    df=df_final,\n",
    "    target_column=target_column,\n",
    "    model_class=XGBClassifier,\n",
    "    test_size=test_size,\n",
    "    n_trials=20,\n",
    "    optimization_metric='f1',\n",
    "    param_distributions=param_distributions,\n",
    "    model_params={'random_state': 42, 'use_label_encoder': False, 'eval_metric': 'mlogloss'},\n",
    "    mlflow_setup=mlflow\n",
    ")\n",
    "\n",
    "best_pipeline, run_id, study = trainer.train()\n"
   ]
  }
 ],
 "metadata": {
  "kernelspec": {
   "display_name": "Proyecto_Final",
   "language": "python",
   "name": "python3"
  },
  "language_info": {
   "codemirror_mode": {
    "name": "ipython",
    "version": 3
   },
   "file_extension": ".py",
   "mimetype": "text/x-python",
   "name": "python",
   "nbconvert_exporter": "python",
   "pygments_lexer": "ipython3",
   "version": "3.11.9"
  }
 },
 "nbformat": 4,
 "nbformat_minor": 5
}
