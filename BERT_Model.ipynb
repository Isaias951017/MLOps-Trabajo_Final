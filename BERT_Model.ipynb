{
  "cells": [
    {
      "cell_type": "code",
      "execution_count": 1,
      "id": "7b415d35",
      "metadata": {
        "id": "7b415d35"
      },
      "outputs": [
        {
          "name": "stderr",
          "output_type": "stream",
          "text": [
            "c:\\Users\\jhoan\\Documents\\BERT_Model\\BERT_NLP\\.venv\\lib\\site-packages\\tqdm\\auto.py:21: TqdmWarning: IProgress not found. Please update jupyter and ipywidgets. See https://ipywidgets.readthedocs.io/en/stable/user_install.html\n",
            "  from .autonotebook import tqdm as notebook_tqdm\n"
          ]
        }
      ],
      "source": [
        "from transformers import BertModel, BertTokenizer, AdamWeightDecay, get_linear_schedule_with_warmup\n",
        "import torch\n",
        "import numpy as np\n",
        "from sklearn.model_selection import train_test_split\n",
        "from torch import nn, optim\n",
        "from torch.utils.data import DataLoader, Dataset\n",
        "import pandas as pd\n",
        "from textwrap import wrap"
      ]
    },
    {
      "cell_type": "code",
      "execution_count": 2,
      "id": "91217330",
      "metadata": {
        "colab": {
          "base_uri": "https://localhost:8080/"
        },
        "id": "91217330",
        "outputId": "9f2a156b-3344-4c0e-e70d-f47459da869a"
      },
      "outputs": [
        {
          "name": "stdout",
          "output_type": "stream",
          "text": [
            "Using device: cuda:0\n"
          ]
        }
      ],
      "source": [
        "# Inicialization of the BERT model\n",
        "RANDOM_SEED = 42\n",
        "MAX_LEN = 200\n",
        "BATCH_SIZE = 16\n",
        "DATASET_PATH = \"historias_clinicas_procesadas.xlsx\"\n",
        "NCLASS = 6\n",
        "\n",
        "np.random.seed(RANDOM_SEED)\n",
        "torch.manual_seed(RANDOM_SEED)\n",
        "device = torch.device(\"cuda:0\" if torch.cuda.is_available() else \"cpu\")\n",
        "print(f\"Using device: {device}\")"
      ]
    },
    {
      "cell_type": "code",
      "execution_count": 3,
      "id": "132a2098",
      "metadata": {},
      "outputs": [
        {
          "data": {
            "text/plain": [
              "True"
            ]
          },
          "execution_count": 3,
          "metadata": {},
          "output_type": "execute_result"
        }
      ],
      "source": [
        "import torch\n",
        "torch.cuda.is_available()"
      ]
    },
    {
      "cell_type": "code",
      "execution_count": 4,
      "id": "7a1a589d",
      "metadata": {},
      "outputs": [
        {
          "name": "stdout",
          "output_type": "stream",
          "text": [
            "True\n",
            "11.8\n"
          ]
        }
      ],
      "source": [
        "import torch\n",
        "print(torch.cuda.is_available())\n",
        "print(torch.version.cuda)"
      ]
    },
    {
      "cell_type": "code",
      "execution_count": 5,
      "id": "302ae9b5",
      "metadata": {
        "colab": {
          "base_uri": "https://localhost:8080/",
          "height": 206
        },
        "id": "302ae9b5",
        "outputId": "9d0c0a0f-bc04-4476-cfeb-ac31907d4843"
      },
      "outputs": [
        {
          "data": {
            "text/html": [
              "<div>\n",
              "<style scoped>\n",
              "    .dataframe tbody tr th:only-of-type {\n",
              "        vertical-align: middle;\n",
              "    }\n",
              "\n",
              "    .dataframe tbody tr th {\n",
              "        vertical-align: top;\n",
              "    }\n",
              "\n",
              "    .dataframe thead th {\n",
              "        text-align: right;\n",
              "    }\n",
              "</style>\n",
              "<table border=\"1\" class=\"dataframe\">\n",
              "  <thead>\n",
              "    <tr style=\"text-align: right;\">\n",
              "      <th></th>\n",
              "      <th>sexo</th>\n",
              "      <th>edad</th>\n",
              "      <th>grupo</th>\n",
              "      <th>especialidad_medica</th>\n",
              "      <th>subjetivo</th>\n",
              "      <th>objetivo</th>\n",
              "      <th>concatenada</th>\n",
              "      <th>sexo_codificado</th>\n",
              "      <th>grupo_codificado</th>\n",
              "    </tr>\n",
              "  </thead>\n",
              "  <tbody>\n",
              "    <tr>\n",
              "      <th>0</th>\n",
              "      <td>Femenino</td>\n",
              "      <td>38</td>\n",
              "      <td>Otros trastornos</td>\n",
              "      <td>PSICOLOGÍA</td>\n",
              "      <td>Paciente refiere: \"Me empezaron a dar como uno...</td>\n",
              "      <td>Paciente alerta, colaboradora con apariencia o...</td>\n",
              "      <td>['empezar', 'episodio', 'tom', 'pastilla', 'do...</td>\n",
              "      <td>0</td>\n",
              "      <td>0</td>\n",
              "    </tr>\n",
              "    <tr>\n",
              "      <th>1</th>\n",
              "      <td>Masculino</td>\n",
              "      <td>22</td>\n",
              "      <td>T. externalizantes</td>\n",
              "      <td>PSICOLOGÍA</td>\n",
              "      <td>Paciente refiere \"Me he sentido muy mal, en el...</td>\n",
              "      <td>Paciente a quien evaluó por primera vez, alert...</td>\n",
              "      <td>['sentido', 'trabajar', 'concentrar yo', 'cosa...</td>\n",
              "      <td>1</td>\n",
              "      <td>4</td>\n",
              "    </tr>\n",
              "    <tr>\n",
              "      <th>2</th>\n",
              "      <td>Masculino</td>\n",
              "      <td>9</td>\n",
              "      <td>Otros trastornos</td>\n",
              "      <td>PSICOLOGÍA</td>\n",
              "      <td>La madre refiere \"el viene por un acompañamien...</td>\n",
              "      <td>NaN</td>\n",
              "      <td>['madre', 'venir', 'acompañamiento', 'emociona...</td>\n",
              "      <td>1</td>\n",
              "      <td>0</td>\n",
              "    </tr>\n",
              "    <tr>\n",
              "      <th>3</th>\n",
              "      <td>Masculino</td>\n",
              "      <td>28</td>\n",
              "      <td>Otros trastornos</td>\n",
              "      <td>PSICOLOGÍA</td>\n",
              "      <td>Paciente refiere \"Estas cosas que han pasado m...</td>\n",
              "      <td>Paciente quien evalúo por primera vez, alerta,...</td>\n",
              "      <td>['cosa', 'problema', 'empresa', 'ocasión', 'sa...</td>\n",
              "      <td>1</td>\n",
              "      <td>0</td>\n",
              "    </tr>\n",
              "    <tr>\n",
              "      <th>4</th>\n",
              "      <td>Femenino</td>\n",
              "      <td>8</td>\n",
              "      <td>Otros trastornos</td>\n",
              "      <td>PSICOLOGÍA</td>\n",
              "      <td>La madre refiere \"Ella ha manifestado ciertas ...</td>\n",
              "      <td>Paciente ingresa en compañía de la madre, aler...</td>\n",
              "      <td>['madre', 'manifestar', 'conducta', 'palabrase...</td>\n",
              "      <td>0</td>\n",
              "      <td>0</td>\n",
              "    </tr>\n",
              "  </tbody>\n",
              "</table>\n",
              "</div>"
            ],
            "text/plain": [
              "        sexo  edad               grupo especialidad_medica  \\\n",
              "0   Femenino    38    Otros trastornos          PSICOLOGÍA   \n",
              "1  Masculino    22  T. externalizantes          PSICOLOGÍA   \n",
              "2  Masculino     9    Otros trastornos          PSICOLOGÍA   \n",
              "3  Masculino    28    Otros trastornos          PSICOLOGÍA   \n",
              "4   Femenino     8    Otros trastornos          PSICOLOGÍA   \n",
              "\n",
              "                                           subjetivo  \\\n",
              "0  Paciente refiere: \"Me empezaron a dar como uno...   \n",
              "1  Paciente refiere \"Me he sentido muy mal, en el...   \n",
              "2  La madre refiere \"el viene por un acompañamien...   \n",
              "3  Paciente refiere \"Estas cosas que han pasado m...   \n",
              "4  La madre refiere \"Ella ha manifestado ciertas ...   \n",
              "\n",
              "                                            objetivo  \\\n",
              "0  Paciente alerta, colaboradora con apariencia o...   \n",
              "1  Paciente a quien evaluó por primera vez, alert...   \n",
              "2                                                NaN   \n",
              "3  Paciente quien evalúo por primera vez, alerta,...   \n",
              "4  Paciente ingresa en compañía de la madre, aler...   \n",
              "\n",
              "                                         concatenada  sexo_codificado  \\\n",
              "0  ['empezar', 'episodio', 'tom', 'pastilla', 'do...                0   \n",
              "1  ['sentido', 'trabajar', 'concentrar yo', 'cosa...                1   \n",
              "2  ['madre', 'venir', 'acompañamiento', 'emociona...                1   \n",
              "3  ['cosa', 'problema', 'empresa', 'ocasión', 'sa...                1   \n",
              "4  ['madre', 'manifestar', 'conducta', 'palabrase...                0   \n",
              "\n",
              "   grupo_codificado  \n",
              "0                 0  \n",
              "1                 4  \n",
              "2                 0  \n",
              "3                 0  \n",
              "4                 0  "
            ]
          },
          "execution_count": 5,
          "metadata": {},
          "output_type": "execute_result"
        }
      ],
      "source": [
        "# Cargar dataset\n",
        "\n",
        "df = pd.read_excel(DATASET_PATH)\n",
        "df.head()\n"
      ]
    },
    {
      "cell_type": "code",
      "execution_count": 6,
      "id": "d5e401ba",
      "metadata": {},
      "outputs": [],
      "source": [
        "# Probamos con 500 registros utilizando sample y Ramdom Seed\n",
        "df = df.sample(n=500, random_state=RANDOM_SEED).reset_index(drop=True)"
      ]
    },
    {
      "cell_type": "code",
      "execution_count": 7,
      "id": "45734f51",
      "metadata": {},
      "outputs": [
        {
          "data": {
            "text/html": [
              "<div>\n",
              "<style scoped>\n",
              "    .dataframe tbody tr th:only-of-type {\n",
              "        vertical-align: middle;\n",
              "    }\n",
              "\n",
              "    .dataframe tbody tr th {\n",
              "        vertical-align: top;\n",
              "    }\n",
              "\n",
              "    .dataframe thead th {\n",
              "        text-align: right;\n",
              "    }\n",
              "</style>\n",
              "<table border=\"1\" class=\"dataframe\">\n",
              "  <thead>\n",
              "    <tr style=\"text-align: right;\">\n",
              "      <th></th>\n",
              "      <th>sexo</th>\n",
              "      <th>edad</th>\n",
              "      <th>grupo</th>\n",
              "      <th>especialidad_medica</th>\n",
              "      <th>subjetivo</th>\n",
              "      <th>objetivo</th>\n",
              "      <th>concatenada</th>\n",
              "      <th>sexo_codificado</th>\n",
              "      <th>grupo_codificado</th>\n",
              "    </tr>\n",
              "  </thead>\n",
              "  <tbody>\n",
              "    <tr>\n",
              "      <th>0</th>\n",
              "      <td>Masculino</td>\n",
              "      <td>16</td>\n",
              "      <td>T. de adaptación</td>\n",
              "      <td>PSICOLOGÍA</td>\n",
              "      <td>SEGUIMIENTO: La paciente refiere altibajos emo...</td>\n",
              "      <td>Paciente orientada en tiempo, lugar y persona,...</td>\n",
              "      <td>['seguimiento', 'altibajo', 'emocional', 'pone...</td>\n",
              "      <td>1</td>\n",
              "      <td>1</td>\n",
              "    </tr>\n",
              "    <tr>\n",
              "      <th>1</th>\n",
              "      <td>Femenino</td>\n",
              "      <td>36</td>\n",
              "      <td>T. de ansiedad</td>\n",
              "      <td>PSICOLOGÍA</td>\n",
              "      <td>\"mi mamá estuvo conmigo dos semanas, la verdad...</td>\n",
              "      <td>Paciente alerta, elocuente, colaboradora, con ...</td>\n",
              "      <td>['mam', 'semana', 'cosa', 'matrimonio', 'segui...</td>\n",
              "      <td>0</td>\n",
              "      <td>2</td>\n",
              "    </tr>\n",
              "    <tr>\n",
              "      <th>2</th>\n",
              "      <td>Femenino</td>\n",
              "      <td>37</td>\n",
              "      <td>T. depresivos</td>\n",
              "      <td>PSICOLOGÍA</td>\n",
              "      <td>Paciente refiere: \\n\"La semana pasada estuvo d...</td>\n",
              "      <td>Se realiza consulta de seguimiento por psicolo...</td>\n",
              "      <td>['semana', 'duro', 'pasar', 'cosa', 'man', 'ch...</td>\n",
              "      <td>0</td>\n",
              "      <td>3</td>\n",
              "    </tr>\n",
              "    <tr>\n",
              "      <th>3</th>\n",
              "      <td>Femenino</td>\n",
              "      <td>18</td>\n",
              "      <td>T. externalizantes</td>\n",
              "      <td>PSICOLOGÍA</td>\n",
              "      <td>Cita #2- 17/06/25\\n\\n\"Bien, ya en vacaciones, ...</td>\n",
              "      <td>Paciente alerta, orientada en las tres esferas...</td>\n",
              "      <td>['cita', 'vacación', 'logr', 'salvar', 'materi...</td>\n",
              "      <td>0</td>\n",
              "      <td>4</td>\n",
              "    </tr>\n",
              "    <tr>\n",
              "      <th>4</th>\n",
              "      <td>Femenino</td>\n",
              "      <td>65</td>\n",
              "      <td>Otros trastornos</td>\n",
              "      <td>PSICOLOGÍA</td>\n",
              "      <td>me he sentido muy triste, muy mal estos dias p...</td>\n",
              "      <td>Paciente quien evalúo por primera vez, con bas...</td>\n",
              "      <td>['sentido', 'triste', 'dar', 'esposo', 'person...</td>\n",
              "      <td>0</td>\n",
              "      <td>0</td>\n",
              "    </tr>\n",
              "  </tbody>\n",
              "</table>\n",
              "</div>"
            ],
            "text/plain": [
              "        sexo  edad               grupo especialidad_medica  \\\n",
              "0  Masculino    16    T. de adaptación          PSICOLOGÍA   \n",
              "1   Femenino    36      T. de ansiedad          PSICOLOGÍA   \n",
              "2   Femenino    37       T. depresivos          PSICOLOGÍA   \n",
              "3   Femenino    18  T. externalizantes          PSICOLOGÍA   \n",
              "4   Femenino    65    Otros trastornos          PSICOLOGÍA   \n",
              "\n",
              "                                           subjetivo  \\\n",
              "0  SEGUIMIENTO: La paciente refiere altibajos emo...   \n",
              "1  \"mi mamá estuvo conmigo dos semanas, la verdad...   \n",
              "2  Paciente refiere: \\n\"La semana pasada estuvo d...   \n",
              "3  Cita #2- 17/06/25\\n\\n\"Bien, ya en vacaciones, ...   \n",
              "4  me he sentido muy triste, muy mal estos dias p...   \n",
              "\n",
              "                                            objetivo  \\\n",
              "0  Paciente orientada en tiempo, lugar y persona,...   \n",
              "1  Paciente alerta, elocuente, colaboradora, con ...   \n",
              "2  Se realiza consulta de seguimiento por psicolo...   \n",
              "3  Paciente alerta, orientada en las tres esferas...   \n",
              "4  Paciente quien evalúo por primera vez, con bas...   \n",
              "\n",
              "                                         concatenada  sexo_codificado  \\\n",
              "0  ['seguimiento', 'altibajo', 'emocional', 'pone...                1   \n",
              "1  ['mam', 'semana', 'cosa', 'matrimonio', 'segui...                0   \n",
              "2  ['semana', 'duro', 'pasar', 'cosa', 'man', 'ch...                0   \n",
              "3  ['cita', 'vacación', 'logr', 'salvar', 'materi...                0   \n",
              "4  ['sentido', 'triste', 'dar', 'esposo', 'person...                0   \n",
              "\n",
              "   grupo_codificado  \n",
              "0                 1  \n",
              "1                 2  \n",
              "2                 3  \n",
              "3                 4  \n",
              "4                 0  "
            ]
          },
          "execution_count": 7,
          "metadata": {},
          "output_type": "execute_result"
        }
      ],
      "source": [
        "df.head()"
      ]
    },
    {
      "cell_type": "code",
      "execution_count": 8,
      "id": "d7464a84",
      "metadata": {},
      "outputs": [
        {
          "name": "stdout",
          "output_type": "stream",
          "text": [
            "La longitud máxima de las historias clínicas es: 330 palabras.\n"
          ]
        }
      ],
      "source": [
        "# Calcular la longitud máxima de las historias clínicas en términos de número de palabras\n",
        "max_lenght = df[\"concatenada\"].apply(lambda x: len(x.split())).max()\n",
        "\n",
        "print(f\"La longitud máxima de las historias clínicas es: {max_lenght} palabras.\")"
      ]
    },
    {
      "cell_type": "code",
      "execution_count": 9,
      "id": "688c3164",
      "metadata": {
        "colab": {
          "base_uri": "https://localhost:8080/"
        },
        "id": "688c3164",
        "outputId": "28022609-a5ed-47d7-faa2-cd8a906d8d0f"
      },
      "outputs": [
        {
          "name": "stdout",
          "output_type": "stream",
          "text": [
            "<class 'pandas.core.frame.DataFrame'>\n",
            "RangeIndex: 500 entries, 0 to 499\n",
            "Data columns (total 9 columns):\n",
            " #   Column               Non-Null Count  Dtype \n",
            "---  ------               --------------  ----- \n",
            " 0   sexo                 500 non-null    object\n",
            " 1   edad                 500 non-null    int64 \n",
            " 2   grupo                500 non-null    object\n",
            " 3   especialidad_medica  500 non-null    object\n",
            " 4   subjetivo            497 non-null    object\n",
            " 5   objetivo             497 non-null    object\n",
            " 6   concatenada          500 non-null    object\n",
            " 7   sexo_codificado      500 non-null    int64 \n",
            " 8   grupo_codificado     500 non-null    int64 \n",
            "dtypes: int64(3), object(6)\n",
            "memory usage: 35.3+ KB\n"
          ]
        }
      ],
      "source": [
        "df.info()"
      ]
    },
    {
      "cell_type": "code",
      "execution_count": 10,
      "id": "acd03ce6",
      "metadata": {
        "colab": {
          "base_uri": "https://localhost:8080/",
          "height": 363
        },
        "id": "acd03ce6",
        "outputId": "f450563a-07f2-440d-e31e-0924198be86f"
      },
      "outputs": [
        {
          "data": {
            "text/html": [
              "<div>\n",
              "<style scoped>\n",
              "    .dataframe tbody tr th:only-of-type {\n",
              "        vertical-align: middle;\n",
              "    }\n",
              "\n",
              "    .dataframe tbody tr th {\n",
              "        vertical-align: top;\n",
              "    }\n",
              "\n",
              "    .dataframe thead th {\n",
              "        text-align: right;\n",
              "    }\n",
              "</style>\n",
              "<table border=\"1\" class=\"dataframe\">\n",
              "  <thead>\n",
              "    <tr style=\"text-align: right;\">\n",
              "      <th></th>\n",
              "      <th>sexo</th>\n",
              "      <th>edad</th>\n",
              "      <th>grupo</th>\n",
              "      <th>especialidad_medica</th>\n",
              "      <th>subjetivo</th>\n",
              "      <th>objetivo</th>\n",
              "      <th>concatenada</th>\n",
              "      <th>sexo_codificado</th>\n",
              "      <th>grupo_codificado</th>\n",
              "    </tr>\n",
              "  </thead>\n",
              "  <tbody>\n",
              "    <tr>\n",
              "      <th>0</th>\n",
              "      <td>Masculino</td>\n",
              "      <td>16</td>\n",
              "      <td>T. de adaptación</td>\n",
              "      <td>PSICOLOGÍA</td>\n",
              "      <td>SEGUIMIENTO: La paciente refiere altibajos emo...</td>\n",
              "      <td>Paciente orientada en tiempo, lugar y persona,...</td>\n",
              "      <td>['seguimiento', 'altibajo', 'emocional', 'pone...</td>\n",
              "      <td>1</td>\n",
              "      <td>1</td>\n",
              "    </tr>\n",
              "    <tr>\n",
              "      <th>1</th>\n",
              "      <td>Femenino</td>\n",
              "      <td>36</td>\n",
              "      <td>T. de ansiedad</td>\n",
              "      <td>PSICOLOGÍA</td>\n",
              "      <td>\"mi mamá estuvo conmigo dos semanas, la verdad...</td>\n",
              "      <td>Paciente alerta, elocuente, colaboradora, con ...</td>\n",
              "      <td>['mam', 'semana', 'cosa', 'matrimonio', 'segui...</td>\n",
              "      <td>0</td>\n",
              "      <td>2</td>\n",
              "    </tr>\n",
              "    <tr>\n",
              "      <th>2</th>\n",
              "      <td>Femenino</td>\n",
              "      <td>37</td>\n",
              "      <td>T. depresivos</td>\n",
              "      <td>PSICOLOGÍA</td>\n",
              "      <td>Paciente refiere: \\n\"La semana pasada estuvo d...</td>\n",
              "      <td>Se realiza consulta de seguimiento por psicolo...</td>\n",
              "      <td>['semana', 'duro', 'pasar', 'cosa', 'man', 'ch...</td>\n",
              "      <td>0</td>\n",
              "      <td>3</td>\n",
              "    </tr>\n",
              "    <tr>\n",
              "      <th>3</th>\n",
              "      <td>Femenino</td>\n",
              "      <td>18</td>\n",
              "      <td>T. externalizantes</td>\n",
              "      <td>PSICOLOGÍA</td>\n",
              "      <td>Cita #2- 17/06/25\\n\\n\"Bien, ya en vacaciones, ...</td>\n",
              "      <td>Paciente alerta, orientada en las tres esferas...</td>\n",
              "      <td>['cita', 'vacación', 'logr', 'salvar', 'materi...</td>\n",
              "      <td>0</td>\n",
              "      <td>4</td>\n",
              "    </tr>\n",
              "    <tr>\n",
              "      <th>4</th>\n",
              "      <td>Femenino</td>\n",
              "      <td>65</td>\n",
              "      <td>Otros trastornos</td>\n",
              "      <td>PSICOLOGÍA</td>\n",
              "      <td>me he sentido muy triste, muy mal estos dias p...</td>\n",
              "      <td>Paciente quien evalúo por primera vez, con bas...</td>\n",
              "      <td>['sentido', 'triste', 'dar', 'esposo', 'person...</td>\n",
              "      <td>0</td>\n",
              "      <td>0</td>\n",
              "    </tr>\n",
              "    <tr>\n",
              "      <th>5</th>\n",
              "      <td>Femenino</td>\n",
              "      <td>34</td>\n",
              "      <td>T. de ansiedad</td>\n",
              "      <td>PSICOLOGÍA</td>\n",
              "      <td>Paciente refiere: \"He estado bien, aunque a ve...</td>\n",
              "      <td>Paciente alerta, colaboradora con apariencia o...</td>\n",
              "      <td>['sentir', 'depresin', 'poner', 'recordar', 'm...</td>\n",
              "      <td>0</td>\n",
              "      <td>2</td>\n",
              "    </tr>\n",
              "    <tr>\n",
              "      <th>6</th>\n",
              "      <td>Masculino</td>\n",
              "      <td>22</td>\n",
              "      <td>Otros trastornos</td>\n",
              "      <td>PSICOLOGÍA</td>\n",
              "      <td>SEGUIMIENTO: El paciente expresa \"bien, traté ...</td>\n",
              "      <td>Paciente quien evalúo por teleconsulta, se evi...</td>\n",
              "      <td>['seguimiento', 'expresar', 'trat', 'seguir', ...</td>\n",
              "      <td>1</td>\n",
              "      <td>0</td>\n",
              "    </tr>\n",
              "    <tr>\n",
              "      <th>7</th>\n",
              "      <td>Femenino</td>\n",
              "      <td>23</td>\n",
              "      <td>T. de ansiedad</td>\n",
              "      <td>PSICOLOGÍA</td>\n",
              "      <td>Paciente refiere:\\n\"Tuve cita con psiquiatría ...</td>\n",
              "      <td>Paciente alerta y consciente, orientada en per...</td>\n",
              "      <td>['refieretuve', 'cita', 'psiquiatra', 'mand', ...</td>\n",
              "      <td>0</td>\n",
              "      <td>2</td>\n",
              "    </tr>\n",
              "    <tr>\n",
              "      <th>8</th>\n",
              "      <td>Femenino</td>\n",
              "      <td>69</td>\n",
              "      <td>T. de ansiedad</td>\n",
              "      <td>PSICOLOGÍA</td>\n",
              "      <td>14/08/25- Cuarta cita\\n\\n\"Creo que un poquito ...</td>\n",
              "      <td>Paciente alerta, orientado en las tres esferas...</td>\n",
              "      <td>['cuarto', 'citacreo', 'poquito', 'quedar', 'e...</td>\n",
              "      <td>0</td>\n",
              "      <td>2</td>\n",
              "    </tr>\n",
              "    <tr>\n",
              "      <th>9</th>\n",
              "      <td>Femenino</td>\n",
              "      <td>86</td>\n",
              "      <td>T. depresivos</td>\n",
              "      <td>PSICOLOGÍA</td>\n",
              "      <td>La acompañante refiere: “mi abuela viene hace ...</td>\n",
              "      <td>Paciente orientada en tiempo, lugar y persona,...</td>\n",
              "      <td>['acompañante', 'abuela', 'venir', 'dar', 'dol...</td>\n",
              "      <td>0</td>\n",
              "      <td>3</td>\n",
              "    </tr>\n",
              "  </tbody>\n",
              "</table>\n",
              "</div>"
            ],
            "text/plain": [
              "        sexo  edad               grupo especialidad_medica  \\\n",
              "0  Masculino    16    T. de adaptación          PSICOLOGÍA   \n",
              "1   Femenino    36      T. de ansiedad          PSICOLOGÍA   \n",
              "2   Femenino    37       T. depresivos          PSICOLOGÍA   \n",
              "3   Femenino    18  T. externalizantes          PSICOLOGÍA   \n",
              "4   Femenino    65    Otros trastornos          PSICOLOGÍA   \n",
              "5   Femenino    34      T. de ansiedad          PSICOLOGÍA   \n",
              "6  Masculino    22    Otros trastornos          PSICOLOGÍA   \n",
              "7   Femenino    23      T. de ansiedad          PSICOLOGÍA   \n",
              "8   Femenino    69      T. de ansiedad          PSICOLOGÍA   \n",
              "9   Femenino    86       T. depresivos          PSICOLOGÍA   \n",
              "\n",
              "                                           subjetivo  \\\n",
              "0  SEGUIMIENTO: La paciente refiere altibajos emo...   \n",
              "1  \"mi mamá estuvo conmigo dos semanas, la verdad...   \n",
              "2  Paciente refiere: \\n\"La semana pasada estuvo d...   \n",
              "3  Cita #2- 17/06/25\\n\\n\"Bien, ya en vacaciones, ...   \n",
              "4  me he sentido muy triste, muy mal estos dias p...   \n",
              "5  Paciente refiere: \"He estado bien, aunque a ve...   \n",
              "6  SEGUIMIENTO: El paciente expresa \"bien, traté ...   \n",
              "7  Paciente refiere:\\n\"Tuve cita con psiquiatría ...   \n",
              "8  14/08/25- Cuarta cita\\n\\n\"Creo que un poquito ...   \n",
              "9  La acompañante refiere: “mi abuela viene hace ...   \n",
              "\n",
              "                                            objetivo  \\\n",
              "0  Paciente orientada en tiempo, lugar y persona,...   \n",
              "1  Paciente alerta, elocuente, colaboradora, con ...   \n",
              "2  Se realiza consulta de seguimiento por psicolo...   \n",
              "3  Paciente alerta, orientada en las tres esferas...   \n",
              "4  Paciente quien evalúo por primera vez, con bas...   \n",
              "5  Paciente alerta, colaboradora con apariencia o...   \n",
              "6  Paciente quien evalúo por teleconsulta, se evi...   \n",
              "7  Paciente alerta y consciente, orientada en per...   \n",
              "8  Paciente alerta, orientado en las tres esferas...   \n",
              "9  Paciente orientada en tiempo, lugar y persona,...   \n",
              "\n",
              "                                         concatenada  sexo_codificado  \\\n",
              "0  ['seguimiento', 'altibajo', 'emocional', 'pone...                1   \n",
              "1  ['mam', 'semana', 'cosa', 'matrimonio', 'segui...                0   \n",
              "2  ['semana', 'duro', 'pasar', 'cosa', 'man', 'ch...                0   \n",
              "3  ['cita', 'vacación', 'logr', 'salvar', 'materi...                0   \n",
              "4  ['sentido', 'triste', 'dar', 'esposo', 'person...                0   \n",
              "5  ['sentir', 'depresin', 'poner', 'recordar', 'm...                0   \n",
              "6  ['seguimiento', 'expresar', 'trat', 'seguir', ...                1   \n",
              "7  ['refieretuve', 'cita', 'psiquiatra', 'mand', ...                0   \n",
              "8  ['cuarto', 'citacreo', 'poquito', 'quedar', 'e...                0   \n",
              "9  ['acompañante', 'abuela', 'venir', 'dar', 'dol...                0   \n",
              "\n",
              "   grupo_codificado  \n",
              "0                 1  \n",
              "1                 2  \n",
              "2                 3  \n",
              "3                 4  \n",
              "4                 0  \n",
              "5                 2  \n",
              "6                 0  \n",
              "7                 2  \n",
              "8                 2  \n",
              "9                 3  "
            ]
          },
          "execution_count": 10,
          "metadata": {},
          "output_type": "execute_result"
        }
      ],
      "source": [
        "df.head(10)"
      ]
    },
    {
      "cell_type": "code",
      "execution_count": 11,
      "id": "4d007e36",
      "metadata": {},
      "outputs": [],
      "source": [
        "# Removemos los corchetes\n",
        "df[\"concatenada\"] = df[\"concatenada\"].apply(lambda x: str(x).replace(\"[\",\"\").replace(\"]\",\"\"))\n",
        "\n",
        "# Removemos las comillas simples\n",
        "df[\"concatenada\"] = df[\"concatenada\"].apply(lambda x: str(x).replace(\"'\",\"\"))\n",
        "\n",
        "# Unimos las palabras separadas por comas\n",
        "df[\"concatenada\"] = df[\"concatenada\"].apply(lambda x: str(x).replace(\",\",\" \"))"
      ]
    },
    {
      "cell_type": "code",
      "execution_count": 12,
      "id": "67670eec",
      "metadata": {},
      "outputs": [
        {
          "data": {
            "text/html": [
              "<div>\n",
              "<style scoped>\n",
              "    .dataframe tbody tr th:only-of-type {\n",
              "        vertical-align: middle;\n",
              "    }\n",
              "\n",
              "    .dataframe tbody tr th {\n",
              "        vertical-align: top;\n",
              "    }\n",
              "\n",
              "    .dataframe thead th {\n",
              "        text-align: right;\n",
              "    }\n",
              "</style>\n",
              "<table border=\"1\" class=\"dataframe\">\n",
              "  <thead>\n",
              "    <tr style=\"text-align: right;\">\n",
              "      <th></th>\n",
              "      <th>sexo</th>\n",
              "      <th>edad</th>\n",
              "      <th>grupo</th>\n",
              "      <th>especialidad_medica</th>\n",
              "      <th>subjetivo</th>\n",
              "      <th>objetivo</th>\n",
              "      <th>concatenada</th>\n",
              "      <th>sexo_codificado</th>\n",
              "      <th>grupo_codificado</th>\n",
              "    </tr>\n",
              "  </thead>\n",
              "  <tbody>\n",
              "    <tr>\n",
              "      <th>0</th>\n",
              "      <td>Masculino</td>\n",
              "      <td>16</td>\n",
              "      <td>T. de adaptación</td>\n",
              "      <td>PSICOLOGÍA</td>\n",
              "      <td>SEGUIMIENTO: La paciente refiere altibajos emo...</td>\n",
              "      <td>Paciente orientada en tiempo, lugar y persona,...</td>\n",
              "      <td>seguimiento  altibajo  emocional  poner  escri...</td>\n",
              "      <td>1</td>\n",
              "      <td>1</td>\n",
              "    </tr>\n",
              "    <tr>\n",
              "      <th>1</th>\n",
              "      <td>Femenino</td>\n",
              "      <td>36</td>\n",
              "      <td>T. de ansiedad</td>\n",
              "      <td>PSICOLOGÍA</td>\n",
              "      <td>\"mi mamá estuvo conmigo dos semanas, la verdad...</td>\n",
              "      <td>Paciente alerta, elocuente, colaboradora, con ...</td>\n",
              "      <td>mam  semana  cosa  matrimonio  seguir  sentir ...</td>\n",
              "      <td>0</td>\n",
              "      <td>2</td>\n",
              "    </tr>\n",
              "    <tr>\n",
              "      <th>2</th>\n",
              "      <td>Femenino</td>\n",
              "      <td>37</td>\n",
              "      <td>T. depresivos</td>\n",
              "      <td>PSICOLOGÍA</td>\n",
              "      <td>Paciente refiere: \\n\"La semana pasada estuvo d...</td>\n",
              "      <td>Se realiza consulta de seguimiento por psicolo...</td>\n",
              "      <td>semana  duro  pasar  cosa  man  charlar  poda ...</td>\n",
              "      <td>0</td>\n",
              "      <td>3</td>\n",
              "    </tr>\n",
              "    <tr>\n",
              "      <th>3</th>\n",
              "      <td>Femenino</td>\n",
              "      <td>18</td>\n",
              "      <td>T. externalizantes</td>\n",
              "      <td>PSICOLOGÍA</td>\n",
              "      <td>Cita #2- 17/06/25\\n\\n\"Bien, ya en vacaciones, ...</td>\n",
              "      <td>Paciente alerta, orientada en las tres esferas...</td>\n",
              "      <td>cita  vacación  logr  salvar  materia  tenar  ...</td>\n",
              "      <td>0</td>\n",
              "      <td>4</td>\n",
              "    </tr>\n",
              "    <tr>\n",
              "      <th>4</th>\n",
              "      <td>Femenino</td>\n",
              "      <td>65</td>\n",
              "      <td>Otros trastornos</td>\n",
              "      <td>PSICOLOGÍA</td>\n",
              "      <td>me he sentido muy triste, muy mal estos dias p...</td>\n",
              "      <td>Paciente quien evalúo por primera vez, con bas...</td>\n",
              "      <td>sentido  triste  dar  esposo  persona  tiempo ...</td>\n",
              "      <td>0</td>\n",
              "      <td>0</td>\n",
              "    </tr>\n",
              "  </tbody>\n",
              "</table>\n",
              "</div>"
            ],
            "text/plain": [
              "        sexo  edad               grupo especialidad_medica  \\\n",
              "0  Masculino    16    T. de adaptación          PSICOLOGÍA   \n",
              "1   Femenino    36      T. de ansiedad          PSICOLOGÍA   \n",
              "2   Femenino    37       T. depresivos          PSICOLOGÍA   \n",
              "3   Femenino    18  T. externalizantes          PSICOLOGÍA   \n",
              "4   Femenino    65    Otros trastornos          PSICOLOGÍA   \n",
              "\n",
              "                                           subjetivo  \\\n",
              "0  SEGUIMIENTO: La paciente refiere altibajos emo...   \n",
              "1  \"mi mamá estuvo conmigo dos semanas, la verdad...   \n",
              "2  Paciente refiere: \\n\"La semana pasada estuvo d...   \n",
              "3  Cita #2- 17/06/25\\n\\n\"Bien, ya en vacaciones, ...   \n",
              "4  me he sentido muy triste, muy mal estos dias p...   \n",
              "\n",
              "                                            objetivo  \\\n",
              "0  Paciente orientada en tiempo, lugar y persona,...   \n",
              "1  Paciente alerta, elocuente, colaboradora, con ...   \n",
              "2  Se realiza consulta de seguimiento por psicolo...   \n",
              "3  Paciente alerta, orientada en las tres esferas...   \n",
              "4  Paciente quien evalúo por primera vez, con bas...   \n",
              "\n",
              "                                         concatenada  sexo_codificado  \\\n",
              "0  seguimiento  altibajo  emocional  poner  escri...                1   \n",
              "1  mam  semana  cosa  matrimonio  seguir  sentir ...                0   \n",
              "2  semana  duro  pasar  cosa  man  charlar  poda ...                0   \n",
              "3  cita  vacación  logr  salvar  materia  tenar  ...                0   \n",
              "4  sentido  triste  dar  esposo  persona  tiempo ...                0   \n",
              "\n",
              "   grupo_codificado  \n",
              "0                 1  \n",
              "1                 2  \n",
              "2                 3  \n",
              "3                 4  \n",
              "4                 0  "
            ]
          },
          "execution_count": 12,
          "metadata": {},
          "output_type": "execute_result"
        }
      ],
      "source": [
        "df.head()"
      ]
    },
    {
      "cell_type": "code",
      "execution_count": 13,
      "id": "b8ec03ec",
      "metadata": {
        "id": "b8ec03ec"
      },
      "outputs": [],
      "source": [
        "from transformers import BertTokenizer, BertModel\n",
        "\n",
        "# TOKENIZACION\n",
        "\n",
        "PRE_TRAINED_MODEL_NAME = \"bert-base-multilingual-cased\"\n",
        "tokenizer = BertTokenizer.from_pretrained(PRE_TRAINED_MODEL_NAME)"
      ]
    },
    {
      "cell_type": "code",
      "execution_count": 14,
      "id": "f5bc9d24",
      "metadata": {
        "colab": {
          "base_uri": "https://localhost:8080/"
        },
        "id": "f5bc9d24",
        "outputId": "66cde776-957b-4fe0-cc69-babc55ea844e"
      },
      "outputs": [
        {
          "name": "stdout",
          "output_type": "stream",
          "text": [
            "Texto original: Hola soy un texto de ejemplo para la tokenización.\n",
            "Tokens: ['Ho', '##la', 'soy', 'un', 'texto', 'de', 'ejemplo', 'para', 'la', 'tok', '##eni', '##zación', '.']\n",
            "IDs de tokens: [20220, 10330, 103559, 10119, 27888, 10104, 20223, 10220, 10109, 18436, 18687, 23700, 119]\n"
          ]
        }
      ],
      "source": [
        "# Ejemplos de tokenización\n",
        "\n",
        "sample_text = \"Hola soy un texto de ejemplo para la tokenización.\"\n",
        "tokens = tokenizer.tokenize(sample_text)\n",
        "tokens_ids = tokenizer.convert_tokens_to_ids(tokens)\n",
        "print(f\"Texto original: {sample_text}\")\n",
        "print(f\"Tokens: {tokens}\")\n",
        "print(f\"IDs de tokens: {tokens_ids}\")"
      ]
    },
    {
      "cell_type": "code",
      "execution_count": 15,
      "id": "40261280",
      "metadata": {},
      "outputs": [
        {
          "name": "stdout",
          "output_type": "stream",
          "text": [
            "2.7.1+cu118\n",
            "True\n"
          ]
        }
      ],
      "source": [
        "import torch\n",
        "print(torch.__version__)\n",
        "print(torch.cuda.is_available())"
      ]
    },
    {
      "cell_type": "code",
      "execution_count": 16,
      "id": "ababcc13",
      "metadata": {
        "id": "ababcc13"
      },
      "outputs": [],
      "source": [
        "# Instala PyTorch si no está instalado\n",
        "\n",
        "# Codificacion para introducir a BERT\n",
        "\n",
        "encoding = tokenizer.encode_plus(\n",
        "    sample_text,\n",
        "    add_special_tokens=True,\n",
        "    max_length=MAX_LEN,\n",
        "    return_token_type_ids=False,\n",
        "    padding=\"max_length\",\n",
        "    truncation=True,\n",
        "    return_attention_mask=True,\n",
        "    return_tensors=\"pt\",\n",
        ")"
      ]
    },
    {
      "cell_type": "code",
      "execution_count": 17,
      "id": "10d13546",
      "metadata": {
        "colab": {
          "base_uri": "https://localhost:8080/"
        },
        "id": "10d13546",
        "outputId": "6e3f7314-2b94-4e71-efc6-7af46de5d009"
      },
      "outputs": [
        {
          "data": {
            "text/plain": [
              "KeysView({'input_ids': tensor([[   101,  20220,  10330, 103559,  10119,  27888,  10104,  20223,  10220,\n",
              "          10109,  18436,  18687,  23700,    119,    102,      0,      0,      0,\n",
              "              0,      0,      0,      0,      0,      0,      0,      0,      0,\n",
              "              0,      0,      0,      0,      0,      0,      0,      0,      0,\n",
              "              0,      0,      0,      0,      0,      0,      0,      0,      0,\n",
              "              0,      0,      0,      0,      0,      0,      0,      0,      0,\n",
              "              0,      0,      0,      0,      0,      0,      0,      0,      0,\n",
              "              0,      0,      0,      0,      0,      0,      0,      0,      0,\n",
              "              0,      0,      0,      0,      0,      0,      0,      0,      0,\n",
              "              0,      0,      0,      0,      0,      0,      0,      0,      0,\n",
              "              0,      0,      0,      0,      0,      0,      0,      0,      0,\n",
              "              0,      0,      0,      0,      0,      0,      0,      0,      0,\n",
              "              0,      0,      0,      0,      0,      0,      0,      0,      0,\n",
              "              0,      0,      0,      0,      0,      0,      0,      0,      0,\n",
              "              0,      0,      0,      0,      0,      0,      0,      0,      0,\n",
              "              0,      0,      0,      0,      0,      0,      0,      0,      0,\n",
              "              0,      0,      0,      0,      0,      0,      0,      0,      0,\n",
              "              0,      0,      0,      0,      0,      0,      0,      0,      0,\n",
              "              0,      0,      0,      0,      0,      0,      0,      0,      0,\n",
              "              0,      0,      0,      0,      0,      0,      0,      0,      0,\n",
              "              0,      0,      0,      0,      0,      0,      0,      0,      0,\n",
              "              0,      0,      0,      0,      0,      0,      0,      0,      0,\n",
              "              0,      0]]), 'attention_mask': tensor([[1, 1, 1, 1, 1, 1, 1, 1, 1, 1, 1, 1, 1, 1, 1, 0, 0, 0, 0, 0, 0, 0, 0, 0,\n",
              "         0, 0, 0, 0, 0, 0, 0, 0, 0, 0, 0, 0, 0, 0, 0, 0, 0, 0, 0, 0, 0, 0, 0, 0,\n",
              "         0, 0, 0, 0, 0, 0, 0, 0, 0, 0, 0, 0, 0, 0, 0, 0, 0, 0, 0, 0, 0, 0, 0, 0,\n",
              "         0, 0, 0, 0, 0, 0, 0, 0, 0, 0, 0, 0, 0, 0, 0, 0, 0, 0, 0, 0, 0, 0, 0, 0,\n",
              "         0, 0, 0, 0, 0, 0, 0, 0, 0, 0, 0, 0, 0, 0, 0, 0, 0, 0, 0, 0, 0, 0, 0, 0,\n",
              "         0, 0, 0, 0, 0, 0, 0, 0, 0, 0, 0, 0, 0, 0, 0, 0, 0, 0, 0, 0, 0, 0, 0, 0,\n",
              "         0, 0, 0, 0, 0, 0, 0, 0, 0, 0, 0, 0, 0, 0, 0, 0, 0, 0, 0, 0, 0, 0, 0, 0,\n",
              "         0, 0, 0, 0, 0, 0, 0, 0, 0, 0, 0, 0, 0, 0, 0, 0, 0, 0, 0, 0, 0, 0, 0, 0,\n",
              "         0, 0, 0, 0, 0, 0, 0, 0]])})"
            ]
          },
          "execution_count": 17,
          "metadata": {},
          "output_type": "execute_result"
        }
      ],
      "source": [
        "encoding.keys()"
      ]
    },
    {
      "cell_type": "code",
      "execution_count": 18,
      "id": "b4c52761",
      "metadata": {
        "colab": {
          "base_uri": "https://localhost:8080/"
        },
        "id": "b4c52761",
        "outputId": "4b737e2e-da97-463b-8440-9d5c79d03e84"
      },
      "outputs": [
        {
          "name": "stdout",
          "output_type": "stream",
          "text": [
            "['[CLS]', 'Ho', '##la', 'soy', 'un', 'texto', 'de', 'ejemplo', 'para', 'la', 'tok', '##eni', '##zación', '.', '[SEP]', '[PAD]', '[PAD]', '[PAD]', '[PAD]', '[PAD]', '[PAD]', '[PAD]', '[PAD]', '[PAD]', '[PAD]', '[PAD]', '[PAD]', '[PAD]', '[PAD]', '[PAD]', '[PAD]', '[PAD]', '[PAD]', '[PAD]', '[PAD]', '[PAD]', '[PAD]', '[PAD]', '[PAD]', '[PAD]', '[PAD]', '[PAD]', '[PAD]', '[PAD]', '[PAD]', '[PAD]', '[PAD]', '[PAD]', '[PAD]', '[PAD]', '[PAD]', '[PAD]', '[PAD]', '[PAD]', '[PAD]', '[PAD]', '[PAD]', '[PAD]', '[PAD]', '[PAD]', '[PAD]', '[PAD]', '[PAD]', '[PAD]', '[PAD]', '[PAD]', '[PAD]', '[PAD]', '[PAD]', '[PAD]', '[PAD]', '[PAD]', '[PAD]', '[PAD]', '[PAD]', '[PAD]', '[PAD]', '[PAD]', '[PAD]', '[PAD]', '[PAD]', '[PAD]', '[PAD]', '[PAD]', '[PAD]', '[PAD]', '[PAD]', '[PAD]', '[PAD]', '[PAD]', '[PAD]', '[PAD]', '[PAD]', '[PAD]', '[PAD]', '[PAD]', '[PAD]', '[PAD]', '[PAD]', '[PAD]', '[PAD]', '[PAD]', '[PAD]', '[PAD]', '[PAD]', '[PAD]', '[PAD]', '[PAD]', '[PAD]', '[PAD]', '[PAD]', '[PAD]', '[PAD]', '[PAD]', '[PAD]', '[PAD]', '[PAD]', '[PAD]', '[PAD]', '[PAD]', '[PAD]', '[PAD]', '[PAD]', '[PAD]', '[PAD]', '[PAD]', '[PAD]', '[PAD]', '[PAD]', '[PAD]', '[PAD]', '[PAD]', '[PAD]', '[PAD]', '[PAD]', '[PAD]', '[PAD]', '[PAD]', '[PAD]', '[PAD]', '[PAD]', '[PAD]', '[PAD]', '[PAD]', '[PAD]', '[PAD]', '[PAD]', '[PAD]', '[PAD]', '[PAD]', '[PAD]', '[PAD]', '[PAD]', '[PAD]', '[PAD]', '[PAD]', '[PAD]', '[PAD]', '[PAD]', '[PAD]', '[PAD]', '[PAD]', '[PAD]', '[PAD]', '[PAD]', '[PAD]', '[PAD]', '[PAD]', '[PAD]', '[PAD]', '[PAD]', '[PAD]', '[PAD]', '[PAD]', '[PAD]', '[PAD]', '[PAD]', '[PAD]', '[PAD]', '[PAD]', '[PAD]', '[PAD]', '[PAD]', '[PAD]', '[PAD]', '[PAD]', '[PAD]', '[PAD]', '[PAD]', '[PAD]', '[PAD]', '[PAD]', '[PAD]', '[PAD]', '[PAD]', '[PAD]', '[PAD]', '[PAD]', '[PAD]', '[PAD]']\n",
            "tensor([   101,  20220,  10330, 103559,  10119,  27888,  10104,  20223,  10220,\n",
            "         10109,  18436,  18687,  23700,    119,    102,      0,      0,      0,\n",
            "             0,      0,      0,      0,      0,      0,      0,      0,      0,\n",
            "             0,      0,      0,      0,      0,      0,      0,      0,      0,\n",
            "             0,      0,      0,      0,      0,      0,      0,      0,      0,\n",
            "             0,      0,      0,      0,      0,      0,      0,      0,      0,\n",
            "             0,      0,      0,      0,      0,      0,      0,      0,      0,\n",
            "             0,      0,      0,      0,      0,      0,      0,      0,      0,\n",
            "             0,      0,      0,      0,      0,      0,      0,      0,      0,\n",
            "             0,      0,      0,      0,      0,      0,      0,      0,      0,\n",
            "             0,      0,      0,      0,      0,      0,      0,      0,      0,\n",
            "             0,      0,      0,      0,      0,      0,      0,      0,      0,\n",
            "             0,      0,      0,      0,      0,      0,      0,      0,      0,\n",
            "             0,      0,      0,      0,      0,      0,      0,      0,      0,\n",
            "             0,      0,      0,      0,      0,      0,      0,      0,      0,\n",
            "             0,      0,      0,      0,      0,      0,      0,      0,      0,\n",
            "             0,      0,      0,      0,      0,      0,      0,      0,      0,\n",
            "             0,      0,      0,      0,      0,      0,      0,      0,      0,\n",
            "             0,      0,      0,      0,      0,      0,      0,      0,      0,\n",
            "             0,      0,      0,      0,      0,      0,      0,      0,      0,\n",
            "             0,      0,      0,      0,      0,      0,      0,      0,      0,\n",
            "             0,      0,      0,      0,      0,      0,      0,      0,      0,\n",
            "             0,      0])\n",
            "tensor([1, 1, 1, 1, 1, 1, 1, 1, 1, 1, 1, 1, 1, 1, 1, 0, 0, 0, 0, 0, 0, 0, 0, 0,\n",
            "        0, 0, 0, 0, 0, 0, 0, 0, 0, 0, 0, 0, 0, 0, 0, 0, 0, 0, 0, 0, 0, 0, 0, 0,\n",
            "        0, 0, 0, 0, 0, 0, 0, 0, 0, 0, 0, 0, 0, 0, 0, 0, 0, 0, 0, 0, 0, 0, 0, 0,\n",
            "        0, 0, 0, 0, 0, 0, 0, 0, 0, 0, 0, 0, 0, 0, 0, 0, 0, 0, 0, 0, 0, 0, 0, 0,\n",
            "        0, 0, 0, 0, 0, 0, 0, 0, 0, 0, 0, 0, 0, 0, 0, 0, 0, 0, 0, 0, 0, 0, 0, 0,\n",
            "        0, 0, 0, 0, 0, 0, 0, 0, 0, 0, 0, 0, 0, 0, 0, 0, 0, 0, 0, 0, 0, 0, 0, 0,\n",
            "        0, 0, 0, 0, 0, 0, 0, 0, 0, 0, 0, 0, 0, 0, 0, 0, 0, 0, 0, 0, 0, 0, 0, 0,\n",
            "        0, 0, 0, 0, 0, 0, 0, 0, 0, 0, 0, 0, 0, 0, 0, 0, 0, 0, 0, 0, 0, 0, 0, 0,\n",
            "        0, 0, 0, 0, 0, 0, 0, 0])\n"
          ]
        }
      ],
      "source": [
        "print(tokenizer.convert_ids_to_tokens(encoding[\"input_ids\"][0]))\n",
        "print(encoding[\"input_ids\"][0])\n",
        "print(encoding[\"attention_mask\"][0])"
      ]
    },
    {
      "cell_type": "code",
      "execution_count": 19,
      "id": "6a58d46d",
      "metadata": {
        "id": "6a58d46d"
      },
      "outputs": [],
      "source": [
        "# CREACION DEL DATASET\n",
        "\n",
        "class CustomDataset(Dataset):\n",
        "    def __init__(self, text, labels, tokenizer, max_len):\n",
        "        self.text = text\n",
        "        self.labels = labels\n",
        "        self.tokenizer = tokenizer\n",
        "        self.max_len = max_len\n",
        "\n",
        "    def __len__(self):\n",
        "      return len(self.text)\n",
        "\n",
        "    def __getitem__(self, item):\n",
        "      text = str(self.text[item])\n",
        "      label = self.labels[item]\n",
        "      encoding = tokenizer.encode_plus(\n",
        "          text,\n",
        "          add_special_tokens=True,\n",
        "          max_length=self.max_len,\n",
        "          return_token_type_ids=False,\n",
        "          pad_to_max_length=True,\n",
        "          truncation=True,\n",
        "          return_attention_mask=True,\n",
        "          return_tensors=\"pt\",\n",
        "      )\n",
        "      return {\"text\": text,\n",
        "                \"input_ids\": encoding[\"input_ids\"].flatten(),\n",
        "                \"attention_mask\": encoding[\"attention_mask\"].flatten(),\n",
        "                \"labels\": torch.tensor(label, dtype=torch.long)}\n"
      ]
    },
    {
      "cell_type": "code",
      "execution_count": 20,
      "id": "aedabb6f",
      "metadata": {},
      "outputs": [
        {
          "data": {
            "text/plain": [
              "Index(['sexo', 'edad', 'grupo', 'especialidad_medica', 'subjetivo', 'objetivo',\n",
              "       'concatenada', 'sexo_codificado', 'grupo_codificado'],\n",
              "      dtype='object')"
            ]
          },
          "execution_count": 20,
          "metadata": {},
          "output_type": "execute_result"
        }
      ],
      "source": [
        "df.columns"
      ]
    },
    {
      "cell_type": "code",
      "execution_count": 21,
      "id": "62b3a9f7",
      "metadata": {
        "id": "62b3a9f7"
      },
      "outputs": [],
      "source": [
        "# Data Loader:\n",
        "\n",
        "def data_loader(df, tokenizer, max_len, batch_size):\n",
        "    dataset = CustomDataset(\n",
        "        text = df[\"concatenada\"].to_numpy(),\n",
        "        labels = df[\"grupo_codificado\"].to_numpy(),\n",
        "        tokenizer = tokenizer,\n",
        "        max_len = MAX_LEN\n",
        "    )\n",
        "    return DataLoader(dataset, batch_size = BATCH_SIZE, num_workers = 4)\n"
      ]
    },
    {
      "cell_type": "code",
      "execution_count": 22,
      "id": "21a3ddeb",
      "metadata": {
        "colab": {
          "base_uri": "https://localhost:8080/"
        },
        "id": "21a3ddeb",
        "outputId": "3b6d044f-a432-4b31-c2ae-e5fc63e57a7a"
      },
      "outputs": [],
      "source": [
        "df_train, df_test = train_test_split(df, test_size=0.2, random_state=RANDOM_SEED)\n",
        "\n",
        "train_data_loader = data_loader(df_train, tokenizer, MAX_LEN, BATCH_SIZE)\n",
        "test_data_loader = data_loader(df_test, tokenizer, MAX_LEN, BATCH_SIZE)"
      ]
    },
    {
      "cell_type": "code",
      "execution_count": 28,
      "id": "92950448",
      "metadata": {
        "id": "92950448"
      },
      "outputs": [],
      "source": [
        "# Red Neuronal para el modelo BERT\n",
        "\n",
        "class BERTTextClassifier(nn.Module):\n",
        "    def __init__(self, n_classes):\n",
        "        super(BERTTextClassifier, self).__init__()\n",
        "        self.bert = BertModel.from_pretrained(PRE_TRAINED_MODEL_NAME)\n",
        "        self.dropout = nn.Dropout(0.3)\n",
        "        self.linear = nn.Linear(self.bert.config.hidden_size, n_classes)\n",
        "\n",
        "    def forward(self, input_ids, attention_mask):\n",
        "      outputs = self.bert(\n",
        "          input_ids = input_ids,\n",
        "          attention_mask = attention_mask\n",
        "      )\n",
        "      pooled_out = outputs.pooler_output\n",
        "      drop_out = self.dropout(pooled_out)\n",
        "      output = self.linear(drop_out)\n",
        "      return output\n"
      ]
    },
    {
      "cell_type": "code",
      "execution_count": 29,
      "id": "23793bee",
      "metadata": {
        "id": "23793bee"
      },
      "outputs": [],
      "source": [
        "model = BERTTextClassifier(NCLASS)\n",
        "model = model.to(device)"
      ]
    },
    {
      "cell_type": "code",
      "execution_count": 30,
      "id": "a45f4fdf",
      "metadata": {
        "colab": {
          "base_uri": "https://localhost:8080/"
        },
        "id": "a45f4fdf",
        "outputId": "b78a62a4-232f-49ee-c143-18cf958da96d"
      },
      "outputs": [
        {
          "name": "stdout",
          "output_type": "stream",
          "text": [
            "BERTTextClassifier(\n",
            "  (bert): BertModel(\n",
            "    (embeddings): BertEmbeddings(\n",
            "      (word_embeddings): Embedding(119547, 768, padding_idx=0)\n",
            "      (position_embeddings): Embedding(512, 768)\n",
            "      (token_type_embeddings): Embedding(2, 768)\n",
            "      (LayerNorm): LayerNorm((768,), eps=1e-12, elementwise_affine=True)\n",
            "      (dropout): Dropout(p=0.1, inplace=False)\n",
            "    )\n",
            "    (encoder): BertEncoder(\n",
            "      (layer): ModuleList(\n",
            "        (0-11): 12 x BertLayer(\n",
            "          (attention): BertAttention(\n",
            "            (self): BertSdpaSelfAttention(\n",
            "              (query): Linear(in_features=768, out_features=768, bias=True)\n",
            "              (key): Linear(in_features=768, out_features=768, bias=True)\n",
            "              (value): Linear(in_features=768, out_features=768, bias=True)\n",
            "              (dropout): Dropout(p=0.1, inplace=False)\n",
            "            )\n",
            "            (output): BertSelfOutput(\n",
            "              (dense): Linear(in_features=768, out_features=768, bias=True)\n",
            "              (LayerNorm): LayerNorm((768,), eps=1e-12, elementwise_affine=True)\n",
            "              (dropout): Dropout(p=0.1, inplace=False)\n",
            "            )\n",
            "          )\n",
            "          (intermediate): BertIntermediate(\n",
            "            (dense): Linear(in_features=768, out_features=3072, bias=True)\n",
            "            (intermediate_act_fn): GELUActivation()\n",
            "          )\n",
            "          (output): BertOutput(\n",
            "            (dense): Linear(in_features=3072, out_features=768, bias=True)\n",
            "            (LayerNorm): LayerNorm((768,), eps=1e-12, elementwise_affine=True)\n",
            "            (dropout): Dropout(p=0.1, inplace=False)\n",
            "          )\n",
            "        )\n",
            "      )\n",
            "    )\n",
            "    (pooler): BertPooler(\n",
            "      (dense): Linear(in_features=768, out_features=768, bias=True)\n",
            "      (activation): Tanh()\n",
            "    )\n",
            "  )\n",
            "  (dropout): Dropout(p=0.3, inplace=False)\n",
            "  (linear): Linear(in_features=768, out_features=6, bias=True)\n",
            ")\n"
          ]
        }
      ],
      "source": [
        "print(model)"
      ]
    },
    {
      "cell_type": "code",
      "execution_count": 31,
      "id": "Hk0wDL2XkDuu",
      "metadata": {
        "id": "Hk0wDL2XkDuu"
      },
      "outputs": [],
      "source": [
        "# ENTRENAMIENTO\n",
        "\n",
        "EPOCHS = 5\n",
        "optimizer = optim.AdamW(model.parameters(), lr=2e-5)\n",
        "# total_steps = (train_data_loader.batch_size) * EPOCHS\n",
        "total_steps = len(train_data_loader) * EPOCHS\n",
        "scheduler = get_linear_schedule_with_warmup(\n",
        "    optimizer,\n",
        "    num_warmup_steps = 0,\n",
        "    num_training_steps = total_steps\n",
        ")\n",
        "\n",
        "loss_fn = nn.CrossEntropyLoss().to(device)"
      ]
    },
    {
      "cell_type": "code",
      "execution_count": 32,
      "id": "9BN0cgl4mwGB",
      "metadata": {
        "id": "9BN0cgl4mwGB"
      },
      "outputs": [],
      "source": [
        "# Iteracion de Entranamiento\n",
        "\n",
        "def train_model(model, data_loader, loss_fn, optimizer, device, scheduler, n_examples):\n",
        "    model = model.train()\n",
        "    losses = []\n",
        "    correct_predictions = 0\n",
        "    for batch in data_loader:\n",
        "        input_ids = batch[\"input_ids\"].to(device)\n",
        "        attention_mask = batch[\"attention_mask\"].to(device)\n",
        "        labels = batch[\"labels\"].to(device)\n",
        "        outputs = model(input_ids = input_ids, attention_mask = attention_mask)\n",
        "        _, preds = torch.max(outputs, dim=1)\n",
        "        loss = loss_fn(outputs, labels)\n",
        "        correct_predictions += torch.sum(preds == labels)\n",
        "        losses.append(loss.item())\n",
        "        loss.backward()\n",
        "        nn.utils.clip_grad_norm_(model.parameters(), max_norm=1.0)\n",
        "        optimizer.step()\n",
        "        scheduler.step()\n",
        "        optimizer.zero_grad()\n",
        "    return correct_predictions.double() / n_examples, np.mean(losses)\n",
        "\n",
        "def eval_model(model, data_loader, loss_fn, device, n_examples):\n",
        "    model = model.eval()\n",
        "    losses = []\n",
        "    correct_predictions = 0\n",
        "    with torch.no_grad():\n",
        "        for batch in data_loader:\n",
        "            input_ids = batch[\"input_ids\"].to(device)\n",
        "            attention_mask = batch[\"attention_mask\"].to(device)\n",
        "            labels = batch[\"labels\"].to(device)\n",
        "            outputs = model(input_ids = input_ids, attention_mask = attention_mask)\n",
        "            _, preds = torch.max(outputs, dim=1)\n",
        "            loss = loss_fn(outputs, labels)\n",
        "            correct_predictions += torch.sum(preds == labels)\n",
        "            losses.append(loss.item())\n",
        "    return correct_predictions.double() / n_examples, np.mean(losses)"
      ]
    },
    {
      "cell_type": "code",
      "execution_count": 33,
      "id": "dT9Qi8pYqIGB",
      "metadata": {
        "colab": {
          "base_uri": "https://localhost:8080/"
        },
        "id": "dT9Qi8pYqIGB",
        "outputId": "10b555cc-54ee-43e9-e5b3-97a9ae135a38"
      },
      "outputs": [
        {
          "data": {
            "text/plain": [
              "400"
            ]
          },
          "execution_count": 33,
          "metadata": {},
          "output_type": "execute_result"
        }
      ],
      "source": [
        "len(df_train)"
      ]
    },
    {
      "cell_type": "code",
      "execution_count": null,
      "id": "atUmLe2wo1-i",
      "metadata": {
        "colab": {
          "base_uri": "https://localhost:8080/"
        },
        "id": "atUmLe2wo1-i",
        "outputId": "6675b913-1f23-4b94-d356-9f73e8c02b2c"
      },
      "outputs": [
        {
          "name": "stdout",
          "output_type": "stream",
          "text": [
            "Epoch 1 de 5\n",
            "-----------------------------------\n"
          ]
        }
      ],
      "source": [
        "import time\n",
        "\n",
        "# Entrenamiento del Modelo\n",
        "\n",
        "for epoch in range(EPOCHS):\n",
        "  print(\"Epoch {} de {}\".format(epoch + 1, EPOCHS))\n",
        "  print(\"-----------------------------------\")\n",
        "  \n",
        "  start_time = time.time()\n",
        "\n",
        "  train_acc, train_loss = train_model(model, train_data_loader, loss_fn, optimizer, device, scheduler, len(df_train))\n",
        "\n",
        "  test_acc, test_loss = eval_model(model, test_data_loader, loss_fn, device, len(df_test))\n",
        "  \n",
        "  end_time = time.time()\n",
        "\n",
        "  print(\"Entramiento: Loss: {}, accuracy: {}\".format(train_loss, train_acc))\n",
        "  print(\"Evaluacion: Loss: {}, accuracy: {}\".format(test_loss, test_acc))\n",
        "  print(f\"Tiempo de la época: {end_time - start_time:.2f} segundos\")\n",
        "  print(\"\")\n"
      ]
    }
  ],
  "metadata": {
    "accelerator": "GPU",
    "colab": {
      "gpuType": "T4",
      "provenance": []
    },
    "kernelspec": {
      "display_name": "BERT_NLP (3.9.13)",
      "language": "python",
      "name": "python3"
    },
    "language_info": {
      "codemirror_mode": {
        "name": "ipython",
        "version": 3
      },
      "file_extension": ".py",
      "mimetype": "text/x-python",
      "name": "python",
      "nbconvert_exporter": "python",
      "pygments_lexer": "ipython3",
      "version": "3.9.13"
    }
  },
  "nbformat": 4,
  "nbformat_minor": 5
}
