{
 "cells": [
  {
   "cell_type": "code",
   "execution_count": 1,
   "id": "1611bb22",
   "metadata": {},
   "outputs": [],
   "source": [
    "import sys\n",
    "import os\n",
    "\n",
    "sys.path.append(os.path.abspath(\"..\"))\n"
   ]
  },
  {
   "cell_type": "code",
   "execution_count": 2,
   "id": "1c99aeab",
   "metadata": {},
   "outputs": [],
   "source": [
    "from config.settings import DB_CONNECTION_STRING\n"
   ]
  },
  {
   "cell_type": "code",
   "execution_count": 4,
   "id": "a289da34",
   "metadata": {},
   "outputs": [],
   "source": [
    "import pandas as pd\n",
    "from sqlalchemy import create_engine, text\n",
    "from config.settings import DB_CONNECTION_STRING\n",
    "import plotly.express as px\n",
    "\n",
    "# Leer el archivo SQL\n",
    "with open(\"../sql_queries/queries.sql\", \"r\", encoding=\"utf-8\") as file:\n",
    "    query = file.read()\n",
    "\n",
    "# Parámetros para la consulta\n",
    "params = {\n",
    "    \"medico\": \"PSICOLOGÍA\",\n",
    "    \"fechaini\": \"2023-01-01\",\n",
    "    \"fechafin\": \"2025-05-04\"\n",
    "}\n",
    "\n",
    "# Crear conexión y ejecutar\n",
    "engine = create_engine(DB_CONNECTION_STRING)\n",
    "with engine.connect() as conn:\n",
    "    historias_clinicas = pd.read_sql(text(query), conn, params=params)\n",
    "\n",
    "historias_clinicas=historias_clinicas.head(3000)\n"
   ]
  },
  {
   "cell_type": "code",
   "execution_count": 5,
   "id": "4c625e39",
   "metadata": {},
   "outputs": [
    {
     "data": {
      "text/plain": [
       "pandas.core.frame.DataFrame"
      ]
     },
     "execution_count": 5,
     "metadata": {},
     "output_type": "execute_result"
    }
   ],
   "source": [
    "type(historias_clinicas)"
   ]
  },
  {
   "cell_type": "code",
   "execution_count": 6,
   "id": "55aa3276",
   "metadata": {},
   "outputs": [
    {
     "name": "stdout",
     "output_type": "stream",
     "text": [
      "(3000, 7)\n"
     ]
    }
   ],
   "source": [
    "#dimennsiones\n",
    "dimensiones=historias_clinicas.shape\n",
    "print(dimensiones)"
   ]
  },
  {
   "cell_type": "code",
   "execution_count": 7,
   "id": "5912e57d",
   "metadata": {},
   "outputs": [
    {
     "data": {
      "text/plain": [
       "SEXO                   object\n",
       "EDAD                    int64\n",
       "GRUPO                  object\n",
       "ESPECIALIDAD_MEDICA    object\n",
       "SUBJETIVO              object\n",
       "OBJETIVO               object\n",
       "Concatenada            object\n",
       "dtype: object"
      ]
     },
     "execution_count": 7,
     "metadata": {},
     "output_type": "execute_result"
    }
   ],
   "source": [
    "historias_clinicas.dtypes\n"
   ]
  },
  {
   "cell_type": "code",
   "execution_count": 8,
   "id": "c7ae8682",
   "metadata": {},
   "outputs": [
    {
     "data": {
      "text/html": [
       "<div>\n",
       "<style scoped>\n",
       "    .dataframe tbody tr th:only-of-type {\n",
       "        vertical-align: middle;\n",
       "    }\n",
       "\n",
       "    .dataframe tbody tr th {\n",
       "        vertical-align: top;\n",
       "    }\n",
       "\n",
       "    .dataframe thead th {\n",
       "        text-align: right;\n",
       "    }\n",
       "</style>\n",
       "<table border=\"1\" class=\"dataframe\">\n",
       "  <thead>\n",
       "    <tr style=\"text-align: right;\">\n",
       "      <th></th>\n",
       "      <th>count</th>\n",
       "      <th>unique</th>\n",
       "      <th>top</th>\n",
       "      <th>freq</th>\n",
       "      <th>mean</th>\n",
       "      <th>std</th>\n",
       "      <th>min</th>\n",
       "      <th>25%</th>\n",
       "      <th>50%</th>\n",
       "      <th>75%</th>\n",
       "      <th>max</th>\n",
       "    </tr>\n",
       "  </thead>\n",
       "  <tbody>\n",
       "    <tr>\n",
       "      <th>SEXO</th>\n",
       "      <td>3000</td>\n",
       "      <td>2</td>\n",
       "      <td>Femenino</td>\n",
       "      <td>2054</td>\n",
       "      <td>NaN</td>\n",
       "      <td>NaN</td>\n",
       "      <td>NaN</td>\n",
       "      <td>NaN</td>\n",
       "      <td>NaN</td>\n",
       "      <td>NaN</td>\n",
       "      <td>NaN</td>\n",
       "    </tr>\n",
       "    <tr>\n",
       "      <th>EDAD</th>\n",
       "      <td>3000.0</td>\n",
       "      <td>NaN</td>\n",
       "      <td>NaN</td>\n",
       "      <td>NaN</td>\n",
       "      <td>33.484</td>\n",
       "      <td>17.704092</td>\n",
       "      <td>1.0</td>\n",
       "      <td>19.0</td>\n",
       "      <td>31.0</td>\n",
       "      <td>43.0</td>\n",
       "      <td>89.0</td>\n",
       "    </tr>\n",
       "    <tr>\n",
       "      <th>GRUPO</th>\n",
       "      <td>3000</td>\n",
       "      <td>6</td>\n",
       "      <td>T. de Ansiedad</td>\n",
       "      <td>817</td>\n",
       "      <td>NaN</td>\n",
       "      <td>NaN</td>\n",
       "      <td>NaN</td>\n",
       "      <td>NaN</td>\n",
       "      <td>NaN</td>\n",
       "      <td>NaN</td>\n",
       "      <td>NaN</td>\n",
       "    </tr>\n",
       "    <tr>\n",
       "      <th>ESPECIALIDAD_MEDICA</th>\n",
       "      <td>3000</td>\n",
       "      <td>1</td>\n",
       "      <td>PSICOLOGÍA</td>\n",
       "      <td>3000</td>\n",
       "      <td>NaN</td>\n",
       "      <td>NaN</td>\n",
       "      <td>NaN</td>\n",
       "      <td>NaN</td>\n",
       "      <td>NaN</td>\n",
       "      <td>NaN</td>\n",
       "      <td>NaN</td>\n",
       "    </tr>\n",
       "    <tr>\n",
       "      <th>SUBJETIVO</th>\n",
       "      <td>2911</td>\n",
       "      <td>2802</td>\n",
       "      <td></td>\n",
       "      <td>11</td>\n",
       "      <td>NaN</td>\n",
       "      <td>NaN</td>\n",
       "      <td>NaN</td>\n",
       "      <td>NaN</td>\n",
       "      <td>NaN</td>\n",
       "      <td>NaN</td>\n",
       "      <td>NaN</td>\n",
       "    </tr>\n",
       "    <tr>\n",
       "      <th>OBJETIVO</th>\n",
       "      <td>2950</td>\n",
       "      <td>1933</td>\n",
       "      <td>Alerta, actitud adecuada, orientación en tiemp...</td>\n",
       "      <td>78</td>\n",
       "      <td>NaN</td>\n",
       "      <td>NaN</td>\n",
       "      <td>NaN</td>\n",
       "      <td>NaN</td>\n",
       "      <td>NaN</td>\n",
       "      <td>NaN</td>\n",
       "      <td>NaN</td>\n",
       "    </tr>\n",
       "    <tr>\n",
       "      <th>Concatenada</th>\n",
       "      <td>3000</td>\n",
       "      <td>2876</td>\n",
       "      <td></td>\n",
       "      <td>33</td>\n",
       "      <td>NaN</td>\n",
       "      <td>NaN</td>\n",
       "      <td>NaN</td>\n",
       "      <td>NaN</td>\n",
       "      <td>NaN</td>\n",
       "      <td>NaN</td>\n",
       "      <td>NaN</td>\n",
       "    </tr>\n",
       "  </tbody>\n",
       "</table>\n",
       "</div>"
      ],
      "text/plain": [
       "                      count unique  \\\n",
       "SEXO                   3000      2   \n",
       "EDAD                 3000.0    NaN   \n",
       "GRUPO                  3000      6   \n",
       "ESPECIALIDAD_MEDICA    3000      1   \n",
       "SUBJETIVO              2911   2802   \n",
       "OBJETIVO               2950   1933   \n",
       "Concatenada            3000   2876   \n",
       "\n",
       "                                                                   top  freq  \\\n",
       "SEXO                                                          Femenino  2054   \n",
       "EDAD                                                               NaN   NaN   \n",
       "GRUPO                                                   T. de Ansiedad   817   \n",
       "ESPECIALIDAD_MEDICA                                         PSICOLOGÍA  3000   \n",
       "SUBJETIVO                                                                 11   \n",
       "OBJETIVO             Alerta, actitud adecuada, orientación en tiemp...    78   \n",
       "Concatenada                                                               33   \n",
       "\n",
       "                       mean        std  min   25%   50%   75%   max  \n",
       "SEXO                    NaN        NaN  NaN   NaN   NaN   NaN   NaN  \n",
       "EDAD                 33.484  17.704092  1.0  19.0  31.0  43.0  89.0  \n",
       "GRUPO                   NaN        NaN  NaN   NaN   NaN   NaN   NaN  \n",
       "ESPECIALIDAD_MEDICA     NaN        NaN  NaN   NaN   NaN   NaN   NaN  \n",
       "SUBJETIVO               NaN        NaN  NaN   NaN   NaN   NaN   NaN  \n",
       "OBJETIVO                NaN        NaN  NaN   NaN   NaN   NaN   NaN  \n",
       "Concatenada             NaN        NaN  NaN   NaN   NaN   NaN   NaN  "
      ]
     },
     "execution_count": 8,
     "metadata": {},
     "output_type": "execute_result"
    }
   ],
   "source": [
    "historias_clinicas.describe(include=\"all\").T"
   ]
  },
  {
   "cell_type": "code",
   "execution_count": 9,
   "id": "033571f2",
   "metadata": {},
   "outputs": [],
   "source": [
    "historias_clinicas[\"GRUPO\"]=historias_clinicas[\"GRUPO\"].str.capitalize()"
   ]
  },
  {
   "cell_type": "code",
   "execution_count": 10,
   "id": "416ad2ba",
   "metadata": {},
   "outputs": [
    {
     "data": {
      "text/plain": [
       "SEXO                    0\n",
       "EDAD                    0\n",
       "GRUPO                   0\n",
       "ESPECIALIDAD_MEDICA     0\n",
       "SUBJETIVO              89\n",
       "OBJETIVO               50\n",
       "Concatenada             0\n",
       "dtype: int64"
      ]
     },
     "execution_count": 10,
     "metadata": {},
     "output_type": "execute_result"
    }
   ],
   "source": [
    "#Nulos\n",
    "historias_clinicas.isnull().sum()"
   ]
  },
  {
   "cell_type": "code",
   "execution_count": 11,
   "id": "5af67970",
   "metadata": {},
   "outputs": [],
   "source": [
    "#Concatener columnas\n",
    "historias_clinicas[\"Concatenada\"] = historias_clinicas[\"SUBJETIVO\"].astype(str) + \" \" + historias_clinicas[\"OBJETIVO\"].astype(str)\n",
    "\n"
   ]
  },
  {
   "cell_type": "code",
   "execution_count": 12,
   "id": "d489c418",
   "metadata": {},
   "outputs": [
    {
     "data": {
      "text/html": [
       "<div>\n",
       "<style scoped>\n",
       "    .dataframe tbody tr th:only-of-type {\n",
       "        vertical-align: middle;\n",
       "    }\n",
       "\n",
       "    .dataframe tbody tr th {\n",
       "        vertical-align: top;\n",
       "    }\n",
       "\n",
       "    .dataframe thead th {\n",
       "        text-align: right;\n",
       "    }\n",
       "</style>\n",
       "<table border=\"1\" class=\"dataframe\">\n",
       "  <thead>\n",
       "    <tr style=\"text-align: right;\">\n",
       "      <th></th>\n",
       "      <th>SEXO</th>\n",
       "      <th>EDAD</th>\n",
       "      <th>GRUPO</th>\n",
       "      <th>ESPECIALIDAD_MEDICA</th>\n",
       "      <th>SUBJETIVO</th>\n",
       "      <th>OBJETIVO</th>\n",
       "      <th>Concatenada</th>\n",
       "    </tr>\n",
       "  </thead>\n",
       "  <tbody>\n",
       "    <tr>\n",
       "      <th>0</th>\n",
       "      <td>Masculino</td>\n",
       "      <td>10</td>\n",
       "      <td>T. externalizantes</td>\n",
       "      <td>PSICOLOGÍA</td>\n",
       "      <td>None</td>\n",
       "      <td>None</td>\n",
       "      <td>None None</td>\n",
       "    </tr>\n",
       "    <tr>\n",
       "      <th>1</th>\n",
       "      <td>Femenino</td>\n",
       "      <td>38</td>\n",
       "      <td>Otros trastornos</td>\n",
       "      <td>PSICOLOGÍA</td>\n",
       "      <td>Paciente refiere: \"Me empezaron a dar como uno...</td>\n",
       "      <td>Paciente alerta, colaboradora con apariencia o...</td>\n",
       "      <td>Paciente refiere: \"Me empezaron a dar como uno...</td>\n",
       "    </tr>\n",
       "    <tr>\n",
       "      <th>2</th>\n",
       "      <td>Masculino</td>\n",
       "      <td>22</td>\n",
       "      <td>T. externalizantes</td>\n",
       "      <td>PSICOLOGÍA</td>\n",
       "      <td>Paciente refiere \"Me he sentido muy mal, en el...</td>\n",
       "      <td>Paciente a quien evaluó por primera vez, alert...</td>\n",
       "      <td>Paciente refiere \"Me he sentido muy mal, en el...</td>\n",
       "    </tr>\n",
       "    <tr>\n",
       "      <th>3</th>\n",
       "      <td>Masculino</td>\n",
       "      <td>9</td>\n",
       "      <td>Otros trastornos</td>\n",
       "      <td>PSICOLOGÍA</td>\n",
       "      <td>La madre refiere \"el viene por un acompañamien...</td>\n",
       "      <td>None</td>\n",
       "      <td>La madre refiere \"el viene por un acompañamien...</td>\n",
       "    </tr>\n",
       "    <tr>\n",
       "      <th>4</th>\n",
       "      <td>Masculino</td>\n",
       "      <td>28</td>\n",
       "      <td>Otros trastornos</td>\n",
       "      <td>PSICOLOGÍA</td>\n",
       "      <td>Paciente refiere \"Estas cosas que han pasado m...</td>\n",
       "      <td>Paciente quien evalúo por primera vez, alerta,...</td>\n",
       "      <td>Paciente refiere \"Estas cosas que han pasado m...</td>\n",
       "    </tr>\n",
       "    <tr>\n",
       "      <th>...</th>\n",
       "      <td>...</td>\n",
       "      <td>...</td>\n",
       "      <td>...</td>\n",
       "      <td>...</td>\n",
       "      <td>...</td>\n",
       "      <td>...</td>\n",
       "      <td>...</td>\n",
       "    </tr>\n",
       "    <tr>\n",
       "      <th>2995</th>\n",
       "      <td>Femenino</td>\n",
       "      <td>76</td>\n",
       "      <td>T. depresivos</td>\n",
       "      <td>PSICOLOGÍA</td>\n",
       "      <td>La paciente refiere: \"Gracias a Dios uno vivo ...</td>\n",
       "      <td>Paciente orientada en tiempo, lugar y persona,...</td>\n",
       "      <td>La paciente refiere: \"Gracias a Dios uno vivo ...</td>\n",
       "    </tr>\n",
       "    <tr>\n",
       "      <th>2996</th>\n",
       "      <td>Femenino</td>\n",
       "      <td>23</td>\n",
       "      <td>T. personalidad</td>\n",
       "      <td>PSICOLOGÍA</td>\n",
       "      <td>La paciente refiere: \"tomé la decisión de canc...</td>\n",
       "      <td>Paciente orientada en tiempo, lugar y persona,...</td>\n",
       "      <td>La paciente refiere: \"tomé la decisión de canc...</td>\n",
       "    </tr>\n",
       "    <tr>\n",
       "      <th>2997</th>\n",
       "      <td>Masculino</td>\n",
       "      <td>40</td>\n",
       "      <td>T. depresivos</td>\n",
       "      <td>PSICOLOGÍA</td>\n",
       "      <td>\"En septiembre del 2022 me tome un veneno porq...</td>\n",
       "      <td>Paciente quien evalúo por primera vez, orienta...</td>\n",
       "      <td>\"En septiembre del 2022 me tome un veneno porq...</td>\n",
       "    </tr>\n",
       "    <tr>\n",
       "      <th>2998</th>\n",
       "      <td>Femenino</td>\n",
       "      <td>23</td>\n",
       "      <td>T. de ansiedad</td>\n",
       "      <td>PSICOLOGÍA</td>\n",
       "      <td>La paciente refiere: \"la verdad no se, hace mu...</td>\n",
       "      <td>Paciente orientada en tiempo, lugar y persona,...</td>\n",
       "      <td>La paciente refiere: \"la verdad no se, hace mu...</td>\n",
       "    </tr>\n",
       "    <tr>\n",
       "      <th>2999</th>\n",
       "      <td>Masculino</td>\n",
       "      <td>29</td>\n",
       "      <td>T. de ansiedad</td>\n",
       "      <td>PSICOLOGÍA</td>\n",
       "      <td>El paciente refiere: \"yo ya llevo dos citas co...</td>\n",
       "      <td>Paciente orientado en tiempo, lugar y persona,...</td>\n",
       "      <td>El paciente refiere: \"yo ya llevo dos citas co...</td>\n",
       "    </tr>\n",
       "  </tbody>\n",
       "</table>\n",
       "<p>3000 rows × 7 columns</p>\n",
       "</div>"
      ],
      "text/plain": [
       "           SEXO  EDAD               GRUPO ESPECIALIDAD_MEDICA  \\\n",
       "0     Masculino    10  T. externalizantes          PSICOLOGÍA   \n",
       "1      Femenino    38    Otros trastornos          PSICOLOGÍA   \n",
       "2     Masculino    22  T. externalizantes          PSICOLOGÍA   \n",
       "3     Masculino     9    Otros trastornos          PSICOLOGÍA   \n",
       "4     Masculino    28    Otros trastornos          PSICOLOGÍA   \n",
       "...         ...   ...                 ...                 ...   \n",
       "2995   Femenino    76       T. depresivos          PSICOLOGÍA   \n",
       "2996   Femenino    23     T. personalidad          PSICOLOGÍA   \n",
       "2997  Masculino    40       T. depresivos          PSICOLOGÍA   \n",
       "2998   Femenino    23      T. de ansiedad          PSICOLOGÍA   \n",
       "2999  Masculino    29      T. de ansiedad          PSICOLOGÍA   \n",
       "\n",
       "                                              SUBJETIVO  \\\n",
       "0                                                  None   \n",
       "1     Paciente refiere: \"Me empezaron a dar como uno...   \n",
       "2     Paciente refiere \"Me he sentido muy mal, en el...   \n",
       "3     La madre refiere \"el viene por un acompañamien...   \n",
       "4     Paciente refiere \"Estas cosas que han pasado m...   \n",
       "...                                                 ...   \n",
       "2995  La paciente refiere: \"Gracias a Dios uno vivo ...   \n",
       "2996  La paciente refiere: \"tomé la decisión de canc...   \n",
       "2997  \"En septiembre del 2022 me tome un veneno porq...   \n",
       "2998  La paciente refiere: \"la verdad no se, hace mu...   \n",
       "2999  El paciente refiere: \"yo ya llevo dos citas co...   \n",
       "\n",
       "                                               OBJETIVO  \\\n",
       "0                                                  None   \n",
       "1     Paciente alerta, colaboradora con apariencia o...   \n",
       "2     Paciente a quien evaluó por primera vez, alert...   \n",
       "3                                                  None   \n",
       "4     Paciente quien evalúo por primera vez, alerta,...   \n",
       "...                                                 ...   \n",
       "2995  Paciente orientada en tiempo, lugar y persona,...   \n",
       "2996  Paciente orientada en tiempo, lugar y persona,...   \n",
       "2997  Paciente quien evalúo por primera vez, orienta...   \n",
       "2998  Paciente orientada en tiempo, lugar y persona,...   \n",
       "2999  Paciente orientado en tiempo, lugar y persona,...   \n",
       "\n",
       "                                            Concatenada  \n",
       "0                                             None None  \n",
       "1     Paciente refiere: \"Me empezaron a dar como uno...  \n",
       "2     Paciente refiere \"Me he sentido muy mal, en el...  \n",
       "3     La madre refiere \"el viene por un acompañamien...  \n",
       "4     Paciente refiere \"Estas cosas que han pasado m...  \n",
       "...                                                 ...  \n",
       "2995  La paciente refiere: \"Gracias a Dios uno vivo ...  \n",
       "2996  La paciente refiere: \"tomé la decisión de canc...  \n",
       "2997  \"En septiembre del 2022 me tome un veneno porq...  \n",
       "2998  La paciente refiere: \"la verdad no se, hace mu...  \n",
       "2999  El paciente refiere: \"yo ya llevo dos citas co...  \n",
       "\n",
       "[3000 rows x 7 columns]"
      ]
     },
     "execution_count": 12,
     "metadata": {},
     "output_type": "execute_result"
    }
   ],
   "source": [
    "historias_clinicas"
   ]
  },
  {
   "cell_type": "code",
   "execution_count": 13,
   "id": "fa70b5dd",
   "metadata": {},
   "outputs": [
    {
     "name": "stdout",
     "output_type": "stream",
     "text": [
      "<class 'pandas.core.frame.DataFrame'>\n",
      "RangeIndex: 3000 entries, 0 to 2999\n",
      "Data columns (total 7 columns):\n",
      " #   Column               Non-Null Count  Dtype \n",
      "---  ------               --------------  ----- \n",
      " 0   SEXO                 3000 non-null   object\n",
      " 1   EDAD                 3000 non-null   int64 \n",
      " 2   GRUPO                3000 non-null   object\n",
      " 3   ESPECIALIDAD_MEDICA  3000 non-null   object\n",
      " 4   SUBJETIVO            2911 non-null   object\n",
      " 5   OBJETIVO             2950 non-null   object\n",
      " 6   Concatenada          3000 non-null   object\n",
      "dtypes: int64(1), object(6)\n",
      "memory usage: 164.2+ KB\n"
     ]
    }
   ],
   "source": [
    "#Información\n",
    "historias_clinicas.info()"
   ]
  },
  {
   "cell_type": "code",
   "execution_count": 14,
   "id": "a6f787ef",
   "metadata": {},
   "outputs": [
    {
     "ename": "ValueError",
     "evalue": "Mime type rendering requires nbformat>=4.2.0 but it is not installed",
     "output_type": "error",
     "traceback": [
      "\u001b[31m---------------------------------------------------------------------------\u001b[39m",
      "\u001b[31mValueError\u001b[39m                                Traceback (most recent call last)",
      "\u001b[36mFile \u001b[39m\u001b[32mc:\\Users\\ISAIAS_QUINTERO\\Desktop\\Universiad\\MLOps\\Proyecto_Final\\.venv\\Lib\\site-packages\\IPython\\core\\formatters.py:984\u001b[39m, in \u001b[36mIPythonDisplayFormatter.__call__\u001b[39m\u001b[34m(self, obj)\u001b[39m\n\u001b[32m    982\u001b[39m method = get_real_method(obj, \u001b[38;5;28mself\u001b[39m.print_method)\n\u001b[32m    983\u001b[39m \u001b[38;5;28;01mif\u001b[39;00m method \u001b[38;5;129;01mis\u001b[39;00m \u001b[38;5;129;01mnot\u001b[39;00m \u001b[38;5;28;01mNone\u001b[39;00m:\n\u001b[32m--> \u001b[39m\u001b[32m984\u001b[39m     \u001b[43mmethod\u001b[49m\u001b[43m(\u001b[49m\u001b[43m)\u001b[49m\n\u001b[32m    985\u001b[39m     \u001b[38;5;28;01mreturn\u001b[39;00m \u001b[38;5;28;01mTrue\u001b[39;00m\n",
      "\u001b[36mFile \u001b[39m\u001b[32mc:\\Users\\ISAIAS_QUINTERO\\Desktop\\Universiad\\MLOps\\Proyecto_Final\\.venv\\Lib\\site-packages\\plotly\\basedatatypes.py:850\u001b[39m, in \u001b[36mBaseFigure._ipython_display_\u001b[39m\u001b[34m(self)\u001b[39m\n\u001b[32m    847\u001b[39m \u001b[38;5;28;01mimport\u001b[39;00m\u001b[38;5;250m \u001b[39m\u001b[34;01mplotly\u001b[39;00m\u001b[34;01m.\u001b[39;00m\u001b[34;01mio\u001b[39;00m\u001b[38;5;250m \u001b[39m\u001b[38;5;28;01mas\u001b[39;00m\u001b[38;5;250m \u001b[39m\u001b[34;01mpio\u001b[39;00m\n\u001b[32m    849\u001b[39m \u001b[38;5;28;01mif\u001b[39;00m pio.renderers.render_on_display \u001b[38;5;129;01mand\u001b[39;00m pio.renderers.default:\n\u001b[32m--> \u001b[39m\u001b[32m850\u001b[39m     \u001b[43mpio\u001b[49m\u001b[43m.\u001b[49m\u001b[43mshow\u001b[49m\u001b[43m(\u001b[49m\u001b[38;5;28;43mself\u001b[39;49m\u001b[43m)\u001b[49m\n\u001b[32m    851\u001b[39m \u001b[38;5;28;01melse\u001b[39;00m:\n\u001b[32m    852\u001b[39m     \u001b[38;5;28mprint\u001b[39m(\u001b[38;5;28mrepr\u001b[39m(\u001b[38;5;28mself\u001b[39m))\n",
      "\u001b[36mFile \u001b[39m\u001b[32mc:\\Users\\ISAIAS_QUINTERO\\Desktop\\Universiad\\MLOps\\Proyecto_Final\\.venv\\Lib\\site-packages\\plotly\\io\\_renderers.py:415\u001b[39m, in \u001b[36mshow\u001b[39m\u001b[34m(fig, renderer, validate, **kwargs)\u001b[39m\n\u001b[32m    410\u001b[39m     \u001b[38;5;28;01mraise\u001b[39;00m \u001b[38;5;167;01mValueError\u001b[39;00m(\n\u001b[32m    411\u001b[39m         \u001b[33m\"\u001b[39m\u001b[33mMime type rendering requires ipython but it is not installed\u001b[39m\u001b[33m\"\u001b[39m\n\u001b[32m    412\u001b[39m     )\n\u001b[32m    414\u001b[39m \u001b[38;5;28;01mif\u001b[39;00m \u001b[38;5;129;01mnot\u001b[39;00m nbformat \u001b[38;5;129;01mor\u001b[39;00m Version(nbformat.__version__) < Version(\u001b[33m\"\u001b[39m\u001b[33m4.2.0\u001b[39m\u001b[33m\"\u001b[39m):\n\u001b[32m--> \u001b[39m\u001b[32m415\u001b[39m     \u001b[38;5;28;01mraise\u001b[39;00m \u001b[38;5;167;01mValueError\u001b[39;00m(\n\u001b[32m    416\u001b[39m         \u001b[33m\"\u001b[39m\u001b[33mMime type rendering requires nbformat>=4.2.0 but it is not installed\u001b[39m\u001b[33m\"\u001b[39m\n\u001b[32m    417\u001b[39m     )\n\u001b[32m    419\u001b[39m display_jupyter_version_warnings()\n\u001b[32m    421\u001b[39m ipython_display.display(bundle, raw=\u001b[38;5;28;01mTrue\u001b[39;00m)\n",
      "\u001b[31mValueError\u001b[39m: Mime type rendering requires nbformat>=4.2.0 but it is not installed"
     ]
    },
    {
     "data": {
      "application/vnd.plotly.v1+json": {
       "config": {
        "plotlyServerURL": "https://plot.ly"
       },
       "data": [
        {
         "bingroup": "x",
         "hovertemplate": "SEXO=%{x}<br>count=%{y}<extra></extra>",
         "legendgroup": "Masculino",
         "marker": {
          "color": "#636efa",
          "pattern": {
           "shape": ""
          }
         },
         "name": "Masculino",
         "orientation": "v",
         "showlegend": true,
         "texttemplate": "%{value}",
         "type": "histogram",
         "x": [
          "Masculino",
          "Masculino",
          "Masculino",
          "Masculino",
          "Masculino",
          "Masculino",
          "Masculino",
          "Masculino",
          "Masculino",
          "Masculino",
          "Masculino",
          "Masculino",
          "Masculino",
          "Masculino",
          "Masculino",
          "Masculino",
          "Masculino",
          "Masculino",
          "Masculino",
          "Masculino",
          "Masculino",
          "Masculino",
          "Masculino",
          "Masculino",
          "Masculino",
          "Masculino",
          "Masculino",
          "Masculino",
          "Masculino",
          "Masculino",
          "Masculino",
          "Masculino",
          "Masculino",
          "Masculino",
          "Masculino",
          "Masculino",
          "Masculino",
          "Masculino",
          "Masculino",
          "Masculino",
          "Masculino",
          "Masculino",
          "Masculino",
          "Masculino",
          "Masculino",
          "Masculino",
          "Masculino",
          "Masculino",
          "Masculino",
          "Masculino",
          "Masculino",
          "Masculino",
          "Masculino",
          "Masculino",
          "Masculino",
          "Masculino",
          "Masculino",
          "Masculino",
          "Masculino",
          "Masculino",
          "Masculino",
          "Masculino",
          "Masculino",
          "Masculino",
          "Masculino",
          "Masculino",
          "Masculino",
          "Masculino",
          "Masculino",
          "Masculino",
          "Masculino",
          "Masculino",
          "Masculino",
          "Masculino",
          "Masculino",
          "Masculino",
          "Masculino",
          "Masculino",
          "Masculino",
          "Masculino",
          "Masculino",
          "Masculino",
          "Masculino",
          "Masculino",
          "Masculino",
          "Masculino",
          "Masculino",
          "Masculino",
          "Masculino",
          "Masculino",
          "Masculino",
          "Masculino",
          "Masculino",
          "Masculino",
          "Masculino",
          "Masculino",
          "Masculino",
          "Masculino",
          "Masculino",
          "Masculino",
          "Masculino",
          "Masculino",
          "Masculino",
          "Masculino",
          "Masculino",
          "Masculino",
          "Masculino",
          "Masculino",
          "Masculino",
          "Masculino",
          "Masculino",
          "Masculino",
          "Masculino",
          "Masculino",
          "Masculino",
          "Masculino",
          "Masculino",
          "Masculino",
          "Masculino",
          "Masculino",
          "Masculino",
          "Masculino",
          "Masculino",
          "Masculino",
          "Masculino",
          "Masculino",
          "Masculino",
          "Masculino",
          "Masculino",
          "Masculino",
          "Masculino",
          "Masculino",
          "Masculino",
          "Masculino",
          "Masculino",
          "Masculino",
          "Masculino",
          "Masculino",
          "Masculino",
          "Masculino",
          "Masculino",
          "Masculino",
          "Masculino",
          "Masculino",
          "Masculino",
          "Masculino",
          "Masculino",
          "Masculino",
          "Masculino",
          "Masculino",
          "Masculino",
          "Masculino",
          "Masculino",
          "Masculino",
          "Masculino",
          "Masculino",
          "Masculino",
          "Masculino",
          "Masculino",
          "Masculino",
          "Masculino",
          "Masculino",
          "Masculino",
          "Masculino",
          "Masculino",
          "Masculino",
          "Masculino",
          "Masculino",
          "Masculino",
          "Masculino",
          "Masculino",
          "Masculino",
          "Masculino",
          "Masculino",
          "Masculino",
          "Masculino",
          "Masculino",
          "Masculino",
          "Masculino",
          "Masculino",
          "Masculino",
          "Masculino",
          "Masculino",
          "Masculino",
          "Masculino",
          "Masculino",
          "Masculino",
          "Masculino",
          "Masculino",
          "Masculino",
          "Masculino",
          "Masculino",
          "Masculino",
          "Masculino",
          "Masculino",
          "Masculino",
          "Masculino",
          "Masculino",
          "Masculino",
          "Masculino",
          "Masculino",
          "Masculino",
          "Masculino",
          "Masculino",
          "Masculino",
          "Masculino",
          "Masculino",
          "Masculino",
          "Masculino",
          "Masculino",
          "Masculino",
          "Masculino",
          "Masculino",
          "Masculino",
          "Masculino",
          "Masculino",
          "Masculino",
          "Masculino",
          "Masculino",
          "Masculino",
          "Masculino",
          "Masculino",
          "Masculino",
          "Masculino",
          "Masculino",
          "Masculino",
          "Masculino",
          "Masculino",
          "Masculino",
          "Masculino",
          "Masculino",
          "Masculino",
          "Masculino",
          "Masculino",
          "Masculino",
          "Masculino",
          "Masculino",
          "Masculino",
          "Masculino",
          "Masculino",
          "Masculino",
          "Masculino",
          "Masculino",
          "Masculino",
          "Masculino",
          "Masculino",
          "Masculino",
          "Masculino",
          "Masculino",
          "Masculino",
          "Masculino",
          "Masculino",
          "Masculino",
          "Masculino",
          "Masculino",
          "Masculino",
          "Masculino",
          "Masculino",
          "Masculino",
          "Masculino",
          "Masculino",
          "Masculino",
          "Masculino",
          "Masculino",
          "Masculino",
          "Masculino",
          "Masculino",
          "Masculino",
          "Masculino",
          "Masculino",
          "Masculino",
          "Masculino",
          "Masculino",
          "Masculino",
          "Masculino",
          "Masculino",
          "Masculino",
          "Masculino",
          "Masculino",
          "Masculino",
          "Masculino",
          "Masculino",
          "Masculino",
          "Masculino",
          "Masculino",
          "Masculino",
          "Masculino",
          "Masculino",
          "Masculino",
          "Masculino",
          "Masculino",
          "Masculino",
          "Masculino",
          "Masculino",
          "Masculino",
          "Masculino",
          "Masculino",
          "Masculino",
          "Masculino",
          "Masculino",
          "Masculino",
          "Masculino",
          "Masculino",
          "Masculino",
          "Masculino",
          "Masculino",
          "Masculino",
          "Masculino",
          "Masculino",
          "Masculino",
          "Masculino",
          "Masculino",
          "Masculino",
          "Masculino",
          "Masculino",
          "Masculino",
          "Masculino",
          "Masculino",
          "Masculino",
          "Masculino",
          "Masculino",
          "Masculino",
          "Masculino",
          "Masculino",
          "Masculino",
          "Masculino",
          "Masculino",
          "Masculino",
          "Masculino",
          "Masculino",
          "Masculino",
          "Masculino",
          "Masculino",
          "Masculino",
          "Masculino",
          "Masculino",
          "Masculino",
          "Masculino",
          "Masculino",
          "Masculino",
          "Masculino",
          "Masculino",
          "Masculino",
          "Masculino",
          "Masculino",
          "Masculino",
          "Masculino",
          "Masculino",
          "Masculino",
          "Masculino",
          "Masculino",
          "Masculino",
          "Masculino",
          "Masculino",
          "Masculino",
          "Masculino",
          "Masculino",
          "Masculino",
          "Masculino",
          "Masculino",
          "Masculino",
          "Masculino",
          "Masculino",
          "Masculino",
          "Masculino",
          "Masculino",
          "Masculino",
          "Masculino",
          "Masculino",
          "Masculino",
          "Masculino",
          "Masculino",
          "Masculino",
          "Masculino",
          "Masculino",
          "Masculino",
          "Masculino",
          "Masculino",
          "Masculino",
          "Masculino",
          "Masculino",
          "Masculino",
          "Masculino",
          "Masculino",
          "Masculino",
          "Masculino",
          "Masculino",
          "Masculino",
          "Masculino",
          "Masculino",
          "Masculino",
          "Masculino",
          "Masculino",
          "Masculino",
          "Masculino",
          "Masculino",
          "Masculino",
          "Masculino",
          "Masculino",
          "Masculino",
          "Masculino",
          "Masculino",
          "Masculino",
          "Masculino",
          "Masculino",
          "Masculino",
          "Masculino",
          "Masculino",
          "Masculino",
          "Masculino",
          "Masculino",
          "Masculino",
          "Masculino",
          "Masculino",
          "Masculino",
          "Masculino",
          "Masculino",
          "Masculino",
          "Masculino",
          "Masculino",
          "Masculino",
          "Masculino",
          "Masculino",
          "Masculino",
          "Masculino",
          "Masculino",
          "Masculino",
          "Masculino",
          "Masculino",
          "Masculino",
          "Masculino",
          "Masculino",
          "Masculino",
          "Masculino",
          "Masculino",
          "Masculino",
          "Masculino",
          "Masculino",
          "Masculino",
          "Masculino",
          "Masculino",
          "Masculino",
          "Masculino",
          "Masculino",
          "Masculino",
          "Masculino",
          "Masculino",
          "Masculino",
          "Masculino",
          "Masculino",
          "Masculino",
          "Masculino",
          "Masculino",
          "Masculino",
          "Masculino",
          "Masculino",
          "Masculino",
          "Masculino",
          "Masculino",
          "Masculino",
          "Masculino",
          "Masculino",
          "Masculino",
          "Masculino",
          "Masculino",
          "Masculino",
          "Masculino",
          "Masculino",
          "Masculino",
          "Masculino",
          "Masculino",
          "Masculino",
          "Masculino",
          "Masculino",
          "Masculino",
          "Masculino",
          "Masculino",
          "Masculino",
          "Masculino",
          "Masculino",
          "Masculino",
          "Masculino",
          "Masculino",
          "Masculino",
          "Masculino",
          "Masculino",
          "Masculino",
          "Masculino",
          "Masculino",
          "Masculino",
          "Masculino",
          "Masculino",
          "Masculino",
          "Masculino",
          "Masculino",
          "Masculino",
          "Masculino",
          "Masculino",
          "Masculino",
          "Masculino",
          "Masculino",
          "Masculino",
          "Masculino",
          "Masculino",
          "Masculino",
          "Masculino",
          "Masculino",
          "Masculino",
          "Masculino",
          "Masculino",
          "Masculino",
          "Masculino",
          "Masculino",
          "Masculino",
          "Masculino",
          "Masculino",
          "Masculino",
          "Masculino",
          "Masculino",
          "Masculino",
          "Masculino",
          "Masculino",
          "Masculino",
          "Masculino",
          "Masculino",
          "Masculino",
          "Masculino",
          "Masculino",
          "Masculino",
          "Masculino",
          "Masculino",
          "Masculino",
          "Masculino",
          "Masculino",
          "Masculino",
          "Masculino",
          "Masculino",
          "Masculino",
          "Masculino",
          "Masculino",
          "Masculino",
          "Masculino",
          "Masculino",
          "Masculino",
          "Masculino",
          "Masculino",
          "Masculino",
          "Masculino",
          "Masculino",
          "Masculino",
          "Masculino",
          "Masculino",
          "Masculino",
          "Masculino",
          "Masculino",
          "Masculino",
          "Masculino",
          "Masculino",
          "Masculino",
          "Masculino",
          "Masculino",
          "Masculino",
          "Masculino",
          "Masculino",
          "Masculino",
          "Masculino",
          "Masculino",
          "Masculino",
          "Masculino",
          "Masculino",
          "Masculino",
          "Masculino",
          "Masculino",
          "Masculino",
          "Masculino",
          "Masculino",
          "Masculino",
          "Masculino",
          "Masculino",
          "Masculino",
          "Masculino",
          "Masculino",
          "Masculino",
          "Masculino",
          "Masculino",
          "Masculino",
          "Masculino",
          "Masculino",
          "Masculino",
          "Masculino",
          "Masculino",
          "Masculino",
          "Masculino",
          "Masculino",
          "Masculino",
          "Masculino",
          "Masculino",
          "Masculino",
          "Masculino",
          "Masculino",
          "Masculino",
          "Masculino",
          "Masculino",
          "Masculino",
          "Masculino",
          "Masculino",
          "Masculino",
          "Masculino",
          "Masculino",
          "Masculino",
          "Masculino",
          "Masculino",
          "Masculino",
          "Masculino",
          "Masculino",
          "Masculino",
          "Masculino",
          "Masculino",
          "Masculino",
          "Masculino",
          "Masculino",
          "Masculino",
          "Masculino",
          "Masculino",
          "Masculino",
          "Masculino",
          "Masculino",
          "Masculino",
          "Masculino",
          "Masculino",
          "Masculino",
          "Masculino",
          "Masculino",
          "Masculino",
          "Masculino",
          "Masculino",
          "Masculino",
          "Masculino",
          "Masculino",
          "Masculino",
          "Masculino",
          "Masculino",
          "Masculino",
          "Masculino",
          "Masculino",
          "Masculino",
          "Masculino",
          "Masculino",
          "Masculino",
          "Masculino",
          "Masculino",
          "Masculino",
          "Masculino",
          "Masculino",
          "Masculino",
          "Masculino",
          "Masculino",
          "Masculino",
          "Masculino",
          "Masculino",
          "Masculino",
          "Masculino",
          "Masculino",
          "Masculino",
          "Masculino",
          "Masculino",
          "Masculino",
          "Masculino",
          "Masculino",
          "Masculino",
          "Masculino",
          "Masculino",
          "Masculino",
          "Masculino",
          "Masculino",
          "Masculino",
          "Masculino",
          "Masculino",
          "Masculino",
          "Masculino",
          "Masculino",
          "Masculino",
          "Masculino",
          "Masculino",
          "Masculino",
          "Masculino",
          "Masculino",
          "Masculino",
          "Masculino",
          "Masculino",
          "Masculino",
          "Masculino",
          "Masculino",
          "Masculino",
          "Masculino",
          "Masculino",
          "Masculino",
          "Masculino",
          "Masculino",
          "Masculino",
          "Masculino",
          "Masculino",
          "Masculino",
          "Masculino",
          "Masculino",
          "Masculino",
          "Masculino",
          "Masculino",
          "Masculino",
          "Masculino",
          "Masculino",
          "Masculino",
          "Masculino",
          "Masculino",
          "Masculino",
          "Masculino",
          "Masculino",
          "Masculino",
          "Masculino",
          "Masculino",
          "Masculino",
          "Masculino",
          "Masculino",
          "Masculino",
          "Masculino",
          "Masculino",
          "Masculino",
          "Masculino",
          "Masculino",
          "Masculino",
          "Masculino",
          "Masculino",
          "Masculino",
          "Masculino",
          "Masculino",
          "Masculino",
          "Masculino",
          "Masculino",
          "Masculino",
          "Masculino",
          "Masculino",
          "Masculino",
          "Masculino",
          "Masculino",
          "Masculino",
          "Masculino",
          "Masculino",
          "Masculino",
          "Masculino",
          "Masculino",
          "Masculino",
          "Masculino",
          "Masculino",
          "Masculino",
          "Masculino",
          "Masculino",
          "Masculino",
          "Masculino",
          "Masculino",
          "Masculino",
          "Masculino",
          "Masculino",
          "Masculino",
          "Masculino",
          "Masculino",
          "Masculino",
          "Masculino",
          "Masculino",
          "Masculino",
          "Masculino",
          "Masculino",
          "Masculino",
          "Masculino",
          "Masculino",
          "Masculino",
          "Masculino",
          "Masculino",
          "Masculino",
          "Masculino",
          "Masculino",
          "Masculino",
          "Masculino",
          "Masculino",
          "Masculino",
          "Masculino",
          "Masculino",
          "Masculino",
          "Masculino",
          "Masculino",
          "Masculino",
          "Masculino",
          "Masculino",
          "Masculino",
          "Masculino",
          "Masculino",
          "Masculino",
          "Masculino",
          "Masculino",
          "Masculino",
          "Masculino",
          "Masculino",
          "Masculino",
          "Masculino",
          "Masculino",
          "Masculino",
          "Masculino",
          "Masculino",
          "Masculino",
          "Masculino",
          "Masculino",
          "Masculino",
          "Masculino",
          "Masculino",
          "Masculino",
          "Masculino",
          "Masculino",
          "Masculino",
          "Masculino",
          "Masculino",
          "Masculino",
          "Masculino",
          "Masculino",
          "Masculino",
          "Masculino",
          "Masculino",
          "Masculino",
          "Masculino",
          "Masculino",
          "Masculino",
          "Masculino",
          "Masculino",
          "Masculino",
          "Masculino",
          "Masculino",
          "Masculino",
          "Masculino",
          "Masculino",
          "Masculino",
          "Masculino",
          "Masculino",
          "Masculino",
          "Masculino",
          "Masculino",
          "Masculino",
          "Masculino",
          "Masculino",
          "Masculino",
          "Masculino",
          "Masculino",
          "Masculino",
          "Masculino",
          "Masculino",
          "Masculino",
          "Masculino",
          "Masculino",
          "Masculino",
          "Masculino",
          "Masculino",
          "Masculino",
          "Masculino",
          "Masculino",
          "Masculino",
          "Masculino",
          "Masculino",
          "Masculino",
          "Masculino",
          "Masculino",
          "Masculino",
          "Masculino",
          "Masculino",
          "Masculino",
          "Masculino",
          "Masculino",
          "Masculino",
          "Masculino",
          "Masculino",
          "Masculino",
          "Masculino",
          "Masculino",
          "Masculino",
          "Masculino",
          "Masculino",
          "Masculino",
          "Masculino",
          "Masculino",
          "Masculino",
          "Masculino",
          "Masculino",
          "Masculino",
          "Masculino",
          "Masculino",
          "Masculino",
          "Masculino",
          "Masculino",
          "Masculino",
          "Masculino",
          "Masculino",
          "Masculino",
          "Masculino",
          "Masculino",
          "Masculino",
          "Masculino",
          "Masculino",
          "Masculino",
          "Masculino",
          "Masculino",
          "Masculino",
          "Masculino",
          "Masculino",
          "Masculino",
          "Masculino",
          "Masculino",
          "Masculino",
          "Masculino",
          "Masculino",
          "Masculino",
          "Masculino",
          "Masculino",
          "Masculino",
          "Masculino",
          "Masculino",
          "Masculino",
          "Masculino",
          "Masculino",
          "Masculino",
          "Masculino",
          "Masculino",
          "Masculino",
          "Masculino",
          "Masculino",
          "Masculino",
          "Masculino",
          "Masculino",
          "Masculino",
          "Masculino",
          "Masculino",
          "Masculino",
          "Masculino",
          "Masculino",
          "Masculino",
          "Masculino",
          "Masculino",
          "Masculino",
          "Masculino",
          "Masculino",
          "Masculino"
         ],
         "xaxis": "x",
         "yaxis": "y"
        },
        {
         "bingroup": "x",
         "hovertemplate": "SEXO=%{x}<br>count=%{y}<extra></extra>",
         "legendgroup": "Femenino",
         "marker": {
          "color": "#EF553B",
          "pattern": {
           "shape": ""
          }
         },
         "name": "Femenino",
         "orientation": "v",
         "showlegend": true,
         "texttemplate": "%{value}",
         "type": "histogram",
         "x": [
          "Femenino",
          "Femenino",
          "Femenino",
          "Femenino",
          "Femenino",
          "Femenino",
          "Femenino",
          "Femenino",
          "Femenino",
          "Femenino",
          "Femenino",
          "Femenino",
          "Femenino",
          "Femenino",
          "Femenino",
          "Femenino",
          "Femenino",
          "Femenino",
          "Femenino",
          "Femenino",
          "Femenino",
          "Femenino",
          "Femenino",
          "Femenino",
          "Femenino",
          "Femenino",
          "Femenino",
          "Femenino",
          "Femenino",
          "Femenino",
          "Femenino",
          "Femenino",
          "Femenino",
          "Femenino",
          "Femenino",
          "Femenino",
          "Femenino",
          "Femenino",
          "Femenino",
          "Femenino",
          "Femenino",
          "Femenino",
          "Femenino",
          "Femenino",
          "Femenino",
          "Femenino",
          "Femenino",
          "Femenino",
          "Femenino",
          "Femenino",
          "Femenino",
          "Femenino",
          "Femenino",
          "Femenino",
          "Femenino",
          "Femenino",
          "Femenino",
          "Femenino",
          "Femenino",
          "Femenino",
          "Femenino",
          "Femenino",
          "Femenino",
          "Femenino",
          "Femenino",
          "Femenino",
          "Femenino",
          "Femenino",
          "Femenino",
          "Femenino",
          "Femenino",
          "Femenino",
          "Femenino",
          "Femenino",
          "Femenino",
          "Femenino",
          "Femenino",
          "Femenino",
          "Femenino",
          "Femenino",
          "Femenino",
          "Femenino",
          "Femenino",
          "Femenino",
          "Femenino",
          "Femenino",
          "Femenino",
          "Femenino",
          "Femenino",
          "Femenino",
          "Femenino",
          "Femenino",
          "Femenino",
          "Femenino",
          "Femenino",
          "Femenino",
          "Femenino",
          "Femenino",
          "Femenino",
          "Femenino",
          "Femenino",
          "Femenino",
          "Femenino",
          "Femenino",
          "Femenino",
          "Femenino",
          "Femenino",
          "Femenino",
          "Femenino",
          "Femenino",
          "Femenino",
          "Femenino",
          "Femenino",
          "Femenino",
          "Femenino",
          "Femenino",
          "Femenino",
          "Femenino",
          "Femenino",
          "Femenino",
          "Femenino",
          "Femenino",
          "Femenino",
          "Femenino",
          "Femenino",
          "Femenino",
          "Femenino",
          "Femenino",
          "Femenino",
          "Femenino",
          "Femenino",
          "Femenino",
          "Femenino",
          "Femenino",
          "Femenino",
          "Femenino",
          "Femenino",
          "Femenino",
          "Femenino",
          "Femenino",
          "Femenino",
          "Femenino",
          "Femenino",
          "Femenino",
          "Femenino",
          "Femenino",
          "Femenino",
          "Femenino",
          "Femenino",
          "Femenino",
          "Femenino",
          "Femenino",
          "Femenino",
          "Femenino",
          "Femenino",
          "Femenino",
          "Femenino",
          "Femenino",
          "Femenino",
          "Femenino",
          "Femenino",
          "Femenino",
          "Femenino",
          "Femenino",
          "Femenino",
          "Femenino",
          "Femenino",
          "Femenino",
          "Femenino",
          "Femenino",
          "Femenino",
          "Femenino",
          "Femenino",
          "Femenino",
          "Femenino",
          "Femenino",
          "Femenino",
          "Femenino",
          "Femenino",
          "Femenino",
          "Femenino",
          "Femenino",
          "Femenino",
          "Femenino",
          "Femenino",
          "Femenino",
          "Femenino",
          "Femenino",
          "Femenino",
          "Femenino",
          "Femenino",
          "Femenino",
          "Femenino",
          "Femenino",
          "Femenino",
          "Femenino",
          "Femenino",
          "Femenino",
          "Femenino",
          "Femenino",
          "Femenino",
          "Femenino",
          "Femenino",
          "Femenino",
          "Femenino",
          "Femenino",
          "Femenino",
          "Femenino",
          "Femenino",
          "Femenino",
          "Femenino",
          "Femenino",
          "Femenino",
          "Femenino",
          "Femenino",
          "Femenino",
          "Femenino",
          "Femenino",
          "Femenino",
          "Femenino",
          "Femenino",
          "Femenino",
          "Femenino",
          "Femenino",
          "Femenino",
          "Femenino",
          "Femenino",
          "Femenino",
          "Femenino",
          "Femenino",
          "Femenino",
          "Femenino",
          "Femenino",
          "Femenino",
          "Femenino",
          "Femenino",
          "Femenino",
          "Femenino",
          "Femenino",
          "Femenino",
          "Femenino",
          "Femenino",
          "Femenino",
          "Femenino",
          "Femenino",
          "Femenino",
          "Femenino",
          "Femenino",
          "Femenino",
          "Femenino",
          "Femenino",
          "Femenino",
          "Femenino",
          "Femenino",
          "Femenino",
          "Femenino",
          "Femenino",
          "Femenino",
          "Femenino",
          "Femenino",
          "Femenino",
          "Femenino",
          "Femenino",
          "Femenino",
          "Femenino",
          "Femenino",
          "Femenino",
          "Femenino",
          "Femenino",
          "Femenino",
          "Femenino",
          "Femenino",
          "Femenino",
          "Femenino",
          "Femenino",
          "Femenino",
          "Femenino",
          "Femenino",
          "Femenino",
          "Femenino",
          "Femenino",
          "Femenino",
          "Femenino",
          "Femenino",
          "Femenino",
          "Femenino",
          "Femenino",
          "Femenino",
          "Femenino",
          "Femenino",
          "Femenino",
          "Femenino",
          "Femenino",
          "Femenino",
          "Femenino",
          "Femenino",
          "Femenino",
          "Femenino",
          "Femenino",
          "Femenino",
          "Femenino",
          "Femenino",
          "Femenino",
          "Femenino",
          "Femenino",
          "Femenino",
          "Femenino",
          "Femenino",
          "Femenino",
          "Femenino",
          "Femenino",
          "Femenino",
          "Femenino",
          "Femenino",
          "Femenino",
          "Femenino",
          "Femenino",
          "Femenino",
          "Femenino",
          "Femenino",
          "Femenino",
          "Femenino",
          "Femenino",
          "Femenino",
          "Femenino",
          "Femenino",
          "Femenino",
          "Femenino",
          "Femenino",
          "Femenino",
          "Femenino",
          "Femenino",
          "Femenino",
          "Femenino",
          "Femenino",
          "Femenino",
          "Femenino",
          "Femenino",
          "Femenino",
          "Femenino",
          "Femenino",
          "Femenino",
          "Femenino",
          "Femenino",
          "Femenino",
          "Femenino",
          "Femenino",
          "Femenino",
          "Femenino",
          "Femenino",
          "Femenino",
          "Femenino",
          "Femenino",
          "Femenino",
          "Femenino",
          "Femenino",
          "Femenino",
          "Femenino",
          "Femenino",
          "Femenino",
          "Femenino",
          "Femenino",
          "Femenino",
          "Femenino",
          "Femenino",
          "Femenino",
          "Femenino",
          "Femenino",
          "Femenino",
          "Femenino",
          "Femenino",
          "Femenino",
          "Femenino",
          "Femenino",
          "Femenino",
          "Femenino",
          "Femenino",
          "Femenino",
          "Femenino",
          "Femenino",
          "Femenino",
          "Femenino",
          "Femenino",
          "Femenino",
          "Femenino",
          "Femenino",
          "Femenino",
          "Femenino",
          "Femenino",
          "Femenino",
          "Femenino",
          "Femenino",
          "Femenino",
          "Femenino",
          "Femenino",
          "Femenino",
          "Femenino",
          "Femenino",
          "Femenino",
          "Femenino",
          "Femenino",
          "Femenino",
          "Femenino",
          "Femenino",
          "Femenino",
          "Femenino",
          "Femenino",
          "Femenino",
          "Femenino",
          "Femenino",
          "Femenino",
          "Femenino",
          "Femenino",
          "Femenino",
          "Femenino",
          "Femenino",
          "Femenino",
          "Femenino",
          "Femenino",
          "Femenino",
          "Femenino",
          "Femenino",
          "Femenino",
          "Femenino",
          "Femenino",
          "Femenino",
          "Femenino",
          "Femenino",
          "Femenino",
          "Femenino",
          "Femenino",
          "Femenino",
          "Femenino",
          "Femenino",
          "Femenino",
          "Femenino",
          "Femenino",
          "Femenino",
          "Femenino",
          "Femenino",
          "Femenino",
          "Femenino",
          "Femenino",
          "Femenino",
          "Femenino",
          "Femenino",
          "Femenino",
          "Femenino",
          "Femenino",
          "Femenino",
          "Femenino",
          "Femenino",
          "Femenino",
          "Femenino",
          "Femenino",
          "Femenino",
          "Femenino",
          "Femenino",
          "Femenino",
          "Femenino",
          "Femenino",
          "Femenino",
          "Femenino",
          "Femenino",
          "Femenino",
          "Femenino",
          "Femenino",
          "Femenino",
          "Femenino",
          "Femenino",
          "Femenino",
          "Femenino",
          "Femenino",
          "Femenino",
          "Femenino",
          "Femenino",
          "Femenino",
          "Femenino",
          "Femenino",
          "Femenino",
          "Femenino",
          "Femenino",
          "Femenino",
          "Femenino",
          "Femenino",
          "Femenino",
          "Femenino",
          "Femenino",
          "Femenino",
          "Femenino",
          "Femenino",
          "Femenino",
          "Femenino",
          "Femenino",
          "Femenino",
          "Femenino",
          "Femenino",
          "Femenino",
          "Femenino",
          "Femenino",
          "Femenino",
          "Femenino",
          "Femenino",
          "Femenino",
          "Femenino",
          "Femenino",
          "Femenino",
          "Femenino",
          "Femenino",
          "Femenino",
          "Femenino",
          "Femenino",
          "Femenino",
          "Femenino",
          "Femenino",
          "Femenino",
          "Femenino",
          "Femenino",
          "Femenino",
          "Femenino",
          "Femenino",
          "Femenino",
          "Femenino",
          "Femenino",
          "Femenino",
          "Femenino",
          "Femenino",
          "Femenino",
          "Femenino",
          "Femenino",
          "Femenino",
          "Femenino",
          "Femenino",
          "Femenino",
          "Femenino",
          "Femenino",
          "Femenino",
          "Femenino",
          "Femenino",
          "Femenino",
          "Femenino",
          "Femenino",
          "Femenino",
          "Femenino",
          "Femenino",
          "Femenino",
          "Femenino",
          "Femenino",
          "Femenino",
          "Femenino",
          "Femenino",
          "Femenino",
          "Femenino",
          "Femenino",
          "Femenino",
          "Femenino",
          "Femenino",
          "Femenino",
          "Femenino",
          "Femenino",
          "Femenino",
          "Femenino",
          "Femenino",
          "Femenino",
          "Femenino",
          "Femenino",
          "Femenino",
          "Femenino",
          "Femenino",
          "Femenino",
          "Femenino",
          "Femenino",
          "Femenino",
          "Femenino",
          "Femenino",
          "Femenino",
          "Femenino",
          "Femenino",
          "Femenino",
          "Femenino",
          "Femenino",
          "Femenino",
          "Femenino",
          "Femenino",
          "Femenino",
          "Femenino",
          "Femenino",
          "Femenino",
          "Femenino",
          "Femenino",
          "Femenino",
          "Femenino",
          "Femenino",
          "Femenino",
          "Femenino",
          "Femenino",
          "Femenino",
          "Femenino",
          "Femenino",
          "Femenino",
          "Femenino",
          "Femenino",
          "Femenino",
          "Femenino",
          "Femenino",
          "Femenino",
          "Femenino",
          "Femenino",
          "Femenino",
          "Femenino",
          "Femenino",
          "Femenino",
          "Femenino",
          "Femenino",
          "Femenino",
          "Femenino",
          "Femenino",
          "Femenino",
          "Femenino",
          "Femenino",
          "Femenino",
          "Femenino",
          "Femenino",
          "Femenino",
          "Femenino",
          "Femenino",
          "Femenino",
          "Femenino",
          "Femenino",
          "Femenino",
          "Femenino",
          "Femenino",
          "Femenino",
          "Femenino",
          "Femenino",
          "Femenino",
          "Femenino",
          "Femenino",
          "Femenino",
          "Femenino",
          "Femenino",
          "Femenino",
          "Femenino",
          "Femenino",
          "Femenino",
          "Femenino",
          "Femenino",
          "Femenino",
          "Femenino",
          "Femenino",
          "Femenino",
          "Femenino",
          "Femenino",
          "Femenino",
          "Femenino",
          "Femenino",
          "Femenino",
          "Femenino",
          "Femenino",
          "Femenino",
          "Femenino",
          "Femenino",
          "Femenino",
          "Femenino",
          "Femenino",
          "Femenino",
          "Femenino",
          "Femenino",
          "Femenino",
          "Femenino",
          "Femenino",
          "Femenino",
          "Femenino",
          "Femenino",
          "Femenino",
          "Femenino",
          "Femenino",
          "Femenino",
          "Femenino",
          "Femenino",
          "Femenino",
          "Femenino",
          "Femenino",
          "Femenino",
          "Femenino",
          "Femenino",
          "Femenino",
          "Femenino",
          "Femenino",
          "Femenino",
          "Femenino",
          "Femenino",
          "Femenino",
          "Femenino",
          "Femenino",
          "Femenino",
          "Femenino",
          "Femenino",
          "Femenino",
          "Femenino",
          "Femenino",
          "Femenino",
          "Femenino",
          "Femenino",
          "Femenino",
          "Femenino",
          "Femenino",
          "Femenino",
          "Femenino",
          "Femenino",
          "Femenino",
          "Femenino",
          "Femenino",
          "Femenino",
          "Femenino",
          "Femenino",
          "Femenino",
          "Femenino",
          "Femenino",
          "Femenino",
          "Femenino",
          "Femenino",
          "Femenino",
          "Femenino",
          "Femenino",
          "Femenino",
          "Femenino",
          "Femenino",
          "Femenino",
          "Femenino",
          "Femenino",
          "Femenino",
          "Femenino",
          "Femenino",
          "Femenino",
          "Femenino",
          "Femenino",
          "Femenino",
          "Femenino",
          "Femenino",
          "Femenino",
          "Femenino",
          "Femenino",
          "Femenino",
          "Femenino",
          "Femenino",
          "Femenino",
          "Femenino",
          "Femenino",
          "Femenino",
          "Femenino",
          "Femenino",
          "Femenino",
          "Femenino",
          "Femenino",
          "Femenino",
          "Femenino",
          "Femenino",
          "Femenino",
          "Femenino",
          "Femenino",
          "Femenino",
          "Femenino",
          "Femenino",
          "Femenino",
          "Femenino",
          "Femenino",
          "Femenino",
          "Femenino",
          "Femenino",
          "Femenino",
          "Femenino",
          "Femenino",
          "Femenino",
          "Femenino",
          "Femenino",
          "Femenino",
          "Femenino",
          "Femenino",
          "Femenino",
          "Femenino",
          "Femenino",
          "Femenino",
          "Femenino",
          "Femenino",
          "Femenino",
          "Femenino",
          "Femenino",
          "Femenino",
          "Femenino",
          "Femenino",
          "Femenino",
          "Femenino",
          "Femenino",
          "Femenino",
          "Femenino",
          "Femenino",
          "Femenino",
          "Femenino",
          "Femenino",
          "Femenino",
          "Femenino",
          "Femenino",
          "Femenino",
          "Femenino",
          "Femenino",
          "Femenino",
          "Femenino",
          "Femenino",
          "Femenino",
          "Femenino",
          "Femenino",
          "Femenino",
          "Femenino",
          "Femenino",
          "Femenino",
          "Femenino",
          "Femenino",
          "Femenino",
          "Femenino",
          "Femenino",
          "Femenino",
          "Femenino",
          "Femenino",
          "Femenino",
          "Femenino",
          "Femenino",
          "Femenino",
          "Femenino",
          "Femenino",
          "Femenino",
          "Femenino",
          "Femenino",
          "Femenino",
          "Femenino",
          "Femenino",
          "Femenino",
          "Femenino",
          "Femenino",
          "Femenino",
          "Femenino",
          "Femenino",
          "Femenino",
          "Femenino",
          "Femenino",
          "Femenino",
          "Femenino",
          "Femenino",
          "Femenino",
          "Femenino",
          "Femenino",
          "Femenino",
          "Femenino",
          "Femenino",
          "Femenino",
          "Femenino",
          "Femenino",
          "Femenino",
          "Femenino",
          "Femenino",
          "Femenino",
          "Femenino",
          "Femenino",
          "Femenino",
          "Femenino",
          "Femenino",
          "Femenino",
          "Femenino",
          "Femenino",
          "Femenino",
          "Femenino",
          "Femenino",
          "Femenino",
          "Femenino",
          "Femenino",
          "Femenino",
          "Femenino",
          "Femenino",
          "Femenino",
          "Femenino",
          "Femenino",
          "Femenino",
          "Femenino",
          "Femenino",
          "Femenino",
          "Femenino",
          "Femenino",
          "Femenino",
          "Femenino",
          "Femenino",
          "Femenino",
          "Femenino",
          "Femenino",
          "Femenino",
          "Femenino",
          "Femenino",
          "Femenino",
          "Femenino",
          "Femenino",
          "Femenino",
          "Femenino",
          "Femenino",
          "Femenino",
          "Femenino",
          "Femenino",
          "Femenino",
          "Femenino",
          "Femenino",
          "Femenino",
          "Femenino",
          "Femenino",
          "Femenino",
          "Femenino",
          "Femenino",
          "Femenino",
          "Femenino",
          "Femenino",
          "Femenino",
          "Femenino",
          "Femenino",
          "Femenino",
          "Femenino",
          "Femenino",
          "Femenino",
          "Femenino",
          "Femenino",
          "Femenino",
          "Femenino",
          "Femenino",
          "Femenino",
          "Femenino",
          "Femenino",
          "Femenino",
          "Femenino",
          "Femenino",
          "Femenino",
          "Femenino",
          "Femenino",
          "Femenino",
          "Femenino",
          "Femenino",
          "Femenino",
          "Femenino",
          "Femenino",
          "Femenino",
          "Femenino",
          "Femenino",
          "Femenino",
          "Femenino",
          "Femenino",
          "Femenino",
          "Femenino",
          "Femenino",
          "Femenino",
          "Femenino",
          "Femenino",
          "Femenino",
          "Femenino",
          "Femenino",
          "Femenino",
          "Femenino",
          "Femenino",
          "Femenino",
          "Femenino",
          "Femenino",
          "Femenino",
          "Femenino",
          "Femenino",
          "Femenino",
          "Femenino",
          "Femenino",
          "Femenino",
          "Femenino",
          "Femenino",
          "Femenino",
          "Femenino",
          "Femenino",
          "Femenino",
          "Femenino",
          "Femenino",
          "Femenino",
          "Femenino",
          "Femenino",
          "Femenino",
          "Femenino",
          "Femenino",
          "Femenino",
          "Femenino",
          "Femenino",
          "Femenino",
          "Femenino",
          "Femenino",
          "Femenino",
          "Femenino",
          "Femenino",
          "Femenino",
          "Femenino",
          "Femenino",
          "Femenino",
          "Femenino",
          "Femenino",
          "Femenino",
          "Femenino",
          "Femenino",
          "Femenino",
          "Femenino",
          "Femenino",
          "Femenino",
          "Femenino",
          "Femenino",
          "Femenino",
          "Femenino",
          "Femenino",
          "Femenino",
          "Femenino",
          "Femenino",
          "Femenino",
          "Femenino",
          "Femenino",
          "Femenino",
          "Femenino",
          "Femenino",
          "Femenino",
          "Femenino",
          "Femenino",
          "Femenino",
          "Femenino",
          "Femenino",
          "Femenino",
          "Femenino",
          "Femenino",
          "Femenino",
          "Femenino",
          "Femenino",
          "Femenino",
          "Femenino",
          "Femenino",
          "Femenino",
          "Femenino",
          "Femenino",
          "Femenino",
          "Femenino",
          "Femenino",
          "Femenino",
          "Femenino",
          "Femenino",
          "Femenino",
          "Femenino",
          "Femenino",
          "Femenino",
          "Femenino",
          "Femenino",
          "Femenino",
          "Femenino",
          "Femenino",
          "Femenino",
          "Femenino",
          "Femenino",
          "Femenino",
          "Femenino",
          "Femenino",
          "Femenino",
          "Femenino",
          "Femenino",
          "Femenino",
          "Femenino",
          "Femenino",
          "Femenino",
          "Femenino",
          "Femenino",
          "Femenino",
          "Femenino",
          "Femenino",
          "Femenino",
          "Femenino",
          "Femenino",
          "Femenino",
          "Femenino",
          "Femenino",
          "Femenino",
          "Femenino",
          "Femenino",
          "Femenino",
          "Femenino",
          "Femenino",
          "Femenino",
          "Femenino",
          "Femenino",
          "Femenino",
          "Femenino",
          "Femenino",
          "Femenino",
          "Femenino",
          "Femenino",
          "Femenino",
          "Femenino",
          "Femenino",
          "Femenino",
          "Femenino",
          "Femenino",
          "Femenino",
          "Femenino",
          "Femenino",
          "Femenino",
          "Femenino",
          "Femenino",
          "Femenino",
          "Femenino",
          "Femenino",
          "Femenino",
          "Femenino",
          "Femenino",
          "Femenino",
          "Femenino",
          "Femenino",
          "Femenino",
          "Femenino",
          "Femenino",
          "Femenino",
          "Femenino",
          "Femenino",
          "Femenino",
          "Femenino",
          "Femenino",
          "Femenino",
          "Femenino",
          "Femenino",
          "Femenino",
          "Femenino",
          "Femenino",
          "Femenino",
          "Femenino",
          "Femenino",
          "Femenino",
          "Femenino",
          "Femenino",
          "Femenino",
          "Femenino",
          "Femenino",
          "Femenino",
          "Femenino",
          "Femenino",
          "Femenino",
          "Femenino",
          "Femenino",
          "Femenino",
          "Femenino",
          "Femenino",
          "Femenino",
          "Femenino",
          "Femenino",
          "Femenino",
          "Femenino",
          "Femenino",
          "Femenino",
          "Femenino",
          "Femenino",
          "Femenino",
          "Femenino",
          "Femenino",
          "Femenino",
          "Femenino",
          "Femenino",
          "Femenino",
          "Femenino",
          "Femenino",
          "Femenino",
          "Femenino",
          "Femenino",
          "Femenino",
          "Femenino",
          "Femenino",
          "Femenino",
          "Femenino",
          "Femenino",
          "Femenino",
          "Femenino",
          "Femenino",
          "Femenino",
          "Femenino",
          "Femenino",
          "Femenino",
          "Femenino",
          "Femenino",
          "Femenino",
          "Femenino",
          "Femenino",
          "Femenino",
          "Femenino",
          "Femenino",
          "Femenino",
          "Femenino",
          "Femenino",
          "Femenino",
          "Femenino",
          "Femenino",
          "Femenino",
          "Femenino",
          "Femenino",
          "Femenino",
          "Femenino",
          "Femenino",
          "Femenino",
          "Femenino",
          "Femenino",
          "Femenino",
          "Femenino",
          "Femenino",
          "Femenino",
          "Femenino",
          "Femenino",
          "Femenino",
          "Femenino",
          "Femenino",
          "Femenino",
          "Femenino",
          "Femenino",
          "Femenino",
          "Femenino",
          "Femenino",
          "Femenino",
          "Femenino",
          "Femenino",
          "Femenino",
          "Femenino",
          "Femenino",
          "Femenino",
          "Femenino",
          "Femenino",
          "Femenino",
          "Femenino",
          "Femenino",
          "Femenino",
          "Femenino",
          "Femenino",
          "Femenino",
          "Femenino",
          "Femenino",
          "Femenino",
          "Femenino",
          "Femenino",
          "Femenino",
          "Femenino",
          "Femenino",
          "Femenino",
          "Femenino",
          "Femenino",
          "Femenino",
          "Femenino",
          "Femenino",
          "Femenino",
          "Femenino",
          "Femenino",
          "Femenino",
          "Femenino",
          "Femenino",
          "Femenino",
          "Femenino",
          "Femenino",
          "Femenino",
          "Femenino",
          "Femenino",
          "Femenino",
          "Femenino",
          "Femenino",
          "Femenino",
          "Femenino",
          "Femenino",
          "Femenino",
          "Femenino",
          "Femenino",
          "Femenino",
          "Femenino",
          "Femenino",
          "Femenino",
          "Femenino",
          "Femenino",
          "Femenino",
          "Femenino",
          "Femenino",
          "Femenino",
          "Femenino",
          "Femenino",
          "Femenino",
          "Femenino",
          "Femenino",
          "Femenino",
          "Femenino",
          "Femenino",
          "Femenino",
          "Femenino",
          "Femenino",
          "Femenino",
          "Femenino",
          "Femenino",
          "Femenino",
          "Femenino",
          "Femenino",
          "Femenino",
          "Femenino",
          "Femenino",
          "Femenino",
          "Femenino",
          "Femenino",
          "Femenino",
          "Femenino",
          "Femenino",
          "Femenino",
          "Femenino",
          "Femenino",
          "Femenino",
          "Femenino",
          "Femenino",
          "Femenino",
          "Femenino",
          "Femenino",
          "Femenino",
          "Femenino",
          "Femenino",
          "Femenino",
          "Femenino",
          "Femenino",
          "Femenino",
          "Femenino",
          "Femenino",
          "Femenino",
          "Femenino",
          "Femenino",
          "Femenino",
          "Femenino",
          "Femenino",
          "Femenino",
          "Femenino",
          "Femenino",
          "Femenino",
          "Femenino",
          "Femenino",
          "Femenino",
          "Femenino",
          "Femenino",
          "Femenino",
          "Femenino",
          "Femenino",
          "Femenino",
          "Femenino",
          "Femenino",
          "Femenino",
          "Femenino",
          "Femenino",
          "Femenino",
          "Femenino",
          "Femenino",
          "Femenino",
          "Femenino",
          "Femenino",
          "Femenino",
          "Femenino",
          "Femenino",
          "Femenino",
          "Femenino",
          "Femenino",
          "Femenino",
          "Femenino",
          "Femenino",
          "Femenino",
          "Femenino",
          "Femenino",
          "Femenino",
          "Femenino",
          "Femenino",
          "Femenino",
          "Femenino",
          "Femenino",
          "Femenino",
          "Femenino",
          "Femenino",
          "Femenino",
          "Femenino",
          "Femenino",
          "Femenino",
          "Femenino",
          "Femenino",
          "Femenino",
          "Femenino",
          "Femenino",
          "Femenino",
          "Femenino",
          "Femenino",
          "Femenino",
          "Femenino",
          "Femenino",
          "Femenino",
          "Femenino",
          "Femenino",
          "Femenino",
          "Femenino",
          "Femenino",
          "Femenino",
          "Femenino",
          "Femenino",
          "Femenino",
          "Femenino",
          "Femenino",
          "Femenino",
          "Femenino",
          "Femenino",
          "Femenino",
          "Femenino",
          "Femenino",
          "Femenino",
          "Femenino",
          "Femenino",
          "Femenino",
          "Femenino",
          "Femenino",
          "Femenino",
          "Femenino",
          "Femenino",
          "Femenino",
          "Femenino",
          "Femenino",
          "Femenino",
          "Femenino",
          "Femenino",
          "Femenino",
          "Femenino",
          "Femenino",
          "Femenino",
          "Femenino",
          "Femenino",
          "Femenino",
          "Femenino",
          "Femenino",
          "Femenino",
          "Femenino",
          "Femenino",
          "Femenino",
          "Femenino",
          "Femenino",
          "Femenino",
          "Femenino",
          "Femenino",
          "Femenino",
          "Femenino",
          "Femenino",
          "Femenino",
          "Femenino",
          "Femenino",
          "Femenino",
          "Femenino",
          "Femenino",
          "Femenino",
          "Femenino",
          "Femenino",
          "Femenino",
          "Femenino",
          "Femenino",
          "Femenino",
          "Femenino",
          "Femenino",
          "Femenino",
          "Femenino",
          "Femenino",
          "Femenino",
          "Femenino",
          "Femenino",
          "Femenino",
          "Femenino",
          "Femenino",
          "Femenino",
          "Femenino",
          "Femenino",
          "Femenino",
          "Femenino",
          "Femenino",
          "Femenino",
          "Femenino",
          "Femenino",
          "Femenino",
          "Femenino",
          "Femenino",
          "Femenino",
          "Femenino",
          "Femenino",
          "Femenino",
          "Femenino",
          "Femenino",
          "Femenino",
          "Femenino",
          "Femenino",
          "Femenino",
          "Femenino",
          "Femenino",
          "Femenino",
          "Femenino",
          "Femenino",
          "Femenino",
          "Femenino",
          "Femenino",
          "Femenino",
          "Femenino",
          "Femenino",
          "Femenino",
          "Femenino",
          "Femenino",
          "Femenino",
          "Femenino",
          "Femenino",
          "Femenino",
          "Femenino",
          "Femenino",
          "Femenino",
          "Femenino",
          "Femenino",
          "Femenino",
          "Femenino",
          "Femenino",
          "Femenino",
          "Femenino",
          "Femenino",
          "Femenino",
          "Femenino",
          "Femenino",
          "Femenino",
          "Femenino",
          "Femenino",
          "Femenino",
          "Femenino",
          "Femenino",
          "Femenino",
          "Femenino",
          "Femenino",
          "Femenino",
          "Femenino",
          "Femenino",
          "Femenino",
          "Femenino",
          "Femenino",
          "Femenino",
          "Femenino",
          "Femenino",
          "Femenino",
          "Femenino",
          "Femenino",
          "Femenino",
          "Femenino",
          "Femenino",
          "Femenino",
          "Femenino",
          "Femenino",
          "Femenino",
          "Femenino",
          "Femenino",
          "Femenino",
          "Femenino",
          "Femenino",
          "Femenino",
          "Femenino",
          "Femenino",
          "Femenino",
          "Femenino",
          "Femenino",
          "Femenino",
          "Femenino",
          "Femenino",
          "Femenino",
          "Femenino",
          "Femenino",
          "Femenino",
          "Femenino",
          "Femenino",
          "Femenino",
          "Femenino",
          "Femenino",
          "Femenino",
          "Femenino",
          "Femenino",
          "Femenino",
          "Femenino",
          "Femenino",
          "Femenino",
          "Femenino",
          "Femenino",
          "Femenino",
          "Femenino",
          "Femenino",
          "Femenino",
          "Femenino",
          "Femenino",
          "Femenino",
          "Femenino",
          "Femenino",
          "Femenino",
          "Femenino",
          "Femenino",
          "Femenino",
          "Femenino",
          "Femenino",
          "Femenino",
          "Femenino",
          "Femenino",
          "Femenino",
          "Femenino",
          "Femenino",
          "Femenino",
          "Femenino",
          "Femenino",
          "Femenino",
          "Femenino",
          "Femenino",
          "Femenino",
          "Femenino",
          "Femenino",
          "Femenino",
          "Femenino",
          "Femenino",
          "Femenino",
          "Femenino",
          "Femenino",
          "Femenino",
          "Femenino",
          "Femenino",
          "Femenino",
          "Femenino",
          "Femenino",
          "Femenino",
          "Femenino",
          "Femenino",
          "Femenino",
          "Femenino",
          "Femenino",
          "Femenino",
          "Femenino",
          "Femenino",
          "Femenino",
          "Femenino",
          "Femenino",
          "Femenino",
          "Femenino",
          "Femenino",
          "Femenino",
          "Femenino",
          "Femenino",
          "Femenino",
          "Femenino",
          "Femenino",
          "Femenino",
          "Femenino",
          "Femenino",
          "Femenino",
          "Femenino",
          "Femenino",
          "Femenino",
          "Femenino",
          "Femenino",
          "Femenino",
          "Femenino",
          "Femenino",
          "Femenino",
          "Femenino",
          "Femenino",
          "Femenino",
          "Femenino",
          "Femenino",
          "Femenino",
          "Femenino",
          "Femenino",
          "Femenino",
          "Femenino",
          "Femenino",
          "Femenino",
          "Femenino",
          "Femenino",
          "Femenino",
          "Femenino",
          "Femenino",
          "Femenino",
          "Femenino",
          "Femenino",
          "Femenino",
          "Femenino",
          "Femenino",
          "Femenino",
          "Femenino",
          "Femenino",
          "Femenino",
          "Femenino",
          "Femenino",
          "Femenino",
          "Femenino",
          "Femenino",
          "Femenino",
          "Femenino",
          "Femenino",
          "Femenino",
          "Femenino",
          "Femenino",
          "Femenino",
          "Femenino",
          "Femenino",
          "Femenino",
          "Femenino",
          "Femenino",
          "Femenino",
          "Femenino",
          "Femenino",
          "Femenino",
          "Femenino",
          "Femenino",
          "Femenino",
          "Femenino",
          "Femenino",
          "Femenino",
          "Femenino",
          "Femenino",
          "Femenino",
          "Femenino",
          "Femenino",
          "Femenino",
          "Femenino",
          "Femenino",
          "Femenino",
          "Femenino",
          "Femenino",
          "Femenino",
          "Femenino",
          "Femenino",
          "Femenino",
          "Femenino",
          "Femenino",
          "Femenino",
          "Femenino",
          "Femenino",
          "Femenino",
          "Femenino",
          "Femenino",
          "Femenino",
          "Femenino",
          "Femenino",
          "Femenino",
          "Femenino",
          "Femenino",
          "Femenino",
          "Femenino",
          "Femenino",
          "Femenino",
          "Femenino",
          "Femenino",
          "Femenino",
          "Femenino",
          "Femenino",
          "Femenino",
          "Femenino",
          "Femenino",
          "Femenino",
          "Femenino",
          "Femenino",
          "Femenino",
          "Femenino",
          "Femenino",
          "Femenino",
          "Femenino",
          "Femenino",
          "Femenino",
          "Femenino",
          "Femenino",
          "Femenino",
          "Femenino",
          "Femenino",
          "Femenino",
          "Femenino",
          "Femenino",
          "Femenino",
          "Femenino",
          "Femenino",
          "Femenino",
          "Femenino",
          "Femenino",
          "Femenino",
          "Femenino",
          "Femenino",
          "Femenino",
          "Femenino",
          "Femenino",
          "Femenino",
          "Femenino",
          "Femenino",
          "Femenino",
          "Femenino",
          "Femenino",
          "Femenino",
          "Femenino",
          "Femenino",
          "Femenino",
          "Femenino",
          "Femenino",
          "Femenino",
          "Femenino",
          "Femenino",
          "Femenino",
          "Femenino",
          "Femenino",
          "Femenino",
          "Femenino",
          "Femenino",
          "Femenino",
          "Femenino",
          "Femenino",
          "Femenino",
          "Femenino",
          "Femenino",
          "Femenino",
          "Femenino",
          "Femenino",
          "Femenino",
          "Femenino",
          "Femenino",
          "Femenino",
          "Femenino",
          "Femenino",
          "Femenino",
          "Femenino",
          "Femenino",
          "Femenino",
          "Femenino",
          "Femenino",
          "Femenino",
          "Femenino",
          "Femenino",
          "Femenino",
          "Femenino",
          "Femenino",
          "Femenino",
          "Femenino",
          "Femenino",
          "Femenino",
          "Femenino",
          "Femenino",
          "Femenino",
          "Femenino",
          "Femenino",
          "Femenino",
          "Femenino",
          "Femenino",
          "Femenino",
          "Femenino",
          "Femenino",
          "Femenino",
          "Femenino",
          "Femenino",
          "Femenino",
          "Femenino",
          "Femenino",
          "Femenino",
          "Femenino",
          "Femenino",
          "Femenino",
          "Femenino",
          "Femenino",
          "Femenino",
          "Femenino",
          "Femenino",
          "Femenino",
          "Femenino",
          "Femenino",
          "Femenino",
          "Femenino",
          "Femenino",
          "Femenino",
          "Femenino",
          "Femenino",
          "Femenino",
          "Femenino",
          "Femenino",
          "Femenino",
          "Femenino",
          "Femenino",
          "Femenino",
          "Femenino",
          "Femenino",
          "Femenino",
          "Femenino",
          "Femenino",
          "Femenino",
          "Femenino",
          "Femenino",
          "Femenino",
          "Femenino",
          "Femenino",
          "Femenino",
          "Femenino",
          "Femenino",
          "Femenino",
          "Femenino",
          "Femenino",
          "Femenino",
          "Femenino",
          "Femenino",
          "Femenino",
          "Femenino",
          "Femenino",
          "Femenino",
          "Femenino",
          "Femenino",
          "Femenino",
          "Femenino",
          "Femenino",
          "Femenino",
          "Femenino",
          "Femenino",
          "Femenino",
          "Femenino",
          "Femenino",
          "Femenino",
          "Femenino",
          "Femenino",
          "Femenino",
          "Femenino",
          "Femenino",
          "Femenino",
          "Femenino",
          "Femenino",
          "Femenino",
          "Femenino",
          "Femenino",
          "Femenino",
          "Femenino",
          "Femenino",
          "Femenino",
          "Femenino",
          "Femenino",
          "Femenino",
          "Femenino",
          "Femenino",
          "Femenino",
          "Femenino",
          "Femenino",
          "Femenino",
          "Femenino",
          "Femenino",
          "Femenino",
          "Femenino",
          "Femenino",
          "Femenino",
          "Femenino",
          "Femenino",
          "Femenino",
          "Femenino",
          "Femenino",
          "Femenino",
          "Femenino",
          "Femenino",
          "Femenino",
          "Femenino",
          "Femenino",
          "Femenino",
          "Femenino",
          "Femenino",
          "Femenino",
          "Femenino",
          "Femenino",
          "Femenino",
          "Femenino",
          "Femenino",
          "Femenino",
          "Femenino",
          "Femenino",
          "Femenino",
          "Femenino",
          "Femenino",
          "Femenino",
          "Femenino",
          "Femenino",
          "Femenino",
          "Femenino",
          "Femenino",
          "Femenino",
          "Femenino",
          "Femenino",
          "Femenino",
          "Femenino",
          "Femenino",
          "Femenino",
          "Femenino",
          "Femenino",
          "Femenino",
          "Femenino",
          "Femenino",
          "Femenino",
          "Femenino",
          "Femenino",
          "Femenino",
          "Femenino",
          "Femenino",
          "Femenino",
          "Femenino",
          "Femenino",
          "Femenino",
          "Femenino",
          "Femenino",
          "Femenino",
          "Femenino",
          "Femenino",
          "Femenino",
          "Femenino",
          "Femenino",
          "Femenino",
          "Femenino",
          "Femenino",
          "Femenino",
          "Femenino",
          "Femenino",
          "Femenino",
          "Femenino",
          "Femenino",
          "Femenino",
          "Femenino",
          "Femenino",
          "Femenino",
          "Femenino",
          "Femenino",
          "Femenino",
          "Femenino",
          "Femenino",
          "Femenino",
          "Femenino",
          "Femenino",
          "Femenino",
          "Femenino",
          "Femenino",
          "Femenino",
          "Femenino",
          "Femenino",
          "Femenino",
          "Femenino",
          "Femenino",
          "Femenino",
          "Femenino",
          "Femenino",
          "Femenino",
          "Femenino",
          "Femenino",
          "Femenino",
          "Femenino",
          "Femenino",
          "Femenino",
          "Femenino",
          "Femenino",
          "Femenino",
          "Femenino",
          "Femenino",
          "Femenino",
          "Femenino",
          "Femenino"
         ],
         "xaxis": "x",
         "yaxis": "y"
        }
       ],
       "layout": {
        "barmode": "relative",
        "legend": {
         "title": {
          "text": "SEXO"
         },
         "tracegroupgap": 0
        },
        "template": {
         "data": {
          "bar": [
           {
            "error_x": {
             "color": "#2a3f5f"
            },
            "error_y": {
             "color": "#2a3f5f"
            },
            "marker": {
             "line": {
              "color": "#E5ECF6",
              "width": 0.5
             },
             "pattern": {
              "fillmode": "overlay",
              "size": 10,
              "solidity": 0.2
             }
            },
            "type": "bar"
           }
          ],
          "barpolar": [
           {
            "marker": {
             "line": {
              "color": "#E5ECF6",
              "width": 0.5
             },
             "pattern": {
              "fillmode": "overlay",
              "size": 10,
              "solidity": 0.2
             }
            },
            "type": "barpolar"
           }
          ],
          "carpet": [
           {
            "aaxis": {
             "endlinecolor": "#2a3f5f",
             "gridcolor": "white",
             "linecolor": "white",
             "minorgridcolor": "white",
             "startlinecolor": "#2a3f5f"
            },
            "baxis": {
             "endlinecolor": "#2a3f5f",
             "gridcolor": "white",
             "linecolor": "white",
             "minorgridcolor": "white",
             "startlinecolor": "#2a3f5f"
            },
            "type": "carpet"
           }
          ],
          "choropleth": [
           {
            "colorbar": {
             "outlinewidth": 0,
             "ticks": ""
            },
            "type": "choropleth"
           }
          ],
          "contour": [
           {
            "colorbar": {
             "outlinewidth": 0,
             "ticks": ""
            },
            "colorscale": [
             [
              0,
              "#0d0887"
             ],
             [
              0.1111111111111111,
              "#46039f"
             ],
             [
              0.2222222222222222,
              "#7201a8"
             ],
             [
              0.3333333333333333,
              "#9c179e"
             ],
             [
              0.4444444444444444,
              "#bd3786"
             ],
             [
              0.5555555555555556,
              "#d8576b"
             ],
             [
              0.6666666666666666,
              "#ed7953"
             ],
             [
              0.7777777777777778,
              "#fb9f3a"
             ],
             [
              0.8888888888888888,
              "#fdca26"
             ],
             [
              1,
              "#f0f921"
             ]
            ],
            "type": "contour"
           }
          ],
          "contourcarpet": [
           {
            "colorbar": {
             "outlinewidth": 0,
             "ticks": ""
            },
            "type": "contourcarpet"
           }
          ],
          "heatmap": [
           {
            "colorbar": {
             "outlinewidth": 0,
             "ticks": ""
            },
            "colorscale": [
             [
              0,
              "#0d0887"
             ],
             [
              0.1111111111111111,
              "#46039f"
             ],
             [
              0.2222222222222222,
              "#7201a8"
             ],
             [
              0.3333333333333333,
              "#9c179e"
             ],
             [
              0.4444444444444444,
              "#bd3786"
             ],
             [
              0.5555555555555556,
              "#d8576b"
             ],
             [
              0.6666666666666666,
              "#ed7953"
             ],
             [
              0.7777777777777778,
              "#fb9f3a"
             ],
             [
              0.8888888888888888,
              "#fdca26"
             ],
             [
              1,
              "#f0f921"
             ]
            ],
            "type": "heatmap"
           }
          ],
          "histogram": [
           {
            "marker": {
             "pattern": {
              "fillmode": "overlay",
              "size": 10,
              "solidity": 0.2
             }
            },
            "type": "histogram"
           }
          ],
          "histogram2d": [
           {
            "colorbar": {
             "outlinewidth": 0,
             "ticks": ""
            },
            "colorscale": [
             [
              0,
              "#0d0887"
             ],
             [
              0.1111111111111111,
              "#46039f"
             ],
             [
              0.2222222222222222,
              "#7201a8"
             ],
             [
              0.3333333333333333,
              "#9c179e"
             ],
             [
              0.4444444444444444,
              "#bd3786"
             ],
             [
              0.5555555555555556,
              "#d8576b"
             ],
             [
              0.6666666666666666,
              "#ed7953"
             ],
             [
              0.7777777777777778,
              "#fb9f3a"
             ],
             [
              0.8888888888888888,
              "#fdca26"
             ],
             [
              1,
              "#f0f921"
             ]
            ],
            "type": "histogram2d"
           }
          ],
          "histogram2dcontour": [
           {
            "colorbar": {
             "outlinewidth": 0,
             "ticks": ""
            },
            "colorscale": [
             [
              0,
              "#0d0887"
             ],
             [
              0.1111111111111111,
              "#46039f"
             ],
             [
              0.2222222222222222,
              "#7201a8"
             ],
             [
              0.3333333333333333,
              "#9c179e"
             ],
             [
              0.4444444444444444,
              "#bd3786"
             ],
             [
              0.5555555555555556,
              "#d8576b"
             ],
             [
              0.6666666666666666,
              "#ed7953"
             ],
             [
              0.7777777777777778,
              "#fb9f3a"
             ],
             [
              0.8888888888888888,
              "#fdca26"
             ],
             [
              1,
              "#f0f921"
             ]
            ],
            "type": "histogram2dcontour"
           }
          ],
          "mesh3d": [
           {
            "colorbar": {
             "outlinewidth": 0,
             "ticks": ""
            },
            "type": "mesh3d"
           }
          ],
          "parcoords": [
           {
            "line": {
             "colorbar": {
              "outlinewidth": 0,
              "ticks": ""
             }
            },
            "type": "parcoords"
           }
          ],
          "pie": [
           {
            "automargin": true,
            "type": "pie"
           }
          ],
          "scatter": [
           {
            "fillpattern": {
             "fillmode": "overlay",
             "size": 10,
             "solidity": 0.2
            },
            "type": "scatter"
           }
          ],
          "scatter3d": [
           {
            "line": {
             "colorbar": {
              "outlinewidth": 0,
              "ticks": ""
             }
            },
            "marker": {
             "colorbar": {
              "outlinewidth": 0,
              "ticks": ""
             }
            },
            "type": "scatter3d"
           }
          ],
          "scattercarpet": [
           {
            "marker": {
             "colorbar": {
              "outlinewidth": 0,
              "ticks": ""
             }
            },
            "type": "scattercarpet"
           }
          ],
          "scattergeo": [
           {
            "marker": {
             "colorbar": {
              "outlinewidth": 0,
              "ticks": ""
             }
            },
            "type": "scattergeo"
           }
          ],
          "scattergl": [
           {
            "marker": {
             "colorbar": {
              "outlinewidth": 0,
              "ticks": ""
             }
            },
            "type": "scattergl"
           }
          ],
          "scattermap": [
           {
            "marker": {
             "colorbar": {
              "outlinewidth": 0,
              "ticks": ""
             }
            },
            "type": "scattermap"
           }
          ],
          "scattermapbox": [
           {
            "marker": {
             "colorbar": {
              "outlinewidth": 0,
              "ticks": ""
             }
            },
            "type": "scattermapbox"
           }
          ],
          "scatterpolar": [
           {
            "marker": {
             "colorbar": {
              "outlinewidth": 0,
              "ticks": ""
             }
            },
            "type": "scatterpolar"
           }
          ],
          "scatterpolargl": [
           {
            "marker": {
             "colorbar": {
              "outlinewidth": 0,
              "ticks": ""
             }
            },
            "type": "scatterpolargl"
           }
          ],
          "scatterternary": [
           {
            "marker": {
             "colorbar": {
              "outlinewidth": 0,
              "ticks": ""
             }
            },
            "type": "scatterternary"
           }
          ],
          "surface": [
           {
            "colorbar": {
             "outlinewidth": 0,
             "ticks": ""
            },
            "colorscale": [
             [
              0,
              "#0d0887"
             ],
             [
              0.1111111111111111,
              "#46039f"
             ],
             [
              0.2222222222222222,
              "#7201a8"
             ],
             [
              0.3333333333333333,
              "#9c179e"
             ],
             [
              0.4444444444444444,
              "#bd3786"
             ],
             [
              0.5555555555555556,
              "#d8576b"
             ],
             [
              0.6666666666666666,
              "#ed7953"
             ],
             [
              0.7777777777777778,
              "#fb9f3a"
             ],
             [
              0.8888888888888888,
              "#fdca26"
             ],
             [
              1,
              "#f0f921"
             ]
            ],
            "type": "surface"
           }
          ],
          "table": [
           {
            "cells": {
             "fill": {
              "color": "#EBF0F8"
             },
             "line": {
              "color": "white"
             }
            },
            "header": {
             "fill": {
              "color": "#C8D4E3"
             },
             "line": {
              "color": "white"
             }
            },
            "type": "table"
           }
          ]
         },
         "layout": {
          "annotationdefaults": {
           "arrowcolor": "#2a3f5f",
           "arrowhead": 0,
           "arrowwidth": 1
          },
          "autotypenumbers": "strict",
          "coloraxis": {
           "colorbar": {
            "outlinewidth": 0,
            "ticks": ""
           }
          },
          "colorscale": {
           "diverging": [
            [
             0,
             "#8e0152"
            ],
            [
             0.1,
             "#c51b7d"
            ],
            [
             0.2,
             "#de77ae"
            ],
            [
             0.3,
             "#f1b6da"
            ],
            [
             0.4,
             "#fde0ef"
            ],
            [
             0.5,
             "#f7f7f7"
            ],
            [
             0.6,
             "#e6f5d0"
            ],
            [
             0.7,
             "#b8e186"
            ],
            [
             0.8,
             "#7fbc41"
            ],
            [
             0.9,
             "#4d9221"
            ],
            [
             1,
             "#276419"
            ]
           ],
           "sequential": [
            [
             0,
             "#0d0887"
            ],
            [
             0.1111111111111111,
             "#46039f"
            ],
            [
             0.2222222222222222,
             "#7201a8"
            ],
            [
             0.3333333333333333,
             "#9c179e"
            ],
            [
             0.4444444444444444,
             "#bd3786"
            ],
            [
             0.5555555555555556,
             "#d8576b"
            ],
            [
             0.6666666666666666,
             "#ed7953"
            ],
            [
             0.7777777777777778,
             "#fb9f3a"
            ],
            [
             0.8888888888888888,
             "#fdca26"
            ],
            [
             1,
             "#f0f921"
            ]
           ],
           "sequentialminus": [
            [
             0,
             "#0d0887"
            ],
            [
             0.1111111111111111,
             "#46039f"
            ],
            [
             0.2222222222222222,
             "#7201a8"
            ],
            [
             0.3333333333333333,
             "#9c179e"
            ],
            [
             0.4444444444444444,
             "#bd3786"
            ],
            [
             0.5555555555555556,
             "#d8576b"
            ],
            [
             0.6666666666666666,
             "#ed7953"
            ],
            [
             0.7777777777777778,
             "#fb9f3a"
            ],
            [
             0.8888888888888888,
             "#fdca26"
            ],
            [
             1,
             "#f0f921"
            ]
           ]
          },
          "colorway": [
           "#636efa",
           "#EF553B",
           "#00cc96",
           "#ab63fa",
           "#FFA15A",
           "#19d3f3",
           "#FF6692",
           "#B6E880",
           "#FF97FF",
           "#FECB52"
          ],
          "font": {
           "color": "#2a3f5f"
          },
          "geo": {
           "bgcolor": "white",
           "lakecolor": "white",
           "landcolor": "#E5ECF6",
           "showlakes": true,
           "showland": true,
           "subunitcolor": "white"
          },
          "hoverlabel": {
           "align": "left"
          },
          "hovermode": "closest",
          "mapbox": {
           "style": "light"
          },
          "paper_bgcolor": "white",
          "plot_bgcolor": "#E5ECF6",
          "polar": {
           "angularaxis": {
            "gridcolor": "white",
            "linecolor": "white",
            "ticks": ""
           },
           "bgcolor": "#E5ECF6",
           "radialaxis": {
            "gridcolor": "white",
            "linecolor": "white",
            "ticks": ""
           }
          },
          "scene": {
           "xaxis": {
            "backgroundcolor": "#E5ECF6",
            "gridcolor": "white",
            "gridwidth": 2,
            "linecolor": "white",
            "showbackground": true,
            "ticks": "",
            "zerolinecolor": "white"
           },
           "yaxis": {
            "backgroundcolor": "#E5ECF6",
            "gridcolor": "white",
            "gridwidth": 2,
            "linecolor": "white",
            "showbackground": true,
            "ticks": "",
            "zerolinecolor": "white"
           },
           "zaxis": {
            "backgroundcolor": "#E5ECF6",
            "gridcolor": "white",
            "gridwidth": 2,
            "linecolor": "white",
            "showbackground": true,
            "ticks": "",
            "zerolinecolor": "white"
           }
          },
          "shapedefaults": {
           "line": {
            "color": "#2a3f5f"
           }
          },
          "ternary": {
           "aaxis": {
            "gridcolor": "white",
            "linecolor": "white",
            "ticks": ""
           },
           "baxis": {
            "gridcolor": "white",
            "linecolor": "white",
            "ticks": ""
           },
           "bgcolor": "#E5ECF6",
           "caxis": {
            "gridcolor": "white",
            "linecolor": "white",
            "ticks": ""
           }
          },
          "title": {
           "x": 0.05
          },
          "xaxis": {
           "automargin": true,
           "gridcolor": "white",
           "linecolor": "white",
           "ticks": "",
           "title": {
            "standoff": 15
           },
           "zerolinecolor": "white",
           "zerolinewidth": 2
          },
          "yaxis": {
           "automargin": true,
           "gridcolor": "white",
           "linecolor": "white",
           "ticks": "",
           "title": {
            "standoff": 15
           },
           "zerolinecolor": "white",
           "zerolinewidth": 2
          }
         }
        },
        "title": {
         "text": "Distribución de Sexo en Historias Clínicas"
        },
        "xaxis": {
         "anchor": "y",
         "categoryarray": [
          "Masculino",
          "Femenino"
         ],
         "categoryorder": "array",
         "domain": [
          0,
          1
         ],
         "title": {
          "text": "SEXO"
         }
        },
        "yaxis": {
         "anchor": "x",
         "domain": [
          0,
          1
         ],
         "title": {
          "text": "count"
         }
        }
       }
      },
      "text/html": [
       "<div>                        <script type=\"text/javascript\">window.PlotlyConfig = {MathJaxConfig: 'local'};</script>\n",
       "        <script charset=\"utf-8\" src=\"https://cdn.plot.ly/plotly-3.1.0.min.js\" integrity=\"sha256-Ei4740bWZhaUTQuD6q9yQlgVCMPBz6CZWhevDYPv93A=\" crossorigin=\"anonymous\"></script>                <div id=\"247425b9-b05f-4818-814f-0c5890bbb258\" class=\"plotly-graph-div\" style=\"height:100%; width:100%;\"></div>            <script type=\"text/javascript\">                window.PLOTLYENV=window.PLOTLYENV || {};                                if (document.getElementById(\"247425b9-b05f-4818-814f-0c5890bbb258\")) {                    Plotly.newPlot(                        \"247425b9-b05f-4818-814f-0c5890bbb258\",                        [{\"bingroup\":\"x\",\"hovertemplate\":\"SEXO=%{x}\\u003cbr\\u003ecount=%{y}\\u003cextra\\u003e\\u003c\\u002fextra\\u003e\",\"legendgroup\":\"Masculino\",\"marker\":{\"color\":\"#636efa\",\"pattern\":{\"shape\":\"\"}},\"name\":\"Masculino\",\"orientation\":\"v\",\"showlegend\":true,\"texttemplate\":\"%{value}\",\"x\":[\"Masculino\",\"Masculino\",\"Masculino\",\"Masculino\",\"Masculino\",\"Masculino\",\"Masculino\",\"Masculino\",\"Masculino\",\"Masculino\",\"Masculino\",\"Masculino\",\"Masculino\",\"Masculino\",\"Masculino\",\"Masculino\",\"Masculino\",\"Masculino\",\"Masculino\",\"Masculino\",\"Masculino\",\"Masculino\",\"Masculino\",\"Masculino\",\"Masculino\",\"Masculino\",\"Masculino\",\"Masculino\",\"Masculino\",\"Masculino\",\"Masculino\",\"Masculino\",\"Masculino\",\"Masculino\",\"Masculino\",\"Masculino\",\"Masculino\",\"Masculino\",\"Masculino\",\"Masculino\",\"Masculino\",\"Masculino\",\"Masculino\",\"Masculino\",\"Masculino\",\"Masculino\",\"Masculino\",\"Masculino\",\"Masculino\",\"Masculino\",\"Masculino\",\"Masculino\",\"Masculino\",\"Masculino\",\"Masculino\",\"Masculino\",\"Masculino\",\"Masculino\",\"Masculino\",\"Masculino\",\"Masculino\",\"Masculino\",\"Masculino\",\"Masculino\",\"Masculino\",\"Masculino\",\"Masculino\",\"Masculino\",\"Masculino\",\"Masculino\",\"Masculino\",\"Masculino\",\"Masculino\",\"Masculino\",\"Masculino\",\"Masculino\",\"Masculino\",\"Masculino\",\"Masculino\",\"Masculino\",\"Masculino\",\"Masculino\",\"Masculino\",\"Masculino\",\"Masculino\",\"Masculino\",\"Masculino\",\"Masculino\",\"Masculino\",\"Masculino\",\"Masculino\",\"Masculino\",\"Masculino\",\"Masculino\",\"Masculino\",\"Masculino\",\"Masculino\",\"Masculino\",\"Masculino\",\"Masculino\",\"Masculino\",\"Masculino\",\"Masculino\",\"Masculino\",\"Masculino\",\"Masculino\",\"Masculino\",\"Masculino\",\"Masculino\",\"Masculino\",\"Masculino\",\"Masculino\",\"Masculino\",\"Masculino\",\"Masculino\",\"Masculino\",\"Masculino\",\"Masculino\",\"Masculino\",\"Masculino\",\"Masculino\",\"Masculino\",\"Masculino\",\"Masculino\",\"Masculino\",\"Masculino\",\"Masculino\",\"Masculino\",\"Masculino\",\"Masculino\",\"Masculino\",\"Masculino\",\"Masculino\",\"Masculino\",\"Masculino\",\"Masculino\",\"Masculino\",\"Masculino\",\"Masculino\",\"Masculino\",\"Masculino\",\"Masculino\",\"Masculino\",\"Masculino\",\"Masculino\",\"Masculino\",\"Masculino\",\"Masculino\",\"Masculino\",\"Masculino\",\"Masculino\",\"Masculino\",\"Masculino\",\"Masculino\",\"Masculino\",\"Masculino\",\"Masculino\",\"Masculino\",\"Masculino\",\"Masculino\",\"Masculino\",\"Masculino\",\"Masculino\",\"Masculino\",\"Masculino\",\"Masculino\",\"Masculino\",\"Masculino\",\"Masculino\",\"Masculino\",\"Masculino\",\"Masculino\",\"Masculino\",\"Masculino\",\"Masculino\",\"Masculino\",\"Masculino\",\"Masculino\",\"Masculino\",\"Masculino\",\"Masculino\",\"Masculino\",\"Masculino\",\"Masculino\",\"Masculino\",\"Masculino\",\"Masculino\",\"Masculino\",\"Masculino\",\"Masculino\",\"Masculino\",\"Masculino\",\"Masculino\",\"Masculino\",\"Masculino\",\"Masculino\",\"Masculino\",\"Masculino\",\"Masculino\",\"Masculino\",\"Masculino\",\"Masculino\",\"Masculino\",\"Masculino\",\"Masculino\",\"Masculino\",\"Masculino\",\"Masculino\",\"Masculino\",\"Masculino\",\"Masculino\",\"Masculino\",\"Masculino\",\"Masculino\",\"Masculino\",\"Masculino\",\"Masculino\",\"Masculino\",\"Masculino\",\"Masculino\",\"Masculino\",\"Masculino\",\"Masculino\",\"Masculino\",\"Masculino\",\"Masculino\",\"Masculino\",\"Masculino\",\"Masculino\",\"Masculino\",\"Masculino\",\"Masculino\",\"Masculino\",\"Masculino\",\"Masculino\",\"Masculino\",\"Masculino\",\"Masculino\",\"Masculino\",\"Masculino\",\"Masculino\",\"Masculino\",\"Masculino\",\"Masculino\",\"Masculino\",\"Masculino\",\"Masculino\",\"Masculino\",\"Masculino\",\"Masculino\",\"Masculino\",\"Masculino\",\"Masculino\",\"Masculino\",\"Masculino\",\"Masculino\",\"Masculino\",\"Masculino\",\"Masculino\",\"Masculino\",\"Masculino\",\"Masculino\",\"Masculino\",\"Masculino\",\"Masculino\",\"Masculino\",\"Masculino\",\"Masculino\",\"Masculino\",\"Masculino\",\"Masculino\",\"Masculino\",\"Masculino\",\"Masculino\",\"Masculino\",\"Masculino\",\"Masculino\",\"Masculino\",\"Masculino\",\"Masculino\",\"Masculino\",\"Masculino\",\"Masculino\",\"Masculino\",\"Masculino\",\"Masculino\",\"Masculino\",\"Masculino\",\"Masculino\",\"Masculino\",\"Masculino\",\"Masculino\",\"Masculino\",\"Masculino\",\"Masculino\",\"Masculino\",\"Masculino\",\"Masculino\",\"Masculino\",\"Masculino\",\"Masculino\",\"Masculino\",\"Masculino\",\"Masculino\",\"Masculino\",\"Masculino\",\"Masculino\",\"Masculino\",\"Masculino\",\"Masculino\",\"Masculino\",\"Masculino\",\"Masculino\",\"Masculino\",\"Masculino\",\"Masculino\",\"Masculino\",\"Masculino\",\"Masculino\",\"Masculino\",\"Masculino\",\"Masculino\",\"Masculino\",\"Masculino\",\"Masculino\",\"Masculino\",\"Masculino\",\"Masculino\",\"Masculino\",\"Masculino\",\"Masculino\",\"Masculino\",\"Masculino\",\"Masculino\",\"Masculino\",\"Masculino\",\"Masculino\",\"Masculino\",\"Masculino\",\"Masculino\",\"Masculino\",\"Masculino\",\"Masculino\",\"Masculino\",\"Masculino\",\"Masculino\",\"Masculino\",\"Masculino\",\"Masculino\",\"Masculino\",\"Masculino\",\"Masculino\",\"Masculino\",\"Masculino\",\"Masculino\",\"Masculino\",\"Masculino\",\"Masculino\",\"Masculino\",\"Masculino\",\"Masculino\",\"Masculino\",\"Masculino\",\"Masculino\",\"Masculino\",\"Masculino\",\"Masculino\",\"Masculino\",\"Masculino\",\"Masculino\",\"Masculino\",\"Masculino\",\"Masculino\",\"Masculino\",\"Masculino\",\"Masculino\",\"Masculino\",\"Masculino\",\"Masculino\",\"Masculino\",\"Masculino\",\"Masculino\",\"Masculino\",\"Masculino\",\"Masculino\",\"Masculino\",\"Masculino\",\"Masculino\",\"Masculino\",\"Masculino\",\"Masculino\",\"Masculino\",\"Masculino\",\"Masculino\",\"Masculino\",\"Masculino\",\"Masculino\",\"Masculino\",\"Masculino\",\"Masculino\",\"Masculino\",\"Masculino\",\"Masculino\",\"Masculino\",\"Masculino\",\"Masculino\",\"Masculino\",\"Masculino\",\"Masculino\",\"Masculino\",\"Masculino\",\"Masculino\",\"Masculino\",\"Masculino\",\"Masculino\",\"Masculino\",\"Masculino\",\"Masculino\",\"Masculino\",\"Masculino\",\"Masculino\",\"Masculino\",\"Masculino\",\"Masculino\",\"Masculino\",\"Masculino\",\"Masculino\",\"Masculino\",\"Masculino\",\"Masculino\",\"Masculino\",\"Masculino\",\"Masculino\",\"Masculino\",\"Masculino\",\"Masculino\",\"Masculino\",\"Masculino\",\"Masculino\",\"Masculino\",\"Masculino\",\"Masculino\",\"Masculino\",\"Masculino\",\"Masculino\",\"Masculino\",\"Masculino\",\"Masculino\",\"Masculino\",\"Masculino\",\"Masculino\",\"Masculino\",\"Masculino\",\"Masculino\",\"Masculino\",\"Masculino\",\"Masculino\",\"Masculino\",\"Masculino\",\"Masculino\",\"Masculino\",\"Masculino\",\"Masculino\",\"Masculino\",\"Masculino\",\"Masculino\",\"Masculino\",\"Masculino\",\"Masculino\",\"Masculino\",\"Masculino\",\"Masculino\",\"Masculino\",\"Masculino\",\"Masculino\",\"Masculino\",\"Masculino\",\"Masculino\",\"Masculino\",\"Masculino\",\"Masculino\",\"Masculino\",\"Masculino\",\"Masculino\",\"Masculino\",\"Masculino\",\"Masculino\",\"Masculino\",\"Masculino\",\"Masculino\",\"Masculino\",\"Masculino\",\"Masculino\",\"Masculino\",\"Masculino\",\"Masculino\",\"Masculino\",\"Masculino\",\"Masculino\",\"Masculino\",\"Masculino\",\"Masculino\",\"Masculino\",\"Masculino\",\"Masculino\",\"Masculino\",\"Masculino\",\"Masculino\",\"Masculino\",\"Masculino\",\"Masculino\",\"Masculino\",\"Masculino\",\"Masculino\",\"Masculino\",\"Masculino\",\"Masculino\",\"Masculino\",\"Masculino\",\"Masculino\",\"Masculino\",\"Masculino\",\"Masculino\",\"Masculino\",\"Masculino\",\"Masculino\",\"Masculino\",\"Masculino\",\"Masculino\",\"Masculino\",\"Masculino\",\"Masculino\",\"Masculino\",\"Masculino\",\"Masculino\",\"Masculino\",\"Masculino\",\"Masculino\",\"Masculino\",\"Masculino\",\"Masculino\",\"Masculino\",\"Masculino\",\"Masculino\",\"Masculino\",\"Masculino\",\"Masculino\",\"Masculino\",\"Masculino\",\"Masculino\",\"Masculino\",\"Masculino\",\"Masculino\",\"Masculino\",\"Masculino\",\"Masculino\",\"Masculino\",\"Masculino\",\"Masculino\",\"Masculino\",\"Masculino\",\"Masculino\",\"Masculino\",\"Masculino\",\"Masculino\",\"Masculino\",\"Masculino\",\"Masculino\",\"Masculino\",\"Masculino\",\"Masculino\",\"Masculino\",\"Masculino\",\"Masculino\",\"Masculino\",\"Masculino\",\"Masculino\",\"Masculino\",\"Masculino\",\"Masculino\",\"Masculino\",\"Masculino\",\"Masculino\",\"Masculino\",\"Masculino\",\"Masculino\",\"Masculino\",\"Masculino\",\"Masculino\",\"Masculino\",\"Masculino\",\"Masculino\",\"Masculino\",\"Masculino\",\"Masculino\",\"Masculino\",\"Masculino\",\"Masculino\",\"Masculino\",\"Masculino\",\"Masculino\",\"Masculino\",\"Masculino\",\"Masculino\",\"Masculino\",\"Masculino\",\"Masculino\",\"Masculino\",\"Masculino\",\"Masculino\",\"Masculino\",\"Masculino\",\"Masculino\",\"Masculino\",\"Masculino\",\"Masculino\",\"Masculino\",\"Masculino\",\"Masculino\",\"Masculino\",\"Masculino\",\"Masculino\",\"Masculino\",\"Masculino\",\"Masculino\",\"Masculino\",\"Masculino\",\"Masculino\",\"Masculino\",\"Masculino\",\"Masculino\",\"Masculino\",\"Masculino\",\"Masculino\",\"Masculino\",\"Masculino\",\"Masculino\",\"Masculino\",\"Masculino\",\"Masculino\",\"Masculino\",\"Masculino\",\"Masculino\",\"Masculino\",\"Masculino\",\"Masculino\",\"Masculino\",\"Masculino\",\"Masculino\",\"Masculino\",\"Masculino\",\"Masculino\",\"Masculino\",\"Masculino\",\"Masculino\",\"Masculino\",\"Masculino\",\"Masculino\",\"Masculino\",\"Masculino\",\"Masculino\",\"Masculino\",\"Masculino\",\"Masculino\",\"Masculino\",\"Masculino\",\"Masculino\",\"Masculino\",\"Masculino\",\"Masculino\",\"Masculino\",\"Masculino\",\"Masculino\",\"Masculino\",\"Masculino\",\"Masculino\",\"Masculino\",\"Masculino\",\"Masculino\",\"Masculino\",\"Masculino\",\"Masculino\",\"Masculino\",\"Masculino\",\"Masculino\",\"Masculino\",\"Masculino\",\"Masculino\",\"Masculino\",\"Masculino\",\"Masculino\",\"Masculino\",\"Masculino\",\"Masculino\",\"Masculino\",\"Masculino\",\"Masculino\",\"Masculino\",\"Masculino\",\"Masculino\",\"Masculino\",\"Masculino\",\"Masculino\",\"Masculino\",\"Masculino\",\"Masculino\",\"Masculino\",\"Masculino\",\"Masculino\",\"Masculino\",\"Masculino\",\"Masculino\",\"Masculino\",\"Masculino\",\"Masculino\",\"Masculino\",\"Masculino\",\"Masculino\",\"Masculino\",\"Masculino\",\"Masculino\",\"Masculino\",\"Masculino\",\"Masculino\",\"Masculino\",\"Masculino\",\"Masculino\",\"Masculino\",\"Masculino\",\"Masculino\",\"Masculino\",\"Masculino\",\"Masculino\",\"Masculino\",\"Masculino\",\"Masculino\",\"Masculino\",\"Masculino\",\"Masculino\",\"Masculino\",\"Masculino\",\"Masculino\",\"Masculino\",\"Masculino\",\"Masculino\",\"Masculino\",\"Masculino\",\"Masculino\",\"Masculino\",\"Masculino\",\"Masculino\",\"Masculino\",\"Masculino\",\"Masculino\",\"Masculino\",\"Masculino\",\"Masculino\",\"Masculino\",\"Masculino\",\"Masculino\",\"Masculino\",\"Masculino\",\"Masculino\",\"Masculino\",\"Masculino\",\"Masculino\",\"Masculino\",\"Masculino\",\"Masculino\",\"Masculino\",\"Masculino\",\"Masculino\",\"Masculino\",\"Masculino\",\"Masculino\",\"Masculino\",\"Masculino\",\"Masculino\",\"Masculino\",\"Masculino\",\"Masculino\",\"Masculino\",\"Masculino\",\"Masculino\",\"Masculino\",\"Masculino\",\"Masculino\",\"Masculino\",\"Masculino\",\"Masculino\",\"Masculino\",\"Masculino\",\"Masculino\",\"Masculino\",\"Masculino\",\"Masculino\",\"Masculino\",\"Masculino\",\"Masculino\",\"Masculino\",\"Masculino\",\"Masculino\",\"Masculino\",\"Masculino\",\"Masculino\",\"Masculino\",\"Masculino\",\"Masculino\",\"Masculino\",\"Masculino\",\"Masculino\",\"Masculino\",\"Masculino\",\"Masculino\",\"Masculino\",\"Masculino\",\"Masculino\",\"Masculino\",\"Masculino\",\"Masculino\",\"Masculino\",\"Masculino\",\"Masculino\",\"Masculino\",\"Masculino\",\"Masculino\",\"Masculino\",\"Masculino\",\"Masculino\",\"Masculino\",\"Masculino\",\"Masculino\",\"Masculino\",\"Masculino\",\"Masculino\",\"Masculino\",\"Masculino\",\"Masculino\",\"Masculino\",\"Masculino\",\"Masculino\",\"Masculino\",\"Masculino\",\"Masculino\",\"Masculino\",\"Masculino\",\"Masculino\",\"Masculino\",\"Masculino\",\"Masculino\",\"Masculino\",\"Masculino\",\"Masculino\",\"Masculino\",\"Masculino\",\"Masculino\",\"Masculino\",\"Masculino\",\"Masculino\",\"Masculino\",\"Masculino\",\"Masculino\",\"Masculino\",\"Masculino\",\"Masculino\",\"Masculino\",\"Masculino\",\"Masculino\",\"Masculino\",\"Masculino\",\"Masculino\",\"Masculino\",\"Masculino\",\"Masculino\",\"Masculino\",\"Masculino\",\"Masculino\",\"Masculino\",\"Masculino\",\"Masculino\",\"Masculino\",\"Masculino\",\"Masculino\",\"Masculino\",\"Masculino\",\"Masculino\",\"Masculino\",\"Masculino\",\"Masculino\",\"Masculino\",\"Masculino\",\"Masculino\",\"Masculino\",\"Masculino\",\"Masculino\",\"Masculino\",\"Masculino\",\"Masculino\",\"Masculino\",\"Masculino\",\"Masculino\",\"Masculino\",\"Masculino\",\"Masculino\",\"Masculino\",\"Masculino\",\"Masculino\",\"Masculino\",\"Masculino\",\"Masculino\",\"Masculino\",\"Masculino\",\"Masculino\",\"Masculino\",\"Masculino\",\"Masculino\",\"Masculino\",\"Masculino\",\"Masculino\",\"Masculino\",\"Masculino\",\"Masculino\",\"Masculino\",\"Masculino\",\"Masculino\",\"Masculino\",\"Masculino\",\"Masculino\",\"Masculino\",\"Masculino\",\"Masculino\",\"Masculino\",\"Masculino\",\"Masculino\",\"Masculino\",\"Masculino\",\"Masculino\",\"Masculino\",\"Masculino\",\"Masculino\",\"Masculino\",\"Masculino\",\"Masculino\",\"Masculino\",\"Masculino\",\"Masculino\"],\"xaxis\":\"x\",\"yaxis\":\"y\",\"type\":\"histogram\"},{\"bingroup\":\"x\",\"hovertemplate\":\"SEXO=%{x}\\u003cbr\\u003ecount=%{y}\\u003cextra\\u003e\\u003c\\u002fextra\\u003e\",\"legendgroup\":\"Femenino\",\"marker\":{\"color\":\"#EF553B\",\"pattern\":{\"shape\":\"\"}},\"name\":\"Femenino\",\"orientation\":\"v\",\"showlegend\":true,\"texttemplate\":\"%{value}\",\"x\":[\"Femenino\",\"Femenino\",\"Femenino\",\"Femenino\",\"Femenino\",\"Femenino\",\"Femenino\",\"Femenino\",\"Femenino\",\"Femenino\",\"Femenino\",\"Femenino\",\"Femenino\",\"Femenino\",\"Femenino\",\"Femenino\",\"Femenino\",\"Femenino\",\"Femenino\",\"Femenino\",\"Femenino\",\"Femenino\",\"Femenino\",\"Femenino\",\"Femenino\",\"Femenino\",\"Femenino\",\"Femenino\",\"Femenino\",\"Femenino\",\"Femenino\",\"Femenino\",\"Femenino\",\"Femenino\",\"Femenino\",\"Femenino\",\"Femenino\",\"Femenino\",\"Femenino\",\"Femenino\",\"Femenino\",\"Femenino\",\"Femenino\",\"Femenino\",\"Femenino\",\"Femenino\",\"Femenino\",\"Femenino\",\"Femenino\",\"Femenino\",\"Femenino\",\"Femenino\",\"Femenino\",\"Femenino\",\"Femenino\",\"Femenino\",\"Femenino\",\"Femenino\",\"Femenino\",\"Femenino\",\"Femenino\",\"Femenino\",\"Femenino\",\"Femenino\",\"Femenino\",\"Femenino\",\"Femenino\",\"Femenino\",\"Femenino\",\"Femenino\",\"Femenino\",\"Femenino\",\"Femenino\",\"Femenino\",\"Femenino\",\"Femenino\",\"Femenino\",\"Femenino\",\"Femenino\",\"Femenino\",\"Femenino\",\"Femenino\",\"Femenino\",\"Femenino\",\"Femenino\",\"Femenino\",\"Femenino\",\"Femenino\",\"Femenino\",\"Femenino\",\"Femenino\",\"Femenino\",\"Femenino\",\"Femenino\",\"Femenino\",\"Femenino\",\"Femenino\",\"Femenino\",\"Femenino\",\"Femenino\",\"Femenino\",\"Femenino\",\"Femenino\",\"Femenino\",\"Femenino\",\"Femenino\",\"Femenino\",\"Femenino\",\"Femenino\",\"Femenino\",\"Femenino\",\"Femenino\",\"Femenino\",\"Femenino\",\"Femenino\",\"Femenino\",\"Femenino\",\"Femenino\",\"Femenino\",\"Femenino\",\"Femenino\",\"Femenino\",\"Femenino\",\"Femenino\",\"Femenino\",\"Femenino\",\"Femenino\",\"Femenino\",\"Femenino\",\"Femenino\",\"Femenino\",\"Femenino\",\"Femenino\",\"Femenino\",\"Femenino\",\"Femenino\",\"Femenino\",\"Femenino\",\"Femenino\",\"Femenino\",\"Femenino\",\"Femenino\",\"Femenino\",\"Femenino\",\"Femenino\",\"Femenino\",\"Femenino\",\"Femenino\",\"Femenino\",\"Femenino\",\"Femenino\",\"Femenino\",\"Femenino\",\"Femenino\",\"Femenino\",\"Femenino\",\"Femenino\",\"Femenino\",\"Femenino\",\"Femenino\",\"Femenino\",\"Femenino\",\"Femenino\",\"Femenino\",\"Femenino\",\"Femenino\",\"Femenino\",\"Femenino\",\"Femenino\",\"Femenino\",\"Femenino\",\"Femenino\",\"Femenino\",\"Femenino\",\"Femenino\",\"Femenino\",\"Femenino\",\"Femenino\",\"Femenino\",\"Femenino\",\"Femenino\",\"Femenino\",\"Femenino\",\"Femenino\",\"Femenino\",\"Femenino\",\"Femenino\",\"Femenino\",\"Femenino\",\"Femenino\",\"Femenino\",\"Femenino\",\"Femenino\",\"Femenino\",\"Femenino\",\"Femenino\",\"Femenino\",\"Femenino\",\"Femenino\",\"Femenino\",\"Femenino\",\"Femenino\",\"Femenino\",\"Femenino\",\"Femenino\",\"Femenino\",\"Femenino\",\"Femenino\",\"Femenino\",\"Femenino\",\"Femenino\",\"Femenino\",\"Femenino\",\"Femenino\",\"Femenino\",\"Femenino\",\"Femenino\",\"Femenino\",\"Femenino\",\"Femenino\",\"Femenino\",\"Femenino\",\"Femenino\",\"Femenino\",\"Femenino\",\"Femenino\",\"Femenino\",\"Femenino\",\"Femenino\",\"Femenino\",\"Femenino\",\"Femenino\",\"Femenino\",\"Femenino\",\"Femenino\",\"Femenino\",\"Femenino\",\"Femenino\",\"Femenino\",\"Femenino\",\"Femenino\",\"Femenino\",\"Femenino\",\"Femenino\",\"Femenino\",\"Femenino\",\"Femenino\",\"Femenino\",\"Femenino\",\"Femenino\",\"Femenino\",\"Femenino\",\"Femenino\",\"Femenino\",\"Femenino\",\"Femenino\",\"Femenino\",\"Femenino\",\"Femenino\",\"Femenino\",\"Femenino\",\"Femenino\",\"Femenino\",\"Femenino\",\"Femenino\",\"Femenino\",\"Femenino\",\"Femenino\",\"Femenino\",\"Femenino\",\"Femenino\",\"Femenino\",\"Femenino\",\"Femenino\",\"Femenino\",\"Femenino\",\"Femenino\",\"Femenino\",\"Femenino\",\"Femenino\",\"Femenino\",\"Femenino\",\"Femenino\",\"Femenino\",\"Femenino\",\"Femenino\",\"Femenino\",\"Femenino\",\"Femenino\",\"Femenino\",\"Femenino\",\"Femenino\",\"Femenino\",\"Femenino\",\"Femenino\",\"Femenino\",\"Femenino\",\"Femenino\",\"Femenino\",\"Femenino\",\"Femenino\",\"Femenino\",\"Femenino\",\"Femenino\",\"Femenino\",\"Femenino\",\"Femenino\",\"Femenino\",\"Femenino\",\"Femenino\",\"Femenino\",\"Femenino\",\"Femenino\",\"Femenino\",\"Femenino\",\"Femenino\",\"Femenino\",\"Femenino\",\"Femenino\",\"Femenino\",\"Femenino\",\"Femenino\",\"Femenino\",\"Femenino\",\"Femenino\",\"Femenino\",\"Femenino\",\"Femenino\",\"Femenino\",\"Femenino\",\"Femenino\",\"Femenino\",\"Femenino\",\"Femenino\",\"Femenino\",\"Femenino\",\"Femenino\",\"Femenino\",\"Femenino\",\"Femenino\",\"Femenino\",\"Femenino\",\"Femenino\",\"Femenino\",\"Femenino\",\"Femenino\",\"Femenino\",\"Femenino\",\"Femenino\",\"Femenino\",\"Femenino\",\"Femenino\",\"Femenino\",\"Femenino\",\"Femenino\",\"Femenino\",\"Femenino\",\"Femenino\",\"Femenino\",\"Femenino\",\"Femenino\",\"Femenino\",\"Femenino\",\"Femenino\",\"Femenino\",\"Femenino\",\"Femenino\",\"Femenino\",\"Femenino\",\"Femenino\",\"Femenino\",\"Femenino\",\"Femenino\",\"Femenino\",\"Femenino\",\"Femenino\",\"Femenino\",\"Femenino\",\"Femenino\",\"Femenino\",\"Femenino\",\"Femenino\",\"Femenino\",\"Femenino\",\"Femenino\",\"Femenino\",\"Femenino\",\"Femenino\",\"Femenino\",\"Femenino\",\"Femenino\",\"Femenino\",\"Femenino\",\"Femenino\",\"Femenino\",\"Femenino\",\"Femenino\",\"Femenino\",\"Femenino\",\"Femenino\",\"Femenino\",\"Femenino\",\"Femenino\",\"Femenino\",\"Femenino\",\"Femenino\",\"Femenino\",\"Femenino\",\"Femenino\",\"Femenino\",\"Femenino\",\"Femenino\",\"Femenino\",\"Femenino\",\"Femenino\",\"Femenino\",\"Femenino\",\"Femenino\",\"Femenino\",\"Femenino\",\"Femenino\",\"Femenino\",\"Femenino\",\"Femenino\",\"Femenino\",\"Femenino\",\"Femenino\",\"Femenino\",\"Femenino\",\"Femenino\",\"Femenino\",\"Femenino\",\"Femenino\",\"Femenino\",\"Femenino\",\"Femenino\",\"Femenino\",\"Femenino\",\"Femenino\",\"Femenino\",\"Femenino\",\"Femenino\",\"Femenino\",\"Femenino\",\"Femenino\",\"Femenino\",\"Femenino\",\"Femenino\",\"Femenino\",\"Femenino\",\"Femenino\",\"Femenino\",\"Femenino\",\"Femenino\",\"Femenino\",\"Femenino\",\"Femenino\",\"Femenino\",\"Femenino\",\"Femenino\",\"Femenino\",\"Femenino\",\"Femenino\",\"Femenino\",\"Femenino\",\"Femenino\",\"Femenino\",\"Femenino\",\"Femenino\",\"Femenino\",\"Femenino\",\"Femenino\",\"Femenino\",\"Femenino\",\"Femenino\",\"Femenino\",\"Femenino\",\"Femenino\",\"Femenino\",\"Femenino\",\"Femenino\",\"Femenino\",\"Femenino\",\"Femenino\",\"Femenino\",\"Femenino\",\"Femenino\",\"Femenino\",\"Femenino\",\"Femenino\",\"Femenino\",\"Femenino\",\"Femenino\",\"Femenino\",\"Femenino\",\"Femenino\",\"Femenino\",\"Femenino\",\"Femenino\",\"Femenino\",\"Femenino\",\"Femenino\",\"Femenino\",\"Femenino\",\"Femenino\",\"Femenino\",\"Femenino\",\"Femenino\",\"Femenino\",\"Femenino\",\"Femenino\",\"Femenino\",\"Femenino\",\"Femenino\",\"Femenino\",\"Femenino\",\"Femenino\",\"Femenino\",\"Femenino\",\"Femenino\",\"Femenino\",\"Femenino\",\"Femenino\",\"Femenino\",\"Femenino\",\"Femenino\",\"Femenino\",\"Femenino\",\"Femenino\",\"Femenino\",\"Femenino\",\"Femenino\",\"Femenino\",\"Femenino\",\"Femenino\",\"Femenino\",\"Femenino\",\"Femenino\",\"Femenino\",\"Femenino\",\"Femenino\",\"Femenino\",\"Femenino\",\"Femenino\",\"Femenino\",\"Femenino\",\"Femenino\",\"Femenino\",\"Femenino\",\"Femenino\",\"Femenino\",\"Femenino\",\"Femenino\",\"Femenino\",\"Femenino\",\"Femenino\",\"Femenino\",\"Femenino\",\"Femenino\",\"Femenino\",\"Femenino\",\"Femenino\",\"Femenino\",\"Femenino\",\"Femenino\",\"Femenino\",\"Femenino\",\"Femenino\",\"Femenino\",\"Femenino\",\"Femenino\",\"Femenino\",\"Femenino\",\"Femenino\",\"Femenino\",\"Femenino\",\"Femenino\",\"Femenino\",\"Femenino\",\"Femenino\",\"Femenino\",\"Femenino\",\"Femenino\",\"Femenino\",\"Femenino\",\"Femenino\",\"Femenino\",\"Femenino\",\"Femenino\",\"Femenino\",\"Femenino\",\"Femenino\",\"Femenino\",\"Femenino\",\"Femenino\",\"Femenino\",\"Femenino\",\"Femenino\",\"Femenino\",\"Femenino\",\"Femenino\",\"Femenino\",\"Femenino\",\"Femenino\",\"Femenino\",\"Femenino\",\"Femenino\",\"Femenino\",\"Femenino\",\"Femenino\",\"Femenino\",\"Femenino\",\"Femenino\",\"Femenino\",\"Femenino\",\"Femenino\",\"Femenino\",\"Femenino\",\"Femenino\",\"Femenino\",\"Femenino\",\"Femenino\",\"Femenino\",\"Femenino\",\"Femenino\",\"Femenino\",\"Femenino\",\"Femenino\",\"Femenino\",\"Femenino\",\"Femenino\",\"Femenino\",\"Femenino\",\"Femenino\",\"Femenino\",\"Femenino\",\"Femenino\",\"Femenino\",\"Femenino\",\"Femenino\",\"Femenino\",\"Femenino\",\"Femenino\",\"Femenino\",\"Femenino\",\"Femenino\",\"Femenino\",\"Femenino\",\"Femenino\",\"Femenino\",\"Femenino\",\"Femenino\",\"Femenino\",\"Femenino\",\"Femenino\",\"Femenino\",\"Femenino\",\"Femenino\",\"Femenino\",\"Femenino\",\"Femenino\",\"Femenino\",\"Femenino\",\"Femenino\",\"Femenino\",\"Femenino\",\"Femenino\",\"Femenino\",\"Femenino\",\"Femenino\",\"Femenino\",\"Femenino\",\"Femenino\",\"Femenino\",\"Femenino\",\"Femenino\",\"Femenino\",\"Femenino\",\"Femenino\",\"Femenino\",\"Femenino\",\"Femenino\",\"Femenino\",\"Femenino\",\"Femenino\",\"Femenino\",\"Femenino\",\"Femenino\",\"Femenino\",\"Femenino\",\"Femenino\",\"Femenino\",\"Femenino\",\"Femenino\",\"Femenino\",\"Femenino\",\"Femenino\",\"Femenino\",\"Femenino\",\"Femenino\",\"Femenino\",\"Femenino\",\"Femenino\",\"Femenino\",\"Femenino\",\"Femenino\",\"Femenino\",\"Femenino\",\"Femenino\",\"Femenino\",\"Femenino\",\"Femenino\",\"Femenino\",\"Femenino\",\"Femenino\",\"Femenino\",\"Femenino\",\"Femenino\",\"Femenino\",\"Femenino\",\"Femenino\",\"Femenino\",\"Femenino\",\"Femenino\",\"Femenino\",\"Femenino\",\"Femenino\",\"Femenino\",\"Femenino\",\"Femenino\",\"Femenino\",\"Femenino\",\"Femenino\",\"Femenino\",\"Femenino\",\"Femenino\",\"Femenino\",\"Femenino\",\"Femenino\",\"Femenino\",\"Femenino\",\"Femenino\",\"Femenino\",\"Femenino\",\"Femenino\",\"Femenino\",\"Femenino\",\"Femenino\",\"Femenino\",\"Femenino\",\"Femenino\",\"Femenino\",\"Femenino\",\"Femenino\",\"Femenino\",\"Femenino\",\"Femenino\",\"Femenino\",\"Femenino\",\"Femenino\",\"Femenino\",\"Femenino\",\"Femenino\",\"Femenino\",\"Femenino\",\"Femenino\",\"Femenino\",\"Femenino\",\"Femenino\",\"Femenino\",\"Femenino\",\"Femenino\",\"Femenino\",\"Femenino\",\"Femenino\",\"Femenino\",\"Femenino\",\"Femenino\",\"Femenino\",\"Femenino\",\"Femenino\",\"Femenino\",\"Femenino\",\"Femenino\",\"Femenino\",\"Femenino\",\"Femenino\",\"Femenino\",\"Femenino\",\"Femenino\",\"Femenino\",\"Femenino\",\"Femenino\",\"Femenino\",\"Femenino\",\"Femenino\",\"Femenino\",\"Femenino\",\"Femenino\",\"Femenino\",\"Femenino\",\"Femenino\",\"Femenino\",\"Femenino\",\"Femenino\",\"Femenino\",\"Femenino\",\"Femenino\",\"Femenino\",\"Femenino\",\"Femenino\",\"Femenino\",\"Femenino\",\"Femenino\",\"Femenino\",\"Femenino\",\"Femenino\",\"Femenino\",\"Femenino\",\"Femenino\",\"Femenino\",\"Femenino\",\"Femenino\",\"Femenino\",\"Femenino\",\"Femenino\",\"Femenino\",\"Femenino\",\"Femenino\",\"Femenino\",\"Femenino\",\"Femenino\",\"Femenino\",\"Femenino\",\"Femenino\",\"Femenino\",\"Femenino\",\"Femenino\",\"Femenino\",\"Femenino\",\"Femenino\",\"Femenino\",\"Femenino\",\"Femenino\",\"Femenino\",\"Femenino\",\"Femenino\",\"Femenino\",\"Femenino\",\"Femenino\",\"Femenino\",\"Femenino\",\"Femenino\",\"Femenino\",\"Femenino\",\"Femenino\",\"Femenino\",\"Femenino\",\"Femenino\",\"Femenino\",\"Femenino\",\"Femenino\",\"Femenino\",\"Femenino\",\"Femenino\",\"Femenino\",\"Femenino\",\"Femenino\",\"Femenino\",\"Femenino\",\"Femenino\",\"Femenino\",\"Femenino\",\"Femenino\",\"Femenino\",\"Femenino\",\"Femenino\",\"Femenino\",\"Femenino\",\"Femenino\",\"Femenino\",\"Femenino\",\"Femenino\",\"Femenino\",\"Femenino\",\"Femenino\",\"Femenino\",\"Femenino\",\"Femenino\",\"Femenino\",\"Femenino\",\"Femenino\",\"Femenino\",\"Femenino\",\"Femenino\",\"Femenino\",\"Femenino\",\"Femenino\",\"Femenino\",\"Femenino\",\"Femenino\",\"Femenino\",\"Femenino\",\"Femenino\",\"Femenino\",\"Femenino\",\"Femenino\",\"Femenino\",\"Femenino\",\"Femenino\",\"Femenino\",\"Femenino\",\"Femenino\",\"Femenino\",\"Femenino\",\"Femenino\",\"Femenino\",\"Femenino\",\"Femenino\",\"Femenino\",\"Femenino\",\"Femenino\",\"Femenino\",\"Femenino\",\"Femenino\",\"Femenino\",\"Femenino\",\"Femenino\",\"Femenino\",\"Femenino\",\"Femenino\",\"Femenino\",\"Femenino\",\"Femenino\",\"Femenino\",\"Femenino\",\"Femenino\",\"Femenino\",\"Femenino\",\"Femenino\",\"Femenino\",\"Femenino\",\"Femenino\",\"Femenino\",\"Femenino\",\"Femenino\",\"Femenino\",\"Femenino\",\"Femenino\",\"Femenino\",\"Femenino\",\"Femenino\",\"Femenino\",\"Femenino\",\"Femenino\",\"Femenino\",\"Femenino\",\"Femenino\",\"Femenino\",\"Femenino\",\"Femenino\",\"Femenino\",\"Femenino\",\"Femenino\",\"Femenino\",\"Femenino\",\"Femenino\",\"Femenino\",\"Femenino\",\"Femenino\",\"Femenino\",\"Femenino\",\"Femenino\",\"Femenino\",\"Femenino\",\"Femenino\",\"Femenino\",\"Femenino\",\"Femenino\",\"Femenino\",\"Femenino\",\"Femenino\",\"Femenino\",\"Femenino\",\"Femenino\",\"Femenino\",\"Femenino\",\"Femenino\",\"Femenino\",\"Femenino\",\"Femenino\",\"Femenino\",\"Femenino\",\"Femenino\",\"Femenino\",\"Femenino\",\"Femenino\",\"Femenino\",\"Femenino\",\"Femenino\",\"Femenino\",\"Femenino\",\"Femenino\",\"Femenino\",\"Femenino\",\"Femenino\",\"Femenino\",\"Femenino\",\"Femenino\",\"Femenino\",\"Femenino\",\"Femenino\",\"Femenino\",\"Femenino\",\"Femenino\",\"Femenino\",\"Femenino\",\"Femenino\",\"Femenino\",\"Femenino\",\"Femenino\",\"Femenino\",\"Femenino\",\"Femenino\",\"Femenino\",\"Femenino\",\"Femenino\",\"Femenino\",\"Femenino\",\"Femenino\",\"Femenino\",\"Femenino\",\"Femenino\",\"Femenino\",\"Femenino\",\"Femenino\",\"Femenino\",\"Femenino\",\"Femenino\",\"Femenino\",\"Femenino\",\"Femenino\",\"Femenino\",\"Femenino\",\"Femenino\",\"Femenino\",\"Femenino\",\"Femenino\",\"Femenino\",\"Femenino\",\"Femenino\",\"Femenino\",\"Femenino\",\"Femenino\",\"Femenino\",\"Femenino\",\"Femenino\",\"Femenino\",\"Femenino\",\"Femenino\",\"Femenino\",\"Femenino\",\"Femenino\",\"Femenino\",\"Femenino\",\"Femenino\",\"Femenino\",\"Femenino\",\"Femenino\",\"Femenino\",\"Femenino\",\"Femenino\",\"Femenino\",\"Femenino\",\"Femenino\",\"Femenino\",\"Femenino\",\"Femenino\",\"Femenino\",\"Femenino\",\"Femenino\",\"Femenino\",\"Femenino\",\"Femenino\",\"Femenino\",\"Femenino\",\"Femenino\",\"Femenino\",\"Femenino\",\"Femenino\",\"Femenino\",\"Femenino\",\"Femenino\",\"Femenino\",\"Femenino\",\"Femenino\",\"Femenino\",\"Femenino\",\"Femenino\",\"Femenino\",\"Femenino\",\"Femenino\",\"Femenino\",\"Femenino\",\"Femenino\",\"Femenino\",\"Femenino\",\"Femenino\",\"Femenino\",\"Femenino\",\"Femenino\",\"Femenino\",\"Femenino\",\"Femenino\",\"Femenino\",\"Femenino\",\"Femenino\",\"Femenino\",\"Femenino\",\"Femenino\",\"Femenino\",\"Femenino\",\"Femenino\",\"Femenino\",\"Femenino\",\"Femenino\",\"Femenino\",\"Femenino\",\"Femenino\",\"Femenino\",\"Femenino\",\"Femenino\",\"Femenino\",\"Femenino\",\"Femenino\",\"Femenino\",\"Femenino\",\"Femenino\",\"Femenino\",\"Femenino\",\"Femenino\",\"Femenino\",\"Femenino\",\"Femenino\",\"Femenino\",\"Femenino\",\"Femenino\",\"Femenino\",\"Femenino\",\"Femenino\",\"Femenino\",\"Femenino\",\"Femenino\",\"Femenino\",\"Femenino\",\"Femenino\",\"Femenino\",\"Femenino\",\"Femenino\",\"Femenino\",\"Femenino\",\"Femenino\",\"Femenino\",\"Femenino\",\"Femenino\",\"Femenino\",\"Femenino\",\"Femenino\",\"Femenino\",\"Femenino\",\"Femenino\",\"Femenino\",\"Femenino\",\"Femenino\",\"Femenino\",\"Femenino\",\"Femenino\",\"Femenino\",\"Femenino\",\"Femenino\",\"Femenino\",\"Femenino\",\"Femenino\",\"Femenino\",\"Femenino\",\"Femenino\",\"Femenino\",\"Femenino\",\"Femenino\",\"Femenino\",\"Femenino\",\"Femenino\",\"Femenino\",\"Femenino\",\"Femenino\",\"Femenino\",\"Femenino\",\"Femenino\",\"Femenino\",\"Femenino\",\"Femenino\",\"Femenino\",\"Femenino\",\"Femenino\",\"Femenino\",\"Femenino\",\"Femenino\",\"Femenino\",\"Femenino\",\"Femenino\",\"Femenino\",\"Femenino\",\"Femenino\",\"Femenino\",\"Femenino\",\"Femenino\",\"Femenino\",\"Femenino\",\"Femenino\",\"Femenino\",\"Femenino\",\"Femenino\",\"Femenino\",\"Femenino\",\"Femenino\",\"Femenino\",\"Femenino\",\"Femenino\",\"Femenino\",\"Femenino\",\"Femenino\",\"Femenino\",\"Femenino\",\"Femenino\",\"Femenino\",\"Femenino\",\"Femenino\",\"Femenino\",\"Femenino\",\"Femenino\",\"Femenino\",\"Femenino\",\"Femenino\",\"Femenino\",\"Femenino\",\"Femenino\",\"Femenino\",\"Femenino\",\"Femenino\",\"Femenino\",\"Femenino\",\"Femenino\",\"Femenino\",\"Femenino\",\"Femenino\",\"Femenino\",\"Femenino\",\"Femenino\",\"Femenino\",\"Femenino\",\"Femenino\",\"Femenino\",\"Femenino\",\"Femenino\",\"Femenino\",\"Femenino\",\"Femenino\",\"Femenino\",\"Femenino\",\"Femenino\",\"Femenino\",\"Femenino\",\"Femenino\",\"Femenino\",\"Femenino\",\"Femenino\",\"Femenino\",\"Femenino\",\"Femenino\",\"Femenino\",\"Femenino\",\"Femenino\",\"Femenino\",\"Femenino\",\"Femenino\",\"Femenino\",\"Femenino\",\"Femenino\",\"Femenino\",\"Femenino\",\"Femenino\",\"Femenino\",\"Femenino\",\"Femenino\",\"Femenino\",\"Femenino\",\"Femenino\",\"Femenino\",\"Femenino\",\"Femenino\",\"Femenino\",\"Femenino\",\"Femenino\",\"Femenino\",\"Femenino\",\"Femenino\",\"Femenino\",\"Femenino\",\"Femenino\",\"Femenino\",\"Femenino\",\"Femenino\",\"Femenino\",\"Femenino\",\"Femenino\",\"Femenino\",\"Femenino\",\"Femenino\",\"Femenino\",\"Femenino\",\"Femenino\",\"Femenino\",\"Femenino\",\"Femenino\",\"Femenino\",\"Femenino\",\"Femenino\",\"Femenino\",\"Femenino\",\"Femenino\",\"Femenino\",\"Femenino\",\"Femenino\",\"Femenino\",\"Femenino\",\"Femenino\",\"Femenino\",\"Femenino\",\"Femenino\",\"Femenino\",\"Femenino\",\"Femenino\",\"Femenino\",\"Femenino\",\"Femenino\",\"Femenino\",\"Femenino\",\"Femenino\",\"Femenino\",\"Femenino\",\"Femenino\",\"Femenino\",\"Femenino\",\"Femenino\",\"Femenino\",\"Femenino\",\"Femenino\",\"Femenino\",\"Femenino\",\"Femenino\",\"Femenino\",\"Femenino\",\"Femenino\",\"Femenino\",\"Femenino\",\"Femenino\",\"Femenino\",\"Femenino\",\"Femenino\",\"Femenino\",\"Femenino\",\"Femenino\",\"Femenino\",\"Femenino\",\"Femenino\",\"Femenino\",\"Femenino\",\"Femenino\",\"Femenino\",\"Femenino\",\"Femenino\",\"Femenino\",\"Femenino\",\"Femenino\",\"Femenino\",\"Femenino\",\"Femenino\",\"Femenino\",\"Femenino\",\"Femenino\",\"Femenino\",\"Femenino\",\"Femenino\",\"Femenino\",\"Femenino\",\"Femenino\",\"Femenino\",\"Femenino\",\"Femenino\",\"Femenino\",\"Femenino\",\"Femenino\",\"Femenino\",\"Femenino\",\"Femenino\",\"Femenino\",\"Femenino\",\"Femenino\",\"Femenino\",\"Femenino\",\"Femenino\",\"Femenino\",\"Femenino\",\"Femenino\",\"Femenino\",\"Femenino\",\"Femenino\",\"Femenino\",\"Femenino\",\"Femenino\",\"Femenino\",\"Femenino\",\"Femenino\",\"Femenino\",\"Femenino\",\"Femenino\",\"Femenino\",\"Femenino\",\"Femenino\",\"Femenino\",\"Femenino\",\"Femenino\",\"Femenino\",\"Femenino\",\"Femenino\",\"Femenino\",\"Femenino\",\"Femenino\",\"Femenino\",\"Femenino\",\"Femenino\",\"Femenino\",\"Femenino\",\"Femenino\",\"Femenino\",\"Femenino\",\"Femenino\",\"Femenino\",\"Femenino\",\"Femenino\",\"Femenino\",\"Femenino\",\"Femenino\",\"Femenino\",\"Femenino\",\"Femenino\",\"Femenino\",\"Femenino\",\"Femenino\",\"Femenino\",\"Femenino\",\"Femenino\",\"Femenino\",\"Femenino\",\"Femenino\",\"Femenino\",\"Femenino\",\"Femenino\",\"Femenino\",\"Femenino\",\"Femenino\",\"Femenino\",\"Femenino\",\"Femenino\",\"Femenino\",\"Femenino\",\"Femenino\",\"Femenino\",\"Femenino\",\"Femenino\",\"Femenino\",\"Femenino\",\"Femenino\",\"Femenino\",\"Femenino\",\"Femenino\",\"Femenino\",\"Femenino\",\"Femenino\",\"Femenino\",\"Femenino\",\"Femenino\",\"Femenino\",\"Femenino\",\"Femenino\",\"Femenino\",\"Femenino\",\"Femenino\",\"Femenino\",\"Femenino\",\"Femenino\",\"Femenino\",\"Femenino\",\"Femenino\",\"Femenino\",\"Femenino\",\"Femenino\",\"Femenino\",\"Femenino\",\"Femenino\",\"Femenino\",\"Femenino\",\"Femenino\",\"Femenino\",\"Femenino\",\"Femenino\",\"Femenino\",\"Femenino\",\"Femenino\",\"Femenino\",\"Femenino\",\"Femenino\",\"Femenino\",\"Femenino\",\"Femenino\",\"Femenino\",\"Femenino\",\"Femenino\",\"Femenino\",\"Femenino\",\"Femenino\",\"Femenino\",\"Femenino\",\"Femenino\",\"Femenino\",\"Femenino\",\"Femenino\",\"Femenino\",\"Femenino\",\"Femenino\",\"Femenino\",\"Femenino\",\"Femenino\",\"Femenino\",\"Femenino\",\"Femenino\",\"Femenino\",\"Femenino\",\"Femenino\",\"Femenino\",\"Femenino\",\"Femenino\",\"Femenino\",\"Femenino\",\"Femenino\",\"Femenino\",\"Femenino\",\"Femenino\",\"Femenino\",\"Femenino\",\"Femenino\",\"Femenino\",\"Femenino\",\"Femenino\",\"Femenino\",\"Femenino\",\"Femenino\",\"Femenino\",\"Femenino\",\"Femenino\",\"Femenino\",\"Femenino\",\"Femenino\",\"Femenino\",\"Femenino\",\"Femenino\",\"Femenino\",\"Femenino\",\"Femenino\",\"Femenino\",\"Femenino\",\"Femenino\",\"Femenino\",\"Femenino\",\"Femenino\",\"Femenino\",\"Femenino\",\"Femenino\",\"Femenino\",\"Femenino\",\"Femenino\",\"Femenino\",\"Femenino\",\"Femenino\",\"Femenino\",\"Femenino\",\"Femenino\",\"Femenino\",\"Femenino\",\"Femenino\",\"Femenino\",\"Femenino\",\"Femenino\",\"Femenino\",\"Femenino\",\"Femenino\",\"Femenino\",\"Femenino\",\"Femenino\",\"Femenino\",\"Femenino\",\"Femenino\",\"Femenino\",\"Femenino\",\"Femenino\",\"Femenino\",\"Femenino\",\"Femenino\",\"Femenino\",\"Femenino\",\"Femenino\",\"Femenino\",\"Femenino\",\"Femenino\",\"Femenino\",\"Femenino\",\"Femenino\",\"Femenino\",\"Femenino\",\"Femenino\",\"Femenino\",\"Femenino\",\"Femenino\",\"Femenino\",\"Femenino\",\"Femenino\",\"Femenino\",\"Femenino\",\"Femenino\",\"Femenino\",\"Femenino\",\"Femenino\",\"Femenino\",\"Femenino\",\"Femenino\",\"Femenino\",\"Femenino\",\"Femenino\",\"Femenino\",\"Femenino\",\"Femenino\",\"Femenino\",\"Femenino\",\"Femenino\",\"Femenino\",\"Femenino\",\"Femenino\",\"Femenino\",\"Femenino\",\"Femenino\",\"Femenino\",\"Femenino\",\"Femenino\",\"Femenino\",\"Femenino\",\"Femenino\",\"Femenino\",\"Femenino\",\"Femenino\",\"Femenino\",\"Femenino\",\"Femenino\",\"Femenino\",\"Femenino\",\"Femenino\",\"Femenino\",\"Femenino\",\"Femenino\",\"Femenino\",\"Femenino\",\"Femenino\",\"Femenino\",\"Femenino\",\"Femenino\",\"Femenino\",\"Femenino\",\"Femenino\",\"Femenino\",\"Femenino\",\"Femenino\",\"Femenino\",\"Femenino\",\"Femenino\",\"Femenino\",\"Femenino\",\"Femenino\",\"Femenino\",\"Femenino\",\"Femenino\",\"Femenino\",\"Femenino\",\"Femenino\",\"Femenino\",\"Femenino\",\"Femenino\",\"Femenino\",\"Femenino\",\"Femenino\",\"Femenino\",\"Femenino\",\"Femenino\",\"Femenino\",\"Femenino\",\"Femenino\",\"Femenino\",\"Femenino\",\"Femenino\",\"Femenino\",\"Femenino\",\"Femenino\",\"Femenino\",\"Femenino\",\"Femenino\",\"Femenino\",\"Femenino\",\"Femenino\",\"Femenino\",\"Femenino\",\"Femenino\",\"Femenino\",\"Femenino\",\"Femenino\",\"Femenino\",\"Femenino\",\"Femenino\",\"Femenino\",\"Femenino\",\"Femenino\",\"Femenino\",\"Femenino\",\"Femenino\",\"Femenino\",\"Femenino\",\"Femenino\",\"Femenino\",\"Femenino\",\"Femenino\",\"Femenino\",\"Femenino\",\"Femenino\",\"Femenino\",\"Femenino\",\"Femenino\",\"Femenino\",\"Femenino\",\"Femenino\",\"Femenino\",\"Femenino\",\"Femenino\",\"Femenino\",\"Femenino\",\"Femenino\",\"Femenino\",\"Femenino\",\"Femenino\",\"Femenino\",\"Femenino\",\"Femenino\",\"Femenino\",\"Femenino\",\"Femenino\",\"Femenino\",\"Femenino\",\"Femenino\",\"Femenino\",\"Femenino\",\"Femenino\",\"Femenino\",\"Femenino\",\"Femenino\",\"Femenino\",\"Femenino\",\"Femenino\",\"Femenino\",\"Femenino\",\"Femenino\",\"Femenino\",\"Femenino\",\"Femenino\",\"Femenino\",\"Femenino\",\"Femenino\",\"Femenino\",\"Femenino\",\"Femenino\",\"Femenino\",\"Femenino\",\"Femenino\",\"Femenino\",\"Femenino\",\"Femenino\",\"Femenino\",\"Femenino\",\"Femenino\",\"Femenino\",\"Femenino\",\"Femenino\",\"Femenino\",\"Femenino\",\"Femenino\",\"Femenino\",\"Femenino\",\"Femenino\",\"Femenino\",\"Femenino\",\"Femenino\",\"Femenino\",\"Femenino\",\"Femenino\",\"Femenino\",\"Femenino\",\"Femenino\",\"Femenino\",\"Femenino\",\"Femenino\",\"Femenino\",\"Femenino\",\"Femenino\",\"Femenino\",\"Femenino\",\"Femenino\",\"Femenino\",\"Femenino\",\"Femenino\",\"Femenino\",\"Femenino\",\"Femenino\",\"Femenino\",\"Femenino\",\"Femenino\",\"Femenino\",\"Femenino\",\"Femenino\",\"Femenino\",\"Femenino\",\"Femenino\",\"Femenino\",\"Femenino\",\"Femenino\",\"Femenino\",\"Femenino\",\"Femenino\",\"Femenino\",\"Femenino\",\"Femenino\",\"Femenino\",\"Femenino\",\"Femenino\",\"Femenino\",\"Femenino\",\"Femenino\",\"Femenino\",\"Femenino\",\"Femenino\",\"Femenino\",\"Femenino\",\"Femenino\",\"Femenino\",\"Femenino\",\"Femenino\",\"Femenino\",\"Femenino\",\"Femenino\",\"Femenino\",\"Femenino\",\"Femenino\",\"Femenino\",\"Femenino\",\"Femenino\",\"Femenino\",\"Femenino\",\"Femenino\",\"Femenino\",\"Femenino\",\"Femenino\",\"Femenino\",\"Femenino\",\"Femenino\",\"Femenino\",\"Femenino\",\"Femenino\",\"Femenino\",\"Femenino\",\"Femenino\",\"Femenino\",\"Femenino\",\"Femenino\",\"Femenino\",\"Femenino\",\"Femenino\",\"Femenino\",\"Femenino\",\"Femenino\",\"Femenino\",\"Femenino\",\"Femenino\",\"Femenino\",\"Femenino\",\"Femenino\",\"Femenino\",\"Femenino\",\"Femenino\",\"Femenino\",\"Femenino\",\"Femenino\",\"Femenino\",\"Femenino\",\"Femenino\",\"Femenino\",\"Femenino\",\"Femenino\",\"Femenino\",\"Femenino\",\"Femenino\",\"Femenino\",\"Femenino\",\"Femenino\",\"Femenino\",\"Femenino\",\"Femenino\",\"Femenino\",\"Femenino\",\"Femenino\",\"Femenino\",\"Femenino\",\"Femenino\",\"Femenino\",\"Femenino\",\"Femenino\",\"Femenino\",\"Femenino\",\"Femenino\",\"Femenino\",\"Femenino\",\"Femenino\",\"Femenino\",\"Femenino\",\"Femenino\",\"Femenino\",\"Femenino\",\"Femenino\",\"Femenino\",\"Femenino\",\"Femenino\",\"Femenino\",\"Femenino\",\"Femenino\",\"Femenino\",\"Femenino\",\"Femenino\",\"Femenino\",\"Femenino\",\"Femenino\",\"Femenino\",\"Femenino\",\"Femenino\",\"Femenino\",\"Femenino\",\"Femenino\",\"Femenino\",\"Femenino\",\"Femenino\",\"Femenino\",\"Femenino\",\"Femenino\",\"Femenino\",\"Femenino\",\"Femenino\",\"Femenino\",\"Femenino\",\"Femenino\",\"Femenino\",\"Femenino\",\"Femenino\",\"Femenino\",\"Femenino\",\"Femenino\",\"Femenino\",\"Femenino\",\"Femenino\",\"Femenino\",\"Femenino\",\"Femenino\",\"Femenino\",\"Femenino\",\"Femenino\",\"Femenino\",\"Femenino\",\"Femenino\",\"Femenino\",\"Femenino\",\"Femenino\",\"Femenino\",\"Femenino\",\"Femenino\",\"Femenino\",\"Femenino\",\"Femenino\",\"Femenino\",\"Femenino\",\"Femenino\",\"Femenino\",\"Femenino\",\"Femenino\",\"Femenino\",\"Femenino\",\"Femenino\",\"Femenino\",\"Femenino\",\"Femenino\",\"Femenino\",\"Femenino\",\"Femenino\",\"Femenino\",\"Femenino\",\"Femenino\",\"Femenino\",\"Femenino\",\"Femenino\",\"Femenino\",\"Femenino\",\"Femenino\",\"Femenino\",\"Femenino\",\"Femenino\",\"Femenino\",\"Femenino\",\"Femenino\",\"Femenino\",\"Femenino\",\"Femenino\",\"Femenino\",\"Femenino\",\"Femenino\",\"Femenino\",\"Femenino\",\"Femenino\",\"Femenino\",\"Femenino\",\"Femenino\",\"Femenino\",\"Femenino\",\"Femenino\",\"Femenino\"],\"xaxis\":\"x\",\"yaxis\":\"y\",\"type\":\"histogram\"}],                        {\"template\":{\"data\":{\"histogram2dcontour\":[{\"type\":\"histogram2dcontour\",\"colorbar\":{\"outlinewidth\":0,\"ticks\":\"\"},\"colorscale\":[[0.0,\"#0d0887\"],[0.1111111111111111,\"#46039f\"],[0.2222222222222222,\"#7201a8\"],[0.3333333333333333,\"#9c179e\"],[0.4444444444444444,\"#bd3786\"],[0.5555555555555556,\"#d8576b\"],[0.6666666666666666,\"#ed7953\"],[0.7777777777777778,\"#fb9f3a\"],[0.8888888888888888,\"#fdca26\"],[1.0,\"#f0f921\"]]}],\"choropleth\":[{\"type\":\"choropleth\",\"colorbar\":{\"outlinewidth\":0,\"ticks\":\"\"}}],\"histogram2d\":[{\"type\":\"histogram2d\",\"colorbar\":{\"outlinewidth\":0,\"ticks\":\"\"},\"colorscale\":[[0.0,\"#0d0887\"],[0.1111111111111111,\"#46039f\"],[0.2222222222222222,\"#7201a8\"],[0.3333333333333333,\"#9c179e\"],[0.4444444444444444,\"#bd3786\"],[0.5555555555555556,\"#d8576b\"],[0.6666666666666666,\"#ed7953\"],[0.7777777777777778,\"#fb9f3a\"],[0.8888888888888888,\"#fdca26\"],[1.0,\"#f0f921\"]]}],\"heatmap\":[{\"type\":\"heatmap\",\"colorbar\":{\"outlinewidth\":0,\"ticks\":\"\"},\"colorscale\":[[0.0,\"#0d0887\"],[0.1111111111111111,\"#46039f\"],[0.2222222222222222,\"#7201a8\"],[0.3333333333333333,\"#9c179e\"],[0.4444444444444444,\"#bd3786\"],[0.5555555555555556,\"#d8576b\"],[0.6666666666666666,\"#ed7953\"],[0.7777777777777778,\"#fb9f3a\"],[0.8888888888888888,\"#fdca26\"],[1.0,\"#f0f921\"]]}],\"contourcarpet\":[{\"type\":\"contourcarpet\",\"colorbar\":{\"outlinewidth\":0,\"ticks\":\"\"}}],\"contour\":[{\"type\":\"contour\",\"colorbar\":{\"outlinewidth\":0,\"ticks\":\"\"},\"colorscale\":[[0.0,\"#0d0887\"],[0.1111111111111111,\"#46039f\"],[0.2222222222222222,\"#7201a8\"],[0.3333333333333333,\"#9c179e\"],[0.4444444444444444,\"#bd3786\"],[0.5555555555555556,\"#d8576b\"],[0.6666666666666666,\"#ed7953\"],[0.7777777777777778,\"#fb9f3a\"],[0.8888888888888888,\"#fdca26\"],[1.0,\"#f0f921\"]]}],\"surface\":[{\"type\":\"surface\",\"colorbar\":{\"outlinewidth\":0,\"ticks\":\"\"},\"colorscale\":[[0.0,\"#0d0887\"],[0.1111111111111111,\"#46039f\"],[0.2222222222222222,\"#7201a8\"],[0.3333333333333333,\"#9c179e\"],[0.4444444444444444,\"#bd3786\"],[0.5555555555555556,\"#d8576b\"],[0.6666666666666666,\"#ed7953\"],[0.7777777777777778,\"#fb9f3a\"],[0.8888888888888888,\"#fdca26\"],[1.0,\"#f0f921\"]]}],\"mesh3d\":[{\"type\":\"mesh3d\",\"colorbar\":{\"outlinewidth\":0,\"ticks\":\"\"}}],\"scatter\":[{\"fillpattern\":{\"fillmode\":\"overlay\",\"size\":10,\"solidity\":0.2},\"type\":\"scatter\"}],\"parcoords\":[{\"type\":\"parcoords\",\"line\":{\"colorbar\":{\"outlinewidth\":0,\"ticks\":\"\"}}}],\"scatterpolargl\":[{\"type\":\"scatterpolargl\",\"marker\":{\"colorbar\":{\"outlinewidth\":0,\"ticks\":\"\"}}}],\"bar\":[{\"error_x\":{\"color\":\"#2a3f5f\"},\"error_y\":{\"color\":\"#2a3f5f\"},\"marker\":{\"line\":{\"color\":\"#E5ECF6\",\"width\":0.5},\"pattern\":{\"fillmode\":\"overlay\",\"size\":10,\"solidity\":0.2}},\"type\":\"bar\"}],\"scattergeo\":[{\"type\":\"scattergeo\",\"marker\":{\"colorbar\":{\"outlinewidth\":0,\"ticks\":\"\"}}}],\"scatterpolar\":[{\"type\":\"scatterpolar\",\"marker\":{\"colorbar\":{\"outlinewidth\":0,\"ticks\":\"\"}}}],\"histogram\":[{\"marker\":{\"pattern\":{\"fillmode\":\"overlay\",\"size\":10,\"solidity\":0.2}},\"type\":\"histogram\"}],\"scattergl\":[{\"type\":\"scattergl\",\"marker\":{\"colorbar\":{\"outlinewidth\":0,\"ticks\":\"\"}}}],\"scatter3d\":[{\"type\":\"scatter3d\",\"line\":{\"colorbar\":{\"outlinewidth\":0,\"ticks\":\"\"}},\"marker\":{\"colorbar\":{\"outlinewidth\":0,\"ticks\":\"\"}}}],\"scattermap\":[{\"type\":\"scattermap\",\"marker\":{\"colorbar\":{\"outlinewidth\":0,\"ticks\":\"\"}}}],\"scattermapbox\":[{\"type\":\"scattermapbox\",\"marker\":{\"colorbar\":{\"outlinewidth\":0,\"ticks\":\"\"}}}],\"scatterternary\":[{\"type\":\"scatterternary\",\"marker\":{\"colorbar\":{\"outlinewidth\":0,\"ticks\":\"\"}}}],\"scattercarpet\":[{\"type\":\"scattercarpet\",\"marker\":{\"colorbar\":{\"outlinewidth\":0,\"ticks\":\"\"}}}],\"carpet\":[{\"aaxis\":{\"endlinecolor\":\"#2a3f5f\",\"gridcolor\":\"white\",\"linecolor\":\"white\",\"minorgridcolor\":\"white\",\"startlinecolor\":\"#2a3f5f\"},\"baxis\":{\"endlinecolor\":\"#2a3f5f\",\"gridcolor\":\"white\",\"linecolor\":\"white\",\"minorgridcolor\":\"white\",\"startlinecolor\":\"#2a3f5f\"},\"type\":\"carpet\"}],\"table\":[{\"cells\":{\"fill\":{\"color\":\"#EBF0F8\"},\"line\":{\"color\":\"white\"}},\"header\":{\"fill\":{\"color\":\"#C8D4E3\"},\"line\":{\"color\":\"white\"}},\"type\":\"table\"}],\"barpolar\":[{\"marker\":{\"line\":{\"color\":\"#E5ECF6\",\"width\":0.5},\"pattern\":{\"fillmode\":\"overlay\",\"size\":10,\"solidity\":0.2}},\"type\":\"barpolar\"}],\"pie\":[{\"automargin\":true,\"type\":\"pie\"}]},\"layout\":{\"autotypenumbers\":\"strict\",\"colorway\":[\"#636efa\",\"#EF553B\",\"#00cc96\",\"#ab63fa\",\"#FFA15A\",\"#19d3f3\",\"#FF6692\",\"#B6E880\",\"#FF97FF\",\"#FECB52\"],\"font\":{\"color\":\"#2a3f5f\"},\"hovermode\":\"closest\",\"hoverlabel\":{\"align\":\"left\"},\"paper_bgcolor\":\"white\",\"plot_bgcolor\":\"#E5ECF6\",\"polar\":{\"bgcolor\":\"#E5ECF6\",\"angularaxis\":{\"gridcolor\":\"white\",\"linecolor\":\"white\",\"ticks\":\"\"},\"radialaxis\":{\"gridcolor\":\"white\",\"linecolor\":\"white\",\"ticks\":\"\"}},\"ternary\":{\"bgcolor\":\"#E5ECF6\",\"aaxis\":{\"gridcolor\":\"white\",\"linecolor\":\"white\",\"ticks\":\"\"},\"baxis\":{\"gridcolor\":\"white\",\"linecolor\":\"white\",\"ticks\":\"\"},\"caxis\":{\"gridcolor\":\"white\",\"linecolor\":\"white\",\"ticks\":\"\"}},\"coloraxis\":{\"colorbar\":{\"outlinewidth\":0,\"ticks\":\"\"}},\"colorscale\":{\"sequential\":[[0.0,\"#0d0887\"],[0.1111111111111111,\"#46039f\"],[0.2222222222222222,\"#7201a8\"],[0.3333333333333333,\"#9c179e\"],[0.4444444444444444,\"#bd3786\"],[0.5555555555555556,\"#d8576b\"],[0.6666666666666666,\"#ed7953\"],[0.7777777777777778,\"#fb9f3a\"],[0.8888888888888888,\"#fdca26\"],[1.0,\"#f0f921\"]],\"sequentialminus\":[[0.0,\"#0d0887\"],[0.1111111111111111,\"#46039f\"],[0.2222222222222222,\"#7201a8\"],[0.3333333333333333,\"#9c179e\"],[0.4444444444444444,\"#bd3786\"],[0.5555555555555556,\"#d8576b\"],[0.6666666666666666,\"#ed7953\"],[0.7777777777777778,\"#fb9f3a\"],[0.8888888888888888,\"#fdca26\"],[1.0,\"#f0f921\"]],\"diverging\":[[0,\"#8e0152\"],[0.1,\"#c51b7d\"],[0.2,\"#de77ae\"],[0.3,\"#f1b6da\"],[0.4,\"#fde0ef\"],[0.5,\"#f7f7f7\"],[0.6,\"#e6f5d0\"],[0.7,\"#b8e186\"],[0.8,\"#7fbc41\"],[0.9,\"#4d9221\"],[1,\"#276419\"]]},\"xaxis\":{\"gridcolor\":\"white\",\"linecolor\":\"white\",\"ticks\":\"\",\"title\":{\"standoff\":15},\"zerolinecolor\":\"white\",\"automargin\":true,\"zerolinewidth\":2},\"yaxis\":{\"gridcolor\":\"white\",\"linecolor\":\"white\",\"ticks\":\"\",\"title\":{\"standoff\":15},\"zerolinecolor\":\"white\",\"automargin\":true,\"zerolinewidth\":2},\"scene\":{\"xaxis\":{\"backgroundcolor\":\"#E5ECF6\",\"gridcolor\":\"white\",\"linecolor\":\"white\",\"showbackground\":true,\"ticks\":\"\",\"zerolinecolor\":\"white\",\"gridwidth\":2},\"yaxis\":{\"backgroundcolor\":\"#E5ECF6\",\"gridcolor\":\"white\",\"linecolor\":\"white\",\"showbackground\":true,\"ticks\":\"\",\"zerolinecolor\":\"white\",\"gridwidth\":2},\"zaxis\":{\"backgroundcolor\":\"#E5ECF6\",\"gridcolor\":\"white\",\"linecolor\":\"white\",\"showbackground\":true,\"ticks\":\"\",\"zerolinecolor\":\"white\",\"gridwidth\":2}},\"shapedefaults\":{\"line\":{\"color\":\"#2a3f5f\"}},\"annotationdefaults\":{\"arrowcolor\":\"#2a3f5f\",\"arrowhead\":0,\"arrowwidth\":1},\"geo\":{\"bgcolor\":\"white\",\"landcolor\":\"#E5ECF6\",\"subunitcolor\":\"white\",\"showland\":true,\"showlakes\":true,\"lakecolor\":\"white\"},\"title\":{\"x\":0.05},\"mapbox\":{\"style\":\"light\"}}},\"xaxis\":{\"anchor\":\"y\",\"domain\":[0.0,1.0],\"title\":{\"text\":\"SEXO\"},\"categoryorder\":\"array\",\"categoryarray\":[\"Masculino\",\"Femenino\"]},\"yaxis\":{\"anchor\":\"x\",\"domain\":[0.0,1.0],\"title\":{\"text\":\"count\"}},\"legend\":{\"title\":{\"text\":\"SEXO\"},\"tracegroupgap\":0},\"title\":{\"text\":\"Distribuci\\u00f3n de Sexo en Historias Cl\\u00ednicas\"},\"barmode\":\"relative\"},                        {\"responsive\": true}                    )                };            </script>        </div>"
      ],
      "text/plain": [
       "Figure({\n",
       "    'data': [{'bingroup': 'x',\n",
       "              'hovertemplate': 'SEXO=%{x}<br>count=%{y}<extra></extra>',\n",
       "              'legendgroup': 'Masculino',\n",
       "              'marker': {'color': '#636efa', 'pattern': {'shape': ''}},\n",
       "              'name': 'Masculino',\n",
       "              'orientation': 'v',\n",
       "              'showlegend': True,\n",
       "              'texttemplate': '%{value}',\n",
       "              'type': 'histogram',\n",
       "              'x': array(['Masculino', 'Masculino', 'Masculino', ..., 'Masculino', 'Masculino',\n",
       "                          'Masculino'], shape=(946,), dtype=object),\n",
       "              'xaxis': 'x',\n",
       "              'yaxis': 'y'},\n",
       "             {'bingroup': 'x',\n",
       "              'hovertemplate': 'SEXO=%{x}<br>count=%{y}<extra></extra>',\n",
       "              'legendgroup': 'Femenino',\n",
       "              'marker': {'color': '#EF553B', 'pattern': {'shape': ''}},\n",
       "              'name': 'Femenino',\n",
       "              'orientation': 'v',\n",
       "              'showlegend': True,\n",
       "              'texttemplate': '%{value}',\n",
       "              'type': 'histogram',\n",
       "              'x': array(['Femenino', 'Femenino', 'Femenino', ..., 'Femenino', 'Femenino',\n",
       "                          'Femenino'], shape=(2054,), dtype=object),\n",
       "              'xaxis': 'x',\n",
       "              'yaxis': 'y'}],\n",
       "    'layout': {'barmode': 'relative',\n",
       "               'legend': {'title': {'text': 'SEXO'}, 'tracegroupgap': 0},\n",
       "               'template': '...',\n",
       "               'title': {'text': 'Distribución de Sexo en Historias Clínicas'},\n",
       "               'xaxis': {'anchor': 'y',\n",
       "                         'categoryarray': [Masculino, Femenino],\n",
       "                         'categoryorder': 'array',\n",
       "                         'domain': [0.0, 1.0],\n",
       "                         'title': {'text': 'SEXO'}},\n",
       "               'yaxis': {'anchor': 'x', 'domain': [0.0, 1.0], 'title': {'text': 'count'}}}\n",
       "})"
      ]
     },
     "execution_count": 14,
     "metadata": {},
     "output_type": "execute_result"
    }
   ],
   "source": [
    "#Ditribución de hc por sexo\n",
    "historias_clinicas[\"SEXO\"].value_counts()\n",
    "px.histogram(historias_clinicas, \n",
    "             x=\"SEXO\", \n",
    "             title=\"Distribución de Sexo en Historias Clínicas\", \n",
    "             color=\"SEXO\",\n",
    "             text_auto=True)\n"
   ]
  },
  {
   "cell_type": "code",
   "execution_count": 15,
   "id": "67dd6dd2",
   "metadata": {},
   "outputs": [
    {
     "ename": "ValueError",
     "evalue": "Mime type rendering requires nbformat>=4.2.0 but it is not installed",
     "output_type": "error",
     "traceback": [
      "\u001b[31m---------------------------------------------------------------------------\u001b[39m",
      "\u001b[31mValueError\u001b[39m                                Traceback (most recent call last)",
      "\u001b[36mFile \u001b[39m\u001b[32mc:\\Users\\ISAIAS_QUINTERO\\Desktop\\Universiad\\MLOps\\Proyecto_Final\\.venv\\Lib\\site-packages\\IPython\\core\\formatters.py:984\u001b[39m, in \u001b[36mIPythonDisplayFormatter.__call__\u001b[39m\u001b[34m(self, obj)\u001b[39m\n\u001b[32m    982\u001b[39m method = get_real_method(obj, \u001b[38;5;28mself\u001b[39m.print_method)\n\u001b[32m    983\u001b[39m \u001b[38;5;28;01mif\u001b[39;00m method \u001b[38;5;129;01mis\u001b[39;00m \u001b[38;5;129;01mnot\u001b[39;00m \u001b[38;5;28;01mNone\u001b[39;00m:\n\u001b[32m--> \u001b[39m\u001b[32m984\u001b[39m     \u001b[43mmethod\u001b[49m\u001b[43m(\u001b[49m\u001b[43m)\u001b[49m\n\u001b[32m    985\u001b[39m     \u001b[38;5;28;01mreturn\u001b[39;00m \u001b[38;5;28;01mTrue\u001b[39;00m\n",
      "\u001b[36mFile \u001b[39m\u001b[32mc:\\Users\\ISAIAS_QUINTERO\\Desktop\\Universiad\\MLOps\\Proyecto_Final\\.venv\\Lib\\site-packages\\plotly\\basedatatypes.py:850\u001b[39m, in \u001b[36mBaseFigure._ipython_display_\u001b[39m\u001b[34m(self)\u001b[39m\n\u001b[32m    847\u001b[39m \u001b[38;5;28;01mimport\u001b[39;00m\u001b[38;5;250m \u001b[39m\u001b[34;01mplotly\u001b[39;00m\u001b[34;01m.\u001b[39;00m\u001b[34;01mio\u001b[39;00m\u001b[38;5;250m \u001b[39m\u001b[38;5;28;01mas\u001b[39;00m\u001b[38;5;250m \u001b[39m\u001b[34;01mpio\u001b[39;00m\n\u001b[32m    849\u001b[39m \u001b[38;5;28;01mif\u001b[39;00m pio.renderers.render_on_display \u001b[38;5;129;01mand\u001b[39;00m pio.renderers.default:\n\u001b[32m--> \u001b[39m\u001b[32m850\u001b[39m     \u001b[43mpio\u001b[49m\u001b[43m.\u001b[49m\u001b[43mshow\u001b[49m\u001b[43m(\u001b[49m\u001b[38;5;28;43mself\u001b[39;49m\u001b[43m)\u001b[49m\n\u001b[32m    851\u001b[39m \u001b[38;5;28;01melse\u001b[39;00m:\n\u001b[32m    852\u001b[39m     \u001b[38;5;28mprint\u001b[39m(\u001b[38;5;28mrepr\u001b[39m(\u001b[38;5;28mself\u001b[39m))\n",
      "\u001b[36mFile \u001b[39m\u001b[32mc:\\Users\\ISAIAS_QUINTERO\\Desktop\\Universiad\\MLOps\\Proyecto_Final\\.venv\\Lib\\site-packages\\plotly\\io\\_renderers.py:415\u001b[39m, in \u001b[36mshow\u001b[39m\u001b[34m(fig, renderer, validate, **kwargs)\u001b[39m\n\u001b[32m    410\u001b[39m     \u001b[38;5;28;01mraise\u001b[39;00m \u001b[38;5;167;01mValueError\u001b[39;00m(\n\u001b[32m    411\u001b[39m         \u001b[33m\"\u001b[39m\u001b[33mMime type rendering requires ipython but it is not installed\u001b[39m\u001b[33m\"\u001b[39m\n\u001b[32m    412\u001b[39m     )\n\u001b[32m    414\u001b[39m \u001b[38;5;28;01mif\u001b[39;00m \u001b[38;5;129;01mnot\u001b[39;00m nbformat \u001b[38;5;129;01mor\u001b[39;00m Version(nbformat.__version__) < Version(\u001b[33m\"\u001b[39m\u001b[33m4.2.0\u001b[39m\u001b[33m\"\u001b[39m):\n\u001b[32m--> \u001b[39m\u001b[32m415\u001b[39m     \u001b[38;5;28;01mraise\u001b[39;00m \u001b[38;5;167;01mValueError\u001b[39;00m(\n\u001b[32m    416\u001b[39m         \u001b[33m\"\u001b[39m\u001b[33mMime type rendering requires nbformat>=4.2.0 but it is not installed\u001b[39m\u001b[33m\"\u001b[39m\n\u001b[32m    417\u001b[39m     )\n\u001b[32m    419\u001b[39m display_jupyter_version_warnings()\n\u001b[32m    421\u001b[39m ipython_display.display(bundle, raw=\u001b[38;5;28;01mTrue\u001b[39;00m)\n",
      "\u001b[31mValueError\u001b[39m: Mime type rendering requires nbformat>=4.2.0 but it is not installed"
     ]
    },
    {
     "data": {
      "application/vnd.plotly.v1+json": {
       "config": {
        "plotlyServerURL": "https://plot.ly"
       },
       "data": [
        {
         "bingroup": "x",
         "hovertemplate": "EDAD=%{x}<br>count=%{y}<extra></extra>",
         "legendgroup": "",
         "marker": {
          "color": "#636efa",
          "pattern": {
           "shape": ""
          }
         },
         "name": "",
         "orientation": "v",
         "showlegend": false,
         "texttemplate": "%{value}",
         "type": "histogram",
         "x": {
          "bdata": "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",
          "dtype": "i1"
         },
         "xaxis": "x",
         "yaxis": "y"
        }
       ],
       "layout": {
        "barmode": "relative",
        "legend": {
         "tracegroupgap": 0
        },
        "template": {
         "data": {
          "bar": [
           {
            "error_x": {
             "color": "#2a3f5f"
            },
            "error_y": {
             "color": "#2a3f5f"
            },
            "marker": {
             "line": {
              "color": "#E5ECF6",
              "width": 0.5
             },
             "pattern": {
              "fillmode": "overlay",
              "size": 10,
              "solidity": 0.2
             }
            },
            "type": "bar"
           }
          ],
          "barpolar": [
           {
            "marker": {
             "line": {
              "color": "#E5ECF6",
              "width": 0.5
             },
             "pattern": {
              "fillmode": "overlay",
              "size": 10,
              "solidity": 0.2
             }
            },
            "type": "barpolar"
           }
          ],
          "carpet": [
           {
            "aaxis": {
             "endlinecolor": "#2a3f5f",
             "gridcolor": "white",
             "linecolor": "white",
             "minorgridcolor": "white",
             "startlinecolor": "#2a3f5f"
            },
            "baxis": {
             "endlinecolor": "#2a3f5f",
             "gridcolor": "white",
             "linecolor": "white",
             "minorgridcolor": "white",
             "startlinecolor": "#2a3f5f"
            },
            "type": "carpet"
           }
          ],
          "choropleth": [
           {
            "colorbar": {
             "outlinewidth": 0,
             "ticks": ""
            },
            "type": "choropleth"
           }
          ],
          "contour": [
           {
            "colorbar": {
             "outlinewidth": 0,
             "ticks": ""
            },
            "colorscale": [
             [
              0,
              "#0d0887"
             ],
             [
              0.1111111111111111,
              "#46039f"
             ],
             [
              0.2222222222222222,
              "#7201a8"
             ],
             [
              0.3333333333333333,
              "#9c179e"
             ],
             [
              0.4444444444444444,
              "#bd3786"
             ],
             [
              0.5555555555555556,
              "#d8576b"
             ],
             [
              0.6666666666666666,
              "#ed7953"
             ],
             [
              0.7777777777777778,
              "#fb9f3a"
             ],
             [
              0.8888888888888888,
              "#fdca26"
             ],
             [
              1,
              "#f0f921"
             ]
            ],
            "type": "contour"
           }
          ],
          "contourcarpet": [
           {
            "colorbar": {
             "outlinewidth": 0,
             "ticks": ""
            },
            "type": "contourcarpet"
           }
          ],
          "heatmap": [
           {
            "colorbar": {
             "outlinewidth": 0,
             "ticks": ""
            },
            "colorscale": [
             [
              0,
              "#0d0887"
             ],
             [
              0.1111111111111111,
              "#46039f"
             ],
             [
              0.2222222222222222,
              "#7201a8"
             ],
             [
              0.3333333333333333,
              "#9c179e"
             ],
             [
              0.4444444444444444,
              "#bd3786"
             ],
             [
              0.5555555555555556,
              "#d8576b"
             ],
             [
              0.6666666666666666,
              "#ed7953"
             ],
             [
              0.7777777777777778,
              "#fb9f3a"
             ],
             [
              0.8888888888888888,
              "#fdca26"
             ],
             [
              1,
              "#f0f921"
             ]
            ],
            "type": "heatmap"
           }
          ],
          "histogram": [
           {
            "marker": {
             "pattern": {
              "fillmode": "overlay",
              "size": 10,
              "solidity": 0.2
             }
            },
            "type": "histogram"
           }
          ],
          "histogram2d": [
           {
            "colorbar": {
             "outlinewidth": 0,
             "ticks": ""
            },
            "colorscale": [
             [
              0,
              "#0d0887"
             ],
             [
              0.1111111111111111,
              "#46039f"
             ],
             [
              0.2222222222222222,
              "#7201a8"
             ],
             [
              0.3333333333333333,
              "#9c179e"
             ],
             [
              0.4444444444444444,
              "#bd3786"
             ],
             [
              0.5555555555555556,
              "#d8576b"
             ],
             [
              0.6666666666666666,
              "#ed7953"
             ],
             [
              0.7777777777777778,
              "#fb9f3a"
             ],
             [
              0.8888888888888888,
              "#fdca26"
             ],
             [
              1,
              "#f0f921"
             ]
            ],
            "type": "histogram2d"
           }
          ],
          "histogram2dcontour": [
           {
            "colorbar": {
             "outlinewidth": 0,
             "ticks": ""
            },
            "colorscale": [
             [
              0,
              "#0d0887"
             ],
             [
              0.1111111111111111,
              "#46039f"
             ],
             [
              0.2222222222222222,
              "#7201a8"
             ],
             [
              0.3333333333333333,
              "#9c179e"
             ],
             [
              0.4444444444444444,
              "#bd3786"
             ],
             [
              0.5555555555555556,
              "#d8576b"
             ],
             [
              0.6666666666666666,
              "#ed7953"
             ],
             [
              0.7777777777777778,
              "#fb9f3a"
             ],
             [
              0.8888888888888888,
              "#fdca26"
             ],
             [
              1,
              "#f0f921"
             ]
            ],
            "type": "histogram2dcontour"
           }
          ],
          "mesh3d": [
           {
            "colorbar": {
             "outlinewidth": 0,
             "ticks": ""
            },
            "type": "mesh3d"
           }
          ],
          "parcoords": [
           {
            "line": {
             "colorbar": {
              "outlinewidth": 0,
              "ticks": ""
             }
            },
            "type": "parcoords"
           }
          ],
          "pie": [
           {
            "automargin": true,
            "type": "pie"
           }
          ],
          "scatter": [
           {
            "fillpattern": {
             "fillmode": "overlay",
             "size": 10,
             "solidity": 0.2
            },
            "type": "scatter"
           }
          ],
          "scatter3d": [
           {
            "line": {
             "colorbar": {
              "outlinewidth": 0,
              "ticks": ""
             }
            },
            "marker": {
             "colorbar": {
              "outlinewidth": 0,
              "ticks": ""
             }
            },
            "type": "scatter3d"
           }
          ],
          "scattercarpet": [
           {
            "marker": {
             "colorbar": {
              "outlinewidth": 0,
              "ticks": ""
             }
            },
            "type": "scattercarpet"
           }
          ],
          "scattergeo": [
           {
            "marker": {
             "colorbar": {
              "outlinewidth": 0,
              "ticks": ""
             }
            },
            "type": "scattergeo"
           }
          ],
          "scattergl": [
           {
            "marker": {
             "colorbar": {
              "outlinewidth": 0,
              "ticks": ""
             }
            },
            "type": "scattergl"
           }
          ],
          "scattermap": [
           {
            "marker": {
             "colorbar": {
              "outlinewidth": 0,
              "ticks": ""
             }
            },
            "type": "scattermap"
           }
          ],
          "scattermapbox": [
           {
            "marker": {
             "colorbar": {
              "outlinewidth": 0,
              "ticks": ""
             }
            },
            "type": "scattermapbox"
           }
          ],
          "scatterpolar": [
           {
            "marker": {
             "colorbar": {
              "outlinewidth": 0,
              "ticks": ""
             }
            },
            "type": "scatterpolar"
           }
          ],
          "scatterpolargl": [
           {
            "marker": {
             "colorbar": {
              "outlinewidth": 0,
              "ticks": ""
             }
            },
            "type": "scatterpolargl"
           }
          ],
          "scatterternary": [
           {
            "marker": {
             "colorbar": {
              "outlinewidth": 0,
              "ticks": ""
             }
            },
            "type": "scatterternary"
           }
          ],
          "surface": [
           {
            "colorbar": {
             "outlinewidth": 0,
             "ticks": ""
            },
            "colorscale": [
             [
              0,
              "#0d0887"
             ],
             [
              0.1111111111111111,
              "#46039f"
             ],
             [
              0.2222222222222222,
              "#7201a8"
             ],
             [
              0.3333333333333333,
              "#9c179e"
             ],
             [
              0.4444444444444444,
              "#bd3786"
             ],
             [
              0.5555555555555556,
              "#d8576b"
             ],
             [
              0.6666666666666666,
              "#ed7953"
             ],
             [
              0.7777777777777778,
              "#fb9f3a"
             ],
             [
              0.8888888888888888,
              "#fdca26"
             ],
             [
              1,
              "#f0f921"
             ]
            ],
            "type": "surface"
           }
          ],
          "table": [
           {
            "cells": {
             "fill": {
              "color": "#EBF0F8"
             },
             "line": {
              "color": "white"
             }
            },
            "header": {
             "fill": {
              "color": "#C8D4E3"
             },
             "line": {
              "color": "white"
             }
            },
            "type": "table"
           }
          ]
         },
         "layout": {
          "annotationdefaults": {
           "arrowcolor": "#2a3f5f",
           "arrowhead": 0,
           "arrowwidth": 1
          },
          "autotypenumbers": "strict",
          "coloraxis": {
           "colorbar": {
            "outlinewidth": 0,
            "ticks": ""
           }
          },
          "colorscale": {
           "diverging": [
            [
             0,
             "#8e0152"
            ],
            [
             0.1,
             "#c51b7d"
            ],
            [
             0.2,
             "#de77ae"
            ],
            [
             0.3,
             "#f1b6da"
            ],
            [
             0.4,
             "#fde0ef"
            ],
            [
             0.5,
             "#f7f7f7"
            ],
            [
             0.6,
             "#e6f5d0"
            ],
            [
             0.7,
             "#b8e186"
            ],
            [
             0.8,
             "#7fbc41"
            ],
            [
             0.9,
             "#4d9221"
            ],
            [
             1,
             "#276419"
            ]
           ],
           "sequential": [
            [
             0,
             "#0d0887"
            ],
            [
             0.1111111111111111,
             "#46039f"
            ],
            [
             0.2222222222222222,
             "#7201a8"
            ],
            [
             0.3333333333333333,
             "#9c179e"
            ],
            [
             0.4444444444444444,
             "#bd3786"
            ],
            [
             0.5555555555555556,
             "#d8576b"
            ],
            [
             0.6666666666666666,
             "#ed7953"
            ],
            [
             0.7777777777777778,
             "#fb9f3a"
            ],
            [
             0.8888888888888888,
             "#fdca26"
            ],
            [
             1,
             "#f0f921"
            ]
           ],
           "sequentialminus": [
            [
             0,
             "#0d0887"
            ],
            [
             0.1111111111111111,
             "#46039f"
            ],
            [
             0.2222222222222222,
             "#7201a8"
            ],
            [
             0.3333333333333333,
             "#9c179e"
            ],
            [
             0.4444444444444444,
             "#bd3786"
            ],
            [
             0.5555555555555556,
             "#d8576b"
            ],
            [
             0.6666666666666666,
             "#ed7953"
            ],
            [
             0.7777777777777778,
             "#fb9f3a"
            ],
            [
             0.8888888888888888,
             "#fdca26"
            ],
            [
             1,
             "#f0f921"
            ]
           ]
          },
          "colorway": [
           "#636efa",
           "#EF553B",
           "#00cc96",
           "#ab63fa",
           "#FFA15A",
           "#19d3f3",
           "#FF6692",
           "#B6E880",
           "#FF97FF",
           "#FECB52"
          ],
          "font": {
           "color": "#2a3f5f"
          },
          "geo": {
           "bgcolor": "white",
           "lakecolor": "white",
           "landcolor": "#E5ECF6",
           "showlakes": true,
           "showland": true,
           "subunitcolor": "white"
          },
          "hoverlabel": {
           "align": "left"
          },
          "hovermode": "closest",
          "mapbox": {
           "style": "light"
          },
          "paper_bgcolor": "white",
          "plot_bgcolor": "#E5ECF6",
          "polar": {
           "angularaxis": {
            "gridcolor": "white",
            "linecolor": "white",
            "ticks": ""
           },
           "bgcolor": "#E5ECF6",
           "radialaxis": {
            "gridcolor": "white",
            "linecolor": "white",
            "ticks": ""
           }
          },
          "scene": {
           "xaxis": {
            "backgroundcolor": "#E5ECF6",
            "gridcolor": "white",
            "gridwidth": 2,
            "linecolor": "white",
            "showbackground": true,
            "ticks": "",
            "zerolinecolor": "white"
           },
           "yaxis": {
            "backgroundcolor": "#E5ECF6",
            "gridcolor": "white",
            "gridwidth": 2,
            "linecolor": "white",
            "showbackground": true,
            "ticks": "",
            "zerolinecolor": "white"
           },
           "zaxis": {
            "backgroundcolor": "#E5ECF6",
            "gridcolor": "white",
            "gridwidth": 2,
            "linecolor": "white",
            "showbackground": true,
            "ticks": "",
            "zerolinecolor": "white"
           }
          },
          "shapedefaults": {
           "line": {
            "color": "#2a3f5f"
           }
          },
          "ternary": {
           "aaxis": {
            "gridcolor": "white",
            "linecolor": "white",
            "ticks": ""
           },
           "baxis": {
            "gridcolor": "white",
            "linecolor": "white",
            "ticks": ""
           },
           "bgcolor": "#E5ECF6",
           "caxis": {
            "gridcolor": "white",
            "linecolor": "white",
            "ticks": ""
           }
          },
          "title": {
           "x": 0.05
          },
          "xaxis": {
           "automargin": true,
           "gridcolor": "white",
           "linecolor": "white",
           "ticks": "",
           "title": {
            "standoff": 15
           },
           "zerolinecolor": "white",
           "zerolinewidth": 2
          },
          "yaxis": {
           "automargin": true,
           "gridcolor": "white",
           "linecolor": "white",
           "ticks": "",
           "title": {
            "standoff": 15
           },
           "zerolinecolor": "white",
           "zerolinewidth": 2
          }
         }
        },
        "title": {
         "text": "Distribución de Edad en Historias Clínicas"
        },
        "xaxis": {
         "anchor": "y",
         "domain": [
          0,
          1
         ],
         "title": {
          "text": "EDAD"
         }
        },
        "yaxis": {
         "anchor": "x",
         "domain": [
          0,
          1
         ],
         "title": {
          "text": "count"
         }
        }
       }
      },
      "text/html": [
       "<div>                        <script type=\"text/javascript\">window.PlotlyConfig = {MathJaxConfig: 'local'};</script>\n",
       "        <script charset=\"utf-8\" src=\"https://cdn.plot.ly/plotly-3.1.0.min.js\" integrity=\"sha256-Ei4740bWZhaUTQuD6q9yQlgVCMPBz6CZWhevDYPv93A=\" crossorigin=\"anonymous\"></script>                <div id=\"d48b579f-bacd-4cff-9cf5-42ed347b3cbd\" class=\"plotly-graph-div\" style=\"height:100%; width:100%;\"></div>            <script type=\"text/javascript\">                window.PLOTLYENV=window.PLOTLYENV || {};                                if (document.getElementById(\"d48b579f-bacd-4cff-9cf5-42ed347b3cbd\")) {                    Plotly.newPlot(                        \"d48b579f-bacd-4cff-9cf5-42ed347b3cbd\",                        [{\"bingroup\":\"x\",\"hovertemplate\":\"EDAD=%{x}\\u003cbr\\u003ecount=%{y}\\u003cextra\\u003e\\u003c\\u002fextra\\u003e\",\"legendgroup\":\"\",\"marker\":{\"color\":\"#636efa\",\"pattern\":{\"shape\":\"\"}},\"name\":\"\",\"orientation\":\"v\",\"showlegend\":false,\"texttemplate\":\"%{value}\",\"x\":{\"dtype\":\"i1\",\"bdata\":\"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\\u002fODYjKxVTLlAaSFgkGz8\\u002fUyU0NhQjSEUaLVARITQ0MCgbRTYSND80ND8WETUjNjIkHCs0IlMJFTUmLh02JT8jOC4wGDg0NAkRIjgkUBoULlM5JiYlHC42NDgdKCEWHRIJGB04PzkUERlTUCgcFkUuThIoJB00My4mCSE5IiM\\u002fGRYVLkUcKB40HTMuNFAoFBgmGTYRFiNTFy4ZCQozIyAfIx4dCxcRJCMZIRw4NEUKEiMwGxkUNhMgLFgLFCMaKxZHHh4ITCsoLDAXLCA0CiQjORtFFlMZGjZFUBcYGQs1HlgeCT9CLBcwLg8VOC5FIxEIFighHhImCwocGRY6ERsWNFMiNRggOT8URSMkLitMLh5YMCgJGRUgKzEmDztQLEUXCxsrECAWIDk5Rx5FCSsbCi4rFCILNS4uKkIOGhImLz03IiQ\\u002fJB4RFDQUGx4zOxdQFDoUFxw5RCE5EBccHTogER0MEBoxHBsRLzktDj4QExE7ECktDSgPEQ8IShE8MxYOKCM6L0cTGRIRPRESDzILNw8ZPUQYExsSCB5FDxcJEkEfHyVJQSItJhsSEhNDLR8pDx0RGAU5E0wJDBMJMhsULkISEBAOEhETKBo\\u002fEhQQIg8MMEQoCyUYFzEVG0hQQisSLREROxQoODQdSy8KCU4VEj8RB0APCSInBDkQPUE7OhoQDx8SCAoyEAsoMEkPERATEw8mPj4MDxBWEys8QhsXEh8NDxwKOi0XQQgVNxwTEzA6ES4nJw4lFScRKUwRBBAuGhgMLzwqHS4KFxMaOxwbOA4QKCkrSxEMNB4RSCgXF0AQVAUROhEyGjUNRRNOFRATLCNACAgSMRAdFxFQF0wMDQgoPBIpPykoEg8bOg8UCEA8OyoqERQODBkTMi4XKBFNHz0XHSoFBBU3ExIPP0AkERgiDQwMFhcuFzdFFDMrEh0yBz4TDzkrH0IMGkIWKxIPLxcLFBQcNzoaEBAwTC4uJQoREicOERAVCzIJEE0QEUkTCC4UFxsFGzI6FxcNBTwMQisuKRM4DzcQPR4RDB4QLTQ5CRMTECpAFxUiDBAYGCUaHxMgUEApQRA8CS5HBwUdDA8SWR0MDzA0GClLJDwfGAsQHTMQFCgeKykpCBETESsaKDocFxUSEUQWFjAOEDIYCT8PFxYuExQhEz0NPjJCEBciEAg3CDk+Kw03ODAyCj8nCAs2SA8NDzESLgoNDxMXD0kXEyQoEBEVMg8QEQ4SESkiCA8aGh9OQC8SCBUXET0RDCMOEhASNAoeQioQIzETRUUVDQ1OLC8UCgoXEQUUNyoQHBQQEA8QE0URDRESEC0XLjwFECkJGAUXHjAnOhMfEA4JBA8iOykXPiE2FQsbExcyHjouHiUVEB8dEhETJQ0aExASFhUZKRgGEAUVEwgQBQ8ORw4iEUs8EBw+FiQ7DhISQwcuCgUZCDcuECUrDBBKDDUrEg4HFCcFNi8PGBMYDjIJF0AGChoQPxQXEBMtECcVERsREg0xHkwXKBcd\"},\"xaxis\":\"x\",\"yaxis\":\"y\",\"type\":\"histogram\"}],                        {\"template\":{\"data\":{\"histogram2dcontour\":[{\"type\":\"histogram2dcontour\",\"colorbar\":{\"outlinewidth\":0,\"ticks\":\"\"},\"colorscale\":[[0.0,\"#0d0887\"],[0.1111111111111111,\"#46039f\"],[0.2222222222222222,\"#7201a8\"],[0.3333333333333333,\"#9c179e\"],[0.4444444444444444,\"#bd3786\"],[0.5555555555555556,\"#d8576b\"],[0.6666666666666666,\"#ed7953\"],[0.7777777777777778,\"#fb9f3a\"],[0.8888888888888888,\"#fdca26\"],[1.0,\"#f0f921\"]]}],\"choropleth\":[{\"type\":\"choropleth\",\"colorbar\":{\"outlinewidth\":0,\"ticks\":\"\"}}],\"histogram2d\":[{\"type\":\"histogram2d\",\"colorbar\":{\"outlinewidth\":0,\"ticks\":\"\"},\"colorscale\":[[0.0,\"#0d0887\"],[0.1111111111111111,\"#46039f\"],[0.2222222222222222,\"#7201a8\"],[0.3333333333333333,\"#9c179e\"],[0.4444444444444444,\"#bd3786\"],[0.5555555555555556,\"#d8576b\"],[0.6666666666666666,\"#ed7953\"],[0.7777777777777778,\"#fb9f3a\"],[0.8888888888888888,\"#fdca26\"],[1.0,\"#f0f921\"]]}],\"heatmap\":[{\"type\":\"heatmap\",\"colorbar\":{\"outlinewidth\":0,\"ticks\":\"\"},\"colorscale\":[[0.0,\"#0d0887\"],[0.1111111111111111,\"#46039f\"],[0.2222222222222222,\"#7201a8\"],[0.3333333333333333,\"#9c179e\"],[0.4444444444444444,\"#bd3786\"],[0.5555555555555556,\"#d8576b\"],[0.6666666666666666,\"#ed7953\"],[0.7777777777777778,\"#fb9f3a\"],[0.8888888888888888,\"#fdca26\"],[1.0,\"#f0f921\"]]}],\"contourcarpet\":[{\"type\":\"contourcarpet\",\"colorbar\":{\"outlinewidth\":0,\"ticks\":\"\"}}],\"contour\":[{\"type\":\"contour\",\"colorbar\":{\"outlinewidth\":0,\"ticks\":\"\"},\"colorscale\":[[0.0,\"#0d0887\"],[0.1111111111111111,\"#46039f\"],[0.2222222222222222,\"#7201a8\"],[0.3333333333333333,\"#9c179e\"],[0.4444444444444444,\"#bd3786\"],[0.5555555555555556,\"#d8576b\"],[0.6666666666666666,\"#ed7953\"],[0.7777777777777778,\"#fb9f3a\"],[0.8888888888888888,\"#fdca26\"],[1.0,\"#f0f921\"]]}],\"surface\":[{\"type\":\"surface\",\"colorbar\":{\"outlinewidth\":0,\"ticks\":\"\"},\"colorscale\":[[0.0,\"#0d0887\"],[0.1111111111111111,\"#46039f\"],[0.2222222222222222,\"#7201a8\"],[0.3333333333333333,\"#9c179e\"],[0.4444444444444444,\"#bd3786\"],[0.5555555555555556,\"#d8576b\"],[0.6666666666666666,\"#ed7953\"],[0.7777777777777778,\"#fb9f3a\"],[0.8888888888888888,\"#fdca26\"],[1.0,\"#f0f921\"]]}],\"mesh3d\":[{\"type\":\"mesh3d\",\"colorbar\":{\"outlinewidth\":0,\"ticks\":\"\"}}],\"scatter\":[{\"fillpattern\":{\"fillmode\":\"overlay\",\"size\":10,\"solidity\":0.2},\"type\":\"scatter\"}],\"parcoords\":[{\"type\":\"parcoords\",\"line\":{\"colorbar\":{\"outlinewidth\":0,\"ticks\":\"\"}}}],\"scatterpolargl\":[{\"type\":\"scatterpolargl\",\"marker\":{\"colorbar\":{\"outlinewidth\":0,\"ticks\":\"\"}}}],\"bar\":[{\"error_x\":{\"color\":\"#2a3f5f\"},\"error_y\":{\"color\":\"#2a3f5f\"},\"marker\":{\"line\":{\"color\":\"#E5ECF6\",\"width\":0.5},\"pattern\":{\"fillmode\":\"overlay\",\"size\":10,\"solidity\":0.2}},\"type\":\"bar\"}],\"scattergeo\":[{\"type\":\"scattergeo\",\"marker\":{\"colorbar\":{\"outlinewidth\":0,\"ticks\":\"\"}}}],\"scatterpolar\":[{\"type\":\"scatterpolar\",\"marker\":{\"colorbar\":{\"outlinewidth\":0,\"ticks\":\"\"}}}],\"histogram\":[{\"marker\":{\"pattern\":{\"fillmode\":\"overlay\",\"size\":10,\"solidity\":0.2}},\"type\":\"histogram\"}],\"scattergl\":[{\"type\":\"scattergl\",\"marker\":{\"colorbar\":{\"outlinewidth\":0,\"ticks\":\"\"}}}],\"scatter3d\":[{\"type\":\"scatter3d\",\"line\":{\"colorbar\":{\"outlinewidth\":0,\"ticks\":\"\"}},\"marker\":{\"colorbar\":{\"outlinewidth\":0,\"ticks\":\"\"}}}],\"scattermap\":[{\"type\":\"scattermap\",\"marker\":{\"colorbar\":{\"outlinewidth\":0,\"ticks\":\"\"}}}],\"scattermapbox\":[{\"type\":\"scattermapbox\",\"marker\":{\"colorbar\":{\"outlinewidth\":0,\"ticks\":\"\"}}}],\"scatterternary\":[{\"type\":\"scatterternary\",\"marker\":{\"colorbar\":{\"outlinewidth\":0,\"ticks\":\"\"}}}],\"scattercarpet\":[{\"type\":\"scattercarpet\",\"marker\":{\"colorbar\":{\"outlinewidth\":0,\"ticks\":\"\"}}}],\"carpet\":[{\"aaxis\":{\"endlinecolor\":\"#2a3f5f\",\"gridcolor\":\"white\",\"linecolor\":\"white\",\"minorgridcolor\":\"white\",\"startlinecolor\":\"#2a3f5f\"},\"baxis\":{\"endlinecolor\":\"#2a3f5f\",\"gridcolor\":\"white\",\"linecolor\":\"white\",\"minorgridcolor\":\"white\",\"startlinecolor\":\"#2a3f5f\"},\"type\":\"carpet\"}],\"table\":[{\"cells\":{\"fill\":{\"color\":\"#EBF0F8\"},\"line\":{\"color\":\"white\"}},\"header\":{\"fill\":{\"color\":\"#C8D4E3\"},\"line\":{\"color\":\"white\"}},\"type\":\"table\"}],\"barpolar\":[{\"marker\":{\"line\":{\"color\":\"#E5ECF6\",\"width\":0.5},\"pattern\":{\"fillmode\":\"overlay\",\"size\":10,\"solidity\":0.2}},\"type\":\"barpolar\"}],\"pie\":[{\"automargin\":true,\"type\":\"pie\"}]},\"layout\":{\"autotypenumbers\":\"strict\",\"colorway\":[\"#636efa\",\"#EF553B\",\"#00cc96\",\"#ab63fa\",\"#FFA15A\",\"#19d3f3\",\"#FF6692\",\"#B6E880\",\"#FF97FF\",\"#FECB52\"],\"font\":{\"color\":\"#2a3f5f\"},\"hovermode\":\"closest\",\"hoverlabel\":{\"align\":\"left\"},\"paper_bgcolor\":\"white\",\"plot_bgcolor\":\"#E5ECF6\",\"polar\":{\"bgcolor\":\"#E5ECF6\",\"angularaxis\":{\"gridcolor\":\"white\",\"linecolor\":\"white\",\"ticks\":\"\"},\"radialaxis\":{\"gridcolor\":\"white\",\"linecolor\":\"white\",\"ticks\":\"\"}},\"ternary\":{\"bgcolor\":\"#E5ECF6\",\"aaxis\":{\"gridcolor\":\"white\",\"linecolor\":\"white\",\"ticks\":\"\"},\"baxis\":{\"gridcolor\":\"white\",\"linecolor\":\"white\",\"ticks\":\"\"},\"caxis\":{\"gridcolor\":\"white\",\"linecolor\":\"white\",\"ticks\":\"\"}},\"coloraxis\":{\"colorbar\":{\"outlinewidth\":0,\"ticks\":\"\"}},\"colorscale\":{\"sequential\":[[0.0,\"#0d0887\"],[0.1111111111111111,\"#46039f\"],[0.2222222222222222,\"#7201a8\"],[0.3333333333333333,\"#9c179e\"],[0.4444444444444444,\"#bd3786\"],[0.5555555555555556,\"#d8576b\"],[0.6666666666666666,\"#ed7953\"],[0.7777777777777778,\"#fb9f3a\"],[0.8888888888888888,\"#fdca26\"],[1.0,\"#f0f921\"]],\"sequentialminus\":[[0.0,\"#0d0887\"],[0.1111111111111111,\"#46039f\"],[0.2222222222222222,\"#7201a8\"],[0.3333333333333333,\"#9c179e\"],[0.4444444444444444,\"#bd3786\"],[0.5555555555555556,\"#d8576b\"],[0.6666666666666666,\"#ed7953\"],[0.7777777777777778,\"#fb9f3a\"],[0.8888888888888888,\"#fdca26\"],[1.0,\"#f0f921\"]],\"diverging\":[[0,\"#8e0152\"],[0.1,\"#c51b7d\"],[0.2,\"#de77ae\"],[0.3,\"#f1b6da\"],[0.4,\"#fde0ef\"],[0.5,\"#f7f7f7\"],[0.6,\"#e6f5d0\"],[0.7,\"#b8e186\"],[0.8,\"#7fbc41\"],[0.9,\"#4d9221\"],[1,\"#276419\"]]},\"xaxis\":{\"gridcolor\":\"white\",\"linecolor\":\"white\",\"ticks\":\"\",\"title\":{\"standoff\":15},\"zerolinecolor\":\"white\",\"automargin\":true,\"zerolinewidth\":2},\"yaxis\":{\"gridcolor\":\"white\",\"linecolor\":\"white\",\"ticks\":\"\",\"title\":{\"standoff\":15},\"zerolinecolor\":\"white\",\"automargin\":true,\"zerolinewidth\":2},\"scene\":{\"xaxis\":{\"backgroundcolor\":\"#E5ECF6\",\"gridcolor\":\"white\",\"linecolor\":\"white\",\"showbackground\":true,\"ticks\":\"\",\"zerolinecolor\":\"white\",\"gridwidth\":2},\"yaxis\":{\"backgroundcolor\":\"#E5ECF6\",\"gridcolor\":\"white\",\"linecolor\":\"white\",\"showbackground\":true,\"ticks\":\"\",\"zerolinecolor\":\"white\",\"gridwidth\":2},\"zaxis\":{\"backgroundcolor\":\"#E5ECF6\",\"gridcolor\":\"white\",\"linecolor\":\"white\",\"showbackground\":true,\"ticks\":\"\",\"zerolinecolor\":\"white\",\"gridwidth\":2}},\"shapedefaults\":{\"line\":{\"color\":\"#2a3f5f\"}},\"annotationdefaults\":{\"arrowcolor\":\"#2a3f5f\",\"arrowhead\":0,\"arrowwidth\":1},\"geo\":{\"bgcolor\":\"white\",\"landcolor\":\"#E5ECF6\",\"subunitcolor\":\"white\",\"showland\":true,\"showlakes\":true,\"lakecolor\":\"white\"},\"title\":{\"x\":0.05},\"mapbox\":{\"style\":\"light\"}}},\"xaxis\":{\"anchor\":\"y\",\"domain\":[0.0,1.0],\"title\":{\"text\":\"EDAD\"}},\"yaxis\":{\"anchor\":\"x\",\"domain\":[0.0,1.0],\"title\":{\"text\":\"count\"}},\"legend\":{\"tracegroupgap\":0},\"title\":{\"text\":\"Distribuci\\u00f3n de Edad en Historias Cl\\u00ednicas\"},\"barmode\":\"relative\"},                        {\"responsive\": true}                    )                };            </script>        </div>"
      ],
      "text/plain": [
       "Figure({\n",
       "    'data': [{'bingroup': 'x',\n",
       "              'hovertemplate': 'EDAD=%{x}<br>count=%{y}<extra></extra>',\n",
       "              'legendgroup': '',\n",
       "              'marker': {'color': '#636efa', 'pattern': {'shape': ''}},\n",
       "              'name': '',\n",
       "              'orientation': 'v',\n",
       "              'showlegend': False,\n",
       "              'texttemplate': '%{value}',\n",
       "              'type': 'histogram',\n",
       "              'x': {'bdata': ('CiYWCRwIHjw5GSgfGg4nHx0OCSQpIB' ... 'oQPxQXEBMtECcVERsREg0xHkwXKBcd'),\n",
       "                    'dtype': 'i1'},\n",
       "              'xaxis': 'x',\n",
       "              'yaxis': 'y'}],\n",
       "    'layout': {'barmode': 'relative',\n",
       "               'legend': {'tracegroupgap': 0},\n",
       "               'template': '...',\n",
       "               'title': {'text': 'Distribución de Edad en Historias Clínicas'},\n",
       "               'xaxis': {'anchor': 'y', 'domain': [0.0, 1.0], 'title': {'text': 'EDAD'}},\n",
       "               'yaxis': {'anchor': 'x', 'domain': [0.0, 1.0], 'title': {'text': 'count'}}}\n",
       "})"
      ]
     },
     "execution_count": 15,
     "metadata": {},
     "output_type": "execute_result"
    }
   ],
   "source": [
    "#histrograma de edad\n",
    "px.histogram(historias_clinicas, \n",
    "             x=\"EDAD\", \n",
    "             title=\"Distribución de Edad en Historias Clínicas\", \n",
    "            text_auto=True)"
   ]
  },
  {
   "cell_type": "code",
   "execution_count": 16,
   "id": "c569e560",
   "metadata": {},
   "outputs": [
    {
     "ename": "ValueError",
     "evalue": "Mime type rendering requires nbformat>=4.2.0 but it is not installed",
     "output_type": "error",
     "traceback": [
      "\u001b[31m---------------------------------------------------------------------------\u001b[39m",
      "\u001b[31mValueError\u001b[39m                                Traceback (most recent call last)",
      "\u001b[36mFile \u001b[39m\u001b[32mc:\\Users\\ISAIAS_QUINTERO\\Desktop\\Universiad\\MLOps\\Proyecto_Final\\.venv\\Lib\\site-packages\\IPython\\core\\formatters.py:984\u001b[39m, in \u001b[36mIPythonDisplayFormatter.__call__\u001b[39m\u001b[34m(self, obj)\u001b[39m\n\u001b[32m    982\u001b[39m method = get_real_method(obj, \u001b[38;5;28mself\u001b[39m.print_method)\n\u001b[32m    983\u001b[39m \u001b[38;5;28;01mif\u001b[39;00m method \u001b[38;5;129;01mis\u001b[39;00m \u001b[38;5;129;01mnot\u001b[39;00m \u001b[38;5;28;01mNone\u001b[39;00m:\n\u001b[32m--> \u001b[39m\u001b[32m984\u001b[39m     \u001b[43mmethod\u001b[49m\u001b[43m(\u001b[49m\u001b[43m)\u001b[49m\n\u001b[32m    985\u001b[39m     \u001b[38;5;28;01mreturn\u001b[39;00m \u001b[38;5;28;01mTrue\u001b[39;00m\n",
      "\u001b[36mFile \u001b[39m\u001b[32mc:\\Users\\ISAIAS_QUINTERO\\Desktop\\Universiad\\MLOps\\Proyecto_Final\\.venv\\Lib\\site-packages\\plotly\\basedatatypes.py:850\u001b[39m, in \u001b[36mBaseFigure._ipython_display_\u001b[39m\u001b[34m(self)\u001b[39m\n\u001b[32m    847\u001b[39m \u001b[38;5;28;01mimport\u001b[39;00m\u001b[38;5;250m \u001b[39m\u001b[34;01mplotly\u001b[39;00m\u001b[34;01m.\u001b[39;00m\u001b[34;01mio\u001b[39;00m\u001b[38;5;250m \u001b[39m\u001b[38;5;28;01mas\u001b[39;00m\u001b[38;5;250m \u001b[39m\u001b[34;01mpio\u001b[39;00m\n\u001b[32m    849\u001b[39m \u001b[38;5;28;01mif\u001b[39;00m pio.renderers.render_on_display \u001b[38;5;129;01mand\u001b[39;00m pio.renderers.default:\n\u001b[32m--> \u001b[39m\u001b[32m850\u001b[39m     \u001b[43mpio\u001b[49m\u001b[43m.\u001b[49m\u001b[43mshow\u001b[49m\u001b[43m(\u001b[49m\u001b[38;5;28;43mself\u001b[39;49m\u001b[43m)\u001b[49m\n\u001b[32m    851\u001b[39m \u001b[38;5;28;01melse\u001b[39;00m:\n\u001b[32m    852\u001b[39m     \u001b[38;5;28mprint\u001b[39m(\u001b[38;5;28mrepr\u001b[39m(\u001b[38;5;28mself\u001b[39m))\n",
      "\u001b[36mFile \u001b[39m\u001b[32mc:\\Users\\ISAIAS_QUINTERO\\Desktop\\Universiad\\MLOps\\Proyecto_Final\\.venv\\Lib\\site-packages\\plotly\\io\\_renderers.py:415\u001b[39m, in \u001b[36mshow\u001b[39m\u001b[34m(fig, renderer, validate, **kwargs)\u001b[39m\n\u001b[32m    410\u001b[39m     \u001b[38;5;28;01mraise\u001b[39;00m \u001b[38;5;167;01mValueError\u001b[39;00m(\n\u001b[32m    411\u001b[39m         \u001b[33m\"\u001b[39m\u001b[33mMime type rendering requires ipython but it is not installed\u001b[39m\u001b[33m\"\u001b[39m\n\u001b[32m    412\u001b[39m     )\n\u001b[32m    414\u001b[39m \u001b[38;5;28;01mif\u001b[39;00m \u001b[38;5;129;01mnot\u001b[39;00m nbformat \u001b[38;5;129;01mor\u001b[39;00m Version(nbformat.__version__) < Version(\u001b[33m\"\u001b[39m\u001b[33m4.2.0\u001b[39m\u001b[33m\"\u001b[39m):\n\u001b[32m--> \u001b[39m\u001b[32m415\u001b[39m     \u001b[38;5;28;01mraise\u001b[39;00m \u001b[38;5;167;01mValueError\u001b[39;00m(\n\u001b[32m    416\u001b[39m         \u001b[33m\"\u001b[39m\u001b[33mMime type rendering requires nbformat>=4.2.0 but it is not installed\u001b[39m\u001b[33m\"\u001b[39m\n\u001b[32m    417\u001b[39m     )\n\u001b[32m    419\u001b[39m display_jupyter_version_warnings()\n\u001b[32m    421\u001b[39m ipython_display.display(bundle, raw=\u001b[38;5;28;01mTrue\u001b[39;00m)\n",
      "\u001b[31mValueError\u001b[39m: Mime type rendering requires nbformat>=4.2.0 but it is not installed"
     ]
    },
    {
     "data": {
      "application/vnd.plotly.v1+json": {
       "config": {
        "plotlyServerURL": "https://plot.ly"
       },
       "data": [
        {
         "bingroup": "x",
         "hovertemplate": "SEXO=Masculino<br>EDAD=%{x}<br>count=%{y}<extra></extra>",
         "legendgroup": "Masculino",
         "marker": {
          "color": "#636efa",
          "pattern": {
           "shape": ""
          }
         },
         "name": "Masculino",
         "orientation": "v",
         "showlegend": true,
         "texttemplate": "%{value}",
         "type": "histogram",
         "x": {
          "bdata": "ChYJHB45HycfKR8eIj00JyciIT00Ex0fJyQmIichHSEnJCchIiQtJzQdJjQgJyEjLSMMHScoBxEhJBwOJigjJygdIx4MICEhCQYmJx0cQR4kJwwmIREhHhwnHhwOJgkJDyIMIw4TKBwhISQWJyMjJiEOHAwnIw8JIR4mJCcjHBwhIxYMJioOGhwnIyoPCSE3ESQHFionGSoVBRokDichDxYOHDAhIQkwCicRFgUSGxYrIgsoGycSIjoKCygnGyI6CygSKCQbJCgKGy8NKigKCQs+LyckCg0KJyokCSgJGycWBTYKKC8KJCcqGwckPhY2KDQkKwUcLyooIxYcISsRDyIbEg0nNCsyJAcKIyshDigvBSAkDSIWKj4rIS0eNignJCMKKw4eHiAPFigmBwwgFiIrPhoFHgsUHRYkDCQaKBQkIhogIwoKDDIlIyIdIiMjJxISJxEkJScNCEIeETMIKxcHKx4hHggrQjYLDgcQDjY4EQgWKyEeHTYQCCEOHiEsNg8INisPISsPDSsPDSsPHg0eKx4PNisPHjYhDQ8NDw8aDUUQDw8QDRAPIRAhICBFDSAPFysNFw8rICEiGCxGKRAhDiISNCwQRgw0LBAOIgwQCDYSGhAMECwOGhIYGkYSGhIPDCIQGggPEg8MGhoIDxoSTEYQGg8MGxAUGxpGGhQbGxghEBsaBhQOGiEGFBpGEAYhIRQGJiIQISYGFCYhRiEOBiI2DzYQBhQ2KCE2TzgjFA1HNykPIi4RUA05KSMUUCIRFS5QG1ARGxEiFR0uESJQLh0RUC4dIhYVHh0uUBYKIyAeHREKGRQTIBZHHggsMCAKFhlQHjAVLggWHgoZFhEWIjkrLhkVICs7UCsgFjlHHisKFA4aPTc/ERQzFxc5RCARHTkRKA8RCEcSCw8ZPRgIFwkSQSYSEkMPBTkTDAkbFC4SED8PMAslF0gROxQoODQdChEHCQQ9QToQDx8ICkkPERAPJhBWKxcSDRdBHDAOBBoMPAoXGzgOECgMNEgoFxAFOhEyNRMQQAgSUBcNCBI6DxQIQBEODBkRHwU3Pw0MDC4XRRQSDxorEg8LFBAwJw4JEBARSTIXFw0FPAw4DxA0Fx8JLkcHBR0MDw8wPAsQKAgRKxoXRAkPDQgIKzAKPwgPEg0PSSQoEQ8QDikIDx8SFREMDhIQChANDQoKBRQUD0URDRcuBQkFFx4OBA8XCyUdEhkGBRMIBQ9HPBAOBRkIEDUSBwU2DgkGChQQJw0oHQ==",
          "dtype": "i1"
         },
         "xaxis": "x",
         "yaxis": "y"
        },
        {
         "bingroup": "x",
         "hovertemplate": "SEXO=Femenino<br>EDAD=%{x}<br>count=%{y}<extra></extra>",
         "legendgroup": "Femenino",
         "marker": {
          "color": "#EF553B",
          "pattern": {
           "shape": ""
          }
         },
         "name": "Femenino",
         "orientation": "v",
         "showlegend": true,
         "texttemplate": "%{value}",
         "type": "histogram",
         "x": {
          "bdata": "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",
          "dtype": "i1"
         },
         "xaxis": "x",
         "yaxis": "y"
        }
       ],
       "layout": {
        "barmode": "relative",
        "legend": {
         "title": {
          "text": "SEXO"
         },
         "tracegroupgap": 0
        },
        "template": {
         "data": {
          "bar": [
           {
            "error_x": {
             "color": "#2a3f5f"
            },
            "error_y": {
             "color": "#2a3f5f"
            },
            "marker": {
             "line": {
              "color": "#E5ECF6",
              "width": 0.5
             },
             "pattern": {
              "fillmode": "overlay",
              "size": 10,
              "solidity": 0.2
             }
            },
            "type": "bar"
           }
          ],
          "barpolar": [
           {
            "marker": {
             "line": {
              "color": "#E5ECF6",
              "width": 0.5
             },
             "pattern": {
              "fillmode": "overlay",
              "size": 10,
              "solidity": 0.2
             }
            },
            "type": "barpolar"
           }
          ],
          "carpet": [
           {
            "aaxis": {
             "endlinecolor": "#2a3f5f",
             "gridcolor": "white",
             "linecolor": "white",
             "minorgridcolor": "white",
             "startlinecolor": "#2a3f5f"
            },
            "baxis": {
             "endlinecolor": "#2a3f5f",
             "gridcolor": "white",
             "linecolor": "white",
             "minorgridcolor": "white",
             "startlinecolor": "#2a3f5f"
            },
            "type": "carpet"
           }
          ],
          "choropleth": [
           {
            "colorbar": {
             "outlinewidth": 0,
             "ticks": ""
            },
            "type": "choropleth"
           }
          ],
          "contour": [
           {
            "colorbar": {
             "outlinewidth": 0,
             "ticks": ""
            },
            "colorscale": [
             [
              0,
              "#0d0887"
             ],
             [
              0.1111111111111111,
              "#46039f"
             ],
             [
              0.2222222222222222,
              "#7201a8"
             ],
             [
              0.3333333333333333,
              "#9c179e"
             ],
             [
              0.4444444444444444,
              "#bd3786"
             ],
             [
              0.5555555555555556,
              "#d8576b"
             ],
             [
              0.6666666666666666,
              "#ed7953"
             ],
             [
              0.7777777777777778,
              "#fb9f3a"
             ],
             [
              0.8888888888888888,
              "#fdca26"
             ],
             [
              1,
              "#f0f921"
             ]
            ],
            "type": "contour"
           }
          ],
          "contourcarpet": [
           {
            "colorbar": {
             "outlinewidth": 0,
             "ticks": ""
            },
            "type": "contourcarpet"
           }
          ],
          "heatmap": [
           {
            "colorbar": {
             "outlinewidth": 0,
             "ticks": ""
            },
            "colorscale": [
             [
              0,
              "#0d0887"
             ],
             [
              0.1111111111111111,
              "#46039f"
             ],
             [
              0.2222222222222222,
              "#7201a8"
             ],
             [
              0.3333333333333333,
              "#9c179e"
             ],
             [
              0.4444444444444444,
              "#bd3786"
             ],
             [
              0.5555555555555556,
              "#d8576b"
             ],
             [
              0.6666666666666666,
              "#ed7953"
             ],
             [
              0.7777777777777778,
              "#fb9f3a"
             ],
             [
              0.8888888888888888,
              "#fdca26"
             ],
             [
              1,
              "#f0f921"
             ]
            ],
            "type": "heatmap"
           }
          ],
          "histogram": [
           {
            "marker": {
             "pattern": {
              "fillmode": "overlay",
              "size": 10,
              "solidity": 0.2
             }
            },
            "type": "histogram"
           }
          ],
          "histogram2d": [
           {
            "colorbar": {
             "outlinewidth": 0,
             "ticks": ""
            },
            "colorscale": [
             [
              0,
              "#0d0887"
             ],
             [
              0.1111111111111111,
              "#46039f"
             ],
             [
              0.2222222222222222,
              "#7201a8"
             ],
             [
              0.3333333333333333,
              "#9c179e"
             ],
             [
              0.4444444444444444,
              "#bd3786"
             ],
             [
              0.5555555555555556,
              "#d8576b"
             ],
             [
              0.6666666666666666,
              "#ed7953"
             ],
             [
              0.7777777777777778,
              "#fb9f3a"
             ],
             [
              0.8888888888888888,
              "#fdca26"
             ],
             [
              1,
              "#f0f921"
             ]
            ],
            "type": "histogram2d"
           }
          ],
          "histogram2dcontour": [
           {
            "colorbar": {
             "outlinewidth": 0,
             "ticks": ""
            },
            "colorscale": [
             [
              0,
              "#0d0887"
             ],
             [
              0.1111111111111111,
              "#46039f"
             ],
             [
              0.2222222222222222,
              "#7201a8"
             ],
             [
              0.3333333333333333,
              "#9c179e"
             ],
             [
              0.4444444444444444,
              "#bd3786"
             ],
             [
              0.5555555555555556,
              "#d8576b"
             ],
             [
              0.6666666666666666,
              "#ed7953"
             ],
             [
              0.7777777777777778,
              "#fb9f3a"
             ],
             [
              0.8888888888888888,
              "#fdca26"
             ],
             [
              1,
              "#f0f921"
             ]
            ],
            "type": "histogram2dcontour"
           }
          ],
          "mesh3d": [
           {
            "colorbar": {
             "outlinewidth": 0,
             "ticks": ""
            },
            "type": "mesh3d"
           }
          ],
          "parcoords": [
           {
            "line": {
             "colorbar": {
              "outlinewidth": 0,
              "ticks": ""
             }
            },
            "type": "parcoords"
           }
          ],
          "pie": [
           {
            "automargin": true,
            "type": "pie"
           }
          ],
          "scatter": [
           {
            "fillpattern": {
             "fillmode": "overlay",
             "size": 10,
             "solidity": 0.2
            },
            "type": "scatter"
           }
          ],
          "scatter3d": [
           {
            "line": {
             "colorbar": {
              "outlinewidth": 0,
              "ticks": ""
             }
            },
            "marker": {
             "colorbar": {
              "outlinewidth": 0,
              "ticks": ""
             }
            },
            "type": "scatter3d"
           }
          ],
          "scattercarpet": [
           {
            "marker": {
             "colorbar": {
              "outlinewidth": 0,
              "ticks": ""
             }
            },
            "type": "scattercarpet"
           }
          ],
          "scattergeo": [
           {
            "marker": {
             "colorbar": {
              "outlinewidth": 0,
              "ticks": ""
             }
            },
            "type": "scattergeo"
           }
          ],
          "scattergl": [
           {
            "marker": {
             "colorbar": {
              "outlinewidth": 0,
              "ticks": ""
             }
            },
            "type": "scattergl"
           }
          ],
          "scattermap": [
           {
            "marker": {
             "colorbar": {
              "outlinewidth": 0,
              "ticks": ""
             }
            },
            "type": "scattermap"
           }
          ],
          "scattermapbox": [
           {
            "marker": {
             "colorbar": {
              "outlinewidth": 0,
              "ticks": ""
             }
            },
            "type": "scattermapbox"
           }
          ],
          "scatterpolar": [
           {
            "marker": {
             "colorbar": {
              "outlinewidth": 0,
              "ticks": ""
             }
            },
            "type": "scatterpolar"
           }
          ],
          "scatterpolargl": [
           {
            "marker": {
             "colorbar": {
              "outlinewidth": 0,
              "ticks": ""
             }
            },
            "type": "scatterpolargl"
           }
          ],
          "scatterternary": [
           {
            "marker": {
             "colorbar": {
              "outlinewidth": 0,
              "ticks": ""
             }
            },
            "type": "scatterternary"
           }
          ],
          "surface": [
           {
            "colorbar": {
             "outlinewidth": 0,
             "ticks": ""
            },
            "colorscale": [
             [
              0,
              "#0d0887"
             ],
             [
              0.1111111111111111,
              "#46039f"
             ],
             [
              0.2222222222222222,
              "#7201a8"
             ],
             [
              0.3333333333333333,
              "#9c179e"
             ],
             [
              0.4444444444444444,
              "#bd3786"
             ],
             [
              0.5555555555555556,
              "#d8576b"
             ],
             [
              0.6666666666666666,
              "#ed7953"
             ],
             [
              0.7777777777777778,
              "#fb9f3a"
             ],
             [
              0.8888888888888888,
              "#fdca26"
             ],
             [
              1,
              "#f0f921"
             ]
            ],
            "type": "surface"
           }
          ],
          "table": [
           {
            "cells": {
             "fill": {
              "color": "#EBF0F8"
             },
             "line": {
              "color": "white"
             }
            },
            "header": {
             "fill": {
              "color": "#C8D4E3"
             },
             "line": {
              "color": "white"
             }
            },
            "type": "table"
           }
          ]
         },
         "layout": {
          "annotationdefaults": {
           "arrowcolor": "#2a3f5f",
           "arrowhead": 0,
           "arrowwidth": 1
          },
          "autotypenumbers": "strict",
          "coloraxis": {
           "colorbar": {
            "outlinewidth": 0,
            "ticks": ""
           }
          },
          "colorscale": {
           "diverging": [
            [
             0,
             "#8e0152"
            ],
            [
             0.1,
             "#c51b7d"
            ],
            [
             0.2,
             "#de77ae"
            ],
            [
             0.3,
             "#f1b6da"
            ],
            [
             0.4,
             "#fde0ef"
            ],
            [
             0.5,
             "#f7f7f7"
            ],
            [
             0.6,
             "#e6f5d0"
            ],
            [
             0.7,
             "#b8e186"
            ],
            [
             0.8,
             "#7fbc41"
            ],
            [
             0.9,
             "#4d9221"
            ],
            [
             1,
             "#276419"
            ]
           ],
           "sequential": [
            [
             0,
             "#0d0887"
            ],
            [
             0.1111111111111111,
             "#46039f"
            ],
            [
             0.2222222222222222,
             "#7201a8"
            ],
            [
             0.3333333333333333,
             "#9c179e"
            ],
            [
             0.4444444444444444,
             "#bd3786"
            ],
            [
             0.5555555555555556,
             "#d8576b"
            ],
            [
             0.6666666666666666,
             "#ed7953"
            ],
            [
             0.7777777777777778,
             "#fb9f3a"
            ],
            [
             0.8888888888888888,
             "#fdca26"
            ],
            [
             1,
             "#f0f921"
            ]
           ],
           "sequentialminus": [
            [
             0,
             "#0d0887"
            ],
            [
             0.1111111111111111,
             "#46039f"
            ],
            [
             0.2222222222222222,
             "#7201a8"
            ],
            [
             0.3333333333333333,
             "#9c179e"
            ],
            [
             0.4444444444444444,
             "#bd3786"
            ],
            [
             0.5555555555555556,
             "#d8576b"
            ],
            [
             0.6666666666666666,
             "#ed7953"
            ],
            [
             0.7777777777777778,
             "#fb9f3a"
            ],
            [
             0.8888888888888888,
             "#fdca26"
            ],
            [
             1,
             "#f0f921"
            ]
           ]
          },
          "colorway": [
           "#636efa",
           "#EF553B",
           "#00cc96",
           "#ab63fa",
           "#FFA15A",
           "#19d3f3",
           "#FF6692",
           "#B6E880",
           "#FF97FF",
           "#FECB52"
          ],
          "font": {
           "color": "#2a3f5f"
          },
          "geo": {
           "bgcolor": "white",
           "lakecolor": "white",
           "landcolor": "#E5ECF6",
           "showlakes": true,
           "showland": true,
           "subunitcolor": "white"
          },
          "hoverlabel": {
           "align": "left"
          },
          "hovermode": "closest",
          "mapbox": {
           "style": "light"
          },
          "paper_bgcolor": "white",
          "plot_bgcolor": "#E5ECF6",
          "polar": {
           "angularaxis": {
            "gridcolor": "white",
            "linecolor": "white",
            "ticks": ""
           },
           "bgcolor": "#E5ECF6",
           "radialaxis": {
            "gridcolor": "white",
            "linecolor": "white",
            "ticks": ""
           }
          },
          "scene": {
           "xaxis": {
            "backgroundcolor": "#E5ECF6",
            "gridcolor": "white",
            "gridwidth": 2,
            "linecolor": "white",
            "showbackground": true,
            "ticks": "",
            "zerolinecolor": "white"
           },
           "yaxis": {
            "backgroundcolor": "#E5ECF6",
            "gridcolor": "white",
            "gridwidth": 2,
            "linecolor": "white",
            "showbackground": true,
            "ticks": "",
            "zerolinecolor": "white"
           },
           "zaxis": {
            "backgroundcolor": "#E5ECF6",
            "gridcolor": "white",
            "gridwidth": 2,
            "linecolor": "white",
            "showbackground": true,
            "ticks": "",
            "zerolinecolor": "white"
           }
          },
          "shapedefaults": {
           "line": {
            "color": "#2a3f5f"
           }
          },
          "ternary": {
           "aaxis": {
            "gridcolor": "white",
            "linecolor": "white",
            "ticks": ""
           },
           "baxis": {
            "gridcolor": "white",
            "linecolor": "white",
            "ticks": ""
           },
           "bgcolor": "#E5ECF6",
           "caxis": {
            "gridcolor": "white",
            "linecolor": "white",
            "ticks": ""
           }
          },
          "title": {
           "x": 0.05
          },
          "xaxis": {
           "automargin": true,
           "gridcolor": "white",
           "linecolor": "white",
           "ticks": "",
           "title": {
            "standoff": 15
           },
           "zerolinecolor": "white",
           "zerolinewidth": 2
          },
          "yaxis": {
           "automargin": true,
           "gridcolor": "white",
           "linecolor": "white",
           "ticks": "",
           "title": {
            "standoff": 15
           },
           "zerolinecolor": "white",
           "zerolinewidth": 2
          }
         }
        },
        "title": {
         "text": "Distribución de Edad en Historias Clínicas por Sexo"
        },
        "xaxis": {
         "anchor": "y",
         "domain": [
          0,
          1
         ],
         "title": {
          "text": "EDAD"
         }
        },
        "yaxis": {
         "anchor": "x",
         "domain": [
          0,
          1
         ],
         "title": {
          "text": "count"
         }
        }
       }
      },
      "text/html": [
       "<div>                        <script type=\"text/javascript\">window.PlotlyConfig = {MathJaxConfig: 'local'};</script>\n",
       "        <script charset=\"utf-8\" src=\"https://cdn.plot.ly/plotly-3.1.0.min.js\" integrity=\"sha256-Ei4740bWZhaUTQuD6q9yQlgVCMPBz6CZWhevDYPv93A=\" crossorigin=\"anonymous\"></script>                <div id=\"a877a61b-5710-40d0-9153-b3fa302b8f7b\" class=\"plotly-graph-div\" style=\"height:100%; width:100%;\"></div>            <script type=\"text/javascript\">                window.PLOTLYENV=window.PLOTLYENV || {};                                if (document.getElementById(\"a877a61b-5710-40d0-9153-b3fa302b8f7b\")) {                    Plotly.newPlot(                        \"a877a61b-5710-40d0-9153-b3fa302b8f7b\",                        [{\"bingroup\":\"x\",\"hovertemplate\":\"SEXO=Masculino\\u003cbr\\u003eEDAD=%{x}\\u003cbr\\u003ecount=%{y}\\u003cextra\\u003e\\u003c\\u002fextra\\u003e\",\"legendgroup\":\"Masculino\",\"marker\":{\"color\":\"#636efa\",\"pattern\":{\"shape\":\"\"}},\"name\":\"Masculino\",\"orientation\":\"v\",\"showlegend\":true,\"texttemplate\":\"%{value}\",\"x\":{\"dtype\":\"i1\",\"bdata\":\"ChYJHB45HycfKR8eIj00JyciIT00Ex0fJyQmIichHSEnJCchIiQtJzQdJjQgJyEjLSMMHScoBxEhJBwOJigjJygdIx4MICEhCQYmJx0cQR4kJwwmIREhHhwnHhwOJgkJDyIMIw4TKBwhISQWJyMjJiEOHAwnIw8JIR4mJCcjHBwhIxYMJioOGhwnIyoPCSE3ESQHFionGSoVBRokDichDxYOHDAhIQkwCicRFgUSGxYrIgsoGycSIjoKCygnGyI6CygSKCQbJCgKGy8NKigKCQs+LyckCg0KJyokCSgJGycWBTYKKC8KJCcqGwckPhY2KDQkKwUcLyooIxYcISsRDyIbEg0nNCsyJAcKIyshDigvBSAkDSIWKj4rIS0eNignJCMKKw4eHiAPFigmBwwgFiIrPhoFHgsUHRYkDCQaKBQkIhogIwoKDDIlIyIdIiMjJxISJxEkJScNCEIeETMIKxcHKx4hHggrQjYLDgcQDjY4EQgWKyEeHTYQCCEOHiEsNg8INisPISsPDSsPDSsPHg0eKx4PNisPHjYhDQ8NDw8aDUUQDw8QDRAPIRAhICBFDSAPFysNFw8rICEiGCxGKRAhDiISNCwQRgw0LBAOIgwQCDYSGhAMECwOGhIYGkYSGhIPDCIQGggPEg8MGhoIDxoSTEYQGg8MGxAUGxpGGhQbGxghEBsaBhQOGiEGFBpGEAYhIRQGJiIQISYGFCYhRiEOBiI2DzYQBhQ2KCE2TzgjFA1HNykPIi4RUA05KSMUUCIRFS5QG1ARGxEiFR0uESJQLh0RUC4dIhYVHh0uUBYKIyAeHREKGRQTIBZHHggsMCAKFhlQHjAVLggWHgoZFhEWIjkrLhkVICs7UCsgFjlHHisKFA4aPTc\\u002fERQzFxc5RCARHTkRKA8RCEcSCw8ZPRgIFwkSQSYSEkMPBTkTDAkbFC4SED8PMAslF0gROxQoODQdChEHCQQ9QToQDx8ICkkPERAPJhBWKxcSDRdBHDAOBBoMPAoXGzgOECgMNEgoFxAFOhEyNRMQQAgSUBcNCBI6DxQIQBEODBkRHwU3Pw0MDC4XRRQSDxorEg8LFBAwJw4JEBARSTIXFw0FPAw4DxA0Fx8JLkcHBR0MDw8wPAsQKAgRKxoXRAkPDQgIKzAKPwgPEg0PSSQoEQ8QDikIDx8SFREMDhIQChANDQoKBRQUD0URDRcuBQkFFx4OBA8XCyUdEhkGBRMIBQ9HPBAOBRkIEDUSBwU2DgkGChQQJw0oHQ==\"},\"xaxis\":\"x\",\"yaxis\":\"y\",\"type\":\"histogram\"},{\"bingroup\":\"x\",\"hovertemplate\":\"SEXO=Femenino\\u003cbr\\u003eEDAD=%{x}\\u003cbr\\u003ecount=%{y}\\u003cextra\\u003e\\u003c\\u002fextra\\u003e\",\"legendgroup\":\"Femenino\",\"marker\":{\"color\":\"#EF553B\",\"pattern\":{\"shape\":\"\"}},\"name\":\"Femenino\",\"orientation\":\"v\",\"showlegend\":true,\"texttemplate\":\"%{value}\",\"x\":{\"dtype\":\"i1\",\"bdata\":\"Jgg8GSgaDh0OCSQgKiswECQOHSMdEEAuGTEiIycYKSocQDAvJBAuGSIpGSkqJBwcMR0YJA4eKRkjLhkiKRcZKhseKRUZIxcJKSQjIykiGRsqHRguHRsqCRcnKR4ZHyMdHhcRLBwTHBMmHSIpJxcqOiocIxwmCTYRJxkkGhcaIh4xFxwcHCMfGRw6JisRHRwjECIdHykqKjwqHiMdLRceFzEcDREmKToaGxcSCiMdKxoNHRwhMCobHx4QGgsSGhcSEhEXMRsiMBIwCiMVIhATEg0lGjIfKiMTFRccFxAaIhAcJQ0NJBsZSi0jHBIlGgkfKiAcLyQNGxkRIRwTIBBKSggkJRIpGRsxDRIvCSAhHxspEh8QDEoQIRkcKg0TIBkJHRMrCSohICQTSxMNHBQuCxwNICEuCx0THB0hDR8dEy5LGg0ZGRsTJQsdHxwhJSEKIzAYMB4fHyATLi0dHywUIhwdCRstLA4cKxMfBh4gIBMdKyELGSAcIywgGS0sISEZIi1DDyEeGiwrDhkcGh0rHB8ZGSAgHBMdGicdICwrISsoITcdIDEZIxoIDxoRIy0rHysdHCwlCTsZMCAsJBcOHR0gITApKxchKx0XEiMiHiEcMRcoOykrJyAZHSMXHSssNw0PExwJOB0kHBoIJikgEiIgDissHSQJJysXECQkLyEXGQ0dIwgcHisgHBIpIBMiHTsiHycrGywvNzQIGQwJDx4WKB8rKSQrKyMgKx0ZEiATHQYNECAOCRwaHB0pJhk3JyUsJQYTIisSGysgLRkrLRkuEB0PDAkfHiAfGhcrKyIWJCArGScaDjslHC0oKS8dHCsrISIWJCAdJRgbICMjESMNLCMiIyAMDDsJEREhBggvNCYcIiUYKycKJREtIR8lGxMhKCkkICIPESQxDy4uDRsqKhsbGxsODxsNJAkkPEAmIAsfQEYoMUQmViBCFwwXRhIeIkkcEQkbJBdALEQeMSY2JSAeETY2F1YQQCgRVkIxESI2LBw2RiRWNhIPQC4VNzE2Hjc2JRYgVhxERhk2HBkJNg8MQBxGVjY4JBUzKAs2N0I2OBxJCxQJEVY2NzY4QDZGCxxWFA8cNkIoETY2JBweFRQoCTZGHCgkNjZGCyQoFCYSHCg2NzYUCyQPEiQVGxtGGxwQVgsmCQ8UGxURJEQSKEYUJBwQJAlKHBEBKRQkIhwUKCkkD0YUERsQFCRGFBMSCSJKNlJARjJSIRMkMlI2KEYUIlIyRhgkEEBKJDZGIUA5Ig8yNlIpEyEyFChAJEYQIhMhIRIyCUYLIkwyJBEUISkuNwolIhIzFCURMyJBHCMlOTMVIkdTEBIzLCUpNyMUIiISJSUKRzMVETgTIiUZLDclFRJFHTMcEyUiHSwzChIUHEcRDBUlTTMiRxMVHBklEwoUPjNFPhUiIztHQT4cIioZFBUTQSpHCz4QCCUzCRwiFVQjG0UJE0QZMyIUKj5UMxAiGxNHGD5ECFQQOyo7MwlLIhU1RxglNQk+JTM1RyIqPhAiCCETMRkJFBUxExlBIhgzIz4nJUQJGhNHIz4YGDFLKhAMIjMzJSEnIwhHQRQaMyIhMzgaIzMJE0QQJTMiISczIkc4IiUJPkQTIUszMxAhFBk+IggzFkcqGQkhFT4lIjMQFhoqIx8nMyFHIj4zFCQjFighJiIaFS4UCTQjNigJWCs4NDQaFhYjCSgUIRIaCSU\\u002fODYjK1MaSFgkPz9TJTQ2FCNIRRotITQ0MChFNhI0PzQ0PxY1IzYyJBwrNFMJNSYuNiU\\u002fIzgwGDg0NAk4JBoULlM5JiYlHDY0OB0oIRYSCRgdOD85FBlTKBwWRU4SKCQ0My4mCSE5Iz8ZLkUcKDQzNCgUGCYZNhEjUxcuGQkzHyMLFyQjGSEcODRFEiMwGzYsWAsUIxorHkwrKBcsNCQjORtFUxo2RRcYGQs1HlgJP0IsFy4POEUjESghEiYLHDobNFM1GCA\\u002fFEUjJC5MHlgwKAkxJg8sRRcLGxAgOUUJGy4rIgs1Li4qQhImLyIkJB40FBseO1AUOhQcITkQFxwdOgwQGjEcGxEvLQ4+EBM7ECktDQ9KETwzFg4oIzovExkRPRESDzI3RBMbEh5FDx8fJUlBIi0bEy0fKR0RGEwJEzJCEA4SERMoGhIUECIMRCgYMRUbUEIrEi0RSy8JThUSP0APIic5EDsaEjIQCygwExM+PgwPEzxCGx8PHAo6LQgVNxMTOhEuJyclFScRKUwREC4YLyodLhMaOxwpK0sRHhEXQFQRGg1FThUTLCMIMRAdFxFMDCg8Eik\\u002fKSgPGzw7KioUEzIuFyhNPRcdKgQVExIPQCQRGCIWFzczKx0yBz4TOSsfQgxCFi8XFBw3OhoQTC4uJQoREhEQFQsyTRMILhQXGwUbOkIrLikTNxA9HhEMHi05CRMTECpAFSIMEBgYJRoTIFBAKUEQPBJZHQw0GClLJB8YHTMQFB4rKSkTESg6HBUSERYWMA4QMhg\\u002fFxYuExQhEz0+MkIQFyIQNzk+DTc4MicLNkgPDTEuCg8TFxcTEBUyERIRIhoaTkAvCBc9ESMSNB5CKiMxE0VFFU4sLxQXETcqEBwQEBATERIQLTwQKRgwJzoTHxAJIjspPiE2FRsTFzIeOi4eFRAfEhETJQ0aExAWFSkYEBUQDg4iEUscPhYkOxISQwcuCjcuECUrDEoMKw4UJy8PGBMYMhdAGhA\\u002fFxATLRURGxESMR5MFxc=\"},\"xaxis\":\"x\",\"yaxis\":\"y\",\"type\":\"histogram\"}],                        {\"template\":{\"data\":{\"histogram2dcontour\":[{\"type\":\"histogram2dcontour\",\"colorbar\":{\"outlinewidth\":0,\"ticks\":\"\"},\"colorscale\":[[0.0,\"#0d0887\"],[0.1111111111111111,\"#46039f\"],[0.2222222222222222,\"#7201a8\"],[0.3333333333333333,\"#9c179e\"],[0.4444444444444444,\"#bd3786\"],[0.5555555555555556,\"#d8576b\"],[0.6666666666666666,\"#ed7953\"],[0.7777777777777778,\"#fb9f3a\"],[0.8888888888888888,\"#fdca26\"],[1.0,\"#f0f921\"]]}],\"choropleth\":[{\"type\":\"choropleth\",\"colorbar\":{\"outlinewidth\":0,\"ticks\":\"\"}}],\"histogram2d\":[{\"type\":\"histogram2d\",\"colorbar\":{\"outlinewidth\":0,\"ticks\":\"\"},\"colorscale\":[[0.0,\"#0d0887\"],[0.1111111111111111,\"#46039f\"],[0.2222222222222222,\"#7201a8\"],[0.3333333333333333,\"#9c179e\"],[0.4444444444444444,\"#bd3786\"],[0.5555555555555556,\"#d8576b\"],[0.6666666666666666,\"#ed7953\"],[0.7777777777777778,\"#fb9f3a\"],[0.8888888888888888,\"#fdca26\"],[1.0,\"#f0f921\"]]}],\"heatmap\":[{\"type\":\"heatmap\",\"colorbar\":{\"outlinewidth\":0,\"ticks\":\"\"},\"colorscale\":[[0.0,\"#0d0887\"],[0.1111111111111111,\"#46039f\"],[0.2222222222222222,\"#7201a8\"],[0.3333333333333333,\"#9c179e\"],[0.4444444444444444,\"#bd3786\"],[0.5555555555555556,\"#d8576b\"],[0.6666666666666666,\"#ed7953\"],[0.7777777777777778,\"#fb9f3a\"],[0.8888888888888888,\"#fdca26\"],[1.0,\"#f0f921\"]]}],\"contourcarpet\":[{\"type\":\"contourcarpet\",\"colorbar\":{\"outlinewidth\":0,\"ticks\":\"\"}}],\"contour\":[{\"type\":\"contour\",\"colorbar\":{\"outlinewidth\":0,\"ticks\":\"\"},\"colorscale\":[[0.0,\"#0d0887\"],[0.1111111111111111,\"#46039f\"],[0.2222222222222222,\"#7201a8\"],[0.3333333333333333,\"#9c179e\"],[0.4444444444444444,\"#bd3786\"],[0.5555555555555556,\"#d8576b\"],[0.6666666666666666,\"#ed7953\"],[0.7777777777777778,\"#fb9f3a\"],[0.8888888888888888,\"#fdca26\"],[1.0,\"#f0f921\"]]}],\"surface\":[{\"type\":\"surface\",\"colorbar\":{\"outlinewidth\":0,\"ticks\":\"\"},\"colorscale\":[[0.0,\"#0d0887\"],[0.1111111111111111,\"#46039f\"],[0.2222222222222222,\"#7201a8\"],[0.3333333333333333,\"#9c179e\"],[0.4444444444444444,\"#bd3786\"],[0.5555555555555556,\"#d8576b\"],[0.6666666666666666,\"#ed7953\"],[0.7777777777777778,\"#fb9f3a\"],[0.8888888888888888,\"#fdca26\"],[1.0,\"#f0f921\"]]}],\"mesh3d\":[{\"type\":\"mesh3d\",\"colorbar\":{\"outlinewidth\":0,\"ticks\":\"\"}}],\"scatter\":[{\"fillpattern\":{\"fillmode\":\"overlay\",\"size\":10,\"solidity\":0.2},\"type\":\"scatter\"}],\"parcoords\":[{\"type\":\"parcoords\",\"line\":{\"colorbar\":{\"outlinewidth\":0,\"ticks\":\"\"}}}],\"scatterpolargl\":[{\"type\":\"scatterpolargl\",\"marker\":{\"colorbar\":{\"outlinewidth\":0,\"ticks\":\"\"}}}],\"bar\":[{\"error_x\":{\"color\":\"#2a3f5f\"},\"error_y\":{\"color\":\"#2a3f5f\"},\"marker\":{\"line\":{\"color\":\"#E5ECF6\",\"width\":0.5},\"pattern\":{\"fillmode\":\"overlay\",\"size\":10,\"solidity\":0.2}},\"type\":\"bar\"}],\"scattergeo\":[{\"type\":\"scattergeo\",\"marker\":{\"colorbar\":{\"outlinewidth\":0,\"ticks\":\"\"}}}],\"scatterpolar\":[{\"type\":\"scatterpolar\",\"marker\":{\"colorbar\":{\"outlinewidth\":0,\"ticks\":\"\"}}}],\"histogram\":[{\"marker\":{\"pattern\":{\"fillmode\":\"overlay\",\"size\":10,\"solidity\":0.2}},\"type\":\"histogram\"}],\"scattergl\":[{\"type\":\"scattergl\",\"marker\":{\"colorbar\":{\"outlinewidth\":0,\"ticks\":\"\"}}}],\"scatter3d\":[{\"type\":\"scatter3d\",\"line\":{\"colorbar\":{\"outlinewidth\":0,\"ticks\":\"\"}},\"marker\":{\"colorbar\":{\"outlinewidth\":0,\"ticks\":\"\"}}}],\"scattermap\":[{\"type\":\"scattermap\",\"marker\":{\"colorbar\":{\"outlinewidth\":0,\"ticks\":\"\"}}}],\"scattermapbox\":[{\"type\":\"scattermapbox\",\"marker\":{\"colorbar\":{\"outlinewidth\":0,\"ticks\":\"\"}}}],\"scatterternary\":[{\"type\":\"scatterternary\",\"marker\":{\"colorbar\":{\"outlinewidth\":0,\"ticks\":\"\"}}}],\"scattercarpet\":[{\"type\":\"scattercarpet\",\"marker\":{\"colorbar\":{\"outlinewidth\":0,\"ticks\":\"\"}}}],\"carpet\":[{\"aaxis\":{\"endlinecolor\":\"#2a3f5f\",\"gridcolor\":\"white\",\"linecolor\":\"white\",\"minorgridcolor\":\"white\",\"startlinecolor\":\"#2a3f5f\"},\"baxis\":{\"endlinecolor\":\"#2a3f5f\",\"gridcolor\":\"white\",\"linecolor\":\"white\",\"minorgridcolor\":\"white\",\"startlinecolor\":\"#2a3f5f\"},\"type\":\"carpet\"}],\"table\":[{\"cells\":{\"fill\":{\"color\":\"#EBF0F8\"},\"line\":{\"color\":\"white\"}},\"header\":{\"fill\":{\"color\":\"#C8D4E3\"},\"line\":{\"color\":\"white\"}},\"type\":\"table\"}],\"barpolar\":[{\"marker\":{\"line\":{\"color\":\"#E5ECF6\",\"width\":0.5},\"pattern\":{\"fillmode\":\"overlay\",\"size\":10,\"solidity\":0.2}},\"type\":\"barpolar\"}],\"pie\":[{\"automargin\":true,\"type\":\"pie\"}]},\"layout\":{\"autotypenumbers\":\"strict\",\"colorway\":[\"#636efa\",\"#EF553B\",\"#00cc96\",\"#ab63fa\",\"#FFA15A\",\"#19d3f3\",\"#FF6692\",\"#B6E880\",\"#FF97FF\",\"#FECB52\"],\"font\":{\"color\":\"#2a3f5f\"},\"hovermode\":\"closest\",\"hoverlabel\":{\"align\":\"left\"},\"paper_bgcolor\":\"white\",\"plot_bgcolor\":\"#E5ECF6\",\"polar\":{\"bgcolor\":\"#E5ECF6\",\"angularaxis\":{\"gridcolor\":\"white\",\"linecolor\":\"white\",\"ticks\":\"\"},\"radialaxis\":{\"gridcolor\":\"white\",\"linecolor\":\"white\",\"ticks\":\"\"}},\"ternary\":{\"bgcolor\":\"#E5ECF6\",\"aaxis\":{\"gridcolor\":\"white\",\"linecolor\":\"white\",\"ticks\":\"\"},\"baxis\":{\"gridcolor\":\"white\",\"linecolor\":\"white\",\"ticks\":\"\"},\"caxis\":{\"gridcolor\":\"white\",\"linecolor\":\"white\",\"ticks\":\"\"}},\"coloraxis\":{\"colorbar\":{\"outlinewidth\":0,\"ticks\":\"\"}},\"colorscale\":{\"sequential\":[[0.0,\"#0d0887\"],[0.1111111111111111,\"#46039f\"],[0.2222222222222222,\"#7201a8\"],[0.3333333333333333,\"#9c179e\"],[0.4444444444444444,\"#bd3786\"],[0.5555555555555556,\"#d8576b\"],[0.6666666666666666,\"#ed7953\"],[0.7777777777777778,\"#fb9f3a\"],[0.8888888888888888,\"#fdca26\"],[1.0,\"#f0f921\"]],\"sequentialminus\":[[0.0,\"#0d0887\"],[0.1111111111111111,\"#46039f\"],[0.2222222222222222,\"#7201a8\"],[0.3333333333333333,\"#9c179e\"],[0.4444444444444444,\"#bd3786\"],[0.5555555555555556,\"#d8576b\"],[0.6666666666666666,\"#ed7953\"],[0.7777777777777778,\"#fb9f3a\"],[0.8888888888888888,\"#fdca26\"],[1.0,\"#f0f921\"]],\"diverging\":[[0,\"#8e0152\"],[0.1,\"#c51b7d\"],[0.2,\"#de77ae\"],[0.3,\"#f1b6da\"],[0.4,\"#fde0ef\"],[0.5,\"#f7f7f7\"],[0.6,\"#e6f5d0\"],[0.7,\"#b8e186\"],[0.8,\"#7fbc41\"],[0.9,\"#4d9221\"],[1,\"#276419\"]]},\"xaxis\":{\"gridcolor\":\"white\",\"linecolor\":\"white\",\"ticks\":\"\",\"title\":{\"standoff\":15},\"zerolinecolor\":\"white\",\"automargin\":true,\"zerolinewidth\":2},\"yaxis\":{\"gridcolor\":\"white\",\"linecolor\":\"white\",\"ticks\":\"\",\"title\":{\"standoff\":15},\"zerolinecolor\":\"white\",\"automargin\":true,\"zerolinewidth\":2},\"scene\":{\"xaxis\":{\"backgroundcolor\":\"#E5ECF6\",\"gridcolor\":\"white\",\"linecolor\":\"white\",\"showbackground\":true,\"ticks\":\"\",\"zerolinecolor\":\"white\",\"gridwidth\":2},\"yaxis\":{\"backgroundcolor\":\"#E5ECF6\",\"gridcolor\":\"white\",\"linecolor\":\"white\",\"showbackground\":true,\"ticks\":\"\",\"zerolinecolor\":\"white\",\"gridwidth\":2},\"zaxis\":{\"backgroundcolor\":\"#E5ECF6\",\"gridcolor\":\"white\",\"linecolor\":\"white\",\"showbackground\":true,\"ticks\":\"\",\"zerolinecolor\":\"white\",\"gridwidth\":2}},\"shapedefaults\":{\"line\":{\"color\":\"#2a3f5f\"}},\"annotationdefaults\":{\"arrowcolor\":\"#2a3f5f\",\"arrowhead\":0,\"arrowwidth\":1},\"geo\":{\"bgcolor\":\"white\",\"landcolor\":\"#E5ECF6\",\"subunitcolor\":\"white\",\"showland\":true,\"showlakes\":true,\"lakecolor\":\"white\"},\"title\":{\"x\":0.05},\"mapbox\":{\"style\":\"light\"}}},\"xaxis\":{\"anchor\":\"y\",\"domain\":[0.0,1.0],\"title\":{\"text\":\"EDAD\"}},\"yaxis\":{\"anchor\":\"x\",\"domain\":[0.0,1.0],\"title\":{\"text\":\"count\"}},\"legend\":{\"title\":{\"text\":\"SEXO\"},\"tracegroupgap\":0},\"title\":{\"text\":\"Distribuci\\u00f3n de Edad en Historias Cl\\u00ednicas por Sexo\"},\"barmode\":\"relative\"},                        {\"responsive\": true}                    )                };            </script>        </div>"
      ],
      "text/plain": [
       "Figure({\n",
       "    'data': [{'bingroup': 'x',\n",
       "              'hovertemplate': 'SEXO=Masculino<br>EDAD=%{x}<br>count=%{y}<extra></extra>',\n",
       "              'legendgroup': 'Masculino',\n",
       "              'marker': {'color': '#636efa', 'pattern': {'shape': ''}},\n",
       "              'name': 'Masculino',\n",
       "              'orientation': 'v',\n",
       "              'showlegend': True,\n",
       "              'texttemplate': '%{value}',\n",
       "              'type': 'histogram',\n",
       "              'x': {'bdata': ('ChYJHB45HycfKR8eIj00JyciIT00Ex' ... 'AOBRkIEDUSBwU2DgkGChQQJw0oHQ=='),\n",
       "                    'dtype': 'i1'},\n",
       "              'xaxis': 'x',\n",
       "              'yaxis': 'y'},\n",
       "             {'bingroup': 'x',\n",
       "              'hovertemplate': 'SEXO=Femenino<br>EDAD=%{x}<br>count=%{y}<extra></extra>',\n",
       "              'legendgroup': 'Femenino',\n",
       "              'marker': {'color': '#EF553B', 'pattern': {'shape': ''}},\n",
       "              'name': 'Femenino',\n",
       "              'orientation': 'v',\n",
       "              'showlegend': True,\n",
       "              'texttemplate': '%{value}',\n",
       "              'type': 'histogram',\n",
       "              'x': {'bdata': ('Jgg8GSgaDh0OCSQgKiswECQOHSMdEE' ... 'MYMhdAGhA/FxATLRURGxESMR5MFxc='),\n",
       "                    'dtype': 'i1'},\n",
       "              'xaxis': 'x',\n",
       "              'yaxis': 'y'}],\n",
       "    'layout': {'barmode': 'relative',\n",
       "               'legend': {'title': {'text': 'SEXO'}, 'tracegroupgap': 0},\n",
       "               'template': '...',\n",
       "               'title': {'text': 'Distribución de Edad en Historias Clínicas por Sexo'},\n",
       "               'xaxis': {'anchor': 'y', 'domain': [0.0, 1.0], 'title': {'text': 'EDAD'}},\n",
       "               'yaxis': {'anchor': 'x', 'domain': [0.0, 1.0], 'title': {'text': 'count'}}}\n",
       "})"
      ]
     },
     "execution_count": 16,
     "metadata": {},
     "output_type": "execute_result"
    }
   ],
   "source": [
    "#Distribución de HC por edad y sexo\n",
    "px.histogram(historias_clinicas, \n",
    "             x=\"EDAD\", \n",
    "             title=\"Distribución de Edad en Historias Clínicas por Sexo\", \n",
    "             color=\"SEXO\",\n",
    "             text_auto=True)"
   ]
  },
  {
   "cell_type": "code",
   "execution_count": 17,
   "id": "a551cc28",
   "metadata": {},
   "outputs": [
    {
     "ename": "ValueError",
     "evalue": "Mime type rendering requires nbformat>=4.2.0 but it is not installed",
     "output_type": "error",
     "traceback": [
      "\u001b[31m---------------------------------------------------------------------------\u001b[39m",
      "\u001b[31mValueError\u001b[39m                                Traceback (most recent call last)",
      "\u001b[36mFile \u001b[39m\u001b[32mc:\\Users\\ISAIAS_QUINTERO\\Desktop\\Universiad\\MLOps\\Proyecto_Final\\.venv\\Lib\\site-packages\\IPython\\core\\formatters.py:984\u001b[39m, in \u001b[36mIPythonDisplayFormatter.__call__\u001b[39m\u001b[34m(self, obj)\u001b[39m\n\u001b[32m    982\u001b[39m method = get_real_method(obj, \u001b[38;5;28mself\u001b[39m.print_method)\n\u001b[32m    983\u001b[39m \u001b[38;5;28;01mif\u001b[39;00m method \u001b[38;5;129;01mis\u001b[39;00m \u001b[38;5;129;01mnot\u001b[39;00m \u001b[38;5;28;01mNone\u001b[39;00m:\n\u001b[32m--> \u001b[39m\u001b[32m984\u001b[39m     \u001b[43mmethod\u001b[49m\u001b[43m(\u001b[49m\u001b[43m)\u001b[49m\n\u001b[32m    985\u001b[39m     \u001b[38;5;28;01mreturn\u001b[39;00m \u001b[38;5;28;01mTrue\u001b[39;00m\n",
      "\u001b[36mFile \u001b[39m\u001b[32mc:\\Users\\ISAIAS_QUINTERO\\Desktop\\Universiad\\MLOps\\Proyecto_Final\\.venv\\Lib\\site-packages\\plotly\\basedatatypes.py:850\u001b[39m, in \u001b[36mBaseFigure._ipython_display_\u001b[39m\u001b[34m(self)\u001b[39m\n\u001b[32m    847\u001b[39m \u001b[38;5;28;01mimport\u001b[39;00m\u001b[38;5;250m \u001b[39m\u001b[34;01mplotly\u001b[39;00m\u001b[34;01m.\u001b[39;00m\u001b[34;01mio\u001b[39;00m\u001b[38;5;250m \u001b[39m\u001b[38;5;28;01mas\u001b[39;00m\u001b[38;5;250m \u001b[39m\u001b[34;01mpio\u001b[39;00m\n\u001b[32m    849\u001b[39m \u001b[38;5;28;01mif\u001b[39;00m pio.renderers.render_on_display \u001b[38;5;129;01mand\u001b[39;00m pio.renderers.default:\n\u001b[32m--> \u001b[39m\u001b[32m850\u001b[39m     \u001b[43mpio\u001b[49m\u001b[43m.\u001b[49m\u001b[43mshow\u001b[49m\u001b[43m(\u001b[49m\u001b[38;5;28;43mself\u001b[39;49m\u001b[43m)\u001b[49m\n\u001b[32m    851\u001b[39m \u001b[38;5;28;01melse\u001b[39;00m:\n\u001b[32m    852\u001b[39m     \u001b[38;5;28mprint\u001b[39m(\u001b[38;5;28mrepr\u001b[39m(\u001b[38;5;28mself\u001b[39m))\n",
      "\u001b[36mFile \u001b[39m\u001b[32mc:\\Users\\ISAIAS_QUINTERO\\Desktop\\Universiad\\MLOps\\Proyecto_Final\\.venv\\Lib\\site-packages\\plotly\\io\\_renderers.py:415\u001b[39m, in \u001b[36mshow\u001b[39m\u001b[34m(fig, renderer, validate, **kwargs)\u001b[39m\n\u001b[32m    410\u001b[39m     \u001b[38;5;28;01mraise\u001b[39;00m \u001b[38;5;167;01mValueError\u001b[39;00m(\n\u001b[32m    411\u001b[39m         \u001b[33m\"\u001b[39m\u001b[33mMime type rendering requires ipython but it is not installed\u001b[39m\u001b[33m\"\u001b[39m\n\u001b[32m    412\u001b[39m     )\n\u001b[32m    414\u001b[39m \u001b[38;5;28;01mif\u001b[39;00m \u001b[38;5;129;01mnot\u001b[39;00m nbformat \u001b[38;5;129;01mor\u001b[39;00m Version(nbformat.__version__) < Version(\u001b[33m\"\u001b[39m\u001b[33m4.2.0\u001b[39m\u001b[33m\"\u001b[39m):\n\u001b[32m--> \u001b[39m\u001b[32m415\u001b[39m     \u001b[38;5;28;01mraise\u001b[39;00m \u001b[38;5;167;01mValueError\u001b[39;00m(\n\u001b[32m    416\u001b[39m         \u001b[33m\"\u001b[39m\u001b[33mMime type rendering requires nbformat>=4.2.0 but it is not installed\u001b[39m\u001b[33m\"\u001b[39m\n\u001b[32m    417\u001b[39m     )\n\u001b[32m    419\u001b[39m display_jupyter_version_warnings()\n\u001b[32m    421\u001b[39m ipython_display.display(bundle, raw=\u001b[38;5;28;01mTrue\u001b[39;00m)\n",
      "\u001b[31mValueError\u001b[39m: Mime type rendering requires nbformat>=4.2.0 but it is not installed"
     ]
    },
    {
     "data": {
      "application/vnd.plotly.v1+json": {
       "config": {
        "plotlyServerURL": "https://plot.ly"
       },
       "data": [
        {
         "bingroup": "x",
         "hovertemplate": "GRUPO=%{x}<br>count=%{y}<extra></extra>",
         "legendgroup": "T. externalizantes",
         "marker": {
          "color": "#636efa",
          "pattern": {
           "shape": ""
          }
         },
         "name": "T. externalizantes",
         "orientation": "v",
         "showlegend": true,
         "texttemplate": "%{value}",
         "type": "histogram",
         "x": [
          "T. externalizantes",
          "T. externalizantes",
          "T. externalizantes",
          "T. externalizantes",
          "T. externalizantes",
          "T. externalizantes",
          "T. externalizantes",
          "T. externalizantes",
          "T. externalizantes",
          "T. externalizantes",
          "T. externalizantes",
          "T. externalizantes",
          "T. externalizantes",
          "T. externalizantes",
          "T. externalizantes",
          "T. externalizantes",
          "T. externalizantes",
          "T. externalizantes",
          "T. externalizantes",
          "T. externalizantes",
          "T. externalizantes",
          "T. externalizantes",
          "T. externalizantes",
          "T. externalizantes",
          "T. externalizantes",
          "T. externalizantes",
          "T. externalizantes",
          "T. externalizantes",
          "T. externalizantes",
          "T. externalizantes",
          "T. externalizantes",
          "T. externalizantes",
          "T. externalizantes",
          "T. externalizantes",
          "T. externalizantes",
          "T. externalizantes",
          "T. externalizantes",
          "T. externalizantes",
          "T. externalizantes",
          "T. externalizantes",
          "T. externalizantes",
          "T. externalizantes",
          "T. externalizantes",
          "T. externalizantes",
          "T. externalizantes",
          "T. externalizantes",
          "T. externalizantes",
          "T. externalizantes",
          "T. externalizantes",
          "T. externalizantes",
          "T. externalizantes",
          "T. externalizantes",
          "T. externalizantes",
          "T. externalizantes",
          "T. externalizantes",
          "T. externalizantes",
          "T. externalizantes",
          "T. externalizantes",
          "T. externalizantes",
          "T. externalizantes",
          "T. externalizantes",
          "T. externalizantes",
          "T. externalizantes",
          "T. externalizantes",
          "T. externalizantes",
          "T. externalizantes",
          "T. externalizantes",
          "T. externalizantes",
          "T. externalizantes",
          "T. externalizantes",
          "T. externalizantes",
          "T. externalizantes",
          "T. externalizantes",
          "T. externalizantes",
          "T. externalizantes",
          "T. externalizantes",
          "T. externalizantes",
          "T. externalizantes",
          "T. externalizantes",
          "T. externalizantes",
          "T. externalizantes",
          "T. externalizantes",
          "T. externalizantes",
          "T. externalizantes",
          "T. externalizantes",
          "T. externalizantes",
          "T. externalizantes",
          "T. externalizantes",
          "T. externalizantes",
          "T. externalizantes",
          "T. externalizantes",
          "T. externalizantes",
          "T. externalizantes",
          "T. externalizantes",
          "T. externalizantes",
          "T. externalizantes",
          "T. externalizantes",
          "T. externalizantes",
          "T. externalizantes",
          "T. externalizantes",
          "T. externalizantes",
          "T. externalizantes",
          "T. externalizantes",
          "T. externalizantes",
          "T. externalizantes",
          "T. externalizantes",
          "T. externalizantes",
          "T. externalizantes",
          "T. externalizantes",
          "T. externalizantes",
          "T. externalizantes",
          "T. externalizantes",
          "T. externalizantes",
          "T. externalizantes",
          "T. externalizantes",
          "T. externalizantes",
          "T. externalizantes",
          "T. externalizantes",
          "T. externalizantes",
          "T. externalizantes",
          "T. externalizantes",
          "T. externalizantes",
          "T. externalizantes",
          "T. externalizantes",
          "T. externalizantes",
          "T. externalizantes",
          "T. externalizantes",
          "T. externalizantes",
          "T. externalizantes",
          "T. externalizantes",
          "T. externalizantes",
          "T. externalizantes",
          "T. externalizantes",
          "T. externalizantes",
          "T. externalizantes",
          "T. externalizantes",
          "T. externalizantes",
          "T. externalizantes",
          "T. externalizantes",
          "T. externalizantes",
          "T. externalizantes",
          "T. externalizantes",
          "T. externalizantes",
          "T. externalizantes",
          "T. externalizantes",
          "T. externalizantes",
          "T. externalizantes",
          "T. externalizantes",
          "T. externalizantes",
          "T. externalizantes",
          "T. externalizantes",
          "T. externalizantes",
          "T. externalizantes",
          "T. externalizantes",
          "T. externalizantes",
          "T. externalizantes",
          "T. externalizantes",
          "T. externalizantes",
          "T. externalizantes",
          "T. externalizantes",
          "T. externalizantes",
          "T. externalizantes",
          "T. externalizantes",
          "T. externalizantes",
          "T. externalizantes",
          "T. externalizantes",
          "T. externalizantes",
          "T. externalizantes",
          "T. externalizantes",
          "T. externalizantes",
          "T. externalizantes",
          "T. externalizantes",
          "T. externalizantes",
          "T. externalizantes",
          "T. externalizantes",
          "T. externalizantes",
          "T. externalizantes",
          "T. externalizantes",
          "T. externalizantes",
          "T. externalizantes",
          "T. externalizantes",
          "T. externalizantes",
          "T. externalizantes",
          "T. externalizantes",
          "T. externalizantes",
          "T. externalizantes",
          "T. externalizantes",
          "T. externalizantes",
          "T. externalizantes",
          "T. externalizantes",
          "T. externalizantes",
          "T. externalizantes",
          "T. externalizantes",
          "T. externalizantes",
          "T. externalizantes",
          "T. externalizantes",
          "T. externalizantes",
          "T. externalizantes",
          "T. externalizantes",
          "T. externalizantes",
          "T. externalizantes",
          "T. externalizantes",
          "T. externalizantes",
          "T. externalizantes",
          "T. externalizantes",
          "T. externalizantes",
          "T. externalizantes",
          "T. externalizantes",
          "T. externalizantes",
          "T. externalizantes",
          "T. externalizantes",
          "T. externalizantes",
          "T. externalizantes",
          "T. externalizantes",
          "T. externalizantes",
          "T. externalizantes",
          "T. externalizantes",
          "T. externalizantes",
          "T. externalizantes",
          "T. externalizantes",
          "T. externalizantes",
          "T. externalizantes",
          "T. externalizantes",
          "T. externalizantes",
          "T. externalizantes",
          "T. externalizantes",
          "T. externalizantes",
          "T. externalizantes",
          "T. externalizantes",
          "T. externalizantes",
          "T. externalizantes",
          "T. externalizantes",
          "T. externalizantes",
          "T. externalizantes",
          "T. externalizantes",
          "T. externalizantes",
          "T. externalizantes",
          "T. externalizantes",
          "T. externalizantes",
          "T. externalizantes",
          "T. externalizantes",
          "T. externalizantes",
          "T. externalizantes",
          "T. externalizantes",
          "T. externalizantes",
          "T. externalizantes",
          "T. externalizantes",
          "T. externalizantes",
          "T. externalizantes",
          "T. externalizantes",
          "T. externalizantes",
          "T. externalizantes",
          "T. externalizantes",
          "T. externalizantes",
          "T. externalizantes",
          "T. externalizantes",
          "T. externalizantes",
          "T. externalizantes",
          "T. externalizantes",
          "T. externalizantes",
          "T. externalizantes",
          "T. externalizantes",
          "T. externalizantes",
          "T. externalizantes",
          "T. externalizantes",
          "T. externalizantes",
          "T. externalizantes",
          "T. externalizantes",
          "T. externalizantes",
          "T. externalizantes",
          "T. externalizantes",
          "T. externalizantes",
          "T. externalizantes",
          "T. externalizantes",
          "T. externalizantes",
          "T. externalizantes",
          "T. externalizantes",
          "T. externalizantes",
          "T. externalizantes",
          "T. externalizantes",
          "T. externalizantes",
          "T. externalizantes",
          "T. externalizantes",
          "T. externalizantes",
          "T. externalizantes",
          "T. externalizantes",
          "T. externalizantes",
          "T. externalizantes",
          "T. externalizantes",
          "T. externalizantes",
          "T. externalizantes",
          "T. externalizantes",
          "T. externalizantes",
          "T. externalizantes",
          "T. externalizantes",
          "T. externalizantes",
          "T. externalizantes",
          "T. externalizantes",
          "T. externalizantes",
          "T. externalizantes",
          "T. externalizantes",
          "T. externalizantes",
          "T. externalizantes",
          "T. externalizantes",
          "T. externalizantes",
          "T. externalizantes",
          "T. externalizantes",
          "T. externalizantes",
          "T. externalizantes",
          "T. externalizantes",
          "T. externalizantes",
          "T. externalizantes",
          "T. externalizantes",
          "T. externalizantes",
          "T. externalizantes",
          "T. externalizantes",
          "T. externalizantes",
          "T. externalizantes",
          "T. externalizantes",
          "T. externalizantes",
          "T. externalizantes",
          "T. externalizantes",
          "T. externalizantes",
          "T. externalizantes",
          "T. externalizantes",
          "T. externalizantes",
          "T. externalizantes",
          "T. externalizantes",
          "T. externalizantes",
          "T. externalizantes",
          "T. externalizantes",
          "T. externalizantes",
          "T. externalizantes",
          "T. externalizantes",
          "T. externalizantes",
          "T. externalizantes",
          "T. externalizantes",
          "T. externalizantes",
          "T. externalizantes",
          "T. externalizantes",
          "T. externalizantes",
          "T. externalizantes",
          "T. externalizantes",
          "T. externalizantes",
          "T. externalizantes",
          "T. externalizantes",
          "T. externalizantes",
          "T. externalizantes",
          "T. externalizantes",
          "T. externalizantes",
          "T. externalizantes",
          "T. externalizantes",
          "T. externalizantes",
          "T. externalizantes",
          "T. externalizantes",
          "T. externalizantes",
          "T. externalizantes",
          "T. externalizantes",
          "T. externalizantes",
          "T. externalizantes",
          "T. externalizantes",
          "T. externalizantes",
          "T. externalizantes",
          "T. externalizantes",
          "T. externalizantes",
          "T. externalizantes",
          "T. externalizantes",
          "T. externalizantes",
          "T. externalizantes",
          "T. externalizantes",
          "T. externalizantes",
          "T. externalizantes",
          "T. externalizantes",
          "T. externalizantes",
          "T. externalizantes",
          "T. externalizantes",
          "T. externalizantes",
          "T. externalizantes"
         ],
         "xaxis": "x",
         "yaxis": "y"
        },
        {
         "bingroup": "x",
         "hovertemplate": "GRUPO=%{x}<br>count=%{y}<extra></extra>",
         "legendgroup": "Otros trastornos",
         "marker": {
          "color": "#EF553B",
          "pattern": {
           "shape": ""
          }
         },
         "name": "Otros trastornos",
         "orientation": "v",
         "showlegend": true,
         "texttemplate": "%{value}",
         "type": "histogram",
         "x": [
          "Otros trastornos",
          "Otros trastornos",
          "Otros trastornos",
          "Otros trastornos",
          "Otros trastornos",
          "Otros trastornos",
          "Otros trastornos",
          "Otros trastornos",
          "Otros trastornos",
          "Otros trastornos",
          "Otros trastornos",
          "Otros trastornos",
          "Otros trastornos",
          "Otros trastornos",
          "Otros trastornos",
          "Otros trastornos",
          "Otros trastornos",
          "Otros trastornos",
          "Otros trastornos",
          "Otros trastornos",
          "Otros trastornos",
          "Otros trastornos",
          "Otros trastornos",
          "Otros trastornos",
          "Otros trastornos",
          "Otros trastornos",
          "Otros trastornos",
          "Otros trastornos",
          "Otros trastornos",
          "Otros trastornos",
          "Otros trastornos",
          "Otros trastornos",
          "Otros trastornos",
          "Otros trastornos",
          "Otros trastornos",
          "Otros trastornos",
          "Otros trastornos",
          "Otros trastornos",
          "Otros trastornos",
          "Otros trastornos",
          "Otros trastornos",
          "Otros trastornos",
          "Otros trastornos",
          "Otros trastornos",
          "Otros trastornos",
          "Otros trastornos",
          "Otros trastornos",
          "Otros trastornos",
          "Otros trastornos",
          "Otros trastornos",
          "Otros trastornos",
          "Otros trastornos",
          "Otros trastornos",
          "Otros trastornos",
          "Otros trastornos",
          "Otros trastornos",
          "Otros trastornos",
          "Otros trastornos",
          "Otros trastornos",
          "Otros trastornos",
          "Otros trastornos",
          "Otros trastornos",
          "Otros trastornos",
          "Otros trastornos",
          "Otros trastornos",
          "Otros trastornos",
          "Otros trastornos",
          "Otros trastornos",
          "Otros trastornos",
          "Otros trastornos",
          "Otros trastornos",
          "Otros trastornos",
          "Otros trastornos",
          "Otros trastornos",
          "Otros trastornos",
          "Otros trastornos",
          "Otros trastornos",
          "Otros trastornos",
          "Otros trastornos",
          "Otros trastornos",
          "Otros trastornos",
          "Otros trastornos",
          "Otros trastornos",
          "Otros trastornos",
          "Otros trastornos",
          "Otros trastornos",
          "Otros trastornos",
          "Otros trastornos",
          "Otros trastornos",
          "Otros trastornos",
          "Otros trastornos",
          "Otros trastornos",
          "Otros trastornos",
          "Otros trastornos",
          "Otros trastornos",
          "Otros trastornos",
          "Otros trastornos",
          "Otros trastornos",
          "Otros trastornos",
          "Otros trastornos",
          "Otros trastornos",
          "Otros trastornos",
          "Otros trastornos",
          "Otros trastornos",
          "Otros trastornos",
          "Otros trastornos",
          "Otros trastornos",
          "Otros trastornos",
          "Otros trastornos",
          "Otros trastornos",
          "Otros trastornos",
          "Otros trastornos",
          "Otros trastornos",
          "Otros trastornos",
          "Otros trastornos",
          "Otros trastornos",
          "Otros trastornos",
          "Otros trastornos",
          "Otros trastornos",
          "Otros trastornos",
          "Otros trastornos",
          "Otros trastornos",
          "Otros trastornos",
          "Otros trastornos",
          "Otros trastornos",
          "Otros trastornos",
          "Otros trastornos",
          "Otros trastornos",
          "Otros trastornos",
          "Otros trastornos",
          "Otros trastornos",
          "Otros trastornos",
          "Otros trastornos",
          "Otros trastornos",
          "Otros trastornos",
          "Otros trastornos",
          "Otros trastornos",
          "Otros trastornos",
          "Otros trastornos",
          "Otros trastornos",
          "Otros trastornos",
          "Otros trastornos",
          "Otros trastornos",
          "Otros trastornos",
          "Otros trastornos",
          "Otros trastornos",
          "Otros trastornos",
          "Otros trastornos",
          "Otros trastornos",
          "Otros trastornos",
          "Otros trastornos",
          "Otros trastornos",
          "Otros trastornos",
          "Otros trastornos",
          "Otros trastornos",
          "Otros trastornos",
          "Otros trastornos",
          "Otros trastornos",
          "Otros trastornos",
          "Otros trastornos",
          "Otros trastornos",
          "Otros trastornos",
          "Otros trastornos",
          "Otros trastornos",
          "Otros trastornos",
          "Otros trastornos",
          "Otros trastornos",
          "Otros trastornos",
          "Otros trastornos",
          "Otros trastornos",
          "Otros trastornos",
          "Otros trastornos",
          "Otros trastornos",
          "Otros trastornos",
          "Otros trastornos",
          "Otros trastornos",
          "Otros trastornos",
          "Otros trastornos",
          "Otros trastornos",
          "Otros trastornos",
          "Otros trastornos",
          "Otros trastornos",
          "Otros trastornos",
          "Otros trastornos",
          "Otros trastornos",
          "Otros trastornos",
          "Otros trastornos",
          "Otros trastornos",
          "Otros trastornos",
          "Otros trastornos",
          "Otros trastornos",
          "Otros trastornos",
          "Otros trastornos",
          "Otros trastornos",
          "Otros trastornos",
          "Otros trastornos",
          "Otros trastornos",
          "Otros trastornos",
          "Otros trastornos",
          "Otros trastornos",
          "Otros trastornos",
          "Otros trastornos",
          "Otros trastornos",
          "Otros trastornos",
          "Otros trastornos",
          "Otros trastornos",
          "Otros trastornos",
          "Otros trastornos",
          "Otros trastornos",
          "Otros trastornos",
          "Otros trastornos",
          "Otros trastornos",
          "Otros trastornos",
          "Otros trastornos",
          "Otros trastornos",
          "Otros trastornos",
          "Otros trastornos",
          "Otros trastornos",
          "Otros trastornos",
          "Otros trastornos",
          "Otros trastornos",
          "Otros trastornos",
          "Otros trastornos",
          "Otros trastornos",
          "Otros trastornos",
          "Otros trastornos",
          "Otros trastornos",
          "Otros trastornos",
          "Otros trastornos",
          "Otros trastornos",
          "Otros trastornos",
          "Otros trastornos",
          "Otros trastornos",
          "Otros trastornos",
          "Otros trastornos",
          "Otros trastornos",
          "Otros trastornos",
          "Otros trastornos",
          "Otros trastornos",
          "Otros trastornos",
          "Otros trastornos",
          "Otros trastornos",
          "Otros trastornos",
          "Otros trastornos",
          "Otros trastornos",
          "Otros trastornos",
          "Otros trastornos",
          "Otros trastornos",
          "Otros trastornos",
          "Otros trastornos",
          "Otros trastornos",
          "Otros trastornos",
          "Otros trastornos",
          "Otros trastornos",
          "Otros trastornos",
          "Otros trastornos",
          "Otros trastornos",
          "Otros trastornos",
          "Otros trastornos",
          "Otros trastornos",
          "Otros trastornos",
          "Otros trastornos",
          "Otros trastornos",
          "Otros trastornos",
          "Otros trastornos",
          "Otros trastornos",
          "Otros trastornos",
          "Otros trastornos",
          "Otros trastornos",
          "Otros trastornos",
          "Otros trastornos",
          "Otros trastornos",
          "Otros trastornos",
          "Otros trastornos",
          "Otros trastornos",
          "Otros trastornos",
          "Otros trastornos",
          "Otros trastornos",
          "Otros trastornos",
          "Otros trastornos",
          "Otros trastornos",
          "Otros trastornos",
          "Otros trastornos",
          "Otros trastornos",
          "Otros trastornos",
          "Otros trastornos",
          "Otros trastornos",
          "Otros trastornos",
          "Otros trastornos",
          "Otros trastornos",
          "Otros trastornos",
          "Otros trastornos",
          "Otros trastornos",
          "Otros trastornos",
          "Otros trastornos",
          "Otros trastornos",
          "Otros trastornos",
          "Otros trastornos",
          "Otros trastornos",
          "Otros trastornos",
          "Otros trastornos",
          "Otros trastornos",
          "Otros trastornos",
          "Otros trastornos",
          "Otros trastornos",
          "Otros trastornos",
          "Otros trastornos",
          "Otros trastornos",
          "Otros trastornos",
          "Otros trastornos",
          "Otros trastornos",
          "Otros trastornos",
          "Otros trastornos",
          "Otros trastornos",
          "Otros trastornos",
          "Otros trastornos",
          "Otros trastornos",
          "Otros trastornos",
          "Otros trastornos",
          "Otros trastornos",
          "Otros trastornos",
          "Otros trastornos",
          "Otros trastornos",
          "Otros trastornos",
          "Otros trastornos",
          "Otros trastornos",
          "Otros trastornos",
          "Otros trastornos",
          "Otros trastornos",
          "Otros trastornos",
          "Otros trastornos",
          "Otros trastornos",
          "Otros trastornos",
          "Otros trastornos",
          "Otros trastornos",
          "Otros trastornos",
          "Otros trastornos",
          "Otros trastornos",
          "Otros trastornos",
          "Otros trastornos",
          "Otros trastornos",
          "Otros trastornos",
          "Otros trastornos",
          "Otros trastornos",
          "Otros trastornos",
          "Otros trastornos",
          "Otros trastornos",
          "Otros trastornos",
          "Otros trastornos",
          "Otros trastornos",
          "Otros trastornos",
          "Otros trastornos",
          "Otros trastornos",
          "Otros trastornos",
          "Otros trastornos",
          "Otros trastornos",
          "Otros trastornos",
          "Otros trastornos",
          "Otros trastornos",
          "Otros trastornos",
          "Otros trastornos",
          "Otros trastornos",
          "Otros trastornos",
          "Otros trastornos",
          "Otros trastornos",
          "Otros trastornos",
          "Otros trastornos",
          "Otros trastornos",
          "Otros trastornos",
          "Otros trastornos",
          "Otros trastornos",
          "Otros trastornos",
          "Otros trastornos",
          "Otros trastornos",
          "Otros trastornos",
          "Otros trastornos",
          "Otros trastornos",
          "Otros trastornos",
          "Otros trastornos",
          "Otros trastornos",
          "Otros trastornos",
          "Otros trastornos",
          "Otros trastornos",
          "Otros trastornos",
          "Otros trastornos",
          "Otros trastornos",
          "Otros trastornos",
          "Otros trastornos",
          "Otros trastornos",
          "Otros trastornos",
          "Otros trastornos",
          "Otros trastornos",
          "Otros trastornos",
          "Otros trastornos",
          "Otros trastornos",
          "Otros trastornos",
          "Otros trastornos",
          "Otros trastornos",
          "Otros trastornos",
          "Otros trastornos",
          "Otros trastornos",
          "Otros trastornos",
          "Otros trastornos",
          "Otros trastornos",
          "Otros trastornos",
          "Otros trastornos",
          "Otros trastornos",
          "Otros trastornos",
          "Otros trastornos",
          "Otros trastornos",
          "Otros trastornos",
          "Otros trastornos",
          "Otros trastornos",
          "Otros trastornos",
          "Otros trastornos",
          "Otros trastornos",
          "Otros trastornos",
          "Otros trastornos",
          "Otros trastornos",
          "Otros trastornos",
          "Otros trastornos",
          "Otros trastornos",
          "Otros trastornos",
          "Otros trastornos",
          "Otros trastornos",
          "Otros trastornos",
          "Otros trastornos",
          "Otros trastornos",
          "Otros trastornos",
          "Otros trastornos",
          "Otros trastornos",
          "Otros trastornos",
          "Otros trastornos",
          "Otros trastornos",
          "Otros trastornos",
          "Otros trastornos",
          "Otros trastornos",
          "Otros trastornos",
          "Otros trastornos",
          "Otros trastornos",
          "Otros trastornos",
          "Otros trastornos",
          "Otros trastornos",
          "Otros trastornos",
          "Otros trastornos",
          "Otros trastornos",
          "Otros trastornos",
          "Otros trastornos",
          "Otros trastornos",
          "Otros trastornos",
          "Otros trastornos",
          "Otros trastornos",
          "Otros trastornos",
          "Otros trastornos",
          "Otros trastornos",
          "Otros trastornos",
          "Otros trastornos",
          "Otros trastornos",
          "Otros trastornos",
          "Otros trastornos",
          "Otros trastornos",
          "Otros trastornos",
          "Otros trastornos",
          "Otros trastornos",
          "Otros trastornos",
          "Otros trastornos",
          "Otros trastornos",
          "Otros trastornos",
          "Otros trastornos",
          "Otros trastornos",
          "Otros trastornos",
          "Otros trastornos",
          "Otros trastornos",
          "Otros trastornos",
          "Otros trastornos",
          "Otros trastornos",
          "Otros trastornos",
          "Otros trastornos",
          "Otros trastornos",
          "Otros trastornos",
          "Otros trastornos",
          "Otros trastornos",
          "Otros trastornos",
          "Otros trastornos",
          "Otros trastornos",
          "Otros trastornos",
          "Otros trastornos",
          "Otros trastornos",
          "Otros trastornos",
          "Otros trastornos",
          "Otros trastornos",
          "Otros trastornos",
          "Otros trastornos",
          "Otros trastornos",
          "Otros trastornos",
          "Otros trastornos",
          "Otros trastornos",
          "Otros trastornos",
          "Otros trastornos",
          "Otros trastornos",
          "Otros trastornos",
          "Otros trastornos",
          "Otros trastornos",
          "Otros trastornos",
          "Otros trastornos",
          "Otros trastornos",
          "Otros trastornos",
          "Otros trastornos",
          "Otros trastornos",
          "Otros trastornos",
          "Otros trastornos",
          "Otros trastornos",
          "Otros trastornos",
          "Otros trastornos",
          "Otros trastornos",
          "Otros trastornos",
          "Otros trastornos",
          "Otros trastornos",
          "Otros trastornos",
          "Otros trastornos",
          "Otros trastornos",
          "Otros trastornos",
          "Otros trastornos",
          "Otros trastornos",
          "Otros trastornos",
          "Otros trastornos",
          "Otros trastornos",
          "Otros trastornos",
          "Otros trastornos",
          "Otros trastornos",
          "Otros trastornos",
          "Otros trastornos",
          "Otros trastornos",
          "Otros trastornos",
          "Otros trastornos",
          "Otros trastornos",
          "Otros trastornos",
          "Otros trastornos",
          "Otros trastornos",
          "Otros trastornos",
          "Otros trastornos",
          "Otros trastornos",
          "Otros trastornos",
          "Otros trastornos",
          "Otros trastornos",
          "Otros trastornos",
          "Otros trastornos",
          "Otros trastornos",
          "Otros trastornos",
          "Otros trastornos",
          "Otros trastornos",
          "Otros trastornos",
          "Otros trastornos",
          "Otros trastornos",
          "Otros trastornos",
          "Otros trastornos",
          "Otros trastornos",
          "Otros trastornos",
          "Otros trastornos",
          "Otros trastornos",
          "Otros trastornos",
          "Otros trastornos",
          "Otros trastornos",
          "Otros trastornos",
          "Otros trastornos",
          "Otros trastornos",
          "Otros trastornos",
          "Otros trastornos",
          "Otros trastornos",
          "Otros trastornos",
          "Otros trastornos",
          "Otros trastornos",
          "Otros trastornos",
          "Otros trastornos",
          "Otros trastornos",
          "Otros trastornos",
          "Otros trastornos",
          "Otros trastornos",
          "Otros trastornos",
          "Otros trastornos",
          "Otros trastornos",
          "Otros trastornos",
          "Otros trastornos",
          "Otros trastornos",
          "Otros trastornos",
          "Otros trastornos",
          "Otros trastornos",
          "Otros trastornos",
          "Otros trastornos",
          "Otros trastornos",
          "Otros trastornos",
          "Otros trastornos",
          "Otros trastornos",
          "Otros trastornos",
          "Otros trastornos",
          "Otros trastornos",
          "Otros trastornos",
          "Otros trastornos",
          "Otros trastornos",
          "Otros trastornos",
          "Otros trastornos",
          "Otros trastornos",
          "Otros trastornos",
          "Otros trastornos",
          "Otros trastornos",
          "Otros trastornos",
          "Otros trastornos",
          "Otros trastornos",
          "Otros trastornos",
          "Otros trastornos",
          "Otros trastornos",
          "Otros trastornos",
          "Otros trastornos",
          "Otros trastornos",
          "Otros trastornos",
          "Otros trastornos",
          "Otros trastornos",
          "Otros trastornos",
          "Otros trastornos",
          "Otros trastornos",
          "Otros trastornos",
          "Otros trastornos",
          "Otros trastornos",
          "Otros trastornos",
          "Otros trastornos",
          "Otros trastornos",
          "Otros trastornos",
          "Otros trastornos",
          "Otros trastornos"
         ],
         "xaxis": "x",
         "yaxis": "y"
        },
        {
         "bingroup": "x",
         "hovertemplate": "GRUPO=%{x}<br>count=%{y}<extra></extra>",
         "legendgroup": "T. de adaptación",
         "marker": {
          "color": "#00cc96",
          "pattern": {
           "shape": ""
          }
         },
         "name": "T. de adaptación",
         "orientation": "v",
         "showlegend": true,
         "texttemplate": "%{value}",
         "type": "histogram",
         "x": [
          "T. de adaptación",
          "T. de adaptación",
          "T. de adaptación",
          "T. de adaptación",
          "T. de adaptación",
          "T. de adaptación",
          "T. de adaptación",
          "T. de adaptación",
          "T. de adaptación",
          "T. de adaptación",
          "T. de adaptación",
          "T. de adaptación",
          "T. de adaptación",
          "T. de adaptación",
          "T. de adaptación",
          "T. de adaptación",
          "T. de adaptación",
          "T. de adaptación",
          "T. de adaptación",
          "T. de adaptación",
          "T. de adaptación",
          "T. de adaptación",
          "T. de adaptación",
          "T. de adaptación",
          "T. de adaptación",
          "T. de adaptación",
          "T. de adaptación",
          "T. de adaptación",
          "T. de adaptación",
          "T. de adaptación",
          "T. de adaptación",
          "T. de adaptación",
          "T. de adaptación",
          "T. de adaptación",
          "T. de adaptación",
          "T. de adaptación",
          "T. de adaptación",
          "T. de adaptación",
          "T. de adaptación",
          "T. de adaptación",
          "T. de adaptación",
          "T. de adaptación",
          "T. de adaptación",
          "T. de adaptación",
          "T. de adaptación",
          "T. de adaptación",
          "T. de adaptación",
          "T. de adaptación",
          "T. de adaptación",
          "T. de adaptación",
          "T. de adaptación",
          "T. de adaptación",
          "T. de adaptación",
          "T. de adaptación",
          "T. de adaptación",
          "T. de adaptación",
          "T. de adaptación",
          "T. de adaptación",
          "T. de adaptación",
          "T. de adaptación",
          "T. de adaptación",
          "T. de adaptación",
          "T. de adaptación",
          "T. de adaptación",
          "T. de adaptación",
          "T. de adaptación",
          "T. de adaptación",
          "T. de adaptación",
          "T. de adaptación",
          "T. de adaptación",
          "T. de adaptación",
          "T. de adaptación",
          "T. de adaptación",
          "T. de adaptación",
          "T. de adaptación",
          "T. de adaptación",
          "T. de adaptación",
          "T. de adaptación",
          "T. de adaptación",
          "T. de adaptación",
          "T. de adaptación",
          "T. de adaptación",
          "T. de adaptación",
          "T. de adaptación",
          "T. de adaptación",
          "T. de adaptación",
          "T. de adaptación",
          "T. de adaptación",
          "T. de adaptación",
          "T. de adaptación",
          "T. de adaptación",
          "T. de adaptación",
          "T. de adaptación",
          "T. de adaptación",
          "T. de adaptación",
          "T. de adaptación",
          "T. de adaptación",
          "T. de adaptación",
          "T. de adaptación",
          "T. de adaptación",
          "T. de adaptación",
          "T. de adaptación",
          "T. de adaptación",
          "T. de adaptación",
          "T. de adaptación",
          "T. de adaptación",
          "T. de adaptación",
          "T. de adaptación",
          "T. de adaptación",
          "T. de adaptación",
          "T. de adaptación",
          "T. de adaptación",
          "T. de adaptación",
          "T. de adaptación",
          "T. de adaptación",
          "T. de adaptación",
          "T. de adaptación",
          "T. de adaptación",
          "T. de adaptación",
          "T. de adaptación",
          "T. de adaptación",
          "T. de adaptación",
          "T. de adaptación",
          "T. de adaptación",
          "T. de adaptación",
          "T. de adaptación",
          "T. de adaptación",
          "T. de adaptación",
          "T. de adaptación",
          "T. de adaptación",
          "T. de adaptación",
          "T. de adaptación",
          "T. de adaptación",
          "T. de adaptación",
          "T. de adaptación",
          "T. de adaptación",
          "T. de adaptación",
          "T. de adaptación",
          "T. de adaptación",
          "T. de adaptación",
          "T. de adaptación",
          "T. de adaptación",
          "T. de adaptación",
          "T. de adaptación",
          "T. de adaptación",
          "T. de adaptación",
          "T. de adaptación",
          "T. de adaptación",
          "T. de adaptación",
          "T. de adaptación",
          "T. de adaptación",
          "T. de adaptación",
          "T. de adaptación",
          "T. de adaptación",
          "T. de adaptación",
          "T. de adaptación",
          "T. de adaptación",
          "T. de adaptación",
          "T. de adaptación",
          "T. de adaptación",
          "T. de adaptación",
          "T. de adaptación",
          "T. de adaptación",
          "T. de adaptación",
          "T. de adaptación",
          "T. de adaptación",
          "T. de adaptación",
          "T. de adaptación",
          "T. de adaptación",
          "T. de adaptación",
          "T. de adaptación",
          "T. de adaptación",
          "T. de adaptación",
          "T. de adaptación",
          "T. de adaptación",
          "T. de adaptación",
          "T. de adaptación",
          "T. de adaptación",
          "T. de adaptación",
          "T. de adaptación",
          "T. de adaptación",
          "T. de adaptación",
          "T. de adaptación",
          "T. de adaptación",
          "T. de adaptación",
          "T. de adaptación",
          "T. de adaptación",
          "T. de adaptación",
          "T. de adaptación",
          "T. de adaptación",
          "T. de adaptación",
          "T. de adaptación",
          "T. de adaptación",
          "T. de adaptación",
          "T. de adaptación",
          "T. de adaptación",
          "T. de adaptación",
          "T. de adaptación",
          "T. de adaptación",
          "T. de adaptación",
          "T. de adaptación",
          "T. de adaptación",
          "T. de adaptación",
          "T. de adaptación",
          "T. de adaptación",
          "T. de adaptación",
          "T. de adaptación",
          "T. de adaptación",
          "T. de adaptación",
          "T. de adaptación",
          "T. de adaptación",
          "T. de adaptación",
          "T. de adaptación",
          "T. de adaptación"
         ],
         "xaxis": "x",
         "yaxis": "y"
        },
        {
         "bingroup": "x",
         "hovertemplate": "GRUPO=%{x}<br>count=%{y}<extra></extra>",
         "legendgroup": "T. personalidad",
         "marker": {
          "color": "#ab63fa",
          "pattern": {
           "shape": ""
          }
         },
         "name": "T. personalidad",
         "orientation": "v",
         "showlegend": true,
         "texttemplate": "%{value}",
         "type": "histogram",
         "x": [
          "T. personalidad",
          "T. personalidad",
          "T. personalidad",
          "T. personalidad",
          "T. personalidad",
          "T. personalidad",
          "T. personalidad",
          "T. personalidad",
          "T. personalidad",
          "T. personalidad",
          "T. personalidad",
          "T. personalidad",
          "T. personalidad",
          "T. personalidad",
          "T. personalidad",
          "T. personalidad",
          "T. personalidad",
          "T. personalidad",
          "T. personalidad",
          "T. personalidad",
          "T. personalidad",
          "T. personalidad",
          "T. personalidad",
          "T. personalidad",
          "T. personalidad",
          "T. personalidad",
          "T. personalidad",
          "T. personalidad",
          "T. personalidad",
          "T. personalidad",
          "T. personalidad",
          "T. personalidad",
          "T. personalidad",
          "T. personalidad",
          "T. personalidad",
          "T. personalidad",
          "T. personalidad",
          "T. personalidad",
          "T. personalidad",
          "T. personalidad",
          "T. personalidad",
          "T. personalidad",
          "T. personalidad",
          "T. personalidad",
          "T. personalidad",
          "T. personalidad",
          "T. personalidad",
          "T. personalidad",
          "T. personalidad",
          "T. personalidad",
          "T. personalidad",
          "T. personalidad",
          "T. personalidad",
          "T. personalidad",
          "T. personalidad",
          "T. personalidad",
          "T. personalidad",
          "T. personalidad",
          "T. personalidad",
          "T. personalidad",
          "T. personalidad",
          "T. personalidad",
          "T. personalidad",
          "T. personalidad",
          "T. personalidad",
          "T. personalidad",
          "T. personalidad",
          "T. personalidad",
          "T. personalidad",
          "T. personalidad",
          "T. personalidad",
          "T. personalidad",
          "T. personalidad",
          "T. personalidad",
          "T. personalidad",
          "T. personalidad",
          "T. personalidad",
          "T. personalidad",
          "T. personalidad",
          "T. personalidad",
          "T. personalidad",
          "T. personalidad",
          "T. personalidad",
          "T. personalidad",
          "T. personalidad",
          "T. personalidad",
          "T. personalidad",
          "T. personalidad",
          "T. personalidad",
          "T. personalidad",
          "T. personalidad",
          "T. personalidad",
          "T. personalidad",
          "T. personalidad",
          "T. personalidad",
          "T. personalidad",
          "T. personalidad",
          "T. personalidad",
          "T. personalidad",
          "T. personalidad",
          "T. personalidad",
          "T. personalidad",
          "T. personalidad",
          "T. personalidad",
          "T. personalidad",
          "T. personalidad",
          "T. personalidad",
          "T. personalidad",
          "T. personalidad",
          "T. personalidad",
          "T. personalidad",
          "T. personalidad",
          "T. personalidad",
          "T. personalidad",
          "T. personalidad",
          "T. personalidad",
          "T. personalidad",
          "T. personalidad",
          "T. personalidad",
          "T. personalidad",
          "T. personalidad",
          "T. personalidad",
          "T. personalidad",
          "T. personalidad",
          "T. personalidad",
          "T. personalidad",
          "T. personalidad",
          "T. personalidad",
          "T. personalidad",
          "T. personalidad",
          "T. personalidad",
          "T. personalidad",
          "T. personalidad",
          "T. personalidad",
          "T. personalidad",
          "T. personalidad",
          "T. personalidad",
          "T. personalidad",
          "T. personalidad",
          "T. personalidad",
          "T. personalidad",
          "T. personalidad",
          "T. personalidad",
          "T. personalidad",
          "T. personalidad",
          "T. personalidad",
          "T. personalidad",
          "T. personalidad",
          "T. personalidad",
          "T. personalidad",
          "T. personalidad",
          "T. personalidad",
          "T. personalidad",
          "T. personalidad",
          "T. personalidad",
          "T. personalidad",
          "T. personalidad",
          "T. personalidad",
          "T. personalidad",
          "T. personalidad",
          "T. personalidad",
          "T. personalidad",
          "T. personalidad",
          "T. personalidad",
          "T. personalidad",
          "T. personalidad",
          "T. personalidad",
          "T. personalidad",
          "T. personalidad",
          "T. personalidad",
          "T. personalidad",
          "T. personalidad",
          "T. personalidad",
          "T. personalidad",
          "T. personalidad",
          "T. personalidad",
          "T. personalidad",
          "T. personalidad",
          "T. personalidad",
          "T. personalidad",
          "T. personalidad",
          "T. personalidad",
          "T. personalidad",
          "T. personalidad",
          "T. personalidad",
          "T. personalidad",
          "T. personalidad",
          "T. personalidad",
          "T. personalidad",
          "T. personalidad",
          "T. personalidad",
          "T. personalidad",
          "T. personalidad",
          "T. personalidad",
          "T. personalidad",
          "T. personalidad",
          "T. personalidad",
          "T. personalidad",
          "T. personalidad",
          "T. personalidad",
          "T. personalidad",
          "T. personalidad",
          "T. personalidad",
          "T. personalidad",
          "T. personalidad",
          "T. personalidad",
          "T. personalidad",
          "T. personalidad",
          "T. personalidad",
          "T. personalidad",
          "T. personalidad",
          "T. personalidad",
          "T. personalidad",
          "T. personalidad",
          "T. personalidad",
          "T. personalidad",
          "T. personalidad",
          "T. personalidad",
          "T. personalidad",
          "T. personalidad",
          "T. personalidad",
          "T. personalidad",
          "T. personalidad",
          "T. personalidad",
          "T. personalidad",
          "T. personalidad",
          "T. personalidad",
          "T. personalidad",
          "T. personalidad",
          "T. personalidad",
          "T. personalidad",
          "T. personalidad",
          "T. personalidad",
          "T. personalidad",
          "T. personalidad",
          "T. personalidad",
          "T. personalidad",
          "T. personalidad",
          "T. personalidad",
          "T. personalidad",
          "T. personalidad",
          "T. personalidad",
          "T. personalidad",
          "T. personalidad",
          "T. personalidad",
          "T. personalidad",
          "T. personalidad",
          "T. personalidad",
          "T. personalidad",
          "T. personalidad",
          "T. personalidad",
          "T. personalidad",
          "T. personalidad",
          "T. personalidad",
          "T. personalidad",
          "T. personalidad",
          "T. personalidad",
          "T. personalidad",
          "T. personalidad",
          "T. personalidad",
          "T. personalidad",
          "T. personalidad",
          "T. personalidad",
          "T. personalidad",
          "T. personalidad",
          "T. personalidad",
          "T. personalidad",
          "T. personalidad",
          "T. personalidad",
          "T. personalidad",
          "T. personalidad",
          "T. personalidad",
          "T. personalidad",
          "T. personalidad",
          "T. personalidad",
          "T. personalidad",
          "T. personalidad",
          "T. personalidad",
          "T. personalidad",
          "T. personalidad",
          "T. personalidad",
          "T. personalidad",
          "T. personalidad",
          "T. personalidad",
          "T. personalidad",
          "T. personalidad",
          "T. personalidad",
          "T. personalidad",
          "T. personalidad",
          "T. personalidad",
          "T. personalidad",
          "T. personalidad",
          "T. personalidad",
          "T. personalidad",
          "T. personalidad",
          "T. personalidad",
          "T. personalidad",
          "T. personalidad",
          "T. personalidad",
          "T. personalidad",
          "T. personalidad",
          "T. personalidad",
          "T. personalidad",
          "T. personalidad",
          "T. personalidad",
          "T. personalidad",
          "T. personalidad",
          "T. personalidad",
          "T. personalidad",
          "T. personalidad",
          "T. personalidad",
          "T. personalidad",
          "T. personalidad"
         ],
         "xaxis": "x",
         "yaxis": "y"
        },
        {
         "bingroup": "x",
         "hovertemplate": "GRUPO=%{x}<br>count=%{y}<extra></extra>",
         "legendgroup": "T. de ansiedad",
         "marker": {
          "color": "#FFA15A",
          "pattern": {
           "shape": ""
          }
         },
         "name": "T. de ansiedad",
         "orientation": "v",
         "showlegend": true,
         "texttemplate": "%{value}",
         "type": "histogram",
         "x": [
          "T. de ansiedad",
          "T. de ansiedad",
          "T. de ansiedad",
          "T. de ansiedad",
          "T. de ansiedad",
          "T. de ansiedad",
          "T. de ansiedad",
          "T. de ansiedad",
          "T. de ansiedad",
          "T. de ansiedad",
          "T. de ansiedad",
          "T. de ansiedad",
          "T. de ansiedad",
          "T. de ansiedad",
          "T. de ansiedad",
          "T. de ansiedad",
          "T. de ansiedad",
          "T. de ansiedad",
          "T. de ansiedad",
          "T. de ansiedad",
          "T. de ansiedad",
          "T. de ansiedad",
          "T. de ansiedad",
          "T. de ansiedad",
          "T. de ansiedad",
          "T. de ansiedad",
          "T. de ansiedad",
          "T. de ansiedad",
          "T. de ansiedad",
          "T. de ansiedad",
          "T. de ansiedad",
          "T. de ansiedad",
          "T. de ansiedad",
          "T. de ansiedad",
          "T. de ansiedad",
          "T. de ansiedad",
          "T. de ansiedad",
          "T. de ansiedad",
          "T. de ansiedad",
          "T. de ansiedad",
          "T. de ansiedad",
          "T. de ansiedad",
          "T. de ansiedad",
          "T. de ansiedad",
          "T. de ansiedad",
          "T. de ansiedad",
          "T. de ansiedad",
          "T. de ansiedad",
          "T. de ansiedad",
          "T. de ansiedad",
          "T. de ansiedad",
          "T. de ansiedad",
          "T. de ansiedad",
          "T. de ansiedad",
          "T. de ansiedad",
          "T. de ansiedad",
          "T. de ansiedad",
          "T. de ansiedad",
          "T. de ansiedad",
          "T. de ansiedad",
          "T. de ansiedad",
          "T. de ansiedad",
          "T. de ansiedad",
          "T. de ansiedad",
          "T. de ansiedad",
          "T. de ansiedad",
          "T. de ansiedad",
          "T. de ansiedad",
          "T. de ansiedad",
          "T. de ansiedad",
          "T. de ansiedad",
          "T. de ansiedad",
          "T. de ansiedad",
          "T. de ansiedad",
          "T. de ansiedad",
          "T. de ansiedad",
          "T. de ansiedad",
          "T. de ansiedad",
          "T. de ansiedad",
          "T. de ansiedad",
          "T. de ansiedad",
          "T. de ansiedad",
          "T. de ansiedad",
          "T. de ansiedad",
          "T. de ansiedad",
          "T. de ansiedad",
          "T. de ansiedad",
          "T. de ansiedad",
          "T. de ansiedad",
          "T. de ansiedad",
          "T. de ansiedad",
          "T. de ansiedad",
          "T. de ansiedad",
          "T. de ansiedad",
          "T. de ansiedad",
          "T. de ansiedad",
          "T. de ansiedad",
          "T. de ansiedad",
          "T. de ansiedad",
          "T. de ansiedad",
          "T. de ansiedad",
          "T. de ansiedad",
          "T. de ansiedad",
          "T. de ansiedad",
          "T. de ansiedad",
          "T. de ansiedad",
          "T. de ansiedad",
          "T. de ansiedad",
          "T. de ansiedad",
          "T. de ansiedad",
          "T. de ansiedad",
          "T. de ansiedad",
          "T. de ansiedad",
          "T. de ansiedad",
          "T. de ansiedad",
          "T. de ansiedad",
          "T. de ansiedad",
          "T. de ansiedad",
          "T. de ansiedad",
          "T. de ansiedad",
          "T. de ansiedad",
          "T. de ansiedad",
          "T. de ansiedad",
          "T. de ansiedad",
          "T. de ansiedad",
          "T. de ansiedad",
          "T. de ansiedad",
          "T. de ansiedad",
          "T. de ansiedad",
          "T. de ansiedad",
          "T. de ansiedad",
          "T. de ansiedad",
          "T. de ansiedad",
          "T. de ansiedad",
          "T. de ansiedad",
          "T. de ansiedad",
          "T. de ansiedad",
          "T. de ansiedad",
          "T. de ansiedad",
          "T. de ansiedad",
          "T. de ansiedad",
          "T. de ansiedad",
          "T. de ansiedad",
          "T. de ansiedad",
          "T. de ansiedad",
          "T. de ansiedad",
          "T. de ansiedad",
          "T. de ansiedad",
          "T. de ansiedad",
          "T. de ansiedad",
          "T. de ansiedad",
          "T. de ansiedad",
          "T. de ansiedad",
          "T. de ansiedad",
          "T. de ansiedad",
          "T. de ansiedad",
          "T. de ansiedad",
          "T. de ansiedad",
          "T. de ansiedad",
          "T. de ansiedad",
          "T. de ansiedad",
          "T. de ansiedad",
          "T. de ansiedad",
          "T. de ansiedad",
          "T. de ansiedad",
          "T. de ansiedad",
          "T. de ansiedad",
          "T. de ansiedad",
          "T. de ansiedad",
          "T. de ansiedad",
          "T. de ansiedad",
          "T. de ansiedad",
          "T. de ansiedad",
          "T. de ansiedad",
          "T. de ansiedad",
          "T. de ansiedad",
          "T. de ansiedad",
          "T. de ansiedad",
          "T. de ansiedad",
          "T. de ansiedad",
          "T. de ansiedad",
          "T. de ansiedad",
          "T. de ansiedad",
          "T. de ansiedad",
          "T. de ansiedad",
          "T. de ansiedad",
          "T. de ansiedad",
          "T. de ansiedad",
          "T. de ansiedad",
          "T. de ansiedad",
          "T. de ansiedad",
          "T. de ansiedad",
          "T. de ansiedad",
          "T. de ansiedad",
          "T. de ansiedad",
          "T. de ansiedad",
          "T. de ansiedad",
          "T. de ansiedad",
          "T. de ansiedad",
          "T. de ansiedad",
          "T. de ansiedad",
          "T. de ansiedad",
          "T. de ansiedad",
          "T. de ansiedad",
          "T. de ansiedad",
          "T. de ansiedad",
          "T. de ansiedad",
          "T. de ansiedad",
          "T. de ansiedad",
          "T. de ansiedad",
          "T. de ansiedad",
          "T. de ansiedad",
          "T. de ansiedad",
          "T. de ansiedad",
          "T. de ansiedad",
          "T. de ansiedad",
          "T. de ansiedad",
          "T. de ansiedad",
          "T. de ansiedad",
          "T. de ansiedad",
          "T. de ansiedad",
          "T. de ansiedad",
          "T. de ansiedad",
          "T. de ansiedad",
          "T. de ansiedad",
          "T. de ansiedad",
          "T. de ansiedad",
          "T. de ansiedad",
          "T. de ansiedad",
          "T. de ansiedad",
          "T. de ansiedad",
          "T. de ansiedad",
          "T. de ansiedad",
          "T. de ansiedad",
          "T. de ansiedad",
          "T. de ansiedad",
          "T. de ansiedad",
          "T. de ansiedad",
          "T. de ansiedad",
          "T. de ansiedad",
          "T. de ansiedad",
          "T. de ansiedad",
          "T. de ansiedad",
          "T. de ansiedad",
          "T. de ansiedad",
          "T. de ansiedad",
          "T. de ansiedad",
          "T. de ansiedad",
          "T. de ansiedad",
          "T. de ansiedad",
          "T. de ansiedad",
          "T. de ansiedad",
          "T. de ansiedad",
          "T. de ansiedad",
          "T. de ansiedad",
          "T. de ansiedad",
          "T. de ansiedad",
          "T. de ansiedad",
          "T. de ansiedad",
          "T. de ansiedad",
          "T. de ansiedad",
          "T. de ansiedad",
          "T. de ansiedad",
          "T. de ansiedad",
          "T. de ansiedad",
          "T. de ansiedad",
          "T. de ansiedad",
          "T. de ansiedad",
          "T. de ansiedad",
          "T. de ansiedad",
          "T. de ansiedad",
          "T. de ansiedad",
          "T. de ansiedad",
          "T. de ansiedad",
          "T. de ansiedad",
          "T. de ansiedad",
          "T. de ansiedad",
          "T. de ansiedad",
          "T. de ansiedad",
          "T. de ansiedad",
          "T. de ansiedad",
          "T. de ansiedad",
          "T. de ansiedad",
          "T. de ansiedad",
          "T. de ansiedad",
          "T. de ansiedad",
          "T. de ansiedad",
          "T. de ansiedad",
          "T. de ansiedad",
          "T. de ansiedad",
          "T. de ansiedad",
          "T. de ansiedad",
          "T. de ansiedad",
          "T. de ansiedad",
          "T. de ansiedad",
          "T. de ansiedad",
          "T. de ansiedad",
          "T. de ansiedad",
          "T. de ansiedad",
          "T. de ansiedad",
          "T. de ansiedad",
          "T. de ansiedad",
          "T. de ansiedad",
          "T. de ansiedad",
          "T. de ansiedad",
          "T. de ansiedad",
          "T. de ansiedad",
          "T. de ansiedad",
          "T. de ansiedad",
          "T. de ansiedad",
          "T. de ansiedad",
          "T. de ansiedad",
          "T. de ansiedad",
          "T. de ansiedad",
          "T. de ansiedad",
          "T. de ansiedad",
          "T. de ansiedad",
          "T. de ansiedad",
          "T. de ansiedad",
          "T. de ansiedad",
          "T. de ansiedad",
          "T. de ansiedad",
          "T. de ansiedad",
          "T. de ansiedad",
          "T. de ansiedad",
          "T. de ansiedad",
          "T. de ansiedad",
          "T. de ansiedad",
          "T. de ansiedad",
          "T. de ansiedad",
          "T. de ansiedad",
          "T. de ansiedad",
          "T. de ansiedad",
          "T. de ansiedad",
          "T. de ansiedad",
          "T. de ansiedad",
          "T. de ansiedad",
          "T. de ansiedad",
          "T. de ansiedad",
          "T. de ansiedad",
          "T. de ansiedad",
          "T. de ansiedad",
          "T. de ansiedad",
          "T. de ansiedad",
          "T. de ansiedad",
          "T. de ansiedad",
          "T. de ansiedad",
          "T. de ansiedad",
          "T. de ansiedad",
          "T. de ansiedad",
          "T. de ansiedad",
          "T. de ansiedad",
          "T. de ansiedad",
          "T. de ansiedad",
          "T. de ansiedad",
          "T. de ansiedad",
          "T. de ansiedad",
          "T. de ansiedad",
          "T. de ansiedad",
          "T. de ansiedad",
          "T. de ansiedad",
          "T. de ansiedad",
          "T. de ansiedad",
          "T. de ansiedad",
          "T. de ansiedad",
          "T. de ansiedad",
          "T. de ansiedad",
          "T. de ansiedad",
          "T. de ansiedad",
          "T. de ansiedad",
          "T. de ansiedad",
          "T. de ansiedad",
          "T. de ansiedad",
          "T. de ansiedad",
          "T. de ansiedad",
          "T. de ansiedad",
          "T. de ansiedad",
          "T. de ansiedad",
          "T. de ansiedad",
          "T. de ansiedad",
          "T. de ansiedad",
          "T. de ansiedad",
          "T. de ansiedad",
          "T. de ansiedad",
          "T. de ansiedad",
          "T. de ansiedad",
          "T. de ansiedad",
          "T. de ansiedad",
          "T. de ansiedad",
          "T. de ansiedad",
          "T. de ansiedad",
          "T. de ansiedad",
          "T. de ansiedad",
          "T. de ansiedad",
          "T. de ansiedad",
          "T. de ansiedad",
          "T. de ansiedad",
          "T. de ansiedad",
          "T. de ansiedad",
          "T. de ansiedad",
          "T. de ansiedad",
          "T. de ansiedad",
          "T. de ansiedad",
          "T. de ansiedad",
          "T. de ansiedad",
          "T. de ansiedad",
          "T. de ansiedad",
          "T. de ansiedad",
          "T. de ansiedad",
          "T. de ansiedad",
          "T. de ansiedad",
          "T. de ansiedad",
          "T. de ansiedad",
          "T. de ansiedad",
          "T. de ansiedad",
          "T. de ansiedad",
          "T. de ansiedad",
          "T. de ansiedad",
          "T. de ansiedad",
          "T. de ansiedad",
          "T. de ansiedad",
          "T. de ansiedad",
          "T. de ansiedad",
          "T. de ansiedad",
          "T. de ansiedad",
          "T. de ansiedad",
          "T. de ansiedad",
          "T. de ansiedad",
          "T. de ansiedad",
          "T. de ansiedad",
          "T. de ansiedad",
          "T. de ansiedad",
          "T. de ansiedad",
          "T. de ansiedad",
          "T. de ansiedad",
          "T. de ansiedad",
          "T. de ansiedad",
          "T. de ansiedad",
          "T. de ansiedad",
          "T. de ansiedad",
          "T. de ansiedad",
          "T. de ansiedad",
          "T. de ansiedad",
          "T. de ansiedad",
          "T. de ansiedad",
          "T. de ansiedad",
          "T. de ansiedad",
          "T. de ansiedad",
          "T. de ansiedad",
          "T. de ansiedad",
          "T. de ansiedad",
          "T. de ansiedad",
          "T. de ansiedad",
          "T. de ansiedad",
          "T. de ansiedad",
          "T. de ansiedad",
          "T. de ansiedad",
          "T. de ansiedad",
          "T. de ansiedad",
          "T. de ansiedad",
          "T. de ansiedad",
          "T. de ansiedad",
          "T. de ansiedad",
          "T. de ansiedad",
          "T. de ansiedad",
          "T. de ansiedad",
          "T. de ansiedad",
          "T. de ansiedad",
          "T. de ansiedad",
          "T. de ansiedad",
          "T. de ansiedad",
          "T. de ansiedad",
          "T. de ansiedad",
          "T. de ansiedad",
          "T. de ansiedad",
          "T. de ansiedad",
          "T. de ansiedad",
          "T. de ansiedad",
          "T. de ansiedad",
          "T. de ansiedad",
          "T. de ansiedad",
          "T. de ansiedad",
          "T. de ansiedad",
          "T. de ansiedad",
          "T. de ansiedad",
          "T. de ansiedad",
          "T. de ansiedad",
          "T. de ansiedad",
          "T. de ansiedad",
          "T. de ansiedad",
          "T. de ansiedad",
          "T. de ansiedad",
          "T. de ansiedad",
          "T. de ansiedad",
          "T. de ansiedad",
          "T. de ansiedad",
          "T. de ansiedad",
          "T. de ansiedad",
          "T. de ansiedad",
          "T. de ansiedad",
          "T. de ansiedad",
          "T. de ansiedad",
          "T. de ansiedad",
          "T. de ansiedad",
          "T. de ansiedad",
          "T. de ansiedad",
          "T. de ansiedad",
          "T. de ansiedad",
          "T. de ansiedad",
          "T. de ansiedad",
          "T. de ansiedad",
          "T. de ansiedad",
          "T. de ansiedad",
          "T. de ansiedad",
          "T. de ansiedad",
          "T. de ansiedad",
          "T. de ansiedad",
          "T. de ansiedad",
          "T. de ansiedad",
          "T. de ansiedad",
          "T. de ansiedad",
          "T. de ansiedad",
          "T. de ansiedad",
          "T. de ansiedad",
          "T. de ansiedad",
          "T. de ansiedad",
          "T. de ansiedad",
          "T. de ansiedad",
          "T. de ansiedad",
          "T. de ansiedad",
          "T. de ansiedad",
          "T. de ansiedad",
          "T. de ansiedad",
          "T. de ansiedad",
          "T. de ansiedad",
          "T. de ansiedad",
          "T. de ansiedad",
          "T. de ansiedad",
          "T. de ansiedad",
          "T. de ansiedad",
          "T. de ansiedad",
          "T. de ansiedad",
          "T. de ansiedad",
          "T. de ansiedad",
          "T. de ansiedad",
          "T. de ansiedad",
          "T. de ansiedad",
          "T. de ansiedad",
          "T. de ansiedad",
          "T. de ansiedad",
          "T. de ansiedad",
          "T. de ansiedad",
          "T. de ansiedad",
          "T. de ansiedad",
          "T. de ansiedad",
          "T. de ansiedad",
          "T. de ansiedad",
          "T. de ansiedad",
          "T. de ansiedad",
          "T. de ansiedad",
          "T. de ansiedad",
          "T. de ansiedad",
          "T. de ansiedad",
          "T. de ansiedad",
          "T. de ansiedad",
          "T. de ansiedad",
          "T. de ansiedad",
          "T. de ansiedad",
          "T. de ansiedad",
          "T. de ansiedad",
          "T. de ansiedad",
          "T. de ansiedad",
          "T. de ansiedad",
          "T. de ansiedad",
          "T. de ansiedad",
          "T. de ansiedad",
          "T. de ansiedad",
          "T. de ansiedad",
          "T. de ansiedad",
          "T. de ansiedad",
          "T. de ansiedad",
          "T. de ansiedad",
          "T. de ansiedad",
          "T. de ansiedad",
          "T. de ansiedad",
          "T. de ansiedad",
          "T. de ansiedad",
          "T. de ansiedad",
          "T. de ansiedad",
          "T. de ansiedad",
          "T. de ansiedad",
          "T. de ansiedad",
          "T. de ansiedad",
          "T. de ansiedad",
          "T. de ansiedad",
          "T. de ansiedad",
          "T. de ansiedad",
          "T. de ansiedad",
          "T. de ansiedad",
          "T. de ansiedad",
          "T. de ansiedad",
          "T. de ansiedad",
          "T. de ansiedad",
          "T. de ansiedad",
          "T. de ansiedad",
          "T. de ansiedad",
          "T. de ansiedad",
          "T. de ansiedad",
          "T. de ansiedad",
          "T. de ansiedad",
          "T. de ansiedad",
          "T. de ansiedad",
          "T. de ansiedad",
          "T. de ansiedad",
          "T. de ansiedad",
          "T. de ansiedad",
          "T. de ansiedad",
          "T. de ansiedad",
          "T. de ansiedad",
          "T. de ansiedad",
          "T. de ansiedad",
          "T. de ansiedad",
          "T. de ansiedad",
          "T. de ansiedad",
          "T. de ansiedad",
          "T. de ansiedad",
          "T. de ansiedad",
          "T. de ansiedad",
          "T. de ansiedad",
          "T. de ansiedad",
          "T. de ansiedad",
          "T. de ansiedad",
          "T. de ansiedad",
          "T. de ansiedad",
          "T. de ansiedad",
          "T. de ansiedad",
          "T. de ansiedad",
          "T. de ansiedad",
          "T. de ansiedad",
          "T. de ansiedad",
          "T. de ansiedad",
          "T. de ansiedad",
          "T. de ansiedad",
          "T. de ansiedad",
          "T. de ansiedad",
          "T. de ansiedad",
          "T. de ansiedad",
          "T. de ansiedad",
          "T. de ansiedad",
          "T. de ansiedad",
          "T. de ansiedad",
          "T. de ansiedad",
          "T. de ansiedad",
          "T. de ansiedad",
          "T. de ansiedad",
          "T. de ansiedad",
          "T. de ansiedad",
          "T. de ansiedad",
          "T. de ansiedad",
          "T. de ansiedad",
          "T. de ansiedad",
          "T. de ansiedad",
          "T. de ansiedad",
          "T. de ansiedad",
          "T. de ansiedad",
          "T. de ansiedad",
          "T. de ansiedad",
          "T. de ansiedad",
          "T. de ansiedad",
          "T. de ansiedad",
          "T. de ansiedad",
          "T. de ansiedad",
          "T. de ansiedad",
          "T. de ansiedad",
          "T. de ansiedad",
          "T. de ansiedad",
          "T. de ansiedad",
          "T. de ansiedad",
          "T. de ansiedad",
          "T. de ansiedad",
          "T. de ansiedad",
          "T. de ansiedad",
          "T. de ansiedad",
          "T. de ansiedad",
          "T. de ansiedad",
          "T. de ansiedad",
          "T. de ansiedad",
          "T. de ansiedad",
          "T. de ansiedad",
          "T. de ansiedad",
          "T. de ansiedad",
          "T. de ansiedad",
          "T. de ansiedad",
          "T. de ansiedad",
          "T. de ansiedad",
          "T. de ansiedad",
          "T. de ansiedad",
          "T. de ansiedad",
          "T. de ansiedad",
          "T. de ansiedad",
          "T. de ansiedad",
          "T. de ansiedad",
          "T. de ansiedad",
          "T. de ansiedad",
          "T. de ansiedad",
          "T. de ansiedad",
          "T. de ansiedad",
          "T. de ansiedad",
          "T. de ansiedad",
          "T. de ansiedad",
          "T. de ansiedad",
          "T. de ansiedad",
          "T. de ansiedad",
          "T. de ansiedad",
          "T. de ansiedad",
          "T. de ansiedad",
          "T. de ansiedad",
          "T. de ansiedad",
          "T. de ansiedad",
          "T. de ansiedad",
          "T. de ansiedad",
          "T. de ansiedad",
          "T. de ansiedad",
          "T. de ansiedad",
          "T. de ansiedad",
          "T. de ansiedad",
          "T. de ansiedad",
          "T. de ansiedad",
          "T. de ansiedad",
          "T. de ansiedad",
          "T. de ansiedad",
          "T. de ansiedad",
          "T. de ansiedad",
          "T. de ansiedad",
          "T. de ansiedad",
          "T. de ansiedad",
          "T. de ansiedad",
          "T. de ansiedad",
          "T. de ansiedad",
          "T. de ansiedad",
          "T. de ansiedad",
          "T. de ansiedad",
          "T. de ansiedad",
          "T. de ansiedad",
          "T. de ansiedad",
          "T. de ansiedad",
          "T. de ansiedad",
          "T. de ansiedad",
          "T. de ansiedad",
          "T. de ansiedad",
          "T. de ansiedad",
          "T. de ansiedad",
          "T. de ansiedad",
          "T. de ansiedad",
          "T. de ansiedad",
          "T. de ansiedad",
          "T. de ansiedad",
          "T. de ansiedad",
          "T. de ansiedad",
          "T. de ansiedad",
          "T. de ansiedad",
          "T. de ansiedad",
          "T. de ansiedad",
          "T. de ansiedad",
          "T. de ansiedad",
          "T. de ansiedad",
          "T. de ansiedad",
          "T. de ansiedad",
          "T. de ansiedad",
          "T. de ansiedad",
          "T. de ansiedad",
          "T. de ansiedad",
          "T. de ansiedad",
          "T. de ansiedad",
          "T. de ansiedad",
          "T. de ansiedad",
          "T. de ansiedad",
          "T. de ansiedad",
          "T. de ansiedad",
          "T. de ansiedad",
          "T. de ansiedad",
          "T. de ansiedad",
          "T. de ansiedad",
          "T. de ansiedad",
          "T. de ansiedad",
          "T. de ansiedad",
          "T. de ansiedad",
          "T. de ansiedad",
          "T. de ansiedad",
          "T. de ansiedad",
          "T. de ansiedad",
          "T. de ansiedad",
          "T. de ansiedad",
          "T. de ansiedad",
          "T. de ansiedad",
          "T. de ansiedad",
          "T. de ansiedad",
          "T. de ansiedad",
          "T. de ansiedad",
          "T. de ansiedad",
          "T. de ansiedad",
          "T. de ansiedad",
          "T. de ansiedad",
          "T. de ansiedad",
          "T. de ansiedad",
          "T. de ansiedad",
          "T. de ansiedad",
          "T. de ansiedad",
          "T. de ansiedad",
          "T. de ansiedad",
          "T. de ansiedad",
          "T. de ansiedad",
          "T. de ansiedad",
          "T. de ansiedad",
          "T. de ansiedad",
          "T. de ansiedad",
          "T. de ansiedad"
         ],
         "xaxis": "x",
         "yaxis": "y"
        },
        {
         "bingroup": "x",
         "hovertemplate": "GRUPO=%{x}<br>count=%{y}<extra></extra>",
         "legendgroup": "T. depresivos",
         "marker": {
          "color": "#19d3f3",
          "pattern": {
           "shape": ""
          }
         },
         "name": "T. depresivos",
         "orientation": "v",
         "showlegend": true,
         "texttemplate": "%{value}",
         "type": "histogram",
         "x": [
          "T. depresivos",
          "T. depresivos",
          "T. depresivos",
          "T. depresivos",
          "T. depresivos",
          "T. depresivos",
          "T. depresivos",
          "T. depresivos",
          "T. depresivos",
          "T. depresivos",
          "T. depresivos",
          "T. depresivos",
          "T. depresivos",
          "T. depresivos",
          "T. depresivos",
          "T. depresivos",
          "T. depresivos",
          "T. depresivos",
          "T. depresivos",
          "T. depresivos",
          "T. depresivos",
          "T. depresivos",
          "T. depresivos",
          "T. depresivos",
          "T. depresivos",
          "T. depresivos",
          "T. depresivos",
          "T. depresivos",
          "T. depresivos",
          "T. depresivos",
          "T. depresivos",
          "T. depresivos",
          "T. depresivos",
          "T. depresivos",
          "T. depresivos",
          "T. depresivos",
          "T. depresivos",
          "T. depresivos",
          "T. depresivos",
          "T. depresivos",
          "T. depresivos",
          "T. depresivos",
          "T. depresivos",
          "T. depresivos",
          "T. depresivos",
          "T. depresivos",
          "T. depresivos",
          "T. depresivos",
          "T. depresivos",
          "T. depresivos",
          "T. depresivos",
          "T. depresivos",
          "T. depresivos",
          "T. depresivos",
          "T. depresivos",
          "T. depresivos",
          "T. depresivos",
          "T. depresivos",
          "T. depresivos",
          "T. depresivos",
          "T. depresivos",
          "T. depresivos",
          "T. depresivos",
          "T. depresivos",
          "T. depresivos",
          "T. depresivos",
          "T. depresivos",
          "T. depresivos",
          "T. depresivos",
          "T. depresivos",
          "T. depresivos",
          "T. depresivos",
          "T. depresivos",
          "T. depresivos",
          "T. depresivos",
          "T. depresivos",
          "T. depresivos",
          "T. depresivos",
          "T. depresivos",
          "T. depresivos",
          "T. depresivos",
          "T. depresivos",
          "T. depresivos",
          "T. depresivos",
          "T. depresivos",
          "T. depresivos",
          "T. depresivos",
          "T. depresivos",
          "T. depresivos",
          "T. depresivos",
          "T. depresivos",
          "T. depresivos",
          "T. depresivos",
          "T. depresivos",
          "T. depresivos",
          "T. depresivos",
          "T. depresivos",
          "T. depresivos",
          "T. depresivos",
          "T. depresivos",
          "T. depresivos",
          "T. depresivos",
          "T. depresivos",
          "T. depresivos",
          "T. depresivos",
          "T. depresivos",
          "T. depresivos",
          "T. depresivos",
          "T. depresivos",
          "T. depresivos",
          "T. depresivos",
          "T. depresivos",
          "T. depresivos",
          "T. depresivos",
          "T. depresivos",
          "T. depresivos",
          "T. depresivos",
          "T. depresivos",
          "T. depresivos",
          "T. depresivos",
          "T. depresivos",
          "T. depresivos",
          "T. depresivos",
          "T. depresivos",
          "T. depresivos",
          "T. depresivos",
          "T. depresivos",
          "T. depresivos",
          "T. depresivos",
          "T. depresivos",
          "T. depresivos",
          "T. depresivos",
          "T. depresivos",
          "T. depresivos",
          "T. depresivos",
          "T. depresivos",
          "T. depresivos",
          "T. depresivos",
          "T. depresivos",
          "T. depresivos",
          "T. depresivos",
          "T. depresivos",
          "T. depresivos",
          "T. depresivos",
          "T. depresivos",
          "T. depresivos",
          "T. depresivos",
          "T. depresivos",
          "T. depresivos",
          "T. depresivos",
          "T. depresivos",
          "T. depresivos",
          "T. depresivos",
          "T. depresivos",
          "T. depresivos",
          "T. depresivos",
          "T. depresivos",
          "T. depresivos",
          "T. depresivos",
          "T. depresivos",
          "T. depresivos",
          "T. depresivos",
          "T. depresivos",
          "T. depresivos",
          "T. depresivos",
          "T. depresivos",
          "T. depresivos",
          "T. depresivos",
          "T. depresivos",
          "T. depresivos",
          "T. depresivos",
          "T. depresivos",
          "T. depresivos",
          "T. depresivos",
          "T. depresivos",
          "T. depresivos",
          "T. depresivos",
          "T. depresivos",
          "T. depresivos",
          "T. depresivos",
          "T. depresivos",
          "T. depresivos",
          "T. depresivos",
          "T. depresivos",
          "T. depresivos",
          "T. depresivos",
          "T. depresivos",
          "T. depresivos",
          "T. depresivos",
          "T. depresivos",
          "T. depresivos",
          "T. depresivos",
          "T. depresivos",
          "T. depresivos",
          "T. depresivos",
          "T. depresivos",
          "T. depresivos",
          "T. depresivos",
          "T. depresivos",
          "T. depresivos",
          "T. depresivos",
          "T. depresivos",
          "T. depresivos",
          "T. depresivos",
          "T. depresivos",
          "T. depresivos",
          "T. depresivos",
          "T. depresivos",
          "T. depresivos",
          "T. depresivos",
          "T. depresivos",
          "T. depresivos",
          "T. depresivos",
          "T. depresivos",
          "T. depresivos",
          "T. depresivos",
          "T. depresivos",
          "T. depresivos",
          "T. depresivos",
          "T. depresivos",
          "T. depresivos",
          "T. depresivos",
          "T. depresivos",
          "T. depresivos",
          "T. depresivos",
          "T. depresivos",
          "T. depresivos",
          "T. depresivos",
          "T. depresivos",
          "T. depresivos",
          "T. depresivos",
          "T. depresivos",
          "T. depresivos",
          "T. depresivos",
          "T. depresivos",
          "T. depresivos",
          "T. depresivos",
          "T. depresivos",
          "T. depresivos",
          "T. depresivos",
          "T. depresivos",
          "T. depresivos",
          "T. depresivos",
          "T. depresivos",
          "T. depresivos",
          "T. depresivos",
          "T. depresivos",
          "T. depresivos",
          "T. depresivos",
          "T. depresivos",
          "T. depresivos",
          "T. depresivos",
          "T. depresivos",
          "T. depresivos",
          "T. depresivos",
          "T. depresivos",
          "T. depresivos",
          "T. depresivos",
          "T. depresivos",
          "T. depresivos",
          "T. depresivos",
          "T. depresivos",
          "T. depresivos",
          "T. depresivos",
          "T. depresivos",
          "T. depresivos",
          "T. depresivos",
          "T. depresivos",
          "T. depresivos",
          "T. depresivos",
          "T. depresivos",
          "T. depresivos",
          "T. depresivos",
          "T. depresivos",
          "T. depresivos",
          "T. depresivos",
          "T. depresivos",
          "T. depresivos",
          "T. depresivos",
          "T. depresivos",
          "T. depresivos",
          "T. depresivos",
          "T. depresivos",
          "T. depresivos",
          "T. depresivos",
          "T. depresivos",
          "T. depresivos",
          "T. depresivos",
          "T. depresivos",
          "T. depresivos",
          "T. depresivos",
          "T. depresivos",
          "T. depresivos",
          "T. depresivos",
          "T. depresivos",
          "T. depresivos",
          "T. depresivos",
          "T. depresivos",
          "T. depresivos",
          "T. depresivos",
          "T. depresivos",
          "T. depresivos",
          "T. depresivos",
          "T. depresivos",
          "T. depresivos",
          "T. depresivos",
          "T. depresivos",
          "T. depresivos",
          "T. depresivos",
          "T. depresivos",
          "T. depresivos",
          "T. depresivos",
          "T. depresivos",
          "T. depresivos",
          "T. depresivos",
          "T. depresivos",
          "T. depresivos",
          "T. depresivos",
          "T. depresivos",
          "T. depresivos",
          "T. depresivos",
          "T. depresivos",
          "T. depresivos",
          "T. depresivos",
          "T. depresivos",
          "T. depresivos",
          "T. depresivos",
          "T. depresivos",
          "T. depresivos",
          "T. depresivos",
          "T. depresivos",
          "T. depresivos",
          "T. depresivos",
          "T. depresivos",
          "T. depresivos",
          "T. depresivos",
          "T. depresivos",
          "T. depresivos",
          "T. depresivos",
          "T. depresivos",
          "T. depresivos",
          "T. depresivos",
          "T. depresivos",
          "T. depresivos",
          "T. depresivos",
          "T. depresivos",
          "T. depresivos",
          "T. depresivos",
          "T. depresivos",
          "T. depresivos",
          "T. depresivos",
          "T. depresivos",
          "T. depresivos",
          "T. depresivos",
          "T. depresivos",
          "T. depresivos",
          "T. depresivos",
          "T. depresivos",
          "T. depresivos",
          "T. depresivos",
          "T. depresivos",
          "T. depresivos",
          "T. depresivos",
          "T. depresivos",
          "T. depresivos",
          "T. depresivos",
          "T. depresivos",
          "T. depresivos",
          "T. depresivos",
          "T. depresivos",
          "T. depresivos",
          "T. depresivos",
          "T. depresivos",
          "T. depresivos",
          "T. depresivos",
          "T. depresivos",
          "T. depresivos",
          "T. depresivos",
          "T. depresivos",
          "T. depresivos",
          "T. depresivos",
          "T. depresivos",
          "T. depresivos",
          "T. depresivos",
          "T. depresivos",
          "T. depresivos",
          "T. depresivos",
          "T. depresivos",
          "T. depresivos",
          "T. depresivos",
          "T. depresivos",
          "T. depresivos",
          "T. depresivos",
          "T. depresivos",
          "T. depresivos",
          "T. depresivos",
          "T. depresivos",
          "T. depresivos",
          "T. depresivos",
          "T. depresivos",
          "T. depresivos",
          "T. depresivos",
          "T. depresivos",
          "T. depresivos",
          "T. depresivos",
          "T. depresivos",
          "T. depresivos",
          "T. depresivos",
          "T. depresivos",
          "T. depresivos",
          "T. depresivos",
          "T. depresivos",
          "T. depresivos",
          "T. depresivos",
          "T. depresivos",
          "T. depresivos",
          "T. depresivos",
          "T. depresivos",
          "T. depresivos",
          "T. depresivos",
          "T. depresivos",
          "T. depresivos",
          "T. depresivos",
          "T. depresivos",
          "T. depresivos",
          "T. depresivos",
          "T. depresivos",
          "T. depresivos",
          "T. depresivos",
          "T. depresivos",
          "T. depresivos",
          "T. depresivos",
          "T. depresivos",
          "T. depresivos",
          "T. depresivos",
          "T. depresivos",
          "T. depresivos",
          "T. depresivos",
          "T. depresivos",
          "T. depresivos",
          "T. depresivos",
          "T. depresivos",
          "T. depresivos",
          "T. depresivos",
          "T. depresivos",
          "T. depresivos",
          "T. depresivos",
          "T. depresivos",
          "T. depresivos",
          "T. depresivos",
          "T. depresivos",
          "T. depresivos",
          "T. depresivos",
          "T. depresivos",
          "T. depresivos",
          "T. depresivos",
          "T. depresivos",
          "T. depresivos",
          "T. depresivos",
          "T. depresivos",
          "T. depresivos",
          "T. depresivos",
          "T. depresivos",
          "T. depresivos",
          "T. depresivos",
          "T. depresivos",
          "T. depresivos",
          "T. depresivos",
          "T. depresivos",
          "T. depresivos",
          "T. depresivos",
          "T. depresivos",
          "T. depresivos",
          "T. depresivos",
          "T. depresivos",
          "T. depresivos",
          "T. depresivos",
          "T. depresivos",
          "T. depresivos",
          "T. depresivos",
          "T. depresivos",
          "T. depresivos",
          "T. depresivos",
          "T. depresivos",
          "T. depresivos",
          "T. depresivos",
          "T. depresivos",
          "T. depresivos",
          "T. depresivos",
          "T. depresivos",
          "T. depresivos",
          "T. depresivos",
          "T. depresivos",
          "T. depresivos",
          "T. depresivos",
          "T. depresivos",
          "T. depresivos",
          "T. depresivos",
          "T. depresivos",
          "T. depresivos",
          "T. depresivos",
          "T. depresivos",
          "T. depresivos",
          "T. depresivos",
          "T. depresivos",
          "T. depresivos",
          "T. depresivos",
          "T. depresivos",
          "T. depresivos",
          "T. depresivos",
          "T. depresivos",
          "T. depresivos",
          "T. depresivos",
          "T. depresivos",
          "T. depresivos",
          "T. depresivos",
          "T. depresivos",
          "T. depresivos",
          "T. depresivos",
          "T. depresivos",
          "T. depresivos",
          "T. depresivos",
          "T. depresivos",
          "T. depresivos",
          "T. depresivos",
          "T. depresivos",
          "T. depresivos",
          "T. depresivos",
          "T. depresivos",
          "T. depresivos",
          "T. depresivos",
          "T. depresivos",
          "T. depresivos",
          "T. depresivos",
          "T. depresivos",
          "T. depresivos",
          "T. depresivos",
          "T. depresivos",
          "T. depresivos",
          "T. depresivos",
          "T. depresivos",
          "T. depresivos",
          "T. depresivos",
          "T. depresivos",
          "T. depresivos",
          "T. depresivos",
          "T. depresivos",
          "T. depresivos",
          "T. depresivos",
          "T. depresivos",
          "T. depresivos",
          "T. depresivos",
          "T. depresivos",
          "T. depresivos",
          "T. depresivos",
          "T. depresivos",
          "T. depresivos",
          "T. depresivos",
          "T. depresivos",
          "T. depresivos",
          "T. depresivos",
          "T. depresivos",
          "T. depresivos",
          "T. depresivos",
          "T. depresivos",
          "T. depresivos",
          "T. depresivos",
          "T. depresivos",
          "T. depresivos",
          "T. depresivos",
          "T. depresivos",
          "T. depresivos",
          "T. depresivos",
          "T. depresivos",
          "T. depresivos",
          "T. depresivos",
          "T. depresivos",
          "T. depresivos",
          "T. depresivos",
          "T. depresivos",
          "T. depresivos",
          "T. depresivos",
          "T. depresivos",
          "T. depresivos",
          "T. depresivos",
          "T. depresivos",
          "T. depresivos",
          "T. depresivos",
          "T. depresivos",
          "T. depresivos",
          "T. depresivos",
          "T. depresivos",
          "T. depresivos",
          "T. depresivos",
          "T. depresivos",
          "T. depresivos",
          "T. depresivos",
          "T. depresivos",
          "T. depresivos",
          "T. depresivos",
          "T. depresivos",
          "T. depresivos",
          "T. depresivos",
          "T. depresivos",
          "T. depresivos",
          "T. depresivos",
          "T. depresivos",
          "T. depresivos",
          "T. depresivos",
          "T. depresivos",
          "T. depresivos",
          "T. depresivos",
          "T. depresivos",
          "T. depresivos",
          "T. depresivos",
          "T. depresivos",
          "T. depresivos",
          "T. depresivos",
          "T. depresivos",
          "T. depresivos",
          "T. depresivos",
          "T. depresivos",
          "T. depresivos",
          "T. depresivos",
          "T. depresivos",
          "T. depresivos",
          "T. depresivos",
          "T. depresivos",
          "T. depresivos",
          "T. depresivos",
          "T. depresivos",
          "T. depresivos",
          "T. depresivos",
          "T. depresivos",
          "T. depresivos",
          "T. depresivos",
          "T. depresivos",
          "T. depresivos",
          "T. depresivos",
          "T. depresivos",
          "T. depresivos",
          "T. depresivos",
          "T. depresivos",
          "T. depresivos",
          "T. depresivos",
          "T. depresivos",
          "T. depresivos",
          "T. depresivos",
          "T. depresivos"
         ],
         "xaxis": "x",
         "yaxis": "y"
        }
       ],
       "layout": {
        "barmode": "relative",
        "legend": {
         "title": {
          "text": "GRUPO"
         },
         "tracegroupgap": 0
        },
        "template": {
         "data": {
          "bar": [
           {
            "error_x": {
             "color": "#2a3f5f"
            },
            "error_y": {
             "color": "#2a3f5f"
            },
            "marker": {
             "line": {
              "color": "#E5ECF6",
              "width": 0.5
             },
             "pattern": {
              "fillmode": "overlay",
              "size": 10,
              "solidity": 0.2
             }
            },
            "type": "bar"
           }
          ],
          "barpolar": [
           {
            "marker": {
             "line": {
              "color": "#E5ECF6",
              "width": 0.5
             },
             "pattern": {
              "fillmode": "overlay",
              "size": 10,
              "solidity": 0.2
             }
            },
            "type": "barpolar"
           }
          ],
          "carpet": [
           {
            "aaxis": {
             "endlinecolor": "#2a3f5f",
             "gridcolor": "white",
             "linecolor": "white",
             "minorgridcolor": "white",
             "startlinecolor": "#2a3f5f"
            },
            "baxis": {
             "endlinecolor": "#2a3f5f",
             "gridcolor": "white",
             "linecolor": "white",
             "minorgridcolor": "white",
             "startlinecolor": "#2a3f5f"
            },
            "type": "carpet"
           }
          ],
          "choropleth": [
           {
            "colorbar": {
             "outlinewidth": 0,
             "ticks": ""
            },
            "type": "choropleth"
           }
          ],
          "contour": [
           {
            "colorbar": {
             "outlinewidth": 0,
             "ticks": ""
            },
            "colorscale": [
             [
              0,
              "#0d0887"
             ],
             [
              0.1111111111111111,
              "#46039f"
             ],
             [
              0.2222222222222222,
              "#7201a8"
             ],
             [
              0.3333333333333333,
              "#9c179e"
             ],
             [
              0.4444444444444444,
              "#bd3786"
             ],
             [
              0.5555555555555556,
              "#d8576b"
             ],
             [
              0.6666666666666666,
              "#ed7953"
             ],
             [
              0.7777777777777778,
              "#fb9f3a"
             ],
             [
              0.8888888888888888,
              "#fdca26"
             ],
             [
              1,
              "#f0f921"
             ]
            ],
            "type": "contour"
           }
          ],
          "contourcarpet": [
           {
            "colorbar": {
             "outlinewidth": 0,
             "ticks": ""
            },
            "type": "contourcarpet"
           }
          ],
          "heatmap": [
           {
            "colorbar": {
             "outlinewidth": 0,
             "ticks": ""
            },
            "colorscale": [
             [
              0,
              "#0d0887"
             ],
             [
              0.1111111111111111,
              "#46039f"
             ],
             [
              0.2222222222222222,
              "#7201a8"
             ],
             [
              0.3333333333333333,
              "#9c179e"
             ],
             [
              0.4444444444444444,
              "#bd3786"
             ],
             [
              0.5555555555555556,
              "#d8576b"
             ],
             [
              0.6666666666666666,
              "#ed7953"
             ],
             [
              0.7777777777777778,
              "#fb9f3a"
             ],
             [
              0.8888888888888888,
              "#fdca26"
             ],
             [
              1,
              "#f0f921"
             ]
            ],
            "type": "heatmap"
           }
          ],
          "histogram": [
           {
            "marker": {
             "pattern": {
              "fillmode": "overlay",
              "size": 10,
              "solidity": 0.2
             }
            },
            "type": "histogram"
           }
          ],
          "histogram2d": [
           {
            "colorbar": {
             "outlinewidth": 0,
             "ticks": ""
            },
            "colorscale": [
             [
              0,
              "#0d0887"
             ],
             [
              0.1111111111111111,
              "#46039f"
             ],
             [
              0.2222222222222222,
              "#7201a8"
             ],
             [
              0.3333333333333333,
              "#9c179e"
             ],
             [
              0.4444444444444444,
              "#bd3786"
             ],
             [
              0.5555555555555556,
              "#d8576b"
             ],
             [
              0.6666666666666666,
              "#ed7953"
             ],
             [
              0.7777777777777778,
              "#fb9f3a"
             ],
             [
              0.8888888888888888,
              "#fdca26"
             ],
             [
              1,
              "#f0f921"
             ]
            ],
            "type": "histogram2d"
           }
          ],
          "histogram2dcontour": [
           {
            "colorbar": {
             "outlinewidth": 0,
             "ticks": ""
            },
            "colorscale": [
             [
              0,
              "#0d0887"
             ],
             [
              0.1111111111111111,
              "#46039f"
             ],
             [
              0.2222222222222222,
              "#7201a8"
             ],
             [
              0.3333333333333333,
              "#9c179e"
             ],
             [
              0.4444444444444444,
              "#bd3786"
             ],
             [
              0.5555555555555556,
              "#d8576b"
             ],
             [
              0.6666666666666666,
              "#ed7953"
             ],
             [
              0.7777777777777778,
              "#fb9f3a"
             ],
             [
              0.8888888888888888,
              "#fdca26"
             ],
             [
              1,
              "#f0f921"
             ]
            ],
            "type": "histogram2dcontour"
           }
          ],
          "mesh3d": [
           {
            "colorbar": {
             "outlinewidth": 0,
             "ticks": ""
            },
            "type": "mesh3d"
           }
          ],
          "parcoords": [
           {
            "line": {
             "colorbar": {
              "outlinewidth": 0,
              "ticks": ""
             }
            },
            "type": "parcoords"
           }
          ],
          "pie": [
           {
            "automargin": true,
            "type": "pie"
           }
          ],
          "scatter": [
           {
            "fillpattern": {
             "fillmode": "overlay",
             "size": 10,
             "solidity": 0.2
            },
            "type": "scatter"
           }
          ],
          "scatter3d": [
           {
            "line": {
             "colorbar": {
              "outlinewidth": 0,
              "ticks": ""
             }
            },
            "marker": {
             "colorbar": {
              "outlinewidth": 0,
              "ticks": ""
             }
            },
            "type": "scatter3d"
           }
          ],
          "scattercarpet": [
           {
            "marker": {
             "colorbar": {
              "outlinewidth": 0,
              "ticks": ""
             }
            },
            "type": "scattercarpet"
           }
          ],
          "scattergeo": [
           {
            "marker": {
             "colorbar": {
              "outlinewidth": 0,
              "ticks": ""
             }
            },
            "type": "scattergeo"
           }
          ],
          "scattergl": [
           {
            "marker": {
             "colorbar": {
              "outlinewidth": 0,
              "ticks": ""
             }
            },
            "type": "scattergl"
           }
          ],
          "scattermap": [
           {
            "marker": {
             "colorbar": {
              "outlinewidth": 0,
              "ticks": ""
             }
            },
            "type": "scattermap"
           }
          ],
          "scattermapbox": [
           {
            "marker": {
             "colorbar": {
              "outlinewidth": 0,
              "ticks": ""
             }
            },
            "type": "scattermapbox"
           }
          ],
          "scatterpolar": [
           {
            "marker": {
             "colorbar": {
              "outlinewidth": 0,
              "ticks": ""
             }
            },
            "type": "scatterpolar"
           }
          ],
          "scatterpolargl": [
           {
            "marker": {
             "colorbar": {
              "outlinewidth": 0,
              "ticks": ""
             }
            },
            "type": "scatterpolargl"
           }
          ],
          "scatterternary": [
           {
            "marker": {
             "colorbar": {
              "outlinewidth": 0,
              "ticks": ""
             }
            },
            "type": "scatterternary"
           }
          ],
          "surface": [
           {
            "colorbar": {
             "outlinewidth": 0,
             "ticks": ""
            },
            "colorscale": [
             [
              0,
              "#0d0887"
             ],
             [
              0.1111111111111111,
              "#46039f"
             ],
             [
              0.2222222222222222,
              "#7201a8"
             ],
             [
              0.3333333333333333,
              "#9c179e"
             ],
             [
              0.4444444444444444,
              "#bd3786"
             ],
             [
              0.5555555555555556,
              "#d8576b"
             ],
             [
              0.6666666666666666,
              "#ed7953"
             ],
             [
              0.7777777777777778,
              "#fb9f3a"
             ],
             [
              0.8888888888888888,
              "#fdca26"
             ],
             [
              1,
              "#f0f921"
             ]
            ],
            "type": "surface"
           }
          ],
          "table": [
           {
            "cells": {
             "fill": {
              "color": "#EBF0F8"
             },
             "line": {
              "color": "white"
             }
            },
            "header": {
             "fill": {
              "color": "#C8D4E3"
             },
             "line": {
              "color": "white"
             }
            },
            "type": "table"
           }
          ]
         },
         "layout": {
          "annotationdefaults": {
           "arrowcolor": "#2a3f5f",
           "arrowhead": 0,
           "arrowwidth": 1
          },
          "autotypenumbers": "strict",
          "coloraxis": {
           "colorbar": {
            "outlinewidth": 0,
            "ticks": ""
           }
          },
          "colorscale": {
           "diverging": [
            [
             0,
             "#8e0152"
            ],
            [
             0.1,
             "#c51b7d"
            ],
            [
             0.2,
             "#de77ae"
            ],
            [
             0.3,
             "#f1b6da"
            ],
            [
             0.4,
             "#fde0ef"
            ],
            [
             0.5,
             "#f7f7f7"
            ],
            [
             0.6,
             "#e6f5d0"
            ],
            [
             0.7,
             "#b8e186"
            ],
            [
             0.8,
             "#7fbc41"
            ],
            [
             0.9,
             "#4d9221"
            ],
            [
             1,
             "#276419"
            ]
           ],
           "sequential": [
            [
             0,
             "#0d0887"
            ],
            [
             0.1111111111111111,
             "#46039f"
            ],
            [
             0.2222222222222222,
             "#7201a8"
            ],
            [
             0.3333333333333333,
             "#9c179e"
            ],
            [
             0.4444444444444444,
             "#bd3786"
            ],
            [
             0.5555555555555556,
             "#d8576b"
            ],
            [
             0.6666666666666666,
             "#ed7953"
            ],
            [
             0.7777777777777778,
             "#fb9f3a"
            ],
            [
             0.8888888888888888,
             "#fdca26"
            ],
            [
             1,
             "#f0f921"
            ]
           ],
           "sequentialminus": [
            [
             0,
             "#0d0887"
            ],
            [
             0.1111111111111111,
             "#46039f"
            ],
            [
             0.2222222222222222,
             "#7201a8"
            ],
            [
             0.3333333333333333,
             "#9c179e"
            ],
            [
             0.4444444444444444,
             "#bd3786"
            ],
            [
             0.5555555555555556,
             "#d8576b"
            ],
            [
             0.6666666666666666,
             "#ed7953"
            ],
            [
             0.7777777777777778,
             "#fb9f3a"
            ],
            [
             0.8888888888888888,
             "#fdca26"
            ],
            [
             1,
             "#f0f921"
            ]
           ]
          },
          "colorway": [
           "#636efa",
           "#EF553B",
           "#00cc96",
           "#ab63fa",
           "#FFA15A",
           "#19d3f3",
           "#FF6692",
           "#B6E880",
           "#FF97FF",
           "#FECB52"
          ],
          "font": {
           "color": "#2a3f5f"
          },
          "geo": {
           "bgcolor": "white",
           "lakecolor": "white",
           "landcolor": "#E5ECF6",
           "showlakes": true,
           "showland": true,
           "subunitcolor": "white"
          },
          "hoverlabel": {
           "align": "left"
          },
          "hovermode": "closest",
          "mapbox": {
           "style": "light"
          },
          "paper_bgcolor": "white",
          "plot_bgcolor": "#E5ECF6",
          "polar": {
           "angularaxis": {
            "gridcolor": "white",
            "linecolor": "white",
            "ticks": ""
           },
           "bgcolor": "#E5ECF6",
           "radialaxis": {
            "gridcolor": "white",
            "linecolor": "white",
            "ticks": ""
           }
          },
          "scene": {
           "xaxis": {
            "backgroundcolor": "#E5ECF6",
            "gridcolor": "white",
            "gridwidth": 2,
            "linecolor": "white",
            "showbackground": true,
            "ticks": "",
            "zerolinecolor": "white"
           },
           "yaxis": {
            "backgroundcolor": "#E5ECF6",
            "gridcolor": "white",
            "gridwidth": 2,
            "linecolor": "white",
            "showbackground": true,
            "ticks": "",
            "zerolinecolor": "white"
           },
           "zaxis": {
            "backgroundcolor": "#E5ECF6",
            "gridcolor": "white",
            "gridwidth": 2,
            "linecolor": "white",
            "showbackground": true,
            "ticks": "",
            "zerolinecolor": "white"
           }
          },
          "shapedefaults": {
           "line": {
            "color": "#2a3f5f"
           }
          },
          "ternary": {
           "aaxis": {
            "gridcolor": "white",
            "linecolor": "white",
            "ticks": ""
           },
           "baxis": {
            "gridcolor": "white",
            "linecolor": "white",
            "ticks": ""
           },
           "bgcolor": "#E5ECF6",
           "caxis": {
            "gridcolor": "white",
            "linecolor": "white",
            "ticks": ""
           }
          },
          "title": {
           "x": 0.05
          },
          "xaxis": {
           "automargin": true,
           "gridcolor": "white",
           "linecolor": "white",
           "ticks": "",
           "title": {
            "standoff": 15
           },
           "zerolinecolor": "white",
           "zerolinewidth": 2
          },
          "yaxis": {
           "automargin": true,
           "gridcolor": "white",
           "linecolor": "white",
           "ticks": "",
           "title": {
            "standoff": 15
           },
           "zerolinecolor": "white",
           "zerolinewidth": 2
          }
         }
        },
        "title": {
         "text": "Distribución de Historias Clínicas por Grupo"
        },
        "xaxis": {
         "anchor": "y",
         "categoryarray": [
          "T. externalizantes",
          "Otros trastornos",
          "T. de adaptación",
          "T. personalidad",
          "T. de ansiedad",
          "T. depresivos"
         ],
         "categoryorder": "array",
         "domain": [
          0,
          1
         ],
         "title": {
          "text": "GRUPO"
         }
        },
        "yaxis": {
         "anchor": "x",
         "domain": [
          0,
          1
         ],
         "title": {
          "text": "count"
         }
        }
       }
      },
      "text/html": [
       "<div>                        <script type=\"text/javascript\">window.PlotlyConfig = {MathJaxConfig: 'local'};</script>\n",
       "        <script charset=\"utf-8\" src=\"https://cdn.plot.ly/plotly-3.1.0.min.js\" integrity=\"sha256-Ei4740bWZhaUTQuD6q9yQlgVCMPBz6CZWhevDYPv93A=\" crossorigin=\"anonymous\"></script>                <div id=\"44eeabf0-b620-4d98-8f76-9c20112644bf\" class=\"plotly-graph-div\" style=\"height:100%; width:100%;\"></div>            <script type=\"text/javascript\">                window.PLOTLYENV=window.PLOTLYENV || {};                                if (document.getElementById(\"44eeabf0-b620-4d98-8f76-9c20112644bf\")) {                    Plotly.newPlot(                        \"44eeabf0-b620-4d98-8f76-9c20112644bf\",                        [{\"bingroup\":\"x\",\"hovertemplate\":\"GRUPO=%{x}\\u003cbr\\u003ecount=%{y}\\u003cextra\\u003e\\u003c\\u002fextra\\u003e\",\"legendgroup\":\"T. externalizantes\",\"marker\":{\"color\":\"#636efa\",\"pattern\":{\"shape\":\"\"}},\"name\":\"T. externalizantes\",\"orientation\":\"v\",\"showlegend\":true,\"texttemplate\":\"%{value}\",\"x\":[\"T. externalizantes\",\"T. externalizantes\",\"T. externalizantes\",\"T. externalizantes\",\"T. externalizantes\",\"T. externalizantes\",\"T. externalizantes\",\"T. externalizantes\",\"T. externalizantes\",\"T. externalizantes\",\"T. externalizantes\",\"T. externalizantes\",\"T. externalizantes\",\"T. externalizantes\",\"T. externalizantes\",\"T. externalizantes\",\"T. externalizantes\",\"T. externalizantes\",\"T. externalizantes\",\"T. externalizantes\",\"T. externalizantes\",\"T. externalizantes\",\"T. externalizantes\",\"T. externalizantes\",\"T. externalizantes\",\"T. externalizantes\",\"T. externalizantes\",\"T. externalizantes\",\"T. externalizantes\",\"T. externalizantes\",\"T. externalizantes\",\"T. externalizantes\",\"T. externalizantes\",\"T. externalizantes\",\"T. externalizantes\",\"T. externalizantes\",\"T. externalizantes\",\"T. externalizantes\",\"T. externalizantes\",\"T. externalizantes\",\"T. externalizantes\",\"T. externalizantes\",\"T. externalizantes\",\"T. externalizantes\",\"T. externalizantes\",\"T. externalizantes\",\"T. externalizantes\",\"T. externalizantes\",\"T. externalizantes\",\"T. externalizantes\",\"T. externalizantes\",\"T. externalizantes\",\"T. externalizantes\",\"T. externalizantes\",\"T. externalizantes\",\"T. externalizantes\",\"T. externalizantes\",\"T. externalizantes\",\"T. externalizantes\",\"T. externalizantes\",\"T. externalizantes\",\"T. externalizantes\",\"T. externalizantes\",\"T. externalizantes\",\"T. externalizantes\",\"T. externalizantes\",\"T. externalizantes\",\"T. externalizantes\",\"T. externalizantes\",\"T. externalizantes\",\"T. externalizantes\",\"T. externalizantes\",\"T. externalizantes\",\"T. externalizantes\",\"T. externalizantes\",\"T. externalizantes\",\"T. externalizantes\",\"T. externalizantes\",\"T. externalizantes\",\"T. externalizantes\",\"T. externalizantes\",\"T. externalizantes\",\"T. externalizantes\",\"T. externalizantes\",\"T. externalizantes\",\"T. externalizantes\",\"T. externalizantes\",\"T. externalizantes\",\"T. externalizantes\",\"T. externalizantes\",\"T. externalizantes\",\"T. externalizantes\",\"T. externalizantes\",\"T. externalizantes\",\"T. externalizantes\",\"T. externalizantes\",\"T. externalizantes\",\"T. externalizantes\",\"T. externalizantes\",\"T. externalizantes\",\"T. externalizantes\",\"T. externalizantes\",\"T. externalizantes\",\"T. externalizantes\",\"T. externalizantes\",\"T. externalizantes\",\"T. externalizantes\",\"T. externalizantes\",\"T. externalizantes\",\"T. externalizantes\",\"T. externalizantes\",\"T. externalizantes\",\"T. externalizantes\",\"T. externalizantes\",\"T. externalizantes\",\"T. externalizantes\",\"T. externalizantes\",\"T. externalizantes\",\"T. externalizantes\",\"T. externalizantes\",\"T. externalizantes\",\"T. externalizantes\",\"T. externalizantes\",\"T. externalizantes\",\"T. externalizantes\",\"T. externalizantes\",\"T. externalizantes\",\"T. externalizantes\",\"T. externalizantes\",\"T. externalizantes\",\"T. externalizantes\",\"T. externalizantes\",\"T. externalizantes\",\"T. externalizantes\",\"T. externalizantes\",\"T. externalizantes\",\"T. externalizantes\",\"T. externalizantes\",\"T. externalizantes\",\"T. externalizantes\",\"T. externalizantes\",\"T. externalizantes\",\"T. externalizantes\",\"T. externalizantes\",\"T. externalizantes\",\"T. externalizantes\",\"T. externalizantes\",\"T. externalizantes\",\"T. externalizantes\",\"T. externalizantes\",\"T. externalizantes\",\"T. externalizantes\",\"T. externalizantes\",\"T. externalizantes\",\"T. externalizantes\",\"T. externalizantes\",\"T. externalizantes\",\"T. externalizantes\",\"T. externalizantes\",\"T. externalizantes\",\"T. externalizantes\",\"T. externalizantes\",\"T. externalizantes\",\"T. externalizantes\",\"T. externalizantes\",\"T. externalizantes\",\"T. externalizantes\",\"T. externalizantes\",\"T. externalizantes\",\"T. externalizantes\",\"T. externalizantes\",\"T. externalizantes\",\"T. externalizantes\",\"T. externalizantes\",\"T. externalizantes\",\"T. externalizantes\",\"T. externalizantes\",\"T. externalizantes\",\"T. externalizantes\",\"T. externalizantes\",\"T. externalizantes\",\"T. externalizantes\",\"T. externalizantes\",\"T. externalizantes\",\"T. externalizantes\",\"T. externalizantes\",\"T. externalizantes\",\"T. externalizantes\",\"T. externalizantes\",\"T. externalizantes\",\"T. externalizantes\",\"T. externalizantes\",\"T. externalizantes\",\"T. externalizantes\",\"T. externalizantes\",\"T. externalizantes\",\"T. externalizantes\",\"T. externalizantes\",\"T. externalizantes\",\"T. externalizantes\",\"T. externalizantes\",\"T. externalizantes\",\"T. externalizantes\",\"T. externalizantes\",\"T. externalizantes\",\"T. externalizantes\",\"T. externalizantes\",\"T. externalizantes\",\"T. externalizantes\",\"T. externalizantes\",\"T. externalizantes\",\"T. externalizantes\",\"T. externalizantes\",\"T. externalizantes\",\"T. externalizantes\",\"T. externalizantes\",\"T. externalizantes\",\"T. externalizantes\",\"T. externalizantes\",\"T. externalizantes\",\"T. externalizantes\",\"T. externalizantes\",\"T. externalizantes\",\"T. externalizantes\",\"T. externalizantes\",\"T. externalizantes\",\"T. externalizantes\",\"T. externalizantes\",\"T. externalizantes\",\"T. externalizantes\",\"T. externalizantes\",\"T. externalizantes\",\"T. externalizantes\",\"T. externalizantes\",\"T. externalizantes\",\"T. externalizantes\",\"T. externalizantes\",\"T. externalizantes\",\"T. externalizantes\",\"T. externalizantes\",\"T. externalizantes\",\"T. externalizantes\",\"T. externalizantes\",\"T. externalizantes\",\"T. externalizantes\",\"T. externalizantes\",\"T. externalizantes\",\"T. externalizantes\",\"T. externalizantes\",\"T. externalizantes\",\"T. externalizantes\",\"T. externalizantes\",\"T. externalizantes\",\"T. externalizantes\",\"T. externalizantes\",\"T. externalizantes\",\"T. externalizantes\",\"T. externalizantes\",\"T. externalizantes\",\"T. externalizantes\",\"T. externalizantes\",\"T. externalizantes\",\"T. externalizantes\",\"T. externalizantes\",\"T. externalizantes\",\"T. externalizantes\",\"T. externalizantes\",\"T. externalizantes\",\"T. externalizantes\",\"T. externalizantes\",\"T. externalizantes\",\"T. externalizantes\",\"T. externalizantes\",\"T. externalizantes\",\"T. externalizantes\",\"T. externalizantes\",\"T. externalizantes\",\"T. externalizantes\",\"T. externalizantes\",\"T. externalizantes\",\"T. externalizantes\",\"T. externalizantes\",\"T. externalizantes\",\"T. externalizantes\",\"T. externalizantes\",\"T. externalizantes\",\"T. externalizantes\",\"T. externalizantes\",\"T. externalizantes\",\"T. externalizantes\",\"T. externalizantes\",\"T. externalizantes\",\"T. externalizantes\",\"T. externalizantes\",\"T. externalizantes\",\"T. externalizantes\",\"T. externalizantes\",\"T. externalizantes\",\"T. externalizantes\",\"T. externalizantes\",\"T. externalizantes\",\"T. externalizantes\",\"T. externalizantes\",\"T. externalizantes\",\"T. externalizantes\",\"T. externalizantes\",\"T. externalizantes\",\"T. externalizantes\",\"T. externalizantes\",\"T. externalizantes\",\"T. externalizantes\",\"T. externalizantes\",\"T. externalizantes\",\"T. externalizantes\",\"T. externalizantes\",\"T. externalizantes\",\"T. externalizantes\",\"T. externalizantes\",\"T. externalizantes\",\"T. externalizantes\",\"T. externalizantes\",\"T. externalizantes\",\"T. externalizantes\",\"T. externalizantes\",\"T. externalizantes\",\"T. externalizantes\",\"T. externalizantes\",\"T. externalizantes\",\"T. externalizantes\",\"T. externalizantes\",\"T. externalizantes\",\"T. externalizantes\",\"T. externalizantes\",\"T. externalizantes\",\"T. externalizantes\",\"T. externalizantes\",\"T. externalizantes\",\"T. externalizantes\",\"T. externalizantes\",\"T. externalizantes\",\"T. externalizantes\",\"T. externalizantes\",\"T. externalizantes\",\"T. externalizantes\",\"T. externalizantes\",\"T. externalizantes\",\"T. externalizantes\",\"T. externalizantes\",\"T. externalizantes\",\"T. externalizantes\",\"T. externalizantes\",\"T. externalizantes\",\"T. externalizantes\",\"T. externalizantes\",\"T. externalizantes\",\"T. externalizantes\",\"T. externalizantes\",\"T. externalizantes\",\"T. externalizantes\",\"T. externalizantes\",\"T. externalizantes\",\"T. externalizantes\",\"T. externalizantes\",\"T. externalizantes\",\"T. externalizantes\",\"T. externalizantes\",\"T. externalizantes\",\"T. externalizantes\",\"T. externalizantes\",\"T. externalizantes\",\"T. externalizantes\",\"T. externalizantes\",\"T. externalizantes\",\"T. externalizantes\",\"T. externalizantes\",\"T. externalizantes\",\"T. externalizantes\",\"T. externalizantes\"],\"xaxis\":\"x\",\"yaxis\":\"y\",\"type\":\"histogram\"},{\"bingroup\":\"x\",\"hovertemplate\":\"GRUPO=%{x}\\u003cbr\\u003ecount=%{y}\\u003cextra\\u003e\\u003c\\u002fextra\\u003e\",\"legendgroup\":\"Otros trastornos\",\"marker\":{\"color\":\"#EF553B\",\"pattern\":{\"shape\":\"\"}},\"name\":\"Otros trastornos\",\"orientation\":\"v\",\"showlegend\":true,\"texttemplate\":\"%{value}\",\"x\":[\"Otros trastornos\",\"Otros trastornos\",\"Otros trastornos\",\"Otros trastornos\",\"Otros trastornos\",\"Otros trastornos\",\"Otros trastornos\",\"Otros trastornos\",\"Otros trastornos\",\"Otros trastornos\",\"Otros trastornos\",\"Otros trastornos\",\"Otros trastornos\",\"Otros trastornos\",\"Otros trastornos\",\"Otros trastornos\",\"Otros trastornos\",\"Otros trastornos\",\"Otros trastornos\",\"Otros trastornos\",\"Otros trastornos\",\"Otros trastornos\",\"Otros trastornos\",\"Otros trastornos\",\"Otros trastornos\",\"Otros trastornos\",\"Otros trastornos\",\"Otros trastornos\",\"Otros trastornos\",\"Otros trastornos\",\"Otros trastornos\",\"Otros trastornos\",\"Otros trastornos\",\"Otros trastornos\",\"Otros trastornos\",\"Otros trastornos\",\"Otros trastornos\",\"Otros trastornos\",\"Otros trastornos\",\"Otros trastornos\",\"Otros trastornos\",\"Otros trastornos\",\"Otros trastornos\",\"Otros trastornos\",\"Otros trastornos\",\"Otros trastornos\",\"Otros trastornos\",\"Otros trastornos\",\"Otros trastornos\",\"Otros trastornos\",\"Otros trastornos\",\"Otros trastornos\",\"Otros trastornos\",\"Otros trastornos\",\"Otros trastornos\",\"Otros trastornos\",\"Otros trastornos\",\"Otros trastornos\",\"Otros trastornos\",\"Otros trastornos\",\"Otros trastornos\",\"Otros trastornos\",\"Otros trastornos\",\"Otros trastornos\",\"Otros trastornos\",\"Otros trastornos\",\"Otros trastornos\",\"Otros trastornos\",\"Otros trastornos\",\"Otros trastornos\",\"Otros trastornos\",\"Otros trastornos\",\"Otros trastornos\",\"Otros trastornos\",\"Otros trastornos\",\"Otros trastornos\",\"Otros trastornos\",\"Otros trastornos\",\"Otros trastornos\",\"Otros trastornos\",\"Otros trastornos\",\"Otros trastornos\",\"Otros trastornos\",\"Otros trastornos\",\"Otros trastornos\",\"Otros trastornos\",\"Otros trastornos\",\"Otros trastornos\",\"Otros trastornos\",\"Otros trastornos\",\"Otros trastornos\",\"Otros trastornos\",\"Otros trastornos\",\"Otros trastornos\",\"Otros trastornos\",\"Otros trastornos\",\"Otros trastornos\",\"Otros trastornos\",\"Otros trastornos\",\"Otros trastornos\",\"Otros trastornos\",\"Otros trastornos\",\"Otros trastornos\",\"Otros trastornos\",\"Otros trastornos\",\"Otros trastornos\",\"Otros trastornos\",\"Otros trastornos\",\"Otros trastornos\",\"Otros trastornos\",\"Otros trastornos\",\"Otros trastornos\",\"Otros trastornos\",\"Otros trastornos\",\"Otros trastornos\",\"Otros trastornos\",\"Otros trastornos\",\"Otros trastornos\",\"Otros trastornos\",\"Otros trastornos\",\"Otros trastornos\",\"Otros trastornos\",\"Otros trastornos\",\"Otros trastornos\",\"Otros trastornos\",\"Otros trastornos\",\"Otros trastornos\",\"Otros trastornos\",\"Otros trastornos\",\"Otros trastornos\",\"Otros trastornos\",\"Otros trastornos\",\"Otros trastornos\",\"Otros trastornos\",\"Otros trastornos\",\"Otros trastornos\",\"Otros trastornos\",\"Otros trastornos\",\"Otros trastornos\",\"Otros trastornos\",\"Otros trastornos\",\"Otros trastornos\",\"Otros trastornos\",\"Otros trastornos\",\"Otros trastornos\",\"Otros trastornos\",\"Otros trastornos\",\"Otros trastornos\",\"Otros trastornos\",\"Otros trastornos\",\"Otros trastornos\",\"Otros trastornos\",\"Otros trastornos\",\"Otros trastornos\",\"Otros trastornos\",\"Otros trastornos\",\"Otros trastornos\",\"Otros trastornos\",\"Otros trastornos\",\"Otros trastornos\",\"Otros trastornos\",\"Otros trastornos\",\"Otros trastornos\",\"Otros trastornos\",\"Otros trastornos\",\"Otros trastornos\",\"Otros trastornos\",\"Otros trastornos\",\"Otros trastornos\",\"Otros trastornos\",\"Otros trastornos\",\"Otros trastornos\",\"Otros trastornos\",\"Otros trastornos\",\"Otros trastornos\",\"Otros trastornos\",\"Otros trastornos\",\"Otros trastornos\",\"Otros trastornos\",\"Otros trastornos\",\"Otros trastornos\",\"Otros trastornos\",\"Otros trastornos\",\"Otros trastornos\",\"Otros trastornos\",\"Otros trastornos\",\"Otros trastornos\",\"Otros trastornos\",\"Otros trastornos\",\"Otros trastornos\",\"Otros trastornos\",\"Otros trastornos\",\"Otros trastornos\",\"Otros trastornos\",\"Otros trastornos\",\"Otros trastornos\",\"Otros trastornos\",\"Otros trastornos\",\"Otros trastornos\",\"Otros trastornos\",\"Otros trastornos\",\"Otros trastornos\",\"Otros trastornos\",\"Otros trastornos\",\"Otros trastornos\",\"Otros trastornos\",\"Otros trastornos\",\"Otros trastornos\",\"Otros trastornos\",\"Otros trastornos\",\"Otros trastornos\",\"Otros trastornos\",\"Otros trastornos\",\"Otros trastornos\",\"Otros trastornos\",\"Otros trastornos\",\"Otros trastornos\",\"Otros trastornos\",\"Otros trastornos\",\"Otros trastornos\",\"Otros trastornos\",\"Otros trastornos\",\"Otros trastornos\",\"Otros trastornos\",\"Otros trastornos\",\"Otros trastornos\",\"Otros trastornos\",\"Otros trastornos\",\"Otros trastornos\",\"Otros trastornos\",\"Otros trastornos\",\"Otros trastornos\",\"Otros trastornos\",\"Otros trastornos\",\"Otros trastornos\",\"Otros trastornos\",\"Otros trastornos\",\"Otros trastornos\",\"Otros trastornos\",\"Otros trastornos\",\"Otros trastornos\",\"Otros trastornos\",\"Otros trastornos\",\"Otros trastornos\",\"Otros trastornos\",\"Otros trastornos\",\"Otros trastornos\",\"Otros trastornos\",\"Otros trastornos\",\"Otros trastornos\",\"Otros trastornos\",\"Otros trastornos\",\"Otros trastornos\",\"Otros trastornos\",\"Otros trastornos\",\"Otros trastornos\",\"Otros trastornos\",\"Otros trastornos\",\"Otros trastornos\",\"Otros trastornos\",\"Otros trastornos\",\"Otros trastornos\",\"Otros trastornos\",\"Otros trastornos\",\"Otros trastornos\",\"Otros trastornos\",\"Otros trastornos\",\"Otros trastornos\",\"Otros trastornos\",\"Otros trastornos\",\"Otros trastornos\",\"Otros trastornos\",\"Otros trastornos\",\"Otros trastornos\",\"Otros trastornos\",\"Otros trastornos\",\"Otros trastornos\",\"Otros trastornos\",\"Otros trastornos\",\"Otros trastornos\",\"Otros trastornos\",\"Otros trastornos\",\"Otros trastornos\",\"Otros trastornos\",\"Otros trastornos\",\"Otros trastornos\",\"Otros trastornos\",\"Otros trastornos\",\"Otros trastornos\",\"Otros trastornos\",\"Otros trastornos\",\"Otros trastornos\",\"Otros trastornos\",\"Otros trastornos\",\"Otros trastornos\",\"Otros trastornos\",\"Otros trastornos\",\"Otros trastornos\",\"Otros trastornos\",\"Otros trastornos\",\"Otros trastornos\",\"Otros trastornos\",\"Otros trastornos\",\"Otros trastornos\",\"Otros trastornos\",\"Otros trastornos\",\"Otros trastornos\",\"Otros trastornos\",\"Otros trastornos\",\"Otros trastornos\",\"Otros trastornos\",\"Otros trastornos\",\"Otros trastornos\",\"Otros trastornos\",\"Otros trastornos\",\"Otros trastornos\",\"Otros trastornos\",\"Otros trastornos\",\"Otros trastornos\",\"Otros trastornos\",\"Otros trastornos\",\"Otros trastornos\",\"Otros trastornos\",\"Otros trastornos\",\"Otros trastornos\",\"Otros trastornos\",\"Otros trastornos\",\"Otros trastornos\",\"Otros trastornos\",\"Otros trastornos\",\"Otros trastornos\",\"Otros trastornos\",\"Otros trastornos\",\"Otros trastornos\",\"Otros trastornos\",\"Otros trastornos\",\"Otros trastornos\",\"Otros trastornos\",\"Otros trastornos\",\"Otros trastornos\",\"Otros trastornos\",\"Otros trastornos\",\"Otros trastornos\",\"Otros trastornos\",\"Otros trastornos\",\"Otros trastornos\",\"Otros trastornos\",\"Otros trastornos\",\"Otros trastornos\",\"Otros trastornos\",\"Otros trastornos\",\"Otros trastornos\",\"Otros trastornos\",\"Otros trastornos\",\"Otros trastornos\",\"Otros trastornos\",\"Otros trastornos\",\"Otros trastornos\",\"Otros trastornos\",\"Otros trastornos\",\"Otros trastornos\",\"Otros trastornos\",\"Otros trastornos\",\"Otros trastornos\",\"Otros trastornos\",\"Otros trastornos\",\"Otros trastornos\",\"Otros trastornos\",\"Otros trastornos\",\"Otros trastornos\",\"Otros trastornos\",\"Otros trastornos\",\"Otros trastornos\",\"Otros trastornos\",\"Otros trastornos\",\"Otros trastornos\",\"Otros trastornos\",\"Otros trastornos\",\"Otros trastornos\",\"Otros trastornos\",\"Otros trastornos\",\"Otros trastornos\",\"Otros trastornos\",\"Otros trastornos\",\"Otros trastornos\",\"Otros trastornos\",\"Otros trastornos\",\"Otros trastornos\",\"Otros trastornos\",\"Otros trastornos\",\"Otros trastornos\",\"Otros trastornos\",\"Otros trastornos\",\"Otros trastornos\",\"Otros trastornos\",\"Otros trastornos\",\"Otros trastornos\",\"Otros trastornos\",\"Otros trastornos\",\"Otros trastornos\",\"Otros trastornos\",\"Otros trastornos\",\"Otros trastornos\",\"Otros trastornos\",\"Otros trastornos\",\"Otros trastornos\",\"Otros trastornos\",\"Otros trastornos\",\"Otros trastornos\",\"Otros trastornos\",\"Otros trastornos\",\"Otros trastornos\",\"Otros trastornos\",\"Otros trastornos\",\"Otros trastornos\",\"Otros trastornos\",\"Otros trastornos\",\"Otros trastornos\",\"Otros trastornos\",\"Otros trastornos\",\"Otros trastornos\",\"Otros trastornos\",\"Otros trastornos\",\"Otros trastornos\",\"Otros trastornos\",\"Otros trastornos\",\"Otros trastornos\",\"Otros trastornos\",\"Otros trastornos\",\"Otros trastornos\",\"Otros trastornos\",\"Otros trastornos\",\"Otros trastornos\",\"Otros trastornos\",\"Otros trastornos\",\"Otros trastornos\",\"Otros trastornos\",\"Otros trastornos\",\"Otros trastornos\",\"Otros trastornos\",\"Otros trastornos\",\"Otros trastornos\",\"Otros trastornos\",\"Otros trastornos\",\"Otros trastornos\",\"Otros trastornos\",\"Otros trastornos\",\"Otros trastornos\",\"Otros trastornos\",\"Otros trastornos\",\"Otros trastornos\",\"Otros trastornos\",\"Otros trastornos\",\"Otros trastornos\",\"Otros trastornos\",\"Otros trastornos\",\"Otros trastornos\",\"Otros trastornos\",\"Otros trastornos\",\"Otros trastornos\",\"Otros trastornos\",\"Otros trastornos\",\"Otros trastornos\",\"Otros trastornos\",\"Otros trastornos\",\"Otros trastornos\",\"Otros trastornos\",\"Otros trastornos\",\"Otros trastornos\",\"Otros trastornos\",\"Otros trastornos\",\"Otros trastornos\",\"Otros trastornos\",\"Otros trastornos\",\"Otros trastornos\",\"Otros trastornos\",\"Otros trastornos\",\"Otros trastornos\",\"Otros trastornos\",\"Otros trastornos\",\"Otros trastornos\",\"Otros trastornos\",\"Otros trastornos\",\"Otros trastornos\",\"Otros trastornos\",\"Otros trastornos\",\"Otros trastornos\",\"Otros trastornos\",\"Otros trastornos\",\"Otros trastornos\",\"Otros trastornos\",\"Otros trastornos\",\"Otros trastornos\",\"Otros trastornos\",\"Otros trastornos\",\"Otros trastornos\",\"Otros trastornos\",\"Otros trastornos\",\"Otros trastornos\",\"Otros trastornos\",\"Otros trastornos\",\"Otros trastornos\",\"Otros trastornos\",\"Otros trastornos\",\"Otros trastornos\",\"Otros trastornos\",\"Otros trastornos\",\"Otros trastornos\",\"Otros trastornos\",\"Otros trastornos\",\"Otros trastornos\",\"Otros trastornos\",\"Otros trastornos\",\"Otros trastornos\",\"Otros trastornos\",\"Otros trastornos\",\"Otros trastornos\",\"Otros trastornos\",\"Otros trastornos\",\"Otros trastornos\",\"Otros trastornos\",\"Otros trastornos\",\"Otros trastornos\",\"Otros trastornos\",\"Otros trastornos\",\"Otros trastornos\",\"Otros trastornos\",\"Otros trastornos\",\"Otros trastornos\",\"Otros trastornos\",\"Otros trastornos\",\"Otros trastornos\",\"Otros trastornos\",\"Otros trastornos\",\"Otros trastornos\",\"Otros trastornos\",\"Otros trastornos\",\"Otros trastornos\",\"Otros trastornos\",\"Otros trastornos\",\"Otros trastornos\",\"Otros trastornos\",\"Otros trastornos\",\"Otros trastornos\",\"Otros trastornos\",\"Otros trastornos\",\"Otros trastornos\",\"Otros trastornos\",\"Otros trastornos\",\"Otros trastornos\",\"Otros trastornos\",\"Otros trastornos\",\"Otros trastornos\",\"Otros trastornos\",\"Otros trastornos\",\"Otros trastornos\",\"Otros trastornos\",\"Otros trastornos\",\"Otros trastornos\",\"Otros trastornos\",\"Otros trastornos\",\"Otros trastornos\",\"Otros trastornos\",\"Otros trastornos\",\"Otros trastornos\",\"Otros trastornos\",\"Otros trastornos\",\"Otros trastornos\",\"Otros trastornos\",\"Otros trastornos\",\"Otros trastornos\",\"Otros trastornos\",\"Otros trastornos\",\"Otros trastornos\",\"Otros trastornos\",\"Otros trastornos\",\"Otros trastornos\",\"Otros trastornos\",\"Otros trastornos\",\"Otros trastornos\",\"Otros trastornos\",\"Otros trastornos\",\"Otros trastornos\",\"Otros trastornos\",\"Otros trastornos\",\"Otros trastornos\",\"Otros trastornos\",\"Otros trastornos\",\"Otros trastornos\",\"Otros trastornos\",\"Otros trastornos\",\"Otros trastornos\",\"Otros trastornos\",\"Otros trastornos\",\"Otros trastornos\",\"Otros trastornos\",\"Otros trastornos\",\"Otros trastornos\",\"Otros trastornos\",\"Otros trastornos\",\"Otros trastornos\",\"Otros trastornos\",\"Otros trastornos\",\"Otros trastornos\",\"Otros trastornos\",\"Otros trastornos\",\"Otros trastornos\",\"Otros trastornos\",\"Otros trastornos\",\"Otros trastornos\",\"Otros trastornos\",\"Otros trastornos\",\"Otros trastornos\",\"Otros trastornos\",\"Otros trastornos\",\"Otros trastornos\",\"Otros trastornos\",\"Otros trastornos\",\"Otros trastornos\",\"Otros trastornos\",\"Otros trastornos\",\"Otros trastornos\",\"Otros trastornos\",\"Otros trastornos\",\"Otros trastornos\",\"Otros trastornos\",\"Otros trastornos\",\"Otros trastornos\",\"Otros trastornos\"],\"xaxis\":\"x\",\"yaxis\":\"y\",\"type\":\"histogram\"},{\"bingroup\":\"x\",\"hovertemplate\":\"GRUPO=%{x}\\u003cbr\\u003ecount=%{y}\\u003cextra\\u003e\\u003c\\u002fextra\\u003e\",\"legendgroup\":\"T. de adaptaci\\u00f3n\",\"marker\":{\"color\":\"#00cc96\",\"pattern\":{\"shape\":\"\"}},\"name\":\"T. de adaptaci\\u00f3n\",\"orientation\":\"v\",\"showlegend\":true,\"texttemplate\":\"%{value}\",\"x\":[\"T. de adaptaci\\u00f3n\",\"T. de adaptaci\\u00f3n\",\"T. de adaptaci\\u00f3n\",\"T. de adaptaci\\u00f3n\",\"T. de adaptaci\\u00f3n\",\"T. de adaptaci\\u00f3n\",\"T. de adaptaci\\u00f3n\",\"T. de adaptaci\\u00f3n\",\"T. de adaptaci\\u00f3n\",\"T. de adaptaci\\u00f3n\",\"T. de adaptaci\\u00f3n\",\"T. de adaptaci\\u00f3n\",\"T. de adaptaci\\u00f3n\",\"T. de adaptaci\\u00f3n\",\"T. de adaptaci\\u00f3n\",\"T. de adaptaci\\u00f3n\",\"T. de adaptaci\\u00f3n\",\"T. de adaptaci\\u00f3n\",\"T. de adaptaci\\u00f3n\",\"T. de adaptaci\\u00f3n\",\"T. de adaptaci\\u00f3n\",\"T. de adaptaci\\u00f3n\",\"T. de adaptaci\\u00f3n\",\"T. de adaptaci\\u00f3n\",\"T. de adaptaci\\u00f3n\",\"T. de adaptaci\\u00f3n\",\"T. de adaptaci\\u00f3n\",\"T. de adaptaci\\u00f3n\",\"T. de adaptaci\\u00f3n\",\"T. de adaptaci\\u00f3n\",\"T. de adaptaci\\u00f3n\",\"T. de adaptaci\\u00f3n\",\"T. de adaptaci\\u00f3n\",\"T. de adaptaci\\u00f3n\",\"T. de adaptaci\\u00f3n\",\"T. de adaptaci\\u00f3n\",\"T. de adaptaci\\u00f3n\",\"T. de adaptaci\\u00f3n\",\"T. de adaptaci\\u00f3n\",\"T. de adaptaci\\u00f3n\",\"T. de adaptaci\\u00f3n\",\"T. de adaptaci\\u00f3n\",\"T. de adaptaci\\u00f3n\",\"T. de adaptaci\\u00f3n\",\"T. de adaptaci\\u00f3n\",\"T. de adaptaci\\u00f3n\",\"T. de adaptaci\\u00f3n\",\"T. de adaptaci\\u00f3n\",\"T. de adaptaci\\u00f3n\",\"T. de adaptaci\\u00f3n\",\"T. de adaptaci\\u00f3n\",\"T. de adaptaci\\u00f3n\",\"T. de adaptaci\\u00f3n\",\"T. de adaptaci\\u00f3n\",\"T. de adaptaci\\u00f3n\",\"T. de adaptaci\\u00f3n\",\"T. de adaptaci\\u00f3n\",\"T. de adaptaci\\u00f3n\",\"T. de adaptaci\\u00f3n\",\"T. de adaptaci\\u00f3n\",\"T. de adaptaci\\u00f3n\",\"T. de adaptaci\\u00f3n\",\"T. de adaptaci\\u00f3n\",\"T. de adaptaci\\u00f3n\",\"T. de adaptaci\\u00f3n\",\"T. de adaptaci\\u00f3n\",\"T. de adaptaci\\u00f3n\",\"T. de adaptaci\\u00f3n\",\"T. de adaptaci\\u00f3n\",\"T. de adaptaci\\u00f3n\",\"T. de adaptaci\\u00f3n\",\"T. de adaptaci\\u00f3n\",\"T. de adaptaci\\u00f3n\",\"T. de adaptaci\\u00f3n\",\"T. de adaptaci\\u00f3n\",\"T. de adaptaci\\u00f3n\",\"T. de adaptaci\\u00f3n\",\"T. de adaptaci\\u00f3n\",\"T. de adaptaci\\u00f3n\",\"T. de adaptaci\\u00f3n\",\"T. de adaptaci\\u00f3n\",\"T. de adaptaci\\u00f3n\",\"T. de adaptaci\\u00f3n\",\"T. de adaptaci\\u00f3n\",\"T. de adaptaci\\u00f3n\",\"T. de adaptaci\\u00f3n\",\"T. de adaptaci\\u00f3n\",\"T. de adaptaci\\u00f3n\",\"T. de adaptaci\\u00f3n\",\"T. de adaptaci\\u00f3n\",\"T. de adaptaci\\u00f3n\",\"T. de adaptaci\\u00f3n\",\"T. de adaptaci\\u00f3n\",\"T. de adaptaci\\u00f3n\",\"T. de adaptaci\\u00f3n\",\"T. de adaptaci\\u00f3n\",\"T. de adaptaci\\u00f3n\",\"T. de adaptaci\\u00f3n\",\"T. de adaptaci\\u00f3n\",\"T. de adaptaci\\u00f3n\",\"T. de adaptaci\\u00f3n\",\"T. de adaptaci\\u00f3n\",\"T. de adaptaci\\u00f3n\",\"T. de adaptaci\\u00f3n\",\"T. de adaptaci\\u00f3n\",\"T. de adaptaci\\u00f3n\",\"T. de adaptaci\\u00f3n\",\"T. de adaptaci\\u00f3n\",\"T. de adaptaci\\u00f3n\",\"T. de adaptaci\\u00f3n\",\"T. de adaptaci\\u00f3n\",\"T. de adaptaci\\u00f3n\",\"T. de adaptaci\\u00f3n\",\"T. de adaptaci\\u00f3n\",\"T. de adaptaci\\u00f3n\",\"T. de adaptaci\\u00f3n\",\"T. de adaptaci\\u00f3n\",\"T. de adaptaci\\u00f3n\",\"T. de adaptaci\\u00f3n\",\"T. de adaptaci\\u00f3n\",\"T. de adaptaci\\u00f3n\",\"T. de adaptaci\\u00f3n\",\"T. de adaptaci\\u00f3n\",\"T. de adaptaci\\u00f3n\",\"T. de adaptaci\\u00f3n\",\"T. de adaptaci\\u00f3n\",\"T. de adaptaci\\u00f3n\",\"T. de adaptaci\\u00f3n\",\"T. de adaptaci\\u00f3n\",\"T. de adaptaci\\u00f3n\",\"T. de adaptaci\\u00f3n\",\"T. de adaptaci\\u00f3n\",\"T. de adaptaci\\u00f3n\",\"T. de adaptaci\\u00f3n\",\"T. de adaptaci\\u00f3n\",\"T. de adaptaci\\u00f3n\",\"T. de adaptaci\\u00f3n\",\"T. de adaptaci\\u00f3n\",\"T. de adaptaci\\u00f3n\",\"T. de adaptaci\\u00f3n\",\"T. de adaptaci\\u00f3n\",\"T. de adaptaci\\u00f3n\",\"T. de adaptaci\\u00f3n\",\"T. de adaptaci\\u00f3n\",\"T. de adaptaci\\u00f3n\",\"T. de adaptaci\\u00f3n\",\"T. de adaptaci\\u00f3n\",\"T. de adaptaci\\u00f3n\",\"T. de adaptaci\\u00f3n\",\"T. de adaptaci\\u00f3n\",\"T. de adaptaci\\u00f3n\",\"T. de adaptaci\\u00f3n\",\"T. de adaptaci\\u00f3n\",\"T. de adaptaci\\u00f3n\",\"T. de adaptaci\\u00f3n\",\"T. de adaptaci\\u00f3n\",\"T. de adaptaci\\u00f3n\",\"T. de adaptaci\\u00f3n\",\"T. de adaptaci\\u00f3n\",\"T. de adaptaci\\u00f3n\",\"T. de adaptaci\\u00f3n\",\"T. de adaptaci\\u00f3n\",\"T. de adaptaci\\u00f3n\",\"T. de adaptaci\\u00f3n\",\"T. de adaptaci\\u00f3n\",\"T. de adaptaci\\u00f3n\",\"T. de adaptaci\\u00f3n\",\"T. de adaptaci\\u00f3n\",\"T. de adaptaci\\u00f3n\",\"T. de adaptaci\\u00f3n\",\"T. de adaptaci\\u00f3n\",\"T. de adaptaci\\u00f3n\",\"T. de adaptaci\\u00f3n\",\"T. de adaptaci\\u00f3n\",\"T. de adaptaci\\u00f3n\",\"T. de adaptaci\\u00f3n\",\"T. de adaptaci\\u00f3n\",\"T. de adaptaci\\u00f3n\",\"T. de adaptaci\\u00f3n\",\"T. de adaptaci\\u00f3n\",\"T. de adaptaci\\u00f3n\",\"T. de adaptaci\\u00f3n\",\"T. de adaptaci\\u00f3n\",\"T. de adaptaci\\u00f3n\",\"T. de adaptaci\\u00f3n\",\"T. de adaptaci\\u00f3n\",\"T. de adaptaci\\u00f3n\",\"T. de adaptaci\\u00f3n\",\"T. de adaptaci\\u00f3n\",\"T. de adaptaci\\u00f3n\",\"T. de adaptaci\\u00f3n\",\"T. de adaptaci\\u00f3n\",\"T. de adaptaci\\u00f3n\",\"T. de adaptaci\\u00f3n\",\"T. de adaptaci\\u00f3n\",\"T. de adaptaci\\u00f3n\",\"T. de adaptaci\\u00f3n\",\"T. de adaptaci\\u00f3n\",\"T. de adaptaci\\u00f3n\",\"T. de adaptaci\\u00f3n\",\"T. de adaptaci\\u00f3n\",\"T. de adaptaci\\u00f3n\",\"T. de adaptaci\\u00f3n\",\"T. de adaptaci\\u00f3n\",\"T. de adaptaci\\u00f3n\",\"T. de adaptaci\\u00f3n\",\"T. de adaptaci\\u00f3n\",\"T. de adaptaci\\u00f3n\",\"T. de adaptaci\\u00f3n\",\"T. de adaptaci\\u00f3n\",\"T. de adaptaci\\u00f3n\",\"T. de adaptaci\\u00f3n\",\"T. de adaptaci\\u00f3n\",\"T. de adaptaci\\u00f3n\"],\"xaxis\":\"x\",\"yaxis\":\"y\",\"type\":\"histogram\"},{\"bingroup\":\"x\",\"hovertemplate\":\"GRUPO=%{x}\\u003cbr\\u003ecount=%{y}\\u003cextra\\u003e\\u003c\\u002fextra\\u003e\",\"legendgroup\":\"T. personalidad\",\"marker\":{\"color\":\"#ab63fa\",\"pattern\":{\"shape\":\"\"}},\"name\":\"T. personalidad\",\"orientation\":\"v\",\"showlegend\":true,\"texttemplate\":\"%{value}\",\"x\":[\"T. personalidad\",\"T. personalidad\",\"T. personalidad\",\"T. personalidad\",\"T. personalidad\",\"T. personalidad\",\"T. personalidad\",\"T. personalidad\",\"T. personalidad\",\"T. personalidad\",\"T. personalidad\",\"T. personalidad\",\"T. personalidad\",\"T. personalidad\",\"T. personalidad\",\"T. personalidad\",\"T. personalidad\",\"T. personalidad\",\"T. personalidad\",\"T. personalidad\",\"T. personalidad\",\"T. personalidad\",\"T. personalidad\",\"T. personalidad\",\"T. personalidad\",\"T. personalidad\",\"T. personalidad\",\"T. personalidad\",\"T. personalidad\",\"T. personalidad\",\"T. personalidad\",\"T. personalidad\",\"T. personalidad\",\"T. personalidad\",\"T. personalidad\",\"T. personalidad\",\"T. personalidad\",\"T. personalidad\",\"T. personalidad\",\"T. personalidad\",\"T. personalidad\",\"T. personalidad\",\"T. personalidad\",\"T. personalidad\",\"T. personalidad\",\"T. personalidad\",\"T. personalidad\",\"T. personalidad\",\"T. personalidad\",\"T. personalidad\",\"T. personalidad\",\"T. personalidad\",\"T. personalidad\",\"T. personalidad\",\"T. personalidad\",\"T. personalidad\",\"T. personalidad\",\"T. personalidad\",\"T. personalidad\",\"T. personalidad\",\"T. personalidad\",\"T. personalidad\",\"T. personalidad\",\"T. personalidad\",\"T. personalidad\",\"T. personalidad\",\"T. personalidad\",\"T. personalidad\",\"T. personalidad\",\"T. personalidad\",\"T. personalidad\",\"T. personalidad\",\"T. personalidad\",\"T. personalidad\",\"T. personalidad\",\"T. personalidad\",\"T. personalidad\",\"T. personalidad\",\"T. personalidad\",\"T. personalidad\",\"T. personalidad\",\"T. personalidad\",\"T. personalidad\",\"T. personalidad\",\"T. personalidad\",\"T. personalidad\",\"T. personalidad\",\"T. personalidad\",\"T. personalidad\",\"T. personalidad\",\"T. personalidad\",\"T. personalidad\",\"T. personalidad\",\"T. personalidad\",\"T. personalidad\",\"T. personalidad\",\"T. personalidad\",\"T. personalidad\",\"T. personalidad\",\"T. personalidad\",\"T. personalidad\",\"T. personalidad\",\"T. personalidad\",\"T. personalidad\",\"T. personalidad\",\"T. personalidad\",\"T. personalidad\",\"T. personalidad\",\"T. personalidad\",\"T. personalidad\",\"T. personalidad\",\"T. personalidad\",\"T. personalidad\",\"T. personalidad\",\"T. personalidad\",\"T. personalidad\",\"T. personalidad\",\"T. personalidad\",\"T. personalidad\",\"T. personalidad\",\"T. personalidad\",\"T. personalidad\",\"T. personalidad\",\"T. personalidad\",\"T. personalidad\",\"T. personalidad\",\"T. personalidad\",\"T. personalidad\",\"T. personalidad\",\"T. personalidad\",\"T. personalidad\",\"T. personalidad\",\"T. personalidad\",\"T. personalidad\",\"T. personalidad\",\"T. personalidad\",\"T. personalidad\",\"T. personalidad\",\"T. personalidad\",\"T. personalidad\",\"T. personalidad\",\"T. personalidad\",\"T. personalidad\",\"T. personalidad\",\"T. personalidad\",\"T. personalidad\",\"T. personalidad\",\"T. personalidad\",\"T. personalidad\",\"T. personalidad\",\"T. personalidad\",\"T. personalidad\",\"T. personalidad\",\"T. personalidad\",\"T. personalidad\",\"T. personalidad\",\"T. personalidad\",\"T. personalidad\",\"T. personalidad\",\"T. personalidad\",\"T. personalidad\",\"T. personalidad\",\"T. personalidad\",\"T. personalidad\",\"T. personalidad\",\"T. personalidad\",\"T. personalidad\",\"T. personalidad\",\"T. personalidad\",\"T. personalidad\",\"T. personalidad\",\"T. personalidad\",\"T. personalidad\",\"T. personalidad\",\"T. personalidad\",\"T. personalidad\",\"T. personalidad\",\"T. personalidad\",\"T. personalidad\",\"T. personalidad\",\"T. personalidad\",\"T. personalidad\",\"T. personalidad\",\"T. personalidad\",\"T. personalidad\",\"T. personalidad\",\"T. personalidad\",\"T. personalidad\",\"T. personalidad\",\"T. personalidad\",\"T. personalidad\",\"T. personalidad\",\"T. personalidad\",\"T. personalidad\",\"T. personalidad\",\"T. personalidad\",\"T. personalidad\",\"T. personalidad\",\"T. personalidad\",\"T. personalidad\",\"T. personalidad\",\"T. personalidad\",\"T. personalidad\",\"T. personalidad\",\"T. personalidad\",\"T. personalidad\",\"T. personalidad\",\"T. personalidad\",\"T. personalidad\",\"T. personalidad\",\"T. personalidad\",\"T. personalidad\",\"T. personalidad\",\"T. personalidad\",\"T. personalidad\",\"T. personalidad\",\"T. personalidad\",\"T. personalidad\",\"T. personalidad\",\"T. personalidad\",\"T. personalidad\",\"T. personalidad\",\"T. personalidad\",\"T. personalidad\",\"T. personalidad\",\"T. personalidad\",\"T. personalidad\",\"T. personalidad\",\"T. personalidad\",\"T. personalidad\",\"T. personalidad\",\"T. personalidad\",\"T. personalidad\",\"T. personalidad\",\"T. personalidad\",\"T. personalidad\",\"T. personalidad\",\"T. personalidad\",\"T. personalidad\",\"T. personalidad\",\"T. personalidad\",\"T. personalidad\",\"T. personalidad\",\"T. personalidad\",\"T. personalidad\",\"T. personalidad\",\"T. personalidad\",\"T. personalidad\",\"T. personalidad\",\"T. personalidad\",\"T. personalidad\",\"T. personalidad\",\"T. personalidad\",\"T. personalidad\",\"T. personalidad\",\"T. personalidad\",\"T. personalidad\",\"T. personalidad\",\"T. personalidad\",\"T. personalidad\",\"T. personalidad\",\"T. personalidad\",\"T. personalidad\",\"T. personalidad\",\"T. personalidad\",\"T. personalidad\",\"T. personalidad\",\"T. personalidad\",\"T. personalidad\",\"T. personalidad\",\"T. personalidad\",\"T. personalidad\",\"T. personalidad\",\"T. personalidad\",\"T. personalidad\",\"T. personalidad\",\"T. personalidad\",\"T. personalidad\",\"T. personalidad\",\"T. personalidad\",\"T. personalidad\",\"T. personalidad\",\"T. personalidad\",\"T. personalidad\",\"T. personalidad\",\"T. personalidad\",\"T. personalidad\",\"T. personalidad\",\"T. personalidad\",\"T. personalidad\",\"T. personalidad\",\"T. personalidad\",\"T. personalidad\",\"T. personalidad\",\"T. personalidad\",\"T. personalidad\",\"T. personalidad\",\"T. personalidad\",\"T. personalidad\",\"T. personalidad\",\"T. personalidad\",\"T. personalidad\",\"T. personalidad\",\"T. personalidad\",\"T. personalidad\",\"T. personalidad\",\"T. personalidad\",\"T. personalidad\",\"T. personalidad\",\"T. personalidad\",\"T. personalidad\",\"T. personalidad\",\"T. personalidad\"],\"xaxis\":\"x\",\"yaxis\":\"y\",\"type\":\"histogram\"},{\"bingroup\":\"x\",\"hovertemplate\":\"GRUPO=%{x}\\u003cbr\\u003ecount=%{y}\\u003cextra\\u003e\\u003c\\u002fextra\\u003e\",\"legendgroup\":\"T. de ansiedad\",\"marker\":{\"color\":\"#FFA15A\",\"pattern\":{\"shape\":\"\"}},\"name\":\"T. de ansiedad\",\"orientation\":\"v\",\"showlegend\":true,\"texttemplate\":\"%{value}\",\"x\":[\"T. de ansiedad\",\"T. de ansiedad\",\"T. de ansiedad\",\"T. de ansiedad\",\"T. de ansiedad\",\"T. de ansiedad\",\"T. de ansiedad\",\"T. de ansiedad\",\"T. de ansiedad\",\"T. de ansiedad\",\"T. de ansiedad\",\"T. de ansiedad\",\"T. de ansiedad\",\"T. de ansiedad\",\"T. de ansiedad\",\"T. de ansiedad\",\"T. de ansiedad\",\"T. de ansiedad\",\"T. de ansiedad\",\"T. de ansiedad\",\"T. de ansiedad\",\"T. de ansiedad\",\"T. de ansiedad\",\"T. de ansiedad\",\"T. de ansiedad\",\"T. de ansiedad\",\"T. de ansiedad\",\"T. de ansiedad\",\"T. de ansiedad\",\"T. de ansiedad\",\"T. de ansiedad\",\"T. de ansiedad\",\"T. de ansiedad\",\"T. de ansiedad\",\"T. de ansiedad\",\"T. de ansiedad\",\"T. de ansiedad\",\"T. de ansiedad\",\"T. de ansiedad\",\"T. de ansiedad\",\"T. de ansiedad\",\"T. de ansiedad\",\"T. de ansiedad\",\"T. de ansiedad\",\"T. de ansiedad\",\"T. de ansiedad\",\"T. de ansiedad\",\"T. de ansiedad\",\"T. de ansiedad\",\"T. de ansiedad\",\"T. de ansiedad\",\"T. de ansiedad\",\"T. de ansiedad\",\"T. de ansiedad\",\"T. de ansiedad\",\"T. de ansiedad\",\"T. de ansiedad\",\"T. de ansiedad\",\"T. de ansiedad\",\"T. de ansiedad\",\"T. de ansiedad\",\"T. de ansiedad\",\"T. de ansiedad\",\"T. de ansiedad\",\"T. de ansiedad\",\"T. de ansiedad\",\"T. de ansiedad\",\"T. de ansiedad\",\"T. de ansiedad\",\"T. de ansiedad\",\"T. de ansiedad\",\"T. de ansiedad\",\"T. de ansiedad\",\"T. de ansiedad\",\"T. de ansiedad\",\"T. de ansiedad\",\"T. de ansiedad\",\"T. de ansiedad\",\"T. de ansiedad\",\"T. de ansiedad\",\"T. de ansiedad\",\"T. de ansiedad\",\"T. de ansiedad\",\"T. de ansiedad\",\"T. de ansiedad\",\"T. de ansiedad\",\"T. de ansiedad\",\"T. de ansiedad\",\"T. de ansiedad\",\"T. de ansiedad\",\"T. de ansiedad\",\"T. de ansiedad\",\"T. de ansiedad\",\"T. de ansiedad\",\"T. de ansiedad\",\"T. de ansiedad\",\"T. de ansiedad\",\"T. de ansiedad\",\"T. de ansiedad\",\"T. de ansiedad\",\"T. de ansiedad\",\"T. de ansiedad\",\"T. de ansiedad\",\"T. de ansiedad\",\"T. de ansiedad\",\"T. de ansiedad\",\"T. de ansiedad\",\"T. de ansiedad\",\"T. de ansiedad\",\"T. de ansiedad\",\"T. de ansiedad\",\"T. de ansiedad\",\"T. de ansiedad\",\"T. de ansiedad\",\"T. de ansiedad\",\"T. de ansiedad\",\"T. de ansiedad\",\"T. de ansiedad\",\"T. de ansiedad\",\"T. de ansiedad\",\"T. de ansiedad\",\"T. de ansiedad\",\"T. de ansiedad\",\"T. de ansiedad\",\"T. de ansiedad\",\"T. de ansiedad\",\"T. de ansiedad\",\"T. de ansiedad\",\"T. de ansiedad\",\"T. de ansiedad\",\"T. de ansiedad\",\"T. de ansiedad\",\"T. de ansiedad\",\"T. de ansiedad\",\"T. de ansiedad\",\"T. de ansiedad\",\"T. de ansiedad\",\"T. de ansiedad\",\"T. de ansiedad\",\"T. de ansiedad\",\"T. de ansiedad\",\"T. de ansiedad\",\"T. de ansiedad\",\"T. de ansiedad\",\"T. de ansiedad\",\"T. de ansiedad\",\"T. de ansiedad\",\"T. de ansiedad\",\"T. de ansiedad\",\"T. de ansiedad\",\"T. de ansiedad\",\"T. de ansiedad\",\"T. de ansiedad\",\"T. de ansiedad\",\"T. de ansiedad\",\"T. de ansiedad\",\"T. de ansiedad\",\"T. de ansiedad\",\"T. de ansiedad\",\"T. de ansiedad\",\"T. de ansiedad\",\"T. de ansiedad\",\"T. de ansiedad\",\"T. de ansiedad\",\"T. de ansiedad\",\"T. de ansiedad\",\"T. de ansiedad\",\"T. de ansiedad\",\"T. de ansiedad\",\"T. de ansiedad\",\"T. de ansiedad\",\"T. de ansiedad\",\"T. de ansiedad\",\"T. de ansiedad\",\"T. de ansiedad\",\"T. de ansiedad\",\"T. de ansiedad\",\"T. de ansiedad\",\"T. de ansiedad\",\"T. de ansiedad\",\"T. de ansiedad\",\"T. de ansiedad\",\"T. de ansiedad\",\"T. de ansiedad\",\"T. de ansiedad\",\"T. de ansiedad\",\"T. de ansiedad\",\"T. de ansiedad\",\"T. de ansiedad\",\"T. de ansiedad\",\"T. de ansiedad\",\"T. de ansiedad\",\"T. de ansiedad\",\"T. de ansiedad\",\"T. de ansiedad\",\"T. de ansiedad\",\"T. de ansiedad\",\"T. de ansiedad\",\"T. de ansiedad\",\"T. de ansiedad\",\"T. de ansiedad\",\"T. de ansiedad\",\"T. de ansiedad\",\"T. de ansiedad\",\"T. de ansiedad\",\"T. de ansiedad\",\"T. de ansiedad\",\"T. de ansiedad\",\"T. de ansiedad\",\"T. de ansiedad\",\"T. de ansiedad\",\"T. de ansiedad\",\"T. de ansiedad\",\"T. de ansiedad\",\"T. de ansiedad\",\"T. de ansiedad\",\"T. de ansiedad\",\"T. de ansiedad\",\"T. de ansiedad\",\"T. de ansiedad\",\"T. de ansiedad\",\"T. de ansiedad\",\"T. de ansiedad\",\"T. de ansiedad\",\"T. de ansiedad\",\"T. de ansiedad\",\"T. de ansiedad\",\"T. de ansiedad\",\"T. de ansiedad\",\"T. de ansiedad\",\"T. de ansiedad\",\"T. de ansiedad\",\"T. de ansiedad\",\"T. de ansiedad\",\"T. de ansiedad\",\"T. de ansiedad\",\"T. de ansiedad\",\"T. de ansiedad\",\"T. de ansiedad\",\"T. de ansiedad\",\"T. de ansiedad\",\"T. de ansiedad\",\"T. de ansiedad\",\"T. de ansiedad\",\"T. de ansiedad\",\"T. de ansiedad\",\"T. de ansiedad\",\"T. de ansiedad\",\"T. de ansiedad\",\"T. de ansiedad\",\"T. de ansiedad\",\"T. de ansiedad\",\"T. de ansiedad\",\"T. de ansiedad\",\"T. de ansiedad\",\"T. de ansiedad\",\"T. de ansiedad\",\"T. de ansiedad\",\"T. de ansiedad\",\"T. de ansiedad\",\"T. de ansiedad\",\"T. de ansiedad\",\"T. de ansiedad\",\"T. de ansiedad\",\"T. de ansiedad\",\"T. de ansiedad\",\"T. de ansiedad\",\"T. de ansiedad\",\"T. de ansiedad\",\"T. de ansiedad\",\"T. de ansiedad\",\"T. de ansiedad\",\"T. de ansiedad\",\"T. de ansiedad\",\"T. de ansiedad\",\"T. de ansiedad\",\"T. de ansiedad\",\"T. de ansiedad\",\"T. de ansiedad\",\"T. de ansiedad\",\"T. de ansiedad\",\"T. de ansiedad\",\"T. de ansiedad\",\"T. de ansiedad\",\"T. de ansiedad\",\"T. de ansiedad\",\"T. de ansiedad\",\"T. de ansiedad\",\"T. de ansiedad\",\"T. de ansiedad\",\"T. de ansiedad\",\"T. de ansiedad\",\"T. de ansiedad\",\"T. de ansiedad\",\"T. de ansiedad\",\"T. de ansiedad\",\"T. de ansiedad\",\"T. de ansiedad\",\"T. de ansiedad\",\"T. de ansiedad\",\"T. de ansiedad\",\"T. de ansiedad\",\"T. de ansiedad\",\"T. de ansiedad\",\"T. de ansiedad\",\"T. de ansiedad\",\"T. de ansiedad\",\"T. de ansiedad\",\"T. de ansiedad\",\"T. de ansiedad\",\"T. de ansiedad\",\"T. de ansiedad\",\"T. de ansiedad\",\"T. de ansiedad\",\"T. de ansiedad\",\"T. de ansiedad\",\"T. de ansiedad\",\"T. de ansiedad\",\"T. de ansiedad\",\"T. de ansiedad\",\"T. de ansiedad\",\"T. de ansiedad\",\"T. de ansiedad\",\"T. de ansiedad\",\"T. de ansiedad\",\"T. de ansiedad\",\"T. de ansiedad\",\"T. de ansiedad\",\"T. de ansiedad\",\"T. de ansiedad\",\"T. de ansiedad\",\"T. de ansiedad\",\"T. de ansiedad\",\"T. de ansiedad\",\"T. de ansiedad\",\"T. de ansiedad\",\"T. de ansiedad\",\"T. de ansiedad\",\"T. de ansiedad\",\"T. de ansiedad\",\"T. de ansiedad\",\"T. de ansiedad\",\"T. de ansiedad\",\"T. de ansiedad\",\"T. de ansiedad\",\"T. de ansiedad\",\"T. de ansiedad\",\"T. de ansiedad\",\"T. de ansiedad\",\"T. de ansiedad\",\"T. de ansiedad\",\"T. de ansiedad\",\"T. de ansiedad\",\"T. de ansiedad\",\"T. de ansiedad\",\"T. de ansiedad\",\"T. de ansiedad\",\"T. de ansiedad\",\"T. de ansiedad\",\"T. de ansiedad\",\"T. de ansiedad\",\"T. de ansiedad\",\"T. de ansiedad\",\"T. de ansiedad\",\"T. de ansiedad\",\"T. de ansiedad\",\"T. de ansiedad\",\"T. de ansiedad\",\"T. de ansiedad\",\"T. de ansiedad\",\"T. de ansiedad\",\"T. de ansiedad\",\"T. de ansiedad\",\"T. de ansiedad\",\"T. de ansiedad\",\"T. de ansiedad\",\"T. de ansiedad\",\"T. de ansiedad\",\"T. de ansiedad\",\"T. de ansiedad\",\"T. de ansiedad\",\"T. de ansiedad\",\"T. de ansiedad\",\"T. de ansiedad\",\"T. de ansiedad\",\"T. de ansiedad\",\"T. de ansiedad\",\"T. de ansiedad\",\"T. de ansiedad\",\"T. de ansiedad\",\"T. de ansiedad\",\"T. de ansiedad\",\"T. de ansiedad\",\"T. de ansiedad\",\"T. de ansiedad\",\"T. de ansiedad\",\"T. de ansiedad\",\"T. de ansiedad\",\"T. de ansiedad\",\"T. de ansiedad\",\"T. de ansiedad\",\"T. de ansiedad\",\"T. de ansiedad\",\"T. de ansiedad\",\"T. de ansiedad\",\"T. de ansiedad\",\"T. de ansiedad\",\"T. de ansiedad\",\"T. de ansiedad\",\"T. de ansiedad\",\"T. de ansiedad\",\"T. de ansiedad\",\"T. de ansiedad\",\"T. de ansiedad\",\"T. de ansiedad\",\"T. de ansiedad\",\"T. de ansiedad\",\"T. de ansiedad\",\"T. de ansiedad\",\"T. de ansiedad\",\"T. de ansiedad\",\"T. de ansiedad\",\"T. de ansiedad\",\"T. de ansiedad\",\"T. de ansiedad\",\"T. de ansiedad\",\"T. de ansiedad\",\"T. de ansiedad\",\"T. de ansiedad\",\"T. de ansiedad\",\"T. de ansiedad\",\"T. de ansiedad\",\"T. de ansiedad\",\"T. de ansiedad\",\"T. de ansiedad\",\"T. de ansiedad\",\"T. de ansiedad\",\"T. de ansiedad\",\"T. de ansiedad\",\"T. de ansiedad\",\"T. de ansiedad\",\"T. de ansiedad\",\"T. de ansiedad\",\"T. de ansiedad\",\"T. de ansiedad\",\"T. de ansiedad\",\"T. de ansiedad\",\"T. de ansiedad\",\"T. de ansiedad\",\"T. de ansiedad\",\"T. de ansiedad\",\"T. de ansiedad\",\"T. de ansiedad\",\"T. de ansiedad\",\"T. de ansiedad\",\"T. de ansiedad\",\"T. de ansiedad\",\"T. de ansiedad\",\"T. de ansiedad\",\"T. de ansiedad\",\"T. de ansiedad\",\"T. de ansiedad\",\"T. de ansiedad\",\"T. de ansiedad\",\"T. de ansiedad\",\"T. de ansiedad\",\"T. de ansiedad\",\"T. de ansiedad\",\"T. de ansiedad\",\"T. de ansiedad\",\"T. de ansiedad\",\"T. de ansiedad\",\"T. de ansiedad\",\"T. de ansiedad\",\"T. de ansiedad\",\"T. de ansiedad\",\"T. de ansiedad\",\"T. de ansiedad\",\"T. de ansiedad\",\"T. de ansiedad\",\"T. de ansiedad\",\"T. de ansiedad\",\"T. de ansiedad\",\"T. de ansiedad\",\"T. de ansiedad\",\"T. de ansiedad\",\"T. de ansiedad\",\"T. de ansiedad\",\"T. de ansiedad\",\"T. de ansiedad\",\"T. de ansiedad\",\"T. de ansiedad\",\"T. de ansiedad\",\"T. de ansiedad\",\"T. de ansiedad\",\"T. de ansiedad\",\"T. de ansiedad\",\"T. de ansiedad\",\"T. de ansiedad\",\"T. de ansiedad\",\"T. de ansiedad\",\"T. de ansiedad\",\"T. de ansiedad\",\"T. de ansiedad\",\"T. de ansiedad\",\"T. de ansiedad\",\"T. de ansiedad\",\"T. de ansiedad\",\"T. de ansiedad\",\"T. de ansiedad\",\"T. de ansiedad\",\"T. de ansiedad\",\"T. de ansiedad\",\"T. de ansiedad\",\"T. de ansiedad\",\"T. de ansiedad\",\"T. de ansiedad\",\"T. de ansiedad\",\"T. de ansiedad\",\"T. de ansiedad\",\"T. de ansiedad\",\"T. de ansiedad\",\"T. de ansiedad\",\"T. de ansiedad\",\"T. de ansiedad\",\"T. de ansiedad\",\"T. de ansiedad\",\"T. de ansiedad\",\"T. de ansiedad\",\"T. de ansiedad\",\"T. de ansiedad\",\"T. de ansiedad\",\"T. de ansiedad\",\"T. de ansiedad\",\"T. de ansiedad\",\"T. de ansiedad\",\"T. de ansiedad\",\"T. de ansiedad\",\"T. de ansiedad\",\"T. de ansiedad\",\"T. de ansiedad\",\"T. de ansiedad\",\"T. de ansiedad\",\"T. de ansiedad\",\"T. de ansiedad\",\"T. de ansiedad\",\"T. de ansiedad\",\"T. de ansiedad\",\"T. de ansiedad\",\"T. de ansiedad\",\"T. de ansiedad\",\"T. de ansiedad\",\"T. de ansiedad\",\"T. de ansiedad\",\"T. de ansiedad\",\"T. de ansiedad\",\"T. de ansiedad\",\"T. de ansiedad\",\"T. de ansiedad\",\"T. de ansiedad\",\"T. de ansiedad\",\"T. de ansiedad\",\"T. de ansiedad\",\"T. de ansiedad\",\"T. de ansiedad\",\"T. de ansiedad\",\"T. de ansiedad\",\"T. de ansiedad\",\"T. de ansiedad\",\"T. de ansiedad\",\"T. de ansiedad\",\"T. de ansiedad\",\"T. de ansiedad\",\"T. de ansiedad\",\"T. de ansiedad\",\"T. de ansiedad\",\"T. de ansiedad\",\"T. de ansiedad\",\"T. de ansiedad\",\"T. de ansiedad\",\"T. de ansiedad\",\"T. de ansiedad\",\"T. de ansiedad\",\"T. de ansiedad\",\"T. de ansiedad\",\"T. de ansiedad\",\"T. de ansiedad\",\"T. de ansiedad\",\"T. de ansiedad\",\"T. de ansiedad\",\"T. de ansiedad\",\"T. de ansiedad\",\"T. de ansiedad\",\"T. de ansiedad\",\"T. de ansiedad\",\"T. de ansiedad\",\"T. de ansiedad\",\"T. de ansiedad\",\"T. de ansiedad\",\"T. de ansiedad\",\"T. de ansiedad\",\"T. de ansiedad\",\"T. de ansiedad\",\"T. de ansiedad\",\"T. de ansiedad\",\"T. de ansiedad\",\"T. de ansiedad\",\"T. de ansiedad\",\"T. de ansiedad\",\"T. de ansiedad\",\"T. de ansiedad\",\"T. de ansiedad\",\"T. de ansiedad\",\"T. de ansiedad\",\"T. de ansiedad\",\"T. de ansiedad\",\"T. de ansiedad\",\"T. de ansiedad\",\"T. de ansiedad\",\"T. de ansiedad\",\"T. de ansiedad\",\"T. de ansiedad\",\"T. de ansiedad\",\"T. de ansiedad\",\"T. de ansiedad\",\"T. de ansiedad\",\"T. de ansiedad\",\"T. de ansiedad\",\"T. de ansiedad\",\"T. de ansiedad\",\"T. de ansiedad\",\"T. de ansiedad\",\"T. de ansiedad\",\"T. de ansiedad\",\"T. de ansiedad\",\"T. de ansiedad\",\"T. de ansiedad\",\"T. de ansiedad\",\"T. de ansiedad\",\"T. de ansiedad\",\"T. de ansiedad\",\"T. de ansiedad\",\"T. de ansiedad\",\"T. de ansiedad\",\"T. de ansiedad\",\"T. de ansiedad\",\"T. de ansiedad\",\"T. de ansiedad\",\"T. de ansiedad\",\"T. de ansiedad\",\"T. de ansiedad\",\"T. de ansiedad\",\"T. de ansiedad\",\"T. de ansiedad\",\"T. de ansiedad\",\"T. de ansiedad\",\"T. de ansiedad\",\"T. de ansiedad\",\"T. de ansiedad\",\"T. de ansiedad\",\"T. de ansiedad\",\"T. de ansiedad\",\"T. de ansiedad\",\"T. de ansiedad\",\"T. de ansiedad\",\"T. de ansiedad\",\"T. de ansiedad\",\"T. de ansiedad\",\"T. de ansiedad\",\"T. de ansiedad\",\"T. de ansiedad\",\"T. de ansiedad\",\"T. de ansiedad\",\"T. de ansiedad\",\"T. de ansiedad\",\"T. de ansiedad\",\"T. de ansiedad\",\"T. de ansiedad\",\"T. de ansiedad\",\"T. de ansiedad\",\"T. de ansiedad\",\"T. de ansiedad\",\"T. de ansiedad\",\"T. de ansiedad\",\"T. de ansiedad\",\"T. de ansiedad\",\"T. de ansiedad\",\"T. de ansiedad\",\"T. de ansiedad\",\"T. de ansiedad\",\"T. de ansiedad\",\"T. de ansiedad\",\"T. de ansiedad\",\"T. de ansiedad\",\"T. de ansiedad\",\"T. de ansiedad\",\"T. de ansiedad\",\"T. de ansiedad\",\"T. de ansiedad\",\"T. de ansiedad\",\"T. de ansiedad\",\"T. de ansiedad\",\"T. de ansiedad\",\"T. de ansiedad\",\"T. de ansiedad\",\"T. de ansiedad\",\"T. de ansiedad\",\"T. de ansiedad\",\"T. de ansiedad\",\"T. de ansiedad\",\"T. de ansiedad\",\"T. de ansiedad\",\"T. de ansiedad\",\"T. de ansiedad\",\"T. de ansiedad\",\"T. de ansiedad\",\"T. de ansiedad\",\"T. de ansiedad\",\"T. de ansiedad\",\"T. de ansiedad\",\"T. de ansiedad\",\"T. de ansiedad\",\"T. de ansiedad\",\"T. de ansiedad\",\"T. de ansiedad\",\"T. de ansiedad\",\"T. de ansiedad\",\"T. de ansiedad\",\"T. de ansiedad\",\"T. de ansiedad\",\"T. de ansiedad\",\"T. de ansiedad\",\"T. de ansiedad\",\"T. de ansiedad\",\"T. de ansiedad\",\"T. de ansiedad\",\"T. de ansiedad\",\"T. de ansiedad\",\"T. de ansiedad\",\"T. de ansiedad\",\"T. de ansiedad\",\"T. de ansiedad\",\"T. de ansiedad\",\"T. de ansiedad\",\"T. de ansiedad\",\"T. de ansiedad\",\"T. de ansiedad\",\"T. de ansiedad\",\"T. de ansiedad\",\"T. de ansiedad\",\"T. de ansiedad\",\"T. de ansiedad\",\"T. de ansiedad\",\"T. de ansiedad\",\"T. de ansiedad\",\"T. de ansiedad\",\"T. de ansiedad\",\"T. de ansiedad\",\"T. de ansiedad\",\"T. de ansiedad\",\"T. de ansiedad\",\"T. de ansiedad\",\"T. de ansiedad\",\"T. de ansiedad\",\"T. de ansiedad\",\"T. de ansiedad\",\"T. de ansiedad\",\"T. de ansiedad\",\"T. de ansiedad\",\"T. de ansiedad\",\"T. de ansiedad\",\"T. de ansiedad\",\"T. de ansiedad\",\"T. de ansiedad\",\"T. de ansiedad\",\"T. de ansiedad\",\"T. de ansiedad\",\"T. de ansiedad\",\"T. de ansiedad\",\"T. de ansiedad\",\"T. de ansiedad\",\"T. de ansiedad\",\"T. de ansiedad\",\"T. de ansiedad\",\"T. de ansiedad\",\"T. de ansiedad\",\"T. de ansiedad\",\"T. de ansiedad\",\"T. de ansiedad\",\"T. de ansiedad\",\"T. de ansiedad\",\"T. de ansiedad\",\"T. de ansiedad\",\"T. de ansiedad\",\"T. de ansiedad\",\"T. de ansiedad\",\"T. de ansiedad\",\"T. de ansiedad\",\"T. de ansiedad\",\"T. de ansiedad\",\"T. de ansiedad\",\"T. de ansiedad\",\"T. de ansiedad\",\"T. de ansiedad\",\"T. de ansiedad\",\"T. de ansiedad\",\"T. de ansiedad\",\"T. de ansiedad\",\"T. de ansiedad\",\"T. de ansiedad\",\"T. de ansiedad\",\"T. de ansiedad\",\"T. de ansiedad\",\"T. de ansiedad\",\"T. de ansiedad\",\"T. de ansiedad\",\"T. de ansiedad\"],\"xaxis\":\"x\",\"yaxis\":\"y\",\"type\":\"histogram\"},{\"bingroup\":\"x\",\"hovertemplate\":\"GRUPO=%{x}\\u003cbr\\u003ecount=%{y}\\u003cextra\\u003e\\u003c\\u002fextra\\u003e\",\"legendgroup\":\"T. depresivos\",\"marker\":{\"color\":\"#19d3f3\",\"pattern\":{\"shape\":\"\"}},\"name\":\"T. depresivos\",\"orientation\":\"v\",\"showlegend\":true,\"texttemplate\":\"%{value}\",\"x\":[\"T. depresivos\",\"T. depresivos\",\"T. depresivos\",\"T. depresivos\",\"T. depresivos\",\"T. depresivos\",\"T. depresivos\",\"T. depresivos\",\"T. depresivos\",\"T. depresivos\",\"T. depresivos\",\"T. depresivos\",\"T. depresivos\",\"T. depresivos\",\"T. depresivos\",\"T. depresivos\",\"T. depresivos\",\"T. depresivos\",\"T. depresivos\",\"T. depresivos\",\"T. depresivos\",\"T. depresivos\",\"T. depresivos\",\"T. depresivos\",\"T. depresivos\",\"T. depresivos\",\"T. depresivos\",\"T. depresivos\",\"T. depresivos\",\"T. depresivos\",\"T. depresivos\",\"T. depresivos\",\"T. depresivos\",\"T. depresivos\",\"T. depresivos\",\"T. depresivos\",\"T. depresivos\",\"T. depresivos\",\"T. depresivos\",\"T. depresivos\",\"T. depresivos\",\"T. depresivos\",\"T. depresivos\",\"T. depresivos\",\"T. depresivos\",\"T. depresivos\",\"T. depresivos\",\"T. depresivos\",\"T. depresivos\",\"T. depresivos\",\"T. depresivos\",\"T. depresivos\",\"T. depresivos\",\"T. depresivos\",\"T. depresivos\",\"T. depresivos\",\"T. depresivos\",\"T. depresivos\",\"T. depresivos\",\"T. depresivos\",\"T. depresivos\",\"T. depresivos\",\"T. depresivos\",\"T. depresivos\",\"T. depresivos\",\"T. depresivos\",\"T. depresivos\",\"T. depresivos\",\"T. depresivos\",\"T. depresivos\",\"T. depresivos\",\"T. depresivos\",\"T. depresivos\",\"T. depresivos\",\"T. depresivos\",\"T. depresivos\",\"T. depresivos\",\"T. depresivos\",\"T. depresivos\",\"T. depresivos\",\"T. depresivos\",\"T. depresivos\",\"T. depresivos\",\"T. depresivos\",\"T. depresivos\",\"T. depresivos\",\"T. depresivos\",\"T. depresivos\",\"T. depresivos\",\"T. depresivos\",\"T. depresivos\",\"T. depresivos\",\"T. depresivos\",\"T. depresivos\",\"T. depresivos\",\"T. depresivos\",\"T. depresivos\",\"T. depresivos\",\"T. depresivos\",\"T. depresivos\",\"T. depresivos\",\"T. depresivos\",\"T. depresivos\",\"T. depresivos\",\"T. depresivos\",\"T. depresivos\",\"T. depresivos\",\"T. depresivos\",\"T. depresivos\",\"T. depresivos\",\"T. depresivos\",\"T. depresivos\",\"T. depresivos\",\"T. depresivos\",\"T. depresivos\",\"T. depresivos\",\"T. depresivos\",\"T. depresivos\",\"T. depresivos\",\"T. depresivos\",\"T. depresivos\",\"T. depresivos\",\"T. depresivos\",\"T. depresivos\",\"T. depresivos\",\"T. depresivos\",\"T. depresivos\",\"T. depresivos\",\"T. depresivos\",\"T. depresivos\",\"T. depresivos\",\"T. depresivos\",\"T. depresivos\",\"T. depresivos\",\"T. depresivos\",\"T. depresivos\",\"T. depresivos\",\"T. depresivos\",\"T. depresivos\",\"T. depresivos\",\"T. depresivos\",\"T. depresivos\",\"T. depresivos\",\"T. depresivos\",\"T. depresivos\",\"T. depresivos\",\"T. depresivos\",\"T. depresivos\",\"T. depresivos\",\"T. depresivos\",\"T. depresivos\",\"T. depresivos\",\"T. depresivos\",\"T. depresivos\",\"T. depresivos\",\"T. depresivos\",\"T. depresivos\",\"T. depresivos\",\"T. depresivos\",\"T. depresivos\",\"T. depresivos\",\"T. depresivos\",\"T. depresivos\",\"T. depresivos\",\"T. depresivos\",\"T. depresivos\",\"T. depresivos\",\"T. depresivos\",\"T. depresivos\",\"T. depresivos\",\"T. depresivos\",\"T. depresivos\",\"T. depresivos\",\"T. depresivos\",\"T. depresivos\",\"T. depresivos\",\"T. depresivos\",\"T. depresivos\",\"T. depresivos\",\"T. depresivos\",\"T. depresivos\",\"T. depresivos\",\"T. depresivos\",\"T. depresivos\",\"T. depresivos\",\"T. depresivos\",\"T. depresivos\",\"T. depresivos\",\"T. depresivos\",\"T. depresivos\",\"T. depresivos\",\"T. depresivos\",\"T. depresivos\",\"T. depresivos\",\"T. depresivos\",\"T. depresivos\",\"T. depresivos\",\"T. depresivos\",\"T. depresivos\",\"T. depresivos\",\"T. depresivos\",\"T. depresivos\",\"T. depresivos\",\"T. depresivos\",\"T. depresivos\",\"T. depresivos\",\"T. depresivos\",\"T. depresivos\",\"T. depresivos\",\"T. depresivos\",\"T. depresivos\",\"T. depresivos\",\"T. depresivos\",\"T. depresivos\",\"T. depresivos\",\"T. depresivos\",\"T. depresivos\",\"T. depresivos\",\"T. depresivos\",\"T. depresivos\",\"T. depresivos\",\"T. depresivos\",\"T. depresivos\",\"T. depresivos\",\"T. depresivos\",\"T. depresivos\",\"T. depresivos\",\"T. depresivos\",\"T. depresivos\",\"T. depresivos\",\"T. depresivos\",\"T. depresivos\",\"T. depresivos\",\"T. depresivos\",\"T. depresivos\",\"T. depresivos\",\"T. depresivos\",\"T. depresivos\",\"T. depresivos\",\"T. depresivos\",\"T. depresivos\",\"T. depresivos\",\"T. depresivos\",\"T. depresivos\",\"T. depresivos\",\"T. depresivos\",\"T. depresivos\",\"T. depresivos\",\"T. depresivos\",\"T. depresivos\",\"T. depresivos\",\"T. depresivos\",\"T. depresivos\",\"T. depresivos\",\"T. depresivos\",\"T. depresivos\",\"T. depresivos\",\"T. depresivos\",\"T. depresivos\",\"T. depresivos\",\"T. depresivos\",\"T. depresivos\",\"T. depresivos\",\"T. depresivos\",\"T. depresivos\",\"T. depresivos\",\"T. depresivos\",\"T. depresivos\",\"T. depresivos\",\"T. depresivos\",\"T. depresivos\",\"T. depresivos\",\"T. depresivos\",\"T. depresivos\",\"T. depresivos\",\"T. depresivos\",\"T. depresivos\",\"T. depresivos\",\"T. depresivos\",\"T. depresivos\",\"T. depresivos\",\"T. depresivos\",\"T. depresivos\",\"T. depresivos\",\"T. depresivos\",\"T. depresivos\",\"T. depresivos\",\"T. depresivos\",\"T. depresivos\",\"T. depresivos\",\"T. depresivos\",\"T. depresivos\",\"T. depresivos\",\"T. depresivos\",\"T. depresivos\",\"T. depresivos\",\"T. depresivos\",\"T. depresivos\",\"T. depresivos\",\"T. depresivos\",\"T. depresivos\",\"T. depresivos\",\"T. depresivos\",\"T. depresivos\",\"T. depresivos\",\"T. depresivos\",\"T. depresivos\",\"T. depresivos\",\"T. depresivos\",\"T. depresivos\",\"T. depresivos\",\"T. depresivos\",\"T. depresivos\",\"T. depresivos\",\"T. depresivos\",\"T. depresivos\",\"T. depresivos\",\"T. depresivos\",\"T. depresivos\",\"T. depresivos\",\"T. depresivos\",\"T. depresivos\",\"T. depresivos\",\"T. depresivos\",\"T. depresivos\",\"T. depresivos\",\"T. depresivos\",\"T. depresivos\",\"T. depresivos\",\"T. depresivos\",\"T. depresivos\",\"T. depresivos\",\"T. depresivos\",\"T. depresivos\",\"T. depresivos\",\"T. depresivos\",\"T. depresivos\",\"T. depresivos\",\"T. depresivos\",\"T. depresivos\",\"T. depresivos\",\"T. depresivos\",\"T. depresivos\",\"T. depresivos\",\"T. depresivos\",\"T. depresivos\",\"T. depresivos\",\"T. depresivos\",\"T. depresivos\",\"T. depresivos\",\"T. depresivos\",\"T. depresivos\",\"T. depresivos\",\"T. depresivos\",\"T. depresivos\",\"T. depresivos\",\"T. depresivos\",\"T. depresivos\",\"T. depresivos\",\"T. depresivos\",\"T. depresivos\",\"T. depresivos\",\"T. depresivos\",\"T. depresivos\",\"T. depresivos\",\"T. depresivos\",\"T. depresivos\",\"T. depresivos\",\"T. depresivos\",\"T. depresivos\",\"T. depresivos\",\"T. depresivos\",\"T. depresivos\",\"T. depresivos\",\"T. depresivos\",\"T. depresivos\",\"T. depresivos\",\"T. depresivos\",\"T. depresivos\",\"T. depresivos\",\"T. depresivos\",\"T. depresivos\",\"T. depresivos\",\"T. depresivos\",\"T. depresivos\",\"T. depresivos\",\"T. depresivos\",\"T. depresivos\",\"T. depresivos\",\"T. depresivos\",\"T. depresivos\",\"T. depresivos\",\"T. depresivos\",\"T. depresivos\",\"T. depresivos\",\"T. depresivos\",\"T. depresivos\",\"T. depresivos\",\"T. depresivos\",\"T. depresivos\",\"T. depresivos\",\"T. depresivos\",\"T. depresivos\",\"T. depresivos\",\"T. depresivos\",\"T. depresivos\",\"T. depresivos\",\"T. depresivos\",\"T. depresivos\",\"T. depresivos\",\"T. depresivos\",\"T. depresivos\",\"T. depresivos\",\"T. depresivos\",\"T. depresivos\",\"T. depresivos\",\"T. depresivos\",\"T. depresivos\",\"T. depresivos\",\"T. depresivos\",\"T. depresivos\",\"T. depresivos\",\"T. depresivos\",\"T. depresivos\",\"T. depresivos\",\"T. depresivos\",\"T. depresivos\",\"T. depresivos\",\"T. depresivos\",\"T. depresivos\",\"T. depresivos\",\"T. depresivos\",\"T. depresivos\",\"T. depresivos\",\"T. depresivos\",\"T. depresivos\",\"T. depresivos\",\"T. depresivos\",\"T. depresivos\",\"T. depresivos\",\"T. depresivos\",\"T. depresivos\",\"T. depresivos\",\"T. depresivos\",\"T. depresivos\",\"T. depresivos\",\"T. depresivos\",\"T. depresivos\",\"T. depresivos\",\"T. depresivos\",\"T. depresivos\",\"T. depresivos\",\"T. depresivos\",\"T. depresivos\",\"T. depresivos\",\"T. depresivos\",\"T. depresivos\",\"T. depresivos\",\"T. depresivos\",\"T. depresivos\",\"T. depresivos\",\"T. depresivos\",\"T. depresivos\",\"T. depresivos\",\"T. depresivos\",\"T. depresivos\",\"T. depresivos\",\"T. depresivos\",\"T. depresivos\",\"T. depresivos\",\"T. depresivos\",\"T. depresivos\",\"T. depresivos\",\"T. depresivos\",\"T. depresivos\",\"T. depresivos\",\"T. depresivos\",\"T. depresivos\",\"T. depresivos\",\"T. depresivos\",\"T. depresivos\",\"T. depresivos\",\"T. depresivos\",\"T. depresivos\",\"T. depresivos\",\"T. depresivos\",\"T. depresivos\",\"T. depresivos\",\"T. depresivos\",\"T. depresivos\",\"T. depresivos\",\"T. depresivos\",\"T. depresivos\",\"T. depresivos\",\"T. depresivos\",\"T. depresivos\",\"T. depresivos\",\"T. depresivos\",\"T. depresivos\",\"T. depresivos\",\"T. depresivos\",\"T. depresivos\",\"T. depresivos\",\"T. depresivos\",\"T. depresivos\",\"T. depresivos\",\"T. depresivos\",\"T. depresivos\",\"T. depresivos\",\"T. depresivos\",\"T. depresivos\",\"T. depresivos\",\"T. depresivos\",\"T. depresivos\",\"T. depresivos\",\"T. depresivos\",\"T. depresivos\",\"T. depresivos\",\"T. depresivos\",\"T. depresivos\",\"T. depresivos\",\"T. depresivos\",\"T. depresivos\",\"T. depresivos\",\"T. depresivos\",\"T. depresivos\",\"T. depresivos\",\"T. depresivos\",\"T. depresivos\",\"T. depresivos\",\"T. depresivos\",\"T. depresivos\",\"T. depresivos\",\"T. depresivos\",\"T. depresivos\",\"T. depresivos\",\"T. depresivos\",\"T. depresivos\",\"T. depresivos\",\"T. depresivos\",\"T. depresivos\",\"T. depresivos\",\"T. depresivos\",\"T. depresivos\",\"T. depresivos\",\"T. depresivos\",\"T. depresivos\",\"T. depresivos\",\"T. depresivos\",\"T. depresivos\",\"T. depresivos\",\"T. depresivos\",\"T. depresivos\",\"T. depresivos\",\"T. depresivos\",\"T. depresivos\",\"T. depresivos\",\"T. depresivos\",\"T. depresivos\",\"T. depresivos\",\"T. depresivos\",\"T. depresivos\",\"T. depresivos\",\"T. depresivos\",\"T. depresivos\",\"T. depresivos\",\"T. depresivos\",\"T. depresivos\",\"T. depresivos\",\"T. depresivos\",\"T. depresivos\",\"T. depresivos\",\"T. depresivos\",\"T. depresivos\",\"T. depresivos\",\"T. depresivos\",\"T. depresivos\",\"T. depresivos\",\"T. depresivos\",\"T. depresivos\",\"T. depresivos\",\"T. depresivos\",\"T. depresivos\",\"T. depresivos\",\"T. depresivos\",\"T. depresivos\",\"T. depresivos\",\"T. depresivos\",\"T. depresivos\",\"T. depresivos\",\"T. depresivos\",\"T. depresivos\",\"T. depresivos\",\"T. depresivos\",\"T. depresivos\",\"T. depresivos\",\"T. depresivos\",\"T. depresivos\",\"T. depresivos\",\"T. depresivos\",\"T. depresivos\",\"T. depresivos\",\"T. depresivos\",\"T. depresivos\",\"T. depresivos\",\"T. depresivos\",\"T. depresivos\",\"T. depresivos\",\"T. depresivos\",\"T. depresivos\",\"T. depresivos\",\"T. depresivos\",\"T. depresivos\",\"T. depresivos\",\"T. depresivos\",\"T. depresivos\",\"T. depresivos\",\"T. depresivos\",\"T. depresivos\",\"T. depresivos\",\"T. depresivos\",\"T. depresivos\",\"T. depresivos\",\"T. depresivos\",\"T. depresivos\",\"T. depresivos\",\"T. depresivos\",\"T. depresivos\",\"T. depresivos\",\"T. depresivos\",\"T. depresivos\",\"T. depresivos\",\"T. depresivos\",\"T. depresivos\",\"T. depresivos\",\"T. depresivos\",\"T. depresivos\",\"T. depresivos\",\"T. depresivos\",\"T. depresivos\",\"T. depresivos\",\"T. depresivos\",\"T. depresivos\",\"T. depresivos\",\"T. depresivos\",\"T. depresivos\",\"T. depresivos\",\"T. depresivos\",\"T. depresivos\"],\"xaxis\":\"x\",\"yaxis\":\"y\",\"type\":\"histogram\"}],                        {\"template\":{\"data\":{\"histogram2dcontour\":[{\"type\":\"histogram2dcontour\",\"colorbar\":{\"outlinewidth\":0,\"ticks\":\"\"},\"colorscale\":[[0.0,\"#0d0887\"],[0.1111111111111111,\"#46039f\"],[0.2222222222222222,\"#7201a8\"],[0.3333333333333333,\"#9c179e\"],[0.4444444444444444,\"#bd3786\"],[0.5555555555555556,\"#d8576b\"],[0.6666666666666666,\"#ed7953\"],[0.7777777777777778,\"#fb9f3a\"],[0.8888888888888888,\"#fdca26\"],[1.0,\"#f0f921\"]]}],\"choropleth\":[{\"type\":\"choropleth\",\"colorbar\":{\"outlinewidth\":0,\"ticks\":\"\"}}],\"histogram2d\":[{\"type\":\"histogram2d\",\"colorbar\":{\"outlinewidth\":0,\"ticks\":\"\"},\"colorscale\":[[0.0,\"#0d0887\"],[0.1111111111111111,\"#46039f\"],[0.2222222222222222,\"#7201a8\"],[0.3333333333333333,\"#9c179e\"],[0.4444444444444444,\"#bd3786\"],[0.5555555555555556,\"#d8576b\"],[0.6666666666666666,\"#ed7953\"],[0.7777777777777778,\"#fb9f3a\"],[0.8888888888888888,\"#fdca26\"],[1.0,\"#f0f921\"]]}],\"heatmap\":[{\"type\":\"heatmap\",\"colorbar\":{\"outlinewidth\":0,\"ticks\":\"\"},\"colorscale\":[[0.0,\"#0d0887\"],[0.1111111111111111,\"#46039f\"],[0.2222222222222222,\"#7201a8\"],[0.3333333333333333,\"#9c179e\"],[0.4444444444444444,\"#bd3786\"],[0.5555555555555556,\"#d8576b\"],[0.6666666666666666,\"#ed7953\"],[0.7777777777777778,\"#fb9f3a\"],[0.8888888888888888,\"#fdca26\"],[1.0,\"#f0f921\"]]}],\"contourcarpet\":[{\"type\":\"contourcarpet\",\"colorbar\":{\"outlinewidth\":0,\"ticks\":\"\"}}],\"contour\":[{\"type\":\"contour\",\"colorbar\":{\"outlinewidth\":0,\"ticks\":\"\"},\"colorscale\":[[0.0,\"#0d0887\"],[0.1111111111111111,\"#46039f\"],[0.2222222222222222,\"#7201a8\"],[0.3333333333333333,\"#9c179e\"],[0.4444444444444444,\"#bd3786\"],[0.5555555555555556,\"#d8576b\"],[0.6666666666666666,\"#ed7953\"],[0.7777777777777778,\"#fb9f3a\"],[0.8888888888888888,\"#fdca26\"],[1.0,\"#f0f921\"]]}],\"surface\":[{\"type\":\"surface\",\"colorbar\":{\"outlinewidth\":0,\"ticks\":\"\"},\"colorscale\":[[0.0,\"#0d0887\"],[0.1111111111111111,\"#46039f\"],[0.2222222222222222,\"#7201a8\"],[0.3333333333333333,\"#9c179e\"],[0.4444444444444444,\"#bd3786\"],[0.5555555555555556,\"#d8576b\"],[0.6666666666666666,\"#ed7953\"],[0.7777777777777778,\"#fb9f3a\"],[0.8888888888888888,\"#fdca26\"],[1.0,\"#f0f921\"]]}],\"mesh3d\":[{\"type\":\"mesh3d\",\"colorbar\":{\"outlinewidth\":0,\"ticks\":\"\"}}],\"scatter\":[{\"fillpattern\":{\"fillmode\":\"overlay\",\"size\":10,\"solidity\":0.2},\"type\":\"scatter\"}],\"parcoords\":[{\"type\":\"parcoords\",\"line\":{\"colorbar\":{\"outlinewidth\":0,\"ticks\":\"\"}}}],\"scatterpolargl\":[{\"type\":\"scatterpolargl\",\"marker\":{\"colorbar\":{\"outlinewidth\":0,\"ticks\":\"\"}}}],\"bar\":[{\"error_x\":{\"color\":\"#2a3f5f\"},\"error_y\":{\"color\":\"#2a3f5f\"},\"marker\":{\"line\":{\"color\":\"#E5ECF6\",\"width\":0.5},\"pattern\":{\"fillmode\":\"overlay\",\"size\":10,\"solidity\":0.2}},\"type\":\"bar\"}],\"scattergeo\":[{\"type\":\"scattergeo\",\"marker\":{\"colorbar\":{\"outlinewidth\":0,\"ticks\":\"\"}}}],\"scatterpolar\":[{\"type\":\"scatterpolar\",\"marker\":{\"colorbar\":{\"outlinewidth\":0,\"ticks\":\"\"}}}],\"histogram\":[{\"marker\":{\"pattern\":{\"fillmode\":\"overlay\",\"size\":10,\"solidity\":0.2}},\"type\":\"histogram\"}],\"scattergl\":[{\"type\":\"scattergl\",\"marker\":{\"colorbar\":{\"outlinewidth\":0,\"ticks\":\"\"}}}],\"scatter3d\":[{\"type\":\"scatter3d\",\"line\":{\"colorbar\":{\"outlinewidth\":0,\"ticks\":\"\"}},\"marker\":{\"colorbar\":{\"outlinewidth\":0,\"ticks\":\"\"}}}],\"scattermap\":[{\"type\":\"scattermap\",\"marker\":{\"colorbar\":{\"outlinewidth\":0,\"ticks\":\"\"}}}],\"scattermapbox\":[{\"type\":\"scattermapbox\",\"marker\":{\"colorbar\":{\"outlinewidth\":0,\"ticks\":\"\"}}}],\"scatterternary\":[{\"type\":\"scatterternary\",\"marker\":{\"colorbar\":{\"outlinewidth\":0,\"ticks\":\"\"}}}],\"scattercarpet\":[{\"type\":\"scattercarpet\",\"marker\":{\"colorbar\":{\"outlinewidth\":0,\"ticks\":\"\"}}}],\"carpet\":[{\"aaxis\":{\"endlinecolor\":\"#2a3f5f\",\"gridcolor\":\"white\",\"linecolor\":\"white\",\"minorgridcolor\":\"white\",\"startlinecolor\":\"#2a3f5f\"},\"baxis\":{\"endlinecolor\":\"#2a3f5f\",\"gridcolor\":\"white\",\"linecolor\":\"white\",\"minorgridcolor\":\"white\",\"startlinecolor\":\"#2a3f5f\"},\"type\":\"carpet\"}],\"table\":[{\"cells\":{\"fill\":{\"color\":\"#EBF0F8\"},\"line\":{\"color\":\"white\"}},\"header\":{\"fill\":{\"color\":\"#C8D4E3\"},\"line\":{\"color\":\"white\"}},\"type\":\"table\"}],\"barpolar\":[{\"marker\":{\"line\":{\"color\":\"#E5ECF6\",\"width\":0.5},\"pattern\":{\"fillmode\":\"overlay\",\"size\":10,\"solidity\":0.2}},\"type\":\"barpolar\"}],\"pie\":[{\"automargin\":true,\"type\":\"pie\"}]},\"layout\":{\"autotypenumbers\":\"strict\",\"colorway\":[\"#636efa\",\"#EF553B\",\"#00cc96\",\"#ab63fa\",\"#FFA15A\",\"#19d3f3\",\"#FF6692\",\"#B6E880\",\"#FF97FF\",\"#FECB52\"],\"font\":{\"color\":\"#2a3f5f\"},\"hovermode\":\"closest\",\"hoverlabel\":{\"align\":\"left\"},\"paper_bgcolor\":\"white\",\"plot_bgcolor\":\"#E5ECF6\",\"polar\":{\"bgcolor\":\"#E5ECF6\",\"angularaxis\":{\"gridcolor\":\"white\",\"linecolor\":\"white\",\"ticks\":\"\"},\"radialaxis\":{\"gridcolor\":\"white\",\"linecolor\":\"white\",\"ticks\":\"\"}},\"ternary\":{\"bgcolor\":\"#E5ECF6\",\"aaxis\":{\"gridcolor\":\"white\",\"linecolor\":\"white\",\"ticks\":\"\"},\"baxis\":{\"gridcolor\":\"white\",\"linecolor\":\"white\",\"ticks\":\"\"},\"caxis\":{\"gridcolor\":\"white\",\"linecolor\":\"white\",\"ticks\":\"\"}},\"coloraxis\":{\"colorbar\":{\"outlinewidth\":0,\"ticks\":\"\"}},\"colorscale\":{\"sequential\":[[0.0,\"#0d0887\"],[0.1111111111111111,\"#46039f\"],[0.2222222222222222,\"#7201a8\"],[0.3333333333333333,\"#9c179e\"],[0.4444444444444444,\"#bd3786\"],[0.5555555555555556,\"#d8576b\"],[0.6666666666666666,\"#ed7953\"],[0.7777777777777778,\"#fb9f3a\"],[0.8888888888888888,\"#fdca26\"],[1.0,\"#f0f921\"]],\"sequentialminus\":[[0.0,\"#0d0887\"],[0.1111111111111111,\"#46039f\"],[0.2222222222222222,\"#7201a8\"],[0.3333333333333333,\"#9c179e\"],[0.4444444444444444,\"#bd3786\"],[0.5555555555555556,\"#d8576b\"],[0.6666666666666666,\"#ed7953\"],[0.7777777777777778,\"#fb9f3a\"],[0.8888888888888888,\"#fdca26\"],[1.0,\"#f0f921\"]],\"diverging\":[[0,\"#8e0152\"],[0.1,\"#c51b7d\"],[0.2,\"#de77ae\"],[0.3,\"#f1b6da\"],[0.4,\"#fde0ef\"],[0.5,\"#f7f7f7\"],[0.6,\"#e6f5d0\"],[0.7,\"#b8e186\"],[0.8,\"#7fbc41\"],[0.9,\"#4d9221\"],[1,\"#276419\"]]},\"xaxis\":{\"gridcolor\":\"white\",\"linecolor\":\"white\",\"ticks\":\"\",\"title\":{\"standoff\":15},\"zerolinecolor\":\"white\",\"automargin\":true,\"zerolinewidth\":2},\"yaxis\":{\"gridcolor\":\"white\",\"linecolor\":\"white\",\"ticks\":\"\",\"title\":{\"standoff\":15},\"zerolinecolor\":\"white\",\"automargin\":true,\"zerolinewidth\":2},\"scene\":{\"xaxis\":{\"backgroundcolor\":\"#E5ECF6\",\"gridcolor\":\"white\",\"linecolor\":\"white\",\"showbackground\":true,\"ticks\":\"\",\"zerolinecolor\":\"white\",\"gridwidth\":2},\"yaxis\":{\"backgroundcolor\":\"#E5ECF6\",\"gridcolor\":\"white\",\"linecolor\":\"white\",\"showbackground\":true,\"ticks\":\"\",\"zerolinecolor\":\"white\",\"gridwidth\":2},\"zaxis\":{\"backgroundcolor\":\"#E5ECF6\",\"gridcolor\":\"white\",\"linecolor\":\"white\",\"showbackground\":true,\"ticks\":\"\",\"zerolinecolor\":\"white\",\"gridwidth\":2}},\"shapedefaults\":{\"line\":{\"color\":\"#2a3f5f\"}},\"annotationdefaults\":{\"arrowcolor\":\"#2a3f5f\",\"arrowhead\":0,\"arrowwidth\":1},\"geo\":{\"bgcolor\":\"white\",\"landcolor\":\"#E5ECF6\",\"subunitcolor\":\"white\",\"showland\":true,\"showlakes\":true,\"lakecolor\":\"white\"},\"title\":{\"x\":0.05},\"mapbox\":{\"style\":\"light\"}}},\"xaxis\":{\"anchor\":\"y\",\"domain\":[0.0,1.0],\"title\":{\"text\":\"GRUPO\"},\"categoryorder\":\"array\",\"categoryarray\":[\"T. externalizantes\",\"Otros trastornos\",\"T. de adaptaci\\u00f3n\",\"T. personalidad\",\"T. de ansiedad\",\"T. depresivos\"]},\"yaxis\":{\"anchor\":\"x\",\"domain\":[0.0,1.0],\"title\":{\"text\":\"count\"}},\"legend\":{\"title\":{\"text\":\"GRUPO\"},\"tracegroupgap\":0},\"title\":{\"text\":\"Distribuci\\u00f3n de Historias Cl\\u00ednicas por Grupo\"},\"barmode\":\"relative\"},                        {\"responsive\": true}                    )                };            </script>        </div>"
      ],
      "text/plain": [
       "Figure({\n",
       "    'data': [{'bingroup': 'x',\n",
       "              'hovertemplate': 'GRUPO=%{x}<br>count=%{y}<extra></extra>',\n",
       "              'legendgroup': 'T. externalizantes',\n",
       "              'marker': {'color': '#636efa', 'pattern': {'shape': ''}},\n",
       "              'name': 'T. externalizantes',\n",
       "              'orientation': 'v',\n",
       "              'showlegend': True,\n",
       "              'texttemplate': '%{value}',\n",
       "              'type': 'histogram',\n",
       "              'x': array(['T. externalizantes', 'T. externalizantes', 'T. externalizantes', ...,\n",
       "                          'T. externalizantes', 'T. externalizantes', 'T. externalizantes'],\n",
       "                         shape=(378,), dtype=object),\n",
       "              'xaxis': 'x',\n",
       "              'yaxis': 'y'},\n",
       "             {'bingroup': 'x',\n",
       "              'hovertemplate': 'GRUPO=%{x}<br>count=%{y}<extra></extra>',\n",
       "              'legendgroup': 'Otros trastornos',\n",
       "              'marker': {'color': '#EF553B', 'pattern': {'shape': ''}},\n",
       "              'name': 'Otros trastornos',\n",
       "              'orientation': 'v',\n",
       "              'showlegend': True,\n",
       "              'texttemplate': '%{value}',\n",
       "              'type': 'histogram',\n",
       "              'x': array(['Otros trastornos', 'Otros trastornos', 'Otros trastornos', ...,\n",
       "                          'Otros trastornos', 'Otros trastornos', 'Otros trastornos'],\n",
       "                         shape=(629,), dtype=object),\n",
       "              'xaxis': 'x',\n",
       "              'yaxis': 'y'},\n",
       "             {'bingroup': 'x',\n",
       "              'hovertemplate': 'GRUPO=%{x}<br>count=%{y}<extra></extra>',\n",
       "              'legendgroup': 'T. de adaptación',\n",
       "              'marker': {'color': '#00cc96', 'pattern': {'shape': ''}},\n",
       "              'name': 'T. de adaptación',\n",
       "              'orientation': 'v',\n",
       "              'showlegend': True,\n",
       "              'texttemplate': '%{value}',\n",
       "              'type': 'histogram',\n",
       "              'x': array(['T. de adaptación', 'T. de adaptación', 'T. de adaptación', ...,\n",
       "                          'T. de adaptación', 'T. de adaptación', 'T. de adaptación'],\n",
       "                         shape=(214,), dtype=object),\n",
       "              'xaxis': 'x',\n",
       "              'yaxis': 'y'},\n",
       "             {'bingroup': 'x',\n",
       "              'hovertemplate': 'GRUPO=%{x}<br>count=%{y}<extra></extra>',\n",
       "              'legendgroup': 'T. personalidad',\n",
       "              'marker': {'color': '#ab63fa', 'pattern': {'shape': ''}},\n",
       "              'name': 'T. personalidad',\n",
       "              'orientation': 'v',\n",
       "              'showlegend': True,\n",
       "              'texttemplate': '%{value}',\n",
       "              'type': 'histogram',\n",
       "              'x': array(['T. personalidad', 'T. personalidad', 'T. personalidad', ...,\n",
       "                          'T. personalidad', 'T. personalidad', 'T. personalidad'],\n",
       "                         shape=(313,), dtype=object),\n",
       "              'xaxis': 'x',\n",
       "              'yaxis': 'y'},\n",
       "             {'bingroup': 'x',\n",
       "              'hovertemplate': 'GRUPO=%{x}<br>count=%{y}<extra></extra>',\n",
       "              'legendgroup': 'T. de ansiedad',\n",
       "              'marker': {'color': '#FFA15A', 'pattern': {'shape': ''}},\n",
       "              'name': 'T. de ansiedad',\n",
       "              'orientation': 'v',\n",
       "              'showlegend': True,\n",
       "              'texttemplate': '%{value}',\n",
       "              'type': 'histogram',\n",
       "              'x': array(['T. de ansiedad', 'T. de ansiedad', 'T. de ansiedad', ...,\n",
       "                          'T. de ansiedad', 'T. de ansiedad', 'T. de ansiedad'],\n",
       "                         shape=(817,), dtype=object),\n",
       "              'xaxis': 'x',\n",
       "              'yaxis': 'y'},\n",
       "             {'bingroup': 'x',\n",
       "              'hovertemplate': 'GRUPO=%{x}<br>count=%{y}<extra></extra>',\n",
       "              'legendgroup': 'T. depresivos',\n",
       "              'marker': {'color': '#19d3f3', 'pattern': {'shape': ''}},\n",
       "              'name': 'T. depresivos',\n",
       "              'orientation': 'v',\n",
       "              'showlegend': True,\n",
       "              'texttemplate': '%{value}',\n",
       "              'type': 'histogram',\n",
       "              'x': array(['T. depresivos', 'T. depresivos', 'T. depresivos', ..., 'T. depresivos',\n",
       "                          'T. depresivos', 'T. depresivos'], shape=(649,), dtype=object),\n",
       "              'xaxis': 'x',\n",
       "              'yaxis': 'y'}],\n",
       "    'layout': {'barmode': 'relative',\n",
       "               'legend': {'title': {'text': 'GRUPO'}, 'tracegroupgap': 0},\n",
       "               'template': '...',\n",
       "               'title': {'text': 'Distribución de Historias Clínicas por Grupo'},\n",
       "               'xaxis': {'anchor': 'y',\n",
       "                         'categoryarray': [T. externalizantes, Otros trastornos,\n",
       "                                           T. de adaptación, T. personalidad, T. de\n",
       "                                           ansiedad, T. depresivos],\n",
       "                         'categoryorder': 'array',\n",
       "                         'domain': [0.0, 1.0],\n",
       "                         'title': {'text': 'GRUPO'}},\n",
       "               'yaxis': {'anchor': 'x', 'domain': [0.0, 1.0], 'title': {'text': 'count'}}}\n",
       "})"
      ]
     },
     "execution_count": 17,
     "metadata": {},
     "output_type": "execute_result"
    }
   ],
   "source": [
    "px.histogram(\n",
    "    historias_clinicas,\n",
    "    x=\"GRUPO\",\n",
    "    title=\"Distribución de Historias Clínicas por Grupo\",\n",
    "    color=\"GRUPO\",\n",
    "    text_auto=True\n",
    ")"
   ]
  },
  {
   "cell_type": "code",
   "execution_count": 18,
   "id": "9d53923e",
   "metadata": {},
   "outputs": [
    {
     "data": {
      "text/html": [
       "<div>\n",
       "<style scoped>\n",
       "    .dataframe tbody tr th:only-of-type {\n",
       "        vertical-align: middle;\n",
       "    }\n",
       "\n",
       "    .dataframe tbody tr th {\n",
       "        vertical-align: top;\n",
       "    }\n",
       "\n",
       "    .dataframe thead th {\n",
       "        text-align: right;\n",
       "    }\n",
       "</style>\n",
       "<table border=\"1\" class=\"dataframe\">\n",
       "  <thead>\n",
       "    <tr style=\"text-align: right;\">\n",
       "      <th></th>\n",
       "      <th>SEXO</th>\n",
       "      <th>EDAD</th>\n",
       "      <th>GRUPO</th>\n",
       "      <th>ESPECIALIDAD_MEDICA</th>\n",
       "      <th>SUBJETIVO</th>\n",
       "      <th>OBJETIVO</th>\n",
       "      <th>Concatenada</th>\n",
       "    </tr>\n",
       "  </thead>\n",
       "  <tbody>\n",
       "    <tr>\n",
       "      <th>0</th>\n",
       "      <td>Masculino</td>\n",
       "      <td>10</td>\n",
       "      <td>T. externalizantes</td>\n",
       "      <td>PSICOLOGÍA</td>\n",
       "      <td>None</td>\n",
       "      <td>None</td>\n",
       "      <td>None None</td>\n",
       "    </tr>\n",
       "    <tr>\n",
       "      <th>1</th>\n",
       "      <td>Femenino</td>\n",
       "      <td>38</td>\n",
       "      <td>Otros trastornos</td>\n",
       "      <td>PSICOLOGÍA</td>\n",
       "      <td>Paciente refiere: \"Me empezaron a dar como uno...</td>\n",
       "      <td>Paciente alerta, colaboradora con apariencia o...</td>\n",
       "      <td>Paciente refiere: \"Me empezaron a dar como uno...</td>\n",
       "    </tr>\n",
       "    <tr>\n",
       "      <th>2</th>\n",
       "      <td>Masculino</td>\n",
       "      <td>22</td>\n",
       "      <td>T. externalizantes</td>\n",
       "      <td>PSICOLOGÍA</td>\n",
       "      <td>Paciente refiere \"Me he sentido muy mal, en el...</td>\n",
       "      <td>Paciente a quien evaluó por primera vez, alert...</td>\n",
       "      <td>Paciente refiere \"Me he sentido muy mal, en el...</td>\n",
       "    </tr>\n",
       "    <tr>\n",
       "      <th>3</th>\n",
       "      <td>Masculino</td>\n",
       "      <td>9</td>\n",
       "      <td>Otros trastornos</td>\n",
       "      <td>PSICOLOGÍA</td>\n",
       "      <td>La madre refiere \"el viene por un acompañamien...</td>\n",
       "      <td>None</td>\n",
       "      <td>La madre refiere \"el viene por un acompañamien...</td>\n",
       "    </tr>\n",
       "    <tr>\n",
       "      <th>4</th>\n",
       "      <td>Masculino</td>\n",
       "      <td>28</td>\n",
       "      <td>Otros trastornos</td>\n",
       "      <td>PSICOLOGÍA</td>\n",
       "      <td>Paciente refiere \"Estas cosas que han pasado m...</td>\n",
       "      <td>Paciente quien evalúo por primera vez, alerta,...</td>\n",
       "      <td>Paciente refiere \"Estas cosas que han pasado m...</td>\n",
       "    </tr>\n",
       "    <tr>\n",
       "      <th>...</th>\n",
       "      <td>...</td>\n",
       "      <td>...</td>\n",
       "      <td>...</td>\n",
       "      <td>...</td>\n",
       "      <td>...</td>\n",
       "      <td>...</td>\n",
       "      <td>...</td>\n",
       "    </tr>\n",
       "    <tr>\n",
       "      <th>2995</th>\n",
       "      <td>Femenino</td>\n",
       "      <td>76</td>\n",
       "      <td>T. depresivos</td>\n",
       "      <td>PSICOLOGÍA</td>\n",
       "      <td>La paciente refiere: \"Gracias a Dios uno vivo ...</td>\n",
       "      <td>Paciente orientada en tiempo, lugar y persona,...</td>\n",
       "      <td>La paciente refiere: \"Gracias a Dios uno vivo ...</td>\n",
       "    </tr>\n",
       "    <tr>\n",
       "      <th>2996</th>\n",
       "      <td>Femenino</td>\n",
       "      <td>23</td>\n",
       "      <td>T. personalidad</td>\n",
       "      <td>PSICOLOGÍA</td>\n",
       "      <td>La paciente refiere: \"tomé la decisión de canc...</td>\n",
       "      <td>Paciente orientada en tiempo, lugar y persona,...</td>\n",
       "      <td>La paciente refiere: \"tomé la decisión de canc...</td>\n",
       "    </tr>\n",
       "    <tr>\n",
       "      <th>2997</th>\n",
       "      <td>Masculino</td>\n",
       "      <td>40</td>\n",
       "      <td>T. depresivos</td>\n",
       "      <td>PSICOLOGÍA</td>\n",
       "      <td>\"En septiembre del 2022 me tome un veneno porq...</td>\n",
       "      <td>Paciente quien evalúo por primera vez, orienta...</td>\n",
       "      <td>\"En septiembre del 2022 me tome un veneno porq...</td>\n",
       "    </tr>\n",
       "    <tr>\n",
       "      <th>2998</th>\n",
       "      <td>Femenino</td>\n",
       "      <td>23</td>\n",
       "      <td>T. de ansiedad</td>\n",
       "      <td>PSICOLOGÍA</td>\n",
       "      <td>La paciente refiere: \"la verdad no se, hace mu...</td>\n",
       "      <td>Paciente orientada en tiempo, lugar y persona,...</td>\n",
       "      <td>La paciente refiere: \"la verdad no se, hace mu...</td>\n",
       "    </tr>\n",
       "    <tr>\n",
       "      <th>2999</th>\n",
       "      <td>Masculino</td>\n",
       "      <td>29</td>\n",
       "      <td>T. de ansiedad</td>\n",
       "      <td>PSICOLOGÍA</td>\n",
       "      <td>El paciente refiere: \"yo ya llevo dos citas co...</td>\n",
       "      <td>Paciente orientado en tiempo, lugar y persona,...</td>\n",
       "      <td>El paciente refiere: \"yo ya llevo dos citas co...</td>\n",
       "    </tr>\n",
       "  </tbody>\n",
       "</table>\n",
       "<p>3000 rows × 7 columns</p>\n",
       "</div>"
      ],
      "text/plain": [
       "           SEXO  EDAD               GRUPO ESPECIALIDAD_MEDICA  \\\n",
       "0     Masculino    10  T. externalizantes          PSICOLOGÍA   \n",
       "1      Femenino    38    Otros trastornos          PSICOLOGÍA   \n",
       "2     Masculino    22  T. externalizantes          PSICOLOGÍA   \n",
       "3     Masculino     9    Otros trastornos          PSICOLOGÍA   \n",
       "4     Masculino    28    Otros trastornos          PSICOLOGÍA   \n",
       "...         ...   ...                 ...                 ...   \n",
       "2995   Femenino    76       T. depresivos          PSICOLOGÍA   \n",
       "2996   Femenino    23     T. personalidad          PSICOLOGÍA   \n",
       "2997  Masculino    40       T. depresivos          PSICOLOGÍA   \n",
       "2998   Femenino    23      T. de ansiedad          PSICOLOGÍA   \n",
       "2999  Masculino    29      T. de ansiedad          PSICOLOGÍA   \n",
       "\n",
       "                                              SUBJETIVO  \\\n",
       "0                                                  None   \n",
       "1     Paciente refiere: \"Me empezaron a dar como uno...   \n",
       "2     Paciente refiere \"Me he sentido muy mal, en el...   \n",
       "3     La madre refiere \"el viene por un acompañamien...   \n",
       "4     Paciente refiere \"Estas cosas que han pasado m...   \n",
       "...                                                 ...   \n",
       "2995  La paciente refiere: \"Gracias a Dios uno vivo ...   \n",
       "2996  La paciente refiere: \"tomé la decisión de canc...   \n",
       "2997  \"En septiembre del 2022 me tome un veneno porq...   \n",
       "2998  La paciente refiere: \"la verdad no se, hace mu...   \n",
       "2999  El paciente refiere: \"yo ya llevo dos citas co...   \n",
       "\n",
       "                                               OBJETIVO  \\\n",
       "0                                                  None   \n",
       "1     Paciente alerta, colaboradora con apariencia o...   \n",
       "2     Paciente a quien evaluó por primera vez, alert...   \n",
       "3                                                  None   \n",
       "4     Paciente quien evalúo por primera vez, alerta,...   \n",
       "...                                                 ...   \n",
       "2995  Paciente orientada en tiempo, lugar y persona,...   \n",
       "2996  Paciente orientada en tiempo, lugar y persona,...   \n",
       "2997  Paciente quien evalúo por primera vez, orienta...   \n",
       "2998  Paciente orientada en tiempo, lugar y persona,...   \n",
       "2999  Paciente orientado en tiempo, lugar y persona,...   \n",
       "\n",
       "                                            Concatenada  \n",
       "0                                             None None  \n",
       "1     Paciente refiere: \"Me empezaron a dar como uno...  \n",
       "2     Paciente refiere \"Me he sentido muy mal, en el...  \n",
       "3     La madre refiere \"el viene por un acompañamien...  \n",
       "4     Paciente refiere \"Estas cosas que han pasado m...  \n",
       "...                                                 ...  \n",
       "2995  La paciente refiere: \"Gracias a Dios uno vivo ...  \n",
       "2996  La paciente refiere: \"tomé la decisión de canc...  \n",
       "2997  \"En septiembre del 2022 me tome un veneno porq...  \n",
       "2998  La paciente refiere: \"la verdad no se, hace mu...  \n",
       "2999  El paciente refiere: \"yo ya llevo dos citas co...  \n",
       "\n",
       "[3000 rows x 7 columns]"
      ]
     },
     "execution_count": 18,
     "metadata": {},
     "output_type": "execute_result"
    }
   ],
   "source": [
    "historias_clinicas"
   ]
  }
 ],
 "metadata": {
  "kernelspec": {
   "display_name": "Proyecto_Final",
   "language": "python",
   "name": "python3"
  },
  "language_info": {
   "codemirror_mode": {
    "name": "ipython",
    "version": 3
   },
   "file_extension": ".py",
   "mimetype": "text/x-python",
   "name": "python",
   "nbconvert_exporter": "python",
   "pygments_lexer": "ipython3",
   "version": "3.11.9"
  }
 },
 "nbformat": 4,
 "nbformat_minor": 5
}
